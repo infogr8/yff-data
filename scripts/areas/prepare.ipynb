{
 "cells": [
  {
   "cell_type": "code",
   "execution_count": 82,
   "metadata": {},
   "outputs": [],
   "source": [
    "from pathlib import Path\n",
    "import pandas as pd\n",
    "import geopandas as gpd\n",
    "\n",
    "import shapely"
   ]
  },
  {
   "cell_type": "markdown",
   "metadata": {},
   "source": [
    "These are downloaded from https://geoportal.statistics.gov.uk/datasets/70a430114cf3436a84880f0969eaf283_0\n",
    "\n",
    "https://geoportal.statistics.gov.uk/search?q=Westminster_Parliamentary_Constituencies_Dec_2022_UK_BGC\n",
    "https://geoportal.statistics.gov.uk/search?q=Westminster%20Parliamentary%20Constituencies%20UK%20BGC\n",
    "\n",
    "https://services1.arcgis.com/ESMARspQHYMw9BZ9/arcgis/rest/services/Westminster_Parliamentary_Constituencies_Dec_2022_UK_BGC/FeatureServer\n",
    "\n",
    "\n",
    "https://services1.arcgis.com/ESMARspQHYMw9BZ9/ArcGIS/rest/services/Westminster_Parliamentary_Constituencies_Dec_2022_UK_BGC/FeatureServer/0"
   ]
  },
  {
   "cell_type": "code",
   "execution_count": null,
   "metadata": {},
   "outputs": [],
   "source": [
    "csv_url =    'https://stg-arcgisazurecdataprod1.az.arcgis.com/exportfiles-1559-19445/Westminster_Parliamentary_Constituencies_Dec_2022_UK_BGC_-4629094885293682949.csv?sv=2018-03-28&sr=b&sig=CSlhL5mC0AaukzNQsUu1qRjfUnjbdcknlZmWGkdZV9g%3D&se=2024-02-08T01%3A40%3A26Z&sp=r'"
   ]
  },
  {
   "cell_type": "code",
   "execution_count": null,
   "metadata": {},
   "outputs": [],
   "source": [
    "data = pd.read_csv(csv_url, usecols=['PCON22CD', 'PCON22NM'], index_col=['PCON22CD'])"
   ]
  },
  {
   "cell_type": "code",
   "execution_count": 86,
   "metadata": {},
   "outputs": [],
   "source": [
    "geojson_url = 'https://stg-arcgisazurecdataprod1.az.arcgis.com/exportfiles-1559-19445/Westminster_Parliamentary_Constituencies_Dec_2022_UK_BGC_7450510434469596417.geojson?sv=2018-03-28&sr=b&sig=7aBo7Z45VoYgrWtwpJw9B%2FjIwaneZiET6PFUc1%2B9E5g%3D&se=2024-02-22T23%3A41%3A07Z&sp=r'"
   ]
  },
  {
   "cell_type": "code",
   "execution_count": 87,
   "metadata": {},
   "outputs": [],
   "source": [
    "geo = (\n",
    "  gpd\n",
    "    .read_file(geojson_url, engine=\"pyogrio\")\n",
    "    .to_crs('EPSG:4326')\n",
    "    .query('PCON22CD.str.startswith(\"E\")')\n",
    "    .loc[:, ['PCON22CD', 'PCON22NM', 'geometry']]\n",
    ")\n",
    "geo.geometry = shapely.set_precision(geo.geometry, grid_size=0.00001)\n",
    "geo.crs = None"
   ]
  },
  {
   "cell_type": "code",
   "execution_count": 91,
   "metadata": {},
   "outputs": [],
   "source": [
    "OUTPUT_DIR = Path('../../src/_data/areas/')\n",
    "\n",
    "REF_DIR = OUTPUT_DIR / 'reference'\n",
    "REF_DIR.mkdir(parents=True, exist_ok=True)\n",
    "\n",
    "MAPS_DIR = OUTPUT_DIR / 'maps'\n",
    "MAPS_DIR.mkdir(parents=True, exist_ok=True)\n",
    "\n",
    "DATA_DIR = Path('../../src/generated/areas/constituency/_data/')\n",
    "DATA_DIR.mkdir(parents=True, exist_ok=True)"
   ]
  },
  {
   "cell_type": "code",
   "execution_count": 92,
   "metadata": {},
   "outputs": [],
   "source": [
    "pd.DataFrame(geo.loc[:, ['PCON22CD', 'PCON22NM']]).to_json(REF_DIR / 'pcon.json', orient='records')"
   ]
  },
  {
   "cell_type": "code",
   "execution_count": 93,
   "metadata": {},
   "outputs": [],
   "source": [
    "geo.to_file(MAPS_DIR / 'pcon.geojson', engine='fiona', driver='GeoJSON')"
   ]
  },
  {
   "cell_type": "code",
   "execution_count": null,
   "metadata": {},
   "outputs": [],
   "source": [
    "import json\n",
    "\n",
    "with open(MAPS_DIR / 'pcon.geojson') as geojson:\n",
    "    d = json.load(geojson) "
   ]
  },
  {
   "cell_type": "code",
   "execution_count": null,
   "metadata": {},
   "outputs": [],
   "source": [
    "res = {}\n",
    "for f in d['features']:\n",
    "    res[f['properties']['PCON22CD']] = {\n",
    "      \"type\": \"FeatureCollection\",\n",
    "      \"features\": [f]\n",
    "    }\n",
    "\n",
    "with open(DATA_DIR / 'map.json', 'w') as f:\n",
    "    json.dump(res, f)"
   ]
  },
  {
   "cell_type": "code",
   "execution_count": null,
   "metadata": {},
   "outputs": [],
   "source": []
  }
 ],
 "metadata": {
  "kernelspec": {
   "display_name": "yff-data-ansOWYcy",
   "language": "python",
   "name": "python3"
  },
  "language_info": {
   "codemirror_mode": {
    "name": "ipython",
    "version": 3
   },
   "file_extension": ".py",
   "mimetype": "text/x-python",
   "name": "python",
   "nbconvert_exporter": "python",
   "pygments_lexer": "ipython3",
   "version": "3.10.12"
  },
  "orig_nbformat": 4
 },
 "nbformat": 4,
 "nbformat_minor": 2
}
