{
 "cells": [
  {
   "cell_type": "code",
   "execution_count": 10,
   "metadata": {},
   "outputs": [],
   "source": [
    "import json\n",
    "from pathlib import Path\n",
    "import pandas as pd\n",
    "import geopandas as gpd"
   ]
  },
  {
   "cell_type": "code",
   "execution_count": 2,
   "metadata": {},
   "outputs": [],
   "source": [
    "ROOT = Path('../..')\n",
    "\n",
    "OUTPUT_DIR = ROOT / 'src/_data/areas/'\n",
    "\n",
    "REF_DIR = OUTPUT_DIR / 'reference'\n",
    "REF_DIR.mkdir(parents=True, exist_ok=True)\n",
    "\n",
    "MAPS_DIR = OUTPUT_DIR / 'maps'\n",
    "MAPS_DIR.mkdir(parents=True, exist_ok=True)\n",
    "\n",
    "DATA_DIR = ROOT / 'src/generated/areas/constituency/_data/'\n",
    "DATA_DIR.mkdir(parents=True, exist_ok=True)"
   ]
  },
  {
   "cell_type": "code",
   "execution_count": 3,
   "metadata": {},
   "outputs": [],
   "source": [
    "geo = gpd.read_file(ROOT / \"working/upstream/uk-constituencies-2024.geojson\").query('PCON24CD.str.startswith(\"E\")')\n",
    "geo.crs = None"
   ]
  },
  {
   "cell_type": "code",
   "execution_count": 24,
   "metadata": {},
   "outputs": [],
   "source": [
    "mapping = pd.read_csv(ROOT / \"working/upstream/uk-constituencies-2024-changes.csv\").query('PCON24CD.notna()').set_index('PCON24CD')[['PCON21CD']]"
   ]
  },
  {
   "cell_type": "code",
   "execution_count": 27,
   "metadata": {},
   "outputs": [],
   "source": [
    "geo.loc[:, ['PCON24CD', 'PCON24NM']].set_index('PCON24CD').join(mapping).reset_index().to_json(REF_DIR / 'pcon.json', orient='records')"
   ]
  },
  {
   "cell_type": "code",
   "execution_count": 17,
   "metadata": {},
   "outputs": [],
   "source": [
    "geo.to_file(MAPS_DIR / 'pcon.geojson', coordinate_precision=5)"
   ]
  },
  {
   "cell_type": "code",
   "execution_count": 7,
   "metadata": {},
   "outputs": [],
   "source": [
    "with open(MAPS_DIR / 'pcon.geojson') as geojson:\n",
    "    d = json.load(geojson) "
   ]
  },
  {
   "cell_type": "code",
   "execution_count": 9,
   "metadata": {},
   "outputs": [],
   "source": [
    "res = {}\n",
    "for f in d['features']:\n",
    "    res[f['properties']['PCON24CD']] = {\n",
    "      \"type\": \"FeatureCollection\",\n",
    "      \"features\": [f]\n",
    "    }\n",
    "\n",
    "with open(DATA_DIR / 'map.json', 'w') as f:\n",
    "    json.dump(res, f)"
   ]
  },
  {
   "cell_type": "code",
   "execution_count": null,
   "metadata": {},
   "outputs": [],
   "source": []
  }
 ],
 "metadata": {
  "kernelspec": {
   "display_name": "yff-data-ansOWYcy",
   "language": "python",
   "name": "python3"
  },
  "language_info": {
   "codemirror_mode": {
    "name": "ipython",
    "version": 3
   },
   "file_extension": ".py",
   "mimetype": "text/x-python",
   "name": "python",
   "nbconvert_exporter": "python",
   "pygments_lexer": "ipython3",
   "version": "3.10.12"
  },
  "orig_nbformat": 4
 },
 "nbformat": 4,
 "nbformat_minor": 2
}
