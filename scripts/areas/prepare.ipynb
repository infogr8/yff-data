{
 "cells": [
  {
   "cell_type": "code",
   "execution_count": 1,
   "metadata": {},
   "outputs": [],
   "source": [
    "from pathlib import Path\n",
    "import pandas as pd\n"
   ]
  },
  {
   "cell_type": "code",
   "execution_count": 2,
   "metadata": {},
   "outputs": [],
   "source": [
    "csv_url =    'https://stg-arcgisazurecdataprod1.az.arcgis.com/exportfiles-1559-19445/Westminster_Parliamentary_Constituencies_Dec_2022_UK_BGC_-4629094885293682949.csv?sv=2018-03-28&sr=b&sig=CSlhL5mC0AaukzNQsUu1qRjfUnjbdcknlZmWGkdZV9g%3D&se=2024-02-08T01%3A40%3A26Z&sp=r'"
   ]
  },
  {
   "cell_type": "code",
   "execution_count": 3,
   "metadata": {},
   "outputs": [],
   "source": [
    "data = pd.read_csv(csv_url, usecols=['PCON22CD', 'PCON22NM'], index_col=['PCON22CD'])"
   ]
  },
  {
   "cell_type": "code",
   "execution_count": 4,
   "metadata": {},
   "outputs": [],
   "source": [
    "OUTPUT_DIR = Path('../../src/_data/areas/')\n",
    "REF_DIR = OUTPUT_DIR.joinpath('reference')\n",
    "\n",
    "REF_DIR.mkdir(parents=True, exist_ok=True)"
   ]
  },
  {
   "cell_type": "code",
   "execution_count": 11,
   "metadata": {},
   "outputs": [],
   "source": [
    "data.query('PCON22CD.str.startswith(\"E\")').reset_index().to_json(REF_DIR / 'pcon.json', orient='records')"
   ]
  },
  {
   "cell_type": "code",
   "execution_count": null,
   "metadata": {},
   "outputs": [],
   "source": []
  }
 ],
 "metadata": {
  "kernelspec": {
   "display_name": "yff-data-ansOWYcy",
   "language": "python",
   "name": "python3"
  },
  "language_info": {
   "codemirror_mode": {
    "name": "ipython",
    "version": 3
   },
   "file_extension": ".py",
   "mimetype": "text/x-python",
   "name": "python",
   "nbconvert_exporter": "python",
   "pygments_lexer": "ipython3",
   "version": "3.10.12"
  },
  "orig_nbformat": 4
 },
 "nbformat": 4,
 "nbformat_minor": 2
}
