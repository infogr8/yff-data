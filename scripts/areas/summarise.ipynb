{
 "cells": [
  {
   "cell_type": "code",
   "execution_count": 25,
   "metadata": {},
   "outputs": [],
   "source": [
    "import json\n",
    "import math\n",
    "import pandas as pd"
   ]
  },
  {
   "cell_type": "markdown",
   "metadata": {},
   "source": [
    "What we're aiming for is something like this\n",
    "\n",
    "```json\n",
    "{\n",
    "  \"E14999999\":{\n",
    "    \"name\": \"Fake news\",\n",
    "    \"code\": \"E14999999\",\n",
    "    \"description\": \"This constituency is great!\",\n",
    "    \"headlines\": [\n",
    "      {\"value\":1,\"name\":\"People\"},\n",
    "      {\"value\":1,\"name\":\"People\"},\n",
    "      {\"value\":1,\"name\":\"People\"},\n",
    "      {\"value\":1,\"name\":\"People\"}\n",
    "    ],\n",
    "\t\t\"similar\": { \"People\": 4 },\n",
    "\t\t\"leastsimilar\": { \"People\": 1000 },\n",
    "\t\t\"neet\": {\n",
    "\t\t\t\"something\": [34,56,24,19,25],\n",
    "\t\t\t\"another\": {}\n",
    "\t\t},\n",
    "\t\t\"employment\": {\n",
    "\t\t\t\n",
    "\t\t}\n",
    "\t}\n",
    "}\n",
    "```"
   ]
  },
  {
   "cell_type": "code",
   "execution_count": 26,
   "metadata": {},
   "outputs": [],
   "source": [
    "descriptions=pd.read_csv('../../data/reference/constituency-descriptions.csv', index_col='PCON22CD').fillna('')"
   ]
  },
  {
   "cell_type": "code",
   "execution_count": 27,
   "metadata": {},
   "outputs": [],
   "source": [
    "pcons=pd.read_json('../../src/_data/areas/reference/pcon.json')"
   ]
  },
  {
   "cell_type": "code",
   "execution_count": 28,
   "metadata": {},
   "outputs": [],
   "source": [
    "summary=pd.merge(pcons, descriptions, how='left', left_on='PCON22CD', right_index=True).set_index('PCON22CD')\n",
    "\n",
    "summary.rename(columns={ 'PCON22NM': 'name'}, inplace=True)\n",
    "summary.rename(columns=lambda x: x.lower(), inplace=True)"
   ]
  },
  {
   "cell_type": "code",
   "execution_count": 29,
   "metadata": {},
   "outputs": [],
   "source": [
    "summary = summary.to_dict(orient='index')"
   ]
  },
  {
   "cell_type": "code",
   "execution_count": 30,
   "metadata": {},
   "outputs": [],
   "source": [
    "headlines = pd.read_csv('../../data/area/pcon/headlines.csv', index_col='PCON22CD')"
   ]
  },
  {
   "cell_type": "code",
   "execution_count": 31,
   "metadata": {},
   "outputs": [],
   "source": [
    "for s in summary:\n",
    "    summary[s]['headlines'] = [\n",
    "        { 'h': headline_name, 'v': '' if math.isnan(headline_value) else headline_value }\n",
    "        for headline_name, headline_value\n",
    "        in headlines.loc[s, :].items()\n",
    "    ]\n",
    "    '''Do this for all other things...'''"
   ]
  },
  {
   "cell_type": "code",
   "execution_count": 32,
   "metadata": {},
   "outputs": [],
   "source": [
    "with open('../../src/generated/areas/constituency/_data/summary.json', 'w') as f:\n",
    "    json.dump(summary, f, indent=2)"
   ]
  },
  {
   "cell_type": "code",
   "execution_count": null,
   "metadata": {},
   "outputs": [],
   "source": []
  },
  {
   "cell_type": "code",
   "execution_count": null,
   "metadata": {},
   "outputs": [],
   "source": []
  }
 ],
 "metadata": {
  "kernelspec": {
   "display_name": "yff-data-ansOWYcy",
   "language": "python",
   "name": "python3"
  },
  "language_info": {
   "codemirror_mode": {
    "name": "ipython",
    "version": 3
   },
   "file_extension": ".py",
   "mimetype": "text/x-python",
   "name": "python",
   "nbconvert_exporter": "python",
   "pygments_lexer": "ipython3",
   "version": "3.10.12"
  },
  "orig_nbformat": 4
 },
 "nbformat": 4,
 "nbformat_minor": 2
}
