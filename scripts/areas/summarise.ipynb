{
 "cells": [
  {
   "cell_type": "code",
   "execution_count": 191,
   "metadata": {},
   "outputs": [],
   "source": [
    "import json\n",
    "import math\n",
    "import pandas as pd"
   ]
  },
  {
   "cell_type": "markdown",
   "metadata": {},
   "source": [
    "What we're aiming for is something like this\n",
    "\n",
    "```json\n",
    "{\n",
    "  \"E14999999\":{\n",
    "    \"name\": \"Fake news\",\n",
    "    \"code\": \"E14999999\",\n",
    "    \"description\": \"This constituency is great!\",\n",
    "    \"headlines\": [\n",
    "      {\"value\":1,\"name\":\"People\"},\n",
    "      {\"value\":1,\"name\":\"People\"},\n",
    "      {\"value\":1,\"name\":\"People\"},\n",
    "      {\"value\":1,\"name\":\"People\"}\n",
    "    ],\n",
    "\t\t\"similar\": { \"People\": 4 },\n",
    "\t\t\"leastsimilar\": { \"People\": 1000 },\n",
    "\t\t\"neet\": {\n",
    "\t\t\t\"something\": [34,56,24,19,25],\n",
    "\t\t\t\"another\": {}\n",
    "\t\t},\n",
    "\t\t\"employment\": {\n",
    "\t\t\t\n",
    "\t\t}\n",
    "\t}\n",
    "}\n",
    "```"
   ]
  },
  {
   "cell_type": "code",
   "execution_count": 192,
   "metadata": {},
   "outputs": [],
   "source": [
    "descriptions=pd.read_csv('../../data/reference/constituency-descriptions.csv', index_col='PCON22CD').fillna('')"
   ]
  },
  {
   "cell_type": "code",
   "execution_count": 193,
   "metadata": {},
   "outputs": [],
   "source": [
    "pcons=pd.read_json('../../src/_data/areas/reference/pcon.json')"
   ]
  },
  {
   "cell_type": "code",
   "execution_count": 194,
   "metadata": {},
   "outputs": [],
   "source": [
    "summary=pd.merge(pcons, descriptions, how='left', left_on='PCON22CD', right_index=True).set_index('PCON22CD')\n",
    "\n",
    "summary.rename(columns={ 'PCON22NM': 'name'}, inplace=True)\n",
    "summary.rename(columns=lambda x: x.lower(), inplace=True)"
   ]
  },
  {
   "cell_type": "code",
   "execution_count": 195,
   "metadata": {},
   "outputs": [],
   "source": [
    "summary = summary.to_dict(orient='index')"
   ]
  },
  {
   "cell_type": "code",
   "execution_count": 196,
   "metadata": {},
   "outputs": [],
   "source": [
    "headlines = pd.read_csv('../../data/area/pcon/headlines.csv', index_col='PCON22CD')\n",
    "econ_inactive = pd.read_csv('../../data/area/pcon/econ_inactive_16-24_last_3_years.csv', index_col='PCON22CD')\n",
    "unemployment = pd.read_csv('../../data/area/pcon/youth_unem_16-24_last_3_years.csv', index_col='PCON22CD')\n",
    "economic_activity_16_19 = pd.read_csv('../../data/area/pcon/econ_active_16-19_last_3_years.csv', index_col='PCON22CD')\n",
    "economic_activity_20_24 = pd.read_csv('../../data/area/pcon/econ_active_20-24_last_3_years.csv', index_col='PCON22CD')"
   ]
  },
  {
   "cell_type": "code",
   "execution_count": 197,
   "metadata": {},
   "outputs": [],
   "source": [
    "for s in summary:\n",
    "    suffix = headlines.loc[s, :].Suffix\n",
    "    summary[s]['headlines'] = [\n",
    "        { 'h': headline_name, 'v': headline_value, 'suffix': suffix }\n",
    "        for headline_name, headline_value\n",
    "        in headlines.loc[s, :].drop(labels=\"Suffix\").items()\n",
    "        ]\n",
    "    try: \n",
    "        summary[s]['economic_inactivity'] = [\n",
    "            { 'year': date_name, 'value': value }\n",
    "            for date_name, value\n",
    "            in econ_inactive.loc[s,:].items()\n",
    "        ]\n",
    "        # summary[s]['economic_activity_16_19'] = [\n",
    "        #     { 'year': date_name, 'value': value }\n",
    "        #     for date_name, value\n",
    "        #     in economic_activity_16_19.loc[s,:].items()\n",
    "        # ]\n",
    "        # summary[s]['economic_activity_20_24'] = [\n",
    "        #     { 'year': date_name, 'value': value }\n",
    "        #     for date_name, value\n",
    "        #     in economic_activity_20_24.loc[s,:].items()\n",
    "        # ]\n",
    "    except: \n",
    "        print(f'No data found for constituency: {s}')\n",
    "    \n",
    "    '''Do this for all other things...'''"
   ]
  },
  {
   "cell_type": "code",
   "execution_count": null,
   "metadata": {},
   "outputs": [],
   "source": []
  },
  {
   "cell_type": "code",
   "execution_count": 198,
   "metadata": {},
   "outputs": [],
   "source": [
    "with open('../../src/generated/areas/constituency/_data/summary.json', 'w') as f:\n",
    "    json.dump(summary, f, indent=2)"
   ]
  },
  {
   "cell_type": "code",
   "execution_count": null,
   "metadata": {},
   "outputs": [],
   "source": []
  },
  {
   "cell_type": "code",
   "execution_count": null,
   "metadata": {},
   "outputs": [],
   "source": []
  }
 ],
 "metadata": {
  "kernelspec": {
   "display_name": "yff-data-ansOWYcy",
   "language": "python",
   "name": "python3"
  },
  "language_info": {
   "codemirror_mode": {
    "name": "ipython",
    "version": 3
   },
   "file_extension": ".py",
   "mimetype": "text/x-python",
   "name": "python",
   "nbconvert_exporter": "python",
   "pygments_lexer": "ipython3",
   "version": "3.10.8"
  },
  "orig_nbformat": 4
 },
 "nbformat": 4,
 "nbformat_minor": 2
}
