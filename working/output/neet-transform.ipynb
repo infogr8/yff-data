{
 "cells": [
  {
   "cell_type": "code",
   "execution_count": 1,
   "id": "dbbaed0c",
   "metadata": {
    "execution": {
     "iopub.execute_input": "2025-05-13T08:26:32.860349Z",
     "iopub.status.busy": "2025-05-13T08:26:32.859905Z",
     "iopub.status.idle": "2025-05-13T08:26:33.168205Z",
     "shell.execute_reply": "2025-05-13T08:26:33.167550Z"
    },
    "papermill": {
     "duration": 0.313522,
     "end_time": "2025-05-13T08:26:33.169886",
     "exception": false,
     "start_time": "2025-05-13T08:26:32.856364",
     "status": "completed"
    },
    "tags": []
   },
   "outputs": [],
   "source": [
    "import os\n",
    "import sys\n",
    "import pandas as pd\n",
    "\n",
    "LIB_DIR = '../../'\n",
    "if LIB_DIR not in sys.path:\n",
    "    sys.path.append(LIB_DIR)"
   ]
  },
  {
   "cell_type": "code",
   "execution_count": 2,
   "id": "5c29d253",
   "metadata": {
    "execution": {
     "iopub.execute_input": "2025-05-13T08:26:33.175280Z",
     "iopub.status.busy": "2025-05-13T08:26:33.174978Z",
     "iopub.status.idle": "2025-05-13T08:26:33.179144Z",
     "shell.execute_reply": "2025-05-13T08:26:33.178591Z"
    },
    "papermill": {
     "duration": 0.008226,
     "end_time": "2025-05-13T08:26:33.180474",
     "exception": false,
     "start_time": "2025-05-13T08:26:33.172248",
     "status": "completed"
    },
    "tags": []
   },
   "outputs": [],
   "source": [
    "from scripts.util.date import quarter_to_date"
   ]
  },
  {
   "cell_type": "code",
   "execution_count": 3,
   "id": "7656674c",
   "metadata": {
    "execution": {
     "iopub.execute_input": "2025-05-13T08:26:33.185496Z",
     "iopub.status.busy": "2025-05-13T08:26:33.185139Z",
     "iopub.status.idle": "2025-05-13T08:26:33.188611Z",
     "shell.execute_reply": "2025-05-13T08:26:33.188081Z"
    },
    "papermill": {
     "duration": 0.00746,
     "end_time": "2025-05-13T08:26:33.189883",
     "exception": false,
     "start_time": "2025-05-13T08:26:33.182423",
     "status": "completed"
    },
    "tags": []
   },
   "outputs": [],
   "source": [
    "NEET_DATA = '../../working/upstream/neet.csv'\n",
    "ALL_METADATA = '../../working/upstream/metadata.csv'\n",
    "NEET_16_24 = '../../data/neet/neet.csv'\n",
    "NEET_METADATA = '../../data/neet/metadata.json'\n",
    "\n",
    "os.makedirs(os.path.dirname(NEET_16_24), exist_ok=True)"
   ]
  },
  {
   "cell_type": "code",
   "execution_count": 4,
   "id": "29f59f30",
   "metadata": {
    "execution": {
     "iopub.execute_input": "2025-05-13T08:26:33.194830Z",
     "iopub.status.busy": "2025-05-13T08:26:33.194387Z",
     "iopub.status.idle": "2025-05-13T08:26:33.202719Z",
     "shell.execute_reply": "2025-05-13T08:26:33.202080Z"
    },
    "papermill": {
     "duration": 0.012376,
     "end_time": "2025-05-13T08:26:33.204257",
     "exception": false,
     "start_time": "2025-05-13T08:26:33.191881",
     "status": "completed"
    },
    "tags": []
   },
   "outputs": [],
   "source": [
    "data = pd.read_csv('../../working/upstream/neet.csv')"
   ]
  },
  {
   "cell_type": "code",
   "execution_count": 5,
   "id": "472270fa",
   "metadata": {
    "execution": {
     "iopub.execute_input": "2025-05-13T08:26:33.209153Z",
     "iopub.status.busy": "2025-05-13T08:26:33.208773Z",
     "iopub.status.idle": "2025-05-13T08:26:33.212025Z",
     "shell.execute_reply": "2025-05-13T08:26:33.211409Z"
    },
    "papermill": {
     "duration": 0.007383,
     "end_time": "2025-05-13T08:26:33.213646",
     "exception": false,
     "start_time": "2025-05-13T08:26:33.206263",
     "status": "completed"
    },
    "tags": []
   },
   "outputs": [],
   "source": [
    "variable_mapper = {\n",
    "    'Young people who were NEET_Total': 'age_16_to_24_neet_total_sa',\n",
    "    'Young people who were NEET_Unemployed': 'age_16_to_24_neet_unemployed_sa',\n",
    "    'Young people who were NEET_Economically inactive': 'age_16_to_24_neet_economically_inactive_sa',\n",
    "    'Total people in relevant population group': 'age_16_to_24_population',\n",
    "    'People who were NEET as a percentage of people in relevant population group': 'age_16_to_24_neet_total_rate_sa',\n",
    "}"
   ]
  },
  {
   "cell_type": "code",
   "execution_count": 6,
   "id": "ec556ef8",
   "metadata": {
    "execution": {
     "iopub.execute_input": "2025-05-13T08:26:33.222226Z",
     "iopub.status.busy": "2025-05-13T08:26:33.221685Z",
     "iopub.status.idle": "2025-05-13T08:26:33.226508Z",
     "shell.execute_reply": "2025-05-13T08:26:33.225735Z"
    },
    "papermill": {
     "duration": 0.010969,
     "end_time": "2025-05-13T08:26:33.228222",
     "exception": false,
     "start_time": "2025-05-13T08:26:33.217253",
     "status": "completed"
    },
    "tags": []
   },
   "outputs": [],
   "source": [
    "data = data[data.age == 'Aged 16-24']"
   ]
  },
  {
   "cell_type": "code",
   "execution_count": 7,
   "id": "5216771f",
   "metadata": {
    "execution": {
     "iopub.execute_input": "2025-05-13T08:26:33.236780Z",
     "iopub.status.busy": "2025-05-13T08:26:33.236151Z",
     "iopub.status.idle": "2025-05-13T08:26:33.241796Z",
     "shell.execute_reply": "2025-05-13T08:26:33.241199Z"
    },
    "papermill": {
     "duration": 0.01272,
     "end_time": "2025-05-13T08:26:33.243470",
     "exception": false,
     "start_time": "2025-05-13T08:26:33.230750",
     "status": "completed"
    },
    "tags": []
   },
   "outputs": [],
   "source": [
    "data = data.replace({\n",
    "  'measure': variable_mapper\n",
    "})"
   ]
  },
  {
   "cell_type": "code",
   "execution_count": 8,
   "id": "52d3db0b",
   "metadata": {
    "execution": {
     "iopub.execute_input": "2025-05-13T08:26:33.252031Z",
     "iopub.status.busy": "2025-05-13T08:26:33.251646Z",
     "iopub.status.idle": "2025-05-13T08:26:33.261533Z",
     "shell.execute_reply": "2025-05-13T08:26:33.260972Z"
    },
    "papermill": {
     "duration": 0.015714,
     "end_time": "2025-05-13T08:26:33.262830",
     "exception": false,
     "start_time": "2025-05-13T08:26:33.247116",
     "status": "completed"
    },
    "tags": []
   },
   "outputs": [],
   "source": [
    "data['quarter_start'] = pd.Index(data.date.pipe(quarter_to_date))\n",
    "data['variable'] = data.sheet.str.split(' - ').apply(lambda x: x[0]).str.lower() + '_' + data.measure"
   ]
  },
  {
   "cell_type": "code",
   "execution_count": 9,
   "id": "f4830bca",
   "metadata": {
    "execution": {
     "iopub.execute_input": "2025-05-13T08:26:33.268185Z",
     "iopub.status.busy": "2025-05-13T08:26:33.267752Z",
     "iopub.status.idle": "2025-05-13T08:26:33.276738Z",
     "shell.execute_reply": "2025-05-13T08:26:33.276230Z"
    },
    "papermill": {
     "duration": 0.013065,
     "end_time": "2025-05-13T08:26:33.278034",
     "exception": false,
     "start_time": "2025-05-13T08:26:33.264969",
     "status": "completed"
    },
    "tags": []
   },
   "outputs": [],
   "source": [
    "data = data.pivot_table(index='quarter_start', columns='variable', values='value')"
   ]
  },
  {
   "cell_type": "code",
   "execution_count": 10,
   "id": "16fee814",
   "metadata": {
    "execution": {
     "iopub.execute_input": "2025-05-13T08:26:33.283468Z",
     "iopub.status.busy": "2025-05-13T08:26:33.283241Z",
     "iopub.status.idle": "2025-05-13T08:26:33.289997Z",
     "shell.execute_reply": "2025-05-13T08:26:33.289381Z"
    },
    "papermill": {
     "duration": 0.010968,
     "end_time": "2025-05-13T08:26:33.291275",
     "exception": false,
     "start_time": "2025-05-13T08:26:33.280307",
     "status": "completed"
    },
    "tags": []
   },
   "outputs": [],
   "source": [
    "def calculate_rates(data, prefix):\n",
    "    data[prefix + '_age_16_to_24_neet_unemployed_rate_sa'] = data[prefix + '_age_16_to_24_neet_unemployed_sa'] / data[prefix + '_age_16_to_24_population'] * 100\n",
    "    data[prefix + '_age_16_to_24_neet_economically_inactive_rate_sa'] = data[prefix + '_age_16_to_24_neet_economically_inactive_sa'] / data[prefix + '_age_16_to_24_population'] * 100\n",
    "    return data\n",
    "  \n",
    "data = data.pipe(\n",
    "    calculate_rates, 'people'\n",
    ").pipe(\n",
    "    calculate_rates, 'men'\n",
    ").pipe(\n",
    "    calculate_rates, 'women'\n",
    ")\n"
   ]
  },
  {
   "cell_type": "code",
   "execution_count": 11,
   "id": "4b81168a",
   "metadata": {
    "execution": {
     "iopub.execute_input": "2025-05-13T08:26:33.296603Z",
     "iopub.status.busy": "2025-05-13T08:26:33.296400Z",
     "iopub.status.idle": "2025-05-13T08:26:33.303548Z",
     "shell.execute_reply": "2025-05-13T08:26:33.302870Z"
    },
    "papermill": {
     "duration": 0.011404,
     "end_time": "2025-05-13T08:26:33.304865",
     "exception": false,
     "start_time": "2025-05-13T08:26:33.293461",
     "status": "completed"
    },
    "tags": []
   },
   "outputs": [],
   "source": [
    "column_order = [\n",
    "  'people_age_16_to_24_neet_total_sa',\n",
    "  'people_age_16_to_24_neet_unemployed_sa',\n",
    "  'people_age_16_to_24_neet_economically_inactive_sa',\n",
    "  'people_age_16_to_24_population',\n",
    "  'people_age_16_to_24_neet_total_rate_sa',\n",
    "  'people_age_16_to_24_neet_unemployed_rate_sa',\n",
    "  'people_age_16_to_24_neet_economically_inactive_rate_sa',\n",
    "  'men_age_16_to_24_neet_total_sa',\n",
    "  'men_age_16_to_24_neet_unemployed_sa',\n",
    "  'men_age_16_to_24_neet_economically_inactive_sa',\n",
    "  'men_age_16_to_24_population',\n",
    "  'men_age_16_to_24_neet_total_rate_sa',\n",
    "  'men_age_16_to_24_neet_unemployed_rate_sa',\n",
    "  'men_age_16_to_24_neet_economically_inactive_rate_sa',\n",
    "  'women_age_16_to_24_neet_total_sa',\n",
    "  'women_age_16_to_24_neet_unemployed_sa',\n",
    "  'women_age_16_to_24_neet_economically_inactive_sa',\n",
    "  'women_age_16_to_24_population',\n",
    "  'women_age_16_to_24_neet_total_rate_sa',\n",
    "  'women_age_16_to_24_neet_unemployed_rate_sa',\n",
    "  'women_age_16_to_24_neet_economically_inactive_rate_sa'\n",
    "]\n",
    "\n",
    "data.loc[:, column_order].to_csv(NEET_16_24)"
   ]
  },
  {
   "cell_type": "code",
   "execution_count": 12,
   "id": "fbdce1f1",
   "metadata": {
    "execution": {
     "iopub.execute_input": "2025-05-13T08:26:33.310559Z",
     "iopub.status.busy": "2025-05-13T08:26:33.309992Z",
     "iopub.status.idle": "2025-05-13T08:26:33.322837Z",
     "shell.execute_reply": "2025-05-13T08:26:33.322268Z"
    },
    "papermill": {
     "duration": 0.017102,
     "end_time": "2025-05-13T08:26:33.324176",
     "exception": false,
     "start_time": "2025-05-13T08:26:33.307074",
     "status": "completed"
    },
    "tags": []
   },
   "outputs": [
    {
     "data": {
      "text/plain": [
       "id                     object\n",
       "last_update    datetime64[ns]\n",
       "next_update            object\n",
       "dtype: object"
      ]
     },
     "execution_count": 12,
     "metadata": {},
     "output_type": "execute_result"
    }
   ],
   "source": [
    "metadata = pd.read_csv(ALL_METADATA, parse_dates=['last_update', 'next_update'])\n",
    "metadata.set_index(\n",
    "    'id'\n",
    ").rename(\n",
    "    columns={\n",
    "        'last_update': 'published'\n",
    "    }\n",
    ").loc['NEET'].to_json(NEET_METADATA, date_format='iso')\n",
    "\n",
    "metadata.dtypes\n"
   ]
  },
  {
   "cell_type": "code",
   "execution_count": null,
   "id": "2d9daaf3",
   "metadata": {
    "papermill": {
     "duration": 0.002345,
     "end_time": "2025-05-13T08:26:33.328909",
     "exception": false,
     "start_time": "2025-05-13T08:26:33.326564",
     "status": "completed"
    },
    "tags": []
   },
   "outputs": [],
   "source": []
  },
  {
   "cell_type": "code",
   "execution_count": null,
   "id": "e769e605",
   "metadata": {
    "papermill": {
     "duration": 0.002212,
     "end_time": "2025-05-13T08:26:33.333395",
     "exception": false,
     "start_time": "2025-05-13T08:26:33.331183",
     "status": "completed"
    },
    "tags": []
   },
   "outputs": [],
   "source": []
  }
 ],
 "metadata": {
  "kernelspec": {
   "display_name": "yff-data-ansOWYcy",
   "language": "python",
   "name": "python3"
  },
  "language_info": {
   "codemirror_mode": {
    "name": "ipython",
    "version": 3
   },
   "file_extension": ".py",
   "mimetype": "text/x-python",
   "name": "python",
   "nbconvert_exporter": "python",
   "pygments_lexer": "ipython3",
   "version": "3.10.17"
  },
  "papermill": {
   "default_parameters": {},
   "duration": 1.881479,
   "end_time": "2025-05-13T08:26:33.552322",
   "environment_variables": {},
   "exception": null,
   "input_path": "transform.ipynb",
   "output_path": "../../working/output/neet-transform.ipynb",
   "parameters": {},
   "start_time": "2025-05-13T08:26:31.670843",
   "version": "2.5.0"
  }
 },
 "nbformat": 4,
 "nbformat_minor": 5
}