{
 "cells": [
  {
   "cell_type": "code",
   "execution_count": 1,
   "id": "9b221020",
   "metadata": {
    "execution": {
     "iopub.execute_input": "2024-01-17T07:26:59.706995Z",
     "iopub.status.busy": "2024-01-17T07:26:59.706744Z",
     "iopub.status.idle": "2024-01-17T07:26:59.944711Z",
     "shell.execute_reply": "2024-01-17T07:26:59.944042Z"
    },
    "papermill": {
     "duration": 0.243333,
     "end_time": "2024-01-17T07:26:59.946547",
     "exception": false,
     "start_time": "2024-01-17T07:26:59.703214",
     "status": "completed"
    },
    "tags": []
   },
   "outputs": [],
   "source": [
    "import os\n",
    "import sys\n",
    "import pandas as pd\n",
    "\n",
    "LIB_DIR = '../../'\n",
    "if LIB_DIR not in sys.path:\n",
    "    sys.path.append(LIB_DIR)"
   ]
  },
  {
   "cell_type": "code",
   "execution_count": 2,
   "id": "7f417711",
   "metadata": {
    "execution": {
     "iopub.execute_input": "2024-01-17T07:26:59.952101Z",
     "iopub.status.busy": "2024-01-17T07:26:59.951502Z",
     "iopub.status.idle": "2024-01-17T07:26:59.955939Z",
     "shell.execute_reply": "2024-01-17T07:26:59.955330Z"
    },
    "papermill": {
     "duration": 0.008605,
     "end_time": "2024-01-17T07:26:59.957392",
     "exception": false,
     "start_time": "2024-01-17T07:26:59.948787",
     "status": "completed"
    },
    "tags": []
   },
   "outputs": [],
   "source": [
    "from scripts.util.date import quarter_to_date"
   ]
  },
  {
   "cell_type": "code",
   "execution_count": 3,
   "id": "b62423c6",
   "metadata": {
    "execution": {
     "iopub.execute_input": "2024-01-17T07:26:59.962326Z",
     "iopub.status.busy": "2024-01-17T07:26:59.961969Z",
     "iopub.status.idle": "2024-01-17T07:26:59.965382Z",
     "shell.execute_reply": "2024-01-17T07:26:59.964817Z"
    },
    "papermill": {
     "duration": 0.007351,
     "end_time": "2024-01-17T07:26:59.966689",
     "exception": false,
     "start_time": "2024-01-17T07:26:59.959338",
     "status": "completed"
    },
    "tags": []
   },
   "outputs": [],
   "source": [
    "NEET_DATA = '../../working/upstream/neet.csv'\n",
    "ALL_METADATA = '../../working/upstream/metadata.csv'\n",
    "NEET_16_24 = '../../data/neet/neet.csv'\n",
    "NEET_METADATA = '../../data/neet/metadata.json'\n",
    "\n",
    "os.makedirs(os.path.dirname(NEET_16_24), exist_ok=True)"
   ]
  },
  {
   "cell_type": "code",
   "execution_count": 4,
   "id": "c4cd78b7",
   "metadata": {
    "execution": {
     "iopub.execute_input": "2024-01-17T07:26:59.971551Z",
     "iopub.status.busy": "2024-01-17T07:26:59.971132Z",
     "iopub.status.idle": "2024-01-17T07:26:59.979632Z",
     "shell.execute_reply": "2024-01-17T07:26:59.979020Z"
    },
    "papermill": {
     "duration": 0.012591,
     "end_time": "2024-01-17T07:26:59.981215",
     "exception": false,
     "start_time": "2024-01-17T07:26:59.968624",
     "status": "completed"
    },
    "tags": []
   },
   "outputs": [],
   "source": [
    "data = pd.read_csv('../../working/upstream/neet.csv')"
   ]
  },
  {
   "cell_type": "code",
   "execution_count": 5,
   "id": "ba53f2b1",
   "metadata": {
    "execution": {
     "iopub.execute_input": "2024-01-17T07:26:59.986285Z",
     "iopub.status.busy": "2024-01-17T07:26:59.985815Z",
     "iopub.status.idle": "2024-01-17T07:26:59.988943Z",
     "shell.execute_reply": "2024-01-17T07:26:59.988370Z"
    },
    "papermill": {
     "duration": 0.007027,
     "end_time": "2024-01-17T07:26:59.990176",
     "exception": false,
     "start_time": "2024-01-17T07:26:59.983149",
     "status": "completed"
    },
    "tags": []
   },
   "outputs": [],
   "source": [
    "variable_mapper = {\n",
    "    'Young people who were NEET_Total': 'age_16_to_24_neet_total_sa',\n",
    "    'Young people who were NEET_Unemployed': 'age_16_to_24_neet_unemployed_sa',\n",
    "    'Young people who were NEET_Economically inactive': 'age_16_to_24_neet_economically_inactive_sa',\n",
    "    'Total people in relevant population group': 'age_16_to_24_population',\n",
    "    'People who were NEET as a percentage of people in relevant population group': 'age_16_to_24_neet_total_rate_sa',\n",
    "}"
   ]
  },
  {
   "cell_type": "code",
   "execution_count": 6,
   "id": "7a3ecf53",
   "metadata": {
    "execution": {
     "iopub.execute_input": "2024-01-17T07:26:59.995251Z",
     "iopub.status.busy": "2024-01-17T07:26:59.994806Z",
     "iopub.status.idle": "2024-01-17T07:26:59.998686Z",
     "shell.execute_reply": "2024-01-17T07:26:59.998077Z"
    },
    "papermill": {
     "duration": 0.007815,
     "end_time": "2024-01-17T07:27:00.000042",
     "exception": false,
     "start_time": "2024-01-17T07:26:59.992227",
     "status": "completed"
    },
    "tags": []
   },
   "outputs": [],
   "source": [
    "data = data[data.age == 'Aged 16-24']"
   ]
  },
  {
   "cell_type": "code",
   "execution_count": 7,
   "id": "9bb68272",
   "metadata": {
    "execution": {
     "iopub.execute_input": "2024-01-17T07:27:00.005234Z",
     "iopub.status.busy": "2024-01-17T07:27:00.004786Z",
     "iopub.status.idle": "2024-01-17T07:27:00.009380Z",
     "shell.execute_reply": "2024-01-17T07:27:00.008638Z"
    },
    "papermill": {
     "duration": 0.008697,
     "end_time": "2024-01-17T07:27:00.010821",
     "exception": false,
     "start_time": "2024-01-17T07:27:00.002124",
     "status": "completed"
    },
    "tags": []
   },
   "outputs": [],
   "source": [
    "data = data.replace({\n",
    "  'measure': variable_mapper\n",
    "})"
   ]
  },
  {
   "cell_type": "code",
   "execution_count": 8,
   "id": "e04d9add",
   "metadata": {
    "execution": {
     "iopub.execute_input": "2024-01-17T07:27:00.016195Z",
     "iopub.status.busy": "2024-01-17T07:27:00.015775Z",
     "iopub.status.idle": "2024-01-17T07:27:00.024853Z",
     "shell.execute_reply": "2024-01-17T07:27:00.024302Z"
    },
    "papermill": {
     "duration": 0.013142,
     "end_time": "2024-01-17T07:27:00.026171",
     "exception": false,
     "start_time": "2024-01-17T07:27:00.013029",
     "status": "completed"
    },
    "tags": []
   },
   "outputs": [],
   "source": [
    "data['quarter_start'] = pd.Index(data.date.pipe(quarter_to_date))\n",
    "data['variable'] = data.sheet.str.split(' - ').apply(lambda x: x[0]).str.lower() + '_' + data.measure"
   ]
  },
  {
   "cell_type": "code",
   "execution_count": 9,
   "id": "468ab43d",
   "metadata": {
    "execution": {
     "iopub.execute_input": "2024-01-17T07:27:00.032126Z",
     "iopub.status.busy": "2024-01-17T07:27:00.031731Z",
     "iopub.status.idle": "2024-01-17T07:27:00.039780Z",
     "shell.execute_reply": "2024-01-17T07:27:00.039167Z"
    },
    "papermill": {
     "duration": 0.012101,
     "end_time": "2024-01-17T07:27:00.041105",
     "exception": false,
     "start_time": "2024-01-17T07:27:00.029004",
     "status": "completed"
    },
    "tags": []
   },
   "outputs": [],
   "source": [
    "data = data.pivot_table(index='quarter_start', columns='variable', values='value')"
   ]
  },
  {
   "cell_type": "code",
   "execution_count": 10,
   "id": "ee2d129a",
   "metadata": {
    "execution": {
     "iopub.execute_input": "2024-01-17T07:27:00.046277Z",
     "iopub.status.busy": "2024-01-17T07:27:00.045946Z",
     "iopub.status.idle": "2024-01-17T07:27:00.052271Z",
     "shell.execute_reply": "2024-01-17T07:27:00.051658Z"
    },
    "papermill": {
     "duration": 0.010374,
     "end_time": "2024-01-17T07:27:00.053621",
     "exception": false,
     "start_time": "2024-01-17T07:27:00.043247",
     "status": "completed"
    },
    "tags": []
   },
   "outputs": [],
   "source": [
    "def calculate_rates(data, prefix):\n",
    "    data[prefix + '_age_16_to_24_neet_unemployed_rate_sa'] = data[prefix + '_age_16_to_24_neet_unemployed_sa'] / data[prefix + '_age_16_to_24_population'] * 100\n",
    "    data[prefix + '_age_16_to_24_neet_economically_inactive_rate_sa'] = data[prefix + '_age_16_to_24_neet_economically_inactive_sa'] / data[prefix + '_age_16_to_24_population'] * 100\n",
    "    return data\n",
    "  \n",
    "data = data.pipe(\n",
    "    calculate_rates, 'people'\n",
    ").pipe(\n",
    "    calculate_rates, 'men'\n",
    ").pipe(\n",
    "    calculate_rates, 'women'\n",
    ")\n"
   ]
  },
  {
   "cell_type": "code",
   "execution_count": 11,
   "id": "2228d11a",
   "metadata": {
    "execution": {
     "iopub.execute_input": "2024-01-17T07:27:00.059518Z",
     "iopub.status.busy": "2024-01-17T07:27:00.059006Z",
     "iopub.status.idle": "2024-01-17T07:27:00.066113Z",
     "shell.execute_reply": "2024-01-17T07:27:00.065622Z"
    },
    "papermill": {
     "duration": 0.011456,
     "end_time": "2024-01-17T07:27:00.067361",
     "exception": false,
     "start_time": "2024-01-17T07:27:00.055905",
     "status": "completed"
    },
    "tags": []
   },
   "outputs": [],
   "source": [
    "column_order = [\n",
    "  'people_age_16_to_24_neet_total_sa',\n",
    "  'people_age_16_to_24_neet_unemployed_sa',\n",
    "  'people_age_16_to_24_neet_economically_inactive_sa',\n",
    "  'people_age_16_to_24_population',\n",
    "  'people_age_16_to_24_neet_total_rate_sa',\n",
    "  'people_age_16_to_24_neet_unemployed_rate_sa',\n",
    "  'people_age_16_to_24_neet_economically_inactive_rate_sa',\n",
    "  'men_age_16_to_24_neet_total_sa',\n",
    "  'men_age_16_to_24_neet_unemployed_sa',\n",
    "  'men_age_16_to_24_neet_economically_inactive_sa',\n",
    "  'men_age_16_to_24_population',\n",
    "  'men_age_16_to_24_neet_total_rate_sa',\n",
    "  'men_age_16_to_24_neet_unemployed_rate_sa',\n",
    "  'men_age_16_to_24_neet_economically_inactive_rate_sa',\n",
    "  'women_age_16_to_24_neet_total_sa',\n",
    "  'women_age_16_to_24_neet_unemployed_sa',\n",
    "  'women_age_16_to_24_neet_economically_inactive_sa',\n",
    "  'women_age_16_to_24_population',\n",
    "  'women_age_16_to_24_neet_total_rate_sa',\n",
    "  'women_age_16_to_24_neet_unemployed_rate_sa',\n",
    "  'women_age_16_to_24_neet_economically_inactive_rate_sa'\n",
    "]\n",
    "\n",
    "data.loc[:, column_order].to_csv(NEET_16_24)"
   ]
  },
  {
   "cell_type": "code",
   "execution_count": 12,
   "id": "a9b48fcd",
   "metadata": {
    "execution": {
     "iopub.execute_input": "2024-01-17T07:27:00.072553Z",
     "iopub.status.busy": "2024-01-17T07:27:00.072359Z",
     "iopub.status.idle": "2024-01-17T07:27:00.084170Z",
     "shell.execute_reply": "2024-01-17T07:27:00.083577Z"
    },
    "papermill": {
     "duration": 0.016032,
     "end_time": "2024-01-17T07:27:00.085595",
     "exception": false,
     "start_time": "2024-01-17T07:27:00.069563",
     "status": "completed"
    },
    "tags": []
   },
   "outputs": [
    {
     "data": {
      "text/plain": [
       "id                     object\n",
       "last_update    datetime64[ns]\n",
       "next_update            object\n",
       "dtype: object"
      ]
     },
     "execution_count": 12,
     "metadata": {},
     "output_type": "execute_result"
    }
   ],
   "source": [
    "metadata = pd.read_csv(ALL_METADATA, parse_dates=['last_update', 'next_update'])\n",
    "metadata.set_index(\n",
    "    'id'\n",
    ").rename(\n",
    "    columns={\n",
    "        'last_update': 'published'\n",
    "    }\n",
    ").loc['NEET'].to_json(NEET_METADATA, date_format='iso')\n",
    "\n",
    "metadata.dtypes\n"
   ]
  },
  {
   "cell_type": "code",
   "execution_count": null,
   "id": "19e08cf6",
   "metadata": {
    "papermill": {
     "duration": 0.002308,
     "end_time": "2024-01-17T07:27:00.090231",
     "exception": false,
     "start_time": "2024-01-17T07:27:00.087923",
     "status": "completed"
    },
    "tags": []
   },
   "outputs": [],
   "source": []
  },
  {
   "cell_type": "code",
   "execution_count": null,
   "id": "5c95b26e",
   "metadata": {
    "papermill": {
     "duration": 0.002221,
     "end_time": "2024-01-17T07:27:00.094691",
     "exception": false,
     "start_time": "2024-01-17T07:27:00.092470",
     "status": "completed"
    },
    "tags": []
   },
   "outputs": [],
   "source": []
  }
 ],
 "metadata": {
  "kernelspec": {
   "display_name": "yff-data-ansOWYcy",
   "language": "python",
   "name": "python3"
  },
  "language_info": {
   "codemirror_mode": {
    "name": "ipython",
    "version": 3
   },
   "file_extension": ".py",
   "mimetype": "text/x-python",
   "name": "python",
   "nbconvert_exporter": "python",
   "pygments_lexer": "ipython3",
   "version": "3.10.13"
  },
  "papermill": {
   "default_parameters": {},
   "duration": 2.36992,
   "end_time": "2024-01-17T07:27:00.312189",
   "environment_variables": {},
   "exception": null,
   "input_path": "transform.ipynb",
   "output_path": "../../working/output/neet-transform.ipynb",
   "parameters": {},
   "start_time": "2024-01-17T07:26:57.942269",
   "version": "2.4.0"
  }
 },
 "nbformat": 4,
 "nbformat_minor": 5
}