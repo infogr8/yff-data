{
 "cells": [
  {
   "cell_type": "code",
   "execution_count": 1,
   "id": "8d543e20",
   "metadata": {
    "execution": {
     "iopub.execute_input": "2024-01-16T07:26:10.810723Z",
     "iopub.status.busy": "2024-01-16T07:26:10.810532Z",
     "iopub.status.idle": "2024-01-16T07:26:11.045300Z",
     "shell.execute_reply": "2024-01-16T07:26:11.044738Z"
    },
    "papermill": {
     "duration": 0.239409,
     "end_time": "2024-01-16T07:26:11.046850",
     "exception": false,
     "start_time": "2024-01-16T07:26:10.807441",
     "status": "completed"
    },
    "tags": []
   },
   "outputs": [],
   "source": [
    "import os\n",
    "import sys\n",
    "import pandas as pd\n",
    "\n",
    "LIB_DIR = '../../'\n",
    "if LIB_DIR not in sys.path:\n",
    "    sys.path.append(LIB_DIR)"
   ]
  },
  {
   "cell_type": "code",
   "execution_count": 2,
   "id": "0b6390f5",
   "metadata": {
    "execution": {
     "iopub.execute_input": "2024-01-16T07:26:11.052195Z",
     "iopub.status.busy": "2024-01-16T07:26:11.051911Z",
     "iopub.status.idle": "2024-01-16T07:26:11.055932Z",
     "shell.execute_reply": "2024-01-16T07:26:11.055442Z"
    },
    "papermill": {
     "duration": 0.00799,
     "end_time": "2024-01-16T07:26:11.057195",
     "exception": false,
     "start_time": "2024-01-16T07:26:11.049205",
     "status": "completed"
    },
    "tags": []
   },
   "outputs": [],
   "source": [
    "from scripts.util.date import quarter_to_date"
   ]
  },
  {
   "cell_type": "code",
   "execution_count": 3,
   "id": "4a7adb95",
   "metadata": {
    "execution": {
     "iopub.execute_input": "2024-01-16T07:26:11.062123Z",
     "iopub.status.busy": "2024-01-16T07:26:11.061795Z",
     "iopub.status.idle": "2024-01-16T07:26:11.065141Z",
     "shell.execute_reply": "2024-01-16T07:26:11.064525Z"
    },
    "papermill": {
     "duration": 0.007384,
     "end_time": "2024-01-16T07:26:11.066507",
     "exception": false,
     "start_time": "2024-01-16T07:26:11.059123",
     "status": "completed"
    },
    "tags": []
   },
   "outputs": [],
   "source": [
    "NEET_DATA = '../../working/upstream/neet.csv'\n",
    "ALL_METADATA = '../../working/upstream/metadata.csv'\n",
    "NEET_16_24 = '../../data/neet/neet.csv'\n",
    "NEET_METADATA = '../../data/neet/metadata.json'\n",
    "\n",
    "os.makedirs(os.path.dirname(NEET_16_24), exist_ok=True)"
   ]
  },
  {
   "cell_type": "code",
   "execution_count": 4,
   "id": "1a8db0a1",
   "metadata": {
    "execution": {
     "iopub.execute_input": "2024-01-16T07:26:11.071481Z",
     "iopub.status.busy": "2024-01-16T07:26:11.070981Z",
     "iopub.status.idle": "2024-01-16T07:26:11.079939Z",
     "shell.execute_reply": "2024-01-16T07:26:11.079400Z"
    },
    "papermill": {
     "duration": 0.012719,
     "end_time": "2024-01-16T07:26:11.081184",
     "exception": false,
     "start_time": "2024-01-16T07:26:11.068465",
     "status": "completed"
    },
    "tags": []
   },
   "outputs": [],
   "source": [
    "data = pd.read_csv('../../working/upstream/neet.csv')"
   ]
  },
  {
   "cell_type": "code",
   "execution_count": 5,
   "id": "a87f7b87",
   "metadata": {
    "execution": {
     "iopub.execute_input": "2024-01-16T07:26:11.086008Z",
     "iopub.status.busy": "2024-01-16T07:26:11.085675Z",
     "iopub.status.idle": "2024-01-16T07:26:11.088790Z",
     "shell.execute_reply": "2024-01-16T07:26:11.088178Z"
    },
    "papermill": {
     "duration": 0.006969,
     "end_time": "2024-01-16T07:26:11.090074",
     "exception": false,
     "start_time": "2024-01-16T07:26:11.083105",
     "status": "completed"
    },
    "tags": []
   },
   "outputs": [],
   "source": [
    "variable_mapper = {\n",
    "    'Young people who were NEET_Total': 'age_16_to_24_neet_total_sa',\n",
    "    'Young people who were NEET_Unemployed': 'age_16_to_24_neet_unemployed_sa',\n",
    "    'Young people who were NEET_Economically inactive': 'age_16_to_24_neet_economically_inactive_sa',\n",
    "    'Total people in relevant population group': 'age_16_to_24_population',\n",
    "    'People who were NEET as a percentage of people in relevant population group': 'age_16_to_24_neet_total_rate_sa',\n",
    "}"
   ]
  },
  {
   "cell_type": "code",
   "execution_count": 6,
   "id": "feb55360",
   "metadata": {
    "execution": {
     "iopub.execute_input": "2024-01-16T07:26:11.095062Z",
     "iopub.status.busy": "2024-01-16T07:26:11.094763Z",
     "iopub.status.idle": "2024-01-16T07:26:11.098744Z",
     "shell.execute_reply": "2024-01-16T07:26:11.098119Z"
    },
    "papermill": {
     "duration": 0.007919,
     "end_time": "2024-01-16T07:26:11.100053",
     "exception": false,
     "start_time": "2024-01-16T07:26:11.092134",
     "status": "completed"
    },
    "tags": []
   },
   "outputs": [],
   "source": [
    "data = data[data.age == 'Aged 16-24']"
   ]
  },
  {
   "cell_type": "code",
   "execution_count": 7,
   "id": "3ead6503",
   "metadata": {
    "execution": {
     "iopub.execute_input": "2024-01-16T07:26:11.105135Z",
     "iopub.status.busy": "2024-01-16T07:26:11.104674Z",
     "iopub.status.idle": "2024-01-16T07:26:11.109082Z",
     "shell.execute_reply": "2024-01-16T07:26:11.108466Z"
    },
    "papermill": {
     "duration": 0.008389,
     "end_time": "2024-01-16T07:26:11.110438",
     "exception": false,
     "start_time": "2024-01-16T07:26:11.102049",
     "status": "completed"
    },
    "tags": []
   },
   "outputs": [],
   "source": [
    "data = data.replace({\n",
    "  'measure': variable_mapper\n",
    "})"
   ]
  },
  {
   "cell_type": "code",
   "execution_count": 8,
   "id": "87c73036",
   "metadata": {
    "execution": {
     "iopub.execute_input": "2024-01-16T07:26:11.116125Z",
     "iopub.status.busy": "2024-01-16T07:26:11.115934Z",
     "iopub.status.idle": "2024-01-16T07:26:11.124657Z",
     "shell.execute_reply": "2024-01-16T07:26:11.124046Z"
    },
    "papermill": {
     "duration": 0.013394,
     "end_time": "2024-01-16T07:26:11.125902",
     "exception": false,
     "start_time": "2024-01-16T07:26:11.112508",
     "status": "completed"
    },
    "tags": []
   },
   "outputs": [],
   "source": [
    "data['quarter_start'] = pd.Index(data.date.pipe(quarter_to_date))\n",
    "data['variable'] = data.sheet.str.split(' - ').apply(lambda x: x[0]).str.lower() + '_' + data.measure"
   ]
  },
  {
   "cell_type": "code",
   "execution_count": 9,
   "id": "96744b07",
   "metadata": {
    "execution": {
     "iopub.execute_input": "2024-01-16T07:26:11.131085Z",
     "iopub.status.busy": "2024-01-16T07:26:11.130721Z",
     "iopub.status.idle": "2024-01-16T07:26:11.138608Z",
     "shell.execute_reply": "2024-01-16T07:26:11.137996Z"
    },
    "papermill": {
     "duration": 0.012109,
     "end_time": "2024-01-16T07:26:11.140091",
     "exception": false,
     "start_time": "2024-01-16T07:26:11.127982",
     "status": "completed"
    },
    "tags": []
   },
   "outputs": [],
   "source": [
    "data = data.pivot_table(index='quarter_start', columns='variable', values='value')"
   ]
  },
  {
   "cell_type": "code",
   "execution_count": 10,
   "id": "2ae17cfa",
   "metadata": {
    "execution": {
     "iopub.execute_input": "2024-01-16T07:26:11.145437Z",
     "iopub.status.busy": "2024-01-16T07:26:11.144942Z",
     "iopub.status.idle": "2024-01-16T07:26:11.151365Z",
     "shell.execute_reply": "2024-01-16T07:26:11.150769Z"
    },
    "papermill": {
     "duration": 0.010527,
     "end_time": "2024-01-16T07:26:11.152722",
     "exception": false,
     "start_time": "2024-01-16T07:26:11.142195",
     "status": "completed"
    },
    "tags": []
   },
   "outputs": [],
   "source": [
    "def calculate_rates(data, prefix):\n",
    "    data[prefix + '_age_16_to_24_neet_unemployed_rate_sa'] = data[prefix + '_age_16_to_24_neet_unemployed_sa'] / data[prefix + '_age_16_to_24_population'] * 100\n",
    "    data[prefix + '_age_16_to_24_neet_economically_inactive_rate_sa'] = data[prefix + '_age_16_to_24_neet_economically_inactive_sa'] / data[prefix + '_age_16_to_24_population'] * 100\n",
    "    return data\n",
    "  \n",
    "data = data.pipe(\n",
    "    calculate_rates, 'people'\n",
    ").pipe(\n",
    "    calculate_rates, 'men'\n",
    ").pipe(\n",
    "    calculate_rates, 'women'\n",
    ")\n"
   ]
  },
  {
   "cell_type": "code",
   "execution_count": 11,
   "id": "f7d7de74",
   "metadata": {
    "execution": {
     "iopub.execute_input": "2024-01-16T07:26:11.158122Z",
     "iopub.status.busy": "2024-01-16T07:26:11.157784Z",
     "iopub.status.idle": "2024-01-16T07:26:11.164275Z",
     "shell.execute_reply": "2024-01-16T07:26:11.163753Z"
    },
    "papermill": {
     "duration": 0.010549,
     "end_time": "2024-01-16T07:26:11.165531",
     "exception": false,
     "start_time": "2024-01-16T07:26:11.154982",
     "status": "completed"
    },
    "tags": []
   },
   "outputs": [],
   "source": [
    "column_order = [\n",
    "  'people_age_16_to_24_neet_total_sa',\n",
    "  'people_age_16_to_24_neet_unemployed_sa',\n",
    "  'people_age_16_to_24_neet_economically_inactive_sa',\n",
    "  'people_age_16_to_24_population',\n",
    "  'people_age_16_to_24_neet_total_rate_sa',\n",
    "  'people_age_16_to_24_neet_unemployed_rate_sa',\n",
    "  'people_age_16_to_24_neet_economically_inactive_rate_sa',\n",
    "  'men_age_16_to_24_neet_total_sa',\n",
    "  'men_age_16_to_24_neet_unemployed_sa',\n",
    "  'men_age_16_to_24_neet_economically_inactive_sa',\n",
    "  'men_age_16_to_24_population',\n",
    "  'men_age_16_to_24_neet_total_rate_sa',\n",
    "  'men_age_16_to_24_neet_unemployed_rate_sa',\n",
    "  'men_age_16_to_24_neet_economically_inactive_rate_sa',\n",
    "  'women_age_16_to_24_neet_total_sa',\n",
    "  'women_age_16_to_24_neet_unemployed_sa',\n",
    "  'women_age_16_to_24_neet_economically_inactive_sa',\n",
    "  'women_age_16_to_24_population',\n",
    "  'women_age_16_to_24_neet_total_rate_sa',\n",
    "  'women_age_16_to_24_neet_unemployed_rate_sa',\n",
    "  'women_age_16_to_24_neet_economically_inactive_rate_sa'\n",
    "]\n",
    "\n",
    "data.loc[:, column_order].to_csv(NEET_16_24)"
   ]
  },
  {
   "cell_type": "code",
   "execution_count": 12,
   "id": "6f6cead3",
   "metadata": {
    "execution": {
     "iopub.execute_input": "2024-01-16T07:26:11.170929Z",
     "iopub.status.busy": "2024-01-16T07:26:11.170486Z",
     "iopub.status.idle": "2024-01-16T07:26:11.181808Z",
     "shell.execute_reply": "2024-01-16T07:26:11.181216Z"
    },
    "papermill": {
     "duration": 0.015388,
     "end_time": "2024-01-16T07:26:11.183049",
     "exception": false,
     "start_time": "2024-01-16T07:26:11.167661",
     "status": "completed"
    },
    "tags": []
   },
   "outputs": [
    {
     "data": {
      "text/plain": [
       "id                     object\n",
       "last_update    datetime64[ns]\n",
       "next_update            object\n",
       "dtype: object"
      ]
     },
     "execution_count": 12,
     "metadata": {},
     "output_type": "execute_result"
    }
   ],
   "source": [
    "metadata = pd.read_csv(ALL_METADATA, parse_dates=['last_update', 'next_update'])\n",
    "metadata.set_index(\n",
    "    'id'\n",
    ").rename(\n",
    "    columns={\n",
    "        'last_update': 'published'\n",
    "    }\n",
    ").loc['NEET'].to_json(NEET_METADATA, date_format='iso')\n",
    "\n",
    "metadata.dtypes\n"
   ]
  },
  {
   "cell_type": "code",
   "execution_count": null,
   "id": "fc4788eb",
   "metadata": {
    "papermill": {
     "duration": 0.002227,
     "end_time": "2024-01-16T07:26:11.187644",
     "exception": false,
     "start_time": "2024-01-16T07:26:11.185417",
     "status": "completed"
    },
    "tags": []
   },
   "outputs": [],
   "source": []
  },
  {
   "cell_type": "code",
   "execution_count": null,
   "id": "823d6366",
   "metadata": {
    "papermill": {
     "duration": 0.002214,
     "end_time": "2024-01-16T07:26:11.192100",
     "exception": false,
     "start_time": "2024-01-16T07:26:11.189886",
     "status": "completed"
    },
    "tags": []
   },
   "outputs": [],
   "source": []
  }
 ],
 "metadata": {
  "kernelspec": {
   "display_name": "yff-data-ansOWYcy",
   "language": "python",
   "name": "python3"
  },
  "language_info": {
   "codemirror_mode": {
    "name": "ipython",
    "version": 3
   },
   "file_extension": ".py",
   "mimetype": "text/x-python",
   "name": "python",
   "nbconvert_exporter": "python",
   "pygments_lexer": "ipython3",
   "version": "3.10.13"
  },
  "papermill": {
   "default_parameters": {},
   "duration": 1.813354,
   "end_time": "2024-01-16T07:26:11.410996",
   "environment_variables": {},
   "exception": null,
   "input_path": "transform.ipynb",
   "output_path": "../../working/output/neet-transform.ipynb",
   "parameters": {},
   "start_time": "2024-01-16T07:26:09.597642",
   "version": "2.4.0"
  }
 },
 "nbformat": 4,
 "nbformat_minor": 5
}