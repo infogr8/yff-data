{
 "cells": [
  {
   "cell_type": "code",
   "execution_count": 1,
   "id": "92651287",
   "metadata": {
    "execution": {
     "iopub.execute_input": "2024-05-14T06:37:49.529756Z",
     "iopub.status.busy": "2024-05-14T06:37:49.529486Z",
     "iopub.status.idle": "2024-05-14T06:37:49.835001Z",
     "shell.execute_reply": "2024-05-14T06:37:49.834424Z"
    },
    "papermill": {
     "duration": 0.310813,
     "end_time": "2024-05-14T06:37:49.836702",
     "exception": false,
     "start_time": "2024-05-14T06:37:49.525889",
     "status": "completed"
    },
    "tags": []
   },
   "outputs": [],
   "source": [
    "import os\n",
    "import sys\n",
    "import pandas as pd\n",
    "\n",
    "LIB_DIR = '../../'\n",
    "if LIB_DIR not in sys.path:\n",
    "    sys.path.append(LIB_DIR)"
   ]
  },
  {
   "cell_type": "code",
   "execution_count": 2,
   "id": "62252101",
   "metadata": {
    "execution": {
     "iopub.execute_input": "2024-05-14T06:37:49.842145Z",
     "iopub.status.busy": "2024-05-14T06:37:49.841670Z",
     "iopub.status.idle": "2024-05-14T06:37:49.846131Z",
     "shell.execute_reply": "2024-05-14T06:37:49.845643Z"
    },
    "papermill": {
     "duration": 0.008492,
     "end_time": "2024-05-14T06:37:49.847473",
     "exception": false,
     "start_time": "2024-05-14T06:37:49.838981",
     "status": "completed"
    },
    "tags": []
   },
   "outputs": [],
   "source": [
    "from scripts.util.date import quarter_to_date"
   ]
  },
  {
   "cell_type": "code",
   "execution_count": 3,
   "id": "24e624d0",
   "metadata": {
    "execution": {
     "iopub.execute_input": "2024-05-14T06:37:49.852356Z",
     "iopub.status.busy": "2024-05-14T06:37:49.852137Z",
     "iopub.status.idle": "2024-05-14T06:37:49.855481Z",
     "shell.execute_reply": "2024-05-14T06:37:49.854960Z"
    },
    "papermill": {
     "duration": 0.007375,
     "end_time": "2024-05-14T06:37:49.856843",
     "exception": false,
     "start_time": "2024-05-14T06:37:49.849468",
     "status": "completed"
    },
    "tags": []
   },
   "outputs": [],
   "source": [
    "NEET_DATA = '../../working/upstream/neet.csv'\n",
    "ALL_METADATA = '../../working/upstream/metadata.csv'\n",
    "NEET_16_24 = '../../data/neet/neet.csv'\n",
    "NEET_METADATA = '../../data/neet/metadata.json'\n",
    "\n",
    "os.makedirs(os.path.dirname(NEET_16_24), exist_ok=True)"
   ]
  },
  {
   "cell_type": "code",
   "execution_count": 4,
   "id": "545835de",
   "metadata": {
    "execution": {
     "iopub.execute_input": "2024-05-14T06:37:49.861881Z",
     "iopub.status.busy": "2024-05-14T06:37:49.861410Z",
     "iopub.status.idle": "2024-05-14T06:37:49.869502Z",
     "shell.execute_reply": "2024-05-14T06:37:49.868867Z"
    },
    "papermill": {
     "duration": 0.012096,
     "end_time": "2024-05-14T06:37:49.870881",
     "exception": false,
     "start_time": "2024-05-14T06:37:49.858785",
     "status": "completed"
    },
    "tags": []
   },
   "outputs": [],
   "source": [
    "data = pd.read_csv('../../working/upstream/neet.csv')"
   ]
  },
  {
   "cell_type": "code",
   "execution_count": 5,
   "id": "cb35bcf2",
   "metadata": {
    "execution": {
     "iopub.execute_input": "2024-05-14T06:37:49.875916Z",
     "iopub.status.busy": "2024-05-14T06:37:49.875572Z",
     "iopub.status.idle": "2024-05-14T06:37:49.878742Z",
     "shell.execute_reply": "2024-05-14T06:37:49.878137Z"
    },
    "papermill": {
     "duration": 0.007078,
     "end_time": "2024-05-14T06:37:49.880031",
     "exception": false,
     "start_time": "2024-05-14T06:37:49.872953",
     "status": "completed"
    },
    "tags": []
   },
   "outputs": [],
   "source": [
    "variable_mapper = {\n",
    "    'Young people who were NEET_Total': 'age_16_to_24_neet_total_sa',\n",
    "    'Young people who were NEET_Unemployed': 'age_16_to_24_neet_unemployed_sa',\n",
    "    'Young people who were NEET_Economically inactive': 'age_16_to_24_neet_economically_inactive_sa',\n",
    "    'Total people in relevant population group': 'age_16_to_24_population',\n",
    "    'People who were NEET as a percentage of people in relevant population group': 'age_16_to_24_neet_total_rate_sa',\n",
    "}"
   ]
  },
  {
   "cell_type": "code",
   "execution_count": 6,
   "id": "8b10b772",
   "metadata": {
    "execution": {
     "iopub.execute_input": "2024-05-14T06:37:49.884963Z",
     "iopub.status.busy": "2024-05-14T06:37:49.884617Z",
     "iopub.status.idle": "2024-05-14T06:37:49.888692Z",
     "shell.execute_reply": "2024-05-14T06:37:49.888121Z"
    },
    "papermill": {
     "duration": 0.007894,
     "end_time": "2024-05-14T06:37:49.889908",
     "exception": false,
     "start_time": "2024-05-14T06:37:49.882014",
     "status": "completed"
    },
    "tags": []
   },
   "outputs": [],
   "source": [
    "data = data[data.age == 'Aged 16-24']"
   ]
  },
  {
   "cell_type": "code",
   "execution_count": 7,
   "id": "5dadbc1d",
   "metadata": {
    "execution": {
     "iopub.execute_input": "2024-05-14T06:37:49.894808Z",
     "iopub.status.busy": "2024-05-14T06:37:49.894467Z",
     "iopub.status.idle": "2024-05-14T06:37:49.898830Z",
     "shell.execute_reply": "2024-05-14T06:37:49.898226Z"
    },
    "papermill": {
     "duration": 0.008254,
     "end_time": "2024-05-14T06:37:49.900133",
     "exception": false,
     "start_time": "2024-05-14T06:37:49.891879",
     "status": "completed"
    },
    "tags": []
   },
   "outputs": [],
   "source": [
    "data = data.replace({\n",
    "  'measure': variable_mapper\n",
    "})"
   ]
  },
  {
   "cell_type": "code",
   "execution_count": 8,
   "id": "f8f7901a",
   "metadata": {
    "execution": {
     "iopub.execute_input": "2024-05-14T06:37:49.905170Z",
     "iopub.status.busy": "2024-05-14T06:37:49.904773Z",
     "iopub.status.idle": "2024-05-14T06:37:49.914206Z",
     "shell.execute_reply": "2024-05-14T06:37:49.913586Z"
    },
    "papermill": {
     "duration": 0.013366,
     "end_time": "2024-05-14T06:37:49.915560",
     "exception": false,
     "start_time": "2024-05-14T06:37:49.902194",
     "status": "completed"
    },
    "tags": []
   },
   "outputs": [],
   "source": [
    "data['quarter_start'] = pd.Index(data.date.pipe(quarter_to_date))\n",
    "data['variable'] = data.sheet.str.split(' - ').apply(lambda x: x[0]).str.lower() + '_' + data.measure"
   ]
  },
  {
   "cell_type": "code",
   "execution_count": 9,
   "id": "f198ba3a",
   "metadata": {
    "execution": {
     "iopub.execute_input": "2024-05-14T06:37:49.920801Z",
     "iopub.status.busy": "2024-05-14T06:37:49.920428Z",
     "iopub.status.idle": "2024-05-14T06:37:49.928617Z",
     "shell.execute_reply": "2024-05-14T06:37:49.928088Z"
    },
    "papermill": {
     "duration": 0.012159,
     "end_time": "2024-05-14T06:37:49.929860",
     "exception": false,
     "start_time": "2024-05-14T06:37:49.917701",
     "status": "completed"
    },
    "tags": []
   },
   "outputs": [],
   "source": [
    "data = data.pivot_table(index='quarter_start', columns='variable', values='value')"
   ]
  },
  {
   "cell_type": "code",
   "execution_count": 10,
   "id": "a11540cd",
   "metadata": {
    "execution": {
     "iopub.execute_input": "2024-05-14T06:37:49.934995Z",
     "iopub.status.busy": "2024-05-14T06:37:49.934623Z",
     "iopub.status.idle": "2024-05-14T06:37:49.940825Z",
     "shell.execute_reply": "2024-05-14T06:37:49.940294Z"
    },
    "papermill": {
     "duration": 0.010113,
     "end_time": "2024-05-14T06:37:49.942069",
     "exception": false,
     "start_time": "2024-05-14T06:37:49.931956",
     "status": "completed"
    },
    "tags": []
   },
   "outputs": [],
   "source": [
    "def calculate_rates(data, prefix):\n",
    "    data[prefix + '_age_16_to_24_neet_unemployed_rate_sa'] = data[prefix + '_age_16_to_24_neet_unemployed_sa'] / data[prefix + '_age_16_to_24_population'] * 100\n",
    "    data[prefix + '_age_16_to_24_neet_economically_inactive_rate_sa'] = data[prefix + '_age_16_to_24_neet_economically_inactive_sa'] / data[prefix + '_age_16_to_24_population'] * 100\n",
    "    return data\n",
    "  \n",
    "data = data.pipe(\n",
    "    calculate_rates, 'people'\n",
    ").pipe(\n",
    "    calculate_rates, 'men'\n",
    ").pipe(\n",
    "    calculate_rates, 'women'\n",
    ")\n"
   ]
  },
  {
   "cell_type": "code",
   "execution_count": 11,
   "id": "05148043",
   "metadata": {
    "execution": {
     "iopub.execute_input": "2024-05-14T06:37:49.947559Z",
     "iopub.status.busy": "2024-05-14T06:37:49.947152Z",
     "iopub.status.idle": "2024-05-14T06:37:49.953829Z",
     "shell.execute_reply": "2024-05-14T06:37:49.953312Z"
    },
    "papermill": {
     "duration": 0.010796,
     "end_time": "2024-05-14T06:37:49.955073",
     "exception": false,
     "start_time": "2024-05-14T06:37:49.944277",
     "status": "completed"
    },
    "tags": []
   },
   "outputs": [],
   "source": [
    "column_order = [\n",
    "  'people_age_16_to_24_neet_total_sa',\n",
    "  'people_age_16_to_24_neet_unemployed_sa',\n",
    "  'people_age_16_to_24_neet_economically_inactive_sa',\n",
    "  'people_age_16_to_24_population',\n",
    "  'people_age_16_to_24_neet_total_rate_sa',\n",
    "  'people_age_16_to_24_neet_unemployed_rate_sa',\n",
    "  'people_age_16_to_24_neet_economically_inactive_rate_sa',\n",
    "  'men_age_16_to_24_neet_total_sa',\n",
    "  'men_age_16_to_24_neet_unemployed_sa',\n",
    "  'men_age_16_to_24_neet_economically_inactive_sa',\n",
    "  'men_age_16_to_24_population',\n",
    "  'men_age_16_to_24_neet_total_rate_sa',\n",
    "  'men_age_16_to_24_neet_unemployed_rate_sa',\n",
    "  'men_age_16_to_24_neet_economically_inactive_rate_sa',\n",
    "  'women_age_16_to_24_neet_total_sa',\n",
    "  'women_age_16_to_24_neet_unemployed_sa',\n",
    "  'women_age_16_to_24_neet_economically_inactive_sa',\n",
    "  'women_age_16_to_24_population',\n",
    "  'women_age_16_to_24_neet_total_rate_sa',\n",
    "  'women_age_16_to_24_neet_unemployed_rate_sa',\n",
    "  'women_age_16_to_24_neet_economically_inactive_rate_sa'\n",
    "]\n",
    "\n",
    "data.loc[:, column_order].to_csv(NEET_16_24)"
   ]
  },
  {
   "cell_type": "code",
   "execution_count": 12,
   "id": "ac282e52",
   "metadata": {
    "execution": {
     "iopub.execute_input": "2024-05-14T06:37:49.960538Z",
     "iopub.status.busy": "2024-05-14T06:37:49.960073Z",
     "iopub.status.idle": "2024-05-14T06:37:49.971706Z",
     "shell.execute_reply": "2024-05-14T06:37:49.971134Z"
    },
    "papermill": {
     "duration": 0.015818,
     "end_time": "2024-05-14T06:37:49.973064",
     "exception": false,
     "start_time": "2024-05-14T06:37:49.957246",
     "status": "completed"
    },
    "tags": []
   },
   "outputs": [
    {
     "data": {
      "text/plain": [
       "id                     object\n",
       "last_update    datetime64[ns]\n",
       "next_update            object\n",
       "dtype: object"
      ]
     },
     "execution_count": 12,
     "metadata": {},
     "output_type": "execute_result"
    }
   ],
   "source": [
    "metadata = pd.read_csv(ALL_METADATA, parse_dates=['last_update', 'next_update'])\n",
    "metadata.set_index(\n",
    "    'id'\n",
    ").rename(\n",
    "    columns={\n",
    "        'last_update': 'published'\n",
    "    }\n",
    ").loc['NEET'].to_json(NEET_METADATA, date_format='iso')\n",
    "\n",
    "metadata.dtypes\n"
   ]
  },
  {
   "cell_type": "code",
   "execution_count": null,
   "id": "2533c5c0",
   "metadata": {
    "papermill": {
     "duration": 0.002292,
     "end_time": "2024-05-14T06:37:49.977755",
     "exception": false,
     "start_time": "2024-05-14T06:37:49.975463",
     "status": "completed"
    },
    "tags": []
   },
   "outputs": [],
   "source": []
  },
  {
   "cell_type": "code",
   "execution_count": null,
   "id": "de1eed95",
   "metadata": {
    "papermill": {
     "duration": 0.00225,
     "end_time": "2024-05-14T06:37:49.982261",
     "exception": false,
     "start_time": "2024-05-14T06:37:49.980011",
     "status": "completed"
    },
    "tags": []
   },
   "outputs": [],
   "source": []
  }
 ],
 "metadata": {
  "kernelspec": {
   "display_name": "yff-data-ansOWYcy",
   "language": "python",
   "name": "python3"
  },
  "language_info": {
   "codemirror_mode": {
    "name": "ipython",
    "version": 3
   },
   "file_extension": ".py",
   "mimetype": "text/x-python",
   "name": "python",
   "nbconvert_exporter": "python",
   "pygments_lexer": "ipython3",
   "version": "3.10.14"
  },
  "papermill": {
   "default_parameters": {},
   "duration": 1.849132,
   "end_time": "2024-05-14T06:37:50.200562",
   "environment_variables": {},
   "exception": null,
   "input_path": "transform.ipynb",
   "output_path": "../../working/output/neet-transform.ipynb",
   "parameters": {},
   "start_time": "2024-05-14T06:37:48.351430",
   "version": "2.5.0"
  }
 },
 "nbformat": 4,
 "nbformat_minor": 5
}