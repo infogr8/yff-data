{
 "cells": [
  {
   "cell_type": "code",
   "execution_count": 1,
   "id": "7a51b844",
   "metadata": {
    "execution": {
     "iopub.execute_input": "2023-11-15T07:45:34.723423Z",
     "iopub.status.busy": "2023-11-15T07:45:34.723164Z",
     "iopub.status.idle": "2023-11-15T07:45:34.977803Z",
     "shell.execute_reply": "2023-11-15T07:45:34.977205Z"
    },
    "papermill": {
     "duration": 0.259881,
     "end_time": "2023-11-15T07:45:34.979446",
     "exception": false,
     "start_time": "2023-11-15T07:45:34.719565",
     "status": "completed"
    },
    "tags": []
   },
   "outputs": [],
   "source": [
    "import os\n",
    "import sys\n",
    "import pandas as pd\n",
    "\n",
    "LIB_DIR = '../../'\n",
    "if LIB_DIR not in sys.path:\n",
    "    sys.path.append(LIB_DIR)"
   ]
  },
  {
   "cell_type": "code",
   "execution_count": 2,
   "id": "0c061181",
   "metadata": {
    "execution": {
     "iopub.execute_input": "2023-11-15T07:45:34.984701Z",
     "iopub.status.busy": "2023-11-15T07:45:34.984385Z",
     "iopub.status.idle": "2023-11-15T07:45:34.988958Z",
     "shell.execute_reply": "2023-11-15T07:45:34.988406Z"
    },
    "papermill": {
     "duration": 0.008534,
     "end_time": "2023-11-15T07:45:34.990220",
     "exception": false,
     "start_time": "2023-11-15T07:45:34.981686",
     "status": "completed"
    },
    "tags": []
   },
   "outputs": [],
   "source": [
    "from scripts.util.date import quarter_to_date"
   ]
  },
  {
   "cell_type": "code",
   "execution_count": 3,
   "id": "0b5576d2",
   "metadata": {
    "execution": {
     "iopub.execute_input": "2023-11-15T07:45:34.995235Z",
     "iopub.status.busy": "2023-11-15T07:45:34.994765Z",
     "iopub.status.idle": "2023-11-15T07:45:34.998440Z",
     "shell.execute_reply": "2023-11-15T07:45:34.997792Z"
    },
    "papermill": {
     "duration": 0.007859,
     "end_time": "2023-11-15T07:45:34.999912",
     "exception": false,
     "start_time": "2023-11-15T07:45:34.992053",
     "status": "completed"
    },
    "tags": []
   },
   "outputs": [],
   "source": [
    "NEET_DATA = '../../working/upstream/neet.csv'\n",
    "ALL_METADATA = '../../working/upstream/metadata.csv'\n",
    "NEET_16_24 = '../../data/neet/neet.csv'\n",
    "NEET_METADATA = '../../data/neet/metadata.json'\n",
    "\n",
    "os.makedirs(os.path.dirname(NEET_16_24), exist_ok=True)"
   ]
  },
  {
   "cell_type": "code",
   "execution_count": 4,
   "id": "28dbd464",
   "metadata": {
    "execution": {
     "iopub.execute_input": "2023-11-15T07:45:35.004968Z",
     "iopub.status.busy": "2023-11-15T07:45:35.004585Z",
     "iopub.status.idle": "2023-11-15T07:45:35.014047Z",
     "shell.execute_reply": "2023-11-15T07:45:35.013401Z"
    },
    "papermill": {
     "duration": 0.013619,
     "end_time": "2023-11-15T07:45:35.015549",
     "exception": false,
     "start_time": "2023-11-15T07:45:35.001930",
     "status": "completed"
    },
    "tags": []
   },
   "outputs": [],
   "source": [
    "data = pd.read_csv('../../working/upstream/neet.csv')"
   ]
  },
  {
   "cell_type": "code",
   "execution_count": 5,
   "id": "c723c0b4",
   "metadata": {
    "execution": {
     "iopub.execute_input": "2023-11-15T07:45:35.020996Z",
     "iopub.status.busy": "2023-11-15T07:45:35.020572Z",
     "iopub.status.idle": "2023-11-15T07:45:35.023932Z",
     "shell.execute_reply": "2023-11-15T07:45:35.023318Z"
    },
    "papermill": {
     "duration": 0.007683,
     "end_time": "2023-11-15T07:45:35.025378",
     "exception": false,
     "start_time": "2023-11-15T07:45:35.017695",
     "status": "completed"
    },
    "tags": []
   },
   "outputs": [],
   "source": [
    "variable_mapper = {\n",
    "    'Young people who were NEET_Total': 'age_16_to_24_neet_total_sa',\n",
    "    'Young people who were NEET_Unemployed': 'age_16_to_24_neet_unemployed_sa',\n",
    "    'Young people who were NEET_Economically inactive': 'age_16_to_24_neet_economically_inactive_sa',\n",
    "    'Total people in relevant population group': 'age_16_to_24_population',\n",
    "    'People who were NEET as a percentage of people in relevant population group': 'age_16_to_24_neet_total_rate_sa',\n",
    "}"
   ]
  },
  {
   "cell_type": "code",
   "execution_count": 6,
   "id": "c4377cd1",
   "metadata": {
    "execution": {
     "iopub.execute_input": "2023-11-15T07:45:35.030711Z",
     "iopub.status.busy": "2023-11-15T07:45:35.030232Z",
     "iopub.status.idle": "2023-11-15T07:45:35.034558Z",
     "shell.execute_reply": "2023-11-15T07:45:35.033933Z"
    },
    "papermill": {
     "duration": 0.008634,
     "end_time": "2023-11-15T07:45:35.036145",
     "exception": false,
     "start_time": "2023-11-15T07:45:35.027511",
     "status": "completed"
    },
    "tags": []
   },
   "outputs": [],
   "source": [
    "data = data[data.age == 'Aged 16-24']"
   ]
  },
  {
   "cell_type": "code",
   "execution_count": 7,
   "id": "83c26bbe",
   "metadata": {
    "execution": {
     "iopub.execute_input": "2023-11-15T07:45:35.041531Z",
     "iopub.status.busy": "2023-11-15T07:45:35.041082Z",
     "iopub.status.idle": "2023-11-15T07:45:35.045613Z",
     "shell.execute_reply": "2023-11-15T07:45:35.044972Z"
    },
    "papermill": {
     "duration": 0.008818,
     "end_time": "2023-11-15T07:45:35.047066",
     "exception": false,
     "start_time": "2023-11-15T07:45:35.038248",
     "status": "completed"
    },
    "tags": []
   },
   "outputs": [],
   "source": [
    "data = data.replace({\n",
    "  'measure': variable_mapper\n",
    "})"
   ]
  },
  {
   "cell_type": "code",
   "execution_count": 8,
   "id": "98d02b34",
   "metadata": {
    "execution": {
     "iopub.execute_input": "2023-11-15T07:45:35.052467Z",
     "iopub.status.busy": "2023-11-15T07:45:35.052119Z",
     "iopub.status.idle": "2023-11-15T07:45:35.061936Z",
     "shell.execute_reply": "2023-11-15T07:45:35.061267Z"
    },
    "papermill": {
     "duration": 0.01397,
     "end_time": "2023-11-15T07:45:35.063236",
     "exception": false,
     "start_time": "2023-11-15T07:45:35.049266",
     "status": "completed"
    },
    "tags": []
   },
   "outputs": [],
   "source": [
    "data['quarter_start'] = pd.Index(data.date.pipe(quarter_to_date))\n",
    "data['variable'] = data.sheet.str.split(' - ').apply(lambda x: x[0]).str.lower() + '_' + data.measure"
   ]
  },
  {
   "cell_type": "code",
   "execution_count": 9,
   "id": "e007909c",
   "metadata": {
    "execution": {
     "iopub.execute_input": "2023-11-15T07:45:35.069923Z",
     "iopub.status.busy": "2023-11-15T07:45:35.069403Z",
     "iopub.status.idle": "2023-11-15T07:45:35.078336Z",
     "shell.execute_reply": "2023-11-15T07:45:35.077674Z"
    },
    "papermill": {
     "duration": 0.013287,
     "end_time": "2023-11-15T07:45:35.079761",
     "exception": false,
     "start_time": "2023-11-15T07:45:35.066474",
     "status": "completed"
    },
    "tags": []
   },
   "outputs": [],
   "source": [
    "data = data.pivot_table(index='quarter_start', columns='variable', values='value')"
   ]
  },
  {
   "cell_type": "code",
   "execution_count": 10,
   "id": "5782086b",
   "metadata": {
    "execution": {
     "iopub.execute_input": "2023-11-15T07:45:35.085692Z",
     "iopub.status.busy": "2023-11-15T07:45:35.085210Z",
     "iopub.status.idle": "2023-11-15T07:45:35.092131Z",
     "shell.execute_reply": "2023-11-15T07:45:35.091502Z"
    },
    "papermill": {
     "duration": 0.011354,
     "end_time": "2023-11-15T07:45:35.093527",
     "exception": false,
     "start_time": "2023-11-15T07:45:35.082173",
     "status": "completed"
    },
    "tags": []
   },
   "outputs": [],
   "source": [
    "def calculate_rates(data, prefix):\n",
    "    data[prefix + '_age_16_to_24_neet_unemployed_rate_sa'] = data[prefix + '_age_16_to_24_neet_unemployed_sa'] / data[prefix + '_age_16_to_24_population'] * 100\n",
    "    data[prefix + '_age_16_to_24_neet_economically_inactive_rate_sa'] = data[prefix + '_age_16_to_24_neet_economically_inactive_sa'] / data[prefix + '_age_16_to_24_population'] * 100\n",
    "    return data\n",
    "  \n",
    "data = data.pipe(\n",
    "    calculate_rates, 'people'\n",
    ").pipe(\n",
    "    calculate_rates, 'men'\n",
    ").pipe(\n",
    "    calculate_rates, 'women'\n",
    ")\n"
   ]
  },
  {
   "cell_type": "code",
   "execution_count": 11,
   "id": "7201f267",
   "metadata": {
    "execution": {
     "iopub.execute_input": "2023-11-15T07:45:35.099496Z",
     "iopub.status.busy": "2023-11-15T07:45:35.099003Z",
     "iopub.status.idle": "2023-11-15T07:45:35.106800Z",
     "shell.execute_reply": "2023-11-15T07:45:35.106263Z"
    },
    "papermill": {
     "duration": 0.012301,
     "end_time": "2023-11-15T07:45:35.108148",
     "exception": false,
     "start_time": "2023-11-15T07:45:35.095847",
     "status": "completed"
    },
    "tags": []
   },
   "outputs": [],
   "source": [
    "column_order = [\n",
    "  'people_age_16_to_24_neet_total_sa',\n",
    "  'people_age_16_to_24_neet_unemployed_sa',\n",
    "  'people_age_16_to_24_neet_economically_inactive_sa',\n",
    "  'people_age_16_to_24_population',\n",
    "  'people_age_16_to_24_neet_total_rate_sa',\n",
    "  'people_age_16_to_24_neet_unemployed_rate_sa',\n",
    "  'people_age_16_to_24_neet_economically_inactive_rate_sa',\n",
    "  'men_age_16_to_24_neet_total_sa',\n",
    "  'men_age_16_to_24_neet_unemployed_sa',\n",
    "  'men_age_16_to_24_neet_economically_inactive_sa',\n",
    "  'men_age_16_to_24_population',\n",
    "  'men_age_16_to_24_neet_total_rate_sa',\n",
    "  'men_age_16_to_24_neet_unemployed_rate_sa',\n",
    "  'men_age_16_to_24_neet_economically_inactive_rate_sa',\n",
    "  'women_age_16_to_24_neet_total_sa',\n",
    "  'women_age_16_to_24_neet_unemployed_sa',\n",
    "  'women_age_16_to_24_neet_economically_inactive_sa',\n",
    "  'women_age_16_to_24_population',\n",
    "  'women_age_16_to_24_neet_total_rate_sa',\n",
    "  'women_age_16_to_24_neet_unemployed_rate_sa',\n",
    "  'women_age_16_to_24_neet_economically_inactive_rate_sa'\n",
    "]\n",
    "\n",
    "data.loc[:, column_order].to_csv(NEET_16_24)"
   ]
  },
  {
   "cell_type": "code",
   "execution_count": 12,
   "id": "f7183d87",
   "metadata": {
    "execution": {
     "iopub.execute_input": "2023-11-15T07:45:35.113917Z",
     "iopub.status.busy": "2023-11-15T07:45:35.113503Z",
     "iopub.status.idle": "2023-11-15T07:45:35.126050Z",
     "shell.execute_reply": "2023-11-15T07:45:35.125436Z"
    },
    "papermill": {
     "duration": 0.016951,
     "end_time": "2023-11-15T07:45:35.127410",
     "exception": false,
     "start_time": "2023-11-15T07:45:35.110459",
     "status": "completed"
    },
    "tags": []
   },
   "outputs": [
    {
     "data": {
      "text/plain": [
       "id                     object\n",
       "last_update    datetime64[ns]\n",
       "next_update    datetime64[ns]\n",
       "dtype: object"
      ]
     },
     "execution_count": 12,
     "metadata": {},
     "output_type": "execute_result"
    }
   ],
   "source": [
    "metadata = pd.read_csv(ALL_METADATA, parse_dates=['last_update', 'next_update'])\n",
    "metadata.set_index(\n",
    "    'id'\n",
    ").rename(\n",
    "    columns={\n",
    "        'last_update': 'published'\n",
    "    }\n",
    ").loc['NEET'].to_json(NEET_METADATA, date_format='iso')\n",
    "\n",
    "metadata.dtypes\n"
   ]
  },
  {
   "cell_type": "code",
   "execution_count": null,
   "id": "7ff8afe2",
   "metadata": {
    "papermill": {
     "duration": 0.002421,
     "end_time": "2023-11-15T07:45:35.132406",
     "exception": false,
     "start_time": "2023-11-15T07:45:35.129985",
     "status": "completed"
    },
    "tags": []
   },
   "outputs": [],
   "source": []
  },
  {
   "cell_type": "code",
   "execution_count": null,
   "id": "a68714ac",
   "metadata": {
    "papermill": {
     "duration": 0.002306,
     "end_time": "2023-11-15T07:45:35.137046",
     "exception": false,
     "start_time": "2023-11-15T07:45:35.134740",
     "status": "completed"
    },
    "tags": []
   },
   "outputs": [],
   "source": []
  }
 ],
 "metadata": {
  "kernelspec": {
   "display_name": "yff-data-ansOWYcy",
   "language": "python",
   "name": "python3"
  },
  "language_info": {
   "codemirror_mode": {
    "name": "ipython",
    "version": 3
   },
   "file_extension": ".py",
   "mimetype": "text/x-python",
   "name": "python",
   "nbconvert_exporter": "python",
   "pygments_lexer": "ipython3",
   "version": "3.10.13"
  },
  "papermill": {
   "default_parameters": {},
   "duration": 1.860995,
   "end_time": "2023-11-15T07:45:35.356597",
   "environment_variables": {},
   "exception": null,
   "input_path": "transform.ipynb",
   "output_path": "../../working/output/neet-transform.ipynb",
   "parameters": {},
   "start_time": "2023-11-15T07:45:33.495602",
   "version": "2.4.0"
  }
 },
 "nbformat": 4,
 "nbformat_minor": 5
}