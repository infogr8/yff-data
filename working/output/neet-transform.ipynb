{
 "cells": [
  {
   "cell_type": "code",
   "execution_count": 1,
   "id": "a49ae47e",
   "metadata": {
    "execution": {
     "iopub.execute_input": "2024-04-17T06:38:11.402616Z",
     "iopub.status.busy": "2024-04-17T06:38:11.402077Z",
     "iopub.status.idle": "2024-04-17T06:38:11.716286Z",
     "shell.execute_reply": "2024-04-17T06:38:11.715684Z"
    },
    "papermill": {
     "duration": 0.320484,
     "end_time": "2024-04-17T06:38:11.718052",
     "exception": false,
     "start_time": "2024-04-17T06:38:11.397568",
     "status": "completed"
    },
    "tags": []
   },
   "outputs": [],
   "source": [
    "import os\n",
    "import sys\n",
    "import pandas as pd\n",
    "\n",
    "LIB_DIR = '../../'\n",
    "if LIB_DIR not in sys.path:\n",
    "    sys.path.append(LIB_DIR)"
   ]
  },
  {
   "cell_type": "code",
   "execution_count": 2,
   "id": "d054c664",
   "metadata": {
    "execution": {
     "iopub.execute_input": "2024-04-17T06:38:11.723651Z",
     "iopub.status.busy": "2024-04-17T06:38:11.723209Z",
     "iopub.status.idle": "2024-04-17T06:38:11.727365Z",
     "shell.execute_reply": "2024-04-17T06:38:11.726860Z"
    },
    "papermill": {
     "duration": 0.008308,
     "end_time": "2024-04-17T06:38:11.728691",
     "exception": false,
     "start_time": "2024-04-17T06:38:11.720383",
     "status": "completed"
    },
    "tags": []
   },
   "outputs": [],
   "source": [
    "from scripts.util.date import quarter_to_date"
   ]
  },
  {
   "cell_type": "code",
   "execution_count": 3,
   "id": "42335884",
   "metadata": {
    "execution": {
     "iopub.execute_input": "2024-04-17T06:38:11.733765Z",
     "iopub.status.busy": "2024-04-17T06:38:11.733414Z",
     "iopub.status.idle": "2024-04-17T06:38:11.736766Z",
     "shell.execute_reply": "2024-04-17T06:38:11.736261Z"
    },
    "papermill": {
     "duration": 0.007386,
     "end_time": "2024-04-17T06:38:11.738079",
     "exception": false,
     "start_time": "2024-04-17T06:38:11.730693",
     "status": "completed"
    },
    "tags": []
   },
   "outputs": [],
   "source": [
    "NEET_DATA = '../../working/upstream/neet.csv'\n",
    "ALL_METADATA = '../../working/upstream/metadata.csv'\n",
    "NEET_16_24 = '../../data/neet/neet.csv'\n",
    "NEET_METADATA = '../../data/neet/metadata.json'\n",
    "\n",
    "os.makedirs(os.path.dirname(NEET_16_24), exist_ok=True)"
   ]
  },
  {
   "cell_type": "code",
   "execution_count": 4,
   "id": "eb868568",
   "metadata": {
    "execution": {
     "iopub.execute_input": "2024-04-17T06:38:11.743125Z",
     "iopub.status.busy": "2024-04-17T06:38:11.742735Z",
     "iopub.status.idle": "2024-04-17T06:38:11.751191Z",
     "shell.execute_reply": "2024-04-17T06:38:11.750660Z"
    },
    "papermill": {
     "duration": 0.012506,
     "end_time": "2024-04-17T06:38:11.752538",
     "exception": false,
     "start_time": "2024-04-17T06:38:11.740032",
     "status": "completed"
    },
    "tags": []
   },
   "outputs": [],
   "source": [
    "data = pd.read_csv('../../working/upstream/neet.csv')"
   ]
  },
  {
   "cell_type": "code",
   "execution_count": 5,
   "id": "c81af2bd",
   "metadata": {
    "execution": {
     "iopub.execute_input": "2024-04-17T06:38:11.757777Z",
     "iopub.status.busy": "2024-04-17T06:38:11.757389Z",
     "iopub.status.idle": "2024-04-17T06:38:11.760645Z",
     "shell.execute_reply": "2024-04-17T06:38:11.760101Z"
    },
    "papermill": {
     "duration": 0.007373,
     "end_time": "2024-04-17T06:38:11.761996",
     "exception": false,
     "start_time": "2024-04-17T06:38:11.754623",
     "status": "completed"
    },
    "tags": []
   },
   "outputs": [],
   "source": [
    "variable_mapper = {\n",
    "    'Young people who were NEET_Total': 'age_16_to_24_neet_total_sa',\n",
    "    'Young people who were NEET_Unemployed': 'age_16_to_24_neet_unemployed_sa',\n",
    "    'Young people who were NEET_Economically inactive': 'age_16_to_24_neet_economically_inactive_sa',\n",
    "    'Total people in relevant population group': 'age_16_to_24_population',\n",
    "    'People who were NEET as a percentage of people in relevant population group': 'age_16_to_24_neet_total_rate_sa',\n",
    "}"
   ]
  },
  {
   "cell_type": "code",
   "execution_count": 6,
   "id": "ae728a7e",
   "metadata": {
    "execution": {
     "iopub.execute_input": "2024-04-17T06:38:11.767173Z",
     "iopub.status.busy": "2024-04-17T06:38:11.766804Z",
     "iopub.status.idle": "2024-04-17T06:38:11.770895Z",
     "shell.execute_reply": "2024-04-17T06:38:11.770369Z"
    },
    "papermill": {
     "duration": 0.008218,
     "end_time": "2024-04-17T06:38:11.772213",
     "exception": false,
     "start_time": "2024-04-17T06:38:11.763995",
     "status": "completed"
    },
    "tags": []
   },
   "outputs": [],
   "source": [
    "data = data[data.age == 'Aged 16-24']"
   ]
  },
  {
   "cell_type": "code",
   "execution_count": 7,
   "id": "3ad92dfe",
   "metadata": {
    "execution": {
     "iopub.execute_input": "2024-04-17T06:38:11.777310Z",
     "iopub.status.busy": "2024-04-17T06:38:11.777032Z",
     "iopub.status.idle": "2024-04-17T06:38:11.781294Z",
     "shell.execute_reply": "2024-04-17T06:38:11.780684Z"
    },
    "papermill": {
     "duration": 0.008296,
     "end_time": "2024-04-17T06:38:11.782599",
     "exception": false,
     "start_time": "2024-04-17T06:38:11.774303",
     "status": "completed"
    },
    "tags": []
   },
   "outputs": [],
   "source": [
    "data = data.replace({\n",
    "  'measure': variable_mapper\n",
    "})"
   ]
  },
  {
   "cell_type": "code",
   "execution_count": 8,
   "id": "37d0cef5",
   "metadata": {
    "execution": {
     "iopub.execute_input": "2024-04-17T06:38:11.787839Z",
     "iopub.status.busy": "2024-04-17T06:38:11.787464Z",
     "iopub.status.idle": "2024-04-17T06:38:11.797294Z",
     "shell.execute_reply": "2024-04-17T06:38:11.796739Z"
    },
    "papermill": {
     "duration": 0.01387,
     "end_time": "2024-04-17T06:38:11.798538",
     "exception": false,
     "start_time": "2024-04-17T06:38:11.784668",
     "status": "completed"
    },
    "tags": []
   },
   "outputs": [],
   "source": [
    "data['quarter_start'] = pd.Index(data.date.pipe(quarter_to_date))\n",
    "data['variable'] = data.sheet.str.split(' - ').apply(lambda x: x[0]).str.lower() + '_' + data.measure"
   ]
  },
  {
   "cell_type": "code",
   "execution_count": 9,
   "id": "30dce4aa",
   "metadata": {
    "execution": {
     "iopub.execute_input": "2024-04-17T06:38:11.803909Z",
     "iopub.status.busy": "2024-04-17T06:38:11.803521Z",
     "iopub.status.idle": "2024-04-17T06:38:11.811641Z",
     "shell.execute_reply": "2024-04-17T06:38:11.811121Z"
    },
    "papermill": {
     "duration": 0.012178,
     "end_time": "2024-04-17T06:38:11.812911",
     "exception": false,
     "start_time": "2024-04-17T06:38:11.800733",
     "status": "completed"
    },
    "tags": []
   },
   "outputs": [],
   "source": [
    "data = data.pivot_table(index='quarter_start', columns='variable', values='value')"
   ]
  },
  {
   "cell_type": "code",
   "execution_count": 10,
   "id": "cb7b992f",
   "metadata": {
    "execution": {
     "iopub.execute_input": "2024-04-17T06:38:11.818332Z",
     "iopub.status.busy": "2024-04-17T06:38:11.817951Z",
     "iopub.status.idle": "2024-04-17T06:38:11.824444Z",
     "shell.execute_reply": "2024-04-17T06:38:11.823887Z"
    },
    "papermill": {
     "duration": 0.010632,
     "end_time": "2024-04-17T06:38:11.825735",
     "exception": false,
     "start_time": "2024-04-17T06:38:11.815103",
     "status": "completed"
    },
    "tags": []
   },
   "outputs": [],
   "source": [
    "def calculate_rates(data, prefix):\n",
    "    data[prefix + '_age_16_to_24_neet_unemployed_rate_sa'] = data[prefix + '_age_16_to_24_neet_unemployed_sa'] / data[prefix + '_age_16_to_24_population'] * 100\n",
    "    data[prefix + '_age_16_to_24_neet_economically_inactive_rate_sa'] = data[prefix + '_age_16_to_24_neet_economically_inactive_sa'] / data[prefix + '_age_16_to_24_population'] * 100\n",
    "    return data\n",
    "  \n",
    "data = data.pipe(\n",
    "    calculate_rates, 'people'\n",
    ").pipe(\n",
    "    calculate_rates, 'men'\n",
    ").pipe(\n",
    "    calculate_rates, 'women'\n",
    ")\n"
   ]
  },
  {
   "cell_type": "code",
   "execution_count": 11,
   "id": "7bc83a4d",
   "metadata": {
    "execution": {
     "iopub.execute_input": "2024-04-17T06:38:11.831437Z",
     "iopub.status.busy": "2024-04-17T06:38:11.830968Z",
     "iopub.status.idle": "2024-04-17T06:38:11.838042Z",
     "shell.execute_reply": "2024-04-17T06:38:11.837501Z"
    },
    "papermill": {
     "duration": 0.011319,
     "end_time": "2024-04-17T06:38:11.839290",
     "exception": false,
     "start_time": "2024-04-17T06:38:11.827971",
     "status": "completed"
    },
    "tags": []
   },
   "outputs": [],
   "source": [
    "column_order = [\n",
    "  'people_age_16_to_24_neet_total_sa',\n",
    "  'people_age_16_to_24_neet_unemployed_sa',\n",
    "  'people_age_16_to_24_neet_economically_inactive_sa',\n",
    "  'people_age_16_to_24_population',\n",
    "  'people_age_16_to_24_neet_total_rate_sa',\n",
    "  'people_age_16_to_24_neet_unemployed_rate_sa',\n",
    "  'people_age_16_to_24_neet_economically_inactive_rate_sa',\n",
    "  'men_age_16_to_24_neet_total_sa',\n",
    "  'men_age_16_to_24_neet_unemployed_sa',\n",
    "  'men_age_16_to_24_neet_economically_inactive_sa',\n",
    "  'men_age_16_to_24_population',\n",
    "  'men_age_16_to_24_neet_total_rate_sa',\n",
    "  'men_age_16_to_24_neet_unemployed_rate_sa',\n",
    "  'men_age_16_to_24_neet_economically_inactive_rate_sa',\n",
    "  'women_age_16_to_24_neet_total_sa',\n",
    "  'women_age_16_to_24_neet_unemployed_sa',\n",
    "  'women_age_16_to_24_neet_economically_inactive_sa',\n",
    "  'women_age_16_to_24_population',\n",
    "  'women_age_16_to_24_neet_total_rate_sa',\n",
    "  'women_age_16_to_24_neet_unemployed_rate_sa',\n",
    "  'women_age_16_to_24_neet_economically_inactive_rate_sa'\n",
    "]\n",
    "\n",
    "data.loc[:, column_order].to_csv(NEET_16_24)"
   ]
  },
  {
   "cell_type": "code",
   "execution_count": 12,
   "id": "b008d801",
   "metadata": {
    "execution": {
     "iopub.execute_input": "2024-04-17T06:38:11.844853Z",
     "iopub.status.busy": "2024-04-17T06:38:11.844449Z",
     "iopub.status.idle": "2024-04-17T06:38:11.856945Z",
     "shell.execute_reply": "2024-04-17T06:38:11.856353Z"
    },
    "papermill": {
     "duration": 0.016727,
     "end_time": "2024-04-17T06:38:11.858258",
     "exception": false,
     "start_time": "2024-04-17T06:38:11.841531",
     "status": "completed"
    },
    "tags": []
   },
   "outputs": [
    {
     "data": {
      "text/plain": [
       "id                     object\n",
       "last_update    datetime64[ns]\n",
       "next_update            object\n",
       "dtype: object"
      ]
     },
     "execution_count": 12,
     "metadata": {},
     "output_type": "execute_result"
    }
   ],
   "source": [
    "metadata = pd.read_csv(ALL_METADATA, parse_dates=['last_update', 'next_update'])\n",
    "metadata.set_index(\n",
    "    'id'\n",
    ").rename(\n",
    "    columns={\n",
    "        'last_update': 'published'\n",
    "    }\n",
    ").loc['NEET'].to_json(NEET_METADATA, date_format='iso')\n",
    "\n",
    "metadata.dtypes\n"
   ]
  },
  {
   "cell_type": "code",
   "execution_count": null,
   "id": "0ca18ded",
   "metadata": {
    "papermill": {
     "duration": 0.002372,
     "end_time": "2024-04-17T06:38:11.863044",
     "exception": false,
     "start_time": "2024-04-17T06:38:11.860672",
     "status": "completed"
    },
    "tags": []
   },
   "outputs": [],
   "source": []
  },
  {
   "cell_type": "code",
   "execution_count": null,
   "id": "be07270b",
   "metadata": {
    "papermill": {
     "duration": 0.002195,
     "end_time": "2024-04-17T06:38:11.867518",
     "exception": false,
     "start_time": "2024-04-17T06:38:11.865323",
     "status": "completed"
    },
    "tags": []
   },
   "outputs": [],
   "source": []
  }
 ],
 "metadata": {
  "kernelspec": {
   "display_name": "yff-data-ansOWYcy",
   "language": "python",
   "name": "python3"
  },
  "language_info": {
   "codemirror_mode": {
    "name": "ipython",
    "version": 3
   },
   "file_extension": ".py",
   "mimetype": "text/x-python",
   "name": "python",
   "nbconvert_exporter": "python",
   "pygments_lexer": "ipython3",
   "version": "3.10.14"
  },
  "papermill": {
   "default_parameters": {},
   "duration": 1.874957,
   "end_time": "2024-04-17T06:38:12.085635",
   "environment_variables": {},
   "exception": null,
   "input_path": "transform.ipynb",
   "output_path": "../../working/output/neet-transform.ipynb",
   "parameters": {},
   "start_time": "2024-04-17T06:38:10.210678",
   "version": "2.5.0"
  }
 },
 "nbformat": 4,
 "nbformat_minor": 5
}