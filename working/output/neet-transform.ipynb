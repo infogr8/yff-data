{
 "cells": [
  {
   "cell_type": "code",
   "execution_count": 1,
   "id": "8686b1da",
   "metadata": {
    "execution": {
     "iopub.execute_input": "2025-02-19T08:25:55.402949Z",
     "iopub.status.busy": "2025-02-19T08:25:55.402692Z",
     "iopub.status.idle": "2025-02-19T08:25:55.715453Z",
     "shell.execute_reply": "2025-02-19T08:25:55.714883Z"
    },
    "papermill": {
     "duration": 0.318104,
     "end_time": "2025-02-19T08:25:55.717101",
     "exception": false,
     "start_time": "2025-02-19T08:25:55.398997",
     "status": "completed"
    },
    "tags": []
   },
   "outputs": [],
   "source": [
    "import os\n",
    "import sys\n",
    "import pandas as pd\n",
    "\n",
    "LIB_DIR = '../../'\n",
    "if LIB_DIR not in sys.path:\n",
    "    sys.path.append(LIB_DIR)"
   ]
  },
  {
   "cell_type": "code",
   "execution_count": 2,
   "id": "5934cfa2",
   "metadata": {
    "execution": {
     "iopub.execute_input": "2025-02-19T08:25:55.722609Z",
     "iopub.status.busy": "2025-02-19T08:25:55.722122Z",
     "iopub.status.idle": "2025-02-19T08:25:55.726500Z",
     "shell.execute_reply": "2025-02-19T08:25:55.725823Z"
    },
    "papermill": {
     "duration": 0.008536,
     "end_time": "2025-02-19T08:25:55.727946",
     "exception": false,
     "start_time": "2025-02-19T08:25:55.719410",
     "status": "completed"
    },
    "tags": []
   },
   "outputs": [],
   "source": [
    "from scripts.util.date import quarter_to_date"
   ]
  },
  {
   "cell_type": "code",
   "execution_count": 3,
   "id": "c7ad798d",
   "metadata": {
    "execution": {
     "iopub.execute_input": "2025-02-19T08:25:55.733176Z",
     "iopub.status.busy": "2025-02-19T08:25:55.732751Z",
     "iopub.status.idle": "2025-02-19T08:25:55.736204Z",
     "shell.execute_reply": "2025-02-19T08:25:55.735599Z"
    },
    "papermill": {
     "duration": 0.007506,
     "end_time": "2025-02-19T08:25:55.737462",
     "exception": false,
     "start_time": "2025-02-19T08:25:55.729956",
     "status": "completed"
    },
    "tags": []
   },
   "outputs": [],
   "source": [
    "NEET_DATA = '../../working/upstream/neet.csv'\n",
    "ALL_METADATA = '../../working/upstream/metadata.csv'\n",
    "NEET_16_24 = '../../data/neet/neet.csv'\n",
    "NEET_METADATA = '../../data/neet/metadata.json'\n",
    "\n",
    "os.makedirs(os.path.dirname(NEET_16_24), exist_ok=True)"
   ]
  },
  {
   "cell_type": "code",
   "execution_count": 4,
   "id": "4cdfe4f5",
   "metadata": {
    "execution": {
     "iopub.execute_input": "2025-02-19T08:25:55.742536Z",
     "iopub.status.busy": "2025-02-19T08:25:55.742167Z",
     "iopub.status.idle": "2025-02-19T08:25:55.751010Z",
     "shell.execute_reply": "2025-02-19T08:25:55.750377Z"
    },
    "papermill": {
     "duration": 0.012886,
     "end_time": "2025-02-19T08:25:55.752320",
     "exception": false,
     "start_time": "2025-02-19T08:25:55.739434",
     "status": "completed"
    },
    "tags": []
   },
   "outputs": [],
   "source": [
    "data = pd.read_csv('../../working/upstream/neet.csv')"
   ]
  },
  {
   "cell_type": "code",
   "execution_count": 5,
   "id": "ddf37992",
   "metadata": {
    "execution": {
     "iopub.execute_input": "2025-02-19T08:25:55.757511Z",
     "iopub.status.busy": "2025-02-19T08:25:55.757095Z",
     "iopub.status.idle": "2025-02-19T08:25:55.760319Z",
     "shell.execute_reply": "2025-02-19T08:25:55.759709Z"
    },
    "papermill": {
     "duration": 0.007267,
     "end_time": "2025-02-19T08:25:55.761642",
     "exception": false,
     "start_time": "2025-02-19T08:25:55.754375",
     "status": "completed"
    },
    "tags": []
   },
   "outputs": [],
   "source": [
    "variable_mapper = {\n",
    "    'Young people who were NEET_Total': 'age_16_to_24_neet_total_sa',\n",
    "    'Young people who were NEET_Unemployed': 'age_16_to_24_neet_unemployed_sa',\n",
    "    'Young people who were NEET_Economically inactive': 'age_16_to_24_neet_economically_inactive_sa',\n",
    "    'Total people in relevant population group': 'age_16_to_24_population',\n",
    "    'People who were NEET as a percentage of people in relevant population group': 'age_16_to_24_neet_total_rate_sa',\n",
    "}"
   ]
  },
  {
   "cell_type": "code",
   "execution_count": 6,
   "id": "55e773c4",
   "metadata": {
    "execution": {
     "iopub.execute_input": "2025-02-19T08:25:55.766827Z",
     "iopub.status.busy": "2025-02-19T08:25:55.766439Z",
     "iopub.status.idle": "2025-02-19T08:25:55.770544Z",
     "shell.execute_reply": "2025-02-19T08:25:55.770022Z"
    },
    "papermill": {
     "duration": 0.008267,
     "end_time": "2025-02-19T08:25:55.771943",
     "exception": false,
     "start_time": "2025-02-19T08:25:55.763676",
     "status": "completed"
    },
    "tags": []
   },
   "outputs": [],
   "source": [
    "data = data[data.age == 'Aged 16-24']"
   ]
  },
  {
   "cell_type": "code",
   "execution_count": 7,
   "id": "9a0fc12f",
   "metadata": {
    "execution": {
     "iopub.execute_input": "2025-02-19T08:25:55.776822Z",
     "iopub.status.busy": "2025-02-19T08:25:55.776644Z",
     "iopub.status.idle": "2025-02-19T08:25:55.781021Z",
     "shell.execute_reply": "2025-02-19T08:25:55.780520Z"
    },
    "papermill": {
     "duration": 0.008283,
     "end_time": "2025-02-19T08:25:55.782281",
     "exception": false,
     "start_time": "2025-02-19T08:25:55.773998",
     "status": "completed"
    },
    "tags": []
   },
   "outputs": [],
   "source": [
    "data = data.replace({\n",
    "  'measure': variable_mapper\n",
    "})"
   ]
  },
  {
   "cell_type": "code",
   "execution_count": 8,
   "id": "18958801",
   "metadata": {
    "execution": {
     "iopub.execute_input": "2025-02-19T08:25:55.787354Z",
     "iopub.status.busy": "2025-02-19T08:25:55.787007Z",
     "iopub.status.idle": "2025-02-19T08:25:55.796604Z",
     "shell.execute_reply": "2025-02-19T08:25:55.795972Z"
    },
    "papermill": {
     "duration": 0.013617,
     "end_time": "2025-02-19T08:25:55.797972",
     "exception": false,
     "start_time": "2025-02-19T08:25:55.784355",
     "status": "completed"
    },
    "tags": []
   },
   "outputs": [],
   "source": [
    "data['quarter_start'] = pd.Index(data.date.pipe(quarter_to_date))\n",
    "data['variable'] = data.sheet.str.split(' - ').apply(lambda x: x[0]).str.lower() + '_' + data.measure"
   ]
  },
  {
   "cell_type": "code",
   "execution_count": 9,
   "id": "1b4cacdd",
   "metadata": {
    "execution": {
     "iopub.execute_input": "2025-02-19T08:25:55.803428Z",
     "iopub.status.busy": "2025-02-19T08:25:55.802952Z",
     "iopub.status.idle": "2025-02-19T08:25:55.811836Z",
     "shell.execute_reply": "2025-02-19T08:25:55.811179Z"
    },
    "papermill": {
     "duration": 0.013087,
     "end_time": "2025-02-19T08:25:55.813233",
     "exception": false,
     "start_time": "2025-02-19T08:25:55.800146",
     "status": "completed"
    },
    "tags": []
   },
   "outputs": [],
   "source": [
    "data = data.pivot_table(index='quarter_start', columns='variable', values='value')"
   ]
  },
  {
   "cell_type": "code",
   "execution_count": 10,
   "id": "8fd98ddd",
   "metadata": {
    "execution": {
     "iopub.execute_input": "2025-02-19T08:25:55.818711Z",
     "iopub.status.busy": "2025-02-19T08:25:55.818265Z",
     "iopub.status.idle": "2025-02-19T08:25:55.824795Z",
     "shell.execute_reply": "2025-02-19T08:25:55.824115Z"
    },
    "papermill": {
     "duration": 0.010744,
     "end_time": "2025-02-19T08:25:55.826157",
     "exception": false,
     "start_time": "2025-02-19T08:25:55.815413",
     "status": "completed"
    },
    "tags": []
   },
   "outputs": [],
   "source": [
    "def calculate_rates(data, prefix):\n",
    "    data[prefix + '_age_16_to_24_neet_unemployed_rate_sa'] = data[prefix + '_age_16_to_24_neet_unemployed_sa'] / data[prefix + '_age_16_to_24_population'] * 100\n",
    "    data[prefix + '_age_16_to_24_neet_economically_inactive_rate_sa'] = data[prefix + '_age_16_to_24_neet_economically_inactive_sa'] / data[prefix + '_age_16_to_24_population'] * 100\n",
    "    return data\n",
    "  \n",
    "data = data.pipe(\n",
    "    calculate_rates, 'people'\n",
    ").pipe(\n",
    "    calculate_rates, 'men'\n",
    ").pipe(\n",
    "    calculate_rates, 'women'\n",
    ")\n"
   ]
  },
  {
   "cell_type": "code",
   "execution_count": 11,
   "id": "59eb9237",
   "metadata": {
    "execution": {
     "iopub.execute_input": "2025-02-19T08:25:55.831554Z",
     "iopub.status.busy": "2025-02-19T08:25:55.831364Z",
     "iopub.status.idle": "2025-02-19T08:25:55.838113Z",
     "shell.execute_reply": "2025-02-19T08:25:55.837612Z"
    },
    "papermill": {
     "duration": 0.010966,
     "end_time": "2025-02-19T08:25:55.839388",
     "exception": false,
     "start_time": "2025-02-19T08:25:55.828422",
     "status": "completed"
    },
    "tags": []
   },
   "outputs": [],
   "source": [
    "column_order = [\n",
    "  'people_age_16_to_24_neet_total_sa',\n",
    "  'people_age_16_to_24_neet_unemployed_sa',\n",
    "  'people_age_16_to_24_neet_economically_inactive_sa',\n",
    "  'people_age_16_to_24_population',\n",
    "  'people_age_16_to_24_neet_total_rate_sa',\n",
    "  'people_age_16_to_24_neet_unemployed_rate_sa',\n",
    "  'people_age_16_to_24_neet_economically_inactive_rate_sa',\n",
    "  'men_age_16_to_24_neet_total_sa',\n",
    "  'men_age_16_to_24_neet_unemployed_sa',\n",
    "  'men_age_16_to_24_neet_economically_inactive_sa',\n",
    "  'men_age_16_to_24_population',\n",
    "  'men_age_16_to_24_neet_total_rate_sa',\n",
    "  'men_age_16_to_24_neet_unemployed_rate_sa',\n",
    "  'men_age_16_to_24_neet_economically_inactive_rate_sa',\n",
    "  'women_age_16_to_24_neet_total_sa',\n",
    "  'women_age_16_to_24_neet_unemployed_sa',\n",
    "  'women_age_16_to_24_neet_economically_inactive_sa',\n",
    "  'women_age_16_to_24_population',\n",
    "  'women_age_16_to_24_neet_total_rate_sa',\n",
    "  'women_age_16_to_24_neet_unemployed_rate_sa',\n",
    "  'women_age_16_to_24_neet_economically_inactive_rate_sa'\n",
    "]\n",
    "\n",
    "data.loc[:, column_order].to_csv(NEET_16_24)"
   ]
  },
  {
   "cell_type": "code",
   "execution_count": 12,
   "id": "ed7d7672",
   "metadata": {
    "execution": {
     "iopub.execute_input": "2025-02-19T08:25:55.844739Z",
     "iopub.status.busy": "2025-02-19T08:25:55.844379Z",
     "iopub.status.idle": "2025-02-19T08:25:55.856557Z",
     "shell.execute_reply": "2025-02-19T08:25:55.855972Z"
    },
    "papermill": {
     "duration": 0.016428,
     "end_time": "2025-02-19T08:25:55.857941",
     "exception": false,
     "start_time": "2025-02-19T08:25:55.841513",
     "status": "completed"
    },
    "tags": []
   },
   "outputs": [
    {
     "data": {
      "text/plain": [
       "id                     object\n",
       "last_update    datetime64[ns]\n",
       "next_update            object\n",
       "dtype: object"
      ]
     },
     "execution_count": 12,
     "metadata": {},
     "output_type": "execute_result"
    }
   ],
   "source": [
    "metadata = pd.read_csv(ALL_METADATA, parse_dates=['last_update', 'next_update'])\n",
    "metadata.set_index(\n",
    "    'id'\n",
    ").rename(\n",
    "    columns={\n",
    "        'last_update': 'published'\n",
    "    }\n",
    ").loc['NEET'].to_json(NEET_METADATA, date_format='iso')\n",
    "\n",
    "metadata.dtypes\n"
   ]
  },
  {
   "cell_type": "code",
   "execution_count": null,
   "id": "a70cb758",
   "metadata": {
    "papermill": {
     "duration": 0.002308,
     "end_time": "2025-02-19T08:25:55.862611",
     "exception": false,
     "start_time": "2025-02-19T08:25:55.860303",
     "status": "completed"
    },
    "tags": []
   },
   "outputs": [],
   "source": []
  },
  {
   "cell_type": "code",
   "execution_count": null,
   "id": "b60d276c",
   "metadata": {
    "papermill": {
     "duration": 0.003275,
     "end_time": "2025-02-19T08:25:55.868153",
     "exception": false,
     "start_time": "2025-02-19T08:25:55.864878",
     "status": "completed"
    },
    "tags": []
   },
   "outputs": [],
   "source": []
  }
 ],
 "metadata": {
  "kernelspec": {
   "display_name": "yff-data-ansOWYcy",
   "language": "python",
   "name": "python3"
  },
  "language_info": {
   "codemirror_mode": {
    "name": "ipython",
    "version": 3
   },
   "file_extension": ".py",
   "mimetype": "text/x-python",
   "name": "python",
   "nbconvert_exporter": "python",
   "pygments_lexer": "ipython3",
   "version": "3.10.16"
  },
  "papermill": {
   "default_parameters": {},
   "duration": 1.950575,
   "end_time": "2025-02-19T08:25:56.086681",
   "environment_variables": {},
   "exception": null,
   "input_path": "transform.ipynb",
   "output_path": "../../working/output/neet-transform.ipynb",
   "parameters": {},
   "start_time": "2025-02-19T08:25:54.136106",
   "version": "2.5.0"
  }
 },
 "nbformat": 4,
 "nbformat_minor": 5
}