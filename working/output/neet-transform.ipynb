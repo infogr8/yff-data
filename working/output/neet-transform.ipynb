{
 "cells": [
  {
   "cell_type": "code",
   "execution_count": 1,
   "id": "adf5fbee",
   "metadata": {
    "execution": {
     "iopub.execute_input": "2023-12-06T07:45:36.820737Z",
     "iopub.status.busy": "2023-12-06T07:45:36.820551Z",
     "iopub.status.idle": "2023-12-06T07:45:37.045867Z",
     "shell.execute_reply": "2023-12-06T07:45:37.045328Z"
    },
    "papermill": {
     "duration": 0.230097,
     "end_time": "2023-12-06T07:45:37.047465",
     "exception": false,
     "start_time": "2023-12-06T07:45:36.817368",
     "status": "completed"
    },
    "tags": []
   },
   "outputs": [],
   "source": [
    "import os\n",
    "import sys\n",
    "import pandas as pd\n",
    "\n",
    "LIB_DIR = '../../'\n",
    "if LIB_DIR not in sys.path:\n",
    "    sys.path.append(LIB_DIR)"
   ]
  },
  {
   "cell_type": "code",
   "execution_count": 2,
   "id": "2f2aeb57",
   "metadata": {
    "execution": {
     "iopub.execute_input": "2023-12-06T07:45:37.052713Z",
     "iopub.status.busy": "2023-12-06T07:45:37.052295Z",
     "iopub.status.idle": "2023-12-06T07:45:37.056110Z",
     "shell.execute_reply": "2023-12-06T07:45:37.055553Z"
    },
    "papermill": {
     "duration": 0.007666,
     "end_time": "2023-12-06T07:45:37.057435",
     "exception": false,
     "start_time": "2023-12-06T07:45:37.049769",
     "status": "completed"
    },
    "tags": []
   },
   "outputs": [],
   "source": [
    "from scripts.util.date import quarter_to_date"
   ]
  },
  {
   "cell_type": "code",
   "execution_count": 3,
   "id": "92dd33b0",
   "metadata": {
    "execution": {
     "iopub.execute_input": "2023-12-06T07:45:37.062459Z",
     "iopub.status.busy": "2023-12-06T07:45:37.061955Z",
     "iopub.status.idle": "2023-12-06T07:45:37.065456Z",
     "shell.execute_reply": "2023-12-06T07:45:37.064944Z"
    },
    "papermill": {
     "duration": 0.007315,
     "end_time": "2023-12-06T07:45:37.066734",
     "exception": false,
     "start_time": "2023-12-06T07:45:37.059419",
     "status": "completed"
    },
    "tags": []
   },
   "outputs": [],
   "source": [
    "NEET_DATA = '../../working/upstream/neet.csv'\n",
    "ALL_METADATA = '../../working/upstream/metadata.csv'\n",
    "NEET_16_24 = '../../data/neet/neet.csv'\n",
    "NEET_METADATA = '../../data/neet/metadata.json'\n",
    "\n",
    "os.makedirs(os.path.dirname(NEET_16_24), exist_ok=True)"
   ]
  },
  {
   "cell_type": "code",
   "execution_count": 4,
   "id": "ed30f98a",
   "metadata": {
    "execution": {
     "iopub.execute_input": "2023-12-06T07:45:37.071767Z",
     "iopub.status.busy": "2023-12-06T07:45:37.071390Z",
     "iopub.status.idle": "2023-12-06T07:45:37.079668Z",
     "shell.execute_reply": "2023-12-06T07:45:37.079145Z"
    },
    "papermill": {
     "duration": 0.012261,
     "end_time": "2023-12-06T07:45:37.080954",
     "exception": false,
     "start_time": "2023-12-06T07:45:37.068693",
     "status": "completed"
    },
    "tags": []
   },
   "outputs": [],
   "source": [
    "data = pd.read_csv('../../working/upstream/neet.csv')"
   ]
  },
  {
   "cell_type": "code",
   "execution_count": 5,
   "id": "e815a732",
   "metadata": {
    "execution": {
     "iopub.execute_input": "2023-12-06T07:45:37.085825Z",
     "iopub.status.busy": "2023-12-06T07:45:37.085466Z",
     "iopub.status.idle": "2023-12-06T07:45:37.088500Z",
     "shell.execute_reply": "2023-12-06T07:45:37.087935Z"
    },
    "papermill": {
     "duration": 0.006893,
     "end_time": "2023-12-06T07:45:37.089786",
     "exception": false,
     "start_time": "2023-12-06T07:45:37.082893",
     "status": "completed"
    },
    "tags": []
   },
   "outputs": [],
   "source": [
    "variable_mapper = {\n",
    "    'Young people who were NEET_Total': 'age_16_to_24_neet_total_sa',\n",
    "    'Young people who were NEET_Unemployed': 'age_16_to_24_neet_unemployed_sa',\n",
    "    'Young people who were NEET_Economically inactive': 'age_16_to_24_neet_economically_inactive_sa',\n",
    "    'Total people in relevant population group': 'age_16_to_24_population',\n",
    "    'People who were NEET as a percentage of people in relevant population group': 'age_16_to_24_neet_total_rate_sa',\n",
    "}"
   ]
  },
  {
   "cell_type": "code",
   "execution_count": 6,
   "id": "567ba75f",
   "metadata": {
    "execution": {
     "iopub.execute_input": "2023-12-06T07:45:37.094485Z",
     "iopub.status.busy": "2023-12-06T07:45:37.094265Z",
     "iopub.status.idle": "2023-12-06T07:45:37.098150Z",
     "shell.execute_reply": "2023-12-06T07:45:37.097654Z"
    },
    "papermill": {
     "duration": 0.007706,
     "end_time": "2023-12-06T07:45:37.099410",
     "exception": false,
     "start_time": "2023-12-06T07:45:37.091704",
     "status": "completed"
    },
    "tags": []
   },
   "outputs": [],
   "source": [
    "data = data[data.age == 'Aged 16-24']"
   ]
  },
  {
   "cell_type": "code",
   "execution_count": 7,
   "id": "f69a1c2e",
   "metadata": {
    "execution": {
     "iopub.execute_input": "2023-12-06T07:45:37.104187Z",
     "iopub.status.busy": "2023-12-06T07:45:37.103890Z",
     "iopub.status.idle": "2023-12-06T07:45:37.107930Z",
     "shell.execute_reply": "2023-12-06T07:45:37.107440Z"
    },
    "papermill": {
     "duration": 0.00786,
     "end_time": "2023-12-06T07:45:37.109172",
     "exception": false,
     "start_time": "2023-12-06T07:45:37.101312",
     "status": "completed"
    },
    "tags": []
   },
   "outputs": [],
   "source": [
    "data = data.replace({\n",
    "  'measure': variable_mapper\n",
    "})"
   ]
  },
  {
   "cell_type": "code",
   "execution_count": 8,
   "id": "165fff95",
   "metadata": {
    "execution": {
     "iopub.execute_input": "2023-12-06T07:45:37.114029Z",
     "iopub.status.busy": "2023-12-06T07:45:37.113716Z",
     "iopub.status.idle": "2023-12-06T07:45:37.121808Z",
     "shell.execute_reply": "2023-12-06T07:45:37.121338Z"
    },
    "papermill": {
     "duration": 0.01168,
     "end_time": "2023-12-06T07:45:37.122898",
     "exception": false,
     "start_time": "2023-12-06T07:45:37.111218",
     "status": "completed"
    },
    "tags": []
   },
   "outputs": [],
   "source": [
    "data['quarter_start'] = pd.Index(data.date.pipe(quarter_to_date))\n",
    "data['variable'] = data.sheet.str.split(' - ').apply(lambda x: x[0]).str.lower() + '_' + data.measure"
   ]
  },
  {
   "cell_type": "code",
   "execution_count": 9,
   "id": "b65a5224",
   "metadata": {
    "execution": {
     "iopub.execute_input": "2023-12-06T07:45:37.128502Z",
     "iopub.status.busy": "2023-12-06T07:45:37.128275Z",
     "iopub.status.idle": "2023-12-06T07:45:37.135582Z",
     "shell.execute_reply": "2023-12-06T07:45:37.135109Z"
    },
    "papermill": {
     "duration": 0.011147,
     "end_time": "2023-12-06T07:45:37.136721",
     "exception": false,
     "start_time": "2023-12-06T07:45:37.125574",
     "status": "completed"
    },
    "tags": []
   },
   "outputs": [],
   "source": [
    "data = data.pivot_table(index='quarter_start', columns='variable', values='value')"
   ]
  },
  {
   "cell_type": "code",
   "execution_count": 10,
   "id": "46cba6a9",
   "metadata": {
    "execution": {
     "iopub.execute_input": "2023-12-06T07:45:37.141499Z",
     "iopub.status.busy": "2023-12-06T07:45:37.141315Z",
     "iopub.status.idle": "2023-12-06T07:45:37.147484Z",
     "shell.execute_reply": "2023-12-06T07:45:37.147005Z"
    },
    "papermill": {
     "duration": 0.010002,
     "end_time": "2023-12-06T07:45:37.148700",
     "exception": false,
     "start_time": "2023-12-06T07:45:37.138698",
     "status": "completed"
    },
    "tags": []
   },
   "outputs": [],
   "source": [
    "def calculate_rates(data, prefix):\n",
    "    data[prefix + '_age_16_to_24_neet_unemployed_rate_sa'] = data[prefix + '_age_16_to_24_neet_unemployed_sa'] / data[prefix + '_age_16_to_24_population'] * 100\n",
    "    data[prefix + '_age_16_to_24_neet_economically_inactive_rate_sa'] = data[prefix + '_age_16_to_24_neet_economically_inactive_sa'] / data[prefix + '_age_16_to_24_population'] * 100\n",
    "    return data\n",
    "  \n",
    "data = data.pipe(\n",
    "    calculate_rates, 'people'\n",
    ").pipe(\n",
    "    calculate_rates, 'men'\n",
    ").pipe(\n",
    "    calculate_rates, 'women'\n",
    ")\n"
   ]
  },
  {
   "cell_type": "code",
   "execution_count": 11,
   "id": "6b899343",
   "metadata": {
    "execution": {
     "iopub.execute_input": "2023-12-06T07:45:37.153793Z",
     "iopub.status.busy": "2023-12-06T07:45:37.153474Z",
     "iopub.status.idle": "2023-12-06T07:45:37.159402Z",
     "shell.execute_reply": "2023-12-06T07:45:37.158919Z"
    },
    "papermill": {
     "duration": 0.009734,
     "end_time": "2023-12-06T07:45:37.160583",
     "exception": false,
     "start_time": "2023-12-06T07:45:37.150849",
     "status": "completed"
    },
    "tags": []
   },
   "outputs": [],
   "source": [
    "column_order = [\n",
    "  'people_age_16_to_24_neet_total_sa',\n",
    "  'people_age_16_to_24_neet_unemployed_sa',\n",
    "  'people_age_16_to_24_neet_economically_inactive_sa',\n",
    "  'people_age_16_to_24_population',\n",
    "  'people_age_16_to_24_neet_total_rate_sa',\n",
    "  'people_age_16_to_24_neet_unemployed_rate_sa',\n",
    "  'people_age_16_to_24_neet_economically_inactive_rate_sa',\n",
    "  'men_age_16_to_24_neet_total_sa',\n",
    "  'men_age_16_to_24_neet_unemployed_sa',\n",
    "  'men_age_16_to_24_neet_economically_inactive_sa',\n",
    "  'men_age_16_to_24_population',\n",
    "  'men_age_16_to_24_neet_total_rate_sa',\n",
    "  'men_age_16_to_24_neet_unemployed_rate_sa',\n",
    "  'men_age_16_to_24_neet_economically_inactive_rate_sa',\n",
    "  'women_age_16_to_24_neet_total_sa',\n",
    "  'women_age_16_to_24_neet_unemployed_sa',\n",
    "  'women_age_16_to_24_neet_economically_inactive_sa',\n",
    "  'women_age_16_to_24_population',\n",
    "  'women_age_16_to_24_neet_total_rate_sa',\n",
    "  'women_age_16_to_24_neet_unemployed_rate_sa',\n",
    "  'women_age_16_to_24_neet_economically_inactive_rate_sa'\n",
    "]\n",
    "\n",
    "data.loc[:, column_order].to_csv(NEET_16_24)"
   ]
  },
  {
   "cell_type": "code",
   "execution_count": 12,
   "id": "9ff35546",
   "metadata": {
    "execution": {
     "iopub.execute_input": "2023-12-06T07:45:37.165463Z",
     "iopub.status.busy": "2023-12-06T07:45:37.165141Z",
     "iopub.status.idle": "2023-12-06T07:45:37.174982Z",
     "shell.execute_reply": "2023-12-06T07:45:37.174463Z"
    },
    "papermill": {
     "duration": 0.013588,
     "end_time": "2023-12-06T07:45:37.176157",
     "exception": false,
     "start_time": "2023-12-06T07:45:37.162569",
     "status": "completed"
    },
    "tags": []
   },
   "outputs": [
    {
     "data": {
      "text/plain": [
       "id                     object\n",
       "last_update    datetime64[ns]\n",
       "next_update    datetime64[ns]\n",
       "dtype: object"
      ]
     },
     "execution_count": 12,
     "metadata": {},
     "output_type": "execute_result"
    }
   ],
   "source": [
    "metadata = pd.read_csv(ALL_METADATA, parse_dates=['last_update', 'next_update'])\n",
    "metadata.set_index(\n",
    "    'id'\n",
    ").rename(\n",
    "    columns={\n",
    "        'last_update': 'published'\n",
    "    }\n",
    ").loc['NEET'].to_json(NEET_METADATA, date_format='iso')\n",
    "\n",
    "metadata.dtypes\n"
   ]
  },
  {
   "cell_type": "code",
   "execution_count": null,
   "id": "0b62c3ff",
   "metadata": {
    "papermill": {
     "duration": 0.002267,
     "end_time": "2023-12-06T07:45:37.180552",
     "exception": false,
     "start_time": "2023-12-06T07:45:37.178285",
     "status": "completed"
    },
    "tags": []
   },
   "outputs": [],
   "source": []
  },
  {
   "cell_type": "code",
   "execution_count": null,
   "id": "279fe99e",
   "metadata": {
    "papermill": {
     "duration": 0.002048,
     "end_time": "2023-12-06T07:45:37.184843",
     "exception": false,
     "start_time": "2023-12-06T07:45:37.182795",
     "status": "completed"
    },
    "tags": []
   },
   "outputs": [],
   "source": []
  }
 ],
 "metadata": {
  "kernelspec": {
   "display_name": "yff-data-ansOWYcy",
   "language": "python",
   "name": "python3"
  },
  "language_info": {
   "codemirror_mode": {
    "name": "ipython",
    "version": 3
   },
   "file_extension": ".py",
   "mimetype": "text/x-python",
   "name": "python",
   "nbconvert_exporter": "python",
   "pygments_lexer": "ipython3",
   "version": "3.10.13"
  },
  "papermill": {
   "default_parameters": {},
   "duration": 1.913148,
   "end_time": "2023-12-06T07:45:37.403568",
   "environment_variables": {},
   "exception": null,
   "input_path": "transform.ipynb",
   "output_path": "../../working/output/neet-transform.ipynb",
   "parameters": {},
   "start_time": "2023-12-06T07:45:35.490420",
   "version": "2.4.0"
  }
 },
 "nbformat": 4,
 "nbformat_minor": 5
}