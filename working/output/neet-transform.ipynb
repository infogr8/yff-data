{
 "cells": [
  {
   "cell_type": "code",
   "execution_count": 1,
   "id": "40cc2d2c",
   "metadata": {
    "execution": {
     "iopub.execute_input": "2023-12-20T07:26:10.520835Z",
     "iopub.status.busy": "2023-12-20T07:26:10.520409Z",
     "iopub.status.idle": "2023-12-20T07:26:10.761443Z",
     "shell.execute_reply": "2023-12-20T07:26:10.760722Z"
    },
    "papermill": {
     "duration": 0.246643,
     "end_time": "2023-12-20T07:26:10.763198",
     "exception": false,
     "start_time": "2023-12-20T07:26:10.516555",
     "status": "completed"
    },
    "tags": []
   },
   "outputs": [],
   "source": [
    "import os\n",
    "import sys\n",
    "import pandas as pd\n",
    "\n",
    "LIB_DIR = '../../'\n",
    "if LIB_DIR not in sys.path:\n",
    "    sys.path.append(LIB_DIR)"
   ]
  },
  {
   "cell_type": "code",
   "execution_count": 2,
   "id": "17fbfad4",
   "metadata": {
    "execution": {
     "iopub.execute_input": "2023-12-20T07:26:10.768816Z",
     "iopub.status.busy": "2023-12-20T07:26:10.768206Z",
     "iopub.status.idle": "2023-12-20T07:26:10.772265Z",
     "shell.execute_reply": "2023-12-20T07:26:10.771774Z"
    },
    "papermill": {
     "duration": 0.008077,
     "end_time": "2023-12-20T07:26:10.773582",
     "exception": false,
     "start_time": "2023-12-20T07:26:10.765505",
     "status": "completed"
    },
    "tags": []
   },
   "outputs": [],
   "source": [
    "from scripts.util.date import quarter_to_date"
   ]
  },
  {
   "cell_type": "code",
   "execution_count": 3,
   "id": "8bba3fd6",
   "metadata": {
    "execution": {
     "iopub.execute_input": "2023-12-20T07:26:10.778265Z",
     "iopub.status.busy": "2023-12-20T07:26:10.778066Z",
     "iopub.status.idle": "2023-12-20T07:26:10.781569Z",
     "shell.execute_reply": "2023-12-20T07:26:10.780953Z"
    },
    "papermill": {
     "duration": 0.007318,
     "end_time": "2023-12-20T07:26:10.782822",
     "exception": false,
     "start_time": "2023-12-20T07:26:10.775504",
     "status": "completed"
    },
    "tags": []
   },
   "outputs": [],
   "source": [
    "NEET_DATA = '../../working/upstream/neet.csv'\n",
    "ALL_METADATA = '../../working/upstream/metadata.csv'\n",
    "NEET_16_24 = '../../data/neet/neet.csv'\n",
    "NEET_METADATA = '../../data/neet/metadata.json'\n",
    "\n",
    "os.makedirs(os.path.dirname(NEET_16_24), exist_ok=True)"
   ]
  },
  {
   "cell_type": "code",
   "execution_count": 4,
   "id": "4d8c3292",
   "metadata": {
    "execution": {
     "iopub.execute_input": "2023-12-20T07:26:10.787888Z",
     "iopub.status.busy": "2023-12-20T07:26:10.787407Z",
     "iopub.status.idle": "2023-12-20T07:26:10.795830Z",
     "shell.execute_reply": "2023-12-20T07:26:10.795328Z"
    },
    "papermill": {
     "duration": 0.012292,
     "end_time": "2023-12-20T07:26:10.797052",
     "exception": false,
     "start_time": "2023-12-20T07:26:10.784760",
     "status": "completed"
    },
    "tags": []
   },
   "outputs": [],
   "source": [
    "data = pd.read_csv('../../working/upstream/neet.csv')"
   ]
  },
  {
   "cell_type": "code",
   "execution_count": 5,
   "id": "389a5d0e",
   "metadata": {
    "execution": {
     "iopub.execute_input": "2023-12-20T07:26:10.802115Z",
     "iopub.status.busy": "2023-12-20T07:26:10.801746Z",
     "iopub.status.idle": "2023-12-20T07:26:10.804950Z",
     "shell.execute_reply": "2023-12-20T07:26:10.804309Z"
    },
    "papermill": {
     "duration": 0.00725,
     "end_time": "2023-12-20T07:26:10.806297",
     "exception": false,
     "start_time": "2023-12-20T07:26:10.799047",
     "status": "completed"
    },
    "tags": []
   },
   "outputs": [],
   "source": [
    "variable_mapper = {\n",
    "    'Young people who were NEET_Total': 'age_16_to_24_neet_total_sa',\n",
    "    'Young people who were NEET_Unemployed': 'age_16_to_24_neet_unemployed_sa',\n",
    "    'Young people who were NEET_Economically inactive': 'age_16_to_24_neet_economically_inactive_sa',\n",
    "    'Total people in relevant population group': 'age_16_to_24_population',\n",
    "    'People who were NEET as a percentage of people in relevant population group': 'age_16_to_24_neet_total_rate_sa',\n",
    "}"
   ]
  },
  {
   "cell_type": "code",
   "execution_count": 6,
   "id": "7ae983af",
   "metadata": {
    "execution": {
     "iopub.execute_input": "2023-12-20T07:26:10.811370Z",
     "iopub.status.busy": "2023-12-20T07:26:10.811007Z",
     "iopub.status.idle": "2023-12-20T07:26:10.815015Z",
     "shell.execute_reply": "2023-12-20T07:26:10.814492Z"
    },
    "papermill": {
     "duration": 0.007884,
     "end_time": "2023-12-20T07:26:10.816259",
     "exception": false,
     "start_time": "2023-12-20T07:26:10.808375",
     "status": "completed"
    },
    "tags": []
   },
   "outputs": [],
   "source": [
    "data = data[data.age == 'Aged 16-24']"
   ]
  },
  {
   "cell_type": "code",
   "execution_count": 7,
   "id": "fc45637c",
   "metadata": {
    "execution": {
     "iopub.execute_input": "2023-12-20T07:26:10.821286Z",
     "iopub.status.busy": "2023-12-20T07:26:10.820960Z",
     "iopub.status.idle": "2023-12-20T07:26:10.825296Z",
     "shell.execute_reply": "2023-12-20T07:26:10.824778Z"
    },
    "papermill": {
     "duration": 0.008283,
     "end_time": "2023-12-20T07:26:10.826570",
     "exception": false,
     "start_time": "2023-12-20T07:26:10.818287",
     "status": "completed"
    },
    "tags": []
   },
   "outputs": [],
   "source": [
    "data = data.replace({\n",
    "  'measure': variable_mapper\n",
    "})"
   ]
  },
  {
   "cell_type": "code",
   "execution_count": 8,
   "id": "22ef98b1",
   "metadata": {
    "execution": {
     "iopub.execute_input": "2023-12-20T07:26:10.834341Z",
     "iopub.status.busy": "2023-12-20T07:26:10.833923Z",
     "iopub.status.idle": "2023-12-20T07:26:10.843257Z",
     "shell.execute_reply": "2023-12-20T07:26:10.842682Z"
    },
    "papermill": {
     "duration": 0.015949,
     "end_time": "2023-12-20T07:26:10.844563",
     "exception": false,
     "start_time": "2023-12-20T07:26:10.828614",
     "status": "completed"
    },
    "tags": []
   },
   "outputs": [],
   "source": [
    "data['quarter_start'] = pd.Index(data.date.pipe(quarter_to_date))\n",
    "data['variable'] = data.sheet.str.split(' - ').apply(lambda x: x[0]).str.lower() + '_' + data.measure"
   ]
  },
  {
   "cell_type": "code",
   "execution_count": 9,
   "id": "f3192900",
   "metadata": {
    "execution": {
     "iopub.execute_input": "2023-12-20T07:26:10.850678Z",
     "iopub.status.busy": "2023-12-20T07:26:10.850310Z",
     "iopub.status.idle": "2023-12-20T07:26:10.858568Z",
     "shell.execute_reply": "2023-12-20T07:26:10.858045Z"
    },
    "papermill": {
     "duration": 0.012433,
     "end_time": "2023-12-20T07:26:10.859969",
     "exception": false,
     "start_time": "2023-12-20T07:26:10.847536",
     "status": "completed"
    },
    "tags": []
   },
   "outputs": [],
   "source": [
    "data = data.pivot_table(index='quarter_start', columns='variable', values='value')"
   ]
  },
  {
   "cell_type": "code",
   "execution_count": 10,
   "id": "d5e9e3ef",
   "metadata": {
    "execution": {
     "iopub.execute_input": "2023-12-20T07:26:10.865244Z",
     "iopub.status.busy": "2023-12-20T07:26:10.864934Z",
     "iopub.status.idle": "2023-12-20T07:26:10.871370Z",
     "shell.execute_reply": "2023-12-20T07:26:10.870752Z"
    },
    "papermill": {
     "duration": 0.0104,
     "end_time": "2023-12-20T07:26:10.872605",
     "exception": false,
     "start_time": "2023-12-20T07:26:10.862205",
     "status": "completed"
    },
    "tags": []
   },
   "outputs": [],
   "source": [
    "def calculate_rates(data, prefix):\n",
    "    data[prefix + '_age_16_to_24_neet_unemployed_rate_sa'] = data[prefix + '_age_16_to_24_neet_unemployed_sa'] / data[prefix + '_age_16_to_24_population'] * 100\n",
    "    data[prefix + '_age_16_to_24_neet_economically_inactive_rate_sa'] = data[prefix + '_age_16_to_24_neet_economically_inactive_sa'] / data[prefix + '_age_16_to_24_population'] * 100\n",
    "    return data\n",
    "  \n",
    "data = data.pipe(\n",
    "    calculate_rates, 'people'\n",
    ").pipe(\n",
    "    calculate_rates, 'men'\n",
    ").pipe(\n",
    "    calculate_rates, 'women'\n",
    ")\n"
   ]
  },
  {
   "cell_type": "code",
   "execution_count": 11,
   "id": "aa2276e9",
   "metadata": {
    "execution": {
     "iopub.execute_input": "2023-12-20T07:26:10.878315Z",
     "iopub.status.busy": "2023-12-20T07:26:10.877920Z",
     "iopub.status.idle": "2023-12-20T07:26:10.884861Z",
     "shell.execute_reply": "2023-12-20T07:26:10.884352Z"
    },
    "papermill": {
     "duration": 0.011279,
     "end_time": "2023-12-20T07:26:10.886180",
     "exception": false,
     "start_time": "2023-12-20T07:26:10.874901",
     "status": "completed"
    },
    "tags": []
   },
   "outputs": [],
   "source": [
    "column_order = [\n",
    "  'people_age_16_to_24_neet_total_sa',\n",
    "  'people_age_16_to_24_neet_unemployed_sa',\n",
    "  'people_age_16_to_24_neet_economically_inactive_sa',\n",
    "  'people_age_16_to_24_population',\n",
    "  'people_age_16_to_24_neet_total_rate_sa',\n",
    "  'people_age_16_to_24_neet_unemployed_rate_sa',\n",
    "  'people_age_16_to_24_neet_economically_inactive_rate_sa',\n",
    "  'men_age_16_to_24_neet_total_sa',\n",
    "  'men_age_16_to_24_neet_unemployed_sa',\n",
    "  'men_age_16_to_24_neet_economically_inactive_sa',\n",
    "  'men_age_16_to_24_population',\n",
    "  'men_age_16_to_24_neet_total_rate_sa',\n",
    "  'men_age_16_to_24_neet_unemployed_rate_sa',\n",
    "  'men_age_16_to_24_neet_economically_inactive_rate_sa',\n",
    "  'women_age_16_to_24_neet_total_sa',\n",
    "  'women_age_16_to_24_neet_unemployed_sa',\n",
    "  'women_age_16_to_24_neet_economically_inactive_sa',\n",
    "  'women_age_16_to_24_population',\n",
    "  'women_age_16_to_24_neet_total_rate_sa',\n",
    "  'women_age_16_to_24_neet_unemployed_rate_sa',\n",
    "  'women_age_16_to_24_neet_economically_inactive_rate_sa'\n",
    "]\n",
    "\n",
    "data.loc[:, column_order].to_csv(NEET_16_24)"
   ]
  },
  {
   "cell_type": "code",
   "execution_count": 12,
   "id": "5fbb5650",
   "metadata": {
    "execution": {
     "iopub.execute_input": "2023-12-20T07:26:10.891828Z",
     "iopub.status.busy": "2023-12-20T07:26:10.891355Z",
     "iopub.status.idle": "2023-12-20T07:26:10.903695Z",
     "shell.execute_reply": "2023-12-20T07:26:10.903126Z"
    },
    "papermill": {
     "duration": 0.016563,
     "end_time": "2023-12-20T07:26:10.904989",
     "exception": false,
     "start_time": "2023-12-20T07:26:10.888426",
     "status": "completed"
    },
    "tags": []
   },
   "outputs": [
    {
     "data": {
      "text/plain": [
       "id                     object\n",
       "last_update    datetime64[ns]\n",
       "next_update    datetime64[ns]\n",
       "dtype: object"
      ]
     },
     "execution_count": 12,
     "metadata": {},
     "output_type": "execute_result"
    }
   ],
   "source": [
    "metadata = pd.read_csv(ALL_METADATA, parse_dates=['last_update', 'next_update'])\n",
    "metadata.set_index(\n",
    "    'id'\n",
    ").rename(\n",
    "    columns={\n",
    "        'last_update': 'published'\n",
    "    }\n",
    ").loc['NEET'].to_json(NEET_METADATA, date_format='iso')\n",
    "\n",
    "metadata.dtypes\n"
   ]
  },
  {
   "cell_type": "code",
   "execution_count": null,
   "id": "763918ac",
   "metadata": {
    "papermill": {
     "duration": 0.002409,
     "end_time": "2023-12-20T07:26:10.909894",
     "exception": false,
     "start_time": "2023-12-20T07:26:10.907485",
     "status": "completed"
    },
    "tags": []
   },
   "outputs": [],
   "source": []
  },
  {
   "cell_type": "code",
   "execution_count": null,
   "id": "134f8992",
   "metadata": {
    "papermill": {
     "duration": 0.002285,
     "end_time": "2023-12-20T07:26:10.914467",
     "exception": false,
     "start_time": "2023-12-20T07:26:10.912182",
     "status": "completed"
    },
    "tags": []
   },
   "outputs": [],
   "source": []
  }
 ],
 "metadata": {
  "kernelspec": {
   "display_name": "yff-data-ansOWYcy",
   "language": "python",
   "name": "python3"
  },
  "language_info": {
   "codemirror_mode": {
    "name": "ipython",
    "version": 3
   },
   "file_extension": ".py",
   "mimetype": "text/x-python",
   "name": "python",
   "nbconvert_exporter": "python",
   "pygments_lexer": "ipython3",
   "version": "3.10.13"
  },
  "papermill": {
   "default_parameters": {},
   "duration": 2.037476,
   "end_time": "2023-12-20T07:26:11.133918",
   "environment_variables": {},
   "exception": null,
   "input_path": "transform.ipynb",
   "output_path": "../../working/output/neet-transform.ipynb",
   "parameters": {},
   "start_time": "2023-12-20T07:26:09.096442",
   "version": "2.4.0"
  }
 },
 "nbformat": 4,
 "nbformat_minor": 5
}