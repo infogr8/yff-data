{
 "cells": [
  {
   "cell_type": "code",
   "execution_count": 1,
   "id": "776e1218",
   "metadata": {
    "execution": {
     "iopub.execute_input": "2025-04-16T08:27:07.909091Z",
     "iopub.status.busy": "2025-04-16T08:27:07.908815Z",
     "iopub.status.idle": "2025-04-16T08:27:08.212506Z",
     "shell.execute_reply": "2025-04-16T08:27:08.211773Z"
    },
    "papermill": {
     "duration": 0.309085,
     "end_time": "2025-04-16T08:27:08.214288",
     "exception": false,
     "start_time": "2025-04-16T08:27:07.905203",
     "status": "completed"
    },
    "tags": []
   },
   "outputs": [],
   "source": [
    "import os\n",
    "import sys\n",
    "import pandas as pd\n",
    "\n",
    "LIB_DIR = '../../'\n",
    "if LIB_DIR not in sys.path:\n",
    "    sys.path.append(LIB_DIR)"
   ]
  },
  {
   "cell_type": "code",
   "execution_count": 2,
   "id": "519a4b95",
   "metadata": {
    "execution": {
     "iopub.execute_input": "2025-04-16T08:27:08.219704Z",
     "iopub.status.busy": "2025-04-16T08:27:08.219275Z",
     "iopub.status.idle": "2025-04-16T08:27:08.223581Z",
     "shell.execute_reply": "2025-04-16T08:27:08.222919Z"
    },
    "papermill": {
     "duration": 0.008316,
     "end_time": "2025-04-16T08:27:08.224883",
     "exception": false,
     "start_time": "2025-04-16T08:27:08.216567",
     "status": "completed"
    },
    "tags": []
   },
   "outputs": [],
   "source": [
    "from scripts.util.date import quarter_to_date"
   ]
  },
  {
   "cell_type": "code",
   "execution_count": 3,
   "id": "73a4d37e",
   "metadata": {
    "execution": {
     "iopub.execute_input": "2025-04-16T08:27:08.229755Z",
     "iopub.status.busy": "2025-04-16T08:27:08.229421Z",
     "iopub.status.idle": "2025-04-16T08:27:08.232859Z",
     "shell.execute_reply": "2025-04-16T08:27:08.232233Z"
    },
    "papermill": {
     "duration": 0.007346,
     "end_time": "2025-04-16T08:27:08.234149",
     "exception": false,
     "start_time": "2025-04-16T08:27:08.226803",
     "status": "completed"
    },
    "tags": []
   },
   "outputs": [],
   "source": [
    "NEET_DATA = '../../working/upstream/neet.csv'\n",
    "ALL_METADATA = '../../working/upstream/metadata.csv'\n",
    "NEET_16_24 = '../../data/neet/neet.csv'\n",
    "NEET_METADATA = '../../data/neet/metadata.json'\n",
    "\n",
    "os.makedirs(os.path.dirname(NEET_16_24), exist_ok=True)"
   ]
  },
  {
   "cell_type": "code",
   "execution_count": 4,
   "id": "6c618ba3",
   "metadata": {
    "execution": {
     "iopub.execute_input": "2025-04-16T08:27:08.239078Z",
     "iopub.status.busy": "2025-04-16T08:27:08.238613Z",
     "iopub.status.idle": "2025-04-16T08:27:08.247248Z",
     "shell.execute_reply": "2025-04-16T08:27:08.246622Z"
    },
    "papermill": {
     "duration": 0.012566,
     "end_time": "2025-04-16T08:27:08.248653",
     "exception": false,
     "start_time": "2025-04-16T08:27:08.236087",
     "status": "completed"
    },
    "tags": []
   },
   "outputs": [],
   "source": [
    "data = pd.read_csv('../../working/upstream/neet.csv')"
   ]
  },
  {
   "cell_type": "code",
   "execution_count": 5,
   "id": "42d51726",
   "metadata": {
    "execution": {
     "iopub.execute_input": "2025-04-16T08:27:08.253705Z",
     "iopub.status.busy": "2025-04-16T08:27:08.253238Z",
     "iopub.status.idle": "2025-04-16T08:27:08.256499Z",
     "shell.execute_reply": "2025-04-16T08:27:08.255963Z"
    },
    "papermill": {
     "duration": 0.007169,
     "end_time": "2025-04-16T08:27:08.257818",
     "exception": false,
     "start_time": "2025-04-16T08:27:08.250649",
     "status": "completed"
    },
    "tags": []
   },
   "outputs": [],
   "source": [
    "variable_mapper = {\n",
    "    'Young people who were NEET_Total': 'age_16_to_24_neet_total_sa',\n",
    "    'Young people who were NEET_Unemployed': 'age_16_to_24_neet_unemployed_sa',\n",
    "    'Young people who were NEET_Economically inactive': 'age_16_to_24_neet_economically_inactive_sa',\n",
    "    'Total people in relevant population group': 'age_16_to_24_population',\n",
    "    'People who were NEET as a percentage of people in relevant population group': 'age_16_to_24_neet_total_rate_sa',\n",
    "}"
   ]
  },
  {
   "cell_type": "code",
   "execution_count": 6,
   "id": "1ba479ea",
   "metadata": {
    "execution": {
     "iopub.execute_input": "2025-04-16T08:27:08.262883Z",
     "iopub.status.busy": "2025-04-16T08:27:08.262434Z",
     "iopub.status.idle": "2025-04-16T08:27:08.266500Z",
     "shell.execute_reply": "2025-04-16T08:27:08.265941Z"
    },
    "papermill": {
     "duration": 0.007946,
     "end_time": "2025-04-16T08:27:08.267777",
     "exception": false,
     "start_time": "2025-04-16T08:27:08.259831",
     "status": "completed"
    },
    "tags": []
   },
   "outputs": [],
   "source": [
    "data = data[data.age == 'Aged 16-24']"
   ]
  },
  {
   "cell_type": "code",
   "execution_count": 7,
   "id": "9e84c7fe",
   "metadata": {
    "execution": {
     "iopub.execute_input": "2025-04-16T08:27:08.272748Z",
     "iopub.status.busy": "2025-04-16T08:27:08.272374Z",
     "iopub.status.idle": "2025-04-16T08:27:08.276417Z",
     "shell.execute_reply": "2025-04-16T08:27:08.275771Z"
    },
    "papermill": {
     "duration": 0.007882,
     "end_time": "2025-04-16T08:27:08.277671",
     "exception": false,
     "start_time": "2025-04-16T08:27:08.269789",
     "status": "completed"
    },
    "tags": []
   },
   "outputs": [],
   "source": [
    "data = data.replace({\n",
    "  'measure': variable_mapper\n",
    "})"
   ]
  },
  {
   "cell_type": "code",
   "execution_count": 8,
   "id": "abcad6a2",
   "metadata": {
    "execution": {
     "iopub.execute_input": "2025-04-16T08:27:08.282829Z",
     "iopub.status.busy": "2025-04-16T08:27:08.282473Z",
     "iopub.status.idle": "2025-04-16T08:27:08.291844Z",
     "shell.execute_reply": "2025-04-16T08:27:08.291236Z"
    },
    "papermill": {
     "duration": 0.013526,
     "end_time": "2025-04-16T08:27:08.293246",
     "exception": false,
     "start_time": "2025-04-16T08:27:08.279720",
     "status": "completed"
    },
    "tags": []
   },
   "outputs": [],
   "source": [
    "data['quarter_start'] = pd.Index(data.date.pipe(quarter_to_date))\n",
    "data['variable'] = data.sheet.str.split(' - ').apply(lambda x: x[0]).str.lower() + '_' + data.measure"
   ]
  },
  {
   "cell_type": "code",
   "execution_count": 9,
   "id": "dd663613",
   "metadata": {
    "execution": {
     "iopub.execute_input": "2025-04-16T08:27:08.298481Z",
     "iopub.status.busy": "2025-04-16T08:27:08.298101Z",
     "iopub.status.idle": "2025-04-16T08:27:08.306237Z",
     "shell.execute_reply": "2025-04-16T08:27:08.305707Z"
    },
    "papermill": {
     "duration": 0.012137,
     "end_time": "2025-04-16T08:27:08.307522",
     "exception": false,
     "start_time": "2025-04-16T08:27:08.295385",
     "status": "completed"
    },
    "tags": []
   },
   "outputs": [],
   "source": [
    "data = data.pivot_table(index='quarter_start', columns='variable', values='value')"
   ]
  },
  {
   "cell_type": "code",
   "execution_count": 10,
   "id": "b12cbbe1",
   "metadata": {
    "execution": {
     "iopub.execute_input": "2025-04-16T08:27:08.312787Z",
     "iopub.status.busy": "2025-04-16T08:27:08.312388Z",
     "iopub.status.idle": "2025-04-16T08:27:08.318576Z",
     "shell.execute_reply": "2025-04-16T08:27:08.317992Z"
    },
    "papermill": {
     "duration": 0.010229,
     "end_time": "2025-04-16T08:27:08.319834",
     "exception": false,
     "start_time": "2025-04-16T08:27:08.309605",
     "status": "completed"
    },
    "tags": []
   },
   "outputs": [],
   "source": [
    "def calculate_rates(data, prefix):\n",
    "    data[prefix + '_age_16_to_24_neet_unemployed_rate_sa'] = data[prefix + '_age_16_to_24_neet_unemployed_sa'] / data[prefix + '_age_16_to_24_population'] * 100\n",
    "    data[prefix + '_age_16_to_24_neet_economically_inactive_rate_sa'] = data[prefix + '_age_16_to_24_neet_economically_inactive_sa'] / data[prefix + '_age_16_to_24_population'] * 100\n",
    "    return data\n",
    "  \n",
    "data = data.pipe(\n",
    "    calculate_rates, 'people'\n",
    ").pipe(\n",
    "    calculate_rates, 'men'\n",
    ").pipe(\n",
    "    calculate_rates, 'women'\n",
    ")\n"
   ]
  },
  {
   "cell_type": "code",
   "execution_count": 11,
   "id": "30ee6e75",
   "metadata": {
    "execution": {
     "iopub.execute_input": "2025-04-16T08:27:08.325338Z",
     "iopub.status.busy": "2025-04-16T08:27:08.324946Z",
     "iopub.status.idle": "2025-04-16T08:27:08.331579Z",
     "shell.execute_reply": "2025-04-16T08:27:08.331064Z"
    },
    "papermill": {
     "duration": 0.010795,
     "end_time": "2025-04-16T08:27:08.332876",
     "exception": false,
     "start_time": "2025-04-16T08:27:08.322081",
     "status": "completed"
    },
    "tags": []
   },
   "outputs": [],
   "source": [
    "column_order = [\n",
    "  'people_age_16_to_24_neet_total_sa',\n",
    "  'people_age_16_to_24_neet_unemployed_sa',\n",
    "  'people_age_16_to_24_neet_economically_inactive_sa',\n",
    "  'people_age_16_to_24_population',\n",
    "  'people_age_16_to_24_neet_total_rate_sa',\n",
    "  'people_age_16_to_24_neet_unemployed_rate_sa',\n",
    "  'people_age_16_to_24_neet_economically_inactive_rate_sa',\n",
    "  'men_age_16_to_24_neet_total_sa',\n",
    "  'men_age_16_to_24_neet_unemployed_sa',\n",
    "  'men_age_16_to_24_neet_economically_inactive_sa',\n",
    "  'men_age_16_to_24_population',\n",
    "  'men_age_16_to_24_neet_total_rate_sa',\n",
    "  'men_age_16_to_24_neet_unemployed_rate_sa',\n",
    "  'men_age_16_to_24_neet_economically_inactive_rate_sa',\n",
    "  'women_age_16_to_24_neet_total_sa',\n",
    "  'women_age_16_to_24_neet_unemployed_sa',\n",
    "  'women_age_16_to_24_neet_economically_inactive_sa',\n",
    "  'women_age_16_to_24_population',\n",
    "  'women_age_16_to_24_neet_total_rate_sa',\n",
    "  'women_age_16_to_24_neet_unemployed_rate_sa',\n",
    "  'women_age_16_to_24_neet_economically_inactive_rate_sa'\n",
    "]\n",
    "\n",
    "data.loc[:, column_order].to_csv(NEET_16_24)"
   ]
  },
  {
   "cell_type": "code",
   "execution_count": 12,
   "id": "f35b54c0",
   "metadata": {
    "execution": {
     "iopub.execute_input": "2025-04-16T08:27:08.338353Z",
     "iopub.status.busy": "2025-04-16T08:27:08.337823Z",
     "iopub.status.idle": "2025-04-16T08:27:08.350218Z",
     "shell.execute_reply": "2025-04-16T08:27:08.349628Z"
    },
    "papermill": {
     "duration": 0.016451,
     "end_time": "2025-04-16T08:27:08.351499",
     "exception": false,
     "start_time": "2025-04-16T08:27:08.335048",
     "status": "completed"
    },
    "tags": []
   },
   "outputs": [
    {
     "data": {
      "text/plain": [
       "id                     object\n",
       "last_update    datetime64[ns]\n",
       "next_update            object\n",
       "dtype: object"
      ]
     },
     "execution_count": 12,
     "metadata": {},
     "output_type": "execute_result"
    }
   ],
   "source": [
    "metadata = pd.read_csv(ALL_METADATA, parse_dates=['last_update', 'next_update'])\n",
    "metadata.set_index(\n",
    "    'id'\n",
    ").rename(\n",
    "    columns={\n",
    "        'last_update': 'published'\n",
    "    }\n",
    ").loc['NEET'].to_json(NEET_METADATA, date_format='iso')\n",
    "\n",
    "metadata.dtypes\n"
   ]
  },
  {
   "cell_type": "code",
   "execution_count": null,
   "id": "5fd05d34",
   "metadata": {
    "papermill": {
     "duration": 0.002269,
     "end_time": "2025-04-16T08:27:08.356083",
     "exception": false,
     "start_time": "2025-04-16T08:27:08.353814",
     "status": "completed"
    },
    "tags": []
   },
   "outputs": [],
   "source": []
  },
  {
   "cell_type": "code",
   "execution_count": null,
   "id": "2842f314",
   "metadata": {
    "papermill": {
     "duration": 0.002173,
     "end_time": "2025-04-16T08:27:08.360465",
     "exception": false,
     "start_time": "2025-04-16T08:27:08.358292",
     "status": "completed"
    },
    "tags": []
   },
   "outputs": [],
   "source": []
  }
 ],
 "metadata": {
  "kernelspec": {
   "display_name": "yff-data-ansOWYcy",
   "language": "python",
   "name": "python3"
  },
  "language_info": {
   "codemirror_mode": {
    "name": "ipython",
    "version": 3
   },
   "file_extension": ".py",
   "mimetype": "text/x-python",
   "name": "python",
   "nbconvert_exporter": "python",
   "pygments_lexer": "ipython3",
   "version": "3.10.16"
  },
  "papermill": {
   "default_parameters": {},
   "duration": 2.003088,
   "end_time": "2025-04-16T08:27:08.577801",
   "environment_variables": {},
   "exception": null,
   "input_path": "transform.ipynb",
   "output_path": "../../working/output/neet-transform.ipynb",
   "parameters": {},
   "start_time": "2025-04-16T08:27:06.574713",
   "version": "2.5.0"
  }
 },
 "nbformat": 4,
 "nbformat_minor": 5
}