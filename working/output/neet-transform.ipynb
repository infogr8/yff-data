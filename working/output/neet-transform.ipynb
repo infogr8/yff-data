{
 "cells": [
  {
   "cell_type": "code",
   "execution_count": 1,
   "id": "02b748a2",
   "metadata": {
    "execution": {
     "iopub.execute_input": "2024-06-19T06:38:35.390632Z",
     "iopub.status.busy": "2024-06-19T06:38:35.390040Z",
     "iopub.status.idle": "2024-06-19T06:38:35.701718Z",
     "shell.execute_reply": "2024-06-19T06:38:35.701019Z"
    },
    "papermill": {
     "duration": 0.318074,
     "end_time": "2024-06-19T06:38:35.703351",
     "exception": false,
     "start_time": "2024-06-19T06:38:35.385277",
     "status": "completed"
    },
    "tags": []
   },
   "outputs": [],
   "source": [
    "import os\n",
    "import sys\n",
    "import pandas as pd\n",
    "\n",
    "LIB_DIR = '../../'\n",
    "if LIB_DIR not in sys.path:\n",
    "    sys.path.append(LIB_DIR)"
   ]
  },
  {
   "cell_type": "code",
   "execution_count": 2,
   "id": "790dab00",
   "metadata": {
    "execution": {
     "iopub.execute_input": "2024-06-19T06:38:35.708921Z",
     "iopub.status.busy": "2024-06-19T06:38:35.708470Z",
     "iopub.status.idle": "2024-06-19T06:38:35.712926Z",
     "shell.execute_reply": "2024-06-19T06:38:35.712422Z"
    },
    "papermill": {
     "duration": 0.008492,
     "end_time": "2024-06-19T06:38:35.714176",
     "exception": false,
     "start_time": "2024-06-19T06:38:35.705684",
     "status": "completed"
    },
    "tags": []
   },
   "outputs": [],
   "source": [
    "from scripts.util.date import quarter_to_date"
   ]
  },
  {
   "cell_type": "code",
   "execution_count": 3,
   "id": "58c9f89d",
   "metadata": {
    "execution": {
     "iopub.execute_input": "2024-06-19T06:38:35.719281Z",
     "iopub.status.busy": "2024-06-19T06:38:35.718751Z",
     "iopub.status.idle": "2024-06-19T06:38:35.722339Z",
     "shell.execute_reply": "2024-06-19T06:38:35.721796Z"
    },
    "papermill": {
     "duration": 0.007566,
     "end_time": "2024-06-19T06:38:35.723700",
     "exception": false,
     "start_time": "2024-06-19T06:38:35.716134",
     "status": "completed"
    },
    "tags": []
   },
   "outputs": [],
   "source": [
    "NEET_DATA = '../../working/upstream/neet.csv'\n",
    "ALL_METADATA = '../../working/upstream/metadata.csv'\n",
    "NEET_16_24 = '../../data/neet/neet.csv'\n",
    "NEET_METADATA = '../../data/neet/metadata.json'\n",
    "\n",
    "os.makedirs(os.path.dirname(NEET_16_24), exist_ok=True)"
   ]
  },
  {
   "cell_type": "code",
   "execution_count": 4,
   "id": "d3553325",
   "metadata": {
    "execution": {
     "iopub.execute_input": "2024-06-19T06:38:35.728740Z",
     "iopub.status.busy": "2024-06-19T06:38:35.728280Z",
     "iopub.status.idle": "2024-06-19T06:38:35.737099Z",
     "shell.execute_reply": "2024-06-19T06:38:35.736583Z"
    },
    "papermill": {
     "duration": 0.012793,
     "end_time": "2024-06-19T06:38:35.738418",
     "exception": false,
     "start_time": "2024-06-19T06:38:35.725625",
     "status": "completed"
    },
    "tags": []
   },
   "outputs": [],
   "source": [
    "data = pd.read_csv('../../working/upstream/neet.csv')"
   ]
  },
  {
   "cell_type": "code",
   "execution_count": 5,
   "id": "1866add7",
   "metadata": {
    "execution": {
     "iopub.execute_input": "2024-06-19T06:38:35.743714Z",
     "iopub.status.busy": "2024-06-19T06:38:35.743267Z",
     "iopub.status.idle": "2024-06-19T06:38:35.746540Z",
     "shell.execute_reply": "2024-06-19T06:38:35.745963Z"
    },
    "papermill": {
     "duration": 0.007337,
     "end_time": "2024-06-19T06:38:35.747825",
     "exception": false,
     "start_time": "2024-06-19T06:38:35.740488",
     "status": "completed"
    },
    "tags": []
   },
   "outputs": [],
   "source": [
    "variable_mapper = {\n",
    "    'Young people who were NEET_Total': 'age_16_to_24_neet_total_sa',\n",
    "    'Young people who were NEET_Unemployed': 'age_16_to_24_neet_unemployed_sa',\n",
    "    'Young people who were NEET_Economically inactive': 'age_16_to_24_neet_economically_inactive_sa',\n",
    "    'Total people in relevant population group': 'age_16_to_24_population',\n",
    "    'People who were NEET as a percentage of people in relevant population group': 'age_16_to_24_neet_total_rate_sa',\n",
    "}"
   ]
  },
  {
   "cell_type": "code",
   "execution_count": 6,
   "id": "e411b3bb",
   "metadata": {
    "execution": {
     "iopub.execute_input": "2024-06-19T06:38:35.752955Z",
     "iopub.status.busy": "2024-06-19T06:38:35.752587Z",
     "iopub.status.idle": "2024-06-19T06:38:35.756715Z",
     "shell.execute_reply": "2024-06-19T06:38:35.756165Z"
    },
    "papermill": {
     "duration": 0.008183,
     "end_time": "2024-06-19T06:38:35.758000",
     "exception": false,
     "start_time": "2024-06-19T06:38:35.749817",
     "status": "completed"
    },
    "tags": []
   },
   "outputs": [],
   "source": [
    "data = data[data.age == 'Aged 16-24']"
   ]
  },
  {
   "cell_type": "code",
   "execution_count": 7,
   "id": "f080af57",
   "metadata": {
    "execution": {
     "iopub.execute_input": "2024-06-19T06:38:35.763075Z",
     "iopub.status.busy": "2024-06-19T06:38:35.762712Z",
     "iopub.status.idle": "2024-06-19T06:38:35.767128Z",
     "shell.execute_reply": "2024-06-19T06:38:35.766618Z"
    },
    "papermill": {
     "duration": 0.008362,
     "end_time": "2024-06-19T06:38:35.768418",
     "exception": false,
     "start_time": "2024-06-19T06:38:35.760056",
     "status": "completed"
    },
    "tags": []
   },
   "outputs": [],
   "source": [
    "data = data.replace({\n",
    "  'measure': variable_mapper\n",
    "})"
   ]
  },
  {
   "cell_type": "code",
   "execution_count": 8,
   "id": "dde0de37",
   "metadata": {
    "execution": {
     "iopub.execute_input": "2024-06-19T06:38:35.773546Z",
     "iopub.status.busy": "2024-06-19T06:38:35.773166Z",
     "iopub.status.idle": "2024-06-19T06:38:35.782674Z",
     "shell.execute_reply": "2024-06-19T06:38:35.782168Z"
    },
    "papermill": {
     "duration": 0.013536,
     "end_time": "2024-06-19T06:38:35.784003",
     "exception": false,
     "start_time": "2024-06-19T06:38:35.770467",
     "status": "completed"
    },
    "tags": []
   },
   "outputs": [],
   "source": [
    "data['quarter_start'] = pd.Index(data.date.pipe(quarter_to_date))\n",
    "data['variable'] = data.sheet.str.split(' - ').apply(lambda x: x[0]).str.lower() + '_' + data.measure"
   ]
  },
  {
   "cell_type": "code",
   "execution_count": 9,
   "id": "c94cf87a",
   "metadata": {
    "execution": {
     "iopub.execute_input": "2024-06-19T06:38:35.789076Z",
     "iopub.status.busy": "2024-06-19T06:38:35.788871Z",
     "iopub.status.idle": "2024-06-19T06:38:35.796986Z",
     "shell.execute_reply": "2024-06-19T06:38:35.796355Z"
    },
    "papermill": {
     "duration": 0.012246,
     "end_time": "2024-06-19T06:38:35.798408",
     "exception": false,
     "start_time": "2024-06-19T06:38:35.786162",
     "status": "completed"
    },
    "tags": []
   },
   "outputs": [],
   "source": [
    "data = data.pivot_table(index='quarter_start', columns='variable', values='value')"
   ]
  },
  {
   "cell_type": "code",
   "execution_count": 10,
   "id": "912777d7",
   "metadata": {
    "execution": {
     "iopub.execute_input": "2024-06-19T06:38:35.803836Z",
     "iopub.status.busy": "2024-06-19T06:38:35.803445Z",
     "iopub.status.idle": "2024-06-19T06:38:35.810242Z",
     "shell.execute_reply": "2024-06-19T06:38:35.809694Z"
    },
    "papermill": {
     "duration": 0.01092,
     "end_time": "2024-06-19T06:38:35.811532",
     "exception": false,
     "start_time": "2024-06-19T06:38:35.800612",
     "status": "completed"
    },
    "tags": []
   },
   "outputs": [],
   "source": [
    "def calculate_rates(data, prefix):\n",
    "    data[prefix + '_age_16_to_24_neet_unemployed_rate_sa'] = data[prefix + '_age_16_to_24_neet_unemployed_sa'] / data[prefix + '_age_16_to_24_population'] * 100\n",
    "    data[prefix + '_age_16_to_24_neet_economically_inactive_rate_sa'] = data[prefix + '_age_16_to_24_neet_economically_inactive_sa'] / data[prefix + '_age_16_to_24_population'] * 100\n",
    "    return data\n",
    "  \n",
    "data = data.pipe(\n",
    "    calculate_rates, 'people'\n",
    ").pipe(\n",
    "    calculate_rates, 'men'\n",
    ").pipe(\n",
    "    calculate_rates, 'women'\n",
    ")\n"
   ]
  },
  {
   "cell_type": "code",
   "execution_count": 11,
   "id": "89da11bf",
   "metadata": {
    "execution": {
     "iopub.execute_input": "2024-06-19T06:38:35.817097Z",
     "iopub.status.busy": "2024-06-19T06:38:35.816695Z",
     "iopub.status.idle": "2024-06-19T06:38:35.824060Z",
     "shell.execute_reply": "2024-06-19T06:38:35.823530Z"
    },
    "papermill": {
     "duration": 0.011561,
     "end_time": "2024-06-19T06:38:35.825363",
     "exception": false,
     "start_time": "2024-06-19T06:38:35.813802",
     "status": "completed"
    },
    "tags": []
   },
   "outputs": [],
   "source": [
    "column_order = [\n",
    "  'people_age_16_to_24_neet_total_sa',\n",
    "  'people_age_16_to_24_neet_unemployed_sa',\n",
    "  'people_age_16_to_24_neet_economically_inactive_sa',\n",
    "  'people_age_16_to_24_population',\n",
    "  'people_age_16_to_24_neet_total_rate_sa',\n",
    "  'people_age_16_to_24_neet_unemployed_rate_sa',\n",
    "  'people_age_16_to_24_neet_economically_inactive_rate_sa',\n",
    "  'men_age_16_to_24_neet_total_sa',\n",
    "  'men_age_16_to_24_neet_unemployed_sa',\n",
    "  'men_age_16_to_24_neet_economically_inactive_sa',\n",
    "  'men_age_16_to_24_population',\n",
    "  'men_age_16_to_24_neet_total_rate_sa',\n",
    "  'men_age_16_to_24_neet_unemployed_rate_sa',\n",
    "  'men_age_16_to_24_neet_economically_inactive_rate_sa',\n",
    "  'women_age_16_to_24_neet_total_sa',\n",
    "  'women_age_16_to_24_neet_unemployed_sa',\n",
    "  'women_age_16_to_24_neet_economically_inactive_sa',\n",
    "  'women_age_16_to_24_population',\n",
    "  'women_age_16_to_24_neet_total_rate_sa',\n",
    "  'women_age_16_to_24_neet_unemployed_rate_sa',\n",
    "  'women_age_16_to_24_neet_economically_inactive_rate_sa'\n",
    "]\n",
    "\n",
    "data.loc[:, column_order].to_csv(NEET_16_24)"
   ]
  },
  {
   "cell_type": "code",
   "execution_count": 12,
   "id": "9430eb1a",
   "metadata": {
    "execution": {
     "iopub.execute_input": "2024-06-19T06:38:35.830867Z",
     "iopub.status.busy": "2024-06-19T06:38:35.830484Z",
     "iopub.status.idle": "2024-06-19T06:38:35.842734Z",
     "shell.execute_reply": "2024-06-19T06:38:35.842186Z"
    },
    "papermill": {
     "duration": 0.016468,
     "end_time": "2024-06-19T06:38:35.844076",
     "exception": false,
     "start_time": "2024-06-19T06:38:35.827608",
     "status": "completed"
    },
    "tags": []
   },
   "outputs": [
    {
     "data": {
      "text/plain": [
       "id                     object\n",
       "last_update    datetime64[ns]\n",
       "next_update            object\n",
       "dtype: object"
      ]
     },
     "execution_count": 12,
     "metadata": {},
     "output_type": "execute_result"
    }
   ],
   "source": [
    "metadata = pd.read_csv(ALL_METADATA, parse_dates=['last_update', 'next_update'])\n",
    "metadata.set_index(\n",
    "    'id'\n",
    ").rename(\n",
    "    columns={\n",
    "        'last_update': 'published'\n",
    "    }\n",
    ").loc['NEET'].to_json(NEET_METADATA, date_format='iso')\n",
    "\n",
    "metadata.dtypes\n"
   ]
  },
  {
   "cell_type": "code",
   "execution_count": null,
   "id": "8260788b",
   "metadata": {
    "papermill": {
     "duration": 0.002308,
     "end_time": "2024-06-19T06:38:35.848720",
     "exception": false,
     "start_time": "2024-06-19T06:38:35.846412",
     "status": "completed"
    },
    "tags": []
   },
   "outputs": [],
   "source": []
  },
  {
   "cell_type": "code",
   "execution_count": null,
   "id": "91a110ac",
   "metadata": {
    "papermill": {
     "duration": 0.002214,
     "end_time": "2024-06-19T06:38:35.853160",
     "exception": false,
     "start_time": "2024-06-19T06:38:35.850946",
     "status": "completed"
    },
    "tags": []
   },
   "outputs": [],
   "source": []
  }
 ],
 "metadata": {
  "kernelspec": {
   "display_name": "yff-data-ansOWYcy",
   "language": "python",
   "name": "python3"
  },
  "language_info": {
   "codemirror_mode": {
    "name": "ipython",
    "version": 3
   },
   "file_extension": ".py",
   "mimetype": "text/x-python",
   "name": "python",
   "nbconvert_exporter": "python",
   "pygments_lexer": "ipython3",
   "version": "3.10.14"
  },
  "papermill": {
   "default_parameters": {},
   "duration": 1.875664,
   "end_time": "2024-06-19T06:38:36.071644",
   "environment_variables": {},
   "exception": null,
   "input_path": "transform.ipynb",
   "output_path": "../../working/output/neet-transform.ipynb",
   "parameters": {},
   "start_time": "2024-06-19T06:38:34.195980",
   "version": "2.5.0"
  }
 },
 "nbformat": 4,
 "nbformat_minor": 5
}