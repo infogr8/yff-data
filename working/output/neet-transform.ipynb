{
 "cells": [
  {
   "cell_type": "code",
   "execution_count": 1,
   "id": "788bd648",
   "metadata": {
    "execution": {
     "iopub.execute_input": "2024-02-14T07:57:58.588582Z",
     "iopub.status.busy": "2024-02-14T07:57:58.588348Z",
     "iopub.status.idle": "2024-02-14T07:57:58.825781Z",
     "shell.execute_reply": "2024-02-14T07:57:58.825201Z"
    },
    "papermill": {
     "duration": 0.242296,
     "end_time": "2024-02-14T07:57:58.827371",
     "exception": false,
     "start_time": "2024-02-14T07:57:58.585075",
     "status": "completed"
    },
    "tags": []
   },
   "outputs": [],
   "source": [
    "import os\n",
    "import sys\n",
    "import pandas as pd\n",
    "\n",
    "LIB_DIR = '../../'\n",
    "if LIB_DIR not in sys.path:\n",
    "    sys.path.append(LIB_DIR)"
   ]
  },
  {
   "cell_type": "code",
   "execution_count": 2,
   "id": "e71feac9",
   "metadata": {
    "execution": {
     "iopub.execute_input": "2024-02-14T07:57:58.832519Z",
     "iopub.status.busy": "2024-02-14T07:57:58.832263Z",
     "iopub.status.idle": "2024-02-14T07:57:58.836757Z",
     "shell.execute_reply": "2024-02-14T07:57:58.836269Z"
    },
    "papermill": {
     "duration": 0.008435,
     "end_time": "2024-02-14T07:57:58.838047",
     "exception": false,
     "start_time": "2024-02-14T07:57:58.829612",
     "status": "completed"
    },
    "tags": []
   },
   "outputs": [],
   "source": [
    "from scripts.util.date import quarter_to_date"
   ]
  },
  {
   "cell_type": "code",
   "execution_count": 3,
   "id": "f80bb8f3",
   "metadata": {
    "execution": {
     "iopub.execute_input": "2024-02-14T07:57:58.842858Z",
     "iopub.status.busy": "2024-02-14T07:57:58.842438Z",
     "iopub.status.idle": "2024-02-14T07:57:58.845903Z",
     "shell.execute_reply": "2024-02-14T07:57:58.845253Z"
    },
    "papermill": {
     "duration": 0.007285,
     "end_time": "2024-02-14T07:57:58.847214",
     "exception": false,
     "start_time": "2024-02-14T07:57:58.839929",
     "status": "completed"
    },
    "tags": []
   },
   "outputs": [],
   "source": [
    "NEET_DATA = '../../working/upstream/neet.csv'\n",
    "ALL_METADATA = '../../working/upstream/metadata.csv'\n",
    "NEET_16_24 = '../../data/neet/neet.csv'\n",
    "NEET_METADATA = '../../data/neet/metadata.json'\n",
    "\n",
    "os.makedirs(os.path.dirname(NEET_16_24), exist_ok=True)"
   ]
  },
  {
   "cell_type": "code",
   "execution_count": 4,
   "id": "75644b36",
   "metadata": {
    "execution": {
     "iopub.execute_input": "2024-02-14T07:57:58.852135Z",
     "iopub.status.busy": "2024-02-14T07:57:58.851655Z",
     "iopub.status.idle": "2024-02-14T07:57:58.860528Z",
     "shell.execute_reply": "2024-02-14T07:57:58.859920Z"
    },
    "papermill": {
     "duration": 0.012734,
     "end_time": "2024-02-14T07:57:58.861871",
     "exception": false,
     "start_time": "2024-02-14T07:57:58.849137",
     "status": "completed"
    },
    "tags": []
   },
   "outputs": [],
   "source": [
    "data = pd.read_csv('../../working/upstream/neet.csv')"
   ]
  },
  {
   "cell_type": "code",
   "execution_count": 5,
   "id": "cf3fdeaa",
   "metadata": {
    "execution": {
     "iopub.execute_input": "2024-02-14T07:57:58.866707Z",
     "iopub.status.busy": "2024-02-14T07:57:58.866369Z",
     "iopub.status.idle": "2024-02-14T07:57:58.869463Z",
     "shell.execute_reply": "2024-02-14T07:57:58.868870Z"
    },
    "papermill": {
     "duration": 0.006959,
     "end_time": "2024-02-14T07:57:58.870789",
     "exception": false,
     "start_time": "2024-02-14T07:57:58.863830",
     "status": "completed"
    },
    "tags": []
   },
   "outputs": [],
   "source": [
    "variable_mapper = {\n",
    "    'Young people who were NEET_Total': 'age_16_to_24_neet_total_sa',\n",
    "    'Young people who were NEET_Unemployed': 'age_16_to_24_neet_unemployed_sa',\n",
    "    'Young people who were NEET_Economically inactive': 'age_16_to_24_neet_economically_inactive_sa',\n",
    "    'Total people in relevant population group': 'age_16_to_24_population',\n",
    "    'People who were NEET as a percentage of people in relevant population group': 'age_16_to_24_neet_total_rate_sa',\n",
    "}"
   ]
  },
  {
   "cell_type": "code",
   "execution_count": 6,
   "id": "4760bbae",
   "metadata": {
    "execution": {
     "iopub.execute_input": "2024-02-14T07:57:58.875720Z",
     "iopub.status.busy": "2024-02-14T07:57:58.875383Z",
     "iopub.status.idle": "2024-02-14T07:57:58.879373Z",
     "shell.execute_reply": "2024-02-14T07:57:58.878772Z"
    },
    "papermill": {
     "duration": 0.007925,
     "end_time": "2024-02-14T07:57:58.880711",
     "exception": false,
     "start_time": "2024-02-14T07:57:58.872786",
     "status": "completed"
    },
    "tags": []
   },
   "outputs": [],
   "source": [
    "data = data[data.age == 'Aged 16-24']"
   ]
  },
  {
   "cell_type": "code",
   "execution_count": 7,
   "id": "36a3b994",
   "metadata": {
    "execution": {
     "iopub.execute_input": "2024-02-14T07:57:58.885684Z",
     "iopub.status.busy": "2024-02-14T07:57:58.885330Z",
     "iopub.status.idle": "2024-02-14T07:57:58.889633Z",
     "shell.execute_reply": "2024-02-14T07:57:58.889118Z"
    },
    "papermill": {
     "duration": 0.008213,
     "end_time": "2024-02-14T07:57:58.890944",
     "exception": false,
     "start_time": "2024-02-14T07:57:58.882731",
     "status": "completed"
    },
    "tags": []
   },
   "outputs": [],
   "source": [
    "data = data.replace({\n",
    "  'measure': variable_mapper\n",
    "})"
   ]
  },
  {
   "cell_type": "code",
   "execution_count": 8,
   "id": "ce803ccc",
   "metadata": {
    "execution": {
     "iopub.execute_input": "2024-02-14T07:57:58.896029Z",
     "iopub.status.busy": "2024-02-14T07:57:58.895632Z",
     "iopub.status.idle": "2024-02-14T07:57:58.904660Z",
     "shell.execute_reply": "2024-02-14T07:57:58.904153Z"
    },
    "papermill": {
     "duration": 0.013015,
     "end_time": "2024-02-14T07:57:58.905967",
     "exception": false,
     "start_time": "2024-02-14T07:57:58.892952",
     "status": "completed"
    },
    "tags": []
   },
   "outputs": [],
   "source": [
    "data['quarter_start'] = pd.Index(data.date.pipe(quarter_to_date))\n",
    "data['variable'] = data.sheet.str.split(' - ').apply(lambda x: x[0]).str.lower() + '_' + data.measure"
   ]
  },
  {
   "cell_type": "code",
   "execution_count": 9,
   "id": "57b475bf",
   "metadata": {
    "execution": {
     "iopub.execute_input": "2024-02-14T07:57:58.911832Z",
     "iopub.status.busy": "2024-02-14T07:57:58.911378Z",
     "iopub.status.idle": "2024-02-14T07:57:58.919305Z",
     "shell.execute_reply": "2024-02-14T07:57:58.918689Z"
    },
    "papermill": {
     "duration": 0.011996,
     "end_time": "2024-02-14T07:57:58.920734",
     "exception": false,
     "start_time": "2024-02-14T07:57:58.908738",
     "status": "completed"
    },
    "tags": []
   },
   "outputs": [],
   "source": [
    "data = data.pivot_table(index='quarter_start', columns='variable', values='value')"
   ]
  },
  {
   "cell_type": "code",
   "execution_count": 10,
   "id": "674d63d9",
   "metadata": {
    "execution": {
     "iopub.execute_input": "2024-02-14T07:57:58.925900Z",
     "iopub.status.busy": "2024-02-14T07:57:58.925501Z",
     "iopub.status.idle": "2024-02-14T07:57:58.931834Z",
     "shell.execute_reply": "2024-02-14T07:57:58.931231Z"
    },
    "papermill": {
     "duration": 0.010299,
     "end_time": "2024-02-14T07:57:58.933128",
     "exception": false,
     "start_time": "2024-02-14T07:57:58.922829",
     "status": "completed"
    },
    "tags": []
   },
   "outputs": [],
   "source": [
    "def calculate_rates(data, prefix):\n",
    "    data[prefix + '_age_16_to_24_neet_unemployed_rate_sa'] = data[prefix + '_age_16_to_24_neet_unemployed_sa'] / data[prefix + '_age_16_to_24_population'] * 100\n",
    "    data[prefix + '_age_16_to_24_neet_economically_inactive_rate_sa'] = data[prefix + '_age_16_to_24_neet_economically_inactive_sa'] / data[prefix + '_age_16_to_24_population'] * 100\n",
    "    return data\n",
    "  \n",
    "data = data.pipe(\n",
    "    calculate_rates, 'people'\n",
    ").pipe(\n",
    "    calculate_rates, 'men'\n",
    ").pipe(\n",
    "    calculate_rates, 'women'\n",
    ")\n"
   ]
  },
  {
   "cell_type": "code",
   "execution_count": 11,
   "id": "c97ae7e8",
   "metadata": {
    "execution": {
     "iopub.execute_input": "2024-02-14T07:57:58.938682Z",
     "iopub.status.busy": "2024-02-14T07:57:58.938260Z",
     "iopub.status.idle": "2024-02-14T07:57:58.944943Z",
     "shell.execute_reply": "2024-02-14T07:57:58.944314Z"
    },
    "papermill": {
     "duration": 0.011085,
     "end_time": "2024-02-14T07:57:58.946467",
     "exception": false,
     "start_time": "2024-02-14T07:57:58.935382",
     "status": "completed"
    },
    "tags": []
   },
   "outputs": [],
   "source": [
    "column_order = [\n",
    "  'people_age_16_to_24_neet_total_sa',\n",
    "  'people_age_16_to_24_neet_unemployed_sa',\n",
    "  'people_age_16_to_24_neet_economically_inactive_sa',\n",
    "  'people_age_16_to_24_population',\n",
    "  'people_age_16_to_24_neet_total_rate_sa',\n",
    "  'people_age_16_to_24_neet_unemployed_rate_sa',\n",
    "  'people_age_16_to_24_neet_economically_inactive_rate_sa',\n",
    "  'men_age_16_to_24_neet_total_sa',\n",
    "  'men_age_16_to_24_neet_unemployed_sa',\n",
    "  'men_age_16_to_24_neet_economically_inactive_sa',\n",
    "  'men_age_16_to_24_population',\n",
    "  'men_age_16_to_24_neet_total_rate_sa',\n",
    "  'men_age_16_to_24_neet_unemployed_rate_sa',\n",
    "  'men_age_16_to_24_neet_economically_inactive_rate_sa',\n",
    "  'women_age_16_to_24_neet_total_sa',\n",
    "  'women_age_16_to_24_neet_unemployed_sa',\n",
    "  'women_age_16_to_24_neet_economically_inactive_sa',\n",
    "  'women_age_16_to_24_population',\n",
    "  'women_age_16_to_24_neet_total_rate_sa',\n",
    "  'women_age_16_to_24_neet_unemployed_rate_sa',\n",
    "  'women_age_16_to_24_neet_economically_inactive_rate_sa'\n",
    "]\n",
    "\n",
    "data.loc[:, column_order].to_csv(NEET_16_24)"
   ]
  },
  {
   "cell_type": "code",
   "execution_count": 12,
   "id": "ebbffc4e",
   "metadata": {
    "execution": {
     "iopub.execute_input": "2024-02-14T07:57:58.951644Z",
     "iopub.status.busy": "2024-02-14T07:57:58.951292Z",
     "iopub.status.idle": "2024-02-14T07:57:58.962849Z",
     "shell.execute_reply": "2024-02-14T07:57:58.962252Z"
    },
    "papermill": {
     "duration": 0.015502,
     "end_time": "2024-02-14T07:57:58.964076",
     "exception": false,
     "start_time": "2024-02-14T07:57:58.948574",
     "status": "completed"
    },
    "tags": []
   },
   "outputs": [
    {
     "data": {
      "text/plain": [
       "id                     object\n",
       "last_update    datetime64[ns]\n",
       "next_update            object\n",
       "dtype: object"
      ]
     },
     "execution_count": 12,
     "metadata": {},
     "output_type": "execute_result"
    }
   ],
   "source": [
    "metadata = pd.read_csv(ALL_METADATA, parse_dates=['last_update', 'next_update'])\n",
    "metadata.set_index(\n",
    "    'id'\n",
    ").rename(\n",
    "    columns={\n",
    "        'last_update': 'published'\n",
    "    }\n",
    ").loc['NEET'].to_json(NEET_METADATA, date_format='iso')\n",
    "\n",
    "metadata.dtypes\n"
   ]
  },
  {
   "cell_type": "code",
   "execution_count": null,
   "id": "307b78a0",
   "metadata": {
    "papermill": {
     "duration": 0.00228,
     "end_time": "2024-02-14T07:57:58.968687",
     "exception": false,
     "start_time": "2024-02-14T07:57:58.966407",
     "status": "completed"
    },
    "tags": []
   },
   "outputs": [],
   "source": []
  },
  {
   "cell_type": "code",
   "execution_count": null,
   "id": "9c58b417",
   "metadata": {
    "papermill": {
     "duration": 0.002202,
     "end_time": "2024-02-14T07:57:58.973156",
     "exception": false,
     "start_time": "2024-02-14T07:57:58.970954",
     "status": "completed"
    },
    "tags": []
   },
   "outputs": [],
   "source": []
  }
 ],
 "metadata": {
  "kernelspec": {
   "display_name": "yff-data-ansOWYcy",
   "language": "python",
   "name": "python3"
  },
  "language_info": {
   "codemirror_mode": {
    "name": "ipython",
    "version": 3
   },
   "file_extension": ".py",
   "mimetype": "text/x-python",
   "name": "python",
   "nbconvert_exporter": "python",
   "pygments_lexer": "ipython3",
   "version": "3.10.13"
  },
  "papermill": {
   "default_parameters": {},
   "duration": 2.251166,
   "end_time": "2024-02-14T07:57:59.192241",
   "environment_variables": {},
   "exception": null,
   "input_path": "transform.ipynb",
   "output_path": "../../working/output/neet-transform.ipynb",
   "parameters": {},
   "start_time": "2024-02-14T07:57:56.941075",
   "version": "2.4.0"
  }
 },
 "nbformat": 4,
 "nbformat_minor": 5
}