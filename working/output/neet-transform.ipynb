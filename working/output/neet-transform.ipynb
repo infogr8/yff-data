{
 "cells": [
  {
   "cell_type": "code",
   "execution_count": 1,
   "id": "095d2beb",
   "metadata": {
    "execution": {
     "iopub.execute_input": "2024-10-16T06:48:26.422911Z",
     "iopub.status.busy": "2024-10-16T06:48:26.422605Z",
     "iopub.status.idle": "2024-10-16T06:48:26.734985Z",
     "shell.execute_reply": "2024-10-16T06:48:26.734405Z"
    },
    "papermill": {
     "duration": 0.318874,
     "end_time": "2024-10-16T06:48:26.736702",
     "exception": false,
     "start_time": "2024-10-16T06:48:26.417828",
     "status": "completed"
    },
    "tags": []
   },
   "outputs": [],
   "source": [
    "import os\n",
    "import sys\n",
    "import pandas as pd\n",
    "\n",
    "LIB_DIR = '../../'\n",
    "if LIB_DIR not in sys.path:\n",
    "    sys.path.append(LIB_DIR)"
   ]
  },
  {
   "cell_type": "code",
   "execution_count": 2,
   "id": "5c6813ef",
   "metadata": {
    "execution": {
     "iopub.execute_input": "2024-10-16T06:48:26.742443Z",
     "iopub.status.busy": "2024-10-16T06:48:26.741877Z",
     "iopub.status.idle": "2024-10-16T06:48:26.746416Z",
     "shell.execute_reply": "2024-10-16T06:48:26.745760Z"
    },
    "papermill": {
     "duration": 0.00877,
     "end_time": "2024-10-16T06:48:26.747758",
     "exception": false,
     "start_time": "2024-10-16T06:48:26.738988",
     "status": "completed"
    },
    "tags": []
   },
   "outputs": [],
   "source": [
    "from scripts.util.date import quarter_to_date"
   ]
  },
  {
   "cell_type": "code",
   "execution_count": 3,
   "id": "3b11bce9",
   "metadata": {
    "execution": {
     "iopub.execute_input": "2024-10-16T06:48:26.752664Z",
     "iopub.status.busy": "2024-10-16T06:48:26.752473Z",
     "iopub.status.idle": "2024-10-16T06:48:26.755853Z",
     "shell.execute_reply": "2024-10-16T06:48:26.755243Z"
    },
    "papermill": {
     "duration": 0.007384,
     "end_time": "2024-10-16T06:48:26.757123",
     "exception": false,
     "start_time": "2024-10-16T06:48:26.749739",
     "status": "completed"
    },
    "tags": []
   },
   "outputs": [],
   "source": [
    "NEET_DATA = '../../working/upstream/neet.csv'\n",
    "ALL_METADATA = '../../working/upstream/metadata.csv'\n",
    "NEET_16_24 = '../../data/neet/neet.csv'\n",
    "NEET_METADATA = '../../data/neet/metadata.json'\n",
    "\n",
    "os.makedirs(os.path.dirname(NEET_16_24), exist_ok=True)"
   ]
  },
  {
   "cell_type": "code",
   "execution_count": 4,
   "id": "b86fb9ee",
   "metadata": {
    "execution": {
     "iopub.execute_input": "2024-10-16T06:48:26.762121Z",
     "iopub.status.busy": "2024-10-16T06:48:26.761758Z",
     "iopub.status.idle": "2024-10-16T06:48:26.770415Z",
     "shell.execute_reply": "2024-10-16T06:48:26.769869Z"
    },
    "papermill": {
     "duration": 0.012683,
     "end_time": "2024-10-16T06:48:26.771789",
     "exception": false,
     "start_time": "2024-10-16T06:48:26.759106",
     "status": "completed"
    },
    "tags": []
   },
   "outputs": [],
   "source": [
    "data = pd.read_csv('../../working/upstream/neet.csv')"
   ]
  },
  {
   "cell_type": "code",
   "execution_count": 5,
   "id": "475dec60",
   "metadata": {
    "execution": {
     "iopub.execute_input": "2024-10-16T06:48:26.777030Z",
     "iopub.status.busy": "2024-10-16T06:48:26.776637Z",
     "iopub.status.idle": "2024-10-16T06:48:26.779970Z",
     "shell.execute_reply": "2024-10-16T06:48:26.779439Z"
    },
    "papermill": {
     "duration": 0.007356,
     "end_time": "2024-10-16T06:48:26.781245",
     "exception": false,
     "start_time": "2024-10-16T06:48:26.773889",
     "status": "completed"
    },
    "tags": []
   },
   "outputs": [],
   "source": [
    "variable_mapper = {\n",
    "    'Young people who were NEET_Total': 'age_16_to_24_neet_total_sa',\n",
    "    'Young people who were NEET_Unemployed': 'age_16_to_24_neet_unemployed_sa',\n",
    "    'Young people who were NEET_Economically inactive': 'age_16_to_24_neet_economically_inactive_sa',\n",
    "    'Total people in relevant population group': 'age_16_to_24_population',\n",
    "    'People who were NEET as a percentage of people in relevant population group': 'age_16_to_24_neet_total_rate_sa',\n",
    "}"
   ]
  },
  {
   "cell_type": "code",
   "execution_count": 6,
   "id": "ccc1a248",
   "metadata": {
    "execution": {
     "iopub.execute_input": "2024-10-16T06:48:26.786498Z",
     "iopub.status.busy": "2024-10-16T06:48:26.786097Z",
     "iopub.status.idle": "2024-10-16T06:48:26.790372Z",
     "shell.execute_reply": "2024-10-16T06:48:26.789662Z"
    },
    "papermill": {
     "duration": 0.008509,
     "end_time": "2024-10-16T06:48:26.791813",
     "exception": false,
     "start_time": "2024-10-16T06:48:26.783304",
     "status": "completed"
    },
    "tags": []
   },
   "outputs": [],
   "source": [
    "data = data[data.age == 'Aged 16-24']"
   ]
  },
  {
   "cell_type": "code",
   "execution_count": 7,
   "id": "173bba16",
   "metadata": {
    "execution": {
     "iopub.execute_input": "2024-10-16T06:48:26.797040Z",
     "iopub.status.busy": "2024-10-16T06:48:26.796789Z",
     "iopub.status.idle": "2024-10-16T06:48:26.801495Z",
     "shell.execute_reply": "2024-10-16T06:48:26.800927Z"
    },
    "papermill": {
     "duration": 0.008932,
     "end_time": "2024-10-16T06:48:26.802854",
     "exception": false,
     "start_time": "2024-10-16T06:48:26.793922",
     "status": "completed"
    },
    "tags": []
   },
   "outputs": [],
   "source": [
    "data = data.replace({\n",
    "  'measure': variable_mapper\n",
    "})"
   ]
  },
  {
   "cell_type": "code",
   "execution_count": 8,
   "id": "a399e569",
   "metadata": {
    "execution": {
     "iopub.execute_input": "2024-10-16T06:48:26.808219Z",
     "iopub.status.busy": "2024-10-16T06:48:26.807819Z",
     "iopub.status.idle": "2024-10-16T06:48:26.817609Z",
     "shell.execute_reply": "2024-10-16T06:48:26.817063Z"
    },
    "papermill": {
     "duration": 0.013984,
     "end_time": "2024-10-16T06:48:26.818974",
     "exception": false,
     "start_time": "2024-10-16T06:48:26.804990",
     "status": "completed"
    },
    "tags": []
   },
   "outputs": [],
   "source": [
    "data['quarter_start'] = pd.Index(data.date.pipe(quarter_to_date))\n",
    "data['variable'] = data.sheet.str.split(' - ').apply(lambda x: x[0]).str.lower() + '_' + data.measure"
   ]
  },
  {
   "cell_type": "code",
   "execution_count": 9,
   "id": "dd2b2f82",
   "metadata": {
    "execution": {
     "iopub.execute_input": "2024-10-16T06:48:26.824243Z",
     "iopub.status.busy": "2024-10-16T06:48:26.824041Z",
     "iopub.status.idle": "2024-10-16T06:48:26.832364Z",
     "shell.execute_reply": "2024-10-16T06:48:26.831830Z"
    },
    "papermill": {
     "duration": 0.012551,
     "end_time": "2024-10-16T06:48:26.833773",
     "exception": false,
     "start_time": "2024-10-16T06:48:26.821222",
     "status": "completed"
    },
    "tags": []
   },
   "outputs": [],
   "source": [
    "data = data.pivot_table(index='quarter_start', columns='variable', values='value')"
   ]
  },
  {
   "cell_type": "code",
   "execution_count": 10,
   "id": "e715fa04",
   "metadata": {
    "execution": {
     "iopub.execute_input": "2024-10-16T06:48:26.839299Z",
     "iopub.status.busy": "2024-10-16T06:48:26.838901Z",
     "iopub.status.idle": "2024-10-16T06:48:26.845517Z",
     "shell.execute_reply": "2024-10-16T06:48:26.844958Z"
    },
    "papermill": {
     "duration": 0.010871,
     "end_time": "2024-10-16T06:48:26.846851",
     "exception": false,
     "start_time": "2024-10-16T06:48:26.835980",
     "status": "completed"
    },
    "tags": []
   },
   "outputs": [],
   "source": [
    "def calculate_rates(data, prefix):\n",
    "    data[prefix + '_age_16_to_24_neet_unemployed_rate_sa'] = data[prefix + '_age_16_to_24_neet_unemployed_sa'] / data[prefix + '_age_16_to_24_population'] * 100\n",
    "    data[prefix + '_age_16_to_24_neet_economically_inactive_rate_sa'] = data[prefix + '_age_16_to_24_neet_economically_inactive_sa'] / data[prefix + '_age_16_to_24_population'] * 100\n",
    "    return data\n",
    "  \n",
    "data = data.pipe(\n",
    "    calculate_rates, 'people'\n",
    ").pipe(\n",
    "    calculate_rates, 'men'\n",
    ").pipe(\n",
    "    calculate_rates, 'women'\n",
    ")\n"
   ]
  },
  {
   "cell_type": "code",
   "execution_count": 11,
   "id": "d4286394",
   "metadata": {
    "execution": {
     "iopub.execute_input": "2024-10-16T06:48:26.852439Z",
     "iopub.status.busy": "2024-10-16T06:48:26.852210Z",
     "iopub.status.idle": "2024-10-16T06:48:26.859722Z",
     "shell.execute_reply": "2024-10-16T06:48:26.859058Z"
    },
    "papermill": {
     "duration": 0.012162,
     "end_time": "2024-10-16T06:48:26.861331",
     "exception": false,
     "start_time": "2024-10-16T06:48:26.849169",
     "status": "completed"
    },
    "tags": []
   },
   "outputs": [],
   "source": [
    "column_order = [\n",
    "  'people_age_16_to_24_neet_total_sa',\n",
    "  'people_age_16_to_24_neet_unemployed_sa',\n",
    "  'people_age_16_to_24_neet_economically_inactive_sa',\n",
    "  'people_age_16_to_24_population',\n",
    "  'people_age_16_to_24_neet_total_rate_sa',\n",
    "  'people_age_16_to_24_neet_unemployed_rate_sa',\n",
    "  'people_age_16_to_24_neet_economically_inactive_rate_sa',\n",
    "  'men_age_16_to_24_neet_total_sa',\n",
    "  'men_age_16_to_24_neet_unemployed_sa',\n",
    "  'men_age_16_to_24_neet_economically_inactive_sa',\n",
    "  'men_age_16_to_24_population',\n",
    "  'men_age_16_to_24_neet_total_rate_sa',\n",
    "  'men_age_16_to_24_neet_unemployed_rate_sa',\n",
    "  'men_age_16_to_24_neet_economically_inactive_rate_sa',\n",
    "  'women_age_16_to_24_neet_total_sa',\n",
    "  'women_age_16_to_24_neet_unemployed_sa',\n",
    "  'women_age_16_to_24_neet_economically_inactive_sa',\n",
    "  'women_age_16_to_24_population',\n",
    "  'women_age_16_to_24_neet_total_rate_sa',\n",
    "  'women_age_16_to_24_neet_unemployed_rate_sa',\n",
    "  'women_age_16_to_24_neet_economically_inactive_rate_sa'\n",
    "]\n",
    "\n",
    "data.loc[:, column_order].to_csv(NEET_16_24)"
   ]
  },
  {
   "cell_type": "code",
   "execution_count": 12,
   "id": "53882b1c",
   "metadata": {
    "execution": {
     "iopub.execute_input": "2024-10-16T06:48:26.866783Z",
     "iopub.status.busy": "2024-10-16T06:48:26.866579Z",
     "iopub.status.idle": "2024-10-16T06:48:26.879619Z",
     "shell.execute_reply": "2024-10-16T06:48:26.878966Z"
    },
    "papermill": {
     "duration": 0.017456,
     "end_time": "2024-10-16T06:48:26.881056",
     "exception": false,
     "start_time": "2024-10-16T06:48:26.863600",
     "status": "completed"
    },
    "tags": []
   },
   "outputs": [
    {
     "data": {
      "text/plain": [
       "id                     object\n",
       "last_update    datetime64[ns]\n",
       "next_update            object\n",
       "dtype: object"
      ]
     },
     "execution_count": 12,
     "metadata": {},
     "output_type": "execute_result"
    }
   ],
   "source": [
    "metadata = pd.read_csv(ALL_METADATA, parse_dates=['last_update', 'next_update'])\n",
    "metadata.set_index(\n",
    "    'id'\n",
    ").rename(\n",
    "    columns={\n",
    "        'last_update': 'published'\n",
    "    }\n",
    ").loc['NEET'].to_json(NEET_METADATA, date_format='iso')\n",
    "\n",
    "metadata.dtypes\n"
   ]
  },
  {
   "cell_type": "code",
   "execution_count": null,
   "id": "164b059c",
   "metadata": {
    "papermill": {
     "duration": 0.002315,
     "end_time": "2024-10-16T06:48:26.885856",
     "exception": false,
     "start_time": "2024-10-16T06:48:26.883541",
     "status": "completed"
    },
    "tags": []
   },
   "outputs": [],
   "source": []
  },
  {
   "cell_type": "code",
   "execution_count": null,
   "id": "535d41c2",
   "metadata": {
    "papermill": {
     "duration": 0.002197,
     "end_time": "2024-10-16T06:48:26.890315",
     "exception": false,
     "start_time": "2024-10-16T06:48:26.888118",
     "status": "completed"
    },
    "tags": []
   },
   "outputs": [],
   "source": []
  }
 ],
 "metadata": {
  "kernelspec": {
   "display_name": "yff-data-ansOWYcy",
   "language": "python",
   "name": "python3"
  },
  "language_info": {
   "codemirror_mode": {
    "name": "ipython",
    "version": 3
   },
   "file_extension": ".py",
   "mimetype": "text/x-python",
   "name": "python",
   "nbconvert_exporter": "python",
   "pygments_lexer": "ipython3",
   "version": "3.10.15"
  },
  "papermill": {
   "default_parameters": {},
   "duration": 1.881209,
   "end_time": "2024-10-16T06:48:27.108239",
   "environment_variables": {},
   "exception": null,
   "input_path": "transform.ipynb",
   "output_path": "../../working/output/neet-transform.ipynb",
   "parameters": {},
   "start_time": "2024-10-16T06:48:25.227030",
   "version": "2.5.0"
  }
 },
 "nbformat": 4,
 "nbformat_minor": 5
}