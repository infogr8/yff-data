{
 "cells": [
  {
   "cell_type": "code",
   "execution_count": 1,
   "id": "4761216b",
   "metadata": {
    "execution": {
     "iopub.execute_input": "2024-08-13T06:44:25.418033Z",
     "iopub.status.busy": "2024-08-13T06:44:25.417794Z",
     "iopub.status.idle": "2024-08-13T06:44:25.717288Z",
     "shell.execute_reply": "2024-08-13T06:44:25.716591Z"
    },
    "papermill": {
     "duration": 0.304608,
     "end_time": "2024-08-13T06:44:25.719033",
     "exception": false,
     "start_time": "2024-08-13T06:44:25.414425",
     "status": "completed"
    },
    "tags": []
   },
   "outputs": [],
   "source": [
    "import os\n",
    "import sys\n",
    "import pandas as pd\n",
    "\n",
    "LIB_DIR = '../../'\n",
    "if LIB_DIR not in sys.path:\n",
    "    sys.path.append(LIB_DIR)"
   ]
  },
  {
   "cell_type": "code",
   "execution_count": 2,
   "id": "476cd457",
   "metadata": {
    "execution": {
     "iopub.execute_input": "2024-08-13T06:44:25.724458Z",
     "iopub.status.busy": "2024-08-13T06:44:25.724050Z",
     "iopub.status.idle": "2024-08-13T06:44:25.728628Z",
     "shell.execute_reply": "2024-08-13T06:44:25.728125Z"
    },
    "papermill": {
     "duration": 0.008589,
     "end_time": "2024-08-13T06:44:25.729944",
     "exception": false,
     "start_time": "2024-08-13T06:44:25.721355",
     "status": "completed"
    },
    "tags": []
   },
   "outputs": [],
   "source": [
    "from scripts.util.date import quarter_to_date"
   ]
  },
  {
   "cell_type": "code",
   "execution_count": 3,
   "id": "01675330",
   "metadata": {
    "execution": {
     "iopub.execute_input": "2024-08-13T06:44:25.735900Z",
     "iopub.status.busy": "2024-08-13T06:44:25.735676Z",
     "iopub.status.idle": "2024-08-13T06:44:25.739045Z",
     "shell.execute_reply": "2024-08-13T06:44:25.738433Z"
    },
    "papermill": {
     "duration": 0.00858,
     "end_time": "2024-08-13T06:44:25.740449",
     "exception": false,
     "start_time": "2024-08-13T06:44:25.731869",
     "status": "completed"
    },
    "tags": []
   },
   "outputs": [],
   "source": [
    "NEET_DATA = '../../working/upstream/neet.csv'\n",
    "ALL_METADATA = '../../working/upstream/metadata.csv'\n",
    "NEET_16_24 = '../../data/neet/neet.csv'\n",
    "NEET_METADATA = '../../data/neet/metadata.json'\n",
    "\n",
    "os.makedirs(os.path.dirname(NEET_16_24), exist_ok=True)"
   ]
  },
  {
   "cell_type": "code",
   "execution_count": 4,
   "id": "7633fdb5",
   "metadata": {
    "execution": {
     "iopub.execute_input": "2024-08-13T06:44:25.745242Z",
     "iopub.status.busy": "2024-08-13T06:44:25.745047Z",
     "iopub.status.idle": "2024-08-13T06:44:25.753467Z",
     "shell.execute_reply": "2024-08-13T06:44:25.752965Z"
    },
    "papermill": {
     "duration": 0.012422,
     "end_time": "2024-08-13T06:44:25.754784",
     "exception": false,
     "start_time": "2024-08-13T06:44:25.742362",
     "status": "completed"
    },
    "tags": []
   },
   "outputs": [],
   "source": [
    "data = pd.read_csv('../../working/upstream/neet.csv')"
   ]
  },
  {
   "cell_type": "code",
   "execution_count": 5,
   "id": "c292abc9",
   "metadata": {
    "execution": {
     "iopub.execute_input": "2024-08-13T06:44:25.759892Z",
     "iopub.status.busy": "2024-08-13T06:44:25.759347Z",
     "iopub.status.idle": "2024-08-13T06:44:25.763170Z",
     "shell.execute_reply": "2024-08-13T06:44:25.762665Z"
    },
    "papermill": {
     "duration": 0.007712,
     "end_time": "2024-08-13T06:44:25.764462",
     "exception": false,
     "start_time": "2024-08-13T06:44:25.756750",
     "status": "completed"
    },
    "tags": []
   },
   "outputs": [],
   "source": [
    "variable_mapper = {\n",
    "    'Young people who were NEET_Total': 'age_16_to_24_neet_total_sa',\n",
    "    'Young people who were NEET_Unemployed': 'age_16_to_24_neet_unemployed_sa',\n",
    "    'Young people who were NEET_Economically inactive': 'age_16_to_24_neet_economically_inactive_sa',\n",
    "    'Total people in relevant population group': 'age_16_to_24_population',\n",
    "    'People who were NEET as a percentage of people in relevant population group': 'age_16_to_24_neet_total_rate_sa',\n",
    "}"
   ]
  },
  {
   "cell_type": "code",
   "execution_count": 6,
   "id": "f4a62476",
   "metadata": {
    "execution": {
     "iopub.execute_input": "2024-08-13T06:44:25.769582Z",
     "iopub.status.busy": "2024-08-13T06:44:25.769114Z",
     "iopub.status.idle": "2024-08-13T06:44:25.773040Z",
     "shell.execute_reply": "2024-08-13T06:44:25.772538Z"
    },
    "papermill": {
     "duration": 0.007892,
     "end_time": "2024-08-13T06:44:25.774320",
     "exception": false,
     "start_time": "2024-08-13T06:44:25.766428",
     "status": "completed"
    },
    "tags": []
   },
   "outputs": [],
   "source": [
    "data = data[data.age == 'Aged 16-24']"
   ]
  },
  {
   "cell_type": "code",
   "execution_count": 7,
   "id": "ffa7d9e1",
   "metadata": {
    "execution": {
     "iopub.execute_input": "2024-08-13T06:44:25.779401Z",
     "iopub.status.busy": "2024-08-13T06:44:25.778999Z",
     "iopub.status.idle": "2024-08-13T06:44:25.782930Z",
     "shell.execute_reply": "2024-08-13T06:44:25.782365Z"
    },
    "papermill": {
     "duration": 0.00785,
     "end_time": "2024-08-13T06:44:25.784199",
     "exception": false,
     "start_time": "2024-08-13T06:44:25.776349",
     "status": "completed"
    },
    "tags": []
   },
   "outputs": [],
   "source": [
    "data = data.replace({\n",
    "  'measure': variable_mapper\n",
    "})"
   ]
  },
  {
   "cell_type": "code",
   "execution_count": 8,
   "id": "8d5896ad",
   "metadata": {
    "execution": {
     "iopub.execute_input": "2024-08-13T06:44:25.789183Z",
     "iopub.status.busy": "2024-08-13T06:44:25.788835Z",
     "iopub.status.idle": "2024-08-13T06:44:25.798023Z",
     "shell.execute_reply": "2024-08-13T06:44:25.797381Z"
    },
    "papermill": {
     "duration": 0.013082,
     "end_time": "2024-08-13T06:44:25.799306",
     "exception": false,
     "start_time": "2024-08-13T06:44:25.786224",
     "status": "completed"
    },
    "tags": []
   },
   "outputs": [],
   "source": [
    "data['quarter_start'] = pd.Index(data.date.pipe(quarter_to_date))\n",
    "data['variable'] = data.sheet.str.split(' - ').apply(lambda x: x[0]).str.lower() + '_' + data.measure"
   ]
  },
  {
   "cell_type": "code",
   "execution_count": 9,
   "id": "f2614b40",
   "metadata": {
    "execution": {
     "iopub.execute_input": "2024-08-13T06:44:25.804517Z",
     "iopub.status.busy": "2024-08-13T06:44:25.804170Z",
     "iopub.status.idle": "2024-08-13T06:44:25.811988Z",
     "shell.execute_reply": "2024-08-13T06:44:25.811384Z"
    },
    "papermill": {
     "duration": 0.011784,
     "end_time": "2024-08-13T06:44:25.813264",
     "exception": false,
     "start_time": "2024-08-13T06:44:25.801480",
     "status": "completed"
    },
    "tags": []
   },
   "outputs": [],
   "source": [
    "data = data.pivot_table(index='quarter_start', columns='variable', values='value')"
   ]
  },
  {
   "cell_type": "code",
   "execution_count": 10,
   "id": "0aa60317",
   "metadata": {
    "execution": {
     "iopub.execute_input": "2024-08-13T06:44:25.818373Z",
     "iopub.status.busy": "2024-08-13T06:44:25.818019Z",
     "iopub.status.idle": "2024-08-13T06:44:25.824426Z",
     "shell.execute_reply": "2024-08-13T06:44:25.823870Z"
    },
    "papermill": {
     "duration": 0.010328,
     "end_time": "2024-08-13T06:44:25.825668",
     "exception": false,
     "start_time": "2024-08-13T06:44:25.815340",
     "status": "completed"
    },
    "tags": []
   },
   "outputs": [],
   "source": [
    "def calculate_rates(data, prefix):\n",
    "    data[prefix + '_age_16_to_24_neet_unemployed_rate_sa'] = data[prefix + '_age_16_to_24_neet_unemployed_sa'] / data[prefix + '_age_16_to_24_population'] * 100\n",
    "    data[prefix + '_age_16_to_24_neet_economically_inactive_rate_sa'] = data[prefix + '_age_16_to_24_neet_economically_inactive_sa'] / data[prefix + '_age_16_to_24_population'] * 100\n",
    "    return data\n",
    "  \n",
    "data = data.pipe(\n",
    "    calculate_rates, 'people'\n",
    ").pipe(\n",
    "    calculate_rates, 'men'\n",
    ").pipe(\n",
    "    calculate_rates, 'women'\n",
    ")\n"
   ]
  },
  {
   "cell_type": "code",
   "execution_count": 11,
   "id": "9536256a",
   "metadata": {
    "execution": {
     "iopub.execute_input": "2024-08-13T06:44:25.831260Z",
     "iopub.status.busy": "2024-08-13T06:44:25.830806Z",
     "iopub.status.idle": "2024-08-13T06:44:25.837555Z",
     "shell.execute_reply": "2024-08-13T06:44:25.836945Z"
    },
    "papermill": {
     "duration": 0.011224,
     "end_time": "2024-08-13T06:44:25.839155",
     "exception": false,
     "start_time": "2024-08-13T06:44:25.827931",
     "status": "completed"
    },
    "tags": []
   },
   "outputs": [],
   "source": [
    "column_order = [\n",
    "  'people_age_16_to_24_neet_total_sa',\n",
    "  'people_age_16_to_24_neet_unemployed_sa',\n",
    "  'people_age_16_to_24_neet_economically_inactive_sa',\n",
    "  'people_age_16_to_24_population',\n",
    "  'people_age_16_to_24_neet_total_rate_sa',\n",
    "  'people_age_16_to_24_neet_unemployed_rate_sa',\n",
    "  'people_age_16_to_24_neet_economically_inactive_rate_sa',\n",
    "  'men_age_16_to_24_neet_total_sa',\n",
    "  'men_age_16_to_24_neet_unemployed_sa',\n",
    "  'men_age_16_to_24_neet_economically_inactive_sa',\n",
    "  'men_age_16_to_24_population',\n",
    "  'men_age_16_to_24_neet_total_rate_sa',\n",
    "  'men_age_16_to_24_neet_unemployed_rate_sa',\n",
    "  'men_age_16_to_24_neet_economically_inactive_rate_sa',\n",
    "  'women_age_16_to_24_neet_total_sa',\n",
    "  'women_age_16_to_24_neet_unemployed_sa',\n",
    "  'women_age_16_to_24_neet_economically_inactive_sa',\n",
    "  'women_age_16_to_24_population',\n",
    "  'women_age_16_to_24_neet_total_rate_sa',\n",
    "  'women_age_16_to_24_neet_unemployed_rate_sa',\n",
    "  'women_age_16_to_24_neet_economically_inactive_rate_sa'\n",
    "]\n",
    "\n",
    "data.loc[:, column_order].to_csv(NEET_16_24)"
   ]
  },
  {
   "cell_type": "code",
   "execution_count": 12,
   "id": "7a8f01cf",
   "metadata": {
    "execution": {
     "iopub.execute_input": "2024-08-13T06:44:25.844543Z",
     "iopub.status.busy": "2024-08-13T06:44:25.844181Z",
     "iopub.status.idle": "2024-08-13T06:44:25.855681Z",
     "shell.execute_reply": "2024-08-13T06:44:25.855103Z"
    },
    "papermill": {
     "duration": 0.015513,
     "end_time": "2024-08-13T06:44:25.856925",
     "exception": false,
     "start_time": "2024-08-13T06:44:25.841412",
     "status": "completed"
    },
    "tags": []
   },
   "outputs": [
    {
     "data": {
      "text/plain": [
       "id                     object\n",
       "last_update    datetime64[ns]\n",
       "next_update            object\n",
       "dtype: object"
      ]
     },
     "execution_count": 12,
     "metadata": {},
     "output_type": "execute_result"
    }
   ],
   "source": [
    "metadata = pd.read_csv(ALL_METADATA, parse_dates=['last_update', 'next_update'])\n",
    "metadata.set_index(\n",
    "    'id'\n",
    ").rename(\n",
    "    columns={\n",
    "        'last_update': 'published'\n",
    "    }\n",
    ").loc['NEET'].to_json(NEET_METADATA, date_format='iso')\n",
    "\n",
    "metadata.dtypes\n"
   ]
  },
  {
   "cell_type": "code",
   "execution_count": null,
   "id": "f32ac34d",
   "metadata": {
    "papermill": {
     "duration": 0.002287,
     "end_time": "2024-08-13T06:44:25.861529",
     "exception": false,
     "start_time": "2024-08-13T06:44:25.859242",
     "status": "completed"
    },
    "tags": []
   },
   "outputs": [],
   "source": []
  },
  {
   "cell_type": "code",
   "execution_count": null,
   "id": "de29ab39",
   "metadata": {
    "papermill": {
     "duration": 0.002198,
     "end_time": "2024-08-13T06:44:25.865964",
     "exception": false,
     "start_time": "2024-08-13T06:44:25.863766",
     "status": "completed"
    },
    "tags": []
   },
   "outputs": [],
   "source": []
  }
 ],
 "metadata": {
  "kernelspec": {
   "display_name": "yff-data-ansOWYcy",
   "language": "python",
   "name": "python3"
  },
  "language_info": {
   "codemirror_mode": {
    "name": "ipython",
    "version": 3
   },
   "file_extension": ".py",
   "mimetype": "text/x-python",
   "name": "python",
   "nbconvert_exporter": "python",
   "pygments_lexer": "ipython3",
   "version": "3.10.14"
  },
  "papermill": {
   "default_parameters": {},
   "duration": 1.861643,
   "end_time": "2024-08-13T06:44:26.084104",
   "environment_variables": {},
   "exception": null,
   "input_path": "transform.ipynb",
   "output_path": "../../working/output/neet-transform.ipynb",
   "parameters": {},
   "start_time": "2024-08-13T06:44:24.222461",
   "version": "2.5.0"
  }
 },
 "nbformat": 4,
 "nbformat_minor": 5
}