{
 "cells": [
  {
   "cell_type": "code",
   "execution_count": 1,
   "id": "a066f4cb",
   "metadata": {
    "execution": {
     "iopub.execute_input": "2025-04-15T08:26:32.331954Z",
     "iopub.status.busy": "2025-04-15T08:26:32.331481Z",
     "iopub.status.idle": "2025-04-15T08:26:32.643457Z",
     "shell.execute_reply": "2025-04-15T08:26:32.642844Z"
    },
    "papermill": {
     "duration": 0.317626,
     "end_time": "2025-04-15T08:26:32.645214",
     "exception": false,
     "start_time": "2025-04-15T08:26:32.327588",
     "status": "completed"
    },
    "tags": []
   },
   "outputs": [],
   "source": [
    "import os\n",
    "import sys\n",
    "import pandas as pd\n",
    "\n",
    "LIB_DIR = '../../'\n",
    "if LIB_DIR not in sys.path:\n",
    "    sys.path.append(LIB_DIR)"
   ]
  },
  {
   "cell_type": "code",
   "execution_count": 2,
   "id": "8bade22f",
   "metadata": {
    "execution": {
     "iopub.execute_input": "2025-04-15T08:26:32.650696Z",
     "iopub.status.busy": "2025-04-15T08:26:32.650243Z",
     "iopub.status.idle": "2025-04-15T08:26:32.654789Z",
     "shell.execute_reply": "2025-04-15T08:26:32.654297Z"
    },
    "papermill": {
     "duration": 0.008573,
     "end_time": "2025-04-15T08:26:32.656101",
     "exception": false,
     "start_time": "2025-04-15T08:26:32.647528",
     "status": "completed"
    },
    "tags": []
   },
   "outputs": [],
   "source": [
    "from scripts.util.date import quarter_to_date"
   ]
  },
  {
   "cell_type": "code",
   "execution_count": 3,
   "id": "10222af8",
   "metadata": {
    "execution": {
     "iopub.execute_input": "2025-04-15T08:26:32.661229Z",
     "iopub.status.busy": "2025-04-15T08:26:32.660809Z",
     "iopub.status.idle": "2025-04-15T08:26:32.664175Z",
     "shell.execute_reply": "2025-04-15T08:26:32.663581Z"
    },
    "papermill": {
     "duration": 0.007408,
     "end_time": "2025-04-15T08:26:32.665473",
     "exception": false,
     "start_time": "2025-04-15T08:26:32.658065",
     "status": "completed"
    },
    "tags": []
   },
   "outputs": [],
   "source": [
    "NEET_DATA = '../../working/upstream/neet.csv'\n",
    "ALL_METADATA = '../../working/upstream/metadata.csv'\n",
    "NEET_16_24 = '../../data/neet/neet.csv'\n",
    "NEET_METADATA = '../../data/neet/metadata.json'\n",
    "\n",
    "os.makedirs(os.path.dirname(NEET_16_24), exist_ok=True)"
   ]
  },
  {
   "cell_type": "code",
   "execution_count": 4,
   "id": "36c44812",
   "metadata": {
    "execution": {
     "iopub.execute_input": "2025-04-15T08:26:32.670372Z",
     "iopub.status.busy": "2025-04-15T08:26:32.669986Z",
     "iopub.status.idle": "2025-04-15T08:26:32.678933Z",
     "shell.execute_reply": "2025-04-15T08:26:32.678415Z"
    },
    "papermill": {
     "duration": 0.01294,
     "end_time": "2025-04-15T08:26:32.680340",
     "exception": false,
     "start_time": "2025-04-15T08:26:32.667400",
     "status": "completed"
    },
    "tags": []
   },
   "outputs": [],
   "source": [
    "data = pd.read_csv('../../working/upstream/neet.csv')"
   ]
  },
  {
   "cell_type": "code",
   "execution_count": 5,
   "id": "df3e943c",
   "metadata": {
    "execution": {
     "iopub.execute_input": "2025-04-15T08:26:32.685963Z",
     "iopub.status.busy": "2025-04-15T08:26:32.685600Z",
     "iopub.status.idle": "2025-04-15T08:26:32.688772Z",
     "shell.execute_reply": "2025-04-15T08:26:32.688176Z"
    },
    "papermill": {
     "duration": 0.007607,
     "end_time": "2025-04-15T08:26:32.690174",
     "exception": false,
     "start_time": "2025-04-15T08:26:32.682567",
     "status": "completed"
    },
    "tags": []
   },
   "outputs": [],
   "source": [
    "variable_mapper = {\n",
    "    'Young people who were NEET_Total': 'age_16_to_24_neet_total_sa',\n",
    "    'Young people who were NEET_Unemployed': 'age_16_to_24_neet_unemployed_sa',\n",
    "    'Young people who were NEET_Economically inactive': 'age_16_to_24_neet_economically_inactive_sa',\n",
    "    'Total people in relevant population group': 'age_16_to_24_population',\n",
    "    'People who were NEET as a percentage of people in relevant population group': 'age_16_to_24_neet_total_rate_sa',\n",
    "}"
   ]
  },
  {
   "cell_type": "code",
   "execution_count": 6,
   "id": "f0930b7e",
   "metadata": {
    "execution": {
     "iopub.execute_input": "2025-04-15T08:26:32.695468Z",
     "iopub.status.busy": "2025-04-15T08:26:32.694936Z",
     "iopub.status.idle": "2025-04-15T08:26:32.699227Z",
     "shell.execute_reply": "2025-04-15T08:26:32.698702Z"
    },
    "papermill": {
     "duration": 0.008294,
     "end_time": "2025-04-15T08:26:32.700495",
     "exception": false,
     "start_time": "2025-04-15T08:26:32.692201",
     "status": "completed"
    },
    "tags": []
   },
   "outputs": [],
   "source": [
    "data = data[data.age == 'Aged 16-24']"
   ]
  },
  {
   "cell_type": "code",
   "execution_count": 7,
   "id": "700e07a5",
   "metadata": {
    "execution": {
     "iopub.execute_input": "2025-04-15T08:26:32.705676Z",
     "iopub.status.busy": "2025-04-15T08:26:32.705184Z",
     "iopub.status.idle": "2025-04-15T08:26:32.709531Z",
     "shell.execute_reply": "2025-04-15T08:26:32.708878Z"
    },
    "papermill": {
     "duration": 0.00832,
     "end_time": "2025-04-15T08:26:32.710862",
     "exception": false,
     "start_time": "2025-04-15T08:26:32.702542",
     "status": "completed"
    },
    "tags": []
   },
   "outputs": [],
   "source": [
    "data = data.replace({\n",
    "  'measure': variable_mapper\n",
    "})"
   ]
  },
  {
   "cell_type": "code",
   "execution_count": 8,
   "id": "168bb996",
   "metadata": {
    "execution": {
     "iopub.execute_input": "2025-04-15T08:26:32.716010Z",
     "iopub.status.busy": "2025-04-15T08:26:32.715631Z",
     "iopub.status.idle": "2025-04-15T08:26:32.725435Z",
     "shell.execute_reply": "2025-04-15T08:26:32.724690Z"
    },
    "papermill": {
     "duration": 0.013898,
     "end_time": "2025-04-15T08:26:32.726832",
     "exception": false,
     "start_time": "2025-04-15T08:26:32.712934",
     "status": "completed"
    },
    "tags": []
   },
   "outputs": [],
   "source": [
    "data['quarter_start'] = pd.Index(data.date.pipe(quarter_to_date))\n",
    "data['variable'] = data.sheet.str.split(' - ').apply(lambda x: x[0]).str.lower() + '_' + data.measure"
   ]
  },
  {
   "cell_type": "code",
   "execution_count": 9,
   "id": "337782e8",
   "metadata": {
    "execution": {
     "iopub.execute_input": "2025-04-15T08:26:32.732678Z",
     "iopub.status.busy": "2025-04-15T08:26:32.732186Z",
     "iopub.status.idle": "2025-04-15T08:26:32.741612Z",
     "shell.execute_reply": "2025-04-15T08:26:32.741041Z"
    },
    "papermill": {
     "duration": 0.013739,
     "end_time": "2025-04-15T08:26:32.742982",
     "exception": false,
     "start_time": "2025-04-15T08:26:32.729243",
     "status": "completed"
    },
    "tags": []
   },
   "outputs": [],
   "source": [
    "data = data.pivot_table(index='quarter_start', columns='variable', values='value')"
   ]
  },
  {
   "cell_type": "code",
   "execution_count": 10,
   "id": "7865d970",
   "metadata": {
    "execution": {
     "iopub.execute_input": "2025-04-15T08:26:32.748608Z",
     "iopub.status.busy": "2025-04-15T08:26:32.748115Z",
     "iopub.status.idle": "2025-04-15T08:26:32.754787Z",
     "shell.execute_reply": "2025-04-15T08:26:32.754230Z"
    },
    "papermill": {
     "duration": 0.010791,
     "end_time": "2025-04-15T08:26:32.756054",
     "exception": false,
     "start_time": "2025-04-15T08:26:32.745263",
     "status": "completed"
    },
    "tags": []
   },
   "outputs": [],
   "source": [
    "def calculate_rates(data, prefix):\n",
    "    data[prefix + '_age_16_to_24_neet_unemployed_rate_sa'] = data[prefix + '_age_16_to_24_neet_unemployed_sa'] / data[prefix + '_age_16_to_24_population'] * 100\n",
    "    data[prefix + '_age_16_to_24_neet_economically_inactive_rate_sa'] = data[prefix + '_age_16_to_24_neet_economically_inactive_sa'] / data[prefix + '_age_16_to_24_population'] * 100\n",
    "    return data\n",
    "  \n",
    "data = data.pipe(\n",
    "    calculate_rates, 'people'\n",
    ").pipe(\n",
    "    calculate_rates, 'men'\n",
    ").pipe(\n",
    "    calculate_rates, 'women'\n",
    ")\n"
   ]
  },
  {
   "cell_type": "code",
   "execution_count": 11,
   "id": "606a235d",
   "metadata": {
    "execution": {
     "iopub.execute_input": "2025-04-15T08:26:32.761821Z",
     "iopub.status.busy": "2025-04-15T08:26:32.761379Z",
     "iopub.status.idle": "2025-04-15T08:26:32.768582Z",
     "shell.execute_reply": "2025-04-15T08:26:32.768038Z"
    },
    "papermill": {
     "duration": 0.011524,
     "end_time": "2025-04-15T08:26:32.769894",
     "exception": false,
     "start_time": "2025-04-15T08:26:32.758370",
     "status": "completed"
    },
    "tags": []
   },
   "outputs": [],
   "source": [
    "column_order = [\n",
    "  'people_age_16_to_24_neet_total_sa',\n",
    "  'people_age_16_to_24_neet_unemployed_sa',\n",
    "  'people_age_16_to_24_neet_economically_inactive_sa',\n",
    "  'people_age_16_to_24_population',\n",
    "  'people_age_16_to_24_neet_total_rate_sa',\n",
    "  'people_age_16_to_24_neet_unemployed_rate_sa',\n",
    "  'people_age_16_to_24_neet_economically_inactive_rate_sa',\n",
    "  'men_age_16_to_24_neet_total_sa',\n",
    "  'men_age_16_to_24_neet_unemployed_sa',\n",
    "  'men_age_16_to_24_neet_economically_inactive_sa',\n",
    "  'men_age_16_to_24_population',\n",
    "  'men_age_16_to_24_neet_total_rate_sa',\n",
    "  'men_age_16_to_24_neet_unemployed_rate_sa',\n",
    "  'men_age_16_to_24_neet_economically_inactive_rate_sa',\n",
    "  'women_age_16_to_24_neet_total_sa',\n",
    "  'women_age_16_to_24_neet_unemployed_sa',\n",
    "  'women_age_16_to_24_neet_economically_inactive_sa',\n",
    "  'women_age_16_to_24_population',\n",
    "  'women_age_16_to_24_neet_total_rate_sa',\n",
    "  'women_age_16_to_24_neet_unemployed_rate_sa',\n",
    "  'women_age_16_to_24_neet_economically_inactive_rate_sa'\n",
    "]\n",
    "\n",
    "data.loc[:, column_order].to_csv(NEET_16_24)"
   ]
  },
  {
   "cell_type": "code",
   "execution_count": 12,
   "id": "5d3bfb98",
   "metadata": {
    "execution": {
     "iopub.execute_input": "2025-04-15T08:26:32.775263Z",
     "iopub.status.busy": "2025-04-15T08:26:32.774870Z",
     "iopub.status.idle": "2025-04-15T08:26:32.787332Z",
     "shell.execute_reply": "2025-04-15T08:26:32.786717Z"
    },
    "papermill": {
     "duration": 0.016699,
     "end_time": "2025-04-15T08:26:32.788780",
     "exception": false,
     "start_time": "2025-04-15T08:26:32.772081",
     "status": "completed"
    },
    "tags": []
   },
   "outputs": [
    {
     "data": {
      "text/plain": [
       "id                     object\n",
       "last_update    datetime64[ns]\n",
       "next_update            object\n",
       "dtype: object"
      ]
     },
     "execution_count": 12,
     "metadata": {},
     "output_type": "execute_result"
    }
   ],
   "source": [
    "metadata = pd.read_csv(ALL_METADATA, parse_dates=['last_update', 'next_update'])\n",
    "metadata.set_index(\n",
    "    'id'\n",
    ").rename(\n",
    "    columns={\n",
    "        'last_update': 'published'\n",
    "    }\n",
    ").loc['NEET'].to_json(NEET_METADATA, date_format='iso')\n",
    "\n",
    "metadata.dtypes\n"
   ]
  },
  {
   "cell_type": "code",
   "execution_count": null,
   "id": "12665c14",
   "metadata": {
    "papermill": {
     "duration": 0.002325,
     "end_time": "2025-04-15T08:26:32.793532",
     "exception": false,
     "start_time": "2025-04-15T08:26:32.791207",
     "status": "completed"
    },
    "tags": []
   },
   "outputs": [],
   "source": []
  },
  {
   "cell_type": "code",
   "execution_count": null,
   "id": "3e7edf52",
   "metadata": {
    "papermill": {
     "duration": 0.002206,
     "end_time": "2025-04-15T08:26:32.798004",
     "exception": false,
     "start_time": "2025-04-15T08:26:32.795798",
     "status": "completed"
    },
    "tags": []
   },
   "outputs": [],
   "source": []
  }
 ],
 "metadata": {
  "kernelspec": {
   "display_name": "yff-data-ansOWYcy",
   "language": "python",
   "name": "python3"
  },
  "language_info": {
   "codemirror_mode": {
    "name": "ipython",
    "version": 3
   },
   "file_extension": ".py",
   "mimetype": "text/x-python",
   "name": "python",
   "nbconvert_exporter": "python",
   "pygments_lexer": "ipython3",
   "version": "3.10.16"
  },
  "papermill": {
   "default_parameters": {},
   "duration": 1.882429,
   "end_time": "2025-04-15T08:26:33.016316",
   "environment_variables": {},
   "exception": null,
   "input_path": "transform.ipynb",
   "output_path": "../../working/output/neet-transform.ipynb",
   "parameters": {},
   "start_time": "2025-04-15T08:26:31.133887",
   "version": "2.5.0"
  }
 },
 "nbformat": 4,
 "nbformat_minor": 5
}