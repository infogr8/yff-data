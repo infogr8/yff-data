{
 "cells": [
  {
   "cell_type": "code",
   "execution_count": 1,
   "id": "73e4d50b",
   "metadata": {
    "execution": {
     "iopub.execute_input": "2024-02-07T16:56:47.865996Z",
     "iopub.status.busy": "2024-02-07T16:56:47.865392Z",
     "iopub.status.idle": "2024-02-07T16:56:48.026556Z",
     "shell.execute_reply": "2024-02-07T16:56:48.026189Z"
    },
    "papermill": {
     "duration": 0.168731,
     "end_time": "2024-02-07T16:56:48.027660",
     "exception": false,
     "start_time": "2024-02-07T16:56:47.858929",
     "status": "completed"
    },
    "tags": []
   },
   "outputs": [],
   "source": [
    "import os\n",
    "import sys\n",
    "import pandas as pd\n",
    "\n",
    "LIB_DIR = '../../'\n",
    "if LIB_DIR not in sys.path:\n",
    "    sys.path.append(LIB_DIR)"
   ]
  },
  {
   "cell_type": "code",
   "execution_count": 2,
   "id": "80b7d828",
   "metadata": {
    "execution": {
     "iopub.execute_input": "2024-02-07T16:56:48.030767Z",
     "iopub.status.busy": "2024-02-07T16:56:48.030594Z",
     "iopub.status.idle": "2024-02-07T16:56:48.033450Z",
     "shell.execute_reply": "2024-02-07T16:56:48.033138Z"
    },
    "papermill": {
     "duration": 0.005172,
     "end_time": "2024-02-07T16:56:48.034130",
     "exception": false,
     "start_time": "2024-02-07T16:56:48.028958",
     "status": "completed"
    },
    "tags": []
   },
   "outputs": [],
   "source": [
    "from scripts.util.date import quarter_to_date"
   ]
  },
  {
   "cell_type": "code",
   "execution_count": 3,
   "id": "8fe29d59",
   "metadata": {
    "execution": {
     "iopub.execute_input": "2024-02-07T16:56:48.036935Z",
     "iopub.status.busy": "2024-02-07T16:56:48.036820Z",
     "iopub.status.idle": "2024-02-07T16:56:48.038976Z",
     "shell.execute_reply": "2024-02-07T16:56:48.038698Z"
    },
    "papermill": {
     "duration": 0.004311,
     "end_time": "2024-02-07T16:56:48.039571",
     "exception": false,
     "start_time": "2024-02-07T16:56:48.035260",
     "status": "completed"
    },
    "tags": []
   },
   "outputs": [],
   "source": [
    "NEET_DATA = '../../working/upstream/neet.csv'\n",
    "ALL_METADATA = '../../working/upstream/metadata.csv'\n",
    "NEET_16_24 = '../../data/neet/neet.csv'\n",
    "NEET_METADATA = '../../data/neet/metadata.json'\n",
    "\n",
    "os.makedirs(os.path.dirname(NEET_16_24), exist_ok=True)"
   ]
  },
  {
   "cell_type": "code",
   "execution_count": 4,
   "id": "bc30af2a",
   "metadata": {
    "execution": {
     "iopub.execute_input": "2024-02-07T16:56:48.042258Z",
     "iopub.status.busy": "2024-02-07T16:56:48.042123Z",
     "iopub.status.idle": "2024-02-07T16:56:48.047680Z",
     "shell.execute_reply": "2024-02-07T16:56:48.047338Z"
    },
    "papermill": {
     "duration": 0.007813,
     "end_time": "2024-02-07T16:56:48.048496",
     "exception": false,
     "start_time": "2024-02-07T16:56:48.040683",
     "status": "completed"
    },
    "tags": []
   },
   "outputs": [],
   "source": [
    "data = pd.read_csv('../../working/upstream/neet.csv')"
   ]
  },
  {
   "cell_type": "code",
   "execution_count": 5,
   "id": "7d5fd1a5",
   "metadata": {
    "execution": {
     "iopub.execute_input": "2024-02-07T16:56:48.052126Z",
     "iopub.status.busy": "2024-02-07T16:56:48.051944Z",
     "iopub.status.idle": "2024-02-07T16:56:48.054059Z",
     "shell.execute_reply": "2024-02-07T16:56:48.053771Z"
    },
    "papermill": {
     "duration": 0.004803,
     "end_time": "2024-02-07T16:56:48.054806",
     "exception": false,
     "start_time": "2024-02-07T16:56:48.050003",
     "status": "completed"
    },
    "tags": []
   },
   "outputs": [],
   "source": [
    "variable_mapper = {\n",
    "    'Young people who were NEET_Total': 'age_16_to_24_neet_total_sa',\n",
    "    'Young people who were NEET_Unemployed': 'age_16_to_24_neet_unemployed_sa',\n",
    "    'Young people who were NEET_Economically inactive': 'age_16_to_24_neet_economically_inactive_sa',\n",
    "    'Total people in relevant population group': 'age_16_to_24_population',\n",
    "    'People who were NEET as a percentage of people in relevant population group': 'age_16_to_24_neet_total_rate_sa',\n",
    "}"
   ]
  },
  {
   "cell_type": "code",
   "execution_count": 6,
   "id": "f7382adf",
   "metadata": {
    "execution": {
     "iopub.execute_input": "2024-02-07T16:56:48.057738Z",
     "iopub.status.busy": "2024-02-07T16:56:48.057608Z",
     "iopub.status.idle": "2024-02-07T16:56:48.060037Z",
     "shell.execute_reply": "2024-02-07T16:56:48.059759Z"
    },
    "papermill": {
     "duration": 0.004537,
     "end_time": "2024-02-07T16:56:48.060669",
     "exception": false,
     "start_time": "2024-02-07T16:56:48.056132",
     "status": "completed"
    },
    "tags": []
   },
   "outputs": [],
   "source": [
    "data = data[data.age == 'Aged 16-24']"
   ]
  },
  {
   "cell_type": "code",
   "execution_count": 7,
   "id": "7b7d821b",
   "metadata": {
    "execution": {
     "iopub.execute_input": "2024-02-07T16:56:48.063452Z",
     "iopub.status.busy": "2024-02-07T16:56:48.063317Z",
     "iopub.status.idle": "2024-02-07T16:56:48.065811Z",
     "shell.execute_reply": "2024-02-07T16:56:48.065515Z"
    },
    "papermill": {
     "duration": 0.004583,
     "end_time": "2024-02-07T16:56:48.066418",
     "exception": false,
     "start_time": "2024-02-07T16:56:48.061835",
     "status": "completed"
    },
    "tags": []
   },
   "outputs": [],
   "source": [
    "data = data.replace({\n",
    "  'measure': variable_mapper\n",
    "})"
   ]
  },
  {
   "cell_type": "code",
   "execution_count": 8,
   "id": "202c640f",
   "metadata": {
    "execution": {
     "iopub.execute_input": "2024-02-07T16:56:48.069260Z",
     "iopub.status.busy": "2024-02-07T16:56:48.069128Z",
     "iopub.status.idle": "2024-02-07T16:56:48.074516Z",
     "shell.execute_reply": "2024-02-07T16:56:48.074199Z"
    },
    "papermill": {
     "duration": 0.007539,
     "end_time": "2024-02-07T16:56:48.075144",
     "exception": false,
     "start_time": "2024-02-07T16:56:48.067605",
     "status": "completed"
    },
    "tags": []
   },
   "outputs": [],
   "source": [
    "data['quarter_start'] = pd.Index(data.date.pipe(quarter_to_date))\n",
    "data['variable'] = data.sheet.str.split(' - ').apply(lambda x: x[0]).str.lower() + '_' + data.measure"
   ]
  },
  {
   "cell_type": "code",
   "execution_count": 9,
   "id": "4eff6736",
   "metadata": {
    "execution": {
     "iopub.execute_input": "2024-02-07T16:56:48.078048Z",
     "iopub.status.busy": "2024-02-07T16:56:48.077916Z",
     "iopub.status.idle": "2024-02-07T16:56:48.083776Z",
     "shell.execute_reply": "2024-02-07T16:56:48.083496Z"
    },
    "papermill": {
     "duration": 0.00812,
     "end_time": "2024-02-07T16:56:48.084502",
     "exception": false,
     "start_time": "2024-02-07T16:56:48.076382",
     "status": "completed"
    },
    "tags": []
   },
   "outputs": [],
   "source": [
    "data = data.pivot_table(index='quarter_start', columns='variable', values='value')"
   ]
  },
  {
   "cell_type": "code",
   "execution_count": 10,
   "id": "930f9ce7",
   "metadata": {
    "execution": {
     "iopub.execute_input": "2024-02-07T16:56:48.087706Z",
     "iopub.status.busy": "2024-02-07T16:56:48.087557Z",
     "iopub.status.idle": "2024-02-07T16:56:48.091557Z",
     "shell.execute_reply": "2024-02-07T16:56:48.091264Z"
    },
    "papermill": {
     "duration": 0.00636,
     "end_time": "2024-02-07T16:56:48.092154",
     "exception": false,
     "start_time": "2024-02-07T16:56:48.085794",
     "status": "completed"
    },
    "tags": []
   },
   "outputs": [],
   "source": [
    "def calculate_rates(data, prefix):\n",
    "    data[prefix + '_age_16_to_24_neet_unemployed_rate_sa'] = data[prefix + '_age_16_to_24_neet_unemployed_sa'] / data[prefix + '_age_16_to_24_population'] * 100\n",
    "    data[prefix + '_age_16_to_24_neet_economically_inactive_rate_sa'] = data[prefix + '_age_16_to_24_neet_economically_inactive_sa'] / data[prefix + '_age_16_to_24_population'] * 100\n",
    "    return data\n",
    "  \n",
    "data = data.pipe(\n",
    "    calculate_rates, 'people'\n",
    ").pipe(\n",
    "    calculate_rates, 'men'\n",
    ").pipe(\n",
    "    calculate_rates, 'women'\n",
    ")\n"
   ]
  },
  {
   "cell_type": "code",
   "execution_count": 11,
   "id": "eca3c753",
   "metadata": {
    "execution": {
     "iopub.execute_input": "2024-02-07T16:56:48.095294Z",
     "iopub.status.busy": "2024-02-07T16:56:48.095175Z",
     "iopub.status.idle": "2024-02-07T16:56:48.099447Z",
     "shell.execute_reply": "2024-02-07T16:56:48.099134Z"
    },
    "papermill": {
     "duration": 0.006621,
     "end_time": "2024-02-07T16:56:48.100060",
     "exception": false,
     "start_time": "2024-02-07T16:56:48.093439",
     "status": "completed"
    },
    "tags": []
   },
   "outputs": [],
   "source": [
    "column_order = [\n",
    "  'people_age_16_to_24_neet_total_sa',\n",
    "  'people_age_16_to_24_neet_unemployed_sa',\n",
    "  'people_age_16_to_24_neet_economically_inactive_sa',\n",
    "  'people_age_16_to_24_population',\n",
    "  'people_age_16_to_24_neet_total_rate_sa',\n",
    "  'people_age_16_to_24_neet_unemployed_rate_sa',\n",
    "  'people_age_16_to_24_neet_economically_inactive_rate_sa',\n",
    "  'men_age_16_to_24_neet_total_sa',\n",
    "  'men_age_16_to_24_neet_unemployed_sa',\n",
    "  'men_age_16_to_24_neet_economically_inactive_sa',\n",
    "  'men_age_16_to_24_population',\n",
    "  'men_age_16_to_24_neet_total_rate_sa',\n",
    "  'men_age_16_to_24_neet_unemployed_rate_sa',\n",
    "  'men_age_16_to_24_neet_economically_inactive_rate_sa',\n",
    "  'women_age_16_to_24_neet_total_sa',\n",
    "  'women_age_16_to_24_neet_unemployed_sa',\n",
    "  'women_age_16_to_24_neet_economically_inactive_sa',\n",
    "  'women_age_16_to_24_population',\n",
    "  'women_age_16_to_24_neet_total_rate_sa',\n",
    "  'women_age_16_to_24_neet_unemployed_rate_sa',\n",
    "  'women_age_16_to_24_neet_economically_inactive_rate_sa'\n",
    "]\n",
    "\n",
    "data.loc[:, column_order].to_csv(NEET_16_24)"
   ]
  },
  {
   "cell_type": "code",
   "execution_count": 12,
   "id": "1f593df2",
   "metadata": {
    "execution": {
     "iopub.execute_input": "2024-02-07T16:56:48.103215Z",
     "iopub.status.busy": "2024-02-07T16:56:48.103032Z",
     "iopub.status.idle": "2024-02-07T16:56:48.110099Z",
     "shell.execute_reply": "2024-02-07T16:56:48.109833Z"
    },
    "papermill": {
     "duration": 0.009456,
     "end_time": "2024-02-07T16:56:48.110777",
     "exception": false,
     "start_time": "2024-02-07T16:56:48.101321",
     "status": "completed"
    },
    "tags": []
   },
   "outputs": [
    {
     "data": {
      "text/plain": [
       "id                     object\n",
       "last_update    datetime64[ns]\n",
       "next_update            object\n",
       "dtype: object"
      ]
     },
     "execution_count": 12,
     "metadata": {},
     "output_type": "execute_result"
    }
   ],
   "source": [
    "metadata = pd.read_csv(ALL_METADATA, parse_dates=['last_update', 'next_update'])\n",
    "metadata.set_index(\n",
    "    'id'\n",
    ").rename(\n",
    "    columns={\n",
    "        'last_update': 'published'\n",
    "    }\n",
    ").loc['NEET'].to_json(NEET_METADATA, date_format='iso')\n",
    "\n",
    "metadata.dtypes\n"
   ]
  },
  {
   "cell_type": "code",
   "execution_count": null,
   "id": "879d70a4",
   "metadata": {
    "papermill": {
     "duration": 0.001293,
     "end_time": "2024-02-07T16:56:48.113498",
     "exception": false,
     "start_time": "2024-02-07T16:56:48.112205",
     "status": "completed"
    },
    "tags": []
   },
   "outputs": [],
   "source": []
  },
  {
   "cell_type": "code",
   "execution_count": null,
   "id": "3d78fe1c",
   "metadata": {
    "papermill": {
     "duration": 0.001271,
     "end_time": "2024-02-07T16:56:48.116067",
     "exception": false,
     "start_time": "2024-02-07T16:56:48.114796",
     "status": "completed"
    },
    "tags": []
   },
   "outputs": [],
   "source": []
  }
 ],
 "metadata": {
  "kernelspec": {
   "display_name": "yff-data-ansOWYcy",
   "language": "python",
   "name": "python3"
  },
  "language_info": {
   "codemirror_mode": {
    "name": "ipython",
    "version": 3
   },
   "file_extension": ".py",
   "mimetype": "text/x-python",
   "name": "python",
   "nbconvert_exporter": "python",
   "pygments_lexer": "ipython3",
   "version": "3.10.12"
  },
  "papermill": {
   "default_parameters": {},
   "duration": 1.31367,
   "end_time": "2024-02-07T16:56:48.334402",
   "environment_variables": {},
   "exception": null,
   "input_path": "transform.ipynb",
   "output_path": "../../working/output/neet-transform.ipynb",
   "parameters": {},
   "start_time": "2024-02-07T16:56:47.020732",
   "version": "2.4.0"
  }
 },
 "nbformat": 4,
 "nbformat_minor": 5
}