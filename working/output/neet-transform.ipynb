{
 "cells": [
  {
   "cell_type": "code",
   "execution_count": 1,
   "id": "dc96dc96",
   "metadata": {
    "execution": {
     "iopub.execute_input": "2023-12-12T07:25:33.645015Z",
     "iopub.status.busy": "2023-12-12T07:25:33.644756Z",
     "iopub.status.idle": "2023-12-12T07:25:33.900378Z",
     "shell.execute_reply": "2023-12-12T07:25:33.899691Z"
    },
    "papermill": {
     "duration": 0.261223,
     "end_time": "2023-12-12T07:25:33.902146",
     "exception": false,
     "start_time": "2023-12-12T07:25:33.640923",
     "status": "completed"
    },
    "tags": []
   },
   "outputs": [],
   "source": [
    "import os\n",
    "import sys\n",
    "import pandas as pd\n",
    "\n",
    "LIB_DIR = '../../'\n",
    "if LIB_DIR not in sys.path:\n",
    "    sys.path.append(LIB_DIR)"
   ]
  },
  {
   "cell_type": "code",
   "execution_count": 2,
   "id": "101fa3b4",
   "metadata": {
    "execution": {
     "iopub.execute_input": "2023-12-12T07:25:33.907622Z",
     "iopub.status.busy": "2023-12-12T07:25:33.907168Z",
     "iopub.status.idle": "2023-12-12T07:25:33.911716Z",
     "shell.execute_reply": "2023-12-12T07:25:33.911206Z"
    },
    "papermill": {
     "duration": 0.008569,
     "end_time": "2023-12-12T07:25:33.913034",
     "exception": false,
     "start_time": "2023-12-12T07:25:33.904465",
     "status": "completed"
    },
    "tags": []
   },
   "outputs": [],
   "source": [
    "from scripts.util.date import quarter_to_date"
   ]
  },
  {
   "cell_type": "code",
   "execution_count": 3,
   "id": "c4ec1544",
   "metadata": {
    "execution": {
     "iopub.execute_input": "2023-12-12T07:25:33.918061Z",
     "iopub.status.busy": "2023-12-12T07:25:33.917663Z",
     "iopub.status.idle": "2023-12-12T07:25:33.921090Z",
     "shell.execute_reply": "2023-12-12T07:25:33.920552Z"
    },
    "papermill": {
     "duration": 0.007498,
     "end_time": "2023-12-12T07:25:33.922499",
     "exception": false,
     "start_time": "2023-12-12T07:25:33.915001",
     "status": "completed"
    },
    "tags": []
   },
   "outputs": [],
   "source": [
    "NEET_DATA = '../../working/upstream/neet.csv'\n",
    "ALL_METADATA = '../../working/upstream/metadata.csv'\n",
    "NEET_16_24 = '../../data/neet/neet.csv'\n",
    "NEET_METADATA = '../../data/neet/metadata.json'\n",
    "\n",
    "os.makedirs(os.path.dirname(NEET_16_24), exist_ok=True)"
   ]
  },
  {
   "cell_type": "code",
   "execution_count": 4,
   "id": "f0e60584",
   "metadata": {
    "execution": {
     "iopub.execute_input": "2023-12-12T07:25:33.927886Z",
     "iopub.status.busy": "2023-12-12T07:25:33.927441Z",
     "iopub.status.idle": "2023-12-12T07:25:33.936898Z",
     "shell.execute_reply": "2023-12-12T07:25:33.936330Z"
    },
    "papermill": {
     "duration": 0.01386,
     "end_time": "2023-12-12T07:25:33.938415",
     "exception": false,
     "start_time": "2023-12-12T07:25:33.924555",
     "status": "completed"
    },
    "tags": []
   },
   "outputs": [],
   "source": [
    "data = pd.read_csv('../../working/upstream/neet.csv')"
   ]
  },
  {
   "cell_type": "code",
   "execution_count": 5,
   "id": "bfa94240",
   "metadata": {
    "execution": {
     "iopub.execute_input": "2023-12-12T07:25:33.943958Z",
     "iopub.status.busy": "2023-12-12T07:25:33.943528Z",
     "iopub.status.idle": "2023-12-12T07:25:33.947030Z",
     "shell.execute_reply": "2023-12-12T07:25:33.946459Z"
    },
    "papermill": {
     "duration": 0.007674,
     "end_time": "2023-12-12T07:25:33.948282",
     "exception": false,
     "start_time": "2023-12-12T07:25:33.940608",
     "status": "completed"
    },
    "tags": []
   },
   "outputs": [],
   "source": [
    "variable_mapper = {\n",
    "    'Young people who were NEET_Total': 'age_16_to_24_neet_total_sa',\n",
    "    'Young people who were NEET_Unemployed': 'age_16_to_24_neet_unemployed_sa',\n",
    "    'Young people who were NEET_Economically inactive': 'age_16_to_24_neet_economically_inactive_sa',\n",
    "    'Total people in relevant population group': 'age_16_to_24_population',\n",
    "    'People who were NEET as a percentage of people in relevant population group': 'age_16_to_24_neet_total_rate_sa',\n",
    "}"
   ]
  },
  {
   "cell_type": "code",
   "execution_count": 6,
   "id": "4e67b297",
   "metadata": {
    "execution": {
     "iopub.execute_input": "2023-12-12T07:25:33.954488Z",
     "iopub.status.busy": "2023-12-12T07:25:33.953783Z",
     "iopub.status.idle": "2023-12-12T07:25:33.958541Z",
     "shell.execute_reply": "2023-12-12T07:25:33.957902Z"
    },
    "papermill": {
     "duration": 0.009373,
     "end_time": "2023-12-12T07:25:33.959869",
     "exception": false,
     "start_time": "2023-12-12T07:25:33.950496",
     "status": "completed"
    },
    "tags": []
   },
   "outputs": [],
   "source": [
    "data = data[data.age == 'Aged 16-24']"
   ]
  },
  {
   "cell_type": "code",
   "execution_count": 7,
   "id": "3652875e",
   "metadata": {
    "execution": {
     "iopub.execute_input": "2023-12-12T07:25:33.965895Z",
     "iopub.status.busy": "2023-12-12T07:25:33.965316Z",
     "iopub.status.idle": "2023-12-12T07:25:33.970504Z",
     "shell.execute_reply": "2023-12-12T07:25:33.969825Z"
    },
    "papermill": {
     "duration": 0.009731,
     "end_time": "2023-12-12T07:25:33.971847",
     "exception": false,
     "start_time": "2023-12-12T07:25:33.962116",
     "status": "completed"
    },
    "tags": []
   },
   "outputs": [],
   "source": [
    "data = data.replace({\n",
    "  'measure': variable_mapper\n",
    "})"
   ]
  },
  {
   "cell_type": "code",
   "execution_count": 8,
   "id": "4d063eab",
   "metadata": {
    "execution": {
     "iopub.execute_input": "2023-12-12T07:25:33.977903Z",
     "iopub.status.busy": "2023-12-12T07:25:33.977299Z",
     "iopub.status.idle": "2023-12-12T07:25:33.987525Z",
     "shell.execute_reply": "2023-12-12T07:25:33.986943Z"
    },
    "papermill": {
     "duration": 0.014797,
     "end_time": "2023-12-12T07:25:33.988898",
     "exception": false,
     "start_time": "2023-12-12T07:25:33.974101",
     "status": "completed"
    },
    "tags": []
   },
   "outputs": [],
   "source": [
    "data['quarter_start'] = pd.Index(data.date.pipe(quarter_to_date))\n",
    "data['variable'] = data.sheet.str.split(' - ').apply(lambda x: x[0]).str.lower() + '_' + data.measure"
   ]
  },
  {
   "cell_type": "code",
   "execution_count": 9,
   "id": "9e9b7cda",
   "metadata": {
    "execution": {
     "iopub.execute_input": "2023-12-12T07:25:33.995231Z",
     "iopub.status.busy": "2023-12-12T07:25:33.994805Z",
     "iopub.status.idle": "2023-12-12T07:25:34.003158Z",
     "shell.execute_reply": "2023-12-12T07:25:34.002637Z"
    },
    "papermill": {
     "duration": 0.012541,
     "end_time": "2023-12-12T07:25:34.004476",
     "exception": false,
     "start_time": "2023-12-12T07:25:33.991935",
     "status": "completed"
    },
    "tags": []
   },
   "outputs": [],
   "source": [
    "data = data.pivot_table(index='quarter_start', columns='variable', values='value')"
   ]
  },
  {
   "cell_type": "code",
   "execution_count": 10,
   "id": "3382d2f5",
   "metadata": {
    "execution": {
     "iopub.execute_input": "2023-12-12T07:25:34.010045Z",
     "iopub.status.busy": "2023-12-12T07:25:34.009633Z",
     "iopub.status.idle": "2023-12-12T07:25:34.016038Z",
     "shell.execute_reply": "2023-12-12T07:25:34.015497Z"
    },
    "papermill": {
     "duration": 0.010646,
     "end_time": "2023-12-12T07:25:34.017383",
     "exception": false,
     "start_time": "2023-12-12T07:25:34.006737",
     "status": "completed"
    },
    "tags": []
   },
   "outputs": [],
   "source": [
    "def calculate_rates(data, prefix):\n",
    "    data[prefix + '_age_16_to_24_neet_unemployed_rate_sa'] = data[prefix + '_age_16_to_24_neet_unemployed_sa'] / data[prefix + '_age_16_to_24_population'] * 100\n",
    "    data[prefix + '_age_16_to_24_neet_economically_inactive_rate_sa'] = data[prefix + '_age_16_to_24_neet_economically_inactive_sa'] / data[prefix + '_age_16_to_24_population'] * 100\n",
    "    return data\n",
    "  \n",
    "data = data.pipe(\n",
    "    calculate_rates, 'people'\n",
    ").pipe(\n",
    "    calculate_rates, 'men'\n",
    ").pipe(\n",
    "    calculate_rates, 'women'\n",
    ")\n"
   ]
  },
  {
   "cell_type": "code",
   "execution_count": 11,
   "id": "eb987162",
   "metadata": {
    "execution": {
     "iopub.execute_input": "2023-12-12T07:25:34.023195Z",
     "iopub.status.busy": "2023-12-12T07:25:34.022778Z",
     "iopub.status.idle": "2023-12-12T07:25:34.030426Z",
     "shell.execute_reply": "2023-12-12T07:25:34.029748Z"
    },
    "papermill": {
     "duration": 0.012272,
     "end_time": "2023-12-12T07:25:34.031861",
     "exception": false,
     "start_time": "2023-12-12T07:25:34.019589",
     "status": "completed"
    },
    "tags": []
   },
   "outputs": [],
   "source": [
    "column_order = [\n",
    "  'people_age_16_to_24_neet_total_sa',\n",
    "  'people_age_16_to_24_neet_unemployed_sa',\n",
    "  'people_age_16_to_24_neet_economically_inactive_sa',\n",
    "  'people_age_16_to_24_population',\n",
    "  'people_age_16_to_24_neet_total_rate_sa',\n",
    "  'people_age_16_to_24_neet_unemployed_rate_sa',\n",
    "  'people_age_16_to_24_neet_economically_inactive_rate_sa',\n",
    "  'men_age_16_to_24_neet_total_sa',\n",
    "  'men_age_16_to_24_neet_unemployed_sa',\n",
    "  'men_age_16_to_24_neet_economically_inactive_sa',\n",
    "  'men_age_16_to_24_population',\n",
    "  'men_age_16_to_24_neet_total_rate_sa',\n",
    "  'men_age_16_to_24_neet_unemployed_rate_sa',\n",
    "  'men_age_16_to_24_neet_economically_inactive_rate_sa',\n",
    "  'women_age_16_to_24_neet_total_sa',\n",
    "  'women_age_16_to_24_neet_unemployed_sa',\n",
    "  'women_age_16_to_24_neet_economically_inactive_sa',\n",
    "  'women_age_16_to_24_population',\n",
    "  'women_age_16_to_24_neet_total_rate_sa',\n",
    "  'women_age_16_to_24_neet_unemployed_rate_sa',\n",
    "  'women_age_16_to_24_neet_economically_inactive_rate_sa'\n",
    "]\n",
    "\n",
    "data.loc[:, column_order].to_csv(NEET_16_24)"
   ]
  },
  {
   "cell_type": "code",
   "execution_count": 12,
   "id": "d57a492c",
   "metadata": {
    "execution": {
     "iopub.execute_input": "2023-12-12T07:25:34.037831Z",
     "iopub.status.busy": "2023-12-12T07:25:34.037396Z",
     "iopub.status.idle": "2023-12-12T07:25:34.049776Z",
     "shell.execute_reply": "2023-12-12T07:25:34.049132Z"
    },
    "papermill": {
     "duration": 0.016996,
     "end_time": "2023-12-12T07:25:34.051219",
     "exception": false,
     "start_time": "2023-12-12T07:25:34.034223",
     "status": "completed"
    },
    "tags": []
   },
   "outputs": [
    {
     "data": {
      "text/plain": [
       "id                     object\n",
       "last_update    datetime64[ns]\n",
       "next_update    datetime64[ns]\n",
       "dtype: object"
      ]
     },
     "execution_count": 12,
     "metadata": {},
     "output_type": "execute_result"
    }
   ],
   "source": [
    "metadata = pd.read_csv(ALL_METADATA, parse_dates=['last_update', 'next_update'])\n",
    "metadata.set_index(\n",
    "    'id'\n",
    ").rename(\n",
    "    columns={\n",
    "        'last_update': 'published'\n",
    "    }\n",
    ").loc['NEET'].to_json(NEET_METADATA, date_format='iso')\n",
    "\n",
    "metadata.dtypes\n"
   ]
  },
  {
   "cell_type": "code",
   "execution_count": null,
   "id": "d2617207",
   "metadata": {
    "papermill": {
     "duration": 0.002378,
     "end_time": "2023-12-12T07:25:34.056098",
     "exception": false,
     "start_time": "2023-12-12T07:25:34.053720",
     "status": "completed"
    },
    "tags": []
   },
   "outputs": [],
   "source": []
  },
  {
   "cell_type": "code",
   "execution_count": null,
   "id": "459fcfcf",
   "metadata": {
    "papermill": {
     "duration": 0.002261,
     "end_time": "2023-12-12T07:25:34.060653",
     "exception": false,
     "start_time": "2023-12-12T07:25:34.058392",
     "status": "completed"
    },
    "tags": []
   },
   "outputs": [],
   "source": []
  }
 ],
 "metadata": {
  "kernelspec": {
   "display_name": "yff-data-ansOWYcy",
   "language": "python",
   "name": "python3"
  },
  "language_info": {
   "codemirror_mode": {
    "name": "ipython",
    "version": 3
   },
   "file_extension": ".py",
   "mimetype": "text/x-python",
   "name": "python",
   "nbconvert_exporter": "python",
   "pygments_lexer": "ipython3",
   "version": "3.10.13"
  },
  "papermill": {
   "default_parameters": {},
   "duration": 1.875352,
   "end_time": "2023-12-12T07:25:34.280084",
   "environment_variables": {},
   "exception": null,
   "input_path": "transform.ipynb",
   "output_path": "../../working/output/neet-transform.ipynb",
   "parameters": {},
   "start_time": "2023-12-12T07:25:32.404732",
   "version": "2.4.0"
  }
 },
 "nbformat": 4,
 "nbformat_minor": 5
}