{
 "cells": [
  {
   "cell_type": "code",
   "execution_count": 1,
   "id": "fbc3e389",
   "metadata": {
    "execution": {
     "iopub.execute_input": "2025-06-11T08:26:36.384271Z",
     "iopub.status.busy": "2025-06-11T08:26:36.384069Z",
     "iopub.status.idle": "2025-06-11T08:26:36.682400Z",
     "shell.execute_reply": "2025-06-11T08:26:36.681760Z"
    },
    "papermill": {
     "duration": 0.303226,
     "end_time": "2025-06-11T08:26:36.684107",
     "exception": false,
     "start_time": "2025-06-11T08:26:36.380881",
     "status": "completed"
    },
    "tags": []
   },
   "outputs": [],
   "source": [
    "import os\n",
    "import sys\n",
    "import pandas as pd\n",
    "\n",
    "LIB_DIR = '../../'\n",
    "if LIB_DIR not in sys.path:\n",
    "    sys.path.append(LIB_DIR)"
   ]
  },
  {
   "cell_type": "code",
   "execution_count": 2,
   "id": "4e2fe21d",
   "metadata": {
    "execution": {
     "iopub.execute_input": "2025-06-11T08:26:36.689565Z",
     "iopub.status.busy": "2025-06-11T08:26:36.689135Z",
     "iopub.status.idle": "2025-06-11T08:26:36.693484Z",
     "shell.execute_reply": "2025-06-11T08:26:36.692796Z"
    },
    "papermill": {
     "duration": 0.008425,
     "end_time": "2025-06-11T08:26:36.694848",
     "exception": false,
     "start_time": "2025-06-11T08:26:36.686423",
     "status": "completed"
    },
    "tags": []
   },
   "outputs": [],
   "source": [
    "from scripts.util.date import quarter_to_date"
   ]
  },
  {
   "cell_type": "code",
   "execution_count": 3,
   "id": "63bd4217",
   "metadata": {
    "execution": {
     "iopub.execute_input": "2025-06-11T08:26:36.699738Z",
     "iopub.status.busy": "2025-06-11T08:26:36.699284Z",
     "iopub.status.idle": "2025-06-11T08:26:36.702755Z",
     "shell.execute_reply": "2025-06-11T08:26:36.702125Z"
    },
    "papermill": {
     "duration": 0.007407,
     "end_time": "2025-06-11T08:26:36.704161",
     "exception": false,
     "start_time": "2025-06-11T08:26:36.696754",
     "status": "completed"
    },
    "tags": []
   },
   "outputs": [],
   "source": [
    "NEET_DATA = '../../working/upstream/neet.csv'\n",
    "ALL_METADATA = '../../working/upstream/metadata.csv'\n",
    "NEET_16_24 = '../../data/neet/neet.csv'\n",
    "NEET_METADATA = '../../data/neet/metadata.json'\n",
    "\n",
    "os.makedirs(os.path.dirname(NEET_16_24), exist_ok=True)"
   ]
  },
  {
   "cell_type": "code",
   "execution_count": 4,
   "id": "2b4d5370",
   "metadata": {
    "execution": {
     "iopub.execute_input": "2025-06-11T08:26:36.709044Z",
     "iopub.status.busy": "2025-06-11T08:26:36.708577Z",
     "iopub.status.idle": "2025-06-11T08:26:36.716837Z",
     "shell.execute_reply": "2025-06-11T08:26:36.716210Z"
    },
    "papermill": {
     "duration": 0.012221,
     "end_time": "2025-06-11T08:26:36.718288",
     "exception": false,
     "start_time": "2025-06-11T08:26:36.706067",
     "status": "completed"
    },
    "tags": []
   },
   "outputs": [],
   "source": [
    "data = pd.read_csv('../../working/upstream/neet.csv')"
   ]
  },
  {
   "cell_type": "code",
   "execution_count": 5,
   "id": "6c03d201",
   "metadata": {
    "execution": {
     "iopub.execute_input": "2025-06-11T08:26:36.723165Z",
     "iopub.status.busy": "2025-06-11T08:26:36.722767Z",
     "iopub.status.idle": "2025-06-11T08:26:36.725906Z",
     "shell.execute_reply": "2025-06-11T08:26:36.725286Z"
    },
    "papermill": {
     "duration": 0.00702,
     "end_time": "2025-06-11T08:26:36.727261",
     "exception": false,
     "start_time": "2025-06-11T08:26:36.720241",
     "status": "completed"
    },
    "tags": []
   },
   "outputs": [],
   "source": [
    "variable_mapper = {\n",
    "    'Young people who were NEET_Total': 'age_16_to_24_neet_total_sa',\n",
    "    'Young people who were NEET_Unemployed': 'age_16_to_24_neet_unemployed_sa',\n",
    "    'Young people who were NEET_Economically inactive': 'age_16_to_24_neet_economically_inactive_sa',\n",
    "    'Total people in relevant population group': 'age_16_to_24_population',\n",
    "    'People who were NEET as a percentage of people in relevant population group': 'age_16_to_24_neet_total_rate_sa',\n",
    "}"
   ]
  },
  {
   "cell_type": "code",
   "execution_count": 6,
   "id": "f357d842",
   "metadata": {
    "execution": {
     "iopub.execute_input": "2025-06-11T08:26:36.732488Z",
     "iopub.status.busy": "2025-06-11T08:26:36.732097Z",
     "iopub.status.idle": "2025-06-11T08:26:36.736058Z",
     "shell.execute_reply": "2025-06-11T08:26:36.735501Z"
    },
    "papermill": {
     "duration": 0.008076,
     "end_time": "2025-06-11T08:26:36.737352",
     "exception": false,
     "start_time": "2025-06-11T08:26:36.729276",
     "status": "completed"
    },
    "tags": []
   },
   "outputs": [],
   "source": [
    "data = data[data.age == 'Aged 16-24']"
   ]
  },
  {
   "cell_type": "code",
   "execution_count": 7,
   "id": "3023db2f",
   "metadata": {
    "execution": {
     "iopub.execute_input": "2025-06-11T08:26:36.742488Z",
     "iopub.status.busy": "2025-06-11T08:26:36.742058Z",
     "iopub.status.idle": "2025-06-11T08:26:36.746291Z",
     "shell.execute_reply": "2025-06-11T08:26:36.745715Z"
    },
    "papermill": {
     "duration": 0.008236,
     "end_time": "2025-06-11T08:26:36.747635",
     "exception": false,
     "start_time": "2025-06-11T08:26:36.739399",
     "status": "completed"
    },
    "tags": []
   },
   "outputs": [],
   "source": [
    "data = data.replace({\n",
    "  'measure': variable_mapper\n",
    "})"
   ]
  },
  {
   "cell_type": "code",
   "execution_count": 8,
   "id": "f2c02ba1",
   "metadata": {
    "execution": {
     "iopub.execute_input": "2025-06-11T08:26:36.752847Z",
     "iopub.status.busy": "2025-06-11T08:26:36.752471Z",
     "iopub.status.idle": "2025-06-11T08:26:36.761493Z",
     "shell.execute_reply": "2025-06-11T08:26:36.760943Z"
    },
    "papermill": {
     "duration": 0.01309,
     "end_time": "2025-06-11T08:26:36.762787",
     "exception": false,
     "start_time": "2025-06-11T08:26:36.749697",
     "status": "completed"
    },
    "tags": []
   },
   "outputs": [],
   "source": [
    "data['quarter_start'] = pd.Index(data.date.pipe(quarter_to_date))\n",
    "data['variable'] = data.sheet.str.split(' - ').apply(lambda x: x[0]).str.lower() + '_' + data.measure"
   ]
  },
  {
   "cell_type": "code",
   "execution_count": 9,
   "id": "d6c9b53c",
   "metadata": {
    "execution": {
     "iopub.execute_input": "2025-06-11T08:26:36.768306Z",
     "iopub.status.busy": "2025-06-11T08:26:36.767737Z",
     "iopub.status.idle": "2025-06-11T08:26:36.776524Z",
     "shell.execute_reply": "2025-06-11T08:26:36.775980Z"
    },
    "papermill": {
     "duration": 0.01288,
     "end_time": "2025-06-11T08:26:36.777831",
     "exception": false,
     "start_time": "2025-06-11T08:26:36.764951",
     "status": "completed"
    },
    "tags": []
   },
   "outputs": [],
   "source": [
    "data = data.pivot_table(index='quarter_start', columns='variable', values='value')"
   ]
  },
  {
   "cell_type": "code",
   "execution_count": 10,
   "id": "5d60373f",
   "metadata": {
    "execution": {
     "iopub.execute_input": "2025-06-11T08:26:36.783180Z",
     "iopub.status.busy": "2025-06-11T08:26:36.782787Z",
     "iopub.status.idle": "2025-06-11T08:26:36.789192Z",
     "shell.execute_reply": "2025-06-11T08:26:36.788540Z"
    },
    "papermill": {
     "duration": 0.010556,
     "end_time": "2025-06-11T08:26:36.790504",
     "exception": false,
     "start_time": "2025-06-11T08:26:36.779948",
     "status": "completed"
    },
    "tags": []
   },
   "outputs": [],
   "source": [
    "def calculate_rates(data, prefix):\n",
    "    data[prefix + '_age_16_to_24_neet_unemployed_rate_sa'] = data[prefix + '_age_16_to_24_neet_unemployed_sa'] / data[prefix + '_age_16_to_24_population'] * 100\n",
    "    data[prefix + '_age_16_to_24_neet_economically_inactive_rate_sa'] = data[prefix + '_age_16_to_24_neet_economically_inactive_sa'] / data[prefix + '_age_16_to_24_population'] * 100\n",
    "    return data\n",
    "  \n",
    "data = data.pipe(\n",
    "    calculate_rates, 'people'\n",
    ").pipe(\n",
    "    calculate_rates, 'men'\n",
    ").pipe(\n",
    "    calculate_rates, 'women'\n",
    ")\n"
   ]
  },
  {
   "cell_type": "code",
   "execution_count": 11,
   "id": "2a26081b",
   "metadata": {
    "execution": {
     "iopub.execute_input": "2025-06-11T08:26:36.795831Z",
     "iopub.status.busy": "2025-06-11T08:26:36.795633Z",
     "iopub.status.idle": "2025-06-11T08:26:36.802419Z",
     "shell.execute_reply": "2025-06-11T08:26:36.801880Z"
    },
    "papermill": {
     "duration": 0.010944,
     "end_time": "2025-06-11T08:26:36.803687",
     "exception": false,
     "start_time": "2025-06-11T08:26:36.792743",
     "status": "completed"
    },
    "tags": []
   },
   "outputs": [],
   "source": [
    "column_order = [\n",
    "  'people_age_16_to_24_neet_total_sa',\n",
    "  'people_age_16_to_24_neet_unemployed_sa',\n",
    "  'people_age_16_to_24_neet_economically_inactive_sa',\n",
    "  'people_age_16_to_24_population',\n",
    "  'people_age_16_to_24_neet_total_rate_sa',\n",
    "  'people_age_16_to_24_neet_unemployed_rate_sa',\n",
    "  'people_age_16_to_24_neet_economically_inactive_rate_sa',\n",
    "  'men_age_16_to_24_neet_total_sa',\n",
    "  'men_age_16_to_24_neet_unemployed_sa',\n",
    "  'men_age_16_to_24_neet_economically_inactive_sa',\n",
    "  'men_age_16_to_24_population',\n",
    "  'men_age_16_to_24_neet_total_rate_sa',\n",
    "  'men_age_16_to_24_neet_unemployed_rate_sa',\n",
    "  'men_age_16_to_24_neet_economically_inactive_rate_sa',\n",
    "  'women_age_16_to_24_neet_total_sa',\n",
    "  'women_age_16_to_24_neet_unemployed_sa',\n",
    "  'women_age_16_to_24_neet_economically_inactive_sa',\n",
    "  'women_age_16_to_24_population',\n",
    "  'women_age_16_to_24_neet_total_rate_sa',\n",
    "  'women_age_16_to_24_neet_unemployed_rate_sa',\n",
    "  'women_age_16_to_24_neet_economically_inactive_rate_sa'\n",
    "]\n",
    "\n",
    "data.loc[:, column_order].to_csv(NEET_16_24)"
   ]
  },
  {
   "cell_type": "code",
   "execution_count": 12,
   "id": "10b38da9",
   "metadata": {
    "execution": {
     "iopub.execute_input": "2025-06-11T08:26:36.808948Z",
     "iopub.status.busy": "2025-06-11T08:26:36.808725Z",
     "iopub.status.idle": "2025-06-11T08:26:36.820719Z",
     "shell.execute_reply": "2025-06-11T08:26:36.820140Z"
    },
    "papermill": {
     "duration": 0.01621,
     "end_time": "2025-06-11T08:26:36.822049",
     "exception": false,
     "start_time": "2025-06-11T08:26:36.805839",
     "status": "completed"
    },
    "tags": []
   },
   "outputs": [
    {
     "data": {
      "text/plain": [
       "id                     object\n",
       "last_update    datetime64[ns]\n",
       "next_update            object\n",
       "dtype: object"
      ]
     },
     "execution_count": 12,
     "metadata": {},
     "output_type": "execute_result"
    }
   ],
   "source": [
    "metadata = pd.read_csv(ALL_METADATA, parse_dates=['last_update', 'next_update'])\n",
    "metadata.set_index(\n",
    "    'id'\n",
    ").rename(\n",
    "    columns={\n",
    "        'last_update': 'published'\n",
    "    }\n",
    ").loc['NEET'].to_json(NEET_METADATA, date_format='iso')\n",
    "\n",
    "metadata.dtypes\n"
   ]
  },
  {
   "cell_type": "code",
   "execution_count": null,
   "id": "c57cdc07",
   "metadata": {
    "papermill": {
     "duration": 0.00229,
     "end_time": "2025-06-11T08:26:36.826724",
     "exception": false,
     "start_time": "2025-06-11T08:26:36.824434",
     "status": "completed"
    },
    "tags": []
   },
   "outputs": [],
   "source": []
  },
  {
   "cell_type": "code",
   "execution_count": null,
   "id": "9e00573e",
   "metadata": {
    "papermill": {
     "duration": 0.002209,
     "end_time": "2025-06-11T08:26:36.831204",
     "exception": false,
     "start_time": "2025-06-11T08:26:36.828995",
     "status": "completed"
    },
    "tags": []
   },
   "outputs": [],
   "source": []
  }
 ],
 "metadata": {
  "kernelspec": {
   "display_name": "yff-data-ansOWYcy",
   "language": "python",
   "name": "python3"
  },
  "language_info": {
   "codemirror_mode": {
    "name": "ipython",
    "version": 3
   },
   "file_extension": ".py",
   "mimetype": "text/x-python",
   "name": "python",
   "nbconvert_exporter": "python",
   "pygments_lexer": "ipython3",
   "version": "3.10.17"
  },
  "papermill": {
   "default_parameters": {},
   "duration": 1.873059,
   "end_time": "2025-06-11T08:26:37.050626",
   "environment_variables": {},
   "exception": null,
   "input_path": "transform.ipynb",
   "output_path": "../../working/output/neet-transform.ipynb",
   "parameters": {},
   "start_time": "2025-06-11T08:26:35.177567",
   "version": "2.5.0"
  }
 },
 "nbformat": 4,
 "nbformat_minor": 5
}