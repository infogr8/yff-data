{
 "cells": [
  {
   "cell_type": "code",
   "execution_count": 1,
   "id": "3ae827a1",
   "metadata": {
    "execution": {
     "iopub.execute_input": "2024-02-22T17:03:58.701191Z",
     "iopub.status.busy": "2024-02-22T17:03:58.700929Z",
     "iopub.status.idle": "2024-02-22T17:03:58.990528Z",
     "shell.execute_reply": "2024-02-22T17:03:58.989952Z"
    },
    "papermill": {
     "duration": 0.294964,
     "end_time": "2024-02-22T17:03:58.992134",
     "exception": false,
     "start_time": "2024-02-22T17:03:58.697170",
     "status": "completed"
    },
    "tags": []
   },
   "outputs": [],
   "source": [
    "import os\n",
    "import sys\n",
    "import pandas as pd\n",
    "\n",
    "LIB_DIR = '../../'\n",
    "if LIB_DIR not in sys.path:\n",
    "    sys.path.append(LIB_DIR)"
   ]
  },
  {
   "cell_type": "code",
   "execution_count": 2,
   "id": "6dd0555c",
   "metadata": {
    "execution": {
     "iopub.execute_input": "2024-02-22T17:03:58.997762Z",
     "iopub.status.busy": "2024-02-22T17:03:58.997260Z",
     "iopub.status.idle": "2024-02-22T17:03:59.002005Z",
     "shell.execute_reply": "2024-02-22T17:03:59.001501Z"
    },
    "papermill": {
     "duration": 0.008906,
     "end_time": "2024-02-22T17:03:59.003302",
     "exception": false,
     "start_time": "2024-02-22T17:03:58.994396",
     "status": "completed"
    },
    "tags": []
   },
   "outputs": [],
   "source": [
    "from scripts.util.date import quarter_to_date"
   ]
  },
  {
   "cell_type": "code",
   "execution_count": 3,
   "id": "525004c1",
   "metadata": {
    "execution": {
     "iopub.execute_input": "2024-02-22T17:03:59.008733Z",
     "iopub.status.busy": "2024-02-22T17:03:59.008228Z",
     "iopub.status.idle": "2024-02-22T17:03:59.011853Z",
     "shell.execute_reply": "2024-02-22T17:03:59.011218Z"
    },
    "papermill": {
     "duration": 0.007788,
     "end_time": "2024-02-22T17:03:59.013136",
     "exception": false,
     "start_time": "2024-02-22T17:03:59.005348",
     "status": "completed"
    },
    "tags": []
   },
   "outputs": [],
   "source": [
    "NEET_DATA = '../../working/upstream/neet.csv'\n",
    "ALL_METADATA = '../../working/upstream/metadata.csv'\n",
    "NEET_16_24 = '../../data/neet/neet.csv'\n",
    "NEET_METADATA = '../../data/neet/metadata.json'\n",
    "\n",
    "os.makedirs(os.path.dirname(NEET_16_24), exist_ok=True)"
   ]
  },
  {
   "cell_type": "code",
   "execution_count": 4,
   "id": "3f2963f5",
   "metadata": {
    "execution": {
     "iopub.execute_input": "2024-02-22T17:03:59.018418Z",
     "iopub.status.busy": "2024-02-22T17:03:59.017999Z",
     "iopub.status.idle": "2024-02-22T17:03:59.027270Z",
     "shell.execute_reply": "2024-02-22T17:03:59.026762Z"
    },
    "papermill": {
     "duration": 0.013664,
     "end_time": "2024-02-22T17:03:59.028862",
     "exception": false,
     "start_time": "2024-02-22T17:03:59.015198",
     "status": "completed"
    },
    "tags": []
   },
   "outputs": [],
   "source": [
    "data = pd.read_csv('../../working/upstream/neet.csv')"
   ]
  },
  {
   "cell_type": "code",
   "execution_count": 5,
   "id": "bd42e08c",
   "metadata": {
    "execution": {
     "iopub.execute_input": "2024-02-22T17:03:59.034523Z",
     "iopub.status.busy": "2024-02-22T17:03:59.033964Z",
     "iopub.status.idle": "2024-02-22T17:03:59.037449Z",
     "shell.execute_reply": "2024-02-22T17:03:59.036883Z"
    },
    "papermill": {
     "duration": 0.007779,
     "end_time": "2024-02-22T17:03:59.038784",
     "exception": false,
     "start_time": "2024-02-22T17:03:59.031005",
     "status": "completed"
    },
    "tags": []
   },
   "outputs": [],
   "source": [
    "variable_mapper = {\n",
    "    'Young people who were NEET_Total': 'age_16_to_24_neet_total_sa',\n",
    "    'Young people who were NEET_Unemployed': 'age_16_to_24_neet_unemployed_sa',\n",
    "    'Young people who were NEET_Economically inactive': 'age_16_to_24_neet_economically_inactive_sa',\n",
    "    'Total people in relevant population group': 'age_16_to_24_population',\n",
    "    'People who were NEET as a percentage of people in relevant population group': 'age_16_to_24_neet_total_rate_sa',\n",
    "}"
   ]
  },
  {
   "cell_type": "code",
   "execution_count": 6,
   "id": "799ea993",
   "metadata": {
    "execution": {
     "iopub.execute_input": "2024-02-22T17:03:59.044110Z",
     "iopub.status.busy": "2024-02-22T17:03:59.043672Z",
     "iopub.status.idle": "2024-02-22T17:03:59.047986Z",
     "shell.execute_reply": "2024-02-22T17:03:59.047268Z"
    },
    "papermill": {
     "duration": 0.008504,
     "end_time": "2024-02-22T17:03:59.049406",
     "exception": false,
     "start_time": "2024-02-22T17:03:59.040902",
     "status": "completed"
    },
    "tags": []
   },
   "outputs": [],
   "source": [
    "data = data[data.age == 'Aged 16-24']"
   ]
  },
  {
   "cell_type": "code",
   "execution_count": 7,
   "id": "79637b33",
   "metadata": {
    "execution": {
     "iopub.execute_input": "2024-02-22T17:03:59.055048Z",
     "iopub.status.busy": "2024-02-22T17:03:59.054617Z",
     "iopub.status.idle": "2024-02-22T17:03:59.059052Z",
     "shell.execute_reply": "2024-02-22T17:03:59.058457Z"
    },
    "papermill": {
     "duration": 0.008692,
     "end_time": "2024-02-22T17:03:59.060353",
     "exception": false,
     "start_time": "2024-02-22T17:03:59.051661",
     "status": "completed"
    },
    "tags": []
   },
   "outputs": [],
   "source": [
    "data = data.replace({\n",
    "  'measure': variable_mapper\n",
    "})"
   ]
  },
  {
   "cell_type": "code",
   "execution_count": 8,
   "id": "222b8007",
   "metadata": {
    "execution": {
     "iopub.execute_input": "2024-02-22T17:03:59.066019Z",
     "iopub.status.busy": "2024-02-22T17:03:59.065513Z",
     "iopub.status.idle": "2024-02-22T17:03:59.075986Z",
     "shell.execute_reply": "2024-02-22T17:03:59.075327Z"
    },
    "papermill": {
     "duration": 0.014786,
     "end_time": "2024-02-22T17:03:59.077339",
     "exception": false,
     "start_time": "2024-02-22T17:03:59.062553",
     "status": "completed"
    },
    "tags": []
   },
   "outputs": [],
   "source": [
    "data['quarter_start'] = pd.Index(data.date.pipe(quarter_to_date))\n",
    "data['variable'] = data.sheet.str.split(' - ').apply(lambda x: x[0]).str.lower() + '_' + data.measure"
   ]
  },
  {
   "cell_type": "code",
   "execution_count": 9,
   "id": "eae88d51",
   "metadata": {
    "execution": {
     "iopub.execute_input": "2024-02-22T17:03:59.083638Z",
     "iopub.status.busy": "2024-02-22T17:03:59.083272Z",
     "iopub.status.idle": "2024-02-22T17:03:59.092390Z",
     "shell.execute_reply": "2024-02-22T17:03:59.091773Z"
    },
    "papermill": {
     "duration": 0.013461,
     "end_time": "2024-02-22T17:03:59.093826",
     "exception": false,
     "start_time": "2024-02-22T17:03:59.080365",
     "status": "completed"
    },
    "tags": []
   },
   "outputs": [],
   "source": [
    "data = data.pivot_table(index='quarter_start', columns='variable', values='value')"
   ]
  },
  {
   "cell_type": "code",
   "execution_count": 10,
   "id": "ae93f332",
   "metadata": {
    "execution": {
     "iopub.execute_input": "2024-02-22T17:03:59.099681Z",
     "iopub.status.busy": "2024-02-22T17:03:59.099239Z",
     "iopub.status.idle": "2024-02-22T17:03:59.106159Z",
     "shell.execute_reply": "2024-02-22T17:03:59.105522Z"
    },
    "papermill": {
     "duration": 0.011302,
     "end_time": "2024-02-22T17:03:59.107550",
     "exception": false,
     "start_time": "2024-02-22T17:03:59.096248",
     "status": "completed"
    },
    "tags": []
   },
   "outputs": [],
   "source": [
    "def calculate_rates(data, prefix):\n",
    "    data[prefix + '_age_16_to_24_neet_unemployed_rate_sa'] = data[prefix + '_age_16_to_24_neet_unemployed_sa'] / data[prefix + '_age_16_to_24_population'] * 100\n",
    "    data[prefix + '_age_16_to_24_neet_economically_inactive_rate_sa'] = data[prefix + '_age_16_to_24_neet_economically_inactive_sa'] / data[prefix + '_age_16_to_24_population'] * 100\n",
    "    return data\n",
    "  \n",
    "data = data.pipe(\n",
    "    calculate_rates, 'people'\n",
    ").pipe(\n",
    "    calculate_rates, 'men'\n",
    ").pipe(\n",
    "    calculate_rates, 'women'\n",
    ")\n"
   ]
  },
  {
   "cell_type": "code",
   "execution_count": 11,
   "id": "6a859389",
   "metadata": {
    "execution": {
     "iopub.execute_input": "2024-02-22T17:03:59.113500Z",
     "iopub.status.busy": "2024-02-22T17:03:59.112956Z",
     "iopub.status.idle": "2024-02-22T17:03:59.120634Z",
     "shell.execute_reply": "2024-02-22T17:03:59.119996Z"
    },
    "papermill": {
     "duration": 0.012092,
     "end_time": "2024-02-22T17:03:59.121947",
     "exception": false,
     "start_time": "2024-02-22T17:03:59.109855",
     "status": "completed"
    },
    "tags": []
   },
   "outputs": [],
   "source": [
    "column_order = [\n",
    "  'people_age_16_to_24_neet_total_sa',\n",
    "  'people_age_16_to_24_neet_unemployed_sa',\n",
    "  'people_age_16_to_24_neet_economically_inactive_sa',\n",
    "  'people_age_16_to_24_population',\n",
    "  'people_age_16_to_24_neet_total_rate_sa',\n",
    "  'people_age_16_to_24_neet_unemployed_rate_sa',\n",
    "  'people_age_16_to_24_neet_economically_inactive_rate_sa',\n",
    "  'men_age_16_to_24_neet_total_sa',\n",
    "  'men_age_16_to_24_neet_unemployed_sa',\n",
    "  'men_age_16_to_24_neet_economically_inactive_sa',\n",
    "  'men_age_16_to_24_population',\n",
    "  'men_age_16_to_24_neet_total_rate_sa',\n",
    "  'men_age_16_to_24_neet_unemployed_rate_sa',\n",
    "  'men_age_16_to_24_neet_economically_inactive_rate_sa',\n",
    "  'women_age_16_to_24_neet_total_sa',\n",
    "  'women_age_16_to_24_neet_unemployed_sa',\n",
    "  'women_age_16_to_24_neet_economically_inactive_sa',\n",
    "  'women_age_16_to_24_population',\n",
    "  'women_age_16_to_24_neet_total_rate_sa',\n",
    "  'women_age_16_to_24_neet_unemployed_rate_sa',\n",
    "  'women_age_16_to_24_neet_economically_inactive_rate_sa'\n",
    "]\n",
    "\n",
    "data.loc[:, column_order].to_csv(NEET_16_24)"
   ]
  },
  {
   "cell_type": "code",
   "execution_count": 12,
   "id": "f2b5b4c3",
   "metadata": {
    "execution": {
     "iopub.execute_input": "2024-02-22T17:03:59.127711Z",
     "iopub.status.busy": "2024-02-22T17:03:59.127278Z",
     "iopub.status.idle": "2024-02-22T17:03:59.140001Z",
     "shell.execute_reply": "2024-02-22T17:03:59.139333Z"
    },
    "papermill": {
     "duration": 0.017094,
     "end_time": "2024-02-22T17:03:59.141370",
     "exception": false,
     "start_time": "2024-02-22T17:03:59.124276",
     "status": "completed"
    },
    "tags": []
   },
   "outputs": [
    {
     "data": {
      "text/plain": [
       "id                     object\n",
       "last_update    datetime64[ns]\n",
       "next_update            object\n",
       "dtype: object"
      ]
     },
     "execution_count": 12,
     "metadata": {},
     "output_type": "execute_result"
    }
   ],
   "source": [
    "metadata = pd.read_csv(ALL_METADATA, parse_dates=['last_update', 'next_update'])\n",
    "metadata.set_index(\n",
    "    'id'\n",
    ").rename(\n",
    "    columns={\n",
    "        'last_update': 'published'\n",
    "    }\n",
    ").loc['NEET'].to_json(NEET_METADATA, date_format='iso')\n",
    "\n",
    "metadata.dtypes\n"
   ]
  },
  {
   "cell_type": "code",
   "execution_count": null,
   "id": "c5d62362",
   "metadata": {
    "papermill": {
     "duration": 0.002404,
     "end_time": "2024-02-22T17:03:59.146213",
     "exception": false,
     "start_time": "2024-02-22T17:03:59.143809",
     "status": "completed"
    },
    "tags": []
   },
   "outputs": [],
   "source": []
  },
  {
   "cell_type": "code",
   "execution_count": null,
   "id": "c1d4d271",
   "metadata": {
    "papermill": {
     "duration": 0.002216,
     "end_time": "2024-02-22T17:03:59.150706",
     "exception": false,
     "start_time": "2024-02-22T17:03:59.148490",
     "status": "completed"
    },
    "tags": []
   },
   "outputs": [],
   "source": []
  }
 ],
 "metadata": {
  "kernelspec": {
   "display_name": "yff-data-ansOWYcy",
   "language": "python",
   "name": "python3"
  },
  "language_info": {
   "codemirror_mode": {
    "name": "ipython",
    "version": 3
   },
   "file_extension": ".py",
   "mimetype": "text/x-python",
   "name": "python",
   "nbconvert_exporter": "python",
   "pygments_lexer": "ipython3",
   "version": "3.10.13"
  },
  "papermill": {
   "default_parameters": {},
   "duration": 2.314182,
   "end_time": "2024-02-22T17:03:59.370372",
   "environment_variables": {},
   "exception": null,
   "input_path": "transform.ipynb",
   "output_path": "../../working/output/neet-transform.ipynb",
   "parameters": {},
   "start_time": "2024-02-22T17:03:57.056190",
   "version": "2.4.0"
  }
 },
 "nbformat": 4,
 "nbformat_minor": 5
}