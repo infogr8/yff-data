{
 "cells": [
  {
   "cell_type": "code",
   "execution_count": 1,
   "id": "5381ae40",
   "metadata": {
    "execution": {
     "iopub.execute_input": "2024-10-15T06:53:12.482978Z",
     "iopub.status.busy": "2024-10-15T06:53:12.482401Z",
     "iopub.status.idle": "2024-10-15T06:53:12.779356Z",
     "shell.execute_reply": "2024-10-15T06:53:12.778664Z"
    },
    "papermill": {
     "duration": 0.303333,
     "end_time": "2024-10-15T06:53:12.781090",
     "exception": false,
     "start_time": "2024-10-15T06:53:12.477757",
     "status": "completed"
    },
    "tags": []
   },
   "outputs": [],
   "source": [
    "import os\n",
    "import sys\n",
    "import pandas as pd\n",
    "\n",
    "LIB_DIR = '../../'\n",
    "if LIB_DIR not in sys.path:\n",
    "    sys.path.append(LIB_DIR)"
   ]
  },
  {
   "cell_type": "code",
   "execution_count": 2,
   "id": "e625c1b2",
   "metadata": {
    "execution": {
     "iopub.execute_input": "2024-10-15T06:53:12.786844Z",
     "iopub.status.busy": "2024-10-15T06:53:12.786264Z",
     "iopub.status.idle": "2024-10-15T06:53:12.790622Z",
     "shell.execute_reply": "2024-10-15T06:53:12.789945Z"
    },
    "papermill": {
     "duration": 0.008593,
     "end_time": "2024-10-15T06:53:12.792015",
     "exception": false,
     "start_time": "2024-10-15T06:53:12.783422",
     "status": "completed"
    },
    "tags": []
   },
   "outputs": [],
   "source": [
    "from scripts.util.date import quarter_to_date"
   ]
  },
  {
   "cell_type": "code",
   "execution_count": 3,
   "id": "e2155f5f",
   "metadata": {
    "execution": {
     "iopub.execute_input": "2024-10-15T06:53:12.797148Z",
     "iopub.status.busy": "2024-10-15T06:53:12.796743Z",
     "iopub.status.idle": "2024-10-15T06:53:12.800084Z",
     "shell.execute_reply": "2024-10-15T06:53:12.799517Z"
    },
    "papermill": {
     "duration": 0.007371,
     "end_time": "2024-10-15T06:53:12.801343",
     "exception": false,
     "start_time": "2024-10-15T06:53:12.793972",
     "status": "completed"
    },
    "tags": []
   },
   "outputs": [],
   "source": [
    "NEET_DATA = '../../working/upstream/neet.csv'\n",
    "ALL_METADATA = '../../working/upstream/metadata.csv'\n",
    "NEET_16_24 = '../../data/neet/neet.csv'\n",
    "NEET_METADATA = '../../data/neet/metadata.json'\n",
    "\n",
    "os.makedirs(os.path.dirname(NEET_16_24), exist_ok=True)"
   ]
  },
  {
   "cell_type": "code",
   "execution_count": 4,
   "id": "13ee7f89",
   "metadata": {
    "execution": {
     "iopub.execute_input": "2024-10-15T06:53:12.806427Z",
     "iopub.status.busy": "2024-10-15T06:53:12.805981Z",
     "iopub.status.idle": "2024-10-15T06:53:12.814583Z",
     "shell.execute_reply": "2024-10-15T06:53:12.814038Z"
    },
    "papermill": {
     "duration": 0.012574,
     "end_time": "2024-10-15T06:53:12.815875",
     "exception": false,
     "start_time": "2024-10-15T06:53:12.803301",
     "status": "completed"
    },
    "tags": []
   },
   "outputs": [],
   "source": [
    "data = pd.read_csv('../../working/upstream/neet.csv')"
   ]
  },
  {
   "cell_type": "code",
   "execution_count": 5,
   "id": "6d0c1bd0",
   "metadata": {
    "execution": {
     "iopub.execute_input": "2024-10-15T06:53:12.820959Z",
     "iopub.status.busy": "2024-10-15T06:53:12.820477Z",
     "iopub.status.idle": "2024-10-15T06:53:12.823769Z",
     "shell.execute_reply": "2024-10-15T06:53:12.823130Z"
    },
    "papermill": {
     "duration": 0.007243,
     "end_time": "2024-10-15T06:53:12.825103",
     "exception": false,
     "start_time": "2024-10-15T06:53:12.817860",
     "status": "completed"
    },
    "tags": []
   },
   "outputs": [],
   "source": [
    "variable_mapper = {\n",
    "    'Young people who were NEET_Total': 'age_16_to_24_neet_total_sa',\n",
    "    'Young people who were NEET_Unemployed': 'age_16_to_24_neet_unemployed_sa',\n",
    "    'Young people who were NEET_Economically inactive': 'age_16_to_24_neet_economically_inactive_sa',\n",
    "    'Total people in relevant population group': 'age_16_to_24_population',\n",
    "    'People who were NEET as a percentage of people in relevant population group': 'age_16_to_24_neet_total_rate_sa',\n",
    "}"
   ]
  },
  {
   "cell_type": "code",
   "execution_count": 6,
   "id": "9f7100ec",
   "metadata": {
    "execution": {
     "iopub.execute_input": "2024-10-15T06:53:12.830211Z",
     "iopub.status.busy": "2024-10-15T06:53:12.829828Z",
     "iopub.status.idle": "2024-10-15T06:53:12.834018Z",
     "shell.execute_reply": "2024-10-15T06:53:12.833379Z"
    },
    "papermill": {
     "duration": 0.008231,
     "end_time": "2024-10-15T06:53:12.835392",
     "exception": false,
     "start_time": "2024-10-15T06:53:12.827161",
     "status": "completed"
    },
    "tags": []
   },
   "outputs": [],
   "source": [
    "data = data[data.age == 'Aged 16-24']"
   ]
  },
  {
   "cell_type": "code",
   "execution_count": 7,
   "id": "f5a8ae04",
   "metadata": {
    "execution": {
     "iopub.execute_input": "2024-10-15T06:53:12.847431Z",
     "iopub.status.busy": "2024-10-15T06:53:12.847236Z",
     "iopub.status.idle": "2024-10-15T06:53:12.851326Z",
     "shell.execute_reply": "2024-10-15T06:53:12.850715Z"
    },
    "papermill": {
     "duration": 0.008299,
     "end_time": "2024-10-15T06:53:12.852638",
     "exception": false,
     "start_time": "2024-10-15T06:53:12.844339",
     "status": "completed"
    },
    "tags": []
   },
   "outputs": [],
   "source": [
    "data = data.replace({\n",
    "  'measure': variable_mapper\n",
    "})"
   ]
  },
  {
   "cell_type": "code",
   "execution_count": 8,
   "id": "dd423e20",
   "metadata": {
    "execution": {
     "iopub.execute_input": "2024-10-15T06:53:12.857920Z",
     "iopub.status.busy": "2024-10-15T06:53:12.857460Z",
     "iopub.status.idle": "2024-10-15T06:53:12.866720Z",
     "shell.execute_reply": "2024-10-15T06:53:12.866177Z"
    },
    "papermill": {
     "duration": 0.013241,
     "end_time": "2024-10-15T06:53:12.868023",
     "exception": false,
     "start_time": "2024-10-15T06:53:12.854782",
     "status": "completed"
    },
    "tags": []
   },
   "outputs": [],
   "source": [
    "data['quarter_start'] = pd.Index(data.date.pipe(quarter_to_date))\n",
    "data['variable'] = data.sheet.str.split(' - ').apply(lambda x: x[0]).str.lower() + '_' + data.measure"
   ]
  },
  {
   "cell_type": "code",
   "execution_count": 9,
   "id": "d0c8e06c",
   "metadata": {
    "execution": {
     "iopub.execute_input": "2024-10-15T06:53:12.873322Z",
     "iopub.status.busy": "2024-10-15T06:53:12.873109Z",
     "iopub.status.idle": "2024-10-15T06:53:12.881063Z",
     "shell.execute_reply": "2024-10-15T06:53:12.880365Z"
    },
    "papermill": {
     "duration": 0.012186,
     "end_time": "2024-10-15T06:53:12.882423",
     "exception": false,
     "start_time": "2024-10-15T06:53:12.870237",
     "status": "completed"
    },
    "tags": []
   },
   "outputs": [],
   "source": [
    "data = data.pivot_table(index='quarter_start', columns='variable', values='value')"
   ]
  },
  {
   "cell_type": "code",
   "execution_count": 10,
   "id": "de31faab",
   "metadata": {
    "execution": {
     "iopub.execute_input": "2024-10-15T06:53:12.887827Z",
     "iopub.status.busy": "2024-10-15T06:53:12.887586Z",
     "iopub.status.idle": "2024-10-15T06:53:12.894368Z",
     "shell.execute_reply": "2024-10-15T06:53:12.893833Z"
    },
    "papermill": {
     "duration": 0.01103,
     "end_time": "2024-10-15T06:53:12.895738",
     "exception": false,
     "start_time": "2024-10-15T06:53:12.884708",
     "status": "completed"
    },
    "tags": []
   },
   "outputs": [],
   "source": [
    "def calculate_rates(data, prefix):\n",
    "    data[prefix + '_age_16_to_24_neet_unemployed_rate_sa'] = data[prefix + '_age_16_to_24_neet_unemployed_sa'] / data[prefix + '_age_16_to_24_population'] * 100\n",
    "    data[prefix + '_age_16_to_24_neet_economically_inactive_rate_sa'] = data[prefix + '_age_16_to_24_neet_economically_inactive_sa'] / data[prefix + '_age_16_to_24_population'] * 100\n",
    "    return data\n",
    "  \n",
    "data = data.pipe(\n",
    "    calculate_rates, 'people'\n",
    ").pipe(\n",
    "    calculate_rates, 'men'\n",
    ").pipe(\n",
    "    calculate_rates, 'women'\n",
    ")\n"
   ]
  },
  {
   "cell_type": "code",
   "execution_count": 11,
   "id": "f2ffae82",
   "metadata": {
    "execution": {
     "iopub.execute_input": "2024-10-15T06:53:12.901114Z",
     "iopub.status.busy": "2024-10-15T06:53:12.900723Z",
     "iopub.status.idle": "2024-10-15T06:53:12.907710Z",
     "shell.execute_reply": "2024-10-15T06:53:12.907050Z"
    },
    "papermill": {
     "duration": 0.011295,
     "end_time": "2024-10-15T06:53:12.909174",
     "exception": false,
     "start_time": "2024-10-15T06:53:12.897879",
     "status": "completed"
    },
    "tags": []
   },
   "outputs": [],
   "source": [
    "column_order = [\n",
    "  'people_age_16_to_24_neet_total_sa',\n",
    "  'people_age_16_to_24_neet_unemployed_sa',\n",
    "  'people_age_16_to_24_neet_economically_inactive_sa',\n",
    "  'people_age_16_to_24_population',\n",
    "  'people_age_16_to_24_neet_total_rate_sa',\n",
    "  'people_age_16_to_24_neet_unemployed_rate_sa',\n",
    "  'people_age_16_to_24_neet_economically_inactive_rate_sa',\n",
    "  'men_age_16_to_24_neet_total_sa',\n",
    "  'men_age_16_to_24_neet_unemployed_sa',\n",
    "  'men_age_16_to_24_neet_economically_inactive_sa',\n",
    "  'men_age_16_to_24_population',\n",
    "  'men_age_16_to_24_neet_total_rate_sa',\n",
    "  'men_age_16_to_24_neet_unemployed_rate_sa',\n",
    "  'men_age_16_to_24_neet_economically_inactive_rate_sa',\n",
    "  'women_age_16_to_24_neet_total_sa',\n",
    "  'women_age_16_to_24_neet_unemployed_sa',\n",
    "  'women_age_16_to_24_neet_economically_inactive_sa',\n",
    "  'women_age_16_to_24_population',\n",
    "  'women_age_16_to_24_neet_total_rate_sa',\n",
    "  'women_age_16_to_24_neet_unemployed_rate_sa',\n",
    "  'women_age_16_to_24_neet_economically_inactive_rate_sa'\n",
    "]\n",
    "\n",
    "data.loc[:, column_order].to_csv(NEET_16_24)"
   ]
  },
  {
   "cell_type": "code",
   "execution_count": 12,
   "id": "1c33a092",
   "metadata": {
    "execution": {
     "iopub.execute_input": "2024-10-15T06:53:12.914537Z",
     "iopub.status.busy": "2024-10-15T06:53:12.914278Z",
     "iopub.status.idle": "2024-10-15T06:53:12.927036Z",
     "shell.execute_reply": "2024-10-15T06:53:12.926415Z"
    },
    "papermill": {
     "duration": 0.01703,
     "end_time": "2024-10-15T06:53:12.928382",
     "exception": false,
     "start_time": "2024-10-15T06:53:12.911352",
     "status": "completed"
    },
    "tags": []
   },
   "outputs": [
    {
     "data": {
      "text/plain": [
       "id                     object\n",
       "last_update    datetime64[ns]\n",
       "next_update            object\n",
       "dtype: object"
      ]
     },
     "execution_count": 12,
     "metadata": {},
     "output_type": "execute_result"
    }
   ],
   "source": [
    "metadata = pd.read_csv(ALL_METADATA, parse_dates=['last_update', 'next_update'])\n",
    "metadata.set_index(\n",
    "    'id'\n",
    ").rename(\n",
    "    columns={\n",
    "        'last_update': 'published'\n",
    "    }\n",
    ").loc['NEET'].to_json(NEET_METADATA, date_format='iso')\n",
    "\n",
    "metadata.dtypes\n"
   ]
  },
  {
   "cell_type": "code",
   "execution_count": null,
   "id": "4a327548",
   "metadata": {
    "papermill": {
     "duration": 0.002308,
     "end_time": "2024-10-15T06:53:12.933103",
     "exception": false,
     "start_time": "2024-10-15T06:53:12.930795",
     "status": "completed"
    },
    "tags": []
   },
   "outputs": [],
   "source": []
  },
  {
   "cell_type": "code",
   "execution_count": null,
   "id": "9da9f96d",
   "metadata": {
    "papermill": {
     "duration": 0.00222,
     "end_time": "2024-10-15T06:53:12.937586",
     "exception": false,
     "start_time": "2024-10-15T06:53:12.935366",
     "status": "completed"
    },
    "tags": []
   },
   "outputs": [],
   "source": []
  }
 ],
 "metadata": {
  "kernelspec": {
   "display_name": "yff-data-ansOWYcy",
   "language": "python",
   "name": "python3"
  },
  "language_info": {
   "codemirror_mode": {
    "name": "ipython",
    "version": 3
   },
   "file_extension": ".py",
   "mimetype": "text/x-python",
   "name": "python",
   "nbconvert_exporter": "python",
   "pygments_lexer": "ipython3",
   "version": "3.10.15"
  },
  "papermill": {
   "default_parameters": {},
   "duration": 1.848361,
   "end_time": "2024-10-15T06:53:13.155108",
   "environment_variables": {},
   "exception": null,
   "input_path": "transform.ipynb",
   "output_path": "../../working/output/neet-transform.ipynb",
   "parameters": {},
   "start_time": "2024-10-15T06:53:11.306747",
   "version": "2.5.0"
  }
 },
 "nbformat": 4,
 "nbformat_minor": 5
}