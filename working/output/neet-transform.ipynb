{
 "cells": [
  {
   "cell_type": "code",
   "execution_count": 1,
   "id": "f90f3964",
   "metadata": {
    "execution": {
     "iopub.execute_input": "2024-02-13T07:26:18.772893Z",
     "iopub.status.busy": "2024-02-13T07:26:18.772602Z",
     "iopub.status.idle": "2024-02-13T07:26:19.058842Z",
     "shell.execute_reply": "2024-02-13T07:26:19.058173Z"
    },
    "papermill": {
     "duration": 0.291807,
     "end_time": "2024-02-13T07:26:19.060761",
     "exception": false,
     "start_time": "2024-02-13T07:26:18.768954",
     "status": "completed"
    },
    "tags": []
   },
   "outputs": [],
   "source": [
    "import os\n",
    "import sys\n",
    "import pandas as pd\n",
    "\n",
    "LIB_DIR = '../../'\n",
    "if LIB_DIR not in sys.path:\n",
    "    sys.path.append(LIB_DIR)"
   ]
  },
  {
   "cell_type": "code",
   "execution_count": 2,
   "id": "c65a6408",
   "metadata": {
    "execution": {
     "iopub.execute_input": "2024-02-13T07:26:19.066968Z",
     "iopub.status.busy": "2024-02-13T07:26:19.066298Z",
     "iopub.status.idle": "2024-02-13T07:26:19.071022Z",
     "shell.execute_reply": "2024-02-13T07:26:19.070427Z"
    },
    "papermill": {
     "duration": 0.009155,
     "end_time": "2024-02-13T07:26:19.072362",
     "exception": false,
     "start_time": "2024-02-13T07:26:19.063207",
     "status": "completed"
    },
    "tags": []
   },
   "outputs": [],
   "source": [
    "from scripts.util.date import quarter_to_date"
   ]
  },
  {
   "cell_type": "code",
   "execution_count": 3,
   "id": "fcb95232",
   "metadata": {
    "execution": {
     "iopub.execute_input": "2024-02-13T07:26:19.078085Z",
     "iopub.status.busy": "2024-02-13T07:26:19.077597Z",
     "iopub.status.idle": "2024-02-13T07:26:19.081616Z",
     "shell.execute_reply": "2024-02-13T07:26:19.080940Z"
    },
    "papermill": {
     "duration": 0.008528,
     "end_time": "2024-02-13T07:26:19.083019",
     "exception": false,
     "start_time": "2024-02-13T07:26:19.074491",
     "status": "completed"
    },
    "tags": []
   },
   "outputs": [],
   "source": [
    "NEET_DATA = '../../working/upstream/neet.csv'\n",
    "ALL_METADATA = '../../working/upstream/metadata.csv'\n",
    "NEET_16_24 = '../../data/neet/neet.csv'\n",
    "NEET_METADATA = '../../data/neet/metadata.json'\n",
    "\n",
    "os.makedirs(os.path.dirname(NEET_16_24), exist_ok=True)"
   ]
  },
  {
   "cell_type": "code",
   "execution_count": 4,
   "id": "eea3a494",
   "metadata": {
    "execution": {
     "iopub.execute_input": "2024-02-13T07:26:19.088556Z",
     "iopub.status.busy": "2024-02-13T07:26:19.087993Z",
     "iopub.status.idle": "2024-02-13T07:26:19.097399Z",
     "shell.execute_reply": "2024-02-13T07:26:19.096686Z"
    },
    "papermill": {
     "duration": 0.013844,
     "end_time": "2024-02-13T07:26:19.098954",
     "exception": false,
     "start_time": "2024-02-13T07:26:19.085110",
     "status": "completed"
    },
    "tags": []
   },
   "outputs": [],
   "source": [
    "data = pd.read_csv('../../working/upstream/neet.csv')"
   ]
  },
  {
   "cell_type": "code",
   "execution_count": 5,
   "id": "3e161086",
   "metadata": {
    "execution": {
     "iopub.execute_input": "2024-02-13T07:26:19.104277Z",
     "iopub.status.busy": "2024-02-13T07:26:19.103878Z",
     "iopub.status.idle": "2024-02-13T07:26:19.107438Z",
     "shell.execute_reply": "2024-02-13T07:26:19.106796Z"
    },
    "papermill": {
     "duration": 0.007604,
     "end_time": "2024-02-13T07:26:19.108698",
     "exception": false,
     "start_time": "2024-02-13T07:26:19.101094",
     "status": "completed"
    },
    "tags": []
   },
   "outputs": [],
   "source": [
    "variable_mapper = {\n",
    "    'Young people who were NEET_Total': 'age_16_to_24_neet_total_sa',\n",
    "    'Young people who were NEET_Unemployed': 'age_16_to_24_neet_unemployed_sa',\n",
    "    'Young people who were NEET_Economically inactive': 'age_16_to_24_neet_economically_inactive_sa',\n",
    "    'Total people in relevant population group': 'age_16_to_24_population',\n",
    "    'People who were NEET as a percentage of people in relevant population group': 'age_16_to_24_neet_total_rate_sa',\n",
    "}"
   ]
  },
  {
   "cell_type": "code",
   "execution_count": 6,
   "id": "b29b18a8",
   "metadata": {
    "execution": {
     "iopub.execute_input": "2024-02-13T07:26:19.114172Z",
     "iopub.status.busy": "2024-02-13T07:26:19.113675Z",
     "iopub.status.idle": "2024-02-13T07:26:19.118315Z",
     "shell.execute_reply": "2024-02-13T07:26:19.117736Z"
    },
    "papermill": {
     "duration": 0.008876,
     "end_time": "2024-02-13T07:26:19.119732",
     "exception": false,
     "start_time": "2024-02-13T07:26:19.110856",
     "status": "completed"
    },
    "tags": []
   },
   "outputs": [],
   "source": [
    "data = data[data.age == 'Aged 16-24']"
   ]
  },
  {
   "cell_type": "code",
   "execution_count": 7,
   "id": "495dca22",
   "metadata": {
    "execution": {
     "iopub.execute_input": "2024-02-13T07:26:19.125199Z",
     "iopub.status.busy": "2024-02-13T07:26:19.124735Z",
     "iopub.status.idle": "2024-02-13T07:26:19.130061Z",
     "shell.execute_reply": "2024-02-13T07:26:19.129360Z"
    },
    "papermill": {
     "duration": 0.009506,
     "end_time": "2024-02-13T07:26:19.131402",
     "exception": false,
     "start_time": "2024-02-13T07:26:19.121896",
     "status": "completed"
    },
    "tags": []
   },
   "outputs": [],
   "source": [
    "data = data.replace({\n",
    "  'measure': variable_mapper\n",
    "})"
   ]
  },
  {
   "cell_type": "code",
   "execution_count": 8,
   "id": "52473b2d",
   "metadata": {
    "execution": {
     "iopub.execute_input": "2024-02-13T07:26:19.137336Z",
     "iopub.status.busy": "2024-02-13T07:26:19.136814Z",
     "iopub.status.idle": "2024-02-13T07:26:19.147617Z",
     "shell.execute_reply": "2024-02-13T07:26:19.146875Z"
    },
    "papermill": {
     "duration": 0.015674,
     "end_time": "2024-02-13T07:26:19.149349",
     "exception": false,
     "start_time": "2024-02-13T07:26:19.133675",
     "status": "completed"
    },
    "tags": []
   },
   "outputs": [],
   "source": [
    "data['quarter_start'] = pd.Index(data.date.pipe(quarter_to_date))\n",
    "data['variable'] = data.sheet.str.split(' - ').apply(lambda x: x[0]).str.lower() + '_' + data.measure"
   ]
  },
  {
   "cell_type": "code",
   "execution_count": 9,
   "id": "8360ca10",
   "metadata": {
    "execution": {
     "iopub.execute_input": "2024-02-13T07:26:19.156072Z",
     "iopub.status.busy": "2024-02-13T07:26:19.155635Z",
     "iopub.status.idle": "2024-02-13T07:26:19.165360Z",
     "shell.execute_reply": "2024-02-13T07:26:19.164609Z"
    },
    "papermill": {
     "duration": 0.014396,
     "end_time": "2024-02-13T07:26:19.167056",
     "exception": false,
     "start_time": "2024-02-13T07:26:19.152660",
     "status": "completed"
    },
    "tags": []
   },
   "outputs": [],
   "source": [
    "data = data.pivot_table(index='quarter_start', columns='variable', values='value')"
   ]
  },
  {
   "cell_type": "code",
   "execution_count": 10,
   "id": "89a56cec",
   "metadata": {
    "execution": {
     "iopub.execute_input": "2024-02-13T07:26:19.173747Z",
     "iopub.status.busy": "2024-02-13T07:26:19.173098Z",
     "iopub.status.idle": "2024-02-13T07:26:19.180702Z",
     "shell.execute_reply": "2024-02-13T07:26:19.180007Z"
    },
    "papermill": {
     "duration": 0.012541,
     "end_time": "2024-02-13T07:26:19.182079",
     "exception": false,
     "start_time": "2024-02-13T07:26:19.169538",
     "status": "completed"
    },
    "tags": []
   },
   "outputs": [],
   "source": [
    "def calculate_rates(data, prefix):\n",
    "    data[prefix + '_age_16_to_24_neet_unemployed_rate_sa'] = data[prefix + '_age_16_to_24_neet_unemployed_sa'] / data[prefix + '_age_16_to_24_population'] * 100\n",
    "    data[prefix + '_age_16_to_24_neet_economically_inactive_rate_sa'] = data[prefix + '_age_16_to_24_neet_economically_inactive_sa'] / data[prefix + '_age_16_to_24_population'] * 100\n",
    "    return data\n",
    "  \n",
    "data = data.pipe(\n",
    "    calculate_rates, 'people'\n",
    ").pipe(\n",
    "    calculate_rates, 'men'\n",
    ").pipe(\n",
    "    calculate_rates, 'women'\n",
    ")\n"
   ]
  },
  {
   "cell_type": "code",
   "execution_count": 11,
   "id": "bdd0e592",
   "metadata": {
    "execution": {
     "iopub.execute_input": "2024-02-13T07:26:19.188413Z",
     "iopub.status.busy": "2024-02-13T07:26:19.187761Z",
     "iopub.status.idle": "2024-02-13T07:26:19.195900Z",
     "shell.execute_reply": "2024-02-13T07:26:19.195227Z"
    },
    "papermill": {
     "duration": 0.012919,
     "end_time": "2024-02-13T07:26:19.197376",
     "exception": false,
     "start_time": "2024-02-13T07:26:19.184457",
     "status": "completed"
    },
    "tags": []
   },
   "outputs": [],
   "source": [
    "column_order = [\n",
    "  'people_age_16_to_24_neet_total_sa',\n",
    "  'people_age_16_to_24_neet_unemployed_sa',\n",
    "  'people_age_16_to_24_neet_economically_inactive_sa',\n",
    "  'people_age_16_to_24_population',\n",
    "  'people_age_16_to_24_neet_total_rate_sa',\n",
    "  'people_age_16_to_24_neet_unemployed_rate_sa',\n",
    "  'people_age_16_to_24_neet_economically_inactive_rate_sa',\n",
    "  'men_age_16_to_24_neet_total_sa',\n",
    "  'men_age_16_to_24_neet_unemployed_sa',\n",
    "  'men_age_16_to_24_neet_economically_inactive_sa',\n",
    "  'men_age_16_to_24_population',\n",
    "  'men_age_16_to_24_neet_total_rate_sa',\n",
    "  'men_age_16_to_24_neet_unemployed_rate_sa',\n",
    "  'men_age_16_to_24_neet_economically_inactive_rate_sa',\n",
    "  'women_age_16_to_24_neet_total_sa',\n",
    "  'women_age_16_to_24_neet_unemployed_sa',\n",
    "  'women_age_16_to_24_neet_economically_inactive_sa',\n",
    "  'women_age_16_to_24_population',\n",
    "  'women_age_16_to_24_neet_total_rate_sa',\n",
    "  'women_age_16_to_24_neet_unemployed_rate_sa',\n",
    "  'women_age_16_to_24_neet_economically_inactive_rate_sa'\n",
    "]\n",
    "\n",
    "data.loc[:, column_order].to_csv(NEET_16_24)"
   ]
  },
  {
   "cell_type": "code",
   "execution_count": 12,
   "id": "44e3a467",
   "metadata": {
    "execution": {
     "iopub.execute_input": "2024-02-13T07:26:19.203632Z",
     "iopub.status.busy": "2024-02-13T07:26:19.203042Z",
     "iopub.status.idle": "2024-02-13T07:26:19.216958Z",
     "shell.execute_reply": "2024-02-13T07:26:19.216280Z"
    },
    "papermill": {
     "duration": 0.018541,
     "end_time": "2024-02-13T07:26:19.218373",
     "exception": false,
     "start_time": "2024-02-13T07:26:19.199832",
     "status": "completed"
    },
    "tags": []
   },
   "outputs": [
    {
     "data": {
      "text/plain": [
       "id                     object\n",
       "last_update    datetime64[ns]\n",
       "next_update            object\n",
       "dtype: object"
      ]
     },
     "execution_count": 12,
     "metadata": {},
     "output_type": "execute_result"
    }
   ],
   "source": [
    "metadata = pd.read_csv(ALL_METADATA, parse_dates=['last_update', 'next_update'])\n",
    "metadata.set_index(\n",
    "    'id'\n",
    ").rename(\n",
    "    columns={\n",
    "        'last_update': 'published'\n",
    "    }\n",
    ").loc['NEET'].to_json(NEET_METADATA, date_format='iso')\n",
    "\n",
    "metadata.dtypes\n"
   ]
  },
  {
   "cell_type": "code",
   "execution_count": null,
   "id": "7c173764",
   "metadata": {
    "papermill": {
     "duration": 0.002454,
     "end_time": "2024-02-13T07:26:19.223415",
     "exception": false,
     "start_time": "2024-02-13T07:26:19.220961",
     "status": "completed"
    },
    "tags": []
   },
   "outputs": [],
   "source": []
  },
  {
   "cell_type": "code",
   "execution_count": null,
   "id": "455500e1",
   "metadata": {
    "papermill": {
     "duration": 0.002274,
     "end_time": "2024-02-13T07:26:19.227978",
     "exception": false,
     "start_time": "2024-02-13T07:26:19.225704",
     "status": "completed"
    },
    "tags": []
   },
   "outputs": [],
   "source": []
  }
 ],
 "metadata": {
  "kernelspec": {
   "display_name": "yff-data-ansOWYcy",
   "language": "python",
   "name": "python3"
  },
  "language_info": {
   "codemirror_mode": {
    "name": "ipython",
    "version": 3
   },
   "file_extension": ".py",
   "mimetype": "text/x-python",
   "name": "python",
   "nbconvert_exporter": "python",
   "pygments_lexer": "ipython3",
   "version": "3.10.13"
  },
  "papermill": {
   "default_parameters": {},
   "duration": 2.21394,
   "end_time": "2024-02-13T07:26:19.548354",
   "environment_variables": {},
   "exception": null,
   "input_path": "transform.ipynb",
   "output_path": "../../working/output/neet-transform.ipynb",
   "parameters": {},
   "start_time": "2024-02-13T07:26:17.334414",
   "version": "2.4.0"
  }
 },
 "nbformat": 4,
 "nbformat_minor": 5
}