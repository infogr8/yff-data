{
 "cells": [
  {
   "cell_type": "code",
   "execution_count": 1,
   "id": "da697fe2",
   "metadata": {
    "execution": {
     "iopub.execute_input": "2025-03-20T08:26:16.280118Z",
     "iopub.status.busy": "2025-03-20T08:26:16.279486Z",
     "iopub.status.idle": "2025-03-20T08:26:16.691004Z",
     "shell.execute_reply": "2025-03-20T08:26:16.690184Z"
    },
    "papermill": {
     "duration": 0.418884,
     "end_time": "2025-03-20T08:26:16.693080",
     "exception": false,
     "start_time": "2025-03-20T08:26:16.274196",
     "status": "completed"
    },
    "tags": []
   },
   "outputs": [],
   "source": [
    "import os\n",
    "import sys\n",
    "import pandas as pd\n",
    "\n",
    "LIB_DIR = '../../'\n",
    "if LIB_DIR not in sys.path:\n",
    "    sys.path.append(LIB_DIR)"
   ]
  },
  {
   "cell_type": "code",
   "execution_count": 2,
   "id": "8aba8ccd",
   "metadata": {
    "execution": {
     "iopub.execute_input": "2025-03-20T08:26:16.700513Z",
     "iopub.status.busy": "2025-03-20T08:26:16.699552Z",
     "iopub.status.idle": "2025-03-20T08:26:16.704538Z",
     "shell.execute_reply": "2025-03-20T08:26:16.704003Z"
    },
    "papermill": {
     "duration": 0.009844,
     "end_time": "2025-03-20T08:26:16.705867",
     "exception": false,
     "start_time": "2025-03-20T08:26:16.696023",
     "status": "completed"
    },
    "tags": []
   },
   "outputs": [],
   "source": [
    "from scripts.util.date import quarter_to_date"
   ]
  },
  {
   "cell_type": "code",
   "execution_count": 3,
   "id": "cc757046",
   "metadata": {
    "execution": {
     "iopub.execute_input": "2025-03-20T08:26:16.711205Z",
     "iopub.status.busy": "2025-03-20T08:26:16.710792Z",
     "iopub.status.idle": "2025-03-20T08:26:16.714419Z",
     "shell.execute_reply": "2025-03-20T08:26:16.713811Z"
    },
    "papermill": {
     "duration": 0.007974,
     "end_time": "2025-03-20T08:26:16.715954",
     "exception": false,
     "start_time": "2025-03-20T08:26:16.707980",
     "status": "completed"
    },
    "tags": []
   },
   "outputs": [],
   "source": [
    "NEET_DATA = '../../working/upstream/neet.csv'\n",
    "ALL_METADATA = '../../working/upstream/metadata.csv'\n",
    "NEET_16_24 = '../../data/neet/neet.csv'\n",
    "NEET_METADATA = '../../data/neet/metadata.json'\n",
    "\n",
    "os.makedirs(os.path.dirname(NEET_16_24), exist_ok=True)"
   ]
  },
  {
   "cell_type": "code",
   "execution_count": 4,
   "id": "33fb4bc0",
   "metadata": {
    "execution": {
     "iopub.execute_input": "2025-03-20T08:26:16.721285Z",
     "iopub.status.busy": "2025-03-20T08:26:16.720855Z",
     "iopub.status.idle": "2025-03-20T08:26:16.731040Z",
     "shell.execute_reply": "2025-03-20T08:26:16.730399Z"
    },
    "papermill": {
     "duration": 0.014778,
     "end_time": "2025-03-20T08:26:16.732905",
     "exception": false,
     "start_time": "2025-03-20T08:26:16.718127",
     "status": "completed"
    },
    "tags": []
   },
   "outputs": [],
   "source": [
    "data = pd.read_csv('../../working/upstream/neet.csv')"
   ]
  },
  {
   "cell_type": "code",
   "execution_count": 5,
   "id": "9015fa67",
   "metadata": {
    "execution": {
     "iopub.execute_input": "2025-03-20T08:26:16.739301Z",
     "iopub.status.busy": "2025-03-20T08:26:16.738758Z",
     "iopub.status.idle": "2025-03-20T08:26:16.742570Z",
     "shell.execute_reply": "2025-03-20T08:26:16.741905Z"
    },
    "papermill": {
     "duration": 0.008512,
     "end_time": "2025-03-20T08:26:16.743996",
     "exception": false,
     "start_time": "2025-03-20T08:26:16.735484",
     "status": "completed"
    },
    "tags": []
   },
   "outputs": [],
   "source": [
    "variable_mapper = {\n",
    "    'Young people who were NEET_Total': 'age_16_to_24_neet_total_sa',\n",
    "    'Young people who were NEET_Unemployed': 'age_16_to_24_neet_unemployed_sa',\n",
    "    'Young people who were NEET_Economically inactive': 'age_16_to_24_neet_economically_inactive_sa',\n",
    "    'Total people in relevant population group': 'age_16_to_24_population',\n",
    "    'People who were NEET as a percentage of people in relevant population group': 'age_16_to_24_neet_total_rate_sa',\n",
    "}"
   ]
  },
  {
   "cell_type": "code",
   "execution_count": 6,
   "id": "415c10dd",
   "metadata": {
    "execution": {
     "iopub.execute_input": "2025-03-20T08:26:16.749746Z",
     "iopub.status.busy": "2025-03-20T08:26:16.749475Z",
     "iopub.status.idle": "2025-03-20T08:26:16.754694Z",
     "shell.execute_reply": "2025-03-20T08:26:16.753939Z"
    },
    "papermill": {
     "duration": 0.009937,
     "end_time": "2025-03-20T08:26:16.756148",
     "exception": false,
     "start_time": "2025-03-20T08:26:16.746211",
     "status": "completed"
    },
    "tags": []
   },
   "outputs": [],
   "source": [
    "data = data[data.age == 'Aged 16-24']"
   ]
  },
  {
   "cell_type": "code",
   "execution_count": 7,
   "id": "adb151f5",
   "metadata": {
    "execution": {
     "iopub.execute_input": "2025-03-20T08:26:16.762324Z",
     "iopub.status.busy": "2025-03-20T08:26:16.761800Z",
     "iopub.status.idle": "2025-03-20T08:26:16.767239Z",
     "shell.execute_reply": "2025-03-20T08:26:16.766544Z"
    },
    "papermill": {
     "duration": 0.010197,
     "end_time": "2025-03-20T08:26:16.768735",
     "exception": false,
     "start_time": "2025-03-20T08:26:16.758538",
     "status": "completed"
    },
    "tags": []
   },
   "outputs": [],
   "source": [
    "data = data.replace({\n",
    "  'measure': variable_mapper\n",
    "})"
   ]
  },
  {
   "cell_type": "code",
   "execution_count": 8,
   "id": "33731cb2",
   "metadata": {
    "execution": {
     "iopub.execute_input": "2025-03-20T08:26:16.774307Z",
     "iopub.status.busy": "2025-03-20T08:26:16.774033Z",
     "iopub.status.idle": "2025-03-20T08:26:16.785076Z",
     "shell.execute_reply": "2025-03-20T08:26:16.784453Z"
    },
    "papermill": {
     "duration": 0.015419,
     "end_time": "2025-03-20T08:26:16.786493",
     "exception": false,
     "start_time": "2025-03-20T08:26:16.771074",
     "status": "completed"
    },
    "tags": []
   },
   "outputs": [],
   "source": [
    "data['quarter_start'] = pd.Index(data.date.pipe(quarter_to_date))\n",
    "data['variable'] = data.sheet.str.split(' - ').apply(lambda x: x[0]).str.lower() + '_' + data.measure"
   ]
  },
  {
   "cell_type": "code",
   "execution_count": 9,
   "id": "43b9d91a",
   "metadata": {
    "execution": {
     "iopub.execute_input": "2025-03-20T08:26:16.792508Z",
     "iopub.status.busy": "2025-03-20T08:26:16.792202Z",
     "iopub.status.idle": "2025-03-20T08:26:16.803600Z",
     "shell.execute_reply": "2025-03-20T08:26:16.802899Z"
    },
    "papermill": {
     "duration": 0.016588,
     "end_time": "2025-03-20T08:26:16.805505",
     "exception": false,
     "start_time": "2025-03-20T08:26:16.788917",
     "status": "completed"
    },
    "tags": []
   },
   "outputs": [],
   "source": [
    "data = data.pivot_table(index='quarter_start', columns='variable', values='value')"
   ]
  },
  {
   "cell_type": "code",
   "execution_count": 10,
   "id": "5dc70887",
   "metadata": {
    "execution": {
     "iopub.execute_input": "2025-03-20T08:26:16.811904Z",
     "iopub.status.busy": "2025-03-20T08:26:16.811430Z",
     "iopub.status.idle": "2025-03-20T08:26:16.819057Z",
     "shell.execute_reply": "2025-03-20T08:26:16.818402Z"
    },
    "papermill": {
     "duration": 0.012119,
     "end_time": "2025-03-20T08:26:16.820380",
     "exception": false,
     "start_time": "2025-03-20T08:26:16.808261",
     "status": "completed"
    },
    "tags": []
   },
   "outputs": [],
   "source": [
    "def calculate_rates(data, prefix):\n",
    "    data[prefix + '_age_16_to_24_neet_unemployed_rate_sa'] = data[prefix + '_age_16_to_24_neet_unemployed_sa'] / data[prefix + '_age_16_to_24_population'] * 100\n",
    "    data[prefix + '_age_16_to_24_neet_economically_inactive_rate_sa'] = data[prefix + '_age_16_to_24_neet_economically_inactive_sa'] / data[prefix + '_age_16_to_24_population'] * 100\n",
    "    return data\n",
    "  \n",
    "data = data.pipe(\n",
    "    calculate_rates, 'people'\n",
    ").pipe(\n",
    "    calculate_rates, 'men'\n",
    ").pipe(\n",
    "    calculate_rates, 'women'\n",
    ")\n"
   ]
  },
  {
   "cell_type": "code",
   "execution_count": 11,
   "id": "134bdf38",
   "metadata": {
    "execution": {
     "iopub.execute_input": "2025-03-20T08:26:16.828891Z",
     "iopub.status.busy": "2025-03-20T08:26:16.828424Z",
     "iopub.status.idle": "2025-03-20T08:26:16.837062Z",
     "shell.execute_reply": "2025-03-20T08:26:16.836515Z"
    },
    "papermill": {
     "duration": 0.01584,
     "end_time": "2025-03-20T08:26:16.838506",
     "exception": false,
     "start_time": "2025-03-20T08:26:16.822666",
     "status": "completed"
    },
    "tags": []
   },
   "outputs": [],
   "source": [
    "column_order = [\n",
    "  'people_age_16_to_24_neet_total_sa',\n",
    "  'people_age_16_to_24_neet_unemployed_sa',\n",
    "  'people_age_16_to_24_neet_economically_inactive_sa',\n",
    "  'people_age_16_to_24_population',\n",
    "  'people_age_16_to_24_neet_total_rate_sa',\n",
    "  'people_age_16_to_24_neet_unemployed_rate_sa',\n",
    "  'people_age_16_to_24_neet_economically_inactive_rate_sa',\n",
    "  'men_age_16_to_24_neet_total_sa',\n",
    "  'men_age_16_to_24_neet_unemployed_sa',\n",
    "  'men_age_16_to_24_neet_economically_inactive_sa',\n",
    "  'men_age_16_to_24_population',\n",
    "  'men_age_16_to_24_neet_total_rate_sa',\n",
    "  'men_age_16_to_24_neet_unemployed_rate_sa',\n",
    "  'men_age_16_to_24_neet_economically_inactive_rate_sa',\n",
    "  'women_age_16_to_24_neet_total_sa',\n",
    "  'women_age_16_to_24_neet_unemployed_sa',\n",
    "  'women_age_16_to_24_neet_economically_inactive_sa',\n",
    "  'women_age_16_to_24_population',\n",
    "  'women_age_16_to_24_neet_total_rate_sa',\n",
    "  'women_age_16_to_24_neet_unemployed_rate_sa',\n",
    "  'women_age_16_to_24_neet_economically_inactive_rate_sa'\n",
    "]\n",
    "\n",
    "data.loc[:, column_order].to_csv(NEET_16_24)"
   ]
  },
  {
   "cell_type": "code",
   "execution_count": 12,
   "id": "af61fd33",
   "metadata": {
    "execution": {
     "iopub.execute_input": "2025-03-20T08:26:16.844104Z",
     "iopub.status.busy": "2025-03-20T08:26:16.843863Z",
     "iopub.status.idle": "2025-03-20T08:26:16.857924Z",
     "shell.execute_reply": "2025-03-20T08:26:16.857226Z"
    },
    "papermill": {
     "duration": 0.018575,
     "end_time": "2025-03-20T08:26:16.859414",
     "exception": false,
     "start_time": "2025-03-20T08:26:16.840839",
     "status": "completed"
    },
    "tags": []
   },
   "outputs": [
    {
     "data": {
      "text/plain": [
       "id                     object\n",
       "last_update    datetime64[ns]\n",
       "next_update            object\n",
       "dtype: object"
      ]
     },
     "execution_count": 12,
     "metadata": {},
     "output_type": "execute_result"
    }
   ],
   "source": [
    "metadata = pd.read_csv(ALL_METADATA, parse_dates=['last_update', 'next_update'])\n",
    "metadata.set_index(\n",
    "    'id'\n",
    ").rename(\n",
    "    columns={\n",
    "        'last_update': 'published'\n",
    "    }\n",
    ").loc['NEET'].to_json(NEET_METADATA, date_format='iso')\n",
    "\n",
    "metadata.dtypes\n"
   ]
  },
  {
   "cell_type": "code",
   "execution_count": null,
   "id": "f39902c7",
   "metadata": {
    "papermill": {
     "duration": 0.002394,
     "end_time": "2025-03-20T08:26:16.864481",
     "exception": false,
     "start_time": "2025-03-20T08:26:16.862087",
     "status": "completed"
    },
    "tags": []
   },
   "outputs": [],
   "source": []
  },
  {
   "cell_type": "code",
   "execution_count": null,
   "id": "8cdd8e01",
   "metadata": {
    "papermill": {
     "duration": 0.002208,
     "end_time": "2025-03-20T08:26:16.868953",
     "exception": false,
     "start_time": "2025-03-20T08:26:16.866745",
     "status": "completed"
    },
    "tags": []
   },
   "outputs": [],
   "source": []
  }
 ],
 "metadata": {
  "kernelspec": {
   "display_name": "yff-data-ansOWYcy",
   "language": "python",
   "name": "python3"
  },
  "language_info": {
   "codemirror_mode": {
    "name": "ipython",
    "version": 3
   },
   "file_extension": ".py",
   "mimetype": "text/x-python",
   "name": "python",
   "nbconvert_exporter": "python",
   "pygments_lexer": "ipython3",
   "version": "3.10.16"
  },
  "papermill": {
   "default_parameters": {},
   "duration": 2.134926,
   "end_time": "2025-03-20T08:26:17.188226",
   "environment_variables": {},
   "exception": null,
   "input_path": "transform.ipynb",
   "output_path": "../../working/output/neet-transform.ipynb",
   "parameters": {},
   "start_time": "2025-03-20T08:26:15.053300",
   "version": "2.5.0"
  }
 },
 "nbformat": 4,
 "nbformat_minor": 5
}