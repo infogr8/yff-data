{
 "cells": [
  {
   "cell_type": "code",
   "execution_count": 1,
   "id": "d0fa6644",
   "metadata": {
    "execution": {
     "iopub.execute_input": "2024-03-12T07:26:28.602510Z",
     "iopub.status.busy": "2024-03-12T07:26:28.602102Z",
     "iopub.status.idle": "2024-03-12T07:26:28.899285Z",
     "shell.execute_reply": "2024-03-12T07:26:28.898698Z"
    },
    "papermill": {
     "duration": 0.302732,
     "end_time": "2024-03-12T07:26:28.900886",
     "exception": false,
     "start_time": "2024-03-12T07:26:28.598154",
     "status": "completed"
    },
    "tags": []
   },
   "outputs": [],
   "source": [
    "import os\n",
    "import sys\n",
    "import pandas as pd\n",
    "\n",
    "LIB_DIR = '../../'\n",
    "if LIB_DIR not in sys.path:\n",
    "    sys.path.append(LIB_DIR)"
   ]
  },
  {
   "cell_type": "code",
   "execution_count": 2,
   "id": "48a751e6",
   "metadata": {
    "execution": {
     "iopub.execute_input": "2024-03-12T07:26:28.906325Z",
     "iopub.status.busy": "2024-03-12T07:26:28.906006Z",
     "iopub.status.idle": "2024-03-12T07:26:28.910194Z",
     "shell.execute_reply": "2024-03-12T07:26:28.909667Z"
    },
    "papermill": {
     "duration": 0.008231,
     "end_time": "2024-03-12T07:26:28.911459",
     "exception": false,
     "start_time": "2024-03-12T07:26:28.903228",
     "status": "completed"
    },
    "tags": []
   },
   "outputs": [],
   "source": [
    "from scripts.util.date import quarter_to_date"
   ]
  },
  {
   "cell_type": "code",
   "execution_count": 3,
   "id": "25457d6a",
   "metadata": {
    "execution": {
     "iopub.execute_input": "2024-03-12T07:26:28.916338Z",
     "iopub.status.busy": "2024-03-12T07:26:28.915961Z",
     "iopub.status.idle": "2024-03-12T07:26:28.919415Z",
     "shell.execute_reply": "2024-03-12T07:26:28.918866Z"
    },
    "papermill": {
     "duration": 0.007338,
     "end_time": "2024-03-12T07:26:28.920712",
     "exception": false,
     "start_time": "2024-03-12T07:26:28.913374",
     "status": "completed"
    },
    "tags": []
   },
   "outputs": [],
   "source": [
    "NEET_DATA = '../../working/upstream/neet.csv'\n",
    "ALL_METADATA = '../../working/upstream/metadata.csv'\n",
    "NEET_16_24 = '../../data/neet/neet.csv'\n",
    "NEET_METADATA = '../../data/neet/metadata.json'\n",
    "\n",
    "os.makedirs(os.path.dirname(NEET_16_24), exist_ok=True)"
   ]
  },
  {
   "cell_type": "code",
   "execution_count": 4,
   "id": "e6932076",
   "metadata": {
    "execution": {
     "iopub.execute_input": "2024-03-12T07:26:28.925632Z",
     "iopub.status.busy": "2024-03-12T07:26:28.925265Z",
     "iopub.status.idle": "2024-03-12T07:26:28.933885Z",
     "shell.execute_reply": "2024-03-12T07:26:28.933392Z"
    },
    "papermill": {
     "duration": 0.012541,
     "end_time": "2024-03-12T07:26:28.935208",
     "exception": false,
     "start_time": "2024-03-12T07:26:28.922667",
     "status": "completed"
    },
    "tags": []
   },
   "outputs": [],
   "source": [
    "data = pd.read_csv('../../working/upstream/neet.csv')"
   ]
  },
  {
   "cell_type": "code",
   "execution_count": 5,
   "id": "ad573990",
   "metadata": {
    "execution": {
     "iopub.execute_input": "2024-03-12T07:26:28.940224Z",
     "iopub.status.busy": "2024-03-12T07:26:28.939782Z",
     "iopub.status.idle": "2024-03-12T07:26:28.943001Z",
     "shell.execute_reply": "2024-03-12T07:26:28.942456Z"
    },
    "papermill": {
     "duration": 0.0071,
     "end_time": "2024-03-12T07:26:28.944275",
     "exception": false,
     "start_time": "2024-03-12T07:26:28.937175",
     "status": "completed"
    },
    "tags": []
   },
   "outputs": [],
   "source": [
    "variable_mapper = {\n",
    "    'Young people who were NEET_Total': 'age_16_to_24_neet_total_sa',\n",
    "    'Young people who were NEET_Unemployed': 'age_16_to_24_neet_unemployed_sa',\n",
    "    'Young people who were NEET_Economically inactive': 'age_16_to_24_neet_economically_inactive_sa',\n",
    "    'Total people in relevant population group': 'age_16_to_24_population',\n",
    "    'People who were NEET as a percentage of people in relevant population group': 'age_16_to_24_neet_total_rate_sa',\n",
    "}"
   ]
  },
  {
   "cell_type": "code",
   "execution_count": 6,
   "id": "0308207c",
   "metadata": {
    "execution": {
     "iopub.execute_input": "2024-03-12T07:26:28.949325Z",
     "iopub.status.busy": "2024-03-12T07:26:28.948959Z",
     "iopub.status.idle": "2024-03-12T07:26:28.952942Z",
     "shell.execute_reply": "2024-03-12T07:26:28.952302Z"
    },
    "papermill": {
     "duration": 0.008121,
     "end_time": "2024-03-12T07:26:28.954393",
     "exception": false,
     "start_time": "2024-03-12T07:26:28.946272",
     "status": "completed"
    },
    "tags": []
   },
   "outputs": [],
   "source": [
    "data = data[data.age == 'Aged 16-24']"
   ]
  },
  {
   "cell_type": "code",
   "execution_count": 7,
   "id": "37e7c3ab",
   "metadata": {
    "execution": {
     "iopub.execute_input": "2024-03-12T07:26:28.959554Z",
     "iopub.status.busy": "2024-03-12T07:26:28.959071Z",
     "iopub.status.idle": "2024-03-12T07:26:28.963227Z",
     "shell.execute_reply": "2024-03-12T07:26:28.962695Z"
    },
    "papermill": {
     "duration": 0.008137,
     "end_time": "2024-03-12T07:26:28.964535",
     "exception": false,
     "start_time": "2024-03-12T07:26:28.956398",
     "status": "completed"
    },
    "tags": []
   },
   "outputs": [],
   "source": [
    "data = data.replace({\n",
    "  'measure': variable_mapper\n",
    "})"
   ]
  },
  {
   "cell_type": "code",
   "execution_count": 8,
   "id": "5add59b3",
   "metadata": {
    "execution": {
     "iopub.execute_input": "2024-03-12T07:26:28.969670Z",
     "iopub.status.busy": "2024-03-12T07:26:28.969293Z",
     "iopub.status.idle": "2024-03-12T07:26:28.978113Z",
     "shell.execute_reply": "2024-03-12T07:26:28.977551Z"
    },
    "papermill": {
     "duration": 0.012814,
     "end_time": "2024-03-12T07:26:28.979403",
     "exception": false,
     "start_time": "2024-03-12T07:26:28.966589",
     "status": "completed"
    },
    "tags": []
   },
   "outputs": [],
   "source": [
    "data['quarter_start'] = pd.Index(data.date.pipe(quarter_to_date))\n",
    "data['variable'] = data.sheet.str.split(' - ').apply(lambda x: x[0]).str.lower() + '_' + data.measure"
   ]
  },
  {
   "cell_type": "code",
   "execution_count": 9,
   "id": "51b128e1",
   "metadata": {
    "execution": {
     "iopub.execute_input": "2024-03-12T07:26:28.984641Z",
     "iopub.status.busy": "2024-03-12T07:26:28.984275Z",
     "iopub.status.idle": "2024-03-12T07:26:28.991754Z",
     "shell.execute_reply": "2024-03-12T07:26:28.991142Z"
    },
    "papermill": {
     "duration": 0.011608,
     "end_time": "2024-03-12T07:26:28.993194",
     "exception": false,
     "start_time": "2024-03-12T07:26:28.981586",
     "status": "completed"
    },
    "tags": []
   },
   "outputs": [],
   "source": [
    "data = data.pivot_table(index='quarter_start', columns='variable', values='value')"
   ]
  },
  {
   "cell_type": "code",
   "execution_count": 10,
   "id": "13658daf",
   "metadata": {
    "execution": {
     "iopub.execute_input": "2024-03-12T07:26:28.998557Z",
     "iopub.status.busy": "2024-03-12T07:26:28.998159Z",
     "iopub.status.idle": "2024-03-12T07:26:29.004282Z",
     "shell.execute_reply": "2024-03-12T07:26:29.003720Z"
    },
    "papermill": {
     "duration": 0.010226,
     "end_time": "2024-03-12T07:26:29.005548",
     "exception": false,
     "start_time": "2024-03-12T07:26:28.995322",
     "status": "completed"
    },
    "tags": []
   },
   "outputs": [],
   "source": [
    "def calculate_rates(data, prefix):\n",
    "    data[prefix + '_age_16_to_24_neet_unemployed_rate_sa'] = data[prefix + '_age_16_to_24_neet_unemployed_sa'] / data[prefix + '_age_16_to_24_population'] * 100\n",
    "    data[prefix + '_age_16_to_24_neet_economically_inactive_rate_sa'] = data[prefix + '_age_16_to_24_neet_economically_inactive_sa'] / data[prefix + '_age_16_to_24_population'] * 100\n",
    "    return data\n",
    "  \n",
    "data = data.pipe(\n",
    "    calculate_rates, 'people'\n",
    ").pipe(\n",
    "    calculate_rates, 'men'\n",
    ").pipe(\n",
    "    calculate_rates, 'women'\n",
    ")\n"
   ]
  },
  {
   "cell_type": "code",
   "execution_count": 11,
   "id": "17c2199a",
   "metadata": {
    "execution": {
     "iopub.execute_input": "2024-03-12T07:26:29.011061Z",
     "iopub.status.busy": "2024-03-12T07:26:29.010637Z",
     "iopub.status.idle": "2024-03-12T07:26:29.017614Z",
     "shell.execute_reply": "2024-03-12T07:26:29.017105Z"
    },
    "papermill": {
     "duration": 0.011136,
     "end_time": "2024-03-12T07:26:29.018911",
     "exception": false,
     "start_time": "2024-03-12T07:26:29.007775",
     "status": "completed"
    },
    "tags": []
   },
   "outputs": [],
   "source": [
    "column_order = [\n",
    "  'people_age_16_to_24_neet_total_sa',\n",
    "  'people_age_16_to_24_neet_unemployed_sa',\n",
    "  'people_age_16_to_24_neet_economically_inactive_sa',\n",
    "  'people_age_16_to_24_population',\n",
    "  'people_age_16_to_24_neet_total_rate_sa',\n",
    "  'people_age_16_to_24_neet_unemployed_rate_sa',\n",
    "  'people_age_16_to_24_neet_economically_inactive_rate_sa',\n",
    "  'men_age_16_to_24_neet_total_sa',\n",
    "  'men_age_16_to_24_neet_unemployed_sa',\n",
    "  'men_age_16_to_24_neet_economically_inactive_sa',\n",
    "  'men_age_16_to_24_population',\n",
    "  'men_age_16_to_24_neet_total_rate_sa',\n",
    "  'men_age_16_to_24_neet_unemployed_rate_sa',\n",
    "  'men_age_16_to_24_neet_economically_inactive_rate_sa',\n",
    "  'women_age_16_to_24_neet_total_sa',\n",
    "  'women_age_16_to_24_neet_unemployed_sa',\n",
    "  'women_age_16_to_24_neet_economically_inactive_sa',\n",
    "  'women_age_16_to_24_population',\n",
    "  'women_age_16_to_24_neet_total_rate_sa',\n",
    "  'women_age_16_to_24_neet_unemployed_rate_sa',\n",
    "  'women_age_16_to_24_neet_economically_inactive_rate_sa'\n",
    "]\n",
    "\n",
    "data.loc[:, column_order].to_csv(NEET_16_24)"
   ]
  },
  {
   "cell_type": "code",
   "execution_count": 12,
   "id": "7202fdce",
   "metadata": {
    "execution": {
     "iopub.execute_input": "2024-03-12T07:26:29.024145Z",
     "iopub.status.busy": "2024-03-12T07:26:29.023766Z",
     "iopub.status.idle": "2024-03-12T07:26:29.035265Z",
     "shell.execute_reply": "2024-03-12T07:26:29.034661Z"
    },
    "papermill": {
     "duration": 0.01549,
     "end_time": "2024-03-12T07:26:29.036537",
     "exception": false,
     "start_time": "2024-03-12T07:26:29.021047",
     "status": "completed"
    },
    "tags": []
   },
   "outputs": [
    {
     "data": {
      "text/plain": [
       "id                     object\n",
       "last_update    datetime64[ns]\n",
       "next_update            object\n",
       "dtype: object"
      ]
     },
     "execution_count": 12,
     "metadata": {},
     "output_type": "execute_result"
    }
   ],
   "source": [
    "metadata = pd.read_csv(ALL_METADATA, parse_dates=['last_update', 'next_update'])\n",
    "metadata.set_index(\n",
    "    'id'\n",
    ").rename(\n",
    "    columns={\n",
    "        'last_update': 'published'\n",
    "    }\n",
    ").loc['NEET'].to_json(NEET_METADATA, date_format='iso')\n",
    "\n",
    "metadata.dtypes\n"
   ]
  },
  {
   "cell_type": "code",
   "execution_count": null,
   "id": "974b9cf7",
   "metadata": {
    "papermill": {
     "duration": 0.002284,
     "end_time": "2024-03-12T07:26:29.041154",
     "exception": false,
     "start_time": "2024-03-12T07:26:29.038870",
     "status": "completed"
    },
    "tags": []
   },
   "outputs": [],
   "source": []
  },
  {
   "cell_type": "code",
   "execution_count": null,
   "id": "77c1c817",
   "metadata": {
    "papermill": {
     "duration": 0.002187,
     "end_time": "2024-03-12T07:26:29.045657",
     "exception": false,
     "start_time": "2024-03-12T07:26:29.043470",
     "status": "completed"
    },
    "tags": []
   },
   "outputs": [],
   "source": []
  }
 ],
 "metadata": {
  "kernelspec": {
   "display_name": "yff-data-ansOWYcy",
   "language": "python",
   "name": "python3"
  },
  "language_info": {
   "codemirror_mode": {
    "name": "ipython",
    "version": 3
   },
   "file_extension": ".py",
   "mimetype": "text/x-python",
   "name": "python",
   "nbconvert_exporter": "python",
   "pygments_lexer": "ipython3",
   "version": "3.10.13"
  },
  "papermill": {
   "default_parameters": {},
   "duration": 1.839138,
   "end_time": "2024-03-12T07:26:29.264122",
   "environment_variables": {},
   "exception": null,
   "input_path": "transform.ipynb",
   "output_path": "../../working/output/neet-transform.ipynb",
   "parameters": {},
   "start_time": "2024-03-12T07:26:27.424984",
   "version": "2.5.0"
  }
 },
 "nbformat": 4,
 "nbformat_minor": 5
}