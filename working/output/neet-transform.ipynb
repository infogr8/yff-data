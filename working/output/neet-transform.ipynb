{
 "cells": [
  {
   "cell_type": "code",
   "execution_count": 1,
   "id": "9da13bd2",
   "metadata": {
    "execution": {
     "iopub.execute_input": "2023-11-17T09:53:29.437845Z",
     "iopub.status.busy": "2023-11-17T09:53:29.437281Z",
     "iopub.status.idle": "2023-11-17T09:53:29.603974Z",
     "shell.execute_reply": "2023-11-17T09:53:29.603522Z"
    },
    "papermill": {
     "duration": 0.17379,
     "end_time": "2023-11-17T09:53:29.605085",
     "exception": false,
     "start_time": "2023-11-17T09:53:29.431295",
     "status": "completed"
    },
    "tags": []
   },
   "outputs": [],
   "source": [
    "import os\n",
    "import sys\n",
    "import pandas as pd\n",
    "\n",
    "LIB_DIR = '../../'\n",
    "if LIB_DIR not in sys.path:\n",
    "    sys.path.append(LIB_DIR)"
   ]
  },
  {
   "cell_type": "code",
   "execution_count": 2,
   "id": "f720301a",
   "metadata": {
    "execution": {
     "iopub.execute_input": "2023-11-17T09:53:29.608294Z",
     "iopub.status.busy": "2023-11-17T09:53:29.608115Z",
     "iopub.status.idle": "2023-11-17T09:53:29.610340Z",
     "shell.execute_reply": "2023-11-17T09:53:29.610066Z"
    },
    "papermill": {
     "duration": 0.004683,
     "end_time": "2023-11-17T09:53:29.611117",
     "exception": false,
     "start_time": "2023-11-17T09:53:29.606434",
     "status": "completed"
    },
    "tags": []
   },
   "outputs": [],
   "source": [
    "from scripts.util.date import quarter_to_date"
   ]
  },
  {
   "cell_type": "code",
   "execution_count": 3,
   "id": "e72df25e",
   "metadata": {
    "execution": {
     "iopub.execute_input": "2023-11-17T09:53:29.613974Z",
     "iopub.status.busy": "2023-11-17T09:53:29.613823Z",
     "iopub.status.idle": "2023-11-17T09:53:29.615868Z",
     "shell.execute_reply": "2023-11-17T09:53:29.615595Z"
    },
    "papermill": {
     "duration": 0.004317,
     "end_time": "2023-11-17T09:53:29.616561",
     "exception": false,
     "start_time": "2023-11-17T09:53:29.612244",
     "status": "completed"
    },
    "tags": []
   },
   "outputs": [],
   "source": [
    "NEET_DATA = '../../working/upstream/neet.csv'\n",
    "ALL_METADATA = '../../working/upstream/metadata.csv'\n",
    "NEET_16_24 = '../../data/neet/neet.csv'\n",
    "NEET_METADATA = '../../data/neet/metadata.json'\n",
    "\n",
    "os.makedirs(os.path.dirname(NEET_16_24), exist_ok=True)"
   ]
  },
  {
   "cell_type": "code",
   "execution_count": 4,
   "id": "cf73bad0",
   "metadata": {
    "execution": {
     "iopub.execute_input": "2023-11-17T09:53:29.619441Z",
     "iopub.status.busy": "2023-11-17T09:53:29.619226Z",
     "iopub.status.idle": "2023-11-17T09:53:29.641540Z",
     "shell.execute_reply": "2023-11-17T09:53:29.641073Z"
    },
    "papermill": {
     "duration": 0.024793,
     "end_time": "2023-11-17T09:53:29.642470",
     "exception": false,
     "start_time": "2023-11-17T09:53:29.617677",
     "status": "completed"
    },
    "tags": []
   },
   "outputs": [],
   "source": [
    "data = pd.read_csv('../../working/upstream/neet.csv')"
   ]
  },
  {
   "cell_type": "code",
   "execution_count": 5,
   "id": "77d27684",
   "metadata": {
    "execution": {
     "iopub.execute_input": "2023-11-17T09:53:29.646381Z",
     "iopub.status.busy": "2023-11-17T09:53:29.646158Z",
     "iopub.status.idle": "2023-11-17T09:53:29.648891Z",
     "shell.execute_reply": "2023-11-17T09:53:29.648473Z"
    },
    "papermill": {
     "duration": 0.005931,
     "end_time": "2023-11-17T09:53:29.649876",
     "exception": false,
     "start_time": "2023-11-17T09:53:29.643945",
     "status": "completed"
    },
    "tags": []
   },
   "outputs": [],
   "source": [
    "variable_mapper = {\n",
    "    'Young people who were NEET_Total': 'age_16_to_24_neet_total_sa',\n",
    "    'Young people who were NEET_Unemployed': 'age_16_to_24_neet_unemployed_sa',\n",
    "    'Young people who were NEET_Economically inactive': 'age_16_to_24_neet_economically_inactive_sa',\n",
    "    'Total people in relevant population group': 'age_16_to_24_population',\n",
    "    'People who were NEET as a percentage of people in relevant population group': 'age_16_to_24_neet_total_rate_sa',\n",
    "}"
   ]
  },
  {
   "cell_type": "code",
   "execution_count": 6,
   "id": "d5b78b43",
   "metadata": {
    "execution": {
     "iopub.execute_input": "2023-11-17T09:53:29.654658Z",
     "iopub.status.busy": "2023-11-17T09:53:29.654457Z",
     "iopub.status.idle": "2023-11-17T09:53:29.658605Z",
     "shell.execute_reply": "2023-11-17T09:53:29.658090Z"
    },
    "papermill": {
     "duration": 0.008017,
     "end_time": "2023-11-17T09:53:29.659813",
     "exception": false,
     "start_time": "2023-11-17T09:53:29.651796",
     "status": "completed"
    },
    "tags": []
   },
   "outputs": [],
   "source": [
    "data = data[data.age == 'Aged 16-24']"
   ]
  },
  {
   "cell_type": "code",
   "execution_count": 7,
   "id": "5fb32337",
   "metadata": {
    "execution": {
     "iopub.execute_input": "2023-11-17T09:53:29.663827Z",
     "iopub.status.busy": "2023-11-17T09:53:29.663587Z",
     "iopub.status.idle": "2023-11-17T09:53:29.666672Z",
     "shell.execute_reply": "2023-11-17T09:53:29.666280Z"
    },
    "papermill": {
     "duration": 0.005884,
     "end_time": "2023-11-17T09:53:29.667501",
     "exception": false,
     "start_time": "2023-11-17T09:53:29.661617",
     "status": "completed"
    },
    "tags": []
   },
   "outputs": [],
   "source": [
    "data = data.replace({\n",
    "  'measure': variable_mapper\n",
    "})"
   ]
  },
  {
   "cell_type": "code",
   "execution_count": 8,
   "id": "89925dd8",
   "metadata": {
    "execution": {
     "iopub.execute_input": "2023-11-17T09:53:29.670555Z",
     "iopub.status.busy": "2023-11-17T09:53:29.670344Z",
     "iopub.status.idle": "2023-11-17T09:53:29.676150Z",
     "shell.execute_reply": "2023-11-17T09:53:29.675771Z"
    },
    "papermill": {
     "duration": 0.008224,
     "end_time": "2023-11-17T09:53:29.677001",
     "exception": false,
     "start_time": "2023-11-17T09:53:29.668777",
     "status": "completed"
    },
    "tags": []
   },
   "outputs": [],
   "source": [
    "data['quarter_start'] = pd.Index(data.date.pipe(quarter_to_date))\n",
    "data['variable'] = data.sheet.str.split(' - ').apply(lambda x: x[0]).str.lower() + '_' + data.measure"
   ]
  },
  {
   "cell_type": "code",
   "execution_count": 9,
   "id": "2d0fb1b2",
   "metadata": {
    "execution": {
     "iopub.execute_input": "2023-11-17T09:53:29.680040Z",
     "iopub.status.busy": "2023-11-17T09:53:29.679893Z",
     "iopub.status.idle": "2023-11-17T09:53:29.688046Z",
     "shell.execute_reply": "2023-11-17T09:53:29.687641Z"
    },
    "papermill": {
     "duration": 0.010692,
     "end_time": "2023-11-17T09:53:29.688974",
     "exception": false,
     "start_time": "2023-11-17T09:53:29.678282",
     "status": "completed"
    },
    "tags": []
   },
   "outputs": [],
   "source": [
    "data = data.pivot_table(index='quarter_start', columns='variable', values='value')"
   ]
  },
  {
   "cell_type": "code",
   "execution_count": 10,
   "id": "51953637",
   "metadata": {
    "execution": {
     "iopub.execute_input": "2023-11-17T09:53:29.694137Z",
     "iopub.status.busy": "2023-11-17T09:53:29.693921Z",
     "iopub.status.idle": "2023-11-17T09:53:29.699481Z",
     "shell.execute_reply": "2023-11-17T09:53:29.699112Z"
    },
    "papermill": {
     "duration": 0.009535,
     "end_time": "2023-11-17T09:53:29.700467",
     "exception": false,
     "start_time": "2023-11-17T09:53:29.690932",
     "status": "completed"
    },
    "tags": []
   },
   "outputs": [],
   "source": [
    "def calculate_rates(data, prefix):\n",
    "    data[prefix + '_age_16_to_24_neet_unemployed_rate_sa'] = data[prefix + '_age_16_to_24_neet_unemployed_sa'] / data[prefix + '_age_16_to_24_population'] * 100\n",
    "    data[prefix + '_age_16_to_24_neet_economically_inactive_rate_sa'] = data[prefix + '_age_16_to_24_neet_economically_inactive_sa'] / data[prefix + '_age_16_to_24_population'] * 100\n",
    "    return data\n",
    "  \n",
    "data = data.pipe(\n",
    "    calculate_rates, 'people'\n",
    ").pipe(\n",
    "    calculate_rates, 'men'\n",
    ").pipe(\n",
    "    calculate_rates, 'women'\n",
    ")\n"
   ]
  },
  {
   "cell_type": "code",
   "execution_count": 11,
   "id": "191b1f0b",
   "metadata": {
    "execution": {
     "iopub.execute_input": "2023-11-17T09:53:29.705721Z",
     "iopub.status.busy": "2023-11-17T09:53:29.705524Z",
     "iopub.status.idle": "2023-11-17T09:53:29.711777Z",
     "shell.execute_reply": "2023-11-17T09:53:29.711396Z"
    },
    "papermill": {
     "duration": 0.010184,
     "end_time": "2023-11-17T09:53:29.712677",
     "exception": false,
     "start_time": "2023-11-17T09:53:29.702493",
     "status": "completed"
    },
    "tags": []
   },
   "outputs": [],
   "source": [
    "column_order = [\n",
    "  'people_age_16_to_24_neet_total_sa',\n",
    "  'people_age_16_to_24_neet_unemployed_sa',\n",
    "  'people_age_16_to_24_neet_economically_inactive_sa',\n",
    "  'people_age_16_to_24_population',\n",
    "  'people_age_16_to_24_neet_total_rate_sa',\n",
    "  'people_age_16_to_24_neet_unemployed_rate_sa',\n",
    "  'people_age_16_to_24_neet_economically_inactive_rate_sa',\n",
    "  'men_age_16_to_24_neet_total_sa',\n",
    "  'men_age_16_to_24_neet_unemployed_sa',\n",
    "  'men_age_16_to_24_neet_economically_inactive_sa',\n",
    "  'men_age_16_to_24_population',\n",
    "  'men_age_16_to_24_neet_total_rate_sa',\n",
    "  'men_age_16_to_24_neet_unemployed_rate_sa',\n",
    "  'men_age_16_to_24_neet_economically_inactive_rate_sa',\n",
    "  'women_age_16_to_24_neet_total_sa',\n",
    "  'women_age_16_to_24_neet_unemployed_sa',\n",
    "  'women_age_16_to_24_neet_economically_inactive_sa',\n",
    "  'women_age_16_to_24_population',\n",
    "  'women_age_16_to_24_neet_total_rate_sa',\n",
    "  'women_age_16_to_24_neet_unemployed_rate_sa',\n",
    "  'women_age_16_to_24_neet_economically_inactive_rate_sa'\n",
    "]\n",
    "\n",
    "data.loc[:, column_order].to_csv(NEET_16_24)"
   ]
  },
  {
   "cell_type": "code",
   "execution_count": 12,
   "id": "6d3052f7",
   "metadata": {
    "execution": {
     "iopub.execute_input": "2023-11-17T09:53:29.717487Z",
     "iopub.status.busy": "2023-11-17T09:53:29.717330Z",
     "iopub.status.idle": "2023-11-17T09:53:29.726243Z",
     "shell.execute_reply": "2023-11-17T09:53:29.725964Z"
    },
    "papermill": {
     "duration": 0.012327,
     "end_time": "2023-11-17T09:53:29.727012",
     "exception": false,
     "start_time": "2023-11-17T09:53:29.714685",
     "status": "completed"
    },
    "tags": []
   },
   "outputs": [
    {
     "data": {
      "text/plain": [
       "id                     object\n",
       "last_update    datetime64[ns]\n",
       "next_update    datetime64[ns]\n",
       "dtype: object"
      ]
     },
     "execution_count": 12,
     "metadata": {},
     "output_type": "execute_result"
    }
   ],
   "source": [
    "metadata = pd.read_csv(ALL_METADATA, parse_dates=['last_update', 'next_update'])\n",
    "metadata.set_index(\n",
    "    'id'\n",
    ").rename(\n",
    "    columns={\n",
    "        'last_update': 'published'\n",
    "    }\n",
    ").loc['NEET'].to_json(NEET_METADATA, date_format='iso')\n",
    "\n",
    "metadata.dtypes\n"
   ]
  },
  {
   "cell_type": "code",
   "execution_count": null,
   "id": "4f0badd3",
   "metadata": {
    "papermill": {
     "duration": 0.001561,
     "end_time": "2023-11-17T09:53:29.730142",
     "exception": false,
     "start_time": "2023-11-17T09:53:29.728581",
     "status": "completed"
    },
    "tags": []
   },
   "outputs": [],
   "source": []
  },
  {
   "cell_type": "code",
   "execution_count": null,
   "id": "a1d88000",
   "metadata": {
    "papermill": {
     "duration": 0.001243,
     "end_time": "2023-11-17T09:53:29.732773",
     "exception": false,
     "start_time": "2023-11-17T09:53:29.731530",
     "status": "completed"
    },
    "tags": []
   },
   "outputs": [],
   "source": []
  }
 ],
 "metadata": {
  "kernelspec": {
   "display_name": "yff-data-ansOWYcy",
   "language": "python",
   "name": "python3"
  },
  "language_info": {
   "codemirror_mode": {
    "name": "ipython",
    "version": 3
   },
   "file_extension": ".py",
   "mimetype": "text/x-python",
   "name": "python",
   "nbconvert_exporter": "python",
   "pygments_lexer": "ipython3",
   "version": "3.10.12"
  },
  "papermill": {
   "default_parameters": {},
   "duration": 1.229488,
   "end_time": "2023-11-17T09:53:29.950891",
   "environment_variables": {},
   "exception": null,
   "input_path": "transform.ipynb",
   "output_path": "../../working/output/neet-transform.ipynb",
   "parameters": {},
   "start_time": "2023-11-17T09:53:28.721403",
   "version": "2.4.0"
  }
 },
 "nbformat": 4,
 "nbformat_minor": 5
}