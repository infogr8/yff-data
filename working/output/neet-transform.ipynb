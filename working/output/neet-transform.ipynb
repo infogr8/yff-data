{
 "cells": [
  {
   "cell_type": "code",
   "execution_count": 1,
   "id": "42940ac5",
   "metadata": {
    "execution": {
     "iopub.execute_input": "2025-02-18T08:25:54.074517Z",
     "iopub.status.busy": "2025-02-18T08:25:54.074239Z",
     "iopub.status.idle": "2025-02-18T08:25:54.372151Z",
     "shell.execute_reply": "2025-02-18T08:25:54.371403Z"
    },
    "papermill": {
     "duration": 0.303596,
     "end_time": "2025-02-18T08:25:54.373962",
     "exception": false,
     "start_time": "2025-02-18T08:25:54.070366",
     "status": "completed"
    },
    "tags": []
   },
   "outputs": [],
   "source": [
    "import os\n",
    "import sys\n",
    "import pandas as pd\n",
    "\n",
    "LIB_DIR = '../../'\n",
    "if LIB_DIR not in sys.path:\n",
    "    sys.path.append(LIB_DIR)"
   ]
  },
  {
   "cell_type": "code",
   "execution_count": 2,
   "id": "bdf55d44",
   "metadata": {
    "execution": {
     "iopub.execute_input": "2025-02-18T08:25:54.379627Z",
     "iopub.status.busy": "2025-02-18T08:25:54.379008Z",
     "iopub.status.idle": "2025-02-18T08:25:54.383183Z",
     "shell.execute_reply": "2025-02-18T08:25:54.382703Z"
    },
    "papermill": {
     "duration": 0.008176,
     "end_time": "2025-02-18T08:25:54.384438",
     "exception": false,
     "start_time": "2025-02-18T08:25:54.376262",
     "status": "completed"
    },
    "tags": []
   },
   "outputs": [],
   "source": [
    "from scripts.util.date import quarter_to_date"
   ]
  },
  {
   "cell_type": "code",
   "execution_count": 3,
   "id": "fda31994",
   "metadata": {
    "execution": {
     "iopub.execute_input": "2025-02-18T08:25:54.389549Z",
     "iopub.status.busy": "2025-02-18T08:25:54.389044Z",
     "iopub.status.idle": "2025-02-18T08:25:54.392558Z",
     "shell.execute_reply": "2025-02-18T08:25:54.391913Z"
    },
    "papermill": {
     "duration": 0.007593,
     "end_time": "2025-02-18T08:25:54.393929",
     "exception": false,
     "start_time": "2025-02-18T08:25:54.386336",
     "status": "completed"
    },
    "tags": []
   },
   "outputs": [],
   "source": [
    "NEET_DATA = '../../working/upstream/neet.csv'\n",
    "ALL_METADATA = '../../working/upstream/metadata.csv'\n",
    "NEET_16_24 = '../../data/neet/neet.csv'\n",
    "NEET_METADATA = '../../data/neet/metadata.json'\n",
    "\n",
    "os.makedirs(os.path.dirname(NEET_16_24), exist_ok=True)"
   ]
  },
  {
   "cell_type": "code",
   "execution_count": 4,
   "id": "348e663e",
   "metadata": {
    "execution": {
     "iopub.execute_input": "2025-02-18T08:25:54.398657Z",
     "iopub.status.busy": "2025-02-18T08:25:54.398449Z",
     "iopub.status.idle": "2025-02-18T08:25:54.406747Z",
     "shell.execute_reply": "2025-02-18T08:25:54.406236Z"
    },
    "papermill": {
     "duration": 0.012257,
     "end_time": "2025-02-18T08:25:54.408090",
     "exception": false,
     "start_time": "2025-02-18T08:25:54.395833",
     "status": "completed"
    },
    "tags": []
   },
   "outputs": [],
   "source": [
    "data = pd.read_csv('../../working/upstream/neet.csv')"
   ]
  },
  {
   "cell_type": "code",
   "execution_count": 5,
   "id": "6d8c8c17",
   "metadata": {
    "execution": {
     "iopub.execute_input": "2025-02-18T08:25:54.412959Z",
     "iopub.status.busy": "2025-02-18T08:25:54.412774Z",
     "iopub.status.idle": "2025-02-18T08:25:54.415843Z",
     "shell.execute_reply": "2025-02-18T08:25:54.415283Z"
    },
    "papermill": {
     "duration": 0.007107,
     "end_time": "2025-02-18T08:25:54.417177",
     "exception": false,
     "start_time": "2025-02-18T08:25:54.410070",
     "status": "completed"
    },
    "tags": []
   },
   "outputs": [],
   "source": [
    "variable_mapper = {\n",
    "    'Young people who were NEET_Total': 'age_16_to_24_neet_total_sa',\n",
    "    'Young people who were NEET_Unemployed': 'age_16_to_24_neet_unemployed_sa',\n",
    "    'Young people who were NEET_Economically inactive': 'age_16_to_24_neet_economically_inactive_sa',\n",
    "    'Total people in relevant population group': 'age_16_to_24_population',\n",
    "    'People who were NEET as a percentage of people in relevant population group': 'age_16_to_24_neet_total_rate_sa',\n",
    "}"
   ]
  },
  {
   "cell_type": "code",
   "execution_count": 6,
   "id": "9d600ddb",
   "metadata": {
    "execution": {
     "iopub.execute_input": "2025-02-18T08:25:54.422361Z",
     "iopub.status.busy": "2025-02-18T08:25:54.421992Z",
     "iopub.status.idle": "2025-02-18T08:25:54.426007Z",
     "shell.execute_reply": "2025-02-18T08:25:54.425452Z"
    },
    "papermill": {
     "duration": 0.008103,
     "end_time": "2025-02-18T08:25:54.427319",
     "exception": false,
     "start_time": "2025-02-18T08:25:54.419216",
     "status": "completed"
    },
    "tags": []
   },
   "outputs": [],
   "source": [
    "data = data[data.age == 'Aged 16-24']"
   ]
  },
  {
   "cell_type": "code",
   "execution_count": 7,
   "id": "7ee8cafb",
   "metadata": {
    "execution": {
     "iopub.execute_input": "2025-02-18T08:25:54.432615Z",
     "iopub.status.busy": "2025-02-18T08:25:54.432096Z",
     "iopub.status.idle": "2025-02-18T08:25:54.436409Z",
     "shell.execute_reply": "2025-02-18T08:25:54.435912Z"
    },
    "papermill": {
     "duration": 0.008374,
     "end_time": "2025-02-18T08:25:54.437777",
     "exception": false,
     "start_time": "2025-02-18T08:25:54.429403",
     "status": "completed"
    },
    "tags": []
   },
   "outputs": [],
   "source": [
    "data = data.replace({\n",
    "  'measure': variable_mapper\n",
    "})"
   ]
  },
  {
   "cell_type": "code",
   "execution_count": 8,
   "id": "70bd9610",
   "metadata": {
    "execution": {
     "iopub.execute_input": "2025-02-18T08:25:54.443114Z",
     "iopub.status.busy": "2025-02-18T08:25:54.442521Z",
     "iopub.status.idle": "2025-02-18T08:25:54.452091Z",
     "shell.execute_reply": "2025-02-18T08:25:54.451483Z"
    },
    "papermill": {
     "duration": 0.013688,
     "end_time": "2025-02-18T08:25:54.453507",
     "exception": false,
     "start_time": "2025-02-18T08:25:54.439819",
     "status": "completed"
    },
    "tags": []
   },
   "outputs": [],
   "source": [
    "data['quarter_start'] = pd.Index(data.date.pipe(quarter_to_date))\n",
    "data['variable'] = data.sheet.str.split(' - ').apply(lambda x: x[0]).str.lower() + '_' + data.measure"
   ]
  },
  {
   "cell_type": "code",
   "execution_count": 9,
   "id": "b4893eaf",
   "metadata": {
    "execution": {
     "iopub.execute_input": "2025-02-18T08:25:54.458960Z",
     "iopub.status.busy": "2025-02-18T08:25:54.458423Z",
     "iopub.status.idle": "2025-02-18T08:25:54.467149Z",
     "shell.execute_reply": "2025-02-18T08:25:54.466503Z"
    },
    "papermill": {
     "duration": 0.012892,
     "end_time": "2025-02-18T08:25:54.468584",
     "exception": false,
     "start_time": "2025-02-18T08:25:54.455692",
     "status": "completed"
    },
    "tags": []
   },
   "outputs": [],
   "source": [
    "data = data.pivot_table(index='quarter_start', columns='variable', values='value')"
   ]
  },
  {
   "cell_type": "code",
   "execution_count": 10,
   "id": "f9898d8c",
   "metadata": {
    "execution": {
     "iopub.execute_input": "2025-02-18T08:25:54.474023Z",
     "iopub.status.busy": "2025-02-18T08:25:54.473502Z",
     "iopub.status.idle": "2025-02-18T08:25:54.480141Z",
     "shell.execute_reply": "2025-02-18T08:25:54.479498Z"
    },
    "papermill": {
     "duration": 0.010879,
     "end_time": "2025-02-18T08:25:54.481589",
     "exception": false,
     "start_time": "2025-02-18T08:25:54.470710",
     "status": "completed"
    },
    "tags": []
   },
   "outputs": [],
   "source": [
    "def calculate_rates(data, prefix):\n",
    "    data[prefix + '_age_16_to_24_neet_unemployed_rate_sa'] = data[prefix + '_age_16_to_24_neet_unemployed_sa'] / data[prefix + '_age_16_to_24_population'] * 100\n",
    "    data[prefix + '_age_16_to_24_neet_economically_inactive_rate_sa'] = data[prefix + '_age_16_to_24_neet_economically_inactive_sa'] / data[prefix + '_age_16_to_24_population'] * 100\n",
    "    return data\n",
    "  \n",
    "data = data.pipe(\n",
    "    calculate_rates, 'people'\n",
    ").pipe(\n",
    "    calculate_rates, 'men'\n",
    ").pipe(\n",
    "    calculate_rates, 'women'\n",
    ")\n"
   ]
  },
  {
   "cell_type": "code",
   "execution_count": 11,
   "id": "33e775fe",
   "metadata": {
    "execution": {
     "iopub.execute_input": "2025-02-18T08:25:54.487091Z",
     "iopub.status.busy": "2025-02-18T08:25:54.486908Z",
     "iopub.status.idle": "2025-02-18T08:25:54.493904Z",
     "shell.execute_reply": "2025-02-18T08:25:54.493253Z"
    },
    "papermill": {
     "duration": 0.01122,
     "end_time": "2025-02-18T08:25:54.495172",
     "exception": false,
     "start_time": "2025-02-18T08:25:54.483952",
     "status": "completed"
    },
    "tags": []
   },
   "outputs": [],
   "source": [
    "column_order = [\n",
    "  'people_age_16_to_24_neet_total_sa',\n",
    "  'people_age_16_to_24_neet_unemployed_sa',\n",
    "  'people_age_16_to_24_neet_economically_inactive_sa',\n",
    "  'people_age_16_to_24_population',\n",
    "  'people_age_16_to_24_neet_total_rate_sa',\n",
    "  'people_age_16_to_24_neet_unemployed_rate_sa',\n",
    "  'people_age_16_to_24_neet_economically_inactive_rate_sa',\n",
    "  'men_age_16_to_24_neet_total_sa',\n",
    "  'men_age_16_to_24_neet_unemployed_sa',\n",
    "  'men_age_16_to_24_neet_economically_inactive_sa',\n",
    "  'men_age_16_to_24_population',\n",
    "  'men_age_16_to_24_neet_total_rate_sa',\n",
    "  'men_age_16_to_24_neet_unemployed_rate_sa',\n",
    "  'men_age_16_to_24_neet_economically_inactive_rate_sa',\n",
    "  'women_age_16_to_24_neet_total_sa',\n",
    "  'women_age_16_to_24_neet_unemployed_sa',\n",
    "  'women_age_16_to_24_neet_economically_inactive_sa',\n",
    "  'women_age_16_to_24_population',\n",
    "  'women_age_16_to_24_neet_total_rate_sa',\n",
    "  'women_age_16_to_24_neet_unemployed_rate_sa',\n",
    "  'women_age_16_to_24_neet_economically_inactive_rate_sa'\n",
    "]\n",
    "\n",
    "data.loc[:, column_order].to_csv(NEET_16_24)"
   ]
  },
  {
   "cell_type": "code",
   "execution_count": 12,
   "id": "8c519903",
   "metadata": {
    "execution": {
     "iopub.execute_input": "2025-02-18T08:25:54.500554Z",
     "iopub.status.busy": "2025-02-18T08:25:54.500180Z",
     "iopub.status.idle": "2025-02-18T08:25:54.512118Z",
     "shell.execute_reply": "2025-02-18T08:25:54.511496Z"
    },
    "papermill": {
     "duration": 0.016104,
     "end_time": "2025-02-18T08:25:54.513443",
     "exception": false,
     "start_time": "2025-02-18T08:25:54.497339",
     "status": "completed"
    },
    "tags": []
   },
   "outputs": [
    {
     "data": {
      "text/plain": [
       "id                     object\n",
       "last_update    datetime64[ns]\n",
       "next_update            object\n",
       "dtype: object"
      ]
     },
     "execution_count": 12,
     "metadata": {},
     "output_type": "execute_result"
    }
   ],
   "source": [
    "metadata = pd.read_csv(ALL_METADATA, parse_dates=['last_update', 'next_update'])\n",
    "metadata.set_index(\n",
    "    'id'\n",
    ").rename(\n",
    "    columns={\n",
    "        'last_update': 'published'\n",
    "    }\n",
    ").loc['NEET'].to_json(NEET_METADATA, date_format='iso')\n",
    "\n",
    "metadata.dtypes\n"
   ]
  },
  {
   "cell_type": "code",
   "execution_count": null,
   "id": "3498a759",
   "metadata": {
    "papermill": {
     "duration": 0.002286,
     "end_time": "2025-02-18T08:25:54.518056",
     "exception": false,
     "start_time": "2025-02-18T08:25:54.515770",
     "status": "completed"
    },
    "tags": []
   },
   "outputs": [],
   "source": []
  },
  {
   "cell_type": "code",
   "execution_count": null,
   "id": "1d82f723",
   "metadata": {
    "papermill": {
     "duration": 0.002236,
     "end_time": "2025-02-18T08:25:54.522515",
     "exception": false,
     "start_time": "2025-02-18T08:25:54.520279",
     "status": "completed"
    },
    "tags": []
   },
   "outputs": [],
   "source": []
  }
 ],
 "metadata": {
  "kernelspec": {
   "display_name": "yff-data-ansOWYcy",
   "language": "python",
   "name": "python3"
  },
  "language_info": {
   "codemirror_mode": {
    "name": "ipython",
    "version": 3
   },
   "file_extension": ".py",
   "mimetype": "text/x-python",
   "name": "python",
   "nbconvert_exporter": "python",
   "pygments_lexer": "ipython3",
   "version": "3.10.16"
  },
  "papermill": {
   "default_parameters": {},
   "duration": 2.415818,
   "end_time": "2025-02-18T08:25:54.740584",
   "environment_variables": {},
   "exception": null,
   "input_path": "transform.ipynb",
   "output_path": "../../working/output/neet-transform.ipynb",
   "parameters": {},
   "start_time": "2025-02-18T08:25:52.324766",
   "version": "2.5.0"
  }
 },
 "nbformat": 4,
 "nbformat_minor": 5
}