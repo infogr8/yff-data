{
 "cells": [
  {
   "cell_type": "code",
   "execution_count": 1,
   "id": "d6d5d249",
   "metadata": {
    "execution": {
     "iopub.execute_input": "2024-11-12T09:02:05.042266Z",
     "iopub.status.busy": "2024-11-12T09:02:05.042044Z",
     "iopub.status.idle": "2024-11-12T09:02:05.341942Z",
     "shell.execute_reply": "2024-11-12T09:02:05.341228Z"
    },
    "papermill": {
     "duration": 0.305797,
     "end_time": "2024-11-12T09:02:05.343832",
     "exception": false,
     "start_time": "2024-11-12T09:02:05.038035",
     "status": "completed"
    },
    "tags": []
   },
   "outputs": [],
   "source": [
    "import os\n",
    "import sys\n",
    "import pandas as pd\n",
    "\n",
    "LIB_DIR = '../../'\n",
    "if LIB_DIR not in sys.path:\n",
    "    sys.path.append(LIB_DIR)"
   ]
  },
  {
   "cell_type": "code",
   "execution_count": 2,
   "id": "4b5fcca4",
   "metadata": {
    "execution": {
     "iopub.execute_input": "2024-11-12T09:02:05.349254Z",
     "iopub.status.busy": "2024-11-12T09:02:05.348793Z",
     "iopub.status.idle": "2024-11-12T09:02:05.353156Z",
     "shell.execute_reply": "2024-11-12T09:02:05.352618Z"
    },
    "papermill": {
     "duration": 0.008416,
     "end_time": "2024-11-12T09:02:05.354496",
     "exception": false,
     "start_time": "2024-11-12T09:02:05.346080",
     "status": "completed"
    },
    "tags": []
   },
   "outputs": [],
   "source": [
    "from scripts.util.date import quarter_to_date"
   ]
  },
  {
   "cell_type": "code",
   "execution_count": 3,
   "id": "c6241022",
   "metadata": {
    "execution": {
     "iopub.execute_input": "2024-11-12T09:02:05.359416Z",
     "iopub.status.busy": "2024-11-12T09:02:05.358999Z",
     "iopub.status.idle": "2024-11-12T09:02:05.362334Z",
     "shell.execute_reply": "2024-11-12T09:02:05.361694Z"
    },
    "papermill": {
     "duration": 0.007332,
     "end_time": "2024-11-12T09:02:05.363697",
     "exception": false,
     "start_time": "2024-11-12T09:02:05.356365",
     "status": "completed"
    },
    "tags": []
   },
   "outputs": [],
   "source": [
    "NEET_DATA = '../../working/upstream/neet.csv'\n",
    "ALL_METADATA = '../../working/upstream/metadata.csv'\n",
    "NEET_16_24 = '../../data/neet/neet.csv'\n",
    "NEET_METADATA = '../../data/neet/metadata.json'\n",
    "\n",
    "os.makedirs(os.path.dirname(NEET_16_24), exist_ok=True)"
   ]
  },
  {
   "cell_type": "code",
   "execution_count": 4,
   "id": "0ef554b1",
   "metadata": {
    "execution": {
     "iopub.execute_input": "2024-11-12T09:02:05.368525Z",
     "iopub.status.busy": "2024-11-12T09:02:05.368154Z",
     "iopub.status.idle": "2024-11-12T09:02:05.376466Z",
     "shell.execute_reply": "2024-11-12T09:02:05.375964Z"
    },
    "papermill": {
     "duration": 0.01214,
     "end_time": "2024-11-12T09:02:05.377731",
     "exception": false,
     "start_time": "2024-11-12T09:02:05.365591",
     "status": "completed"
    },
    "tags": []
   },
   "outputs": [],
   "source": [
    "data = pd.read_csv('../../working/upstream/neet.csv')"
   ]
  },
  {
   "cell_type": "code",
   "execution_count": 5,
   "id": "413d3585",
   "metadata": {
    "execution": {
     "iopub.execute_input": "2024-11-12T09:02:05.382751Z",
     "iopub.status.busy": "2024-11-12T09:02:05.382233Z",
     "iopub.status.idle": "2024-11-12T09:02:05.385537Z",
     "shell.execute_reply": "2024-11-12T09:02:05.384912Z"
    },
    "papermill": {
     "duration": 0.007246,
     "end_time": "2024-11-12T09:02:05.386927",
     "exception": false,
     "start_time": "2024-11-12T09:02:05.379681",
     "status": "completed"
    },
    "tags": []
   },
   "outputs": [],
   "source": [
    "variable_mapper = {\n",
    "    'Young people who were NEET_Total': 'age_16_to_24_neet_total_sa',\n",
    "    'Young people who were NEET_Unemployed': 'age_16_to_24_neet_unemployed_sa',\n",
    "    'Young people who were NEET_Economically inactive': 'age_16_to_24_neet_economically_inactive_sa',\n",
    "    'Total people in relevant population group': 'age_16_to_24_population',\n",
    "    'People who were NEET as a percentage of people in relevant population group': 'age_16_to_24_neet_total_rate_sa',\n",
    "}"
   ]
  },
  {
   "cell_type": "code",
   "execution_count": 6,
   "id": "decbcce1",
   "metadata": {
    "execution": {
     "iopub.execute_input": "2024-11-12T09:02:05.391874Z",
     "iopub.status.busy": "2024-11-12T09:02:05.391542Z",
     "iopub.status.idle": "2024-11-12T09:02:05.395368Z",
     "shell.execute_reply": "2024-11-12T09:02:05.394844Z"
    },
    "papermill": {
     "duration": 0.007803,
     "end_time": "2024-11-12T09:02:05.396710",
     "exception": false,
     "start_time": "2024-11-12T09:02:05.388907",
     "status": "completed"
    },
    "tags": []
   },
   "outputs": [],
   "source": [
    "data = data[data.age == 'Aged 16-24']"
   ]
  },
  {
   "cell_type": "code",
   "execution_count": 7,
   "id": "1a05a107",
   "metadata": {
    "execution": {
     "iopub.execute_input": "2024-11-12T09:02:05.401455Z",
     "iopub.status.busy": "2024-11-12T09:02:05.401257Z",
     "iopub.status.idle": "2024-11-12T09:02:05.405824Z",
     "shell.execute_reply": "2024-11-12T09:02:05.405187Z"
    },
    "papermill": {
     "duration": 0.008532,
     "end_time": "2024-11-12T09:02:05.407255",
     "exception": false,
     "start_time": "2024-11-12T09:02:05.398723",
     "status": "completed"
    },
    "tags": []
   },
   "outputs": [],
   "source": [
    "data = data.replace({\n",
    "  'measure': variable_mapper\n",
    "})"
   ]
  },
  {
   "cell_type": "code",
   "execution_count": 8,
   "id": "0b6f6263",
   "metadata": {
    "execution": {
     "iopub.execute_input": "2024-11-12T09:02:05.412176Z",
     "iopub.status.busy": "2024-11-12T09:02:05.411827Z",
     "iopub.status.idle": "2024-11-12T09:02:05.421096Z",
     "shell.execute_reply": "2024-11-12T09:02:05.420459Z"
    },
    "papermill": {
     "duration": 0.013149,
     "end_time": "2024-11-12T09:02:05.422396",
     "exception": false,
     "start_time": "2024-11-12T09:02:05.409247",
     "status": "completed"
    },
    "tags": []
   },
   "outputs": [],
   "source": [
    "data['quarter_start'] = pd.Index(data.date.pipe(quarter_to_date))\n",
    "data['variable'] = data.sheet.str.split(' - ').apply(lambda x: x[0]).str.lower() + '_' + data.measure"
   ]
  },
  {
   "cell_type": "code",
   "execution_count": 9,
   "id": "e487a278",
   "metadata": {
    "execution": {
     "iopub.execute_input": "2024-11-12T09:02:05.427522Z",
     "iopub.status.busy": "2024-11-12T09:02:05.427164Z",
     "iopub.status.idle": "2024-11-12T09:02:05.434800Z",
     "shell.execute_reply": "2024-11-12T09:02:05.434141Z"
    },
    "papermill": {
     "duration": 0.011708,
     "end_time": "2024-11-12T09:02:05.436182",
     "exception": false,
     "start_time": "2024-11-12T09:02:05.424474",
     "status": "completed"
    },
    "tags": []
   },
   "outputs": [],
   "source": [
    "data = data.pivot_table(index='quarter_start', columns='variable', values='value')"
   ]
  },
  {
   "cell_type": "code",
   "execution_count": 10,
   "id": "193b174a",
   "metadata": {
    "execution": {
     "iopub.execute_input": "2024-11-12T09:02:05.442861Z",
     "iopub.status.busy": "2024-11-12T09:02:05.442640Z",
     "iopub.status.idle": "2024-11-12T09:02:05.449349Z",
     "shell.execute_reply": "2024-11-12T09:02:05.448756Z"
    },
    "papermill": {
     "duration": 0.012325,
     "end_time": "2024-11-12T09:02:05.450672",
     "exception": false,
     "start_time": "2024-11-12T09:02:05.438347",
     "status": "completed"
    },
    "tags": []
   },
   "outputs": [],
   "source": [
    "def calculate_rates(data, prefix):\n",
    "    data[prefix + '_age_16_to_24_neet_unemployed_rate_sa'] = data[prefix + '_age_16_to_24_neet_unemployed_sa'] / data[prefix + '_age_16_to_24_population'] * 100\n",
    "    data[prefix + '_age_16_to_24_neet_economically_inactive_rate_sa'] = data[prefix + '_age_16_to_24_neet_economically_inactive_sa'] / data[prefix + '_age_16_to_24_population'] * 100\n",
    "    return data\n",
    "  \n",
    "data = data.pipe(\n",
    "    calculate_rates, 'people'\n",
    ").pipe(\n",
    "    calculate_rates, 'men'\n",
    ").pipe(\n",
    "    calculate_rates, 'women'\n",
    ")\n"
   ]
  },
  {
   "cell_type": "code",
   "execution_count": 11,
   "id": "665baa73",
   "metadata": {
    "execution": {
     "iopub.execute_input": "2024-11-12T09:02:05.456114Z",
     "iopub.status.busy": "2024-11-12T09:02:05.455774Z",
     "iopub.status.idle": "2024-11-12T09:02:05.462779Z",
     "shell.execute_reply": "2024-11-12T09:02:05.462154Z"
    },
    "papermill": {
     "duration": 0.011172,
     "end_time": "2024-11-12T09:02:05.464055",
     "exception": false,
     "start_time": "2024-11-12T09:02:05.452883",
     "status": "completed"
    },
    "tags": []
   },
   "outputs": [],
   "source": [
    "column_order = [\n",
    "  'people_age_16_to_24_neet_total_sa',\n",
    "  'people_age_16_to_24_neet_unemployed_sa',\n",
    "  'people_age_16_to_24_neet_economically_inactive_sa',\n",
    "  'people_age_16_to_24_population',\n",
    "  'people_age_16_to_24_neet_total_rate_sa',\n",
    "  'people_age_16_to_24_neet_unemployed_rate_sa',\n",
    "  'people_age_16_to_24_neet_economically_inactive_rate_sa',\n",
    "  'men_age_16_to_24_neet_total_sa',\n",
    "  'men_age_16_to_24_neet_unemployed_sa',\n",
    "  'men_age_16_to_24_neet_economically_inactive_sa',\n",
    "  'men_age_16_to_24_population',\n",
    "  'men_age_16_to_24_neet_total_rate_sa',\n",
    "  'men_age_16_to_24_neet_unemployed_rate_sa',\n",
    "  'men_age_16_to_24_neet_economically_inactive_rate_sa',\n",
    "  'women_age_16_to_24_neet_total_sa',\n",
    "  'women_age_16_to_24_neet_unemployed_sa',\n",
    "  'women_age_16_to_24_neet_economically_inactive_sa',\n",
    "  'women_age_16_to_24_population',\n",
    "  'women_age_16_to_24_neet_total_rate_sa',\n",
    "  'women_age_16_to_24_neet_unemployed_rate_sa',\n",
    "  'women_age_16_to_24_neet_economically_inactive_rate_sa'\n",
    "]\n",
    "\n",
    "data.loc[:, column_order].to_csv(NEET_16_24)"
   ]
  },
  {
   "cell_type": "code",
   "execution_count": 12,
   "id": "7c26f4f8",
   "metadata": {
    "execution": {
     "iopub.execute_input": "2024-11-12T09:02:05.470499Z",
     "iopub.status.busy": "2024-11-12T09:02:05.470117Z",
     "iopub.status.idle": "2024-11-12T09:02:05.481944Z",
     "shell.execute_reply": "2024-11-12T09:02:05.481335Z"
    },
    "papermill": {
     "duration": 0.017097,
     "end_time": "2024-11-12T09:02:05.483296",
     "exception": false,
     "start_time": "2024-11-12T09:02:05.466199",
     "status": "completed"
    },
    "tags": []
   },
   "outputs": [
    {
     "data": {
      "text/plain": [
       "id                     object\n",
       "last_update    datetime64[ns]\n",
       "next_update            object\n",
       "dtype: object"
      ]
     },
     "execution_count": 12,
     "metadata": {},
     "output_type": "execute_result"
    }
   ],
   "source": [
    "metadata = pd.read_csv(ALL_METADATA, parse_dates=['last_update', 'next_update'])\n",
    "metadata.set_index(\n",
    "    'id'\n",
    ").rename(\n",
    "    columns={\n",
    "        'last_update': 'published'\n",
    "    }\n",
    ").loc['NEET'].to_json(NEET_METADATA, date_format='iso')\n",
    "\n",
    "metadata.dtypes\n"
   ]
  },
  {
   "cell_type": "code",
   "execution_count": null,
   "id": "42a553bc",
   "metadata": {
    "papermill": {
     "duration": 0.002292,
     "end_time": "2024-11-12T09:02:05.487923",
     "exception": false,
     "start_time": "2024-11-12T09:02:05.485631",
     "status": "completed"
    },
    "tags": []
   },
   "outputs": [],
   "source": []
  },
  {
   "cell_type": "code",
   "execution_count": null,
   "id": "28cc7def",
   "metadata": {
    "papermill": {
     "duration": 0.00216,
     "end_time": "2024-11-12T09:02:05.492323",
     "exception": false,
     "start_time": "2024-11-12T09:02:05.490163",
     "status": "completed"
    },
    "tags": []
   },
   "outputs": [],
   "source": []
  }
 ],
 "metadata": {
  "kernelspec": {
   "display_name": "yff-data-ansOWYcy",
   "language": "python",
   "name": "python3"
  },
  "language_info": {
   "codemirror_mode": {
    "name": "ipython",
    "version": 3
   },
   "file_extension": ".py",
   "mimetype": "text/x-python",
   "name": "python",
   "nbconvert_exporter": "python",
   "pygments_lexer": "ipython3",
   "version": "3.10.15"
  },
  "papermill": {
   "default_parameters": {},
   "duration": 1.868745,
   "end_time": "2024-11-12T09:02:05.710367",
   "environment_variables": {},
   "exception": null,
   "input_path": "transform.ipynb",
   "output_path": "../../working/output/neet-transform.ipynb",
   "parameters": {},
   "start_time": "2024-11-12T09:02:03.841622",
   "version": "2.5.0"
  }
 },
 "nbformat": 4,
 "nbformat_minor": 5
}