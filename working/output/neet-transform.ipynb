{
 "cells": [
  {
   "cell_type": "code",
   "execution_count": 1,
   "id": "ccbec0da",
   "metadata": {
    "execution": {
     "iopub.execute_input": "2025-01-22T14:33:38.135894Z",
     "iopub.status.busy": "2025-01-22T14:33:38.135604Z",
     "iopub.status.idle": "2025-01-22T14:33:38.436182Z",
     "shell.execute_reply": "2025-01-22T14:33:38.435574Z"
    },
    "papermill": {
     "duration": 0.305828,
     "end_time": "2025-01-22T14:33:38.437803",
     "exception": false,
     "start_time": "2025-01-22T14:33:38.131975",
     "status": "completed"
    },
    "tags": []
   },
   "outputs": [],
   "source": [
    "import os\n",
    "import sys\n",
    "import pandas as pd\n",
    "\n",
    "LIB_DIR = '../../'\n",
    "if LIB_DIR not in sys.path:\n",
    "    sys.path.append(LIB_DIR)"
   ]
  },
  {
   "cell_type": "code",
   "execution_count": 2,
   "id": "555fb8ef",
   "metadata": {
    "execution": {
     "iopub.execute_input": "2025-01-22T14:33:38.443161Z",
     "iopub.status.busy": "2025-01-22T14:33:38.442692Z",
     "iopub.status.idle": "2025-01-22T14:33:38.446840Z",
     "shell.execute_reply": "2025-01-22T14:33:38.446217Z"
    },
    "papermill": {
     "duration": 0.008117,
     "end_time": "2025-01-22T14:33:38.448201",
     "exception": false,
     "start_time": "2025-01-22T14:33:38.440084",
     "status": "completed"
    },
    "tags": []
   },
   "outputs": [],
   "source": [
    "from scripts.util.date import quarter_to_date"
   ]
  },
  {
   "cell_type": "code",
   "execution_count": 3,
   "id": "647b4d0d",
   "metadata": {
    "execution": {
     "iopub.execute_input": "2025-01-22T14:33:38.452878Z",
     "iopub.status.busy": "2025-01-22T14:33:38.452672Z",
     "iopub.status.idle": "2025-01-22T14:33:38.455997Z",
     "shell.execute_reply": "2025-01-22T14:33:38.455383Z"
    },
    "papermill": {
     "duration": 0.007182,
     "end_time": "2025-01-22T14:33:38.457296",
     "exception": false,
     "start_time": "2025-01-22T14:33:38.450114",
     "status": "completed"
    },
    "tags": []
   },
   "outputs": [],
   "source": [
    "NEET_DATA = '../../working/upstream/neet.csv'\n",
    "ALL_METADATA = '../../working/upstream/metadata.csv'\n",
    "NEET_16_24 = '../../data/neet/neet.csv'\n",
    "NEET_METADATA = '../../data/neet/metadata.json'\n",
    "\n",
    "os.makedirs(os.path.dirname(NEET_16_24), exist_ok=True)"
   ]
  },
  {
   "cell_type": "code",
   "execution_count": 4,
   "id": "a2a21ee0",
   "metadata": {
    "execution": {
     "iopub.execute_input": "2025-01-22T14:33:38.462059Z",
     "iopub.status.busy": "2025-01-22T14:33:38.461673Z",
     "iopub.status.idle": "2025-01-22T14:33:38.470281Z",
     "shell.execute_reply": "2025-01-22T14:33:38.469797Z"
    },
    "papermill": {
     "duration": 0.012354,
     "end_time": "2025-01-22T14:33:38.471567",
     "exception": false,
     "start_time": "2025-01-22T14:33:38.459213",
     "status": "completed"
    },
    "tags": []
   },
   "outputs": [],
   "source": [
    "data = pd.read_csv('../../working/upstream/neet.csv')"
   ]
  },
  {
   "cell_type": "code",
   "execution_count": 5,
   "id": "20dbfe23",
   "metadata": {
    "execution": {
     "iopub.execute_input": "2025-01-22T14:33:38.476550Z",
     "iopub.status.busy": "2025-01-22T14:33:38.476136Z",
     "iopub.status.idle": "2025-01-22T14:33:38.479246Z",
     "shell.execute_reply": "2025-01-22T14:33:38.478655Z"
    },
    "papermill": {
     "duration": 0.006995,
     "end_time": "2025-01-22T14:33:38.480526",
     "exception": false,
     "start_time": "2025-01-22T14:33:38.473531",
     "status": "completed"
    },
    "tags": []
   },
   "outputs": [],
   "source": [
    "variable_mapper = {\n",
    "    'Young people who were NEET_Total': 'age_16_to_24_neet_total_sa',\n",
    "    'Young people who were NEET_Unemployed': 'age_16_to_24_neet_unemployed_sa',\n",
    "    'Young people who were NEET_Economically inactive': 'age_16_to_24_neet_economically_inactive_sa',\n",
    "    'Total people in relevant population group': 'age_16_to_24_population',\n",
    "    'People who were NEET as a percentage of people in relevant population group': 'age_16_to_24_neet_total_rate_sa',\n",
    "}"
   ]
  },
  {
   "cell_type": "code",
   "execution_count": 6,
   "id": "6eeafc96",
   "metadata": {
    "execution": {
     "iopub.execute_input": "2025-01-22T14:33:38.485815Z",
     "iopub.status.busy": "2025-01-22T14:33:38.485208Z",
     "iopub.status.idle": "2025-01-22T14:33:38.489250Z",
     "shell.execute_reply": "2025-01-22T14:33:38.488720Z"
    },
    "papermill": {
     "duration": 0.007971,
     "end_time": "2025-01-22T14:33:38.490498",
     "exception": false,
     "start_time": "2025-01-22T14:33:38.482527",
     "status": "completed"
    },
    "tags": []
   },
   "outputs": [],
   "source": [
    "data = data[data.age == 'Aged 16-24']"
   ]
  },
  {
   "cell_type": "code",
   "execution_count": 7,
   "id": "add1492f",
   "metadata": {
    "execution": {
     "iopub.execute_input": "2025-01-22T14:33:38.495593Z",
     "iopub.status.busy": "2025-01-22T14:33:38.495117Z",
     "iopub.status.idle": "2025-01-22T14:33:38.499573Z",
     "shell.execute_reply": "2025-01-22T14:33:38.498925Z"
    },
    "papermill": {
     "duration": 0.008416,
     "end_time": "2025-01-22T14:33:38.500940",
     "exception": false,
     "start_time": "2025-01-22T14:33:38.492524",
     "status": "completed"
    },
    "tags": []
   },
   "outputs": [],
   "source": [
    "data = data.replace({\n",
    "  'measure': variable_mapper\n",
    "})"
   ]
  },
  {
   "cell_type": "code",
   "execution_count": 8,
   "id": "cb971c4b",
   "metadata": {
    "execution": {
     "iopub.execute_input": "2025-01-22T14:33:38.505892Z",
     "iopub.status.busy": "2025-01-22T14:33:38.505691Z",
     "iopub.status.idle": "2025-01-22T14:33:38.514903Z",
     "shell.execute_reply": "2025-01-22T14:33:38.514331Z"
    },
    "papermill": {
     "duration": 0.013229,
     "end_time": "2025-01-22T14:33:38.516239",
     "exception": false,
     "start_time": "2025-01-22T14:33:38.503010",
     "status": "completed"
    },
    "tags": []
   },
   "outputs": [],
   "source": [
    "data['quarter_start'] = pd.Index(data.date.pipe(quarter_to_date))\n",
    "data['variable'] = data.sheet.str.split(' - ').apply(lambda x: x[0]).str.lower() + '_' + data.measure"
   ]
  },
  {
   "cell_type": "code",
   "execution_count": 9,
   "id": "8709730d",
   "metadata": {
    "execution": {
     "iopub.execute_input": "2025-01-22T14:33:38.521410Z",
     "iopub.status.busy": "2025-01-22T14:33:38.521044Z",
     "iopub.status.idle": "2025-01-22T14:33:38.529143Z",
     "shell.execute_reply": "2025-01-22T14:33:38.528619Z"
    },
    "papermill": {
     "duration": 0.012095,
     "end_time": "2025-01-22T14:33:38.530433",
     "exception": false,
     "start_time": "2025-01-22T14:33:38.518338",
     "status": "completed"
    },
    "tags": []
   },
   "outputs": [],
   "source": [
    "data = data.pivot_table(index='quarter_start', columns='variable', values='value')"
   ]
  },
  {
   "cell_type": "code",
   "execution_count": 10,
   "id": "a5bb5428",
   "metadata": {
    "execution": {
     "iopub.execute_input": "2025-01-22T14:33:38.535577Z",
     "iopub.status.busy": "2025-01-22T14:33:38.535333Z",
     "iopub.status.idle": "2025-01-22T14:33:38.542227Z",
     "shell.execute_reply": "2025-01-22T14:33:38.541681Z"
    },
    "papermill": {
     "duration": 0.010934,
     "end_time": "2025-01-22T14:33:38.543491",
     "exception": false,
     "start_time": "2025-01-22T14:33:38.532557",
     "status": "completed"
    },
    "tags": []
   },
   "outputs": [],
   "source": [
    "def calculate_rates(data, prefix):\n",
    "    data[prefix + '_age_16_to_24_neet_unemployed_rate_sa'] = data[prefix + '_age_16_to_24_neet_unemployed_sa'] / data[prefix + '_age_16_to_24_population'] * 100\n",
    "    data[prefix + '_age_16_to_24_neet_economically_inactive_rate_sa'] = data[prefix + '_age_16_to_24_neet_economically_inactive_sa'] / data[prefix + '_age_16_to_24_population'] * 100\n",
    "    return data\n",
    "  \n",
    "data = data.pipe(\n",
    "    calculate_rates, 'people'\n",
    ").pipe(\n",
    "    calculate_rates, 'men'\n",
    ").pipe(\n",
    "    calculate_rates, 'women'\n",
    ")\n"
   ]
  },
  {
   "cell_type": "code",
   "execution_count": 11,
   "id": "26fc0f52",
   "metadata": {
    "execution": {
     "iopub.execute_input": "2025-01-22T14:33:38.549038Z",
     "iopub.status.busy": "2025-01-22T14:33:38.548683Z",
     "iopub.status.idle": "2025-01-22T14:33:38.556103Z",
     "shell.execute_reply": "2025-01-22T14:33:38.555465Z"
    },
    "papermill": {
     "duration": 0.011762,
     "end_time": "2025-01-22T14:33:38.557513",
     "exception": false,
     "start_time": "2025-01-22T14:33:38.545751",
     "status": "completed"
    },
    "tags": []
   },
   "outputs": [],
   "source": [
    "column_order = [\n",
    "  'people_age_16_to_24_neet_total_sa',\n",
    "  'people_age_16_to_24_neet_unemployed_sa',\n",
    "  'people_age_16_to_24_neet_economically_inactive_sa',\n",
    "  'people_age_16_to_24_population',\n",
    "  'people_age_16_to_24_neet_total_rate_sa',\n",
    "  'people_age_16_to_24_neet_unemployed_rate_sa',\n",
    "  'people_age_16_to_24_neet_economically_inactive_rate_sa',\n",
    "  'men_age_16_to_24_neet_total_sa',\n",
    "  'men_age_16_to_24_neet_unemployed_sa',\n",
    "  'men_age_16_to_24_neet_economically_inactive_sa',\n",
    "  'men_age_16_to_24_population',\n",
    "  'men_age_16_to_24_neet_total_rate_sa',\n",
    "  'men_age_16_to_24_neet_unemployed_rate_sa',\n",
    "  'men_age_16_to_24_neet_economically_inactive_rate_sa',\n",
    "  'women_age_16_to_24_neet_total_sa',\n",
    "  'women_age_16_to_24_neet_unemployed_sa',\n",
    "  'women_age_16_to_24_neet_economically_inactive_sa',\n",
    "  'women_age_16_to_24_population',\n",
    "  'women_age_16_to_24_neet_total_rate_sa',\n",
    "  'women_age_16_to_24_neet_unemployed_rate_sa',\n",
    "  'women_age_16_to_24_neet_economically_inactive_rate_sa'\n",
    "]\n",
    "\n",
    "data.loc[:, column_order].to_csv(NEET_16_24)"
   ]
  },
  {
   "cell_type": "code",
   "execution_count": 12,
   "id": "c55644a7",
   "metadata": {
    "execution": {
     "iopub.execute_input": "2025-01-22T14:33:38.562889Z",
     "iopub.status.busy": "2025-01-22T14:33:38.562541Z",
     "iopub.status.idle": "2025-01-22T14:33:38.574354Z",
     "shell.execute_reply": "2025-01-22T14:33:38.573684Z"
    },
    "papermill": {
     "duration": 0.016097,
     "end_time": "2025-01-22T14:33:38.575759",
     "exception": false,
     "start_time": "2025-01-22T14:33:38.559662",
     "status": "completed"
    },
    "tags": []
   },
   "outputs": [
    {
     "data": {
      "text/plain": [
       "id                     object\n",
       "last_update    datetime64[ns]\n",
       "next_update            object\n",
       "dtype: object"
      ]
     },
     "execution_count": 12,
     "metadata": {},
     "output_type": "execute_result"
    }
   ],
   "source": [
    "metadata = pd.read_csv(ALL_METADATA, parse_dates=['last_update', 'next_update'])\n",
    "metadata.set_index(\n",
    "    'id'\n",
    ").rename(\n",
    "    columns={\n",
    "        'last_update': 'published'\n",
    "    }\n",
    ").loc['NEET'].to_json(NEET_METADATA, date_format='iso')\n",
    "\n",
    "metadata.dtypes\n"
   ]
  },
  {
   "cell_type": "code",
   "execution_count": null,
   "id": "8290234d",
   "metadata": {
    "papermill": {
     "duration": 0.002251,
     "end_time": "2025-01-22T14:33:38.580319",
     "exception": false,
     "start_time": "2025-01-22T14:33:38.578068",
     "status": "completed"
    },
    "tags": []
   },
   "outputs": [],
   "source": []
  },
  {
   "cell_type": "code",
   "execution_count": null,
   "id": "d4402f6b",
   "metadata": {
    "papermill": {
     "duration": 0.002158,
     "end_time": "2025-01-22T14:33:38.584703",
     "exception": false,
     "start_time": "2025-01-22T14:33:38.582545",
     "status": "completed"
    },
    "tags": []
   },
   "outputs": [],
   "source": []
  }
 ],
 "metadata": {
  "kernelspec": {
   "display_name": "yff-data-ansOWYcy",
   "language": "python",
   "name": "python3"
  },
  "language_info": {
   "codemirror_mode": {
    "name": "ipython",
    "version": 3
   },
   "file_extension": ".py",
   "mimetype": "text/x-python",
   "name": "python",
   "nbconvert_exporter": "python",
   "pygments_lexer": "ipython3",
   "version": "3.10.16"
  },
  "papermill": {
   "default_parameters": {},
   "duration": 1.846408,
   "end_time": "2025-01-22T14:33:38.802896",
   "environment_variables": {},
   "exception": null,
   "input_path": "transform.ipynb",
   "output_path": "../../working/output/neet-transform.ipynb",
   "parameters": {},
   "start_time": "2025-01-22T14:33:36.956488",
   "version": "2.5.0"
  }
 },
 "nbformat": 4,
 "nbformat_minor": 5
}