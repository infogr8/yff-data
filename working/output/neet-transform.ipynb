{
 "cells": [
  {
   "cell_type": "code",
   "execution_count": 1,
   "id": "ac90490b",
   "metadata": {
    "execution": {
     "iopub.execute_input": "2023-10-16T15:38:22.080378Z",
     "iopub.status.busy": "2023-10-16T15:38:22.080036Z",
     "iopub.status.idle": "2023-10-16T15:38:22.248000Z",
     "shell.execute_reply": "2023-10-16T15:38:22.247627Z"
    },
    "papermill": {
     "duration": 0.174421,
     "end_time": "2023-10-16T15:38:22.248967",
     "exception": false,
     "start_time": "2023-10-16T15:38:22.074546",
     "status": "completed"
    },
    "tags": []
   },
   "outputs": [],
   "source": [
    "import os\n",
    "import sys\n",
    "import pandas as pd\n",
    "\n",
    "LIB_DIR = '../../'\n",
    "if LIB_DIR not in sys.path:\n",
    "    sys.path.append(LIB_DIR)"
   ]
  },
  {
   "cell_type": "code",
   "execution_count": 2,
   "id": "f0d30a39",
   "metadata": {
    "execution": {
     "iopub.execute_input": "2023-10-16T15:38:22.252149Z",
     "iopub.status.busy": "2023-10-16T15:38:22.251965Z",
     "iopub.status.idle": "2023-10-16T15:38:22.254345Z",
     "shell.execute_reply": "2023-10-16T15:38:22.254063Z"
    },
    "papermill": {
     "duration": 0.00477,
     "end_time": "2023-10-16T15:38:22.255095",
     "exception": false,
     "start_time": "2023-10-16T15:38:22.250325",
     "status": "completed"
    },
    "tags": []
   },
   "outputs": [],
   "source": [
    "from scripts.util.date import quarter_to_date"
   ]
  },
  {
   "cell_type": "code",
   "execution_count": 3,
   "id": "26d52c53",
   "metadata": {
    "execution": {
     "iopub.execute_input": "2023-10-16T15:38:22.257924Z",
     "iopub.status.busy": "2023-10-16T15:38:22.257772Z",
     "iopub.status.idle": "2023-10-16T15:38:22.259859Z",
     "shell.execute_reply": "2023-10-16T15:38:22.259579Z"
    },
    "papermill": {
     "duration": 0.004297,
     "end_time": "2023-10-16T15:38:22.260529",
     "exception": false,
     "start_time": "2023-10-16T15:38:22.256232",
     "status": "completed"
    },
    "tags": []
   },
   "outputs": [],
   "source": [
    "NEET_DATA = '../../working/upstream/neet.csv'\n",
    "ALL_METADATA = '../../working/upstream/metadata.csv'\n",
    "NEET_16_24 = '../../data/neet/neet.csv'\n",
    "NEET_METADATA = '../../data/neet/metadata.json'\n",
    "\n",
    "os.makedirs(os.path.dirname(NEET_16_24), exist_ok=True)"
   ]
  },
  {
   "cell_type": "code",
   "execution_count": 4,
   "id": "5a55135f",
   "metadata": {
    "execution": {
     "iopub.execute_input": "2023-10-16T15:38:22.263335Z",
     "iopub.status.busy": "2023-10-16T15:38:22.263193Z",
     "iopub.status.idle": "2023-10-16T15:38:22.268845Z",
     "shell.execute_reply": "2023-10-16T15:38:22.268519Z"
    },
    "papermill": {
     "duration": 0.007891,
     "end_time": "2023-10-16T15:38:22.269572",
     "exception": false,
     "start_time": "2023-10-16T15:38:22.261681",
     "status": "completed"
    },
    "tags": []
   },
   "outputs": [],
   "source": [
    "data = pd.read_csv('../../working/upstream/neet.csv')"
   ]
  },
  {
   "cell_type": "code",
   "execution_count": 5,
   "id": "830863d8",
   "metadata": {
    "execution": {
     "iopub.execute_input": "2023-10-16T15:38:22.272480Z",
     "iopub.status.busy": "2023-10-16T15:38:22.272332Z",
     "iopub.status.idle": "2023-10-16T15:38:22.274239Z",
     "shell.execute_reply": "2023-10-16T15:38:22.273960Z"
    },
    "papermill": {
     "duration": 0.004193,
     "end_time": "2023-10-16T15:38:22.274914",
     "exception": false,
     "start_time": "2023-10-16T15:38:22.270721",
     "status": "completed"
    },
    "tags": []
   },
   "outputs": [],
   "source": [
    "variable_mapper = {\n",
    "    'Young people who were NEET_Total': 'age_16_to_24_neet_total_sa',\n",
    "    'Young people who were NEET_Unemployed': 'age_16_to_24_neet_unemployed_sa',\n",
    "    'Young people who were NEET_Economically inactive': 'age_16_to_24_neet_economically_inactive_sa',\n",
    "    'Total people in relevant population group': 'age_16_to_24_population',\n",
    "    'People who were NEET as a percentage of people in relevant population group': 'age_16_to_24_neet_total_rate_sa',\n",
    "}"
   ]
  },
  {
   "cell_type": "code",
   "execution_count": 6,
   "id": "a056dd1b",
   "metadata": {
    "execution": {
     "iopub.execute_input": "2023-10-16T15:38:22.277719Z",
     "iopub.status.busy": "2023-10-16T15:38:22.277576Z",
     "iopub.status.idle": "2023-10-16T15:38:22.280186Z",
     "shell.execute_reply": "2023-10-16T15:38:22.279884Z"
    },
    "papermill": {
     "duration": 0.004784,
     "end_time": "2023-10-16T15:38:22.280856",
     "exception": false,
     "start_time": "2023-10-16T15:38:22.276072",
     "status": "completed"
    },
    "tags": []
   },
   "outputs": [],
   "source": [
    "data = data[data.age == 'Aged 16-24']"
   ]
  },
  {
   "cell_type": "code",
   "execution_count": 7,
   "id": "7e1c79d6",
   "metadata": {
    "execution": {
     "iopub.execute_input": "2023-10-16T15:38:22.283633Z",
     "iopub.status.busy": "2023-10-16T15:38:22.283495Z",
     "iopub.status.idle": "2023-10-16T15:38:22.286143Z",
     "shell.execute_reply": "2023-10-16T15:38:22.285825Z"
    },
    "papermill": {
     "duration": 0.004785,
     "end_time": "2023-10-16T15:38:22.286774",
     "exception": false,
     "start_time": "2023-10-16T15:38:22.281989",
     "status": "completed"
    },
    "tags": []
   },
   "outputs": [],
   "source": [
    "data = data.replace({\n",
    "  'measure': variable_mapper\n",
    "})"
   ]
  },
  {
   "cell_type": "code",
   "execution_count": 8,
   "id": "620d9a32",
   "metadata": {
    "execution": {
     "iopub.execute_input": "2023-10-16T15:38:22.289643Z",
     "iopub.status.busy": "2023-10-16T15:38:22.289520Z",
     "iopub.status.idle": "2023-10-16T15:38:22.294950Z",
     "shell.execute_reply": "2023-10-16T15:38:22.294667Z"
    },
    "papermill": {
     "duration": 0.007615,
     "end_time": "2023-10-16T15:38:22.295555",
     "exception": false,
     "start_time": "2023-10-16T15:38:22.287940",
     "status": "completed"
    },
    "tags": []
   },
   "outputs": [],
   "source": [
    "data['quarter_start'] = pd.Index(data.date.pipe(quarter_to_date))\n",
    "data['variable'] = data.sheet.str.split(' - ').apply(lambda x: x[0]).str.lower() + '_' + data.measure"
   ]
  },
  {
   "cell_type": "code",
   "execution_count": 9,
   "id": "4733c4f0",
   "metadata": {
    "execution": {
     "iopub.execute_input": "2023-10-16T15:38:22.298440Z",
     "iopub.status.busy": "2023-10-16T15:38:22.298303Z",
     "iopub.status.idle": "2023-10-16T15:38:22.303582Z",
     "shell.execute_reply": "2023-10-16T15:38:22.303261Z"
    },
    "papermill": {
     "duration": 0.007518,
     "end_time": "2023-10-16T15:38:22.304258",
     "exception": false,
     "start_time": "2023-10-16T15:38:22.296740",
     "status": "completed"
    },
    "tags": []
   },
   "outputs": [],
   "source": [
    "data = data.pivot_table(index='quarter_start', columns='variable', values='value')"
   ]
  },
  {
   "cell_type": "code",
   "execution_count": 10,
   "id": "54e4d075",
   "metadata": {
    "execution": {
     "iopub.execute_input": "2023-10-16T15:38:22.307206Z",
     "iopub.status.busy": "2023-10-16T15:38:22.307071Z",
     "iopub.status.idle": "2023-10-16T15:38:22.310866Z",
     "shell.execute_reply": "2023-10-16T15:38:22.310578Z"
    },
    "papermill": {
     "duration": 0.006024,
     "end_time": "2023-10-16T15:38:22.311503",
     "exception": false,
     "start_time": "2023-10-16T15:38:22.305479",
     "status": "completed"
    },
    "tags": []
   },
   "outputs": [],
   "source": [
    "def calculate_rates(data, prefix):\n",
    "    data[prefix + '_age_16_to_24_neet_unemployed_rate_sa'] = data[prefix + '_age_16_to_24_neet_unemployed_sa'] / data[prefix + '_age_16_to_24_population'] * 100\n",
    "    data[prefix + '_age_16_to_24_neet_economically_inactive_rate_sa'] = data[prefix + '_age_16_to_24_neet_economically_inactive_sa'] / data[prefix + '_age_16_to_24_population'] * 100\n",
    "    return data\n",
    "  \n",
    "data = data.pipe(\n",
    "    calculate_rates, 'people'\n",
    ").pipe(\n",
    "    calculate_rates, 'men'\n",
    ").pipe(\n",
    "    calculate_rates, 'women'\n",
    ")\n"
   ]
  },
  {
   "cell_type": "code",
   "execution_count": 11,
   "id": "9b583db1",
   "metadata": {
    "execution": {
     "iopub.execute_input": "2023-10-16T15:38:22.314446Z",
     "iopub.status.busy": "2023-10-16T15:38:22.314320Z",
     "iopub.status.idle": "2023-10-16T15:38:22.318579Z",
     "shell.execute_reply": "2023-10-16T15:38:22.318260Z"
    },
    "papermill": {
     "duration": 0.006502,
     "end_time": "2023-10-16T15:38:22.319232",
     "exception": false,
     "start_time": "2023-10-16T15:38:22.312730",
     "status": "completed"
    },
    "tags": []
   },
   "outputs": [],
   "source": [
    "column_order = [\n",
    "  'people_age_16_to_24_neet_total_sa',\n",
    "  'people_age_16_to_24_neet_unemployed_sa',\n",
    "  'people_age_16_to_24_neet_economically_inactive_sa',\n",
    "  'people_age_16_to_24_population',\n",
    "  'people_age_16_to_24_neet_total_rate_sa',\n",
    "  'people_age_16_to_24_neet_unemployed_rate_sa',\n",
    "  'people_age_16_to_24_neet_economically_inactive_rate_sa',\n",
    "  'men_age_16_to_24_neet_total_sa',\n",
    "  'men_age_16_to_24_neet_unemployed_sa',\n",
    "  'men_age_16_to_24_neet_economically_inactive_sa',\n",
    "  'men_age_16_to_24_population',\n",
    "  'men_age_16_to_24_neet_total_rate_sa',\n",
    "  'men_age_16_to_24_neet_unemployed_rate_sa',\n",
    "  'men_age_16_to_24_neet_economically_inactive_rate_sa',\n",
    "  'women_age_16_to_24_neet_total_sa',\n",
    "  'women_age_16_to_24_neet_unemployed_sa',\n",
    "  'women_age_16_to_24_neet_economically_inactive_sa',\n",
    "  'women_age_16_to_24_population',\n",
    "  'women_age_16_to_24_neet_total_rate_sa',\n",
    "  'women_age_16_to_24_neet_unemployed_rate_sa',\n",
    "  'women_age_16_to_24_neet_economically_inactive_rate_sa'\n",
    "]\n",
    "\n",
    "data.loc[:, column_order].to_csv(NEET_16_24)"
   ]
  },
  {
   "cell_type": "code",
   "execution_count": 12,
   "id": "ab813426",
   "metadata": {
    "execution": {
     "iopub.execute_input": "2023-10-16T15:38:22.322155Z",
     "iopub.status.busy": "2023-10-16T15:38:22.322029Z",
     "iopub.status.idle": "2023-10-16T15:38:22.328649Z",
     "shell.execute_reply": "2023-10-16T15:38:22.328365Z"
    },
    "papermill": {
     "duration": 0.00888,
     "end_time": "2023-10-16T15:38:22.329334",
     "exception": false,
     "start_time": "2023-10-16T15:38:22.320454",
     "status": "completed"
    },
    "tags": []
   },
   "outputs": [
    {
     "data": {
      "text/plain": [
       "id                     object\n",
       "last_update    datetime64[ns]\n",
       "next_update    datetime64[ns]\n",
       "dtype: object"
      ]
     },
     "execution_count": 12,
     "metadata": {},
     "output_type": "execute_result"
    }
   ],
   "source": [
    "metadata = pd.read_csv(ALL_METADATA, parse_dates=['last_update', 'next_update'])\n",
    "metadata.set_index(\n",
    "    'id'\n",
    ").rename(\n",
    "    columns={\n",
    "        'last_update': 'published'\n",
    "    }\n",
    ").loc['NEET'].to_json(NEET_METADATA, date_format='iso')\n",
    "\n",
    "metadata.dtypes\n"
   ]
  },
  {
   "cell_type": "code",
   "execution_count": null,
   "id": "afff2e7c",
   "metadata": {
    "papermill": {
     "duration": 0.001277,
     "end_time": "2023-10-16T15:38:22.332043",
     "exception": false,
     "start_time": "2023-10-16T15:38:22.330766",
     "status": "completed"
    },
    "tags": []
   },
   "outputs": [],
   "source": []
  },
  {
   "cell_type": "code",
   "execution_count": null,
   "id": "35ad762f",
   "metadata": {
    "papermill": {
     "duration": 0.001219,
     "end_time": "2023-10-16T15:38:22.334542",
     "exception": false,
     "start_time": "2023-10-16T15:38:22.333323",
     "status": "completed"
    },
    "tags": []
   },
   "outputs": [],
   "source": []
  }
 ],
 "metadata": {
  "kernelspec": {
   "display_name": "yff-data-ansOWYcy",
   "language": "python",
   "name": "python3"
  },
  "language_info": {
   "codemirror_mode": {
    "name": "ipython",
    "version": 3
   },
   "file_extension": ".py",
   "mimetype": "text/x-python",
   "name": "python",
   "nbconvert_exporter": "python",
   "pygments_lexer": "ipython3",
   "version": "3.10.12"
  },
  "papermill": {
   "default_parameters": {},
   "duration": 1.319783,
   "end_time": "2023-10-16T15:38:22.552473",
   "environment_variables": {},
   "exception": null,
   "input_path": "transform.ipynb",
   "output_path": "../../working/output/neet-transform.ipynb",
   "parameters": {},
   "start_time": "2023-10-16T15:38:21.232690",
   "version": "2.4.0"
  }
 },
 "nbformat": 4,
 "nbformat_minor": 5
}