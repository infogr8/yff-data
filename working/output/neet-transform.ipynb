{
 "cells": [
  {
   "cell_type": "code",
   "execution_count": 1,
   "id": "39cb2dff",
   "metadata": {
    "execution": {
     "iopub.execute_input": "2024-08-22T09:48:27.662898Z",
     "iopub.status.busy": "2024-08-22T09:48:27.662623Z",
     "iopub.status.idle": "2024-08-22T09:48:27.964496Z",
     "shell.execute_reply": "2024-08-22T09:48:27.963925Z"
    },
    "papermill": {
     "duration": 0.307215,
     "end_time": "2024-08-22T09:48:27.966202",
     "exception": false,
     "start_time": "2024-08-22T09:48:27.658987",
     "status": "completed"
    },
    "tags": []
   },
   "outputs": [],
   "source": [
    "import os\n",
    "import sys\n",
    "import pandas as pd\n",
    "\n",
    "LIB_DIR = '../../'\n",
    "if LIB_DIR not in sys.path:\n",
    "    sys.path.append(LIB_DIR)"
   ]
  },
  {
   "cell_type": "code",
   "execution_count": 2,
   "id": "77cb5706",
   "metadata": {
    "execution": {
     "iopub.execute_input": "2024-08-22T09:48:27.971704Z",
     "iopub.status.busy": "2024-08-22T09:48:27.971346Z",
     "iopub.status.idle": "2024-08-22T09:48:27.975483Z",
     "shell.execute_reply": "2024-08-22T09:48:27.974976Z"
    },
    "papermill": {
     "duration": 0.008277,
     "end_time": "2024-08-22T09:48:27.976827",
     "exception": false,
     "start_time": "2024-08-22T09:48:27.968550",
     "status": "completed"
    },
    "tags": []
   },
   "outputs": [],
   "source": [
    "from scripts.util.date import quarter_to_date"
   ]
  },
  {
   "cell_type": "code",
   "execution_count": 3,
   "id": "f85b676d",
   "metadata": {
    "execution": {
     "iopub.execute_input": "2024-08-22T09:48:27.981701Z",
     "iopub.status.busy": "2024-08-22T09:48:27.981332Z",
     "iopub.status.idle": "2024-08-22T09:48:27.984741Z",
     "shell.execute_reply": "2024-08-22T09:48:27.984207Z"
    },
    "papermill": {
     "duration": 0.007381,
     "end_time": "2024-08-22T09:48:27.986100",
     "exception": false,
     "start_time": "2024-08-22T09:48:27.978719",
     "status": "completed"
    },
    "tags": []
   },
   "outputs": [],
   "source": [
    "NEET_DATA = '../../working/upstream/neet.csv'\n",
    "ALL_METADATA = '../../working/upstream/metadata.csv'\n",
    "NEET_16_24 = '../../data/neet/neet.csv'\n",
    "NEET_METADATA = '../../data/neet/metadata.json'\n",
    "\n",
    "os.makedirs(os.path.dirname(NEET_16_24), exist_ok=True)"
   ]
  },
  {
   "cell_type": "code",
   "execution_count": 4,
   "id": "6bf377d4",
   "metadata": {
    "execution": {
     "iopub.execute_input": "2024-08-22T09:48:27.991119Z",
     "iopub.status.busy": "2024-08-22T09:48:27.990623Z",
     "iopub.status.idle": "2024-08-22T09:48:27.999147Z",
     "shell.execute_reply": "2024-08-22T09:48:27.998646Z"
    },
    "papermill": {
     "duration": 0.012355,
     "end_time": "2024-08-22T09:48:28.000385",
     "exception": false,
     "start_time": "2024-08-22T09:48:27.988030",
     "status": "completed"
    },
    "tags": []
   },
   "outputs": [],
   "source": [
    "data = pd.read_csv('../../working/upstream/neet.csv')"
   ]
  },
  {
   "cell_type": "code",
   "execution_count": 5,
   "id": "f2a78033",
   "metadata": {
    "execution": {
     "iopub.execute_input": "2024-08-22T09:48:28.005298Z",
     "iopub.status.busy": "2024-08-22T09:48:28.004960Z",
     "iopub.status.idle": "2024-08-22T09:48:28.008094Z",
     "shell.execute_reply": "2024-08-22T09:48:28.007450Z"
    },
    "papermill": {
     "duration": 0.006978,
     "end_time": "2024-08-22T09:48:28.009316",
     "exception": false,
     "start_time": "2024-08-22T09:48:28.002338",
     "status": "completed"
    },
    "tags": []
   },
   "outputs": [],
   "source": [
    "variable_mapper = {\n",
    "    'Young people who were NEET_Total': 'age_16_to_24_neet_total_sa',\n",
    "    'Young people who were NEET_Unemployed': 'age_16_to_24_neet_unemployed_sa',\n",
    "    'Young people who were NEET_Economically inactive': 'age_16_to_24_neet_economically_inactive_sa',\n",
    "    'Total people in relevant population group': 'age_16_to_24_population',\n",
    "    'People who were NEET as a percentage of people in relevant population group': 'age_16_to_24_neet_total_rate_sa',\n",
    "}"
   ]
  },
  {
   "cell_type": "code",
   "execution_count": 6,
   "id": "f042fc25",
   "metadata": {
    "execution": {
     "iopub.execute_input": "2024-08-22T09:48:28.014381Z",
     "iopub.status.busy": "2024-08-22T09:48:28.014033Z",
     "iopub.status.idle": "2024-08-22T09:48:28.018272Z",
     "shell.execute_reply": "2024-08-22T09:48:28.017625Z"
    },
    "papermill": {
     "duration": 0.008579,
     "end_time": "2024-08-22T09:48:28.019843",
     "exception": false,
     "start_time": "2024-08-22T09:48:28.011264",
     "status": "completed"
    },
    "tags": []
   },
   "outputs": [],
   "source": [
    "data = data[data.age == 'Aged 16-24']"
   ]
  },
  {
   "cell_type": "code",
   "execution_count": 7,
   "id": "d78fd923",
   "metadata": {
    "execution": {
     "iopub.execute_input": "2024-08-22T09:48:28.024900Z",
     "iopub.status.busy": "2024-08-22T09:48:28.024515Z",
     "iopub.status.idle": "2024-08-22T09:48:28.028655Z",
     "shell.execute_reply": "2024-08-22T09:48:28.028112Z"
    },
    "papermill": {
     "duration": 0.008106,
     "end_time": "2024-08-22T09:48:28.029917",
     "exception": false,
     "start_time": "2024-08-22T09:48:28.021811",
     "status": "completed"
    },
    "tags": []
   },
   "outputs": [],
   "source": [
    "data = data.replace({\n",
    "  'measure': variable_mapper\n",
    "})"
   ]
  },
  {
   "cell_type": "code",
   "execution_count": 8,
   "id": "e4b3f8ba",
   "metadata": {
    "execution": {
     "iopub.execute_input": "2024-08-22T09:48:28.035109Z",
     "iopub.status.busy": "2024-08-22T09:48:28.034723Z",
     "iopub.status.idle": "2024-08-22T09:48:28.043849Z",
     "shell.execute_reply": "2024-08-22T09:48:28.043279Z"
    },
    "papermill": {
     "duration": 0.013244,
     "end_time": "2024-08-22T09:48:28.045199",
     "exception": false,
     "start_time": "2024-08-22T09:48:28.031955",
     "status": "completed"
    },
    "tags": []
   },
   "outputs": [],
   "source": [
    "data['quarter_start'] = pd.Index(data.date.pipe(quarter_to_date))\n",
    "data['variable'] = data.sheet.str.split(' - ').apply(lambda x: x[0]).str.lower() + '_' + data.measure"
   ]
  },
  {
   "cell_type": "code",
   "execution_count": 9,
   "id": "7e652828",
   "metadata": {
    "execution": {
     "iopub.execute_input": "2024-08-22T09:48:28.050533Z",
     "iopub.status.busy": "2024-08-22T09:48:28.050112Z",
     "iopub.status.idle": "2024-08-22T09:48:28.058068Z",
     "shell.execute_reply": "2024-08-22T09:48:28.057564Z"
    },
    "papermill": {
     "duration": 0.012002,
     "end_time": "2024-08-22T09:48:28.059324",
     "exception": false,
     "start_time": "2024-08-22T09:48:28.047322",
     "status": "completed"
    },
    "tags": []
   },
   "outputs": [],
   "source": [
    "data = data.pivot_table(index='quarter_start', columns='variable', values='value')"
   ]
  },
  {
   "cell_type": "code",
   "execution_count": 10,
   "id": "b1dc9658",
   "metadata": {
    "execution": {
     "iopub.execute_input": "2024-08-22T09:48:28.064462Z",
     "iopub.status.busy": "2024-08-22T09:48:28.064111Z",
     "iopub.status.idle": "2024-08-22T09:48:28.070602Z",
     "shell.execute_reply": "2024-08-22T09:48:28.069958Z"
    },
    "papermill": {
     "duration": 0.010484,
     "end_time": "2024-08-22T09:48:28.071935",
     "exception": false,
     "start_time": "2024-08-22T09:48:28.061451",
     "status": "completed"
    },
    "tags": []
   },
   "outputs": [],
   "source": [
    "def calculate_rates(data, prefix):\n",
    "    data[prefix + '_age_16_to_24_neet_unemployed_rate_sa'] = data[prefix + '_age_16_to_24_neet_unemployed_sa'] / data[prefix + '_age_16_to_24_population'] * 100\n",
    "    data[prefix + '_age_16_to_24_neet_economically_inactive_rate_sa'] = data[prefix + '_age_16_to_24_neet_economically_inactive_sa'] / data[prefix + '_age_16_to_24_population'] * 100\n",
    "    return data\n",
    "  \n",
    "data = data.pipe(\n",
    "    calculate_rates, 'people'\n",
    ").pipe(\n",
    "    calculate_rates, 'men'\n",
    ").pipe(\n",
    "    calculate_rates, 'women'\n",
    ")\n"
   ]
  },
  {
   "cell_type": "code",
   "execution_count": 11,
   "id": "5a0f22e1",
   "metadata": {
    "execution": {
     "iopub.execute_input": "2024-08-22T09:48:28.077435Z",
     "iopub.status.busy": "2024-08-22T09:48:28.077016Z",
     "iopub.status.idle": "2024-08-22T09:48:28.084060Z",
     "shell.execute_reply": "2024-08-22T09:48:28.083535Z"
    },
    "papermill": {
     "duration": 0.01122,
     "end_time": "2024-08-22T09:48:28.085382",
     "exception": false,
     "start_time": "2024-08-22T09:48:28.074162",
     "status": "completed"
    },
    "tags": []
   },
   "outputs": [],
   "source": [
    "column_order = [\n",
    "  'people_age_16_to_24_neet_total_sa',\n",
    "  'people_age_16_to_24_neet_unemployed_sa',\n",
    "  'people_age_16_to_24_neet_economically_inactive_sa',\n",
    "  'people_age_16_to_24_population',\n",
    "  'people_age_16_to_24_neet_total_rate_sa',\n",
    "  'people_age_16_to_24_neet_unemployed_rate_sa',\n",
    "  'people_age_16_to_24_neet_economically_inactive_rate_sa',\n",
    "  'men_age_16_to_24_neet_total_sa',\n",
    "  'men_age_16_to_24_neet_unemployed_sa',\n",
    "  'men_age_16_to_24_neet_economically_inactive_sa',\n",
    "  'men_age_16_to_24_population',\n",
    "  'men_age_16_to_24_neet_total_rate_sa',\n",
    "  'men_age_16_to_24_neet_unemployed_rate_sa',\n",
    "  'men_age_16_to_24_neet_economically_inactive_rate_sa',\n",
    "  'women_age_16_to_24_neet_total_sa',\n",
    "  'women_age_16_to_24_neet_unemployed_sa',\n",
    "  'women_age_16_to_24_neet_economically_inactive_sa',\n",
    "  'women_age_16_to_24_population',\n",
    "  'women_age_16_to_24_neet_total_rate_sa',\n",
    "  'women_age_16_to_24_neet_unemployed_rate_sa',\n",
    "  'women_age_16_to_24_neet_economically_inactive_rate_sa'\n",
    "]\n",
    "\n",
    "data.loc[:, column_order].to_csv(NEET_16_24)"
   ]
  },
  {
   "cell_type": "code",
   "execution_count": 12,
   "id": "eedcf8b6",
   "metadata": {
    "execution": {
     "iopub.execute_input": "2024-08-22T09:48:28.090728Z",
     "iopub.status.busy": "2024-08-22T09:48:28.090325Z",
     "iopub.status.idle": "2024-08-22T09:48:28.102447Z",
     "shell.execute_reply": "2024-08-22T09:48:28.101839Z"
    },
    "papermill": {
     "duration": 0.016209,
     "end_time": "2024-08-22T09:48:28.103747",
     "exception": false,
     "start_time": "2024-08-22T09:48:28.087538",
     "status": "completed"
    },
    "tags": []
   },
   "outputs": [
    {
     "data": {
      "text/plain": [
       "id                     object\n",
       "last_update    datetime64[ns]\n",
       "next_update            object\n",
       "dtype: object"
      ]
     },
     "execution_count": 12,
     "metadata": {},
     "output_type": "execute_result"
    }
   ],
   "source": [
    "metadata = pd.read_csv(ALL_METADATA, parse_dates=['last_update', 'next_update'])\n",
    "metadata.set_index(\n",
    "    'id'\n",
    ").rename(\n",
    "    columns={\n",
    "        'last_update': 'published'\n",
    "    }\n",
    ").loc['NEET'].to_json(NEET_METADATA, date_format='iso')\n",
    "\n",
    "metadata.dtypes\n"
   ]
  },
  {
   "cell_type": "code",
   "execution_count": null,
   "id": "eaf66736",
   "metadata": {
    "papermill": {
     "duration": 0.002334,
     "end_time": "2024-08-22T09:48:28.108395",
     "exception": false,
     "start_time": "2024-08-22T09:48:28.106061",
     "status": "completed"
    },
    "tags": []
   },
   "outputs": [],
   "source": []
  },
  {
   "cell_type": "code",
   "execution_count": null,
   "id": "45de1e70",
   "metadata": {
    "papermill": {
     "duration": 0.002243,
     "end_time": "2024-08-22T09:48:28.112884",
     "exception": false,
     "start_time": "2024-08-22T09:48:28.110641",
     "status": "completed"
    },
    "tags": []
   },
   "outputs": [],
   "source": []
  }
 ],
 "metadata": {
  "kernelspec": {
   "display_name": "yff-data-ansOWYcy",
   "language": "python",
   "name": "python3"
  },
  "language_info": {
   "codemirror_mode": {
    "name": "ipython",
    "version": 3
   },
   "file_extension": ".py",
   "mimetype": "text/x-python",
   "name": "python",
   "nbconvert_exporter": "python",
   "pygments_lexer": "ipython3",
   "version": "3.10.14"
  },
  "papermill": {
   "default_parameters": {},
   "duration": 1.841969,
   "end_time": "2024-08-22T09:48:28.331506",
   "environment_variables": {},
   "exception": null,
   "input_path": "transform.ipynb",
   "output_path": "../../working/output/neet-transform.ipynb",
   "parameters": {},
   "start_time": "2024-08-22T09:48:26.489537",
   "version": "2.5.0"
  }
 },
 "nbformat": 4,
 "nbformat_minor": 5
}