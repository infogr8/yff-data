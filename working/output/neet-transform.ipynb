{
 "cells": [
  {
   "cell_type": "code",
   "execution_count": 1,
   "id": "1930c62e",
   "metadata": {
    "execution": {
     "iopub.execute_input": "2023-10-25T07:45:32.409020Z",
     "iopub.status.busy": "2023-10-25T07:45:32.408445Z",
     "iopub.status.idle": "2023-10-25T07:45:32.798032Z",
     "shell.execute_reply": "2023-10-25T07:45:32.797307Z"
    },
    "papermill": {
     "duration": 0.396411,
     "end_time": "2023-10-25T07:45:32.799935",
     "exception": false,
     "start_time": "2023-10-25T07:45:32.403524",
     "status": "completed"
    },
    "tags": []
   },
   "outputs": [],
   "source": [
    "import os\n",
    "import sys\n",
    "import pandas as pd\n",
    "\n",
    "LIB_DIR = '../../'\n",
    "if LIB_DIR not in sys.path:\n",
    "    sys.path.append(LIB_DIR)"
   ]
  },
  {
   "cell_type": "code",
   "execution_count": 2,
   "id": "c0228b29",
   "metadata": {
    "execution": {
     "iopub.execute_input": "2023-10-25T07:45:32.834361Z",
     "iopub.status.busy": "2023-10-25T07:45:32.833574Z",
     "iopub.status.idle": "2023-10-25T07:45:32.838719Z",
     "shell.execute_reply": "2023-10-25T07:45:32.837987Z"
    },
    "papermill": {
     "duration": 0.012119,
     "end_time": "2023-10-25T07:45:32.840905",
     "exception": false,
     "start_time": "2023-10-25T07:45:32.828786",
     "status": "completed"
    },
    "tags": []
   },
   "outputs": [],
   "source": [
    "from scripts.util.date import quarter_to_date"
   ]
  },
  {
   "cell_type": "code",
   "execution_count": 3,
   "id": "77e5b104",
   "metadata": {
    "execution": {
     "iopub.execute_input": "2023-10-25T07:45:32.930920Z",
     "iopub.status.busy": "2023-10-25T07:45:32.930213Z",
     "iopub.status.idle": "2023-10-25T07:45:32.934655Z",
     "shell.execute_reply": "2023-10-25T07:45:32.933976Z"
    },
    "papermill": {
     "duration": 0.054472,
     "end_time": "2023-10-25T07:45:32.936386",
     "exception": false,
     "start_time": "2023-10-25T07:45:32.881914",
     "status": "completed"
    },
    "tags": []
   },
   "outputs": [],
   "source": [
    "NEET_DATA = '../../working/upstream/neet.csv'\n",
    "ALL_METADATA = '../../working/upstream/metadata.csv'\n",
    "NEET_16_24 = '../../data/neet/neet.csv'\n",
    "NEET_METADATA = '../../data/neet/metadata.json'\n",
    "\n",
    "os.makedirs(os.path.dirname(NEET_16_24), exist_ok=True)"
   ]
  },
  {
   "cell_type": "code",
   "execution_count": 4,
   "id": "88c5a4c0",
   "metadata": {
    "execution": {
     "iopub.execute_input": "2023-10-25T07:45:32.978094Z",
     "iopub.status.busy": "2023-10-25T07:45:32.977639Z",
     "iopub.status.idle": "2023-10-25T07:45:32.989553Z",
     "shell.execute_reply": "2023-10-25T07:45:32.988928Z"
    },
    "papermill": {
     "duration": 0.051468,
     "end_time": "2023-10-25T07:45:32.991118",
     "exception": false,
     "start_time": "2023-10-25T07:45:32.939650",
     "status": "completed"
    },
    "tags": []
   },
   "outputs": [],
   "source": [
    "data = pd.read_csv('../../working/upstream/neet.csv')"
   ]
  },
  {
   "cell_type": "code",
   "execution_count": 5,
   "id": "a7207407",
   "metadata": {
    "execution": {
     "iopub.execute_input": "2023-10-25T07:45:33.043857Z",
     "iopub.status.busy": "2023-10-25T07:45:33.042962Z",
     "iopub.status.idle": "2023-10-25T07:45:33.048503Z",
     "shell.execute_reply": "2023-10-25T07:45:33.047001Z"
    },
    "papermill": {
     "duration": 0.013414,
     "end_time": "2023-10-25T07:45:33.050886",
     "exception": false,
     "start_time": "2023-10-25T07:45:33.037472",
     "status": "completed"
    },
    "tags": []
   },
   "outputs": [],
   "source": [
    "variable_mapper = {\n",
    "    'Young people who were NEET_Total': 'age_16_to_24_neet_total_sa',\n",
    "    'Young people who were NEET_Unemployed': 'age_16_to_24_neet_unemployed_sa',\n",
    "    'Young people who were NEET_Economically inactive': 'age_16_to_24_neet_economically_inactive_sa',\n",
    "    'Total people in relevant population group': 'age_16_to_24_population',\n",
    "    'People who were NEET as a percentage of people in relevant population group': 'age_16_to_24_neet_total_rate_sa',\n",
    "}"
   ]
  },
  {
   "cell_type": "code",
   "execution_count": 6,
   "id": "4846c438",
   "metadata": {
    "execution": {
     "iopub.execute_input": "2023-10-25T07:45:33.057931Z",
     "iopub.status.busy": "2023-10-25T07:45:33.057664Z",
     "iopub.status.idle": "2023-10-25T07:45:33.062723Z",
     "shell.execute_reply": "2023-10-25T07:45:33.062078Z"
    },
    "papermill": {
     "duration": 0.010596,
     "end_time": "2023-10-25T07:45:33.064318",
     "exception": false,
     "start_time": "2023-10-25T07:45:33.053722",
     "status": "completed"
    },
    "tags": []
   },
   "outputs": [],
   "source": [
    "data = data[data.age == 'Aged 16-24']"
   ]
  },
  {
   "cell_type": "code",
   "execution_count": 7,
   "id": "bec74c9e",
   "metadata": {
    "execution": {
     "iopub.execute_input": "2023-10-25T07:45:33.089466Z",
     "iopub.status.busy": "2023-10-25T07:45:33.088897Z",
     "iopub.status.idle": "2023-10-25T07:45:33.094195Z",
     "shell.execute_reply": "2023-10-25T07:45:33.093096Z"
    },
    "papermill": {
     "duration": 0.011381,
     "end_time": "2023-10-25T07:45:33.095790",
     "exception": false,
     "start_time": "2023-10-25T07:45:33.084409",
     "status": "completed"
    },
    "tags": []
   },
   "outputs": [],
   "source": [
    "data = data.replace({\n",
    "  'measure': variable_mapper\n",
    "})"
   ]
  },
  {
   "cell_type": "code",
   "execution_count": 8,
   "id": "be7de503",
   "metadata": {
    "execution": {
     "iopub.execute_input": "2023-10-25T07:45:33.139370Z",
     "iopub.status.busy": "2023-10-25T07:45:33.138878Z",
     "iopub.status.idle": "2023-10-25T07:45:33.152263Z",
     "shell.execute_reply": "2023-10-25T07:45:33.151651Z"
    },
    "papermill": {
     "duration": 0.020477,
     "end_time": "2023-10-25T07:45:33.153768",
     "exception": false,
     "start_time": "2023-10-25T07:45:33.133291",
     "status": "completed"
    },
    "tags": []
   },
   "outputs": [],
   "source": [
    "data['quarter_start'] = pd.Index(data.date.pipe(quarter_to_date))\n",
    "data['variable'] = data.sheet.str.split(' - ').apply(lambda x: x[0]).str.lower() + '_' + data.measure"
   ]
  },
  {
   "cell_type": "code",
   "execution_count": 9,
   "id": "d24571b5",
   "metadata": {
    "execution": {
     "iopub.execute_input": "2023-10-25T07:45:33.184003Z",
     "iopub.status.busy": "2023-10-25T07:45:33.183744Z",
     "iopub.status.idle": "2023-10-25T07:45:33.195367Z",
     "shell.execute_reply": "2023-10-25T07:45:33.194732Z"
    },
    "papermill": {
     "duration": 0.017403,
     "end_time": "2023-10-25T07:45:33.196913",
     "exception": false,
     "start_time": "2023-10-25T07:45:33.179510",
     "status": "completed"
    },
    "tags": []
   },
   "outputs": [],
   "source": [
    "data = data.pivot_table(index='quarter_start', columns='variable', values='value')"
   ]
  },
  {
   "cell_type": "code",
   "execution_count": 10,
   "id": "8ae5454e",
   "metadata": {
    "execution": {
     "iopub.execute_input": "2023-10-25T07:45:33.230218Z",
     "iopub.status.busy": "2023-10-25T07:45:33.229507Z",
     "iopub.status.idle": "2023-10-25T07:45:33.240590Z",
     "shell.execute_reply": "2023-10-25T07:45:33.238994Z"
    },
    "papermill": {
     "duration": 0.018469,
     "end_time": "2023-10-25T07:45:33.242113",
     "exception": false,
     "start_time": "2023-10-25T07:45:33.223644",
     "status": "completed"
    },
    "tags": []
   },
   "outputs": [],
   "source": [
    "def calculate_rates(data, prefix):\n",
    "    data[prefix + '_age_16_to_24_neet_unemployed_rate_sa'] = data[prefix + '_age_16_to_24_neet_unemployed_sa'] / data[prefix + '_age_16_to_24_population'] * 100\n",
    "    data[prefix + '_age_16_to_24_neet_economically_inactive_rate_sa'] = data[prefix + '_age_16_to_24_neet_economically_inactive_sa'] / data[prefix + '_age_16_to_24_population'] * 100\n",
    "    return data\n",
    "  \n",
    "data = data.pipe(\n",
    "    calculate_rates, 'people'\n",
    ").pipe(\n",
    "    calculate_rates, 'men'\n",
    ").pipe(\n",
    "    calculate_rates, 'women'\n",
    ")\n"
   ]
  },
  {
   "cell_type": "code",
   "execution_count": 11,
   "id": "1d13d3e3",
   "metadata": {
    "execution": {
     "iopub.execute_input": "2023-10-25T07:45:33.280929Z",
     "iopub.status.busy": "2023-10-25T07:45:33.280610Z",
     "iopub.status.idle": "2023-10-25T07:45:33.290541Z",
     "shell.execute_reply": "2023-10-25T07:45:33.289824Z"
    },
    "papermill": {
     "duration": 0.016935,
     "end_time": "2023-10-25T07:45:33.292323",
     "exception": false,
     "start_time": "2023-10-25T07:45:33.275388",
     "status": "completed"
    },
    "tags": []
   },
   "outputs": [],
   "source": [
    "column_order = [\n",
    "  'people_age_16_to_24_neet_total_sa',\n",
    "  'people_age_16_to_24_neet_unemployed_sa',\n",
    "  'people_age_16_to_24_neet_economically_inactive_sa',\n",
    "  'people_age_16_to_24_population',\n",
    "  'people_age_16_to_24_neet_total_rate_sa',\n",
    "  'people_age_16_to_24_neet_unemployed_rate_sa',\n",
    "  'people_age_16_to_24_neet_economically_inactive_rate_sa',\n",
    "  'men_age_16_to_24_neet_total_sa',\n",
    "  'men_age_16_to_24_neet_unemployed_sa',\n",
    "  'men_age_16_to_24_neet_economically_inactive_sa',\n",
    "  'men_age_16_to_24_population',\n",
    "  'men_age_16_to_24_neet_total_rate_sa',\n",
    "  'men_age_16_to_24_neet_unemployed_rate_sa',\n",
    "  'men_age_16_to_24_neet_economically_inactive_rate_sa',\n",
    "  'women_age_16_to_24_neet_total_sa',\n",
    "  'women_age_16_to_24_neet_unemployed_sa',\n",
    "  'women_age_16_to_24_neet_economically_inactive_sa',\n",
    "  'women_age_16_to_24_population',\n",
    "  'women_age_16_to_24_neet_total_rate_sa',\n",
    "  'women_age_16_to_24_neet_unemployed_rate_sa',\n",
    "  'women_age_16_to_24_neet_economically_inactive_rate_sa'\n",
    "]\n",
    "\n",
    "data.loc[:, column_order].to_csv(NEET_16_24)"
   ]
  },
  {
   "cell_type": "code",
   "execution_count": 12,
   "id": "16674ad4",
   "metadata": {
    "execution": {
     "iopub.execute_input": "2023-10-25T07:45:33.389307Z",
     "iopub.status.busy": "2023-10-25T07:45:33.388501Z",
     "iopub.status.idle": "2023-10-25T07:45:33.404548Z",
     "shell.execute_reply": "2023-10-25T07:45:33.403913Z"
    },
    "papermill": {
     "duration": 0.082243,
     "end_time": "2023-10-25T07:45:33.406079",
     "exception": false,
     "start_time": "2023-10-25T07:45:33.323836",
     "status": "completed"
    },
    "tags": []
   },
   "outputs": [
    {
     "data": {
      "text/plain": [
       "id                     object\n",
       "last_update    datetime64[ns]\n",
       "next_update    datetime64[ns]\n",
       "dtype: object"
      ]
     },
     "execution_count": 12,
     "metadata": {},
     "output_type": "execute_result"
    }
   ],
   "source": [
    "metadata = pd.read_csv(ALL_METADATA, parse_dates=['last_update', 'next_update'])\n",
    "metadata.set_index(\n",
    "    'id'\n",
    ").rename(\n",
    "    columns={\n",
    "        'last_update': 'published'\n",
    "    }\n",
    ").loc['NEET'].to_json(NEET_METADATA, date_format='iso')\n",
    "\n",
    "metadata.dtypes\n"
   ]
  },
  {
   "cell_type": "code",
   "execution_count": null,
   "id": "5ebea9ab",
   "metadata": {
    "papermill": {
     "duration": 0.003782,
     "end_time": "2023-10-25T07:45:33.436252",
     "exception": false,
     "start_time": "2023-10-25T07:45:33.432470",
     "status": "completed"
    },
    "tags": []
   },
   "outputs": [],
   "source": []
  },
  {
   "cell_type": "code",
   "execution_count": null,
   "id": "2f0bb05d",
   "metadata": {
    "papermill": {
     "duration": 0.042242,
     "end_time": "2023-10-25T07:45:33.482358",
     "exception": false,
     "start_time": "2023-10-25T07:45:33.440116",
     "status": "completed"
    },
    "tags": []
   },
   "outputs": [],
   "source": []
  }
 ],
 "metadata": {
  "kernelspec": {
   "display_name": "yff-data-ansOWYcy",
   "language": "python",
   "name": "python3"
  },
  "language_info": {
   "codemirror_mode": {
    "name": "ipython",
    "version": 3
   },
   "file_extension": ".py",
   "mimetype": "text/x-python",
   "name": "python",
   "nbconvert_exporter": "python",
   "pygments_lexer": "ipython3",
   "version": "3.10.13"
  },
  "papermill": {
   "default_parameters": {},
   "duration": 2.94784,
   "end_time": "2023-10-25T07:45:33.703436",
   "environment_variables": {},
   "exception": null,
   "input_path": "transform.ipynb",
   "output_path": "../../working/output/neet-transform.ipynb",
   "parameters": {},
   "start_time": "2023-10-25T07:45:30.755596",
   "version": "2.4.0"
  }
 },
 "nbformat": 4,
 "nbformat_minor": 5
}