{
 "cells": [
  {
   "cell_type": "code",
   "execution_count": 1,
   "id": "7a3cd308",
   "metadata": {
    "execution": {
     "iopub.execute_input": "2024-05-23T08:43:56.800653Z",
     "iopub.status.busy": "2024-05-23T08:43:56.800378Z",
     "iopub.status.idle": "2024-05-23T08:43:57.118035Z",
     "shell.execute_reply": "2024-05-23T08:43:57.117406Z"
    },
    "papermill": {
     "duration": 0.324075,
     "end_time": "2024-05-23T08:43:57.119775",
     "exception": false,
     "start_time": "2024-05-23T08:43:56.795700",
     "status": "completed"
    },
    "tags": []
   },
   "outputs": [],
   "source": [
    "import os\n",
    "import sys\n",
    "import pandas as pd\n",
    "\n",
    "LIB_DIR = '../../'\n",
    "if LIB_DIR not in sys.path:\n",
    "    sys.path.append(LIB_DIR)"
   ]
  },
  {
   "cell_type": "code",
   "execution_count": 2,
   "id": "5bbb91d6",
   "metadata": {
    "execution": {
     "iopub.execute_input": "2024-05-23T08:43:57.125581Z",
     "iopub.status.busy": "2024-05-23T08:43:57.125050Z",
     "iopub.status.idle": "2024-05-23T08:43:57.129487Z",
     "shell.execute_reply": "2024-05-23T08:43:57.128857Z"
    },
    "papermill": {
     "duration": 0.008768,
     "end_time": "2024-05-23T08:43:57.130950",
     "exception": false,
     "start_time": "2024-05-23T08:43:57.122182",
     "status": "completed"
    },
    "tags": []
   },
   "outputs": [],
   "source": [
    "from scripts.util.date import quarter_to_date"
   ]
  },
  {
   "cell_type": "code",
   "execution_count": 3,
   "id": "2709b6e0",
   "metadata": {
    "execution": {
     "iopub.execute_input": "2024-05-23T08:43:57.136212Z",
     "iopub.status.busy": "2024-05-23T08:43:57.135790Z",
     "iopub.status.idle": "2024-05-23T08:43:57.139367Z",
     "shell.execute_reply": "2024-05-23T08:43:57.138770Z"
    },
    "papermill": {
     "duration": 0.00777,
     "end_time": "2024-05-23T08:43:57.140746",
     "exception": false,
     "start_time": "2024-05-23T08:43:57.132976",
     "status": "completed"
    },
    "tags": []
   },
   "outputs": [],
   "source": [
    "NEET_DATA = '../../working/upstream/neet.csv'\n",
    "ALL_METADATA = '../../working/upstream/metadata.csv'\n",
    "NEET_16_24 = '../../data/neet/neet.csv'\n",
    "NEET_METADATA = '../../data/neet/metadata.json'\n",
    "\n",
    "os.makedirs(os.path.dirname(NEET_16_24), exist_ok=True)"
   ]
  },
  {
   "cell_type": "code",
   "execution_count": 4,
   "id": "d6c9ca70",
   "metadata": {
    "execution": {
     "iopub.execute_input": "2024-05-23T08:43:57.146111Z",
     "iopub.status.busy": "2024-05-23T08:43:57.145540Z",
     "iopub.status.idle": "2024-05-23T08:43:57.154848Z",
     "shell.execute_reply": "2024-05-23T08:43:57.154164Z"
    },
    "papermill": {
     "duration": 0.013547,
     "end_time": "2024-05-23T08:43:57.156367",
     "exception": false,
     "start_time": "2024-05-23T08:43:57.142820",
     "status": "completed"
    },
    "tags": []
   },
   "outputs": [],
   "source": [
    "data = pd.read_csv('../../working/upstream/neet.csv')"
   ]
  },
  {
   "cell_type": "code",
   "execution_count": 5,
   "id": "45b3b3a3",
   "metadata": {
    "execution": {
     "iopub.execute_input": "2024-05-23T08:43:57.161863Z",
     "iopub.status.busy": "2024-05-23T08:43:57.161400Z",
     "iopub.status.idle": "2024-05-23T08:43:57.164783Z",
     "shell.execute_reply": "2024-05-23T08:43:57.164179Z"
    },
    "papermill": {
     "duration": 0.007513,
     "end_time": "2024-05-23T08:43:57.166071",
     "exception": false,
     "start_time": "2024-05-23T08:43:57.158558",
     "status": "completed"
    },
    "tags": []
   },
   "outputs": [],
   "source": [
    "variable_mapper = {\n",
    "    'Young people who were NEET_Total': 'age_16_to_24_neet_total_sa',\n",
    "    'Young people who were NEET_Unemployed': 'age_16_to_24_neet_unemployed_sa',\n",
    "    'Young people who were NEET_Economically inactive': 'age_16_to_24_neet_economically_inactive_sa',\n",
    "    'Total people in relevant population group': 'age_16_to_24_population',\n",
    "    'People who were NEET as a percentage of people in relevant population group': 'age_16_to_24_neet_total_rate_sa',\n",
    "}"
   ]
  },
  {
   "cell_type": "code",
   "execution_count": 6,
   "id": "071b0154",
   "metadata": {
    "execution": {
     "iopub.execute_input": "2024-05-23T08:43:57.171370Z",
     "iopub.status.busy": "2024-05-23T08:43:57.170981Z",
     "iopub.status.idle": "2024-05-23T08:43:57.175351Z",
     "shell.execute_reply": "2024-05-23T08:43:57.174797Z"
    },
    "papermill": {
     "duration": 0.008527,
     "end_time": "2024-05-23T08:43:57.176623",
     "exception": false,
     "start_time": "2024-05-23T08:43:57.168096",
     "status": "completed"
    },
    "tags": []
   },
   "outputs": [],
   "source": [
    "data = data[data.age == 'Aged 16-24']"
   ]
  },
  {
   "cell_type": "code",
   "execution_count": 7,
   "id": "b631c656",
   "metadata": {
    "execution": {
     "iopub.execute_input": "2024-05-23T08:43:57.182013Z",
     "iopub.status.busy": "2024-05-23T08:43:57.181600Z",
     "iopub.status.idle": "2024-05-23T08:43:57.186137Z",
     "shell.execute_reply": "2024-05-23T08:43:57.185530Z"
    },
    "papermill": {
     "duration": 0.008721,
     "end_time": "2024-05-23T08:43:57.187483",
     "exception": false,
     "start_time": "2024-05-23T08:43:57.178762",
     "status": "completed"
    },
    "tags": []
   },
   "outputs": [],
   "source": [
    "data = data.replace({\n",
    "  'measure': variable_mapper\n",
    "})"
   ]
  },
  {
   "cell_type": "code",
   "execution_count": 8,
   "id": "9eee51bd",
   "metadata": {
    "execution": {
     "iopub.execute_input": "2024-05-23T08:43:57.193650Z",
     "iopub.status.busy": "2024-05-23T08:43:57.193040Z",
     "iopub.status.idle": "2024-05-23T08:43:57.203252Z",
     "shell.execute_reply": "2024-05-23T08:43:57.202688Z"
    },
    "papermill": {
     "duration": 0.015034,
     "end_time": "2024-05-23T08:43:57.204661",
     "exception": false,
     "start_time": "2024-05-23T08:43:57.189627",
     "status": "completed"
    },
    "tags": []
   },
   "outputs": [],
   "source": [
    "data['quarter_start'] = pd.Index(data.date.pipe(quarter_to_date))\n",
    "data['variable'] = data.sheet.str.split(' - ').apply(lambda x: x[0]).str.lower() + '_' + data.measure"
   ]
  },
  {
   "cell_type": "code",
   "execution_count": 9,
   "id": "72293ad9",
   "metadata": {
    "execution": {
     "iopub.execute_input": "2024-05-23T08:43:57.210408Z",
     "iopub.status.busy": "2024-05-23T08:43:57.209907Z",
     "iopub.status.idle": "2024-05-23T08:43:57.218603Z",
     "shell.execute_reply": "2024-05-23T08:43:57.218042Z"
    },
    "papermill": {
     "duration": 0.012866,
     "end_time": "2024-05-23T08:43:57.219930",
     "exception": false,
     "start_time": "2024-05-23T08:43:57.207064",
     "status": "completed"
    },
    "tags": []
   },
   "outputs": [],
   "source": [
    "data = data.pivot_table(index='quarter_start', columns='variable', values='value')"
   ]
  },
  {
   "cell_type": "code",
   "execution_count": 10,
   "id": "ae3ec874",
   "metadata": {
    "execution": {
     "iopub.execute_input": "2024-05-23T08:43:57.225846Z",
     "iopub.status.busy": "2024-05-23T08:43:57.225288Z",
     "iopub.status.idle": "2024-05-23T08:43:57.232351Z",
     "shell.execute_reply": "2024-05-23T08:43:57.231708Z"
    },
    "papermill": {
     "duration": 0.011505,
     "end_time": "2024-05-23T08:43:57.233832",
     "exception": false,
     "start_time": "2024-05-23T08:43:57.222327",
     "status": "completed"
    },
    "tags": []
   },
   "outputs": [],
   "source": [
    "def calculate_rates(data, prefix):\n",
    "    data[prefix + '_age_16_to_24_neet_unemployed_rate_sa'] = data[prefix + '_age_16_to_24_neet_unemployed_sa'] / data[prefix + '_age_16_to_24_population'] * 100\n",
    "    data[prefix + '_age_16_to_24_neet_economically_inactive_rate_sa'] = data[prefix + '_age_16_to_24_neet_economically_inactive_sa'] / data[prefix + '_age_16_to_24_population'] * 100\n",
    "    return data\n",
    "  \n",
    "data = data.pipe(\n",
    "    calculate_rates, 'people'\n",
    ").pipe(\n",
    "    calculate_rates, 'men'\n",
    ").pipe(\n",
    "    calculate_rates, 'women'\n",
    ")\n"
   ]
  },
  {
   "cell_type": "code",
   "execution_count": 11,
   "id": "3deb3df0",
   "metadata": {
    "execution": {
     "iopub.execute_input": "2024-05-23T08:43:57.239584Z",
     "iopub.status.busy": "2024-05-23T08:43:57.239157Z",
     "iopub.status.idle": "2024-05-23T08:43:57.246677Z",
     "shell.execute_reply": "2024-05-23T08:43:57.246090Z"
    },
    "papermill": {
     "duration": 0.011914,
     "end_time": "2024-05-23T08:43:57.247994",
     "exception": false,
     "start_time": "2024-05-23T08:43:57.236080",
     "status": "completed"
    },
    "tags": []
   },
   "outputs": [],
   "source": [
    "column_order = [\n",
    "  'people_age_16_to_24_neet_total_sa',\n",
    "  'people_age_16_to_24_neet_unemployed_sa',\n",
    "  'people_age_16_to_24_neet_economically_inactive_sa',\n",
    "  'people_age_16_to_24_population',\n",
    "  'people_age_16_to_24_neet_total_rate_sa',\n",
    "  'people_age_16_to_24_neet_unemployed_rate_sa',\n",
    "  'people_age_16_to_24_neet_economically_inactive_rate_sa',\n",
    "  'men_age_16_to_24_neet_total_sa',\n",
    "  'men_age_16_to_24_neet_unemployed_sa',\n",
    "  'men_age_16_to_24_neet_economically_inactive_sa',\n",
    "  'men_age_16_to_24_population',\n",
    "  'men_age_16_to_24_neet_total_rate_sa',\n",
    "  'men_age_16_to_24_neet_unemployed_rate_sa',\n",
    "  'men_age_16_to_24_neet_economically_inactive_rate_sa',\n",
    "  'women_age_16_to_24_neet_total_sa',\n",
    "  'women_age_16_to_24_neet_unemployed_sa',\n",
    "  'women_age_16_to_24_neet_economically_inactive_sa',\n",
    "  'women_age_16_to_24_population',\n",
    "  'women_age_16_to_24_neet_total_rate_sa',\n",
    "  'women_age_16_to_24_neet_unemployed_rate_sa',\n",
    "  'women_age_16_to_24_neet_economically_inactive_rate_sa'\n",
    "]\n",
    "\n",
    "data.loc[:, column_order].to_csv(NEET_16_24)"
   ]
  },
  {
   "cell_type": "code",
   "execution_count": 12,
   "id": "88d9af0e",
   "metadata": {
    "execution": {
     "iopub.execute_input": "2024-05-23T08:43:57.253784Z",
     "iopub.status.busy": "2024-05-23T08:43:57.253304Z",
     "iopub.status.idle": "2024-05-23T08:43:57.266484Z",
     "shell.execute_reply": "2024-05-23T08:43:57.265814Z"
    },
    "papermill": {
     "duration": 0.017524,
     "end_time": "2024-05-23T08:43:57.267821",
     "exception": false,
     "start_time": "2024-05-23T08:43:57.250297",
     "status": "completed"
    },
    "tags": []
   },
   "outputs": [
    {
     "data": {
      "text/plain": [
       "id                     object\n",
       "last_update    datetime64[ns]\n",
       "next_update            object\n",
       "dtype: object"
      ]
     },
     "execution_count": 12,
     "metadata": {},
     "output_type": "execute_result"
    }
   ],
   "source": [
    "metadata = pd.read_csv(ALL_METADATA, parse_dates=['last_update', 'next_update'])\n",
    "metadata.set_index(\n",
    "    'id'\n",
    ").rename(\n",
    "    columns={\n",
    "        'last_update': 'published'\n",
    "    }\n",
    ").loc['NEET'].to_json(NEET_METADATA, date_format='iso')\n",
    "\n",
    "metadata.dtypes\n"
   ]
  },
  {
   "cell_type": "code",
   "execution_count": null,
   "id": "d357edd3",
   "metadata": {
    "papermill": {
     "duration": 0.002313,
     "end_time": "2024-05-23T08:43:57.272634",
     "exception": false,
     "start_time": "2024-05-23T08:43:57.270321",
     "status": "completed"
    },
    "tags": []
   },
   "outputs": [],
   "source": []
  },
  {
   "cell_type": "code",
   "execution_count": null,
   "id": "1670d541",
   "metadata": {
    "papermill": {
     "duration": 0.002232,
     "end_time": "2024-05-23T08:43:57.277169",
     "exception": false,
     "start_time": "2024-05-23T08:43:57.274937",
     "status": "completed"
    },
    "tags": []
   },
   "outputs": [],
   "source": []
  }
 ],
 "metadata": {
  "kernelspec": {
   "display_name": "yff-data-ansOWYcy",
   "language": "python",
   "name": "python3"
  },
  "language_info": {
   "codemirror_mode": {
    "name": "ipython",
    "version": 3
   },
   "file_extension": ".py",
   "mimetype": "text/x-python",
   "name": "python",
   "nbconvert_exporter": "python",
   "pygments_lexer": "ipython3",
   "version": "3.10.14"
  },
  "papermill": {
   "default_parameters": {},
   "duration": 1.899057,
   "end_time": "2024-05-23T08:43:57.495338",
   "environment_variables": {},
   "exception": null,
   "input_path": "transform.ipynb",
   "output_path": "../../working/output/neet-transform.ipynb",
   "parameters": {},
   "start_time": "2024-05-23T08:43:55.596281",
   "version": "2.5.0"
  }
 },
 "nbformat": 4,
 "nbformat_minor": 5
}