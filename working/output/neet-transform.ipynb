{
 "cells": [
  {
   "cell_type": "code",
   "execution_count": 1,
   "id": "8913d26b",
   "metadata": {
    "execution": {
     "iopub.execute_input": "2024-04-16T06:34:41.011082Z",
     "iopub.status.busy": "2024-04-16T06:34:41.010810Z",
     "iopub.status.idle": "2024-04-16T06:34:41.321232Z",
     "shell.execute_reply": "2024-04-16T06:34:41.320512Z"
    },
    "papermill": {
     "duration": 0.316508,
     "end_time": "2024-04-16T06:34:41.322877",
     "exception": false,
     "start_time": "2024-04-16T06:34:41.006369",
     "status": "completed"
    },
    "tags": []
   },
   "outputs": [],
   "source": [
    "import os\n",
    "import sys\n",
    "import pandas as pd\n",
    "\n",
    "LIB_DIR = '../../'\n",
    "if LIB_DIR not in sys.path:\n",
    "    sys.path.append(LIB_DIR)"
   ]
  },
  {
   "cell_type": "code",
   "execution_count": 2,
   "id": "d1def774",
   "metadata": {
    "execution": {
     "iopub.execute_input": "2024-04-16T06:34:41.328419Z",
     "iopub.status.busy": "2024-04-16T06:34:41.327948Z",
     "iopub.status.idle": "2024-04-16T06:34:41.332159Z",
     "shell.execute_reply": "2024-04-16T06:34:41.331652Z"
    },
    "papermill": {
     "duration": 0.008295,
     "end_time": "2024-04-16T06:34:41.333460",
     "exception": false,
     "start_time": "2024-04-16T06:34:41.325165",
     "status": "completed"
    },
    "tags": []
   },
   "outputs": [],
   "source": [
    "from scripts.util.date import quarter_to_date"
   ]
  },
  {
   "cell_type": "code",
   "execution_count": 3,
   "id": "659eee3f",
   "metadata": {
    "execution": {
     "iopub.execute_input": "2024-04-16T06:34:41.338428Z",
     "iopub.status.busy": "2024-04-16T06:34:41.338049Z",
     "iopub.status.idle": "2024-04-16T06:34:41.341273Z",
     "shell.execute_reply": "2024-04-16T06:34:41.340685Z"
    },
    "papermill": {
     "duration": 0.007166,
     "end_time": "2024-04-16T06:34:41.342535",
     "exception": false,
     "start_time": "2024-04-16T06:34:41.335369",
     "status": "completed"
    },
    "tags": []
   },
   "outputs": [],
   "source": [
    "NEET_DATA = '../../working/upstream/neet.csv'\n",
    "ALL_METADATA = '../../working/upstream/metadata.csv'\n",
    "NEET_16_24 = '../../data/neet/neet.csv'\n",
    "NEET_METADATA = '../../data/neet/metadata.json'\n",
    "\n",
    "os.makedirs(os.path.dirname(NEET_16_24), exist_ok=True)"
   ]
  },
  {
   "cell_type": "code",
   "execution_count": 4,
   "id": "deb09690",
   "metadata": {
    "execution": {
     "iopub.execute_input": "2024-04-16T06:34:41.347482Z",
     "iopub.status.busy": "2024-04-16T06:34:41.347087Z",
     "iopub.status.idle": "2024-04-16T06:34:41.355619Z",
     "shell.execute_reply": "2024-04-16T06:34:41.355107Z"
    },
    "papermill": {
     "duration": 0.01247,
     "end_time": "2024-04-16T06:34:41.356929",
     "exception": false,
     "start_time": "2024-04-16T06:34:41.344459",
     "status": "completed"
    },
    "tags": []
   },
   "outputs": [],
   "source": [
    "data = pd.read_csv('../../working/upstream/neet.csv')"
   ]
  },
  {
   "cell_type": "code",
   "execution_count": 5,
   "id": "54a554f4",
   "metadata": {
    "execution": {
     "iopub.execute_input": "2024-04-16T06:34:41.361962Z",
     "iopub.status.busy": "2024-04-16T06:34:41.361566Z",
     "iopub.status.idle": "2024-04-16T06:34:41.364751Z",
     "shell.execute_reply": "2024-04-16T06:34:41.364139Z"
    },
    "papermill": {
     "duration": 0.007105,
     "end_time": "2024-04-16T06:34:41.366050",
     "exception": false,
     "start_time": "2024-04-16T06:34:41.358945",
     "status": "completed"
    },
    "tags": []
   },
   "outputs": [],
   "source": [
    "variable_mapper = {\n",
    "    'Young people who were NEET_Total': 'age_16_to_24_neet_total_sa',\n",
    "    'Young people who were NEET_Unemployed': 'age_16_to_24_neet_unemployed_sa',\n",
    "    'Young people who were NEET_Economically inactive': 'age_16_to_24_neet_economically_inactive_sa',\n",
    "    'Total people in relevant population group': 'age_16_to_24_population',\n",
    "    'People who were NEET as a percentage of people in relevant population group': 'age_16_to_24_neet_total_rate_sa',\n",
    "}"
   ]
  },
  {
   "cell_type": "code",
   "execution_count": 6,
   "id": "cb031eed",
   "metadata": {
    "execution": {
     "iopub.execute_input": "2024-04-16T06:34:41.371198Z",
     "iopub.status.busy": "2024-04-16T06:34:41.370774Z",
     "iopub.status.idle": "2024-04-16T06:34:41.374883Z",
     "shell.execute_reply": "2024-04-16T06:34:41.374372Z"
    },
    "papermill": {
     "duration": 0.008141,
     "end_time": "2024-04-16T06:34:41.376146",
     "exception": false,
     "start_time": "2024-04-16T06:34:41.368005",
     "status": "completed"
    },
    "tags": []
   },
   "outputs": [],
   "source": [
    "data = data[data.age == 'Aged 16-24']"
   ]
  },
  {
   "cell_type": "code",
   "execution_count": 7,
   "id": "07d2da24",
   "metadata": {
    "execution": {
     "iopub.execute_input": "2024-04-16T06:34:41.381293Z",
     "iopub.status.busy": "2024-04-16T06:34:41.380893Z",
     "iopub.status.idle": "2024-04-16T06:34:41.385257Z",
     "shell.execute_reply": "2024-04-16T06:34:41.384743Z"
    },
    "papermill": {
     "duration": 0.008364,
     "end_time": "2024-04-16T06:34:41.386532",
     "exception": false,
     "start_time": "2024-04-16T06:34:41.378168",
     "status": "completed"
    },
    "tags": []
   },
   "outputs": [],
   "source": [
    "data = data.replace({\n",
    "  'measure': variable_mapper\n",
    "})"
   ]
  },
  {
   "cell_type": "code",
   "execution_count": 8,
   "id": "58dbe767",
   "metadata": {
    "execution": {
     "iopub.execute_input": "2024-04-16T06:34:41.391654Z",
     "iopub.status.busy": "2024-04-16T06:34:41.391308Z",
     "iopub.status.idle": "2024-04-16T06:34:41.400870Z",
     "shell.execute_reply": "2024-04-16T06:34:41.400201Z"
    },
    "papermill": {
     "duration": 0.013697,
     "end_time": "2024-04-16T06:34:41.402244",
     "exception": false,
     "start_time": "2024-04-16T06:34:41.388547",
     "status": "completed"
    },
    "tags": []
   },
   "outputs": [],
   "source": [
    "data['quarter_start'] = pd.Index(data.date.pipe(quarter_to_date))\n",
    "data['variable'] = data.sheet.str.split(' - ').apply(lambda x: x[0]).str.lower() + '_' + data.measure"
   ]
  },
  {
   "cell_type": "code",
   "execution_count": 9,
   "id": "9f7150ae",
   "metadata": {
    "execution": {
     "iopub.execute_input": "2024-04-16T06:34:41.407606Z",
     "iopub.status.busy": "2024-04-16T06:34:41.407199Z",
     "iopub.status.idle": "2024-04-16T06:34:41.415269Z",
     "shell.execute_reply": "2024-04-16T06:34:41.414627Z"
    },
    "papermill": {
     "duration": 0.012337,
     "end_time": "2024-04-16T06:34:41.416740",
     "exception": false,
     "start_time": "2024-04-16T06:34:41.404403",
     "status": "completed"
    },
    "tags": []
   },
   "outputs": [],
   "source": [
    "data = data.pivot_table(index='quarter_start', columns='variable', values='value')"
   ]
  },
  {
   "cell_type": "code",
   "execution_count": 10,
   "id": "249c1c66",
   "metadata": {
    "execution": {
     "iopub.execute_input": "2024-04-16T06:34:41.422065Z",
     "iopub.status.busy": "2024-04-16T06:34:41.421694Z",
     "iopub.status.idle": "2024-04-16T06:34:41.428316Z",
     "shell.execute_reply": "2024-04-16T06:34:41.427665Z"
    },
    "papermill": {
     "duration": 0.010695,
     "end_time": "2024-04-16T06:34:41.429634",
     "exception": false,
     "start_time": "2024-04-16T06:34:41.418939",
     "status": "completed"
    },
    "tags": []
   },
   "outputs": [],
   "source": [
    "def calculate_rates(data, prefix):\n",
    "    data[prefix + '_age_16_to_24_neet_unemployed_rate_sa'] = data[prefix + '_age_16_to_24_neet_unemployed_sa'] / data[prefix + '_age_16_to_24_population'] * 100\n",
    "    data[prefix + '_age_16_to_24_neet_economically_inactive_rate_sa'] = data[prefix + '_age_16_to_24_neet_economically_inactive_sa'] / data[prefix + '_age_16_to_24_population'] * 100\n",
    "    return data\n",
    "  \n",
    "data = data.pipe(\n",
    "    calculate_rates, 'people'\n",
    ").pipe(\n",
    "    calculate_rates, 'men'\n",
    ").pipe(\n",
    "    calculate_rates, 'women'\n",
    ")\n"
   ]
  },
  {
   "cell_type": "code",
   "execution_count": 11,
   "id": "62d722a8",
   "metadata": {
    "execution": {
     "iopub.execute_input": "2024-04-16T06:34:41.435318Z",
     "iopub.status.busy": "2024-04-16T06:34:41.434951Z",
     "iopub.status.idle": "2024-04-16T06:34:41.442295Z",
     "shell.execute_reply": "2024-04-16T06:34:41.441663Z"
    },
    "papermill": {
     "duration": 0.011811,
     "end_time": "2024-04-16T06:34:41.443718",
     "exception": false,
     "start_time": "2024-04-16T06:34:41.431907",
     "status": "completed"
    },
    "tags": []
   },
   "outputs": [],
   "source": [
    "column_order = [\n",
    "  'people_age_16_to_24_neet_total_sa',\n",
    "  'people_age_16_to_24_neet_unemployed_sa',\n",
    "  'people_age_16_to_24_neet_economically_inactive_sa',\n",
    "  'people_age_16_to_24_population',\n",
    "  'people_age_16_to_24_neet_total_rate_sa',\n",
    "  'people_age_16_to_24_neet_unemployed_rate_sa',\n",
    "  'people_age_16_to_24_neet_economically_inactive_rate_sa',\n",
    "  'men_age_16_to_24_neet_total_sa',\n",
    "  'men_age_16_to_24_neet_unemployed_sa',\n",
    "  'men_age_16_to_24_neet_economically_inactive_sa',\n",
    "  'men_age_16_to_24_population',\n",
    "  'men_age_16_to_24_neet_total_rate_sa',\n",
    "  'men_age_16_to_24_neet_unemployed_rate_sa',\n",
    "  'men_age_16_to_24_neet_economically_inactive_rate_sa',\n",
    "  'women_age_16_to_24_neet_total_sa',\n",
    "  'women_age_16_to_24_neet_unemployed_sa',\n",
    "  'women_age_16_to_24_neet_economically_inactive_sa',\n",
    "  'women_age_16_to_24_population',\n",
    "  'women_age_16_to_24_neet_total_rate_sa',\n",
    "  'women_age_16_to_24_neet_unemployed_rate_sa',\n",
    "  'women_age_16_to_24_neet_economically_inactive_rate_sa'\n",
    "]\n",
    "\n",
    "data.loc[:, column_order].to_csv(NEET_16_24)"
   ]
  },
  {
   "cell_type": "code",
   "execution_count": 12,
   "id": "892a1607",
   "metadata": {
    "execution": {
     "iopub.execute_input": "2024-04-16T06:34:41.449359Z",
     "iopub.status.busy": "2024-04-16T06:34:41.448814Z",
     "iopub.status.idle": "2024-04-16T06:34:41.461601Z",
     "shell.execute_reply": "2024-04-16T06:34:41.460982Z"
    },
    "papermill": {
     "duration": 0.017031,
     "end_time": "2024-04-16T06:34:41.462963",
     "exception": false,
     "start_time": "2024-04-16T06:34:41.445932",
     "status": "completed"
    },
    "tags": []
   },
   "outputs": [
    {
     "data": {
      "text/plain": [
       "id                     object\n",
       "last_update    datetime64[ns]\n",
       "next_update            object\n",
       "dtype: object"
      ]
     },
     "execution_count": 12,
     "metadata": {},
     "output_type": "execute_result"
    }
   ],
   "source": [
    "metadata = pd.read_csv(ALL_METADATA, parse_dates=['last_update', 'next_update'])\n",
    "metadata.set_index(\n",
    "    'id'\n",
    ").rename(\n",
    "    columns={\n",
    "        'last_update': 'published'\n",
    "    }\n",
    ").loc['NEET'].to_json(NEET_METADATA, date_format='iso')\n",
    "\n",
    "metadata.dtypes\n"
   ]
  },
  {
   "cell_type": "code",
   "execution_count": null,
   "id": "9fc7990f",
   "metadata": {
    "papermill": {
     "duration": 0.002311,
     "end_time": "2024-04-16T06:34:41.467681",
     "exception": false,
     "start_time": "2024-04-16T06:34:41.465370",
     "status": "completed"
    },
    "tags": []
   },
   "outputs": [],
   "source": []
  },
  {
   "cell_type": "code",
   "execution_count": null,
   "id": "e3e0d9bc",
   "metadata": {
    "papermill": {
     "duration": 0.002223,
     "end_time": "2024-04-16T06:34:41.472186",
     "exception": false,
     "start_time": "2024-04-16T06:34:41.469963",
     "status": "completed"
    },
    "tags": []
   },
   "outputs": [],
   "source": []
  }
 ],
 "metadata": {
  "kernelspec": {
   "display_name": "yff-data-ansOWYcy",
   "language": "python",
   "name": "python3"
  },
  "language_info": {
   "codemirror_mode": {
    "name": "ipython",
    "version": 3
   },
   "file_extension": ".py",
   "mimetype": "text/x-python",
   "name": "python",
   "nbconvert_exporter": "python",
   "pygments_lexer": "ipython3",
   "version": "3.10.14"
  },
  "papermill": {
   "default_parameters": {},
   "duration": 1.870178,
   "end_time": "2024-04-16T06:34:41.690217",
   "environment_variables": {},
   "exception": null,
   "input_path": "transform.ipynb",
   "output_path": "../../working/output/neet-transform.ipynb",
   "parameters": {},
   "start_time": "2024-04-16T06:34:39.820039",
   "version": "2.5.0"
  }
 },
 "nbformat": 4,
 "nbformat_minor": 5
}