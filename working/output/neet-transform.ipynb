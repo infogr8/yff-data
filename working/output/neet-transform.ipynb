{
 "cells": [
  {
   "cell_type": "code",
   "execution_count": 1,
   "id": "3ac480a4",
   "metadata": {
    "execution": {
     "iopub.execute_input": "2025-07-30T08:27:16.135508Z",
     "iopub.status.busy": "2025-07-30T08:27:16.135253Z",
     "iopub.status.idle": "2025-07-30T08:27:16.435684Z",
     "shell.execute_reply": "2025-07-30T08:27:16.435108Z"
    },
    "papermill": {
     "duration": 0.305792,
     "end_time": "2025-07-30T08:27:16.437335",
     "exception": false,
     "start_time": "2025-07-30T08:27:16.131543",
     "status": "completed"
    },
    "tags": []
   },
   "outputs": [],
   "source": [
    "import os\n",
    "import sys\n",
    "import pandas as pd\n",
    "\n",
    "LIB_DIR = '../../'\n",
    "if LIB_DIR not in sys.path:\n",
    "    sys.path.append(LIB_DIR)"
   ]
  },
  {
   "cell_type": "code",
   "execution_count": 2,
   "id": "d25ad938",
   "metadata": {
    "execution": {
     "iopub.execute_input": "2025-07-30T08:27:16.442784Z",
     "iopub.status.busy": "2025-07-30T08:27:16.442336Z",
     "iopub.status.idle": "2025-07-30T08:27:16.446755Z",
     "shell.execute_reply": "2025-07-30T08:27:16.446253Z"
    },
    "papermill": {
     "duration": 0.008405,
     "end_time": "2025-07-30T08:27:16.448046",
     "exception": false,
     "start_time": "2025-07-30T08:27:16.439641",
     "status": "completed"
    },
    "tags": []
   },
   "outputs": [],
   "source": [
    "from scripts.util.date import quarter_to_date"
   ]
  },
  {
   "cell_type": "code",
   "execution_count": 3,
   "id": "fa2eb38d",
   "metadata": {
    "execution": {
     "iopub.execute_input": "2025-07-30T08:27:16.453000Z",
     "iopub.status.busy": "2025-07-30T08:27:16.452588Z",
     "iopub.status.idle": "2025-07-30T08:27:16.455933Z",
     "shell.execute_reply": "2025-07-30T08:27:16.455359Z"
    },
    "papermill": {
     "duration": 0.007298,
     "end_time": "2025-07-30T08:27:16.457275",
     "exception": false,
     "start_time": "2025-07-30T08:27:16.449977",
     "status": "completed"
    },
    "tags": []
   },
   "outputs": [],
   "source": [
    "NEET_DATA = '../../working/upstream/neet.csv'\n",
    "ALL_METADATA = '../../working/upstream/metadata.csv'\n",
    "NEET_16_24 = '../../data/neet/neet.csv'\n",
    "NEET_METADATA = '../../data/neet/metadata.json'\n",
    "\n",
    "os.makedirs(os.path.dirname(NEET_16_24), exist_ok=True)"
   ]
  },
  {
   "cell_type": "code",
   "execution_count": 4,
   "id": "c4acddef",
   "metadata": {
    "execution": {
     "iopub.execute_input": "2025-07-30T08:27:16.461886Z",
     "iopub.status.busy": "2025-07-30T08:27:16.461689Z",
     "iopub.status.idle": "2025-07-30T08:27:16.469735Z",
     "shell.execute_reply": "2025-07-30T08:27:16.469192Z"
    },
    "papermill": {
     "duration": 0.011787,
     "end_time": "2025-07-30T08:27:16.470986",
     "exception": false,
     "start_time": "2025-07-30T08:27:16.459199",
     "status": "completed"
    },
    "tags": []
   },
   "outputs": [],
   "source": [
    "data = pd.read_csv('../../working/upstream/neet.csv')"
   ]
  },
  {
   "cell_type": "code",
   "execution_count": 5,
   "id": "c9eb6a22",
   "metadata": {
    "execution": {
     "iopub.execute_input": "2025-07-30T08:27:16.475707Z",
     "iopub.status.busy": "2025-07-30T08:27:16.475507Z",
     "iopub.status.idle": "2025-07-30T08:27:16.478809Z",
     "shell.execute_reply": "2025-07-30T08:27:16.478242Z"
    },
    "papermill": {
     "duration": 0.007175,
     "end_time": "2025-07-30T08:27:16.480112",
     "exception": false,
     "start_time": "2025-07-30T08:27:16.472937",
     "status": "completed"
    },
    "tags": []
   },
   "outputs": [],
   "source": [
    "variable_mapper = {\n",
    "    'Young people who were NEET_Total': 'age_16_to_24_neet_total_sa',\n",
    "    'Young people who were NEET_Unemployed': 'age_16_to_24_neet_unemployed_sa',\n",
    "    'Young people who were NEET_Economically inactive': 'age_16_to_24_neet_economically_inactive_sa',\n",
    "    'Total people in relevant population group': 'age_16_to_24_population',\n",
    "    'People who were NEET as a percentage of people in relevant population group': 'age_16_to_24_neet_total_rate_sa',\n",
    "}"
   ]
  },
  {
   "cell_type": "code",
   "execution_count": 6,
   "id": "125a47db",
   "metadata": {
    "execution": {
     "iopub.execute_input": "2025-07-30T08:27:16.485393Z",
     "iopub.status.busy": "2025-07-30T08:27:16.484879Z",
     "iopub.status.idle": "2025-07-30T08:27:16.488983Z",
     "shell.execute_reply": "2025-07-30T08:27:16.488449Z"
    },
    "papermill": {
     "duration": 0.008215,
     "end_time": "2025-07-30T08:27:16.490367",
     "exception": false,
     "start_time": "2025-07-30T08:27:16.482152",
     "status": "completed"
    },
    "tags": []
   },
   "outputs": [],
   "source": [
    "data = data[data.age == 'Aged 16-24']"
   ]
  },
  {
   "cell_type": "code",
   "execution_count": 7,
   "id": "8d7f08d6",
   "metadata": {
    "execution": {
     "iopub.execute_input": "2025-07-30T08:27:16.495404Z",
     "iopub.status.busy": "2025-07-30T08:27:16.495201Z",
     "iopub.status.idle": "2025-07-30T08:27:16.499602Z",
     "shell.execute_reply": "2025-07-30T08:27:16.499090Z"
    },
    "papermill": {
     "duration": 0.008495,
     "end_time": "2025-07-30T08:27:16.500863",
     "exception": false,
     "start_time": "2025-07-30T08:27:16.492368",
     "status": "completed"
    },
    "tags": []
   },
   "outputs": [],
   "source": [
    "data = data.replace({\n",
    "  'measure': variable_mapper\n",
    "})"
   ]
  },
  {
   "cell_type": "code",
   "execution_count": 8,
   "id": "4fbc9736",
   "metadata": {
    "execution": {
     "iopub.execute_input": "2025-07-30T08:27:16.505869Z",
     "iopub.status.busy": "2025-07-30T08:27:16.505673Z",
     "iopub.status.idle": "2025-07-30T08:27:16.515179Z",
     "shell.execute_reply": "2025-07-30T08:27:16.514608Z"
    },
    "papermill": {
     "duration": 0.013537,
     "end_time": "2025-07-30T08:27:16.516465",
     "exception": false,
     "start_time": "2025-07-30T08:27:16.502928",
     "status": "completed"
    },
    "tags": []
   },
   "outputs": [],
   "source": [
    "data['quarter_start'] = pd.Index(data.date.pipe(quarter_to_date))\n",
    "data['variable'] = data.sheet.str.split(' - ').apply(lambda x: x[0]).str.lower() + '_' + data.measure"
   ]
  },
  {
   "cell_type": "code",
   "execution_count": 9,
   "id": "19a603f3",
   "metadata": {
    "execution": {
     "iopub.execute_input": "2025-07-30T08:27:16.521664Z",
     "iopub.status.busy": "2025-07-30T08:27:16.521418Z",
     "iopub.status.idle": "2025-07-30T08:27:16.530399Z",
     "shell.execute_reply": "2025-07-30T08:27:16.529857Z"
    },
    "papermill": {
     "duration": 0.01315,
     "end_time": "2025-07-30T08:27:16.531771",
     "exception": false,
     "start_time": "2025-07-30T08:27:16.518621",
     "status": "completed"
    },
    "tags": []
   },
   "outputs": [],
   "source": [
    "data = data.pivot_table(index='quarter_start', columns='variable', values='value')"
   ]
  },
  {
   "cell_type": "code",
   "execution_count": 10,
   "id": "4829ab72",
   "metadata": {
    "execution": {
     "iopub.execute_input": "2025-07-30T08:27:16.537211Z",
     "iopub.status.busy": "2025-07-30T08:27:16.536691Z",
     "iopub.status.idle": "2025-07-30T08:27:16.543457Z",
     "shell.execute_reply": "2025-07-30T08:27:16.542779Z"
    },
    "papermill": {
     "duration": 0.010885,
     "end_time": "2025-07-30T08:27:16.544781",
     "exception": false,
     "start_time": "2025-07-30T08:27:16.533896",
     "status": "completed"
    },
    "tags": []
   },
   "outputs": [],
   "source": [
    "def calculate_rates(data, prefix):\n",
    "    data[prefix + '_age_16_to_24_neet_unemployed_rate_sa'] = data[prefix + '_age_16_to_24_neet_unemployed_sa'] / data[prefix + '_age_16_to_24_population'] * 100\n",
    "    data[prefix + '_age_16_to_24_neet_economically_inactive_rate_sa'] = data[prefix + '_age_16_to_24_neet_economically_inactive_sa'] / data[prefix + '_age_16_to_24_population'] * 100\n",
    "    return data\n",
    "  \n",
    "data = data.pipe(\n",
    "    calculate_rates, 'people'\n",
    ").pipe(\n",
    "    calculate_rates, 'men'\n",
    ").pipe(\n",
    "    calculate_rates, 'women'\n",
    ")\n"
   ]
  },
  {
   "cell_type": "code",
   "execution_count": 11,
   "id": "a7ab17f1",
   "metadata": {
    "execution": {
     "iopub.execute_input": "2025-07-30T08:27:16.550374Z",
     "iopub.status.busy": "2025-07-30T08:27:16.549895Z",
     "iopub.status.idle": "2025-07-30T08:27:16.557030Z",
     "shell.execute_reply": "2025-07-30T08:27:16.556490Z"
    },
    "papermill": {
     "duration": 0.01136,
     "end_time": "2025-07-30T08:27:16.558383",
     "exception": false,
     "start_time": "2025-07-30T08:27:16.547023",
     "status": "completed"
    },
    "tags": []
   },
   "outputs": [],
   "source": [
    "column_order = [\n",
    "  'people_age_16_to_24_neet_total_sa',\n",
    "  'people_age_16_to_24_neet_unemployed_sa',\n",
    "  'people_age_16_to_24_neet_economically_inactive_sa',\n",
    "  'people_age_16_to_24_population',\n",
    "  'people_age_16_to_24_neet_total_rate_sa',\n",
    "  'people_age_16_to_24_neet_unemployed_rate_sa',\n",
    "  'people_age_16_to_24_neet_economically_inactive_rate_sa',\n",
    "  'men_age_16_to_24_neet_total_sa',\n",
    "  'men_age_16_to_24_neet_unemployed_sa',\n",
    "  'men_age_16_to_24_neet_economically_inactive_sa',\n",
    "  'men_age_16_to_24_population',\n",
    "  'men_age_16_to_24_neet_total_rate_sa',\n",
    "  'men_age_16_to_24_neet_unemployed_rate_sa',\n",
    "  'men_age_16_to_24_neet_economically_inactive_rate_sa',\n",
    "  'women_age_16_to_24_neet_total_sa',\n",
    "  'women_age_16_to_24_neet_unemployed_sa',\n",
    "  'women_age_16_to_24_neet_economically_inactive_sa',\n",
    "  'women_age_16_to_24_population',\n",
    "  'women_age_16_to_24_neet_total_rate_sa',\n",
    "  'women_age_16_to_24_neet_unemployed_rate_sa',\n",
    "  'women_age_16_to_24_neet_economically_inactive_rate_sa'\n",
    "]\n",
    "\n",
    "data.loc[:, column_order].to_csv(NEET_16_24)"
   ]
  },
  {
   "cell_type": "code",
   "execution_count": 12,
   "id": "e3b696ef",
   "metadata": {
    "execution": {
     "iopub.execute_input": "2025-07-30T08:27:16.563776Z",
     "iopub.status.busy": "2025-07-30T08:27:16.563391Z",
     "iopub.status.idle": "2025-07-30T08:27:16.577336Z",
     "shell.execute_reply": "2025-07-30T08:27:16.576646Z"
    },
    "papermill": {
     "duration": 0.018434,
     "end_time": "2025-07-30T08:27:16.579002",
     "exception": false,
     "start_time": "2025-07-30T08:27:16.560568",
     "status": "completed"
    },
    "tags": []
   },
   "outputs": [
    {
     "data": {
      "text/plain": [
       "id                     object\n",
       "last_update    datetime64[ns]\n",
       "next_update            object\n",
       "dtype: object"
      ]
     },
     "execution_count": 12,
     "metadata": {},
     "output_type": "execute_result"
    }
   ],
   "source": [
    "metadata = pd.read_csv(ALL_METADATA, parse_dates=['last_update', 'next_update'])\n",
    "metadata.set_index(\n",
    "    'id'\n",
    ").rename(\n",
    "    columns={\n",
    "        'last_update': 'published'\n",
    "    }\n",
    ").loc['NEET'].to_json(NEET_METADATA, date_format='iso')\n",
    "\n",
    "metadata.dtypes\n"
   ]
  },
  {
   "cell_type": "code",
   "execution_count": null,
   "id": "fec2825f",
   "metadata": {
    "papermill": {
     "duration": 0.003274,
     "end_time": "2025-07-30T08:27:16.584669",
     "exception": false,
     "start_time": "2025-07-30T08:27:16.581395",
     "status": "completed"
    },
    "tags": []
   },
   "outputs": [],
   "source": []
  },
  {
   "cell_type": "code",
   "execution_count": null,
   "id": "ca994471",
   "metadata": {
    "papermill": {
     "duration": 0.002283,
     "end_time": "2025-07-30T08:27:16.589247",
     "exception": false,
     "start_time": "2025-07-30T08:27:16.586964",
     "status": "completed"
    },
    "tags": []
   },
   "outputs": [],
   "source": []
  }
 ],
 "metadata": {
  "kernelspec": {
   "display_name": "yff-data-ansOWYcy",
   "language": "python",
   "name": "python3"
  },
  "language_info": {
   "codemirror_mode": {
    "name": "ipython",
    "version": 3
   },
   "file_extension": ".py",
   "mimetype": "text/x-python",
   "name": "python",
   "nbconvert_exporter": "python",
   "pygments_lexer": "ipython3",
   "version": "3.10.18"
  },
  "papermill": {
   "default_parameters": {},
   "duration": 1.853176,
   "end_time": "2025-07-30T08:27:16.807660",
   "environment_variables": {},
   "exception": null,
   "input_path": "transform.ipynb",
   "output_path": "../../working/output/neet-transform.ipynb",
   "parameters": {},
   "start_time": "2025-07-30T08:27:14.954484",
   "version": "2.5.0"
  }
 },
 "nbformat": 4,
 "nbformat_minor": 5
}