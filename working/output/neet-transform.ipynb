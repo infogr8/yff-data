{
 "cells": [
  {
   "cell_type": "code",
   "execution_count": 1,
   "id": "a7185058",
   "metadata": {
    "execution": {
     "iopub.execute_input": "2023-11-17T13:10:37.105381Z",
     "iopub.status.busy": "2023-11-17T13:10:37.104646Z",
     "iopub.status.idle": "2023-11-17T13:10:37.258088Z",
     "shell.execute_reply": "2023-11-17T13:10:37.257647Z"
    },
    "papermill": {
     "duration": 0.160262,
     "end_time": "2023-11-17T13:10:37.259204",
     "exception": false,
     "start_time": "2023-11-17T13:10:37.098942",
     "status": "completed"
    },
    "tags": []
   },
   "outputs": [],
   "source": [
    "import os\n",
    "import sys\n",
    "import pandas as pd\n",
    "\n",
    "LIB_DIR = '../../'\n",
    "if LIB_DIR not in sys.path:\n",
    "    sys.path.append(LIB_DIR)"
   ]
  },
  {
   "cell_type": "code",
   "execution_count": 2,
   "id": "fcbee066",
   "metadata": {
    "execution": {
     "iopub.execute_input": "2023-11-17T13:10:37.262376Z",
     "iopub.status.busy": "2023-11-17T13:10:37.262187Z",
     "iopub.status.idle": "2023-11-17T13:10:37.264616Z",
     "shell.execute_reply": "2023-11-17T13:10:37.264304Z"
    },
    "papermill": {
     "duration": 0.004826,
     "end_time": "2023-11-17T13:10:37.265379",
     "exception": false,
     "start_time": "2023-11-17T13:10:37.260553",
     "status": "completed"
    },
    "tags": []
   },
   "outputs": [],
   "source": [
    "from scripts.util.date import quarter_to_date"
   ]
  },
  {
   "cell_type": "code",
   "execution_count": 3,
   "id": "7d7db170",
   "metadata": {
    "execution": {
     "iopub.execute_input": "2023-11-17T13:10:37.268222Z",
     "iopub.status.busy": "2023-11-17T13:10:37.267986Z",
     "iopub.status.idle": "2023-11-17T13:10:37.270037Z",
     "shell.execute_reply": "2023-11-17T13:10:37.269764Z"
    },
    "papermill": {
     "duration": 0.004176,
     "end_time": "2023-11-17T13:10:37.270669",
     "exception": false,
     "start_time": "2023-11-17T13:10:37.266493",
     "status": "completed"
    },
    "tags": []
   },
   "outputs": [],
   "source": [
    "NEET_DATA = '../../working/upstream/neet.csv'\n",
    "ALL_METADATA = '../../working/upstream/metadata.csv'\n",
    "NEET_16_24 = '../../data/neet/neet.csv'\n",
    "NEET_METADATA = '../../data/neet/metadata.json'\n",
    "\n",
    "os.makedirs(os.path.dirname(NEET_16_24), exist_ok=True)"
   ]
  },
  {
   "cell_type": "code",
   "execution_count": 4,
   "id": "52c006b7",
   "metadata": {
    "execution": {
     "iopub.execute_input": "2023-11-17T13:10:37.273350Z",
     "iopub.status.busy": "2023-11-17T13:10:37.273238Z",
     "iopub.status.idle": "2023-11-17T13:10:37.278668Z",
     "shell.execute_reply": "2023-11-17T13:10:37.278350Z"
    },
    "papermill": {
     "duration": 0.007628,
     "end_time": "2023-11-17T13:10:37.279400",
     "exception": false,
     "start_time": "2023-11-17T13:10:37.271772",
     "status": "completed"
    },
    "tags": []
   },
   "outputs": [],
   "source": [
    "data = pd.read_csv('../../working/upstream/neet.csv')"
   ]
  },
  {
   "cell_type": "code",
   "execution_count": 5,
   "id": "f7945eac",
   "metadata": {
    "execution": {
     "iopub.execute_input": "2023-11-17T13:10:37.282309Z",
     "iopub.status.busy": "2023-11-17T13:10:37.282134Z",
     "iopub.status.idle": "2023-11-17T13:10:37.284035Z",
     "shell.execute_reply": "2023-11-17T13:10:37.283746Z"
    },
    "papermill": {
     "duration": 0.004226,
     "end_time": "2023-11-17T13:10:37.284784",
     "exception": false,
     "start_time": "2023-11-17T13:10:37.280558",
     "status": "completed"
    },
    "tags": []
   },
   "outputs": [],
   "source": [
    "variable_mapper = {\n",
    "    'Young people who were NEET_Total': 'age_16_to_24_neet_total_sa',\n",
    "    'Young people who were NEET_Unemployed': 'age_16_to_24_neet_unemployed_sa',\n",
    "    'Young people who were NEET_Economically inactive': 'age_16_to_24_neet_economically_inactive_sa',\n",
    "    'Total people in relevant population group': 'age_16_to_24_population',\n",
    "    'People who were NEET as a percentage of people in relevant population group': 'age_16_to_24_neet_total_rate_sa',\n",
    "}"
   ]
  },
  {
   "cell_type": "code",
   "execution_count": 6,
   "id": "dc71f000",
   "metadata": {
    "execution": {
     "iopub.execute_input": "2023-11-17T13:10:37.287514Z",
     "iopub.status.busy": "2023-11-17T13:10:37.287407Z",
     "iopub.status.idle": "2023-11-17T13:10:37.289768Z",
     "shell.execute_reply": "2023-11-17T13:10:37.289503Z"
    },
    "papermill": {
     "duration": 0.004443,
     "end_time": "2023-11-17T13:10:37.290384",
     "exception": false,
     "start_time": "2023-11-17T13:10:37.285941",
     "status": "completed"
    },
    "tags": []
   },
   "outputs": [],
   "source": [
    "data = data[data.age == 'Aged 16-24']"
   ]
  },
  {
   "cell_type": "code",
   "execution_count": 7,
   "id": "801d47ad",
   "metadata": {
    "execution": {
     "iopub.execute_input": "2023-11-17T13:10:37.293118Z",
     "iopub.status.busy": "2023-11-17T13:10:37.293016Z",
     "iopub.status.idle": "2023-11-17T13:10:37.295531Z",
     "shell.execute_reply": "2023-11-17T13:10:37.295219Z"
    },
    "papermill": {
     "duration": 0.004824,
     "end_time": "2023-11-17T13:10:37.296345",
     "exception": false,
     "start_time": "2023-11-17T13:10:37.291521",
     "status": "completed"
    },
    "tags": []
   },
   "outputs": [],
   "source": [
    "data = data.replace({\n",
    "  'measure': variable_mapper\n",
    "})"
   ]
  },
  {
   "cell_type": "code",
   "execution_count": 8,
   "id": "75ccbb51",
   "metadata": {
    "execution": {
     "iopub.execute_input": "2023-11-17T13:10:37.299170Z",
     "iopub.status.busy": "2023-11-17T13:10:37.299008Z",
     "iopub.status.idle": "2023-11-17T13:10:37.304422Z",
     "shell.execute_reply": "2023-11-17T13:10:37.304102Z"
    },
    "papermill": {
     "duration": 0.007694,
     "end_time": "2023-11-17T13:10:37.305190",
     "exception": false,
     "start_time": "2023-11-17T13:10:37.297496",
     "status": "completed"
    },
    "tags": []
   },
   "outputs": [],
   "source": [
    "data['quarter_start'] = pd.Index(data.date.pipe(quarter_to_date))\n",
    "data['variable'] = data.sheet.str.split(' - ').apply(lambda x: x[0]).str.lower() + '_' + data.measure"
   ]
  },
  {
   "cell_type": "code",
   "execution_count": 9,
   "id": "943e321f",
   "metadata": {
    "execution": {
     "iopub.execute_input": "2023-11-17T13:10:37.308063Z",
     "iopub.status.busy": "2023-11-17T13:10:37.307948Z",
     "iopub.status.idle": "2023-11-17T13:10:37.313679Z",
     "shell.execute_reply": "2023-11-17T13:10:37.313348Z"
    },
    "papermill": {
     "duration": 0.008162,
     "end_time": "2023-11-17T13:10:37.314538",
     "exception": false,
     "start_time": "2023-11-17T13:10:37.306376",
     "status": "completed"
    },
    "tags": []
   },
   "outputs": [],
   "source": [
    "data = data.pivot_table(index='quarter_start', columns='variable', values='value')"
   ]
  },
  {
   "cell_type": "code",
   "execution_count": 10,
   "id": "2dc25eb7",
   "metadata": {
    "execution": {
     "iopub.execute_input": "2023-11-17T13:10:37.317545Z",
     "iopub.status.busy": "2023-11-17T13:10:37.317327Z",
     "iopub.status.idle": "2023-11-17T13:10:37.321050Z",
     "shell.execute_reply": "2023-11-17T13:10:37.320774Z"
    },
    "papermill": {
     "duration": 0.006095,
     "end_time": "2023-11-17T13:10:37.321849",
     "exception": false,
     "start_time": "2023-11-17T13:10:37.315754",
     "status": "completed"
    },
    "tags": []
   },
   "outputs": [],
   "source": [
    "def calculate_rates(data, prefix):\n",
    "    data[prefix + '_age_16_to_24_neet_unemployed_rate_sa'] = data[prefix + '_age_16_to_24_neet_unemployed_sa'] / data[prefix + '_age_16_to_24_population'] * 100\n",
    "    data[prefix + '_age_16_to_24_neet_economically_inactive_rate_sa'] = data[prefix + '_age_16_to_24_neet_economically_inactive_sa'] / data[prefix + '_age_16_to_24_population'] * 100\n",
    "    return data\n",
    "  \n",
    "data = data.pipe(\n",
    "    calculate_rates, 'people'\n",
    ").pipe(\n",
    "    calculate_rates, 'men'\n",
    ").pipe(\n",
    "    calculate_rates, 'women'\n",
    ")\n"
   ]
  },
  {
   "cell_type": "code",
   "execution_count": 11,
   "id": "9e4f9f0a",
   "metadata": {
    "execution": {
     "iopub.execute_input": "2023-11-17T13:10:37.324833Z",
     "iopub.status.busy": "2023-11-17T13:10:37.324673Z",
     "iopub.status.idle": "2023-11-17T13:10:37.328914Z",
     "shell.execute_reply": "2023-11-17T13:10:37.328601Z"
    },
    "papermill": {
     "duration": 0.00661,
     "end_time": "2023-11-17T13:10:37.329719",
     "exception": false,
     "start_time": "2023-11-17T13:10:37.323109",
     "status": "completed"
    },
    "tags": []
   },
   "outputs": [],
   "source": [
    "column_order = [\n",
    "  'people_age_16_to_24_neet_total_sa',\n",
    "  'people_age_16_to_24_neet_unemployed_sa',\n",
    "  'people_age_16_to_24_neet_economically_inactive_sa',\n",
    "  'people_age_16_to_24_population',\n",
    "  'people_age_16_to_24_neet_total_rate_sa',\n",
    "  'people_age_16_to_24_neet_unemployed_rate_sa',\n",
    "  'people_age_16_to_24_neet_economically_inactive_rate_sa',\n",
    "  'men_age_16_to_24_neet_total_sa',\n",
    "  'men_age_16_to_24_neet_unemployed_sa',\n",
    "  'men_age_16_to_24_neet_economically_inactive_sa',\n",
    "  'men_age_16_to_24_population',\n",
    "  'men_age_16_to_24_neet_total_rate_sa',\n",
    "  'men_age_16_to_24_neet_unemployed_rate_sa',\n",
    "  'men_age_16_to_24_neet_economically_inactive_rate_sa',\n",
    "  'women_age_16_to_24_neet_total_sa',\n",
    "  'women_age_16_to_24_neet_unemployed_sa',\n",
    "  'women_age_16_to_24_neet_economically_inactive_sa',\n",
    "  'women_age_16_to_24_population',\n",
    "  'women_age_16_to_24_neet_total_rate_sa',\n",
    "  'women_age_16_to_24_neet_unemployed_rate_sa',\n",
    "  'women_age_16_to_24_neet_economically_inactive_rate_sa'\n",
    "]\n",
    "\n",
    "data.loc[:, column_order].to_csv(NEET_16_24)"
   ]
  },
  {
   "cell_type": "code",
   "execution_count": 12,
   "id": "b0fd2004",
   "metadata": {
    "execution": {
     "iopub.execute_input": "2023-11-17T13:10:37.332788Z",
     "iopub.status.busy": "2023-11-17T13:10:37.332559Z",
     "iopub.status.idle": "2023-11-17T13:10:37.339199Z",
     "shell.execute_reply": "2023-11-17T13:10:37.338926Z"
    },
    "papermill": {
     "duration": 0.009085,
     "end_time": "2023-11-17T13:10:37.340039",
     "exception": false,
     "start_time": "2023-11-17T13:10:37.330954",
     "status": "completed"
    },
    "tags": []
   },
   "outputs": [
    {
     "data": {
      "text/plain": [
       "id                     object\n",
       "last_update    datetime64[ns]\n",
       "next_update    datetime64[ns]\n",
       "dtype: object"
      ]
     },
     "execution_count": 12,
     "metadata": {},
     "output_type": "execute_result"
    }
   ],
   "source": [
    "metadata = pd.read_csv(ALL_METADATA, parse_dates=['last_update', 'next_update'])\n",
    "metadata.set_index(\n",
    "    'id'\n",
    ").rename(\n",
    "    columns={\n",
    "        'last_update': 'published'\n",
    "    }\n",
    ").loc['NEET'].to_json(NEET_METADATA, date_format='iso')\n",
    "\n",
    "metadata.dtypes\n"
   ]
  },
  {
   "cell_type": "code",
   "execution_count": null,
   "id": "3d9f98e9",
   "metadata": {
    "papermill": {
     "duration": 0.001274,
     "end_time": "2023-11-17T13:10:37.342708",
     "exception": false,
     "start_time": "2023-11-17T13:10:37.341434",
     "status": "completed"
    },
    "tags": []
   },
   "outputs": [],
   "source": []
  },
  {
   "cell_type": "code",
   "execution_count": null,
   "id": "275ba452",
   "metadata": {
    "papermill": {
     "duration": 0.001215,
     "end_time": "2023-11-17T13:10:37.345178",
     "exception": false,
     "start_time": "2023-11-17T13:10:37.343963",
     "status": "completed"
    },
    "tags": []
   },
   "outputs": [],
   "source": []
  }
 ],
 "metadata": {
  "kernelspec": {
   "display_name": "yff-data-ansOWYcy",
   "language": "python",
   "name": "python3"
  },
  "language_info": {
   "codemirror_mode": {
    "name": "ipython",
    "version": 3
   },
   "file_extension": ".py",
   "mimetype": "text/x-python",
   "name": "python",
   "nbconvert_exporter": "python",
   "pygments_lexer": "ipython3",
   "version": "3.10.12"
  },
  "papermill": {
   "default_parameters": {},
   "duration": 1.16694,
   "end_time": "2023-11-17T13:10:37.563404",
   "environment_variables": {},
   "exception": null,
   "input_path": "transform.ipynb",
   "output_path": "../../working/output/neet-transform.ipynb",
   "parameters": {},
   "start_time": "2023-11-17T13:10:36.396464",
   "version": "2.4.0"
  }
 },
 "nbformat": 4,
 "nbformat_minor": 5
}