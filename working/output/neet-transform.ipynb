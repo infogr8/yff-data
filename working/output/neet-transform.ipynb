{
 "cells": [
  {
   "cell_type": "code",
   "execution_count": 1,
   "id": "c143144c",
   "metadata": {
    "execution": {
     "iopub.execute_input": "2024-02-07T16:50:54.278727Z",
     "iopub.status.busy": "2024-02-07T16:50:54.278125Z",
     "iopub.status.idle": "2024-02-07T16:50:54.432459Z",
     "shell.execute_reply": "2024-02-07T16:50:54.432092Z"
    },
    "papermill": {
     "duration": 0.161697,
     "end_time": "2024-02-07T16:50:54.433588",
     "exception": false,
     "start_time": "2024-02-07T16:50:54.271891",
     "status": "completed"
    },
    "tags": []
   },
   "outputs": [],
   "source": [
    "import os\n",
    "import sys\n",
    "import pandas as pd\n",
    "\n",
    "LIB_DIR = '../../'\n",
    "if LIB_DIR not in sys.path:\n",
    "    sys.path.append(LIB_DIR)"
   ]
  },
  {
   "cell_type": "code",
   "execution_count": 2,
   "id": "e0f9a080",
   "metadata": {
    "execution": {
     "iopub.execute_input": "2024-02-07T16:50:54.436921Z",
     "iopub.status.busy": "2024-02-07T16:50:54.436588Z",
     "iopub.status.idle": "2024-02-07T16:50:54.439278Z",
     "shell.execute_reply": "2024-02-07T16:50:54.438968Z"
    },
    "papermill": {
     "duration": 0.005104,
     "end_time": "2024-02-07T16:50:54.439998",
     "exception": false,
     "start_time": "2024-02-07T16:50:54.434894",
     "status": "completed"
    },
    "tags": []
   },
   "outputs": [],
   "source": [
    "from scripts.util.date import quarter_to_date"
   ]
  },
  {
   "cell_type": "code",
   "execution_count": 3,
   "id": "b14c6b93",
   "metadata": {
    "execution": {
     "iopub.execute_input": "2024-02-07T16:50:54.442724Z",
     "iopub.status.busy": "2024-02-07T16:50:54.442577Z",
     "iopub.status.idle": "2024-02-07T16:50:54.444736Z",
     "shell.execute_reply": "2024-02-07T16:50:54.444443Z"
    },
    "papermill": {
     "duration": 0.004356,
     "end_time": "2024-02-07T16:50:54.445459",
     "exception": false,
     "start_time": "2024-02-07T16:50:54.441103",
     "status": "completed"
    },
    "tags": []
   },
   "outputs": [],
   "source": [
    "NEET_DATA = '../../working/upstream/neet.csv'\n",
    "ALL_METADATA = '../../working/upstream/metadata.csv'\n",
    "NEET_16_24 = '../../data/neet/neet.csv'\n",
    "NEET_METADATA = '../../data/neet/metadata.json'\n",
    "\n",
    "os.makedirs(os.path.dirname(NEET_16_24), exist_ok=True)"
   ]
  },
  {
   "cell_type": "code",
   "execution_count": 4,
   "id": "7c4ea1ea",
   "metadata": {
    "execution": {
     "iopub.execute_input": "2024-02-07T16:50:54.448077Z",
     "iopub.status.busy": "2024-02-07T16:50:54.447954Z",
     "iopub.status.idle": "2024-02-07T16:50:54.453485Z",
     "shell.execute_reply": "2024-02-07T16:50:54.453164Z"
    },
    "papermill": {
     "duration": 0.007577,
     "end_time": "2024-02-07T16:50:54.454133",
     "exception": false,
     "start_time": "2024-02-07T16:50:54.446556",
     "status": "completed"
    },
    "tags": []
   },
   "outputs": [],
   "source": [
    "data = pd.read_csv('../../working/upstream/neet.csv')"
   ]
  },
  {
   "cell_type": "code",
   "execution_count": 5,
   "id": "45da278d",
   "metadata": {
    "execution": {
     "iopub.execute_input": "2024-02-07T16:50:54.456931Z",
     "iopub.status.busy": "2024-02-07T16:50:54.456792Z",
     "iopub.status.idle": "2024-02-07T16:50:54.458675Z",
     "shell.execute_reply": "2024-02-07T16:50:54.458433Z"
    },
    "papermill": {
     "duration": 0.004028,
     "end_time": "2024-02-07T16:50:54.459324",
     "exception": false,
     "start_time": "2024-02-07T16:50:54.455296",
     "status": "completed"
    },
    "tags": []
   },
   "outputs": [],
   "source": [
    "variable_mapper = {\n",
    "    'Young people who were NEET_Total': 'age_16_to_24_neet_total_sa',\n",
    "    'Young people who were NEET_Unemployed': 'age_16_to_24_neet_unemployed_sa',\n",
    "    'Young people who were NEET_Economically inactive': 'age_16_to_24_neet_economically_inactive_sa',\n",
    "    'Total people in relevant population group': 'age_16_to_24_population',\n",
    "    'People who were NEET as a percentage of people in relevant population group': 'age_16_to_24_neet_total_rate_sa',\n",
    "}"
   ]
  },
  {
   "cell_type": "code",
   "execution_count": 6,
   "id": "1923d446",
   "metadata": {
    "execution": {
     "iopub.execute_input": "2024-02-07T16:50:54.462139Z",
     "iopub.status.busy": "2024-02-07T16:50:54.461931Z",
     "iopub.status.idle": "2024-02-07T16:50:54.464495Z",
     "shell.execute_reply": "2024-02-07T16:50:54.464170Z"
    },
    "papermill": {
     "duration": 0.004671,
     "end_time": "2024-02-07T16:50:54.465166",
     "exception": false,
     "start_time": "2024-02-07T16:50:54.460495",
     "status": "completed"
    },
    "tags": []
   },
   "outputs": [],
   "source": [
    "data = data[data.age == 'Aged 16-24']"
   ]
  },
  {
   "cell_type": "code",
   "execution_count": 7,
   "id": "f8d1260b",
   "metadata": {
    "execution": {
     "iopub.execute_input": "2024-02-07T16:50:54.467915Z",
     "iopub.status.busy": "2024-02-07T16:50:54.467752Z",
     "iopub.status.idle": "2024-02-07T16:50:54.470367Z",
     "shell.execute_reply": "2024-02-07T16:50:54.470046Z"
    },
    "papermill": {
     "duration": 0.004685,
     "end_time": "2024-02-07T16:50:54.470999",
     "exception": false,
     "start_time": "2024-02-07T16:50:54.466314",
     "status": "completed"
    },
    "tags": []
   },
   "outputs": [],
   "source": [
    "data = data.replace({\n",
    "  'measure': variable_mapper\n",
    "})"
   ]
  },
  {
   "cell_type": "code",
   "execution_count": 8,
   "id": "5c09a85b",
   "metadata": {
    "execution": {
     "iopub.execute_input": "2024-02-07T16:50:54.473802Z",
     "iopub.status.busy": "2024-02-07T16:50:54.473630Z",
     "iopub.status.idle": "2024-02-07T16:50:54.479096Z",
     "shell.execute_reply": "2024-02-07T16:50:54.478788Z"
    },
    "papermill": {
     "duration": 0.007609,
     "end_time": "2024-02-07T16:50:54.479773",
     "exception": false,
     "start_time": "2024-02-07T16:50:54.472164",
     "status": "completed"
    },
    "tags": []
   },
   "outputs": [],
   "source": [
    "data['quarter_start'] = pd.Index(data.date.pipe(quarter_to_date))\n",
    "data['variable'] = data.sheet.str.split(' - ').apply(lambda x: x[0]).str.lower() + '_' + data.measure"
   ]
  },
  {
   "cell_type": "code",
   "execution_count": 9,
   "id": "92a9361a",
   "metadata": {
    "execution": {
     "iopub.execute_input": "2024-02-07T16:50:54.482609Z",
     "iopub.status.busy": "2024-02-07T16:50:54.482454Z",
     "iopub.status.idle": "2024-02-07T16:50:54.489384Z",
     "shell.execute_reply": "2024-02-07T16:50:54.489057Z"
    },
    "papermill": {
     "duration": 0.009091,
     "end_time": "2024-02-07T16:50:54.490066",
     "exception": false,
     "start_time": "2024-02-07T16:50:54.480975",
     "status": "completed"
    },
    "tags": []
   },
   "outputs": [],
   "source": [
    "data = data.pivot_table(index='quarter_start', columns='variable', values='value')"
   ]
  },
  {
   "cell_type": "code",
   "execution_count": 10,
   "id": "f83860c6",
   "metadata": {
    "execution": {
     "iopub.execute_input": "2024-02-07T16:50:54.493064Z",
     "iopub.status.busy": "2024-02-07T16:50:54.492853Z",
     "iopub.status.idle": "2024-02-07T16:50:54.496580Z",
     "shell.execute_reply": "2024-02-07T16:50:54.496280Z"
    },
    "papermill": {
     "duration": 0.005925,
     "end_time": "2024-02-07T16:50:54.497237",
     "exception": false,
     "start_time": "2024-02-07T16:50:54.491312",
     "status": "completed"
    },
    "tags": []
   },
   "outputs": [],
   "source": [
    "def calculate_rates(data, prefix):\n",
    "    data[prefix + '_age_16_to_24_neet_unemployed_rate_sa'] = data[prefix + '_age_16_to_24_neet_unemployed_sa'] / data[prefix + '_age_16_to_24_population'] * 100\n",
    "    data[prefix + '_age_16_to_24_neet_economically_inactive_rate_sa'] = data[prefix + '_age_16_to_24_neet_economically_inactive_sa'] / data[prefix + '_age_16_to_24_population'] * 100\n",
    "    return data\n",
    "  \n",
    "data = data.pipe(\n",
    "    calculate_rates, 'people'\n",
    ").pipe(\n",
    "    calculate_rates, 'men'\n",
    ").pipe(\n",
    "    calculate_rates, 'women'\n",
    ")\n"
   ]
  },
  {
   "cell_type": "code",
   "execution_count": 11,
   "id": "9a60ce2d",
   "metadata": {
    "execution": {
     "iopub.execute_input": "2024-02-07T16:50:54.500120Z",
     "iopub.status.busy": "2024-02-07T16:50:54.499968Z",
     "iopub.status.idle": "2024-02-07T16:50:54.504267Z",
     "shell.execute_reply": "2024-02-07T16:50:54.503945Z"
    },
    "papermill": {
     "duration": 0.006484,
     "end_time": "2024-02-07T16:50:54.504963",
     "exception": false,
     "start_time": "2024-02-07T16:50:54.498479",
     "status": "completed"
    },
    "tags": []
   },
   "outputs": [],
   "source": [
    "column_order = [\n",
    "  'people_age_16_to_24_neet_total_sa',\n",
    "  'people_age_16_to_24_neet_unemployed_sa',\n",
    "  'people_age_16_to_24_neet_economically_inactive_sa',\n",
    "  'people_age_16_to_24_population',\n",
    "  'people_age_16_to_24_neet_total_rate_sa',\n",
    "  'people_age_16_to_24_neet_unemployed_rate_sa',\n",
    "  'people_age_16_to_24_neet_economically_inactive_rate_sa',\n",
    "  'men_age_16_to_24_neet_total_sa',\n",
    "  'men_age_16_to_24_neet_unemployed_sa',\n",
    "  'men_age_16_to_24_neet_economically_inactive_sa',\n",
    "  'men_age_16_to_24_population',\n",
    "  'men_age_16_to_24_neet_total_rate_sa',\n",
    "  'men_age_16_to_24_neet_unemployed_rate_sa',\n",
    "  'men_age_16_to_24_neet_economically_inactive_rate_sa',\n",
    "  'women_age_16_to_24_neet_total_sa',\n",
    "  'women_age_16_to_24_neet_unemployed_sa',\n",
    "  'women_age_16_to_24_neet_economically_inactive_sa',\n",
    "  'women_age_16_to_24_population',\n",
    "  'women_age_16_to_24_neet_total_rate_sa',\n",
    "  'women_age_16_to_24_neet_unemployed_rate_sa',\n",
    "  'women_age_16_to_24_neet_economically_inactive_rate_sa'\n",
    "]\n",
    "\n",
    "data.loc[:, column_order].to_csv(NEET_16_24)"
   ]
  },
  {
   "cell_type": "code",
   "execution_count": 12,
   "id": "53cc3c4f",
   "metadata": {
    "execution": {
     "iopub.execute_input": "2024-02-07T16:50:54.507934Z",
     "iopub.status.busy": "2024-02-07T16:50:54.507724Z",
     "iopub.status.idle": "2024-02-07T16:50:54.514754Z",
     "shell.execute_reply": "2024-02-07T16:50:54.514467Z"
    },
    "papermill": {
     "duration": 0.009259,
     "end_time": "2024-02-07T16:50:54.515457",
     "exception": false,
     "start_time": "2024-02-07T16:50:54.506198",
     "status": "completed"
    },
    "tags": []
   },
   "outputs": [
    {
     "data": {
      "text/plain": [
       "id                     object\n",
       "last_update    datetime64[ns]\n",
       "next_update            object\n",
       "dtype: object"
      ]
     },
     "execution_count": 12,
     "metadata": {},
     "output_type": "execute_result"
    }
   ],
   "source": [
    "metadata = pd.read_csv(ALL_METADATA, parse_dates=['last_update', 'next_update'])\n",
    "metadata.set_index(\n",
    "    'id'\n",
    ").rename(\n",
    "    columns={\n",
    "        'last_update': 'published'\n",
    "    }\n",
    ").loc['NEET'].to_json(NEET_METADATA, date_format='iso')\n",
    "\n",
    "metadata.dtypes\n"
   ]
  },
  {
   "cell_type": "code",
   "execution_count": null,
   "id": "2ee8838b",
   "metadata": {
    "papermill": {
     "duration": 0.001261,
     "end_time": "2024-02-07T16:50:54.518105",
     "exception": false,
     "start_time": "2024-02-07T16:50:54.516844",
     "status": "completed"
    },
    "tags": []
   },
   "outputs": [],
   "source": []
  },
  {
   "cell_type": "code",
   "execution_count": null,
   "id": "dddb341a",
   "metadata": {
    "papermill": {
     "duration": 0.001202,
     "end_time": "2024-02-07T16:50:54.520547",
     "exception": false,
     "start_time": "2024-02-07T16:50:54.519345",
     "status": "completed"
    },
    "tags": []
   },
   "outputs": [],
   "source": []
  }
 ],
 "metadata": {
  "kernelspec": {
   "display_name": "yff-data-ansOWYcy",
   "language": "python",
   "name": "python3"
  },
  "language_info": {
   "codemirror_mode": {
    "name": "ipython",
    "version": 3
   },
   "file_extension": ".py",
   "mimetype": "text/x-python",
   "name": "python",
   "nbconvert_exporter": "python",
   "pygments_lexer": "ipython3",
   "version": "3.10.12"
  },
  "papermill": {
   "default_parameters": {},
   "duration": 1.168592,
   "end_time": "2024-02-07T16:50:54.739197",
   "environment_variables": {},
   "exception": null,
   "input_path": "transform.ipynb",
   "output_path": "../../working/output/neet-transform.ipynb",
   "parameters": {},
   "start_time": "2024-02-07T16:50:53.570605",
   "version": "2.4.0"
  }
 },
 "nbformat": 4,
 "nbformat_minor": 5
}