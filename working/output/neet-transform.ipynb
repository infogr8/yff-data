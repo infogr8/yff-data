{
 "cells": [
  {
   "cell_type": "code",
   "execution_count": 1,
   "id": "7c60d3c1",
   "metadata": {
    "execution": {
     "iopub.execute_input": "2024-09-10T06:49:12.814783Z",
     "iopub.status.busy": "2024-09-10T06:49:12.814530Z",
     "iopub.status.idle": "2024-09-10T06:49:13.124287Z",
     "shell.execute_reply": "2024-09-10T06:49:13.123630Z"
    },
    "papermill": {
     "duration": 0.315022,
     "end_time": "2024-09-10T06:49:13.126029",
     "exception": false,
     "start_time": "2024-09-10T06:49:12.811007",
     "status": "completed"
    },
    "tags": []
   },
   "outputs": [],
   "source": [
    "import os\n",
    "import sys\n",
    "import pandas as pd\n",
    "\n",
    "LIB_DIR = '../../'\n",
    "if LIB_DIR not in sys.path:\n",
    "    sys.path.append(LIB_DIR)"
   ]
  },
  {
   "cell_type": "code",
   "execution_count": 2,
   "id": "dc00ea99",
   "metadata": {
    "execution": {
     "iopub.execute_input": "2024-09-10T06:49:13.131758Z",
     "iopub.status.busy": "2024-09-10T06:49:13.131266Z",
     "iopub.status.idle": "2024-09-10T06:49:13.135785Z",
     "shell.execute_reply": "2024-09-10T06:49:13.135275Z"
    },
    "papermill": {
     "duration": 0.00874,
     "end_time": "2024-09-10T06:49:13.137126",
     "exception": false,
     "start_time": "2024-09-10T06:49:13.128386",
     "status": "completed"
    },
    "tags": []
   },
   "outputs": [],
   "source": [
    "from scripts.util.date import quarter_to_date"
   ]
  },
  {
   "cell_type": "code",
   "execution_count": 3,
   "id": "4e0e932c",
   "metadata": {
    "execution": {
     "iopub.execute_input": "2024-09-10T06:49:13.142035Z",
     "iopub.status.busy": "2024-09-10T06:49:13.141639Z",
     "iopub.status.idle": "2024-09-10T06:49:13.145156Z",
     "shell.execute_reply": "2024-09-10T06:49:13.144598Z"
    },
    "papermill": {
     "duration": 0.007432,
     "end_time": "2024-09-10T06:49:13.146475",
     "exception": false,
     "start_time": "2024-09-10T06:49:13.139043",
     "status": "completed"
    },
    "tags": []
   },
   "outputs": [],
   "source": [
    "NEET_DATA = '../../working/upstream/neet.csv'\n",
    "ALL_METADATA = '../../working/upstream/metadata.csv'\n",
    "NEET_16_24 = '../../data/neet/neet.csv'\n",
    "NEET_METADATA = '../../data/neet/metadata.json'\n",
    "\n",
    "os.makedirs(os.path.dirname(NEET_16_24), exist_ok=True)"
   ]
  },
  {
   "cell_type": "code",
   "execution_count": 4,
   "id": "b66d2873",
   "metadata": {
    "execution": {
     "iopub.execute_input": "2024-09-10T06:49:13.151431Z",
     "iopub.status.busy": "2024-09-10T06:49:13.150935Z",
     "iopub.status.idle": "2024-09-10T06:49:13.159768Z",
     "shell.execute_reply": "2024-09-10T06:49:13.159112Z"
    },
    "papermill": {
     "duration": 0.012808,
     "end_time": "2024-09-10T06:49:13.161235",
     "exception": false,
     "start_time": "2024-09-10T06:49:13.148427",
     "status": "completed"
    },
    "tags": []
   },
   "outputs": [],
   "source": [
    "data = pd.read_csv('../../working/upstream/neet.csv')"
   ]
  },
  {
   "cell_type": "code",
   "execution_count": 5,
   "id": "2af421f6",
   "metadata": {
    "execution": {
     "iopub.execute_input": "2024-09-10T06:49:13.166473Z",
     "iopub.status.busy": "2024-09-10T06:49:13.166029Z",
     "iopub.status.idle": "2024-09-10T06:49:13.169397Z",
     "shell.execute_reply": "2024-09-10T06:49:13.168848Z"
    },
    "papermill": {
     "duration": 0.007422,
     "end_time": "2024-09-10T06:49:13.170713",
     "exception": false,
     "start_time": "2024-09-10T06:49:13.163291",
     "status": "completed"
    },
    "tags": []
   },
   "outputs": [],
   "source": [
    "variable_mapper = {\n",
    "    'Young people who were NEET_Total': 'age_16_to_24_neet_total_sa',\n",
    "    'Young people who were NEET_Unemployed': 'age_16_to_24_neet_unemployed_sa',\n",
    "    'Young people who were NEET_Economically inactive': 'age_16_to_24_neet_economically_inactive_sa',\n",
    "    'Total people in relevant population group': 'age_16_to_24_population',\n",
    "    'People who were NEET as a percentage of people in relevant population group': 'age_16_to_24_neet_total_rate_sa',\n",
    "}"
   ]
  },
  {
   "cell_type": "code",
   "execution_count": 6,
   "id": "ccf96d49",
   "metadata": {
    "execution": {
     "iopub.execute_input": "2024-09-10T06:49:13.175933Z",
     "iopub.status.busy": "2024-09-10T06:49:13.175541Z",
     "iopub.status.idle": "2024-09-10T06:49:13.179834Z",
     "shell.execute_reply": "2024-09-10T06:49:13.179300Z"
    },
    "papermill": {
     "duration": 0.008481,
     "end_time": "2024-09-10T06:49:13.181244",
     "exception": false,
     "start_time": "2024-09-10T06:49:13.172763",
     "status": "completed"
    },
    "tags": []
   },
   "outputs": [],
   "source": [
    "data = data[data.age == 'Aged 16-24']"
   ]
  },
  {
   "cell_type": "code",
   "execution_count": 7,
   "id": "2f385502",
   "metadata": {
    "execution": {
     "iopub.execute_input": "2024-09-10T06:49:13.186427Z",
     "iopub.status.busy": "2024-09-10T06:49:13.186091Z",
     "iopub.status.idle": "2024-09-10T06:49:13.190437Z",
     "shell.execute_reply": "2024-09-10T06:49:13.189853Z"
    },
    "papermill": {
     "duration": 0.008424,
     "end_time": "2024-09-10T06:49:13.191718",
     "exception": false,
     "start_time": "2024-09-10T06:49:13.183294",
     "status": "completed"
    },
    "tags": []
   },
   "outputs": [],
   "source": [
    "data = data.replace({\n",
    "  'measure': variable_mapper\n",
    "})"
   ]
  },
  {
   "cell_type": "code",
   "execution_count": 8,
   "id": "258ae5f8",
   "metadata": {
    "execution": {
     "iopub.execute_input": "2024-09-10T06:49:13.196996Z",
     "iopub.status.busy": "2024-09-10T06:49:13.196640Z",
     "iopub.status.idle": "2024-09-10T06:49:13.206712Z",
     "shell.execute_reply": "2024-09-10T06:49:13.206049Z"
    },
    "papermill": {
     "duration": 0.014233,
     "end_time": "2024-09-10T06:49:13.208097",
     "exception": false,
     "start_time": "2024-09-10T06:49:13.193864",
     "status": "completed"
    },
    "tags": []
   },
   "outputs": [],
   "source": [
    "data['quarter_start'] = pd.Index(data.date.pipe(quarter_to_date))\n",
    "data['variable'] = data.sheet.str.split(' - ').apply(lambda x: x[0]).str.lower() + '_' + data.measure"
   ]
  },
  {
   "cell_type": "code",
   "execution_count": 9,
   "id": "c78a3d05",
   "metadata": {
    "execution": {
     "iopub.execute_input": "2024-09-10T06:49:13.213407Z",
     "iopub.status.busy": "2024-09-10T06:49:13.213026Z",
     "iopub.status.idle": "2024-09-10T06:49:13.221366Z",
     "shell.execute_reply": "2024-09-10T06:49:13.220737Z"
    },
    "papermill": {
     "duration": 0.012453,
     "end_time": "2024-09-10T06:49:13.222691",
     "exception": false,
     "start_time": "2024-09-10T06:49:13.210238",
     "status": "completed"
    },
    "tags": []
   },
   "outputs": [],
   "source": [
    "data = data.pivot_table(index='quarter_start', columns='variable', values='value')"
   ]
  },
  {
   "cell_type": "code",
   "execution_count": 10,
   "id": "b0790965",
   "metadata": {
    "execution": {
     "iopub.execute_input": "2024-09-10T06:49:13.228059Z",
     "iopub.status.busy": "2024-09-10T06:49:13.227619Z",
     "iopub.status.idle": "2024-09-10T06:49:13.234161Z",
     "shell.execute_reply": "2024-09-10T06:49:13.233614Z"
    },
    "papermill": {
     "duration": 0.010655,
     "end_time": "2024-09-10T06:49:13.235490",
     "exception": false,
     "start_time": "2024-09-10T06:49:13.224835",
     "status": "completed"
    },
    "tags": []
   },
   "outputs": [],
   "source": [
    "def calculate_rates(data, prefix):\n",
    "    data[prefix + '_age_16_to_24_neet_unemployed_rate_sa'] = data[prefix + '_age_16_to_24_neet_unemployed_sa'] / data[prefix + '_age_16_to_24_population'] * 100\n",
    "    data[prefix + '_age_16_to_24_neet_economically_inactive_rate_sa'] = data[prefix + '_age_16_to_24_neet_economically_inactive_sa'] / data[prefix + '_age_16_to_24_population'] * 100\n",
    "    return data\n",
    "  \n",
    "data = data.pipe(\n",
    "    calculate_rates, 'people'\n",
    ").pipe(\n",
    "    calculate_rates, 'men'\n",
    ").pipe(\n",
    "    calculate_rates, 'women'\n",
    ")\n"
   ]
  },
  {
   "cell_type": "code",
   "execution_count": 11,
   "id": "33221f20",
   "metadata": {
    "execution": {
     "iopub.execute_input": "2024-09-10T06:49:13.241082Z",
     "iopub.status.busy": "2024-09-10T06:49:13.240651Z",
     "iopub.status.idle": "2024-09-10T06:49:13.247542Z",
     "shell.execute_reply": "2024-09-10T06:49:13.247031Z"
    },
    "papermill": {
     "duration": 0.011055,
     "end_time": "2024-09-10T06:49:13.248807",
     "exception": false,
     "start_time": "2024-09-10T06:49:13.237752",
     "status": "completed"
    },
    "tags": []
   },
   "outputs": [],
   "source": [
    "column_order = [\n",
    "  'people_age_16_to_24_neet_total_sa',\n",
    "  'people_age_16_to_24_neet_unemployed_sa',\n",
    "  'people_age_16_to_24_neet_economically_inactive_sa',\n",
    "  'people_age_16_to_24_population',\n",
    "  'people_age_16_to_24_neet_total_rate_sa',\n",
    "  'people_age_16_to_24_neet_unemployed_rate_sa',\n",
    "  'people_age_16_to_24_neet_economically_inactive_rate_sa',\n",
    "  'men_age_16_to_24_neet_total_sa',\n",
    "  'men_age_16_to_24_neet_unemployed_sa',\n",
    "  'men_age_16_to_24_neet_economically_inactive_sa',\n",
    "  'men_age_16_to_24_population',\n",
    "  'men_age_16_to_24_neet_total_rate_sa',\n",
    "  'men_age_16_to_24_neet_unemployed_rate_sa',\n",
    "  'men_age_16_to_24_neet_economically_inactive_rate_sa',\n",
    "  'women_age_16_to_24_neet_total_sa',\n",
    "  'women_age_16_to_24_neet_unemployed_sa',\n",
    "  'women_age_16_to_24_neet_economically_inactive_sa',\n",
    "  'women_age_16_to_24_population',\n",
    "  'women_age_16_to_24_neet_total_rate_sa',\n",
    "  'women_age_16_to_24_neet_unemployed_rate_sa',\n",
    "  'women_age_16_to_24_neet_economically_inactive_rate_sa'\n",
    "]\n",
    "\n",
    "data.loc[:, column_order].to_csv(NEET_16_24)"
   ]
  },
  {
   "cell_type": "code",
   "execution_count": 12,
   "id": "2042c984",
   "metadata": {
    "execution": {
     "iopub.execute_input": "2024-09-10T06:49:13.254108Z",
     "iopub.status.busy": "2024-09-10T06:49:13.253727Z",
     "iopub.status.idle": "2024-09-10T06:49:13.266316Z",
     "shell.execute_reply": "2024-09-10T06:49:13.265673Z"
    },
    "papermill": {
     "duration": 0.016823,
     "end_time": "2024-09-10T06:49:13.267778",
     "exception": false,
     "start_time": "2024-09-10T06:49:13.250955",
     "status": "completed"
    },
    "tags": []
   },
   "outputs": [
    {
     "data": {
      "text/plain": [
       "id                     object\n",
       "last_update    datetime64[ns]\n",
       "next_update            object\n",
       "dtype: object"
      ]
     },
     "execution_count": 12,
     "metadata": {},
     "output_type": "execute_result"
    }
   ],
   "source": [
    "metadata = pd.read_csv(ALL_METADATA, parse_dates=['last_update', 'next_update'])\n",
    "metadata.set_index(\n",
    "    'id'\n",
    ").rename(\n",
    "    columns={\n",
    "        'last_update': 'published'\n",
    "    }\n",
    ").loc['NEET'].to_json(NEET_METADATA, date_format='iso')\n",
    "\n",
    "metadata.dtypes\n"
   ]
  },
  {
   "cell_type": "code",
   "execution_count": null,
   "id": "e4560d68",
   "metadata": {
    "papermill": {
     "duration": 0.002364,
     "end_time": "2024-09-10T06:49:13.272576",
     "exception": false,
     "start_time": "2024-09-10T06:49:13.270212",
     "status": "completed"
    },
    "tags": []
   },
   "outputs": [],
   "source": []
  },
  {
   "cell_type": "code",
   "execution_count": null,
   "id": "730bc86d",
   "metadata": {
    "papermill": {
     "duration": 0.002256,
     "end_time": "2024-09-10T06:49:13.277089",
     "exception": false,
     "start_time": "2024-09-10T06:49:13.274833",
     "status": "completed"
    },
    "tags": []
   },
   "outputs": [],
   "source": []
  }
 ],
 "metadata": {
  "kernelspec": {
   "display_name": "yff-data-ansOWYcy",
   "language": "python",
   "name": "python3"
  },
  "language_info": {
   "codemirror_mode": {
    "name": "ipython",
    "version": 3
   },
   "file_extension": ".py",
   "mimetype": "text/x-python",
   "name": "python",
   "nbconvert_exporter": "python",
   "pygments_lexer": "ipython3",
   "version": "3.10.14"
  },
  "papermill": {
   "default_parameters": {},
   "duration": 1.884324,
   "end_time": "2024-09-10T06:49:13.496641",
   "environment_variables": {},
   "exception": null,
   "input_path": "transform.ipynb",
   "output_path": "../../working/output/neet-transform.ipynb",
   "parameters": {},
   "start_time": "2024-09-10T06:49:11.612317",
   "version": "2.5.0"
  }
 },
 "nbformat": 4,
 "nbformat_minor": 5
}