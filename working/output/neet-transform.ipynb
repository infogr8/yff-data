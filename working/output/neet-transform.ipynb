{
 "cells": [
  {
   "cell_type": "code",
   "execution_count": 1,
   "id": "18a65e8a",
   "metadata": {
    "execution": {
     "iopub.execute_input": "2023-10-16T16:00:37.558018Z",
     "iopub.status.busy": "2023-10-16T16:00:37.557842Z",
     "iopub.status.idle": "2023-10-16T16:00:37.721661Z",
     "shell.execute_reply": "2023-10-16T16:00:37.721307Z"
    },
    "papermill": {
     "duration": 0.170152,
     "end_time": "2023-10-16T16:00:37.722666",
     "exception": false,
     "start_time": "2023-10-16T16:00:37.552514",
     "status": "completed"
    },
    "tags": []
   },
   "outputs": [],
   "source": [
    "import os\n",
    "import sys\n",
    "import pandas as pd\n",
    "\n",
    "LIB_DIR = '../../'\n",
    "if LIB_DIR not in sys.path:\n",
    "    sys.path.append(LIB_DIR)"
   ]
  },
  {
   "cell_type": "code",
   "execution_count": 2,
   "id": "3522143e",
   "metadata": {
    "execution": {
     "iopub.execute_input": "2023-10-16T16:00:37.725833Z",
     "iopub.status.busy": "2023-10-16T16:00:37.725624Z",
     "iopub.status.idle": "2023-10-16T16:00:37.727950Z",
     "shell.execute_reply": "2023-10-16T16:00:37.727700Z"
    },
    "papermill": {
     "duration": 0.00455,
     "end_time": "2023-10-16T16:00:37.728573",
     "exception": false,
     "start_time": "2023-10-16T16:00:37.724023",
     "status": "completed"
    },
    "tags": []
   },
   "outputs": [],
   "source": [
    "from scripts.util.date import quarter_to_date"
   ]
  },
  {
   "cell_type": "code",
   "execution_count": 3,
   "id": "1ced03aa",
   "metadata": {
    "execution": {
     "iopub.execute_input": "2023-10-16T16:00:37.731314Z",
     "iopub.status.busy": "2023-10-16T16:00:37.731160Z",
     "iopub.status.idle": "2023-10-16T16:00:37.733197Z",
     "shell.execute_reply": "2023-10-16T16:00:37.732934Z"
    },
    "papermill": {
     "duration": 0.004143,
     "end_time": "2023-10-16T16:00:37.733840",
     "exception": false,
     "start_time": "2023-10-16T16:00:37.729697",
     "status": "completed"
    },
    "tags": []
   },
   "outputs": [],
   "source": [
    "NEET_DATA = '../../working/upstream/neet.csv'\n",
    "ALL_METADATA = '../../working/upstream/metadata.csv'\n",
    "NEET_16_24 = '../../data/neet/neet.csv'\n",
    "NEET_METADATA = '../../data/neet/metadata.json'\n",
    "\n",
    "os.makedirs(os.path.dirname(NEET_16_24), exist_ok=True)"
   ]
  },
  {
   "cell_type": "code",
   "execution_count": 4,
   "id": "174fe4ac",
   "metadata": {
    "execution": {
     "iopub.execute_input": "2023-10-16T16:00:37.736529Z",
     "iopub.status.busy": "2023-10-16T16:00:37.736401Z",
     "iopub.status.idle": "2023-10-16T16:00:37.741829Z",
     "shell.execute_reply": "2023-10-16T16:00:37.741509Z"
    },
    "papermill": {
     "duration": 0.007519,
     "end_time": "2023-10-16T16:00:37.742460",
     "exception": false,
     "start_time": "2023-10-16T16:00:37.734941",
     "status": "completed"
    },
    "tags": []
   },
   "outputs": [],
   "source": [
    "data = pd.read_csv('../../working/upstream/neet.csv')"
   ]
  },
  {
   "cell_type": "code",
   "execution_count": 5,
   "id": "9ff7a84c",
   "metadata": {
    "execution": {
     "iopub.execute_input": "2023-10-16T16:00:37.745259Z",
     "iopub.status.busy": "2023-10-16T16:00:37.745125Z",
     "iopub.status.idle": "2023-10-16T16:00:37.747025Z",
     "shell.execute_reply": "2023-10-16T16:00:37.746758Z"
    },
    "papermill": {
     "duration": 0.004038,
     "end_time": "2023-10-16T16:00:37.747641",
     "exception": false,
     "start_time": "2023-10-16T16:00:37.743603",
     "status": "completed"
    },
    "tags": []
   },
   "outputs": [],
   "source": [
    "variable_mapper = {\n",
    "    'Young people who were NEET_Total': 'age_16_to_24_neet_total_sa',\n",
    "    'Young people who were NEET_Unemployed': 'age_16_to_24_neet_unemployed_sa',\n",
    "    'Young people who were NEET_Economically inactive': 'age_16_to_24_neet_economically_inactive_sa',\n",
    "    'Total people in relevant population group': 'age_16_to_24_population',\n",
    "    'People who were NEET as a percentage of people in relevant population group': 'age_16_to_24_neet_total_rate_sa',\n",
    "}"
   ]
  },
  {
   "cell_type": "code",
   "execution_count": 6,
   "id": "4462fc37",
   "metadata": {
    "execution": {
     "iopub.execute_input": "2023-10-16T16:00:37.750965Z",
     "iopub.status.busy": "2023-10-16T16:00:37.750835Z",
     "iopub.status.idle": "2023-10-16T16:00:37.753230Z",
     "shell.execute_reply": "2023-10-16T16:00:37.752953Z"
    },
    "papermill": {
     "duration": 0.005056,
     "end_time": "2023-10-16T16:00:37.753862",
     "exception": false,
     "start_time": "2023-10-16T16:00:37.748806",
     "status": "completed"
    },
    "tags": []
   },
   "outputs": [],
   "source": [
    "data = data[data.age == 'Aged 16-24']"
   ]
  },
  {
   "cell_type": "code",
   "execution_count": 7,
   "id": "0caf04a4",
   "metadata": {
    "execution": {
     "iopub.execute_input": "2023-10-16T16:00:37.839625Z",
     "iopub.status.busy": "2023-10-16T16:00:37.839407Z",
     "iopub.status.idle": "2023-10-16T16:00:37.842951Z",
     "shell.execute_reply": "2023-10-16T16:00:37.842546Z"
    },
    "papermill": {
     "duration": 0.006681,
     "end_time": "2023-10-16T16:00:37.844067",
     "exception": false,
     "start_time": "2023-10-16T16:00:37.837386",
     "status": "completed"
    },
    "tags": []
   },
   "outputs": [],
   "source": [
    "data = data.replace({\n",
    "  'measure': variable_mapper\n",
    "})"
   ]
  },
  {
   "cell_type": "code",
   "execution_count": 8,
   "id": "f7df7191",
   "metadata": {
    "execution": {
     "iopub.execute_input": "2023-10-16T16:00:37.861598Z",
     "iopub.status.busy": "2023-10-16T16:00:37.860994Z",
     "iopub.status.idle": "2023-10-16T16:00:37.878179Z",
     "shell.execute_reply": "2023-10-16T16:00:37.876928Z"
    },
    "papermill": {
     "duration": 0.025453,
     "end_time": "2023-10-16T16:00:37.880640",
     "exception": false,
     "start_time": "2023-10-16T16:00:37.855187",
     "status": "completed"
    },
    "tags": []
   },
   "outputs": [],
   "source": [
    "data['quarter_start'] = pd.Index(data.date.pipe(quarter_to_date))\n",
    "data['variable'] = data.sheet.str.split(' - ').apply(lambda x: x[0]).str.lower() + '_' + data.measure"
   ]
  },
  {
   "cell_type": "code",
   "execution_count": 9,
   "id": "2751967b",
   "metadata": {
    "execution": {
     "iopub.execute_input": "2023-10-16T16:00:37.888228Z",
     "iopub.status.busy": "2023-10-16T16:00:37.887947Z",
     "iopub.status.idle": "2023-10-16T16:00:37.898987Z",
     "shell.execute_reply": "2023-10-16T16:00:37.897625Z"
    },
    "papermill": {
     "duration": 0.01674,
     "end_time": "2023-10-16T16:00:37.900409",
     "exception": false,
     "start_time": "2023-10-16T16:00:37.883669",
     "status": "completed"
    },
    "tags": []
   },
   "outputs": [],
   "source": [
    "data = data.pivot_table(index='quarter_start', columns='variable', values='value')"
   ]
  },
  {
   "cell_type": "code",
   "execution_count": 10,
   "id": "2d3d9193",
   "metadata": {
    "execution": {
     "iopub.execute_input": "2023-10-16T16:00:37.903955Z",
     "iopub.status.busy": "2023-10-16T16:00:37.903732Z",
     "iopub.status.idle": "2023-10-16T16:00:37.908536Z",
     "shell.execute_reply": "2023-10-16T16:00:37.908233Z"
    },
    "papermill": {
     "duration": 0.007504,
     "end_time": "2023-10-16T16:00:37.909254",
     "exception": false,
     "start_time": "2023-10-16T16:00:37.901750",
     "status": "completed"
    },
    "tags": []
   },
   "outputs": [],
   "source": [
    "def calculate_rates(data, prefix):\n",
    "    data[prefix + '_age_16_to_24_neet_unemployed_rate_sa'] = data[prefix + '_age_16_to_24_neet_unemployed_sa'] / data[prefix + '_age_16_to_24_population'] * 100\n",
    "    data[prefix + '_age_16_to_24_neet_economically_inactive_rate_sa'] = data[prefix + '_age_16_to_24_neet_economically_inactive_sa'] / data[prefix + '_age_16_to_24_population'] * 100\n",
    "    return data\n",
    "  \n",
    "data = data.pipe(\n",
    "    calculate_rates, 'people'\n",
    ").pipe(\n",
    "    calculate_rates, 'men'\n",
    ").pipe(\n",
    "    calculate_rates, 'women'\n",
    ")\n"
   ]
  },
  {
   "cell_type": "code",
   "execution_count": 11,
   "id": "d1726e87",
   "metadata": {
    "execution": {
     "iopub.execute_input": "2023-10-16T16:00:37.913025Z",
     "iopub.status.busy": "2023-10-16T16:00:37.912843Z",
     "iopub.status.idle": "2023-10-16T16:00:37.917852Z",
     "shell.execute_reply": "2023-10-16T16:00:37.917536Z"
    },
    "papermill": {
     "duration": 0.007876,
     "end_time": "2023-10-16T16:00:37.918605",
     "exception": false,
     "start_time": "2023-10-16T16:00:37.910729",
     "status": "completed"
    },
    "tags": []
   },
   "outputs": [],
   "source": [
    "column_order = [\n",
    "  'people_age_16_to_24_neet_total_sa',\n",
    "  'people_age_16_to_24_neet_unemployed_sa',\n",
    "  'people_age_16_to_24_neet_economically_inactive_sa',\n",
    "  'people_age_16_to_24_population',\n",
    "  'people_age_16_to_24_neet_total_rate_sa',\n",
    "  'people_age_16_to_24_neet_unemployed_rate_sa',\n",
    "  'people_age_16_to_24_neet_economically_inactive_rate_sa',\n",
    "  'men_age_16_to_24_neet_total_sa',\n",
    "  'men_age_16_to_24_neet_unemployed_sa',\n",
    "  'men_age_16_to_24_neet_economically_inactive_sa',\n",
    "  'men_age_16_to_24_population',\n",
    "  'men_age_16_to_24_neet_total_rate_sa',\n",
    "  'men_age_16_to_24_neet_unemployed_rate_sa',\n",
    "  'men_age_16_to_24_neet_economically_inactive_rate_sa',\n",
    "  'women_age_16_to_24_neet_total_sa',\n",
    "  'women_age_16_to_24_neet_unemployed_sa',\n",
    "  'women_age_16_to_24_neet_economically_inactive_sa',\n",
    "  'women_age_16_to_24_population',\n",
    "  'women_age_16_to_24_neet_total_rate_sa',\n",
    "  'women_age_16_to_24_neet_unemployed_rate_sa',\n",
    "  'women_age_16_to_24_neet_economically_inactive_rate_sa'\n",
    "]\n",
    "\n",
    "data.loc[:, column_order].to_csv(NEET_16_24)"
   ]
  },
  {
   "cell_type": "code",
   "execution_count": 12,
   "id": "6b9a8619",
   "metadata": {
    "execution": {
     "iopub.execute_input": "2023-10-16T16:00:37.921919Z",
     "iopub.status.busy": "2023-10-16T16:00:37.921774Z",
     "iopub.status.idle": "2023-10-16T16:00:37.928606Z",
     "shell.execute_reply": "2023-10-16T16:00:37.928340Z"
    },
    "papermill": {
     "duration": 0.009357,
     "end_time": "2023-10-16T16:00:37.929279",
     "exception": false,
     "start_time": "2023-10-16T16:00:37.919922",
     "status": "completed"
    },
    "tags": []
   },
   "outputs": [
    {
     "data": {
      "text/plain": [
       "id                     object\n",
       "last_update    datetime64[ns]\n",
       "next_update    datetime64[ns]\n",
       "dtype: object"
      ]
     },
     "execution_count": 12,
     "metadata": {},
     "output_type": "execute_result"
    }
   ],
   "source": [
    "metadata = pd.read_csv(ALL_METADATA, parse_dates=['last_update', 'next_update'])\n",
    "metadata.set_index(\n",
    "    'id'\n",
    ").rename(\n",
    "    columns={\n",
    "        'last_update': 'published'\n",
    "    }\n",
    ").loc['NEET'].to_json(NEET_METADATA, date_format='iso')\n",
    "\n",
    "metadata.dtypes\n"
   ]
  },
  {
   "cell_type": "code",
   "execution_count": null,
   "id": "5ccfc9b1",
   "metadata": {
    "papermill": {
     "duration": 0.001261,
     "end_time": "2023-10-16T16:00:37.931928",
     "exception": false,
     "start_time": "2023-10-16T16:00:37.930667",
     "status": "completed"
    },
    "tags": []
   },
   "outputs": [],
   "source": []
  },
  {
   "cell_type": "code",
   "execution_count": null,
   "id": "a2d547c2",
   "metadata": {
    "papermill": {
     "duration": 0.001234,
     "end_time": "2023-10-16T16:00:37.934449",
     "exception": false,
     "start_time": "2023-10-16T16:00:37.933215",
     "status": "completed"
    },
    "tags": []
   },
   "outputs": [],
   "source": []
  }
 ],
 "metadata": {
  "kernelspec": {
   "display_name": "yff-data-ansOWYcy",
   "language": "python",
   "name": "python3"
  },
  "language_info": {
   "codemirror_mode": {
    "name": "ipython",
    "version": 3
   },
   "file_extension": ".py",
   "mimetype": "text/x-python",
   "name": "python",
   "nbconvert_exporter": "python",
   "pygments_lexer": "ipython3",
   "version": "3.10.12"
  },
  "papermill": {
   "default_parameters": {},
   "duration": 1.444809,
   "end_time": "2023-10-16T16:00:38.150033",
   "environment_variables": {},
   "exception": null,
   "input_path": "transform.ipynb",
   "output_path": "../../working/output/neet-transform.ipynb",
   "parameters": {},
   "start_time": "2023-10-16T16:00:36.705224",
   "version": "2.4.0"
  }
 },
 "nbformat": 4,
 "nbformat_minor": 5
}