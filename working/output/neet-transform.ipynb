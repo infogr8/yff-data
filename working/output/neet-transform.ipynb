{
 "cells": [
  {
   "cell_type": "code",
   "execution_count": 1,
   "id": "044d04aa",
   "metadata": {
    "execution": {
     "iopub.execute_input": "2024-07-18T06:39:34.780950Z",
     "iopub.status.busy": "2024-07-18T06:39:34.780690Z",
     "iopub.status.idle": "2024-07-18T06:39:35.088087Z",
     "shell.execute_reply": "2024-07-18T06:39:35.087340Z"
    },
    "papermill": {
     "duration": 0.312942,
     "end_time": "2024-07-18T06:39:35.089976",
     "exception": false,
     "start_time": "2024-07-18T06:39:34.777034",
     "status": "completed"
    },
    "tags": []
   },
   "outputs": [],
   "source": [
    "import os\n",
    "import sys\n",
    "import pandas as pd\n",
    "\n",
    "LIB_DIR = '../../'\n",
    "if LIB_DIR not in sys.path:\n",
    "    sys.path.append(LIB_DIR)"
   ]
  },
  {
   "cell_type": "code",
   "execution_count": 2,
   "id": "13e07c45",
   "metadata": {
    "execution": {
     "iopub.execute_input": "2024-07-18T06:39:35.095879Z",
     "iopub.status.busy": "2024-07-18T06:39:35.095412Z",
     "iopub.status.idle": "2024-07-18T06:39:35.100250Z",
     "shell.execute_reply": "2024-07-18T06:39:35.099711Z"
    },
    "papermill": {
     "duration": 0.009129,
     "end_time": "2024-07-18T06:39:35.101575",
     "exception": false,
     "start_time": "2024-07-18T06:39:35.092446",
     "status": "completed"
    },
    "tags": []
   },
   "outputs": [],
   "source": [
    "from scripts.util.date import quarter_to_date"
   ]
  },
  {
   "cell_type": "code",
   "execution_count": 3,
   "id": "ea429c4a",
   "metadata": {
    "execution": {
     "iopub.execute_input": "2024-07-18T06:39:35.106766Z",
     "iopub.status.busy": "2024-07-18T06:39:35.106282Z",
     "iopub.status.idle": "2024-07-18T06:39:35.109743Z",
     "shell.execute_reply": "2024-07-18T06:39:35.109187Z"
    },
    "papermill": {
     "duration": 0.007477,
     "end_time": "2024-07-18T06:39:35.111048",
     "exception": false,
     "start_time": "2024-07-18T06:39:35.103571",
     "status": "completed"
    },
    "tags": []
   },
   "outputs": [],
   "source": [
    "NEET_DATA = '../../working/upstream/neet.csv'\n",
    "ALL_METADATA = '../../working/upstream/metadata.csv'\n",
    "NEET_16_24 = '../../data/neet/neet.csv'\n",
    "NEET_METADATA = '../../data/neet/metadata.json'\n",
    "\n",
    "os.makedirs(os.path.dirname(NEET_16_24), exist_ok=True)"
   ]
  },
  {
   "cell_type": "code",
   "execution_count": 4,
   "id": "5482a2a5",
   "metadata": {
    "execution": {
     "iopub.execute_input": "2024-07-18T06:39:35.116159Z",
     "iopub.status.busy": "2024-07-18T06:39:35.115766Z",
     "iopub.status.idle": "2024-07-18T06:39:35.124359Z",
     "shell.execute_reply": "2024-07-18T06:39:35.123838Z"
    },
    "papermill": {
     "duration": 0.012574,
     "end_time": "2024-07-18T06:39:35.125656",
     "exception": false,
     "start_time": "2024-07-18T06:39:35.113082",
     "status": "completed"
    },
    "tags": []
   },
   "outputs": [],
   "source": [
    "data = pd.read_csv('../../working/upstream/neet.csv')"
   ]
  },
  {
   "cell_type": "code",
   "execution_count": 5,
   "id": "512ed71b",
   "metadata": {
    "execution": {
     "iopub.execute_input": "2024-07-18T06:39:35.130783Z",
     "iopub.status.busy": "2024-07-18T06:39:35.130426Z",
     "iopub.status.idle": "2024-07-18T06:39:35.133695Z",
     "shell.execute_reply": "2024-07-18T06:39:35.133144Z"
    },
    "papermill": {
     "duration": 0.007193,
     "end_time": "2024-07-18T06:39:35.134907",
     "exception": false,
     "start_time": "2024-07-18T06:39:35.127714",
     "status": "completed"
    },
    "tags": []
   },
   "outputs": [],
   "source": [
    "variable_mapper = {\n",
    "    'Young people who were NEET_Total': 'age_16_to_24_neet_total_sa',\n",
    "    'Young people who were NEET_Unemployed': 'age_16_to_24_neet_unemployed_sa',\n",
    "    'Young people who were NEET_Economically inactive': 'age_16_to_24_neet_economically_inactive_sa',\n",
    "    'Total people in relevant population group': 'age_16_to_24_population',\n",
    "    'People who were NEET as a percentage of people in relevant population group': 'age_16_to_24_neet_total_rate_sa',\n",
    "}"
   ]
  },
  {
   "cell_type": "code",
   "execution_count": 6,
   "id": "a0410e00",
   "metadata": {
    "execution": {
     "iopub.execute_input": "2024-07-18T06:39:35.140303Z",
     "iopub.status.busy": "2024-07-18T06:39:35.139750Z",
     "iopub.status.idle": "2024-07-18T06:39:35.143945Z",
     "shell.execute_reply": "2024-07-18T06:39:35.143417Z"
    },
    "papermill": {
     "duration": 0.00831,
     "end_time": "2024-07-18T06:39:35.145280",
     "exception": false,
     "start_time": "2024-07-18T06:39:35.136970",
     "status": "completed"
    },
    "tags": []
   },
   "outputs": [],
   "source": [
    "data = data[data.age == 'Aged 16-24']"
   ]
  },
  {
   "cell_type": "code",
   "execution_count": 7,
   "id": "0bbaff56",
   "metadata": {
    "execution": {
     "iopub.execute_input": "2024-07-18T06:39:35.150499Z",
     "iopub.status.busy": "2024-07-18T06:39:35.150055Z",
     "iopub.status.idle": "2024-07-18T06:39:35.154306Z",
     "shell.execute_reply": "2024-07-18T06:39:35.153755Z"
    },
    "papermill": {
     "duration": 0.008298,
     "end_time": "2024-07-18T06:39:35.155650",
     "exception": false,
     "start_time": "2024-07-18T06:39:35.147352",
     "status": "completed"
    },
    "tags": []
   },
   "outputs": [],
   "source": [
    "data = data.replace({\n",
    "  'measure': variable_mapper\n",
    "})"
   ]
  },
  {
   "cell_type": "code",
   "execution_count": 8,
   "id": "c7fd8c86",
   "metadata": {
    "execution": {
     "iopub.execute_input": "2024-07-18T06:39:35.160648Z",
     "iopub.status.busy": "2024-07-18T06:39:35.160447Z",
     "iopub.status.idle": "2024-07-18T06:39:35.169695Z",
     "shell.execute_reply": "2024-07-18T06:39:35.169152Z"
    },
    "papermill": {
     "duration": 0.013205,
     "end_time": "2024-07-18T06:39:35.170938",
     "exception": false,
     "start_time": "2024-07-18T06:39:35.157733",
     "status": "completed"
    },
    "tags": []
   },
   "outputs": [],
   "source": [
    "data['quarter_start'] = pd.Index(data.date.pipe(quarter_to_date))\n",
    "data['variable'] = data.sheet.str.split(' - ').apply(lambda x: x[0]).str.lower() + '_' + data.measure"
   ]
  },
  {
   "cell_type": "code",
   "execution_count": 9,
   "id": "51fb4f18",
   "metadata": {
    "execution": {
     "iopub.execute_input": "2024-07-18T06:39:35.176239Z",
     "iopub.status.busy": "2024-07-18T06:39:35.175866Z",
     "iopub.status.idle": "2024-07-18T06:39:35.183776Z",
     "shell.execute_reply": "2024-07-18T06:39:35.183111Z"
    },
    "papermill": {
     "duration": 0.012008,
     "end_time": "2024-07-18T06:39:35.185140",
     "exception": false,
     "start_time": "2024-07-18T06:39:35.173132",
     "status": "completed"
    },
    "tags": []
   },
   "outputs": [],
   "source": [
    "data = data.pivot_table(index='quarter_start', columns='variable', values='value')"
   ]
  },
  {
   "cell_type": "code",
   "execution_count": 10,
   "id": "a769ab10",
   "metadata": {
    "execution": {
     "iopub.execute_input": "2024-07-18T06:39:35.190656Z",
     "iopub.status.busy": "2024-07-18T06:39:35.190233Z",
     "iopub.status.idle": "2024-07-18T06:39:35.196543Z",
     "shell.execute_reply": "2024-07-18T06:39:35.195956Z"
    },
    "papermill": {
     "duration": 0.010525,
     "end_time": "2024-07-18T06:39:35.197872",
     "exception": false,
     "start_time": "2024-07-18T06:39:35.187347",
     "status": "completed"
    },
    "tags": []
   },
   "outputs": [],
   "source": [
    "def calculate_rates(data, prefix):\n",
    "    data[prefix + '_age_16_to_24_neet_unemployed_rate_sa'] = data[prefix + '_age_16_to_24_neet_unemployed_sa'] / data[prefix + '_age_16_to_24_population'] * 100\n",
    "    data[prefix + '_age_16_to_24_neet_economically_inactive_rate_sa'] = data[prefix + '_age_16_to_24_neet_economically_inactive_sa'] / data[prefix + '_age_16_to_24_population'] * 100\n",
    "    return data\n",
    "  \n",
    "data = data.pipe(\n",
    "    calculate_rates, 'people'\n",
    ").pipe(\n",
    "    calculate_rates, 'men'\n",
    ").pipe(\n",
    "    calculate_rates, 'women'\n",
    ")\n"
   ]
  },
  {
   "cell_type": "code",
   "execution_count": 11,
   "id": "79fc2701",
   "metadata": {
    "execution": {
     "iopub.execute_input": "2024-07-18T06:39:35.203787Z",
     "iopub.status.busy": "2024-07-18T06:39:35.203377Z",
     "iopub.status.idle": "2024-07-18T06:39:35.210281Z",
     "shell.execute_reply": "2024-07-18T06:39:35.209665Z"
    },
    "papermill": {
     "duration": 0.011397,
     "end_time": "2024-07-18T06:39:35.211655",
     "exception": false,
     "start_time": "2024-07-18T06:39:35.200258",
     "status": "completed"
    },
    "tags": []
   },
   "outputs": [],
   "source": [
    "column_order = [\n",
    "  'people_age_16_to_24_neet_total_sa',\n",
    "  'people_age_16_to_24_neet_unemployed_sa',\n",
    "  'people_age_16_to_24_neet_economically_inactive_sa',\n",
    "  'people_age_16_to_24_population',\n",
    "  'people_age_16_to_24_neet_total_rate_sa',\n",
    "  'people_age_16_to_24_neet_unemployed_rate_sa',\n",
    "  'people_age_16_to_24_neet_economically_inactive_rate_sa',\n",
    "  'men_age_16_to_24_neet_total_sa',\n",
    "  'men_age_16_to_24_neet_unemployed_sa',\n",
    "  'men_age_16_to_24_neet_economically_inactive_sa',\n",
    "  'men_age_16_to_24_population',\n",
    "  'men_age_16_to_24_neet_total_rate_sa',\n",
    "  'men_age_16_to_24_neet_unemployed_rate_sa',\n",
    "  'men_age_16_to_24_neet_economically_inactive_rate_sa',\n",
    "  'women_age_16_to_24_neet_total_sa',\n",
    "  'women_age_16_to_24_neet_unemployed_sa',\n",
    "  'women_age_16_to_24_neet_economically_inactive_sa',\n",
    "  'women_age_16_to_24_population',\n",
    "  'women_age_16_to_24_neet_total_rate_sa',\n",
    "  'women_age_16_to_24_neet_unemployed_rate_sa',\n",
    "  'women_age_16_to_24_neet_economically_inactive_rate_sa'\n",
    "]\n",
    "\n",
    "data.loc[:, column_order].to_csv(NEET_16_24)"
   ]
  },
  {
   "cell_type": "code",
   "execution_count": 12,
   "id": "85228701",
   "metadata": {
    "execution": {
     "iopub.execute_input": "2024-07-18T06:39:35.217127Z",
     "iopub.status.busy": "2024-07-18T06:39:35.216762Z",
     "iopub.status.idle": "2024-07-18T06:39:35.228560Z",
     "shell.execute_reply": "2024-07-18T06:39:35.228010Z"
    },
    "papermill": {
     "duration": 0.01599,
     "end_time": "2024-07-18T06:39:35.229890",
     "exception": false,
     "start_time": "2024-07-18T06:39:35.213900",
     "status": "completed"
    },
    "tags": []
   },
   "outputs": [
    {
     "data": {
      "text/plain": [
       "id                     object\n",
       "last_update    datetime64[ns]\n",
       "next_update            object\n",
       "dtype: object"
      ]
     },
     "execution_count": 12,
     "metadata": {},
     "output_type": "execute_result"
    }
   ],
   "source": [
    "metadata = pd.read_csv(ALL_METADATA, parse_dates=['last_update', 'next_update'])\n",
    "metadata.set_index(\n",
    "    'id'\n",
    ").rename(\n",
    "    columns={\n",
    "        'last_update': 'published'\n",
    "    }\n",
    ").loc['NEET'].to_json(NEET_METADATA, date_format='iso')\n",
    "\n",
    "metadata.dtypes\n"
   ]
  },
  {
   "cell_type": "code",
   "execution_count": null,
   "id": "72227c7d",
   "metadata": {
    "papermill": {
     "duration": 0.002335,
     "end_time": "2024-07-18T06:39:35.234677",
     "exception": false,
     "start_time": "2024-07-18T06:39:35.232342",
     "status": "completed"
    },
    "tags": []
   },
   "outputs": [],
   "source": []
  },
  {
   "cell_type": "code",
   "execution_count": null,
   "id": "60448807",
   "metadata": {
    "papermill": {
     "duration": 0.002336,
     "end_time": "2024-07-18T06:39:35.239329",
     "exception": false,
     "start_time": "2024-07-18T06:39:35.236993",
     "status": "completed"
    },
    "tags": []
   },
   "outputs": [],
   "source": []
  }
 ],
 "metadata": {
  "kernelspec": {
   "display_name": "yff-data-ansOWYcy",
   "language": "python",
   "name": "python3"
  },
  "language_info": {
   "codemirror_mode": {
    "name": "ipython",
    "version": 3
   },
   "file_extension": ".py",
   "mimetype": "text/x-python",
   "name": "python",
   "nbconvert_exporter": "python",
   "pygments_lexer": "ipython3",
   "version": "3.10.14"
  },
  "papermill": {
   "default_parameters": {},
   "duration": 1.855129,
   "end_time": "2024-07-18T06:39:35.459323",
   "environment_variables": {},
   "exception": null,
   "input_path": "transform.ipynb",
   "output_path": "../../working/output/neet-transform.ipynb",
   "parameters": {},
   "start_time": "2024-07-18T06:39:33.604194",
   "version": "2.5.0"
  }
 },
 "nbformat": 4,
 "nbformat_minor": 5
}