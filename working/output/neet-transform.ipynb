{
 "cells": [
  {
   "cell_type": "code",
   "execution_count": 1,
   "id": "478c076a",
   "metadata": {
    "execution": {
     "iopub.execute_input": "2025-08-12T08:26:58.426106Z",
     "iopub.status.busy": "2025-08-12T08:26:58.425892Z",
     "iopub.status.idle": "2025-08-12T08:26:58.728658Z",
     "shell.execute_reply": "2025-08-12T08:26:58.727978Z"
    },
    "papermill": {
     "duration": 0.307926,
     "end_time": "2025-08-12T08:26:58.730420",
     "exception": false,
     "start_time": "2025-08-12T08:26:58.422494",
     "status": "completed"
    },
    "tags": []
   },
   "outputs": [],
   "source": [
    "import os\n",
    "import sys\n",
    "import pandas as pd\n",
    "\n",
    "LIB_DIR = '../../'\n",
    "if LIB_DIR not in sys.path:\n",
    "    sys.path.append(LIB_DIR)"
   ]
  },
  {
   "cell_type": "code",
   "execution_count": 2,
   "id": "83adbb23",
   "metadata": {
    "execution": {
     "iopub.execute_input": "2025-08-12T08:26:58.735853Z",
     "iopub.status.busy": "2025-08-12T08:26:58.735387Z",
     "iopub.status.idle": "2025-08-12T08:26:58.739880Z",
     "shell.execute_reply": "2025-08-12T08:26:58.739360Z"
    },
    "papermill": {
     "duration": 0.008495,
     "end_time": "2025-08-12T08:26:58.741191",
     "exception": false,
     "start_time": "2025-08-12T08:26:58.732696",
     "status": "completed"
    },
    "tags": []
   },
   "outputs": [],
   "source": [
    "from scripts.util.date import quarter_to_date"
   ]
  },
  {
   "cell_type": "code",
   "execution_count": 3,
   "id": "53497357",
   "metadata": {
    "execution": {
     "iopub.execute_input": "2025-08-12T08:26:58.746048Z",
     "iopub.status.busy": "2025-08-12T08:26:58.745752Z",
     "iopub.status.idle": "2025-08-12T08:26:58.749386Z",
     "shell.execute_reply": "2025-08-12T08:26:58.748848Z"
    },
    "papermill": {
     "duration": 0.007579,
     "end_time": "2025-08-12T08:26:58.750703",
     "exception": false,
     "start_time": "2025-08-12T08:26:58.743124",
     "status": "completed"
    },
    "tags": []
   },
   "outputs": [],
   "source": [
    "NEET_DATA = '../../working/upstream/neet.csv'\n",
    "ALL_METADATA = '../../working/upstream/metadata.csv'\n",
    "NEET_16_24 = '../../data/neet/neet.csv'\n",
    "NEET_METADATA = '../../data/neet/metadata.json'\n",
    "\n",
    "os.makedirs(os.path.dirname(NEET_16_24), exist_ok=True)"
   ]
  },
  {
   "cell_type": "code",
   "execution_count": 4,
   "id": "b657edcb",
   "metadata": {
    "execution": {
     "iopub.execute_input": "2025-08-12T08:26:58.755526Z",
     "iopub.status.busy": "2025-08-12T08:26:58.755085Z",
     "iopub.status.idle": "2025-08-12T08:26:58.763316Z",
     "shell.execute_reply": "2025-08-12T08:26:58.762676Z"
    },
    "papermill": {
     "duration": 0.011992,
     "end_time": "2025-08-12T08:26:58.764596",
     "exception": false,
     "start_time": "2025-08-12T08:26:58.752604",
     "status": "completed"
    },
    "tags": []
   },
   "outputs": [],
   "source": [
    "data = pd.read_csv('../../working/upstream/neet.csv')"
   ]
  },
  {
   "cell_type": "code",
   "execution_count": 5,
   "id": "081582b2",
   "metadata": {
    "execution": {
     "iopub.execute_input": "2025-08-12T08:26:58.769422Z",
     "iopub.status.busy": "2025-08-12T08:26:58.769057Z",
     "iopub.status.idle": "2025-08-12T08:26:58.772338Z",
     "shell.execute_reply": "2025-08-12T08:26:58.771672Z"
    },
    "papermill": {
     "duration": 0.007179,
     "end_time": "2025-08-12T08:26:58.773736",
     "exception": false,
     "start_time": "2025-08-12T08:26:58.766557",
     "status": "completed"
    },
    "tags": []
   },
   "outputs": [],
   "source": [
    "variable_mapper = {\n",
    "    'Young people who were NEET_Total': 'age_16_to_24_neet_total_sa',\n",
    "    'Young people who were NEET_Unemployed': 'age_16_to_24_neet_unemployed_sa',\n",
    "    'Young people who were NEET_Economically inactive': 'age_16_to_24_neet_economically_inactive_sa',\n",
    "    'Total people in relevant population group': 'age_16_to_24_population',\n",
    "    'People who were NEET as a percentage of people in relevant population group': 'age_16_to_24_neet_total_rate_sa',\n",
    "}"
   ]
  },
  {
   "cell_type": "code",
   "execution_count": 6,
   "id": "81760b82",
   "metadata": {
    "execution": {
     "iopub.execute_input": "2025-08-12T08:26:58.778779Z",
     "iopub.status.busy": "2025-08-12T08:26:58.778328Z",
     "iopub.status.idle": "2025-08-12T08:26:58.782488Z",
     "shell.execute_reply": "2025-08-12T08:26:58.781939Z"
    },
    "papermill": {
     "duration": 0.007965,
     "end_time": "2025-08-12T08:26:58.783712",
     "exception": false,
     "start_time": "2025-08-12T08:26:58.775747",
     "status": "completed"
    },
    "tags": []
   },
   "outputs": [],
   "source": [
    "data = data[data.age == 'Aged 16-24']"
   ]
  },
  {
   "cell_type": "code",
   "execution_count": 7,
   "id": "7addd728",
   "metadata": {
    "execution": {
     "iopub.execute_input": "2025-08-12T08:26:58.788756Z",
     "iopub.status.busy": "2025-08-12T08:26:58.788384Z",
     "iopub.status.idle": "2025-08-12T08:26:58.792816Z",
     "shell.execute_reply": "2025-08-12T08:26:58.792306Z"
    },
    "papermill": {
     "duration": 0.00847,
     "end_time": "2025-08-12T08:26:58.794201",
     "exception": false,
     "start_time": "2025-08-12T08:26:58.785731",
     "status": "completed"
    },
    "tags": []
   },
   "outputs": [],
   "source": [
    "data = data.replace({\n",
    "  'measure': variable_mapper\n",
    "})"
   ]
  },
  {
   "cell_type": "code",
   "execution_count": 8,
   "id": "71fd7984",
   "metadata": {
    "execution": {
     "iopub.execute_input": "2025-08-12T08:26:58.799111Z",
     "iopub.status.busy": "2025-08-12T08:26:58.798922Z",
     "iopub.status.idle": "2025-08-12T08:26:58.808366Z",
     "shell.execute_reply": "2025-08-12T08:26:58.807856Z"
    },
    "papermill": {
     "duration": 0.013446,
     "end_time": "2025-08-12T08:26:58.809709",
     "exception": false,
     "start_time": "2025-08-12T08:26:58.796263",
     "status": "completed"
    },
    "tags": []
   },
   "outputs": [],
   "source": [
    "data['quarter_start'] = pd.Index(data.date.pipe(quarter_to_date))\n",
    "data['variable'] = data.sheet.str.split(' - ').apply(lambda x: x[0]).str.lower() + '_' + data.measure"
   ]
  },
  {
   "cell_type": "code",
   "execution_count": 9,
   "id": "31a8ed50",
   "metadata": {
    "execution": {
     "iopub.execute_input": "2025-08-12T08:26:58.814859Z",
     "iopub.status.busy": "2025-08-12T08:26:58.814647Z",
     "iopub.status.idle": "2025-08-12T08:26:58.822881Z",
     "shell.execute_reply": "2025-08-12T08:26:58.822222Z"
    },
    "papermill": {
     "duration": 0.012362,
     "end_time": "2025-08-12T08:26:58.824257",
     "exception": false,
     "start_time": "2025-08-12T08:26:58.811895",
     "status": "completed"
    },
    "tags": []
   },
   "outputs": [],
   "source": [
    "data = data.pivot_table(index='quarter_start', columns='variable', values='value')"
   ]
  },
  {
   "cell_type": "code",
   "execution_count": 10,
   "id": "18769a9e",
   "metadata": {
    "execution": {
     "iopub.execute_input": "2025-08-12T08:26:58.829340Z",
     "iopub.status.busy": "2025-08-12T08:26:58.829102Z",
     "iopub.status.idle": "2025-08-12T08:26:58.835924Z",
     "shell.execute_reply": "2025-08-12T08:26:58.835355Z"
    },
    "papermill": {
     "duration": 0.010861,
     "end_time": "2025-08-12T08:26:58.837204",
     "exception": false,
     "start_time": "2025-08-12T08:26:58.826343",
     "status": "completed"
    },
    "tags": []
   },
   "outputs": [],
   "source": [
    "def calculate_rates(data, prefix):\n",
    "    data[prefix + '_age_16_to_24_neet_unemployed_rate_sa'] = data[prefix + '_age_16_to_24_neet_unemployed_sa'] / data[prefix + '_age_16_to_24_population'] * 100\n",
    "    data[prefix + '_age_16_to_24_neet_economically_inactive_rate_sa'] = data[prefix + '_age_16_to_24_neet_economically_inactive_sa'] / data[prefix + '_age_16_to_24_population'] * 100\n",
    "    return data\n",
    "  \n",
    "data = data.pipe(\n",
    "    calculate_rates, 'people'\n",
    ").pipe(\n",
    "    calculate_rates, 'men'\n",
    ").pipe(\n",
    "    calculate_rates, 'women'\n",
    ")\n"
   ]
  },
  {
   "cell_type": "code",
   "execution_count": 11,
   "id": "cdb08cb7",
   "metadata": {
    "execution": {
     "iopub.execute_input": "2025-08-12T08:26:58.842670Z",
     "iopub.status.busy": "2025-08-12T08:26:58.842300Z",
     "iopub.status.idle": "2025-08-12T08:26:58.849017Z",
     "shell.execute_reply": "2025-08-12T08:26:58.848462Z"
    },
    "papermill": {
     "duration": 0.011063,
     "end_time": "2025-08-12T08:26:58.850489",
     "exception": false,
     "start_time": "2025-08-12T08:26:58.839426",
     "status": "completed"
    },
    "tags": []
   },
   "outputs": [],
   "source": [
    "column_order = [\n",
    "  'people_age_16_to_24_neet_total_sa',\n",
    "  'people_age_16_to_24_neet_unemployed_sa',\n",
    "  'people_age_16_to_24_neet_economically_inactive_sa',\n",
    "  'people_age_16_to_24_population',\n",
    "  'people_age_16_to_24_neet_total_rate_sa',\n",
    "  'people_age_16_to_24_neet_unemployed_rate_sa',\n",
    "  'people_age_16_to_24_neet_economically_inactive_rate_sa',\n",
    "  'men_age_16_to_24_neet_total_sa',\n",
    "  'men_age_16_to_24_neet_unemployed_sa',\n",
    "  'men_age_16_to_24_neet_economically_inactive_sa',\n",
    "  'men_age_16_to_24_population',\n",
    "  'men_age_16_to_24_neet_total_rate_sa',\n",
    "  'men_age_16_to_24_neet_unemployed_rate_sa',\n",
    "  'men_age_16_to_24_neet_economically_inactive_rate_sa',\n",
    "  'women_age_16_to_24_neet_total_sa',\n",
    "  'women_age_16_to_24_neet_unemployed_sa',\n",
    "  'women_age_16_to_24_neet_economically_inactive_sa',\n",
    "  'women_age_16_to_24_population',\n",
    "  'women_age_16_to_24_neet_total_rate_sa',\n",
    "  'women_age_16_to_24_neet_unemployed_rate_sa',\n",
    "  'women_age_16_to_24_neet_economically_inactive_rate_sa'\n",
    "]\n",
    "\n",
    "data.loc[:, column_order].to_csv(NEET_16_24)"
   ]
  },
  {
   "cell_type": "code",
   "execution_count": 12,
   "id": "55a02256",
   "metadata": {
    "execution": {
     "iopub.execute_input": "2025-08-12T08:26:58.856056Z",
     "iopub.status.busy": "2025-08-12T08:26:58.855562Z",
     "iopub.status.idle": "2025-08-12T08:26:58.867316Z",
     "shell.execute_reply": "2025-08-12T08:26:58.866682Z"
    },
    "papermill": {
     "duration": 0.015926,
     "end_time": "2025-08-12T08:26:58.868617",
     "exception": false,
     "start_time": "2025-08-12T08:26:58.852691",
     "status": "completed"
    },
    "tags": []
   },
   "outputs": [
    {
     "data": {
      "text/plain": [
       "id                     object\n",
       "last_update    datetime64[ns]\n",
       "next_update            object\n",
       "dtype: object"
      ]
     },
     "execution_count": 12,
     "metadata": {},
     "output_type": "execute_result"
    }
   ],
   "source": [
    "metadata = pd.read_csv(ALL_METADATA, parse_dates=['last_update', 'next_update'])\n",
    "metadata.set_index(\n",
    "    'id'\n",
    ").rename(\n",
    "    columns={\n",
    "        'last_update': 'published'\n",
    "    }\n",
    ").loc['NEET'].to_json(NEET_METADATA, date_format='iso')\n",
    "\n",
    "metadata.dtypes\n"
   ]
  },
  {
   "cell_type": "code",
   "execution_count": null,
   "id": "4d1b31c4",
   "metadata": {
    "papermill": {
     "duration": 0.002309,
     "end_time": "2025-08-12T08:26:58.873234",
     "exception": false,
     "start_time": "2025-08-12T08:26:58.870925",
     "status": "completed"
    },
    "tags": []
   },
   "outputs": [],
   "source": []
  },
  {
   "cell_type": "code",
   "execution_count": null,
   "id": "622fc5af",
   "metadata": {
    "papermill": {
     "duration": 0.002186,
     "end_time": "2025-08-12T08:26:58.877667",
     "exception": false,
     "start_time": "2025-08-12T08:26:58.875481",
     "status": "completed"
    },
    "tags": []
   },
   "outputs": [],
   "source": []
  }
 ],
 "metadata": {
  "kernelspec": {
   "display_name": "yff-data-ansOWYcy",
   "language": "python",
   "name": "python3"
  },
  "language_info": {
   "codemirror_mode": {
    "name": "ipython",
    "version": 3
   },
   "file_extension": ".py",
   "mimetype": "text/x-python",
   "name": "python",
   "nbconvert_exporter": "python",
   "pygments_lexer": "ipython3",
   "version": "3.10.18"
  },
  "papermill": {
   "default_parameters": {},
   "duration": 1.845994,
   "end_time": "2025-08-12T08:26:59.095046",
   "environment_variables": {},
   "exception": null,
   "input_path": "transform.ipynb",
   "output_path": "../../working/output/neet-transform.ipynb",
   "parameters": {},
   "start_time": "2025-08-12T08:26:57.249052",
   "version": "2.5.0"
  }
 },
 "nbformat": 4,
 "nbformat_minor": 5
}