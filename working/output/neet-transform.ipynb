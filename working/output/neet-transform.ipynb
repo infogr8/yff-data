{
 "cells": [
  {
   "cell_type": "code",
   "execution_count": 1,
   "id": "1b02c816",
   "metadata": {
    "execution": {
     "iopub.execute_input": "2024-08-14T06:44:34.367452Z",
     "iopub.status.busy": "2024-08-14T06:44:34.366993Z",
     "iopub.status.idle": "2024-08-14T06:44:34.669097Z",
     "shell.execute_reply": "2024-08-14T06:44:34.668505Z"
    },
    "papermill": {
     "duration": 0.307285,
     "end_time": "2024-08-14T06:44:34.670725",
     "exception": false,
     "start_time": "2024-08-14T06:44:34.363440",
     "status": "completed"
    },
    "tags": []
   },
   "outputs": [],
   "source": [
    "import os\n",
    "import sys\n",
    "import pandas as pd\n",
    "\n",
    "LIB_DIR = '../../'\n",
    "if LIB_DIR not in sys.path:\n",
    "    sys.path.append(LIB_DIR)"
   ]
  },
  {
   "cell_type": "code",
   "execution_count": 2,
   "id": "edd1ec92",
   "metadata": {
    "execution": {
     "iopub.execute_input": "2024-08-14T06:44:34.676252Z",
     "iopub.status.busy": "2024-08-14T06:44:34.675805Z",
     "iopub.status.idle": "2024-08-14T06:44:34.680250Z",
     "shell.execute_reply": "2024-08-14T06:44:34.679743Z"
    },
    "papermill": {
     "duration": 0.008497,
     "end_time": "2024-08-14T06:44:34.681539",
     "exception": false,
     "start_time": "2024-08-14T06:44:34.673042",
     "status": "completed"
    },
    "tags": []
   },
   "outputs": [],
   "source": [
    "from scripts.util.date import quarter_to_date"
   ]
  },
  {
   "cell_type": "code",
   "execution_count": 3,
   "id": "77028f57",
   "metadata": {
    "execution": {
     "iopub.execute_input": "2024-08-14T06:44:34.686519Z",
     "iopub.status.busy": "2024-08-14T06:44:34.686125Z",
     "iopub.status.idle": "2024-08-14T06:44:34.689574Z",
     "shell.execute_reply": "2024-08-14T06:44:34.689043Z"
    },
    "papermill": {
     "duration": 0.007298,
     "end_time": "2024-08-14T06:44:34.690795",
     "exception": false,
     "start_time": "2024-08-14T06:44:34.683497",
     "status": "completed"
    },
    "tags": []
   },
   "outputs": [],
   "source": [
    "NEET_DATA = '../../working/upstream/neet.csv'\n",
    "ALL_METADATA = '../../working/upstream/metadata.csv'\n",
    "NEET_16_24 = '../../data/neet/neet.csv'\n",
    "NEET_METADATA = '../../data/neet/metadata.json'\n",
    "\n",
    "os.makedirs(os.path.dirname(NEET_16_24), exist_ok=True)"
   ]
  },
  {
   "cell_type": "code",
   "execution_count": 4,
   "id": "fb66181b",
   "metadata": {
    "execution": {
     "iopub.execute_input": "2024-08-14T06:44:34.695830Z",
     "iopub.status.busy": "2024-08-14T06:44:34.695375Z",
     "iopub.status.idle": "2024-08-14T06:44:34.704322Z",
     "shell.execute_reply": "2024-08-14T06:44:34.703665Z"
    },
    "papermill": {
     "duration": 0.013003,
     "end_time": "2024-08-14T06:44:34.705752",
     "exception": false,
     "start_time": "2024-08-14T06:44:34.692749",
     "status": "completed"
    },
    "tags": []
   },
   "outputs": [],
   "source": [
    "data = pd.read_csv('../../working/upstream/neet.csv')"
   ]
  },
  {
   "cell_type": "code",
   "execution_count": 5,
   "id": "d92489b9",
   "metadata": {
    "execution": {
     "iopub.execute_input": "2024-08-14T06:44:34.710851Z",
     "iopub.status.busy": "2024-08-14T06:44:34.710393Z",
     "iopub.status.idle": "2024-08-14T06:44:34.713611Z",
     "shell.execute_reply": "2024-08-14T06:44:34.713052Z"
    },
    "papermill": {
     "duration": 0.007096,
     "end_time": "2024-08-14T06:44:34.714860",
     "exception": false,
     "start_time": "2024-08-14T06:44:34.707764",
     "status": "completed"
    },
    "tags": []
   },
   "outputs": [],
   "source": [
    "variable_mapper = {\n",
    "    'Young people who were NEET_Total': 'age_16_to_24_neet_total_sa',\n",
    "    'Young people who were NEET_Unemployed': 'age_16_to_24_neet_unemployed_sa',\n",
    "    'Young people who were NEET_Economically inactive': 'age_16_to_24_neet_economically_inactive_sa',\n",
    "    'Total people in relevant population group': 'age_16_to_24_population',\n",
    "    'People who were NEET as a percentage of people in relevant population group': 'age_16_to_24_neet_total_rate_sa',\n",
    "}"
   ]
  },
  {
   "cell_type": "code",
   "execution_count": 6,
   "id": "5611b9e9",
   "metadata": {
    "execution": {
     "iopub.execute_input": "2024-08-14T06:44:34.719964Z",
     "iopub.status.busy": "2024-08-14T06:44:34.719577Z",
     "iopub.status.idle": "2024-08-14T06:44:34.723538Z",
     "shell.execute_reply": "2024-08-14T06:44:34.722976Z"
    },
    "papermill": {
     "duration": 0.007981,
     "end_time": "2024-08-14T06:44:34.724840",
     "exception": false,
     "start_time": "2024-08-14T06:44:34.716859",
     "status": "completed"
    },
    "tags": []
   },
   "outputs": [],
   "source": [
    "data = data[data.age == 'Aged 16-24']"
   ]
  },
  {
   "cell_type": "code",
   "execution_count": 7,
   "id": "c76a3a0a",
   "metadata": {
    "execution": {
     "iopub.execute_input": "2024-08-14T06:44:34.729805Z",
     "iopub.status.busy": "2024-08-14T06:44:34.729509Z",
     "iopub.status.idle": "2024-08-14T06:44:34.734052Z",
     "shell.execute_reply": "2024-08-14T06:44:34.733546Z"
    },
    "papermill": {
     "duration": 0.0086,
     "end_time": "2024-08-14T06:44:34.735437",
     "exception": false,
     "start_time": "2024-08-14T06:44:34.726837",
     "status": "completed"
    },
    "tags": []
   },
   "outputs": [],
   "source": [
    "data = data.replace({\n",
    "  'measure': variable_mapper\n",
    "})"
   ]
  },
  {
   "cell_type": "code",
   "execution_count": 8,
   "id": "588972e3",
   "metadata": {
    "execution": {
     "iopub.execute_input": "2024-08-14T06:44:34.740628Z",
     "iopub.status.busy": "2024-08-14T06:44:34.740131Z",
     "iopub.status.idle": "2024-08-14T06:44:34.749499Z",
     "shell.execute_reply": "2024-08-14T06:44:34.748846Z"
    },
    "papermill": {
     "duration": 0.013613,
     "end_time": "2024-08-14T06:44:34.751092",
     "exception": false,
     "start_time": "2024-08-14T06:44:34.737479",
     "status": "completed"
    },
    "tags": []
   },
   "outputs": [],
   "source": [
    "data['quarter_start'] = pd.Index(data.date.pipe(quarter_to_date))\n",
    "data['variable'] = data.sheet.str.split(' - ').apply(lambda x: x[0]).str.lower() + '_' + data.measure"
   ]
  },
  {
   "cell_type": "code",
   "execution_count": 9,
   "id": "870e5138",
   "metadata": {
    "execution": {
     "iopub.execute_input": "2024-08-14T06:44:34.756505Z",
     "iopub.status.busy": "2024-08-14T06:44:34.756038Z",
     "iopub.status.idle": "2024-08-14T06:44:34.764010Z",
     "shell.execute_reply": "2024-08-14T06:44:34.763377Z"
    },
    "papermill": {
     "duration": 0.012173,
     "end_time": "2024-08-14T06:44:34.765435",
     "exception": false,
     "start_time": "2024-08-14T06:44:34.753262",
     "status": "completed"
    },
    "tags": []
   },
   "outputs": [],
   "source": [
    "data = data.pivot_table(index='quarter_start', columns='variable', values='value')"
   ]
  },
  {
   "cell_type": "code",
   "execution_count": 10,
   "id": "2e931cec",
   "metadata": {
    "execution": {
     "iopub.execute_input": "2024-08-14T06:44:34.770577Z",
     "iopub.status.busy": "2024-08-14T06:44:34.770335Z",
     "iopub.status.idle": "2024-08-14T06:44:34.776870Z",
     "shell.execute_reply": "2024-08-14T06:44:34.776333Z"
    },
    "papermill": {
     "duration": 0.010587,
     "end_time": "2024-08-14T06:44:34.778152",
     "exception": false,
     "start_time": "2024-08-14T06:44:34.767565",
     "status": "completed"
    },
    "tags": []
   },
   "outputs": [],
   "source": [
    "def calculate_rates(data, prefix):\n",
    "    data[prefix + '_age_16_to_24_neet_unemployed_rate_sa'] = data[prefix + '_age_16_to_24_neet_unemployed_sa'] / data[prefix + '_age_16_to_24_population'] * 100\n",
    "    data[prefix + '_age_16_to_24_neet_economically_inactive_rate_sa'] = data[prefix + '_age_16_to_24_neet_economically_inactive_sa'] / data[prefix + '_age_16_to_24_population'] * 100\n",
    "    return data\n",
    "  \n",
    "data = data.pipe(\n",
    "    calculate_rates, 'people'\n",
    ").pipe(\n",
    "    calculate_rates, 'men'\n",
    ").pipe(\n",
    "    calculate_rates, 'women'\n",
    ")\n"
   ]
  },
  {
   "cell_type": "code",
   "execution_count": 11,
   "id": "202d543f",
   "metadata": {
    "execution": {
     "iopub.execute_input": "2024-08-14T06:44:34.783583Z",
     "iopub.status.busy": "2024-08-14T06:44:34.783343Z",
     "iopub.status.idle": "2024-08-14T06:44:34.790295Z",
     "shell.execute_reply": "2024-08-14T06:44:34.789663Z"
    },
    "papermill": {
     "duration": 0.01145,
     "end_time": "2024-08-14T06:44:34.791878",
     "exception": false,
     "start_time": "2024-08-14T06:44:34.780428",
     "status": "completed"
    },
    "tags": []
   },
   "outputs": [],
   "source": [
    "column_order = [\n",
    "  'people_age_16_to_24_neet_total_sa',\n",
    "  'people_age_16_to_24_neet_unemployed_sa',\n",
    "  'people_age_16_to_24_neet_economically_inactive_sa',\n",
    "  'people_age_16_to_24_population',\n",
    "  'people_age_16_to_24_neet_total_rate_sa',\n",
    "  'people_age_16_to_24_neet_unemployed_rate_sa',\n",
    "  'people_age_16_to_24_neet_economically_inactive_rate_sa',\n",
    "  'men_age_16_to_24_neet_total_sa',\n",
    "  'men_age_16_to_24_neet_unemployed_sa',\n",
    "  'men_age_16_to_24_neet_economically_inactive_sa',\n",
    "  'men_age_16_to_24_population',\n",
    "  'men_age_16_to_24_neet_total_rate_sa',\n",
    "  'men_age_16_to_24_neet_unemployed_rate_sa',\n",
    "  'men_age_16_to_24_neet_economically_inactive_rate_sa',\n",
    "  'women_age_16_to_24_neet_total_sa',\n",
    "  'women_age_16_to_24_neet_unemployed_sa',\n",
    "  'women_age_16_to_24_neet_economically_inactive_sa',\n",
    "  'women_age_16_to_24_population',\n",
    "  'women_age_16_to_24_neet_total_rate_sa',\n",
    "  'women_age_16_to_24_neet_unemployed_rate_sa',\n",
    "  'women_age_16_to_24_neet_economically_inactive_rate_sa'\n",
    "]\n",
    "\n",
    "data.loc[:, column_order].to_csv(NEET_16_24)"
   ]
  },
  {
   "cell_type": "code",
   "execution_count": 12,
   "id": "af83c1a7",
   "metadata": {
    "execution": {
     "iopub.execute_input": "2024-08-14T06:44:34.797146Z",
     "iopub.status.busy": "2024-08-14T06:44:34.796798Z",
     "iopub.status.idle": "2024-08-14T06:44:34.808805Z",
     "shell.execute_reply": "2024-08-14T06:44:34.808183Z"
    },
    "papermill": {
     "duration": 0.016095,
     "end_time": "2024-08-14T06:44:34.810117",
     "exception": false,
     "start_time": "2024-08-14T06:44:34.794022",
     "status": "completed"
    },
    "tags": []
   },
   "outputs": [
    {
     "data": {
      "text/plain": [
       "id                     object\n",
       "last_update    datetime64[ns]\n",
       "next_update            object\n",
       "dtype: object"
      ]
     },
     "execution_count": 12,
     "metadata": {},
     "output_type": "execute_result"
    }
   ],
   "source": [
    "metadata = pd.read_csv(ALL_METADATA, parse_dates=['last_update', 'next_update'])\n",
    "metadata.set_index(\n",
    "    'id'\n",
    ").rename(\n",
    "    columns={\n",
    "        'last_update': 'published'\n",
    "    }\n",
    ").loc['NEET'].to_json(NEET_METADATA, date_format='iso')\n",
    "\n",
    "metadata.dtypes\n"
   ]
  },
  {
   "cell_type": "code",
   "execution_count": null,
   "id": "3b122a23",
   "metadata": {
    "papermill": {
     "duration": 0.002297,
     "end_time": "2024-08-14T06:44:34.814802",
     "exception": false,
     "start_time": "2024-08-14T06:44:34.812505",
     "status": "completed"
    },
    "tags": []
   },
   "outputs": [],
   "source": []
  },
  {
   "cell_type": "code",
   "execution_count": null,
   "id": "8904c3ba",
   "metadata": {
    "papermill": {
     "duration": 0.002235,
     "end_time": "2024-08-14T06:44:34.819324",
     "exception": false,
     "start_time": "2024-08-14T06:44:34.817089",
     "status": "completed"
    },
    "tags": []
   },
   "outputs": [],
   "source": []
  }
 ],
 "metadata": {
  "kernelspec": {
   "display_name": "yff-data-ansOWYcy",
   "language": "python",
   "name": "python3"
  },
  "language_info": {
   "codemirror_mode": {
    "name": "ipython",
    "version": 3
   },
   "file_extension": ".py",
   "mimetype": "text/x-python",
   "name": "python",
   "nbconvert_exporter": "python",
   "pygments_lexer": "ipython3",
   "version": "3.10.14"
  },
  "papermill": {
   "default_parameters": {},
   "duration": 1.854046,
   "end_time": "2024-08-14T06:44:35.038272",
   "environment_variables": {},
   "exception": null,
   "input_path": "transform.ipynb",
   "output_path": "../../working/output/neet-transform.ipynb",
   "parameters": {},
   "start_time": "2024-08-14T06:44:33.184226",
   "version": "2.5.0"
  }
 },
 "nbformat": 4,
 "nbformat_minor": 5
}