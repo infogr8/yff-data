{
 "cells": [
  {
   "cell_type": "code",
   "execution_count": 1,
   "id": "b5cfd1b4",
   "metadata": {
    "execution": {
     "iopub.execute_input": "2023-10-18T06:34:42.015615Z",
     "iopub.status.busy": "2023-10-18T06:34:42.015143Z",
     "iopub.status.idle": "2023-10-18T06:34:42.302032Z",
     "shell.execute_reply": "2023-10-18T06:34:42.301253Z"
    },
    "papermill": {
     "duration": 0.294655,
     "end_time": "2023-10-18T06:34:42.304358",
     "exception": false,
     "start_time": "2023-10-18T06:34:42.009703",
     "status": "completed"
    },
    "tags": []
   },
   "outputs": [],
   "source": [
    "import os\n",
    "import sys\n",
    "import pandas as pd\n",
    "\n",
    "LIB_DIR = '../../'\n",
    "if LIB_DIR not in sys.path:\n",
    "    sys.path.append(LIB_DIR)"
   ]
  },
  {
   "cell_type": "code",
   "execution_count": 2,
   "id": "b9d8a4a8",
   "metadata": {
    "execution": {
     "iopub.execute_input": "2023-10-18T06:34:42.311619Z",
     "iopub.status.busy": "2023-10-18T06:34:42.310937Z",
     "iopub.status.idle": "2023-10-18T06:34:42.316069Z",
     "shell.execute_reply": "2023-10-18T06:34:42.315108Z"
    },
    "papermill": {
     "duration": 0.010421,
     "end_time": "2023-10-18T06:34:42.317686",
     "exception": false,
     "start_time": "2023-10-18T06:34:42.307265",
     "status": "completed"
    },
    "tags": []
   },
   "outputs": [],
   "source": [
    "from scripts.util.date import quarter_to_date"
   ]
  },
  {
   "cell_type": "code",
   "execution_count": 3,
   "id": "0bbb0fa3",
   "metadata": {
    "execution": {
     "iopub.execute_input": "2023-10-18T06:34:42.323997Z",
     "iopub.status.busy": "2023-10-18T06:34:42.323426Z",
     "iopub.status.idle": "2023-10-18T06:34:42.327300Z",
     "shell.execute_reply": "2023-10-18T06:34:42.326647Z"
    },
    "papermill": {
     "duration": 0.00865,
     "end_time": "2023-10-18T06:34:42.328757",
     "exception": false,
     "start_time": "2023-10-18T06:34:42.320107",
     "status": "completed"
    },
    "tags": []
   },
   "outputs": [],
   "source": [
    "NEET_DATA = '../../working/upstream/neet.csv'\n",
    "ALL_METADATA = '../../working/upstream/metadata.csv'\n",
    "NEET_16_24 = '../../data/neet/neet.csv'\n",
    "NEET_METADATA = '../../data/neet/metadata.json'\n",
    "\n",
    "os.makedirs(os.path.dirname(NEET_16_24), exist_ok=True)"
   ]
  },
  {
   "cell_type": "code",
   "execution_count": 4,
   "id": "9b12fe4a",
   "metadata": {
    "execution": {
     "iopub.execute_input": "2023-10-18T06:34:42.335380Z",
     "iopub.status.busy": "2023-10-18T06:34:42.335014Z",
     "iopub.status.idle": "2023-10-18T06:34:42.346828Z",
     "shell.execute_reply": "2023-10-18T06:34:42.346178Z"
    },
    "papermill": {
     "duration": 0.016878,
     "end_time": "2023-10-18T06:34:42.348518",
     "exception": false,
     "start_time": "2023-10-18T06:34:42.331640",
     "status": "completed"
    },
    "tags": []
   },
   "outputs": [],
   "source": [
    "data = pd.read_csv('../../working/upstream/neet.csv')"
   ]
  },
  {
   "cell_type": "code",
   "execution_count": 5,
   "id": "e27f1167",
   "metadata": {
    "execution": {
     "iopub.execute_input": "2023-10-18T06:34:42.355238Z",
     "iopub.status.busy": "2023-10-18T06:34:42.354657Z",
     "iopub.status.idle": "2023-10-18T06:34:42.358398Z",
     "shell.execute_reply": "2023-10-18T06:34:42.357731Z"
    },
    "papermill": {
     "duration": 0.008915,
     "end_time": "2023-10-18T06:34:42.360050",
     "exception": false,
     "start_time": "2023-10-18T06:34:42.351135",
     "status": "completed"
    },
    "tags": []
   },
   "outputs": [],
   "source": [
    "variable_mapper = {\n",
    "    'Young people who were NEET_Total': 'age_16_to_24_neet_total_sa',\n",
    "    'Young people who were NEET_Unemployed': 'age_16_to_24_neet_unemployed_sa',\n",
    "    'Young people who were NEET_Economically inactive': 'age_16_to_24_neet_economically_inactive_sa',\n",
    "    'Total people in relevant population group': 'age_16_to_24_population',\n",
    "    'People who were NEET as a percentage of people in relevant population group': 'age_16_to_24_neet_total_rate_sa',\n",
    "}"
   ]
  },
  {
   "cell_type": "code",
   "execution_count": 6,
   "id": "ab32774a",
   "metadata": {
    "execution": {
     "iopub.execute_input": "2023-10-18T06:34:42.366698Z",
     "iopub.status.busy": "2023-10-18T06:34:42.366137Z",
     "iopub.status.idle": "2023-10-18T06:34:42.371573Z",
     "shell.execute_reply": "2023-10-18T06:34:42.370922Z"
    },
    "papermill": {
     "duration": 0.010396,
     "end_time": "2023-10-18T06:34:42.373073",
     "exception": false,
     "start_time": "2023-10-18T06:34:42.362677",
     "status": "completed"
    },
    "tags": []
   },
   "outputs": [],
   "source": [
    "data = data[data.age == 'Aged 16-24']"
   ]
  },
  {
   "cell_type": "code",
   "execution_count": 7,
   "id": "bd63d646",
   "metadata": {
    "execution": {
     "iopub.execute_input": "2023-10-18T06:34:42.379345Z",
     "iopub.status.busy": "2023-10-18T06:34:42.378934Z",
     "iopub.status.idle": "2023-10-18T06:34:42.383698Z",
     "shell.execute_reply": "2023-10-18T06:34:42.383044Z"
    },
    "papermill": {
     "duration": 0.009641,
     "end_time": "2023-10-18T06:34:42.385236",
     "exception": false,
     "start_time": "2023-10-18T06:34:42.375595",
     "status": "completed"
    },
    "tags": []
   },
   "outputs": [],
   "source": [
    "data = data.replace({\n",
    "  'measure': variable_mapper\n",
    "})"
   ]
  },
  {
   "cell_type": "code",
   "execution_count": 8,
   "id": "6bbfddac",
   "metadata": {
    "execution": {
     "iopub.execute_input": "2023-10-18T06:34:42.391658Z",
     "iopub.status.busy": "2023-10-18T06:34:42.391248Z",
     "iopub.status.idle": "2023-10-18T06:34:42.403338Z",
     "shell.execute_reply": "2023-10-18T06:34:42.402728Z"
    },
    "papermill": {
     "duration": 0.017033,
     "end_time": "2023-10-18T06:34:42.404832",
     "exception": false,
     "start_time": "2023-10-18T06:34:42.387799",
     "status": "completed"
    },
    "tags": []
   },
   "outputs": [],
   "source": [
    "data['quarter_start'] = pd.Index(data.date.pipe(quarter_to_date))\n",
    "data['variable'] = data.sheet.str.split(' - ').apply(lambda x: x[0]).str.lower() + '_' + data.measure"
   ]
  },
  {
   "cell_type": "code",
   "execution_count": 9,
   "id": "1123b22b",
   "metadata": {
    "execution": {
     "iopub.execute_input": "2023-10-18T06:34:42.412917Z",
     "iopub.status.busy": "2023-10-18T06:34:42.412337Z",
     "iopub.status.idle": "2023-10-18T06:34:42.422234Z",
     "shell.execute_reply": "2023-10-18T06:34:42.421633Z"
    },
    "papermill": {
     "duration": 0.015184,
     "end_time": "2023-10-18T06:34:42.423934",
     "exception": false,
     "start_time": "2023-10-18T06:34:42.408750",
     "status": "completed"
    },
    "tags": []
   },
   "outputs": [],
   "source": [
    "data = data.pivot_table(index='quarter_start', columns='variable', values='value')"
   ]
  },
  {
   "cell_type": "code",
   "execution_count": 10,
   "id": "6d340c6d",
   "metadata": {
    "execution": {
     "iopub.execute_input": "2023-10-18T06:34:42.430648Z",
     "iopub.status.busy": "2023-10-18T06:34:42.430078Z",
     "iopub.status.idle": "2023-10-18T06:34:42.438063Z",
     "shell.execute_reply": "2023-10-18T06:34:42.437430Z"
    },
    "papermill": {
     "duration": 0.013059,
     "end_time": "2023-10-18T06:34:42.439644",
     "exception": false,
     "start_time": "2023-10-18T06:34:42.426585",
     "status": "completed"
    },
    "tags": []
   },
   "outputs": [],
   "source": [
    "def calculate_rates(data, prefix):\n",
    "    data[prefix + '_age_16_to_24_neet_unemployed_rate_sa'] = data[prefix + '_age_16_to_24_neet_unemployed_sa'] / data[prefix + '_age_16_to_24_population'] * 100\n",
    "    data[prefix + '_age_16_to_24_neet_economically_inactive_rate_sa'] = data[prefix + '_age_16_to_24_neet_economically_inactive_sa'] / data[prefix + '_age_16_to_24_population'] * 100\n",
    "    return data\n",
    "  \n",
    "data = data.pipe(\n",
    "    calculate_rates, 'people'\n",
    ").pipe(\n",
    "    calculate_rates, 'men'\n",
    ").pipe(\n",
    "    calculate_rates, 'women'\n",
    ")\n"
   ]
  },
  {
   "cell_type": "code",
   "execution_count": 11,
   "id": "4f297d36",
   "metadata": {
    "execution": {
     "iopub.execute_input": "2023-10-18T06:34:42.446800Z",
     "iopub.status.busy": "2023-10-18T06:34:42.446154Z",
     "iopub.status.idle": "2023-10-18T06:34:42.456331Z",
     "shell.execute_reply": "2023-10-18T06:34:42.454785Z"
    },
    "papermill": {
     "duration": 0.015468,
     "end_time": "2023-10-18T06:34:42.457975",
     "exception": false,
     "start_time": "2023-10-18T06:34:42.442507",
     "status": "completed"
    },
    "tags": []
   },
   "outputs": [],
   "source": [
    "column_order = [\n",
    "  'people_age_16_to_24_neet_total_sa',\n",
    "  'people_age_16_to_24_neet_unemployed_sa',\n",
    "  'people_age_16_to_24_neet_economically_inactive_sa',\n",
    "  'people_age_16_to_24_population',\n",
    "  'people_age_16_to_24_neet_total_rate_sa',\n",
    "  'people_age_16_to_24_neet_unemployed_rate_sa',\n",
    "  'people_age_16_to_24_neet_economically_inactive_rate_sa',\n",
    "  'men_age_16_to_24_neet_total_sa',\n",
    "  'men_age_16_to_24_neet_unemployed_sa',\n",
    "  'men_age_16_to_24_neet_economically_inactive_sa',\n",
    "  'men_age_16_to_24_population',\n",
    "  'men_age_16_to_24_neet_total_rate_sa',\n",
    "  'men_age_16_to_24_neet_unemployed_rate_sa',\n",
    "  'men_age_16_to_24_neet_economically_inactive_rate_sa',\n",
    "  'women_age_16_to_24_neet_total_sa',\n",
    "  'women_age_16_to_24_neet_unemployed_sa',\n",
    "  'women_age_16_to_24_neet_economically_inactive_sa',\n",
    "  'women_age_16_to_24_population',\n",
    "  'women_age_16_to_24_neet_total_rate_sa',\n",
    "  'women_age_16_to_24_neet_unemployed_rate_sa',\n",
    "  'women_age_16_to_24_neet_economically_inactive_rate_sa'\n",
    "]\n",
    "\n",
    "data.loc[:, column_order].to_csv(NEET_16_24)"
   ]
  },
  {
   "cell_type": "code",
   "execution_count": 12,
   "id": "f1ac584b",
   "metadata": {
    "execution": {
     "iopub.execute_input": "2023-10-18T06:34:42.464684Z",
     "iopub.status.busy": "2023-10-18T06:34:42.464268Z",
     "iopub.status.idle": "2023-10-18T06:34:42.477850Z",
     "shell.execute_reply": "2023-10-18T06:34:42.477169Z"
    },
    "papermill": {
     "duration": 0.018682,
     "end_time": "2023-10-18T06:34:42.479404",
     "exception": false,
     "start_time": "2023-10-18T06:34:42.460722",
     "status": "completed"
    },
    "tags": []
   },
   "outputs": [
    {
     "data": {
      "text/plain": [
       "id                     object\n",
       "last_update    datetime64[ns]\n",
       "next_update    datetime64[ns]\n",
       "dtype: object"
      ]
     },
     "execution_count": 12,
     "metadata": {},
     "output_type": "execute_result"
    }
   ],
   "source": [
    "metadata = pd.read_csv(ALL_METADATA, parse_dates=['last_update', 'next_update'])\n",
    "metadata.set_index(\n",
    "    'id'\n",
    ").rename(\n",
    "    columns={\n",
    "        'last_update': 'published'\n",
    "    }\n",
    ").loc['NEET'].to_json(NEET_METADATA, date_format='iso')\n",
    "\n",
    "metadata.dtypes\n"
   ]
  },
  {
   "cell_type": "code",
   "execution_count": null,
   "id": "c827f736",
   "metadata": {
    "papermill": {
     "duration": 0.002912,
     "end_time": "2023-10-18T06:34:42.485238",
     "exception": false,
     "start_time": "2023-10-18T06:34:42.482326",
     "status": "completed"
    },
    "tags": []
   },
   "outputs": [],
   "source": []
  },
  {
   "cell_type": "code",
   "execution_count": null,
   "id": "d82dee58",
   "metadata": {
    "papermill": {
     "duration": 0.002807,
     "end_time": "2023-10-18T06:34:42.490900",
     "exception": false,
     "start_time": "2023-10-18T06:34:42.488093",
     "status": "completed"
    },
    "tags": []
   },
   "outputs": [],
   "source": []
  }
 ],
 "metadata": {
  "kernelspec": {
   "display_name": "yff-data-ansOWYcy",
   "language": "python",
   "name": "python3"
  },
  "language_info": {
   "codemirror_mode": {
    "name": "ipython",
    "version": 3
   },
   "file_extension": ".py",
   "mimetype": "text/x-python",
   "name": "python",
   "nbconvert_exporter": "python",
   "pygments_lexer": "ipython3",
   "version": "3.10.13"
  },
  "papermill": {
   "default_parameters": {},
   "duration": 2.37833,
   "end_time": "2023-10-18T06:34:42.811402",
   "environment_variables": {},
   "exception": null,
   "input_path": "transform.ipynb",
   "output_path": "../../working/output/neet-transform.ipynb",
   "parameters": {},
   "start_time": "2023-10-18T06:34:40.433072",
   "version": "2.4.0"
  }
 },
 "nbformat": 4,
 "nbformat_minor": 5
}