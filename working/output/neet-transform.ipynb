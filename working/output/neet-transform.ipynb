{
 "cells": [
  {
   "cell_type": "code",
   "execution_count": 1,
   "id": "1058eca0",
   "metadata": {
    "execution": {
     "iopub.execute_input": "2024-06-11T09:22:42.859252Z",
     "iopub.status.busy": "2024-06-11T09:22:42.859002Z",
     "iopub.status.idle": "2024-06-11T09:22:43.155173Z",
     "shell.execute_reply": "2024-06-11T09:22:43.154493Z"
    },
    "papermill": {
     "duration": 0.302182,
     "end_time": "2024-06-11T09:22:43.156955",
     "exception": false,
     "start_time": "2024-06-11T09:22:42.854773",
     "status": "completed"
    },
    "tags": []
   },
   "outputs": [],
   "source": [
    "import os\n",
    "import sys\n",
    "import pandas as pd\n",
    "\n",
    "LIB_DIR = '../../'\n",
    "if LIB_DIR not in sys.path:\n",
    "    sys.path.append(LIB_DIR)"
   ]
  },
  {
   "cell_type": "code",
   "execution_count": 2,
   "id": "41d3370f",
   "metadata": {
    "execution": {
     "iopub.execute_input": "2024-06-11T09:22:43.162398Z",
     "iopub.status.busy": "2024-06-11T09:22:43.161949Z",
     "iopub.status.idle": "2024-06-11T09:22:43.166012Z",
     "shell.execute_reply": "2024-06-11T09:22:43.165409Z"
    },
    "papermill": {
     "duration": 0.008205,
     "end_time": "2024-06-11T09:22:43.167403",
     "exception": false,
     "start_time": "2024-06-11T09:22:43.159198",
     "status": "completed"
    },
    "tags": []
   },
   "outputs": [],
   "source": [
    "from scripts.util.date import quarter_to_date"
   ]
  },
  {
   "cell_type": "code",
   "execution_count": 3,
   "id": "29d68119",
   "metadata": {
    "execution": {
     "iopub.execute_input": "2024-06-11T09:22:43.172351Z",
     "iopub.status.busy": "2024-06-11T09:22:43.171982Z",
     "iopub.status.idle": "2024-06-11T09:22:43.175314Z",
     "shell.execute_reply": "2024-06-11T09:22:43.174778Z"
    },
    "papermill": {
     "duration": 0.007188,
     "end_time": "2024-06-11T09:22:43.176564",
     "exception": false,
     "start_time": "2024-06-11T09:22:43.169376",
     "status": "completed"
    },
    "tags": []
   },
   "outputs": [],
   "source": [
    "NEET_DATA = '../../working/upstream/neet.csv'\n",
    "ALL_METADATA = '../../working/upstream/metadata.csv'\n",
    "NEET_16_24 = '../../data/neet/neet.csv'\n",
    "NEET_METADATA = '../../data/neet/metadata.json'\n",
    "\n",
    "os.makedirs(os.path.dirname(NEET_16_24), exist_ok=True)"
   ]
  },
  {
   "cell_type": "code",
   "execution_count": 4,
   "id": "60d08761",
   "metadata": {
    "execution": {
     "iopub.execute_input": "2024-06-11T09:22:43.181545Z",
     "iopub.status.busy": "2024-06-11T09:22:43.181129Z",
     "iopub.status.idle": "2024-06-11T09:22:43.189905Z",
     "shell.execute_reply": "2024-06-11T09:22:43.189388Z"
    },
    "papermill": {
     "duration": 0.012711,
     "end_time": "2024-06-11T09:22:43.191214",
     "exception": false,
     "start_time": "2024-06-11T09:22:43.178503",
     "status": "completed"
    },
    "tags": []
   },
   "outputs": [],
   "source": [
    "data = pd.read_csv('../../working/upstream/neet.csv')"
   ]
  },
  {
   "cell_type": "code",
   "execution_count": 5,
   "id": "04b80ed2",
   "metadata": {
    "execution": {
     "iopub.execute_input": "2024-06-11T09:22:43.196141Z",
     "iopub.status.busy": "2024-06-11T09:22:43.195792Z",
     "iopub.status.idle": "2024-06-11T09:22:43.198958Z",
     "shell.execute_reply": "2024-06-11T09:22:43.198422Z"
    },
    "papermill": {
     "duration": 0.006956,
     "end_time": "2024-06-11T09:22:43.200149",
     "exception": false,
     "start_time": "2024-06-11T09:22:43.193193",
     "status": "completed"
    },
    "tags": []
   },
   "outputs": [],
   "source": [
    "variable_mapper = {\n",
    "    'Young people who were NEET_Total': 'age_16_to_24_neet_total_sa',\n",
    "    'Young people who were NEET_Unemployed': 'age_16_to_24_neet_unemployed_sa',\n",
    "    'Young people who were NEET_Economically inactive': 'age_16_to_24_neet_economically_inactive_sa',\n",
    "    'Total people in relevant population group': 'age_16_to_24_population',\n",
    "    'People who were NEET as a percentage of people in relevant population group': 'age_16_to_24_neet_total_rate_sa',\n",
    "}"
   ]
  },
  {
   "cell_type": "code",
   "execution_count": 6,
   "id": "1ab38260",
   "metadata": {
    "execution": {
     "iopub.execute_input": "2024-06-11T09:22:43.205255Z",
     "iopub.status.busy": "2024-06-11T09:22:43.204869Z",
     "iopub.status.idle": "2024-06-11T09:22:43.208788Z",
     "shell.execute_reply": "2024-06-11T09:22:43.208213Z"
    },
    "papermill": {
     "duration": 0.007964,
     "end_time": "2024-06-11T09:22:43.210079",
     "exception": false,
     "start_time": "2024-06-11T09:22:43.202115",
     "status": "completed"
    },
    "tags": []
   },
   "outputs": [],
   "source": [
    "data = data[data.age == 'Aged 16-24']"
   ]
  },
  {
   "cell_type": "code",
   "execution_count": 7,
   "id": "b3501fa7",
   "metadata": {
    "execution": {
     "iopub.execute_input": "2024-06-11T09:22:43.215160Z",
     "iopub.status.busy": "2024-06-11T09:22:43.214774Z",
     "iopub.status.idle": "2024-06-11T09:22:43.219058Z",
     "shell.execute_reply": "2024-06-11T09:22:43.218443Z"
    },
    "papermill": {
     "duration": 0.008389,
     "end_time": "2024-06-11T09:22:43.220458",
     "exception": false,
     "start_time": "2024-06-11T09:22:43.212069",
     "status": "completed"
    },
    "tags": []
   },
   "outputs": [],
   "source": [
    "data = data.replace({\n",
    "  'measure': variable_mapper\n",
    "})"
   ]
  },
  {
   "cell_type": "code",
   "execution_count": 8,
   "id": "a994cc4d",
   "metadata": {
    "execution": {
     "iopub.execute_input": "2024-06-11T09:22:43.225460Z",
     "iopub.status.busy": "2024-06-11T09:22:43.225131Z",
     "iopub.status.idle": "2024-06-11T09:22:43.234244Z",
     "shell.execute_reply": "2024-06-11T09:22:43.233606Z"
    },
    "papermill": {
     "duration": 0.013043,
     "end_time": "2024-06-11T09:22:43.235562",
     "exception": false,
     "start_time": "2024-06-11T09:22:43.222519",
     "status": "completed"
    },
    "tags": []
   },
   "outputs": [],
   "source": [
    "data['quarter_start'] = pd.Index(data.date.pipe(quarter_to_date))\n",
    "data['variable'] = data.sheet.str.split(' - ').apply(lambda x: x[0]).str.lower() + '_' + data.measure"
   ]
  },
  {
   "cell_type": "code",
   "execution_count": 9,
   "id": "35398f8d",
   "metadata": {
    "execution": {
     "iopub.execute_input": "2024-06-11T09:22:43.241036Z",
     "iopub.status.busy": "2024-06-11T09:22:43.240479Z",
     "iopub.status.idle": "2024-06-11T09:22:43.248131Z",
     "shell.execute_reply": "2024-06-11T09:22:43.247523Z"
    },
    "papermill": {
     "duration": 0.011842,
     "end_time": "2024-06-11T09:22:43.249561",
     "exception": false,
     "start_time": "2024-06-11T09:22:43.237719",
     "status": "completed"
    },
    "tags": []
   },
   "outputs": [],
   "source": [
    "data = data.pivot_table(index='quarter_start', columns='variable', values='value')"
   ]
  },
  {
   "cell_type": "code",
   "execution_count": 10,
   "id": "ea74018c",
   "metadata": {
    "execution": {
     "iopub.execute_input": "2024-06-11T09:22:43.254680Z",
     "iopub.status.busy": "2024-06-11T09:22:43.254343Z",
     "iopub.status.idle": "2024-06-11T09:22:43.260626Z",
     "shell.execute_reply": "2024-06-11T09:22:43.260011Z"
    },
    "papermill": {
     "duration": 0.010305,
     "end_time": "2024-06-11T09:22:43.261994",
     "exception": false,
     "start_time": "2024-06-11T09:22:43.251689",
     "status": "completed"
    },
    "tags": []
   },
   "outputs": [],
   "source": [
    "def calculate_rates(data, prefix):\n",
    "    data[prefix + '_age_16_to_24_neet_unemployed_rate_sa'] = data[prefix + '_age_16_to_24_neet_unemployed_sa'] / data[prefix + '_age_16_to_24_population'] * 100\n",
    "    data[prefix + '_age_16_to_24_neet_economically_inactive_rate_sa'] = data[prefix + '_age_16_to_24_neet_economically_inactive_sa'] / data[prefix + '_age_16_to_24_population'] * 100\n",
    "    return data\n",
    "  \n",
    "data = data.pipe(\n",
    "    calculate_rates, 'people'\n",
    ").pipe(\n",
    "    calculate_rates, 'men'\n",
    ").pipe(\n",
    "    calculate_rates, 'women'\n",
    ")\n"
   ]
  },
  {
   "cell_type": "code",
   "execution_count": 11,
   "id": "223145d2",
   "metadata": {
    "execution": {
     "iopub.execute_input": "2024-06-11T09:22:43.267534Z",
     "iopub.status.busy": "2024-06-11T09:22:43.267198Z",
     "iopub.status.idle": "2024-06-11T09:22:43.274386Z",
     "shell.execute_reply": "2024-06-11T09:22:43.273897Z"
    },
    "papermill": {
     "duration": 0.011424,
     "end_time": "2024-06-11T09:22:43.275641",
     "exception": false,
     "start_time": "2024-06-11T09:22:43.264217",
     "status": "completed"
    },
    "tags": []
   },
   "outputs": [],
   "source": [
    "column_order = [\n",
    "  'people_age_16_to_24_neet_total_sa',\n",
    "  'people_age_16_to_24_neet_unemployed_sa',\n",
    "  'people_age_16_to_24_neet_economically_inactive_sa',\n",
    "  'people_age_16_to_24_population',\n",
    "  'people_age_16_to_24_neet_total_rate_sa',\n",
    "  'people_age_16_to_24_neet_unemployed_rate_sa',\n",
    "  'people_age_16_to_24_neet_economically_inactive_rate_sa',\n",
    "  'men_age_16_to_24_neet_total_sa',\n",
    "  'men_age_16_to_24_neet_unemployed_sa',\n",
    "  'men_age_16_to_24_neet_economically_inactive_sa',\n",
    "  'men_age_16_to_24_population',\n",
    "  'men_age_16_to_24_neet_total_rate_sa',\n",
    "  'men_age_16_to_24_neet_unemployed_rate_sa',\n",
    "  'men_age_16_to_24_neet_economically_inactive_rate_sa',\n",
    "  'women_age_16_to_24_neet_total_sa',\n",
    "  'women_age_16_to_24_neet_unemployed_sa',\n",
    "  'women_age_16_to_24_neet_economically_inactive_sa',\n",
    "  'women_age_16_to_24_population',\n",
    "  'women_age_16_to_24_neet_total_rate_sa',\n",
    "  'women_age_16_to_24_neet_unemployed_rate_sa',\n",
    "  'women_age_16_to_24_neet_economically_inactive_rate_sa'\n",
    "]\n",
    "\n",
    "data.loc[:, column_order].to_csv(NEET_16_24)"
   ]
  },
  {
   "cell_type": "code",
   "execution_count": 12,
   "id": "39ae4191",
   "metadata": {
    "execution": {
     "iopub.execute_input": "2024-06-11T09:22:43.280898Z",
     "iopub.status.busy": "2024-06-11T09:22:43.280661Z",
     "iopub.status.idle": "2024-06-11T09:22:43.292347Z",
     "shell.execute_reply": "2024-06-11T09:22:43.291696Z"
    },
    "papermill": {
     "duration": 0.015844,
     "end_time": "2024-06-11T09:22:43.293651",
     "exception": false,
     "start_time": "2024-06-11T09:22:43.277807",
     "status": "completed"
    },
    "tags": []
   },
   "outputs": [
    {
     "data": {
      "text/plain": [
       "id                     object\n",
       "last_update    datetime64[ns]\n",
       "next_update            object\n",
       "dtype: object"
      ]
     },
     "execution_count": 12,
     "metadata": {},
     "output_type": "execute_result"
    }
   ],
   "source": [
    "metadata = pd.read_csv(ALL_METADATA, parse_dates=['last_update', 'next_update'])\n",
    "metadata.set_index(\n",
    "    'id'\n",
    ").rename(\n",
    "    columns={\n",
    "        'last_update': 'published'\n",
    "    }\n",
    ").loc['NEET'].to_json(NEET_METADATA, date_format='iso')\n",
    "\n",
    "metadata.dtypes\n"
   ]
  },
  {
   "cell_type": "code",
   "execution_count": null,
   "id": "f495aea1",
   "metadata": {
    "papermill": {
     "duration": 0.002294,
     "end_time": "2024-06-11T09:22:43.298248",
     "exception": false,
     "start_time": "2024-06-11T09:22:43.295954",
     "status": "completed"
    },
    "tags": []
   },
   "outputs": [],
   "source": []
  },
  {
   "cell_type": "code",
   "execution_count": null,
   "id": "b916c9d5",
   "metadata": {
    "papermill": {
     "duration": 0.002221,
     "end_time": "2024-06-11T09:22:43.302702",
     "exception": false,
     "start_time": "2024-06-11T09:22:43.300481",
     "status": "completed"
    },
    "tags": []
   },
   "outputs": [],
   "source": []
  }
 ],
 "metadata": {
  "kernelspec": {
   "display_name": "yff-data-ansOWYcy",
   "language": "python",
   "name": "python3"
  },
  "language_info": {
   "codemirror_mode": {
    "name": "ipython",
    "version": 3
   },
   "file_extension": ".py",
   "mimetype": "text/x-python",
   "name": "python",
   "nbconvert_exporter": "python",
   "pygments_lexer": "ipython3",
   "version": "3.10.14"
  },
  "papermill": {
   "default_parameters": {},
   "duration": 1.865107,
   "end_time": "2024-06-11T09:22:43.520754",
   "environment_variables": {},
   "exception": null,
   "input_path": "transform.ipynb",
   "output_path": "../../working/output/neet-transform.ipynb",
   "parameters": {},
   "start_time": "2024-06-11T09:22:41.655647",
   "version": "2.5.0"
  }
 },
 "nbformat": 4,
 "nbformat_minor": 5
}