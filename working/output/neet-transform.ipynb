{
 "cells": [
  {
   "cell_type": "code",
   "execution_count": 1,
   "id": "3424a08a",
   "metadata": {
    "execution": {
     "iopub.execute_input": "2025-02-28T08:25:51.693662Z",
     "iopub.status.busy": "2025-02-28T08:25:51.693220Z",
     "iopub.status.idle": "2025-02-28T08:25:51.993050Z",
     "shell.execute_reply": "2025-02-28T08:25:51.992452Z"
    },
    "papermill": {
     "duration": 0.305338,
     "end_time": "2025-02-28T08:25:51.994820",
     "exception": false,
     "start_time": "2025-02-28T08:25:51.689482",
     "status": "completed"
    },
    "tags": []
   },
   "outputs": [],
   "source": [
    "import os\n",
    "import sys\n",
    "import pandas as pd\n",
    "\n",
    "LIB_DIR = '../../'\n",
    "if LIB_DIR not in sys.path:\n",
    "    sys.path.append(LIB_DIR)"
   ]
  },
  {
   "cell_type": "code",
   "execution_count": 2,
   "id": "1940d4e0",
   "metadata": {
    "execution": {
     "iopub.execute_input": "2025-02-28T08:25:52.000313Z",
     "iopub.status.busy": "2025-02-28T08:25:51.999842Z",
     "iopub.status.idle": "2025-02-28T08:25:52.004645Z",
     "shell.execute_reply": "2025-02-28T08:25:52.004156Z"
    },
    "papermill": {
     "duration": 0.008798,
     "end_time": "2025-02-28T08:25:52.005963",
     "exception": false,
     "start_time": "2025-02-28T08:25:51.997165",
     "status": "completed"
    },
    "tags": []
   },
   "outputs": [],
   "source": [
    "from scripts.util.date import quarter_to_date"
   ]
  },
  {
   "cell_type": "code",
   "execution_count": 3,
   "id": "7973b59a",
   "metadata": {
    "execution": {
     "iopub.execute_input": "2025-02-28T08:25:52.010880Z",
     "iopub.status.busy": "2025-02-28T08:25:52.010430Z",
     "iopub.status.idle": "2025-02-28T08:25:52.013631Z",
     "shell.execute_reply": "2025-02-28T08:25:52.013075Z"
    },
    "papermill": {
     "duration": 0.007123,
     "end_time": "2025-02-28T08:25:52.014993",
     "exception": false,
     "start_time": "2025-02-28T08:25:52.007870",
     "status": "completed"
    },
    "tags": []
   },
   "outputs": [],
   "source": [
    "NEET_DATA = '../../working/upstream/neet.csv'\n",
    "ALL_METADATA = '../../working/upstream/metadata.csv'\n",
    "NEET_16_24 = '../../data/neet/neet.csv'\n",
    "NEET_METADATA = '../../data/neet/metadata.json'\n",
    "\n",
    "os.makedirs(os.path.dirname(NEET_16_24), exist_ok=True)"
   ]
  },
  {
   "cell_type": "code",
   "execution_count": 4,
   "id": "cba61df6",
   "metadata": {
    "execution": {
     "iopub.execute_input": "2025-02-28T08:25:52.019837Z",
     "iopub.status.busy": "2025-02-28T08:25:52.019430Z",
     "iopub.status.idle": "2025-02-28T08:25:52.027781Z",
     "shell.execute_reply": "2025-02-28T08:25:52.027242Z"
    },
    "papermill": {
     "duration": 0.012186,
     "end_time": "2025-02-28T08:25:52.029118",
     "exception": false,
     "start_time": "2025-02-28T08:25:52.016932",
     "status": "completed"
    },
    "tags": []
   },
   "outputs": [],
   "source": [
    "data = pd.read_csv('../../working/upstream/neet.csv')"
   ]
  },
  {
   "cell_type": "code",
   "execution_count": 5,
   "id": "e9390042",
   "metadata": {
    "execution": {
     "iopub.execute_input": "2025-02-28T08:25:52.034086Z",
     "iopub.status.busy": "2025-02-28T08:25:52.033712Z",
     "iopub.status.idle": "2025-02-28T08:25:52.036917Z",
     "shell.execute_reply": "2025-02-28T08:25:52.036293Z"
    },
    "papermill": {
     "duration": 0.0072,
     "end_time": "2025-02-28T08:25:52.038300",
     "exception": false,
     "start_time": "2025-02-28T08:25:52.031100",
     "status": "completed"
    },
    "tags": []
   },
   "outputs": [],
   "source": [
    "variable_mapper = {\n",
    "    'Young people who were NEET_Total': 'age_16_to_24_neet_total_sa',\n",
    "    'Young people who were NEET_Unemployed': 'age_16_to_24_neet_unemployed_sa',\n",
    "    'Young people who were NEET_Economically inactive': 'age_16_to_24_neet_economically_inactive_sa',\n",
    "    'Total people in relevant population group': 'age_16_to_24_population',\n",
    "    'People who were NEET as a percentage of people in relevant population group': 'age_16_to_24_neet_total_rate_sa',\n",
    "}"
   ]
  },
  {
   "cell_type": "code",
   "execution_count": 6,
   "id": "7bd98226",
   "metadata": {
    "execution": {
     "iopub.execute_input": "2025-02-28T08:25:52.043373Z",
     "iopub.status.busy": "2025-02-28T08:25:52.043033Z",
     "iopub.status.idle": "2025-02-28T08:25:52.047138Z",
     "shell.execute_reply": "2025-02-28T08:25:52.046482Z"
    },
    "papermill": {
     "duration": 0.008167,
     "end_time": "2025-02-28T08:25:52.048497",
     "exception": false,
     "start_time": "2025-02-28T08:25:52.040330",
     "status": "completed"
    },
    "tags": []
   },
   "outputs": [],
   "source": [
    "data = data[data.age == 'Aged 16-24']"
   ]
  },
  {
   "cell_type": "code",
   "execution_count": 7,
   "id": "3d0b5bcc",
   "metadata": {
    "execution": {
     "iopub.execute_input": "2025-02-28T08:25:52.053593Z",
     "iopub.status.busy": "2025-02-28T08:25:52.053085Z",
     "iopub.status.idle": "2025-02-28T08:25:52.057351Z",
     "shell.execute_reply": "2025-02-28T08:25:52.056723Z"
    },
    "papermill": {
     "duration": 0.008263,
     "end_time": "2025-02-28T08:25:52.058789",
     "exception": false,
     "start_time": "2025-02-28T08:25:52.050526",
     "status": "completed"
    },
    "tags": []
   },
   "outputs": [],
   "source": [
    "data = data.replace({\n",
    "  'measure': variable_mapper\n",
    "})"
   ]
  },
  {
   "cell_type": "code",
   "execution_count": 8,
   "id": "579c6477",
   "metadata": {
    "execution": {
     "iopub.execute_input": "2025-02-28T08:25:52.063761Z",
     "iopub.status.busy": "2025-02-28T08:25:52.063394Z",
     "iopub.status.idle": "2025-02-28T08:25:52.073049Z",
     "shell.execute_reply": "2025-02-28T08:25:52.072412Z"
    },
    "papermill": {
     "duration": 0.013516,
     "end_time": "2025-02-28T08:25:52.074334",
     "exception": false,
     "start_time": "2025-02-28T08:25:52.060818",
     "status": "completed"
    },
    "tags": []
   },
   "outputs": [],
   "source": [
    "data['quarter_start'] = pd.Index(data.date.pipe(quarter_to_date))\n",
    "data['variable'] = data.sheet.str.split(' - ').apply(lambda x: x[0]).str.lower() + '_' + data.measure"
   ]
  },
  {
   "cell_type": "code",
   "execution_count": 9,
   "id": "b218d720",
   "metadata": {
    "execution": {
     "iopub.execute_input": "2025-02-28T08:25:52.079713Z",
     "iopub.status.busy": "2025-02-28T08:25:52.079221Z",
     "iopub.status.idle": "2025-02-28T08:25:52.087582Z",
     "shell.execute_reply": "2025-02-28T08:25:52.087097Z"
    },
    "papermill": {
     "duration": 0.012438,
     "end_time": "2025-02-28T08:25:52.088934",
     "exception": false,
     "start_time": "2025-02-28T08:25:52.076496",
     "status": "completed"
    },
    "tags": []
   },
   "outputs": [],
   "source": [
    "data = data.pivot_table(index='quarter_start', columns='variable', values='value')"
   ]
  },
  {
   "cell_type": "code",
   "execution_count": 10,
   "id": "5f7c148a",
   "metadata": {
    "execution": {
     "iopub.execute_input": "2025-02-28T08:25:52.094361Z",
     "iopub.status.busy": "2025-02-28T08:25:52.093861Z",
     "iopub.status.idle": "2025-02-28T08:25:52.100417Z",
     "shell.execute_reply": "2025-02-28T08:25:52.099905Z"
    },
    "papermill": {
     "duration": 0.010697,
     "end_time": "2025-02-28T08:25:52.101767",
     "exception": false,
     "start_time": "2025-02-28T08:25:52.091070",
     "status": "completed"
    },
    "tags": []
   },
   "outputs": [],
   "source": [
    "def calculate_rates(data, prefix):\n",
    "    data[prefix + '_age_16_to_24_neet_unemployed_rate_sa'] = data[prefix + '_age_16_to_24_neet_unemployed_sa'] / data[prefix + '_age_16_to_24_population'] * 100\n",
    "    data[prefix + '_age_16_to_24_neet_economically_inactive_rate_sa'] = data[prefix + '_age_16_to_24_neet_economically_inactive_sa'] / data[prefix + '_age_16_to_24_population'] * 100\n",
    "    return data\n",
    "  \n",
    "data = data.pipe(\n",
    "    calculate_rates, 'people'\n",
    ").pipe(\n",
    "    calculate_rates, 'men'\n",
    ").pipe(\n",
    "    calculate_rates, 'women'\n",
    ")\n"
   ]
  },
  {
   "cell_type": "code",
   "execution_count": 11,
   "id": "236e3e3f",
   "metadata": {
    "execution": {
     "iopub.execute_input": "2025-02-28T08:25:52.107455Z",
     "iopub.status.busy": "2025-02-28T08:25:52.106948Z",
     "iopub.status.idle": "2025-02-28T08:25:52.114056Z",
     "shell.execute_reply": "2025-02-28T08:25:52.113522Z"
    },
    "papermill": {
     "duration": 0.011523,
     "end_time": "2025-02-28T08:25:52.115522",
     "exception": false,
     "start_time": "2025-02-28T08:25:52.103999",
     "status": "completed"
    },
    "tags": []
   },
   "outputs": [],
   "source": [
    "column_order = [\n",
    "  'people_age_16_to_24_neet_total_sa',\n",
    "  'people_age_16_to_24_neet_unemployed_sa',\n",
    "  'people_age_16_to_24_neet_economically_inactive_sa',\n",
    "  'people_age_16_to_24_population',\n",
    "  'people_age_16_to_24_neet_total_rate_sa',\n",
    "  'people_age_16_to_24_neet_unemployed_rate_sa',\n",
    "  'people_age_16_to_24_neet_economically_inactive_rate_sa',\n",
    "  'men_age_16_to_24_neet_total_sa',\n",
    "  'men_age_16_to_24_neet_unemployed_sa',\n",
    "  'men_age_16_to_24_neet_economically_inactive_sa',\n",
    "  'men_age_16_to_24_population',\n",
    "  'men_age_16_to_24_neet_total_rate_sa',\n",
    "  'men_age_16_to_24_neet_unemployed_rate_sa',\n",
    "  'men_age_16_to_24_neet_economically_inactive_rate_sa',\n",
    "  'women_age_16_to_24_neet_total_sa',\n",
    "  'women_age_16_to_24_neet_unemployed_sa',\n",
    "  'women_age_16_to_24_neet_economically_inactive_sa',\n",
    "  'women_age_16_to_24_population',\n",
    "  'women_age_16_to_24_neet_total_rate_sa',\n",
    "  'women_age_16_to_24_neet_unemployed_rate_sa',\n",
    "  'women_age_16_to_24_neet_economically_inactive_rate_sa'\n",
    "]\n",
    "\n",
    "data.loc[:, column_order].to_csv(NEET_16_24)"
   ]
  },
  {
   "cell_type": "code",
   "execution_count": 12,
   "id": "62281060",
   "metadata": {
    "execution": {
     "iopub.execute_input": "2025-02-28T08:25:52.120860Z",
     "iopub.status.busy": "2025-02-28T08:25:52.120460Z",
     "iopub.status.idle": "2025-02-28T08:25:52.132446Z",
     "shell.execute_reply": "2025-02-28T08:25:52.131810Z"
    },
    "papermill": {
     "duration": 0.016065,
     "end_time": "2025-02-28T08:25:52.133759",
     "exception": false,
     "start_time": "2025-02-28T08:25:52.117694",
     "status": "completed"
    },
    "tags": []
   },
   "outputs": [
    {
     "data": {
      "text/plain": [
       "id                     object\n",
       "last_update    datetime64[ns]\n",
       "next_update            object\n",
       "dtype: object"
      ]
     },
     "execution_count": 12,
     "metadata": {},
     "output_type": "execute_result"
    }
   ],
   "source": [
    "metadata = pd.read_csv(ALL_METADATA, parse_dates=['last_update', 'next_update'])\n",
    "metadata.set_index(\n",
    "    'id'\n",
    ").rename(\n",
    "    columns={\n",
    "        'last_update': 'published'\n",
    "    }\n",
    ").loc['NEET'].to_json(NEET_METADATA, date_format='iso')\n",
    "\n",
    "metadata.dtypes\n"
   ]
  },
  {
   "cell_type": "code",
   "execution_count": null,
   "id": "1e4f20a9",
   "metadata": {
    "papermill": {
     "duration": 0.002292,
     "end_time": "2025-02-28T08:25:52.138354",
     "exception": false,
     "start_time": "2025-02-28T08:25:52.136062",
     "status": "completed"
    },
    "tags": []
   },
   "outputs": [],
   "source": []
  },
  {
   "cell_type": "code",
   "execution_count": null,
   "id": "7154ac26",
   "metadata": {
    "papermill": {
     "duration": 0.002245,
     "end_time": "2025-02-28T08:25:52.142838",
     "exception": false,
     "start_time": "2025-02-28T08:25:52.140593",
     "status": "completed"
    },
    "tags": []
   },
   "outputs": [],
   "source": []
  }
 ],
 "metadata": {
  "kernelspec": {
   "display_name": "yff-data-ansOWYcy",
   "language": "python",
   "name": "python3"
  },
  "language_info": {
   "codemirror_mode": {
    "name": "ipython",
    "version": 3
   },
   "file_extension": ".py",
   "mimetype": "text/x-python",
   "name": "python",
   "nbconvert_exporter": "python",
   "pygments_lexer": "ipython3",
   "version": "3.10.16"
  },
  "papermill": {
   "default_parameters": {},
   "duration": 2.103506,
   "end_time": "2025-02-28T08:25:52.361338",
   "environment_variables": {},
   "exception": null,
   "input_path": "transform.ipynb",
   "output_path": "../../working/output/neet-transform.ipynb",
   "parameters": {},
   "start_time": "2025-02-28T08:25:50.257832",
   "version": "2.5.0"
  }
 },
 "nbformat": 4,
 "nbformat_minor": 5
}