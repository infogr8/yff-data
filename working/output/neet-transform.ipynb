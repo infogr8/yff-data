{
 "cells": [
  {
   "cell_type": "code",
   "execution_count": 1,
   "id": "33b49780",
   "metadata": {
    "execution": {
     "iopub.execute_input": "2025-03-26T08:26:20.157758Z",
     "iopub.status.busy": "2025-03-26T08:26:20.157500Z",
     "iopub.status.idle": "2025-03-26T08:26:20.487104Z",
     "shell.execute_reply": "2025-03-26T08:26:20.486478Z"
    },
    "papermill": {
     "duration": 0.335145,
     "end_time": "2025-03-26T08:26:20.488767",
     "exception": false,
     "start_time": "2025-03-26T08:26:20.153622",
     "status": "completed"
    },
    "tags": []
   },
   "outputs": [],
   "source": [
    "import os\n",
    "import sys\n",
    "import pandas as pd\n",
    "\n",
    "LIB_DIR = '../../'\n",
    "if LIB_DIR not in sys.path:\n",
    "    sys.path.append(LIB_DIR)"
   ]
  },
  {
   "cell_type": "code",
   "execution_count": 2,
   "id": "5a24d2dc",
   "metadata": {
    "execution": {
     "iopub.execute_input": "2025-03-26T08:26:20.494525Z",
     "iopub.status.busy": "2025-03-26T08:26:20.493999Z",
     "iopub.status.idle": "2025-03-26T08:26:20.498678Z",
     "shell.execute_reply": "2025-03-26T08:26:20.498156Z"
    },
    "papermill": {
     "duration": 0.008962,
     "end_time": "2025-03-26T08:26:20.500076",
     "exception": false,
     "start_time": "2025-03-26T08:26:20.491114",
     "status": "completed"
    },
    "tags": []
   },
   "outputs": [],
   "source": [
    "from scripts.util.date import quarter_to_date"
   ]
  },
  {
   "cell_type": "code",
   "execution_count": 3,
   "id": "ba20345a",
   "metadata": {
    "execution": {
     "iopub.execute_input": "2025-03-26T08:26:20.505221Z",
     "iopub.status.busy": "2025-03-26T08:26:20.504796Z",
     "iopub.status.idle": "2025-03-26T08:26:20.508494Z",
     "shell.execute_reply": "2025-03-26T08:26:20.507823Z"
    },
    "papermill": {
     "duration": 0.007812,
     "end_time": "2025-03-26T08:26:20.509917",
     "exception": false,
     "start_time": "2025-03-26T08:26:20.502105",
     "status": "completed"
    },
    "tags": []
   },
   "outputs": [],
   "source": [
    "NEET_DATA = '../../working/upstream/neet.csv'\n",
    "ALL_METADATA = '../../working/upstream/metadata.csv'\n",
    "NEET_16_24 = '../../data/neet/neet.csv'\n",
    "NEET_METADATA = '../../data/neet/metadata.json'\n",
    "\n",
    "os.makedirs(os.path.dirname(NEET_16_24), exist_ok=True)"
   ]
  },
  {
   "cell_type": "code",
   "execution_count": 4,
   "id": "9d1a15c9",
   "metadata": {
    "execution": {
     "iopub.execute_input": "2025-03-26T08:26:20.515077Z",
     "iopub.status.busy": "2025-03-26T08:26:20.514638Z",
     "iopub.status.idle": "2025-03-26T08:26:20.523928Z",
     "shell.execute_reply": "2025-03-26T08:26:20.523231Z"
    },
    "papermill": {
     "duration": 0.013742,
     "end_time": "2025-03-26T08:26:20.525642",
     "exception": false,
     "start_time": "2025-03-26T08:26:20.511900",
     "status": "completed"
    },
    "tags": []
   },
   "outputs": [],
   "source": [
    "data = pd.read_csv('../../working/upstream/neet.csv')"
   ]
  },
  {
   "cell_type": "code",
   "execution_count": 5,
   "id": "6fc3bc3f",
   "metadata": {
    "execution": {
     "iopub.execute_input": "2025-03-26T08:26:20.530988Z",
     "iopub.status.busy": "2025-03-26T08:26:20.530566Z",
     "iopub.status.idle": "2025-03-26T08:26:20.534003Z",
     "shell.execute_reply": "2025-03-26T08:26:20.533357Z"
    },
    "papermill": {
     "duration": 0.007655,
     "end_time": "2025-03-26T08:26:20.535435",
     "exception": false,
     "start_time": "2025-03-26T08:26:20.527780",
     "status": "completed"
    },
    "tags": []
   },
   "outputs": [],
   "source": [
    "variable_mapper = {\n",
    "    'Young people who were NEET_Total': 'age_16_to_24_neet_total_sa',\n",
    "    'Young people who were NEET_Unemployed': 'age_16_to_24_neet_unemployed_sa',\n",
    "    'Young people who were NEET_Economically inactive': 'age_16_to_24_neet_economically_inactive_sa',\n",
    "    'Total people in relevant population group': 'age_16_to_24_population',\n",
    "    'People who were NEET as a percentage of people in relevant population group': 'age_16_to_24_neet_total_rate_sa',\n",
    "}"
   ]
  },
  {
   "cell_type": "code",
   "execution_count": 6,
   "id": "0a1e9b43",
   "metadata": {
    "execution": {
     "iopub.execute_input": "2025-03-26T08:26:20.540739Z",
     "iopub.status.busy": "2025-03-26T08:26:20.540335Z",
     "iopub.status.idle": "2025-03-26T08:26:20.544883Z",
     "shell.execute_reply": "2025-03-26T08:26:20.544314Z"
    },
    "papermill": {
     "duration": 0.008665,
     "end_time": "2025-03-26T08:26:20.546160",
     "exception": false,
     "start_time": "2025-03-26T08:26:20.537495",
     "status": "completed"
    },
    "tags": []
   },
   "outputs": [],
   "source": [
    "data = data[data.age == 'Aged 16-24']"
   ]
  },
  {
   "cell_type": "code",
   "execution_count": 7,
   "id": "30d25093",
   "metadata": {
    "execution": {
     "iopub.execute_input": "2025-03-26T08:26:20.551780Z",
     "iopub.status.busy": "2025-03-26T08:26:20.551241Z",
     "iopub.status.idle": "2025-03-26T08:26:20.555931Z",
     "shell.execute_reply": "2025-03-26T08:26:20.555341Z"
    },
    "papermill": {
     "duration": 0.009063,
     "end_time": "2025-03-26T08:26:20.557361",
     "exception": false,
     "start_time": "2025-03-26T08:26:20.548298",
     "status": "completed"
    },
    "tags": []
   },
   "outputs": [],
   "source": [
    "data = data.replace({\n",
    "  'measure': variable_mapper\n",
    "})"
   ]
  },
  {
   "cell_type": "code",
   "execution_count": 8,
   "id": "ad588fc0",
   "metadata": {
    "execution": {
     "iopub.execute_input": "2025-03-26T08:26:20.562919Z",
     "iopub.status.busy": "2025-03-26T08:26:20.562384Z",
     "iopub.status.idle": "2025-03-26T08:26:20.572222Z",
     "shell.execute_reply": "2025-03-26T08:26:20.571612Z"
    },
    "papermill": {
     "duration": 0.014062,
     "end_time": "2025-03-26T08:26:20.573613",
     "exception": false,
     "start_time": "2025-03-26T08:26:20.559551",
     "status": "completed"
    },
    "tags": []
   },
   "outputs": [],
   "source": [
    "data['quarter_start'] = pd.Index(data.date.pipe(quarter_to_date))\n",
    "data['variable'] = data.sheet.str.split(' - ').apply(lambda x: x[0]).str.lower() + '_' + data.measure"
   ]
  },
  {
   "cell_type": "code",
   "execution_count": 9,
   "id": "9d021242",
   "metadata": {
    "execution": {
     "iopub.execute_input": "2025-03-26T08:26:20.579637Z",
     "iopub.status.busy": "2025-03-26T08:26:20.579161Z",
     "iopub.status.idle": "2025-03-26T08:26:20.589013Z",
     "shell.execute_reply": "2025-03-26T08:26:20.588250Z"
    },
    "papermill": {
     "duration": 0.014679,
     "end_time": "2025-03-26T08:26:20.590708",
     "exception": false,
     "start_time": "2025-03-26T08:26:20.576029",
     "status": "completed"
    },
    "tags": []
   },
   "outputs": [],
   "source": [
    "data = data.pivot_table(index='quarter_start', columns='variable', values='value')"
   ]
  },
  {
   "cell_type": "code",
   "execution_count": 10,
   "id": "9548f113",
   "metadata": {
    "execution": {
     "iopub.execute_input": "2025-03-26T08:26:20.597072Z",
     "iopub.status.busy": "2025-03-26T08:26:20.596467Z",
     "iopub.status.idle": "2025-03-26T08:26:20.603542Z",
     "shell.execute_reply": "2025-03-26T08:26:20.602864Z"
    },
    "papermill": {
     "duration": 0.011756,
     "end_time": "2025-03-26T08:26:20.604967",
     "exception": false,
     "start_time": "2025-03-26T08:26:20.593211",
     "status": "completed"
    },
    "tags": []
   },
   "outputs": [],
   "source": [
    "def calculate_rates(data, prefix):\n",
    "    data[prefix + '_age_16_to_24_neet_unemployed_rate_sa'] = data[prefix + '_age_16_to_24_neet_unemployed_sa'] / data[prefix + '_age_16_to_24_population'] * 100\n",
    "    data[prefix + '_age_16_to_24_neet_economically_inactive_rate_sa'] = data[prefix + '_age_16_to_24_neet_economically_inactive_sa'] / data[prefix + '_age_16_to_24_population'] * 100\n",
    "    return data\n",
    "  \n",
    "data = data.pipe(\n",
    "    calculate_rates, 'people'\n",
    ").pipe(\n",
    "    calculate_rates, 'men'\n",
    ").pipe(\n",
    "    calculate_rates, 'women'\n",
    ")\n"
   ]
  },
  {
   "cell_type": "code",
   "execution_count": 11,
   "id": "efd4e161",
   "metadata": {
    "execution": {
     "iopub.execute_input": "2025-03-26T08:26:20.611113Z",
     "iopub.status.busy": "2025-03-26T08:26:20.610613Z",
     "iopub.status.idle": "2025-03-26T08:26:20.618522Z",
     "shell.execute_reply": "2025-03-26T08:26:20.617944Z"
    },
    "papermill": {
     "duration": 0.012638,
     "end_time": "2025-03-26T08:26:20.619946",
     "exception": false,
     "start_time": "2025-03-26T08:26:20.607308",
     "status": "completed"
    },
    "tags": []
   },
   "outputs": [],
   "source": [
    "column_order = [\n",
    "  'people_age_16_to_24_neet_total_sa',\n",
    "  'people_age_16_to_24_neet_unemployed_sa',\n",
    "  'people_age_16_to_24_neet_economically_inactive_sa',\n",
    "  'people_age_16_to_24_population',\n",
    "  'people_age_16_to_24_neet_total_rate_sa',\n",
    "  'people_age_16_to_24_neet_unemployed_rate_sa',\n",
    "  'people_age_16_to_24_neet_economically_inactive_rate_sa',\n",
    "  'men_age_16_to_24_neet_total_sa',\n",
    "  'men_age_16_to_24_neet_unemployed_sa',\n",
    "  'men_age_16_to_24_neet_economically_inactive_sa',\n",
    "  'men_age_16_to_24_population',\n",
    "  'men_age_16_to_24_neet_total_rate_sa',\n",
    "  'men_age_16_to_24_neet_unemployed_rate_sa',\n",
    "  'men_age_16_to_24_neet_economically_inactive_rate_sa',\n",
    "  'women_age_16_to_24_neet_total_sa',\n",
    "  'women_age_16_to_24_neet_unemployed_sa',\n",
    "  'women_age_16_to_24_neet_economically_inactive_sa',\n",
    "  'women_age_16_to_24_population',\n",
    "  'women_age_16_to_24_neet_total_rate_sa',\n",
    "  'women_age_16_to_24_neet_unemployed_rate_sa',\n",
    "  'women_age_16_to_24_neet_economically_inactive_rate_sa'\n",
    "]\n",
    "\n",
    "data.loc[:, column_order].to_csv(NEET_16_24)"
   ]
  },
  {
   "cell_type": "code",
   "execution_count": 12,
   "id": "bdfb48dc",
   "metadata": {
    "execution": {
     "iopub.execute_input": "2025-03-26T08:26:20.626115Z",
     "iopub.status.busy": "2025-03-26T08:26:20.625628Z",
     "iopub.status.idle": "2025-03-26T08:26:20.639307Z",
     "shell.execute_reply": "2025-03-26T08:26:20.638574Z"
    },
    "papermill": {
     "duration": 0.018414,
     "end_time": "2025-03-26T08:26:20.640741",
     "exception": false,
     "start_time": "2025-03-26T08:26:20.622327",
     "status": "completed"
    },
    "tags": []
   },
   "outputs": [
    {
     "data": {
      "text/plain": [
       "id                     object\n",
       "last_update    datetime64[ns]\n",
       "next_update            object\n",
       "dtype: object"
      ]
     },
     "execution_count": 12,
     "metadata": {},
     "output_type": "execute_result"
    }
   ],
   "source": [
    "metadata = pd.read_csv(ALL_METADATA, parse_dates=['last_update', 'next_update'])\n",
    "metadata.set_index(\n",
    "    'id'\n",
    ").rename(\n",
    "    columns={\n",
    "        'last_update': 'published'\n",
    "    }\n",
    ").loc['NEET'].to_json(NEET_METADATA, date_format='iso')\n",
    "\n",
    "metadata.dtypes\n"
   ]
  },
  {
   "cell_type": "code",
   "execution_count": null,
   "id": "00f8f87d",
   "metadata": {
    "papermill": {
     "duration": 0.002488,
     "end_time": "2025-03-26T08:26:20.645821",
     "exception": false,
     "start_time": "2025-03-26T08:26:20.643333",
     "status": "completed"
    },
    "tags": []
   },
   "outputs": [],
   "source": []
  },
  {
   "cell_type": "code",
   "execution_count": null,
   "id": "901edc87",
   "metadata": {
    "papermill": {
     "duration": 0.002279,
     "end_time": "2025-03-26T08:26:20.650448",
     "exception": false,
     "start_time": "2025-03-26T08:26:20.648169",
     "status": "completed"
    },
    "tags": []
   },
   "outputs": [],
   "source": []
  }
 ],
 "metadata": {
  "kernelspec": {
   "display_name": "yff-data-ansOWYcy",
   "language": "python",
   "name": "python3"
  },
  "language_info": {
   "codemirror_mode": {
    "name": "ipython",
    "version": 3
   },
   "file_extension": ".py",
   "mimetype": "text/x-python",
   "name": "python",
   "nbconvert_exporter": "python",
   "pygments_lexer": "ipython3",
   "version": "3.10.16"
  },
  "papermill": {
   "default_parameters": {},
   "duration": 2.772462,
   "end_time": "2025-03-26T08:26:20.970194",
   "environment_variables": {},
   "exception": null,
   "input_path": "transform.ipynb",
   "output_path": "../../working/output/neet-transform.ipynb",
   "parameters": {},
   "start_time": "2025-03-26T08:26:18.197732",
   "version": "2.5.0"
  }
 },
 "nbformat": 4,
 "nbformat_minor": 5
}