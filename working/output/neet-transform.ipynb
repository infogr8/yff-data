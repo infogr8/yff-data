{
 "cells": [
  {
   "cell_type": "code",
   "execution_count": 1,
   "id": "9b343a58",
   "metadata": {
    "execution": {
     "iopub.execute_input": "2024-08-02T12:12:26.068833Z",
     "iopub.status.busy": "2024-08-02T12:12:26.068678Z",
     "iopub.status.idle": "2024-08-02T12:12:26.300527Z",
     "shell.execute_reply": "2024-08-02T12:12:26.300085Z"
    },
    "papermill": {
     "duration": 0.236907,
     "end_time": "2024-08-02T12:12:26.301779",
     "exception": false,
     "start_time": "2024-08-02T12:12:26.064872",
     "status": "completed"
    },
    "tags": []
   },
   "outputs": [],
   "source": [
    "import os\n",
    "import sys\n",
    "import pandas as pd\n",
    "\n",
    "LIB_DIR = '../../'\n",
    "if LIB_DIR not in sys.path:\n",
    "    sys.path.append(LIB_DIR)"
   ]
  },
  {
   "cell_type": "code",
   "execution_count": 2,
   "id": "a418efcb",
   "metadata": {
    "execution": {
     "iopub.execute_input": "2024-08-02T12:12:26.306596Z",
     "iopub.status.busy": "2024-08-02T12:12:26.306379Z",
     "iopub.status.idle": "2024-08-02T12:12:26.308803Z",
     "shell.execute_reply": "2024-08-02T12:12:26.308504Z"
    },
    "papermill": {
     "duration": 0.005454,
     "end_time": "2024-08-02T12:12:26.309455",
     "exception": false,
     "start_time": "2024-08-02T12:12:26.304001",
     "status": "completed"
    },
    "tags": []
   },
   "outputs": [],
   "source": [
    "from scripts.util.date import quarter_to_date"
   ]
  },
  {
   "cell_type": "code",
   "execution_count": 3,
   "id": "9310d0d1",
   "metadata": {
    "execution": {
     "iopub.execute_input": "2024-08-02T12:12:26.312424Z",
     "iopub.status.busy": "2024-08-02T12:12:26.312225Z",
     "iopub.status.idle": "2024-08-02T12:12:26.314466Z",
     "shell.execute_reply": "2024-08-02T12:12:26.314173Z"
    },
    "papermill": {
     "duration": 0.004476,
     "end_time": "2024-08-02T12:12:26.315111",
     "exception": false,
     "start_time": "2024-08-02T12:12:26.310635",
     "status": "completed"
    },
    "tags": []
   },
   "outputs": [],
   "source": [
    "NEET_DATA = '../../working/upstream/neet.csv'\n",
    "ALL_METADATA = '../../working/upstream/metadata.csv'\n",
    "NEET_16_24 = '../../data/neet/neet.csv'\n",
    "NEET_METADATA = '../../data/neet/metadata.json'\n",
    "\n",
    "os.makedirs(os.path.dirname(NEET_16_24), exist_ok=True)"
   ]
  },
  {
   "cell_type": "code",
   "execution_count": 4,
   "id": "f399489f",
   "metadata": {
    "execution": {
     "iopub.execute_input": "2024-08-02T12:12:26.317822Z",
     "iopub.status.busy": "2024-08-02T12:12:26.317685Z",
     "iopub.status.idle": "2024-08-02T12:12:26.323303Z",
     "shell.execute_reply": "2024-08-02T12:12:26.322994Z"
    },
    "papermill": {
     "duration": 0.007838,
     "end_time": "2024-08-02T12:12:26.324070",
     "exception": false,
     "start_time": "2024-08-02T12:12:26.316232",
     "status": "completed"
    },
    "tags": []
   },
   "outputs": [],
   "source": [
    "data = pd.read_csv('../../working/upstream/neet.csv')"
   ]
  },
  {
   "cell_type": "code",
   "execution_count": 5,
   "id": "74ce35ba",
   "metadata": {
    "execution": {
     "iopub.execute_input": "2024-08-02T12:12:26.327291Z",
     "iopub.status.busy": "2024-08-02T12:12:26.327146Z",
     "iopub.status.idle": "2024-08-02T12:12:26.329204Z",
     "shell.execute_reply": "2024-08-02T12:12:26.328904Z"
    },
    "papermill": {
     "duration": 0.004584,
     "end_time": "2024-08-02T12:12:26.329839",
     "exception": false,
     "start_time": "2024-08-02T12:12:26.325255",
     "status": "completed"
    },
    "tags": []
   },
   "outputs": [],
   "source": [
    "variable_mapper = {\n",
    "    'Young people who were NEET_Total': 'age_16_to_24_neet_total_sa',\n",
    "    'Young people who were NEET_Unemployed': 'age_16_to_24_neet_unemployed_sa',\n",
    "    'Young people who were NEET_Economically inactive': 'age_16_to_24_neet_economically_inactive_sa',\n",
    "    'Total people in relevant population group': 'age_16_to_24_population',\n",
    "    'People who were NEET as a percentage of people in relevant population group': 'age_16_to_24_neet_total_rate_sa',\n",
    "}"
   ]
  },
  {
   "cell_type": "code",
   "execution_count": 6,
   "id": "46df0024",
   "metadata": {
    "execution": {
     "iopub.execute_input": "2024-08-02T12:12:26.332630Z",
     "iopub.status.busy": "2024-08-02T12:12:26.332491Z",
     "iopub.status.idle": "2024-08-02T12:12:26.335154Z",
     "shell.execute_reply": "2024-08-02T12:12:26.334835Z"
    },
    "papermill": {
     "duration": 0.004826,
     "end_time": "2024-08-02T12:12:26.335833",
     "exception": false,
     "start_time": "2024-08-02T12:12:26.331007",
     "status": "completed"
    },
    "tags": []
   },
   "outputs": [],
   "source": [
    "data = data[data.age == 'Aged 16-24']"
   ]
  },
  {
   "cell_type": "code",
   "execution_count": 7,
   "id": "126f8e60",
   "metadata": {
    "execution": {
     "iopub.execute_input": "2024-08-02T12:12:26.338598Z",
     "iopub.status.busy": "2024-08-02T12:12:26.338467Z",
     "iopub.status.idle": "2024-08-02T12:12:26.341159Z",
     "shell.execute_reply": "2024-08-02T12:12:26.340881Z"
    },
    "papermill": {
     "duration": 0.004783,
     "end_time": "2024-08-02T12:12:26.341774",
     "exception": false,
     "start_time": "2024-08-02T12:12:26.336991",
     "status": "completed"
    },
    "tags": []
   },
   "outputs": [],
   "source": [
    "data = data.replace({\n",
    "  'measure': variable_mapper\n",
    "})"
   ]
  },
  {
   "cell_type": "code",
   "execution_count": 8,
   "id": "286495b1",
   "metadata": {
    "execution": {
     "iopub.execute_input": "2024-08-02T12:12:26.344608Z",
     "iopub.status.busy": "2024-08-02T12:12:26.344476Z",
     "iopub.status.idle": "2024-08-02T12:12:26.350239Z",
     "shell.execute_reply": "2024-08-02T12:12:26.349913Z"
    },
    "papermill": {
     "duration": 0.007927,
     "end_time": "2024-08-02T12:12:26.350878",
     "exception": false,
     "start_time": "2024-08-02T12:12:26.342951",
     "status": "completed"
    },
    "tags": []
   },
   "outputs": [],
   "source": [
    "data['quarter_start'] = pd.Index(data.date.pipe(quarter_to_date))\n",
    "data['variable'] = data.sheet.str.split(' - ').apply(lambda x: x[0]).str.lower() + '_' + data.measure"
   ]
  },
  {
   "cell_type": "code",
   "execution_count": 9,
   "id": "bc7ebba0",
   "metadata": {
    "execution": {
     "iopub.execute_input": "2024-08-02T12:12:26.354100Z",
     "iopub.status.busy": "2024-08-02T12:12:26.353962Z",
     "iopub.status.idle": "2024-08-02T12:12:26.359064Z",
     "shell.execute_reply": "2024-08-02T12:12:26.358760Z"
    },
    "papermill": {
     "duration": 0.007642,
     "end_time": "2024-08-02T12:12:26.359738",
     "exception": false,
     "start_time": "2024-08-02T12:12:26.352096",
     "status": "completed"
    },
    "tags": []
   },
   "outputs": [],
   "source": [
    "data = data.pivot_table(index='quarter_start', columns='variable', values='value')"
   ]
  },
  {
   "cell_type": "code",
   "execution_count": 10,
   "id": "c3be235b",
   "metadata": {
    "execution": {
     "iopub.execute_input": "2024-08-02T12:12:26.363126Z",
     "iopub.status.busy": "2024-08-02T12:12:26.362973Z",
     "iopub.status.idle": "2024-08-02T12:12:26.366859Z",
     "shell.execute_reply": "2024-08-02T12:12:26.366580Z"
    },
    "papermill": {
     "duration": 0.006705,
     "end_time": "2024-08-02T12:12:26.367721",
     "exception": false,
     "start_time": "2024-08-02T12:12:26.361016",
     "status": "completed"
    },
    "tags": []
   },
   "outputs": [],
   "source": [
    "def calculate_rates(data, prefix):\n",
    "    data[prefix + '_age_16_to_24_neet_unemployed_rate_sa'] = data[prefix + '_age_16_to_24_neet_unemployed_sa'] / data[prefix + '_age_16_to_24_population'] * 100\n",
    "    data[prefix + '_age_16_to_24_neet_economically_inactive_rate_sa'] = data[prefix + '_age_16_to_24_neet_economically_inactive_sa'] / data[prefix + '_age_16_to_24_population'] * 100\n",
    "    return data\n",
    "  \n",
    "data = data.pipe(\n",
    "    calculate_rates, 'people'\n",
    ").pipe(\n",
    "    calculate_rates, 'men'\n",
    ").pipe(\n",
    "    calculate_rates, 'women'\n",
    ")\n"
   ]
  },
  {
   "cell_type": "code",
   "execution_count": 11,
   "id": "baa5c078",
   "metadata": {
    "execution": {
     "iopub.execute_input": "2024-08-02T12:12:26.372610Z",
     "iopub.status.busy": "2024-08-02T12:12:26.372467Z",
     "iopub.status.idle": "2024-08-02T12:12:26.376882Z",
     "shell.execute_reply": "2024-08-02T12:12:26.376599Z"
    },
    "papermill": {
     "duration": 0.007802,
     "end_time": "2024-08-02T12:12:26.377729",
     "exception": false,
     "start_time": "2024-08-02T12:12:26.369927",
     "status": "completed"
    },
    "tags": []
   },
   "outputs": [],
   "source": [
    "column_order = [\n",
    "  'people_age_16_to_24_neet_total_sa',\n",
    "  'people_age_16_to_24_neet_unemployed_sa',\n",
    "  'people_age_16_to_24_neet_economically_inactive_sa',\n",
    "  'people_age_16_to_24_population',\n",
    "  'people_age_16_to_24_neet_total_rate_sa',\n",
    "  'people_age_16_to_24_neet_unemployed_rate_sa',\n",
    "  'people_age_16_to_24_neet_economically_inactive_rate_sa',\n",
    "  'men_age_16_to_24_neet_total_sa',\n",
    "  'men_age_16_to_24_neet_unemployed_sa',\n",
    "  'men_age_16_to_24_neet_economically_inactive_sa',\n",
    "  'men_age_16_to_24_population',\n",
    "  'men_age_16_to_24_neet_total_rate_sa',\n",
    "  'men_age_16_to_24_neet_unemployed_rate_sa',\n",
    "  'men_age_16_to_24_neet_economically_inactive_rate_sa',\n",
    "  'women_age_16_to_24_neet_total_sa',\n",
    "  'women_age_16_to_24_neet_unemployed_sa',\n",
    "  'women_age_16_to_24_neet_economically_inactive_sa',\n",
    "  'women_age_16_to_24_population',\n",
    "  'women_age_16_to_24_neet_total_rate_sa',\n",
    "  'women_age_16_to_24_neet_unemployed_rate_sa',\n",
    "  'women_age_16_to_24_neet_economically_inactive_rate_sa'\n",
    "]\n",
    "\n",
    "data.loc[:, column_order].to_csv(NEET_16_24)"
   ]
  },
  {
   "cell_type": "code",
   "execution_count": 12,
   "id": "095dd622",
   "metadata": {
    "execution": {
     "iopub.execute_input": "2024-08-02T12:12:26.382510Z",
     "iopub.status.busy": "2024-08-02T12:12:26.382374Z",
     "iopub.status.idle": "2024-08-02T12:12:26.389414Z",
     "shell.execute_reply": "2024-08-02T12:12:26.389130Z"
    },
    "papermill": {
     "duration": 0.0104,
     "end_time": "2024-08-02T12:12:26.390293",
     "exception": false,
     "start_time": "2024-08-02T12:12:26.379893",
     "status": "completed"
    },
    "tags": []
   },
   "outputs": [
    {
     "data": {
      "text/plain": [
       "id                     object\n",
       "last_update    datetime64[ns]\n",
       "next_update            object\n",
       "dtype: object"
      ]
     },
     "execution_count": 12,
     "metadata": {},
     "output_type": "execute_result"
    }
   ],
   "source": [
    "metadata = pd.read_csv(ALL_METADATA, parse_dates=['last_update', 'next_update'])\n",
    "metadata.set_index(\n",
    "    'id'\n",
    ").rename(\n",
    "    columns={\n",
    "        'last_update': 'published'\n",
    "    }\n",
    ").loc['NEET'].to_json(NEET_METADATA, date_format='iso')\n",
    "\n",
    "metadata.dtypes\n"
   ]
  },
  {
   "cell_type": "code",
   "execution_count": null,
   "id": "94c62714",
   "metadata": {
    "papermill": {
     "duration": 0.00228,
     "end_time": "2024-08-02T12:12:26.394939",
     "exception": false,
     "start_time": "2024-08-02T12:12:26.392659",
     "status": "completed"
    },
    "tags": []
   },
   "outputs": [],
   "source": []
  },
  {
   "cell_type": "code",
   "execution_count": null,
   "id": "d87ea5a1",
   "metadata": {
    "papermill": {
     "duration": 0.002181,
     "end_time": "2024-08-02T12:12:26.399368",
     "exception": false,
     "start_time": "2024-08-02T12:12:26.397187",
     "status": "completed"
    },
    "tags": []
   },
   "outputs": [],
   "source": []
  }
 ],
 "metadata": {
  "kernelspec": {
   "display_name": "yff-data-ansOWYcy",
   "language": "python",
   "name": "python3"
  },
  "language_info": {
   "codemirror_mode": {
    "name": "ipython",
    "version": 3
   },
   "file_extension": ".py",
   "mimetype": "text/x-python",
   "name": "python",
   "nbconvert_exporter": "python",
   "pygments_lexer": "ipython3",
   "version": "3.10.12"
  },
  "papermill": {
   "default_parameters": {},
   "duration": 1.232806,
   "end_time": "2024-08-02T12:12:26.615218",
   "environment_variables": {},
   "exception": null,
   "input_path": "transform.ipynb",
   "output_path": "../../working/output/neet-transform.ipynb",
   "parameters": {},
   "start_time": "2024-08-02T12:12:25.382412",
   "version": "2.5.0"
  }
 },
 "nbformat": 4,
 "nbformat_minor": 5
}