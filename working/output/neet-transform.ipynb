{
 "cells": [
  {
   "cell_type": "code",
   "execution_count": 1,
   "id": "b253fbfa",
   "metadata": {
    "execution": {
     "iopub.execute_input": "2024-05-22T06:37:42.875914Z",
     "iopub.status.busy": "2024-05-22T06:37:42.875686Z",
     "iopub.status.idle": "2024-05-22T06:37:43.175479Z",
     "shell.execute_reply": "2024-05-22T06:37:43.174899Z"
    },
    "papermill": {
     "duration": 0.305889,
     "end_time": "2024-05-22T06:37:43.177237",
     "exception": false,
     "start_time": "2024-05-22T06:37:42.871348",
     "status": "completed"
    },
    "tags": []
   },
   "outputs": [],
   "source": [
    "import os\n",
    "import sys\n",
    "import pandas as pd\n",
    "\n",
    "LIB_DIR = '../../'\n",
    "if LIB_DIR not in sys.path:\n",
    "    sys.path.append(LIB_DIR)"
   ]
  },
  {
   "cell_type": "code",
   "execution_count": 2,
   "id": "3829433d",
   "metadata": {
    "execution": {
     "iopub.execute_input": "2024-05-22T06:37:43.182799Z",
     "iopub.status.busy": "2024-05-22T06:37:43.182361Z",
     "iopub.status.idle": "2024-05-22T06:37:43.186540Z",
     "shell.execute_reply": "2024-05-22T06:37:43.185922Z"
    },
    "papermill": {
     "duration": 0.008354,
     "end_time": "2024-05-22T06:37:43.187921",
     "exception": false,
     "start_time": "2024-05-22T06:37:43.179567",
     "status": "completed"
    },
    "tags": []
   },
   "outputs": [],
   "source": [
    "from scripts.util.date import quarter_to_date"
   ]
  },
  {
   "cell_type": "code",
   "execution_count": 3,
   "id": "e718fbf2",
   "metadata": {
    "execution": {
     "iopub.execute_input": "2024-05-22T06:37:43.192948Z",
     "iopub.status.busy": "2024-05-22T06:37:43.192459Z",
     "iopub.status.idle": "2024-05-22T06:37:43.195892Z",
     "shell.execute_reply": "2024-05-22T06:37:43.195282Z"
    },
    "papermill": {
     "duration": 0.007297,
     "end_time": "2024-05-22T06:37:43.197179",
     "exception": false,
     "start_time": "2024-05-22T06:37:43.189882",
     "status": "completed"
    },
    "tags": []
   },
   "outputs": [],
   "source": [
    "NEET_DATA = '../../working/upstream/neet.csv'\n",
    "ALL_METADATA = '../../working/upstream/metadata.csv'\n",
    "NEET_16_24 = '../../data/neet/neet.csv'\n",
    "NEET_METADATA = '../../data/neet/metadata.json'\n",
    "\n",
    "os.makedirs(os.path.dirname(NEET_16_24), exist_ok=True)"
   ]
  },
  {
   "cell_type": "code",
   "execution_count": 4,
   "id": "0e192b5d",
   "metadata": {
    "execution": {
     "iopub.execute_input": "2024-05-22T06:37:43.202118Z",
     "iopub.status.busy": "2024-05-22T06:37:43.201638Z",
     "iopub.status.idle": "2024-05-22T06:37:43.210171Z",
     "shell.execute_reply": "2024-05-22T06:37:43.209660Z"
    },
    "papermill": {
     "duration": 0.012311,
     "end_time": "2024-05-22T06:37:43.211409",
     "exception": false,
     "start_time": "2024-05-22T06:37:43.199098",
     "status": "completed"
    },
    "tags": []
   },
   "outputs": [],
   "source": [
    "data = pd.read_csv('../../working/upstream/neet.csv')"
   ]
  },
  {
   "cell_type": "code",
   "execution_count": 5,
   "id": "89f3ba51",
   "metadata": {
    "execution": {
     "iopub.execute_input": "2024-05-22T06:37:43.217893Z",
     "iopub.status.busy": "2024-05-22T06:37:43.217475Z",
     "iopub.status.idle": "2024-05-22T06:37:43.220593Z",
     "shell.execute_reply": "2024-05-22T06:37:43.220030Z"
    },
    "papermill": {
     "duration": 0.008475,
     "end_time": "2024-05-22T06:37:43.221897",
     "exception": false,
     "start_time": "2024-05-22T06:37:43.213422",
     "status": "completed"
    },
    "tags": []
   },
   "outputs": [],
   "source": [
    "variable_mapper = {\n",
    "    'Young people who were NEET_Total': 'age_16_to_24_neet_total_sa',\n",
    "    'Young people who were NEET_Unemployed': 'age_16_to_24_neet_unemployed_sa',\n",
    "    'Young people who were NEET_Economically inactive': 'age_16_to_24_neet_economically_inactive_sa',\n",
    "    'Total people in relevant population group': 'age_16_to_24_population',\n",
    "    'People who were NEET as a percentage of people in relevant population group': 'age_16_to_24_neet_total_rate_sa',\n",
    "}"
   ]
  },
  {
   "cell_type": "code",
   "execution_count": 6,
   "id": "5af9e775",
   "metadata": {
    "execution": {
     "iopub.execute_input": "2024-05-22T06:37:43.227071Z",
     "iopub.status.busy": "2024-05-22T06:37:43.226704Z",
     "iopub.status.idle": "2024-05-22T06:37:43.230636Z",
     "shell.execute_reply": "2024-05-22T06:37:43.230112Z"
    },
    "papermill": {
     "duration": 0.008051,
     "end_time": "2024-05-22T06:37:43.231949",
     "exception": false,
     "start_time": "2024-05-22T06:37:43.223898",
     "status": "completed"
    },
    "tags": []
   },
   "outputs": [],
   "source": [
    "data = data[data.age == 'Aged 16-24']"
   ]
  },
  {
   "cell_type": "code",
   "execution_count": 7,
   "id": "13cc5945",
   "metadata": {
    "execution": {
     "iopub.execute_input": "2024-05-22T06:37:43.237173Z",
     "iopub.status.busy": "2024-05-22T06:37:43.236636Z",
     "iopub.status.idle": "2024-05-22T06:37:43.240999Z",
     "shell.execute_reply": "2024-05-22T06:37:43.240460Z"
    },
    "papermill": {
     "duration": 0.008347,
     "end_time": "2024-05-22T06:37:43.242340",
     "exception": false,
     "start_time": "2024-05-22T06:37:43.233993",
     "status": "completed"
    },
    "tags": []
   },
   "outputs": [],
   "source": [
    "data = data.replace({\n",
    "  'measure': variable_mapper\n",
    "})"
   ]
  },
  {
   "cell_type": "code",
   "execution_count": 8,
   "id": "5b7f4a2f",
   "metadata": {
    "execution": {
     "iopub.execute_input": "2024-05-22T06:37:43.247635Z",
     "iopub.status.busy": "2024-05-22T06:37:43.247123Z",
     "iopub.status.idle": "2024-05-22T06:37:43.256173Z",
     "shell.execute_reply": "2024-05-22T06:37:43.255545Z"
    },
    "papermill": {
     "duration": 0.013167,
     "end_time": "2024-05-22T06:37:43.257560",
     "exception": false,
     "start_time": "2024-05-22T06:37:43.244393",
     "status": "completed"
    },
    "tags": []
   },
   "outputs": [],
   "source": [
    "data['quarter_start'] = pd.Index(data.date.pipe(quarter_to_date))\n",
    "data['variable'] = data.sheet.str.split(' - ').apply(lambda x: x[0]).str.lower() + '_' + data.measure"
   ]
  },
  {
   "cell_type": "code",
   "execution_count": 9,
   "id": "8faec5dd",
   "metadata": {
    "execution": {
     "iopub.execute_input": "2024-05-22T06:37:43.262741Z",
     "iopub.status.busy": "2024-05-22T06:37:43.262374Z",
     "iopub.status.idle": "2024-05-22T06:37:43.270428Z",
     "shell.execute_reply": "2024-05-22T06:37:43.269923Z"
    },
    "papermill": {
     "duration": 0.012065,
     "end_time": "2024-05-22T06:37:43.271744",
     "exception": false,
     "start_time": "2024-05-22T06:37:43.259679",
     "status": "completed"
    },
    "tags": []
   },
   "outputs": [],
   "source": [
    "data = data.pivot_table(index='quarter_start', columns='variable', values='value')"
   ]
  },
  {
   "cell_type": "code",
   "execution_count": 10,
   "id": "8f2a517d",
   "metadata": {
    "execution": {
     "iopub.execute_input": "2024-05-22T06:37:43.277022Z",
     "iopub.status.busy": "2024-05-22T06:37:43.276624Z",
     "iopub.status.idle": "2024-05-22T06:37:43.282947Z",
     "shell.execute_reply": "2024-05-22T06:37:43.282311Z"
    },
    "papermill": {
     "duration": 0.010389,
     "end_time": "2024-05-22T06:37:43.284295",
     "exception": false,
     "start_time": "2024-05-22T06:37:43.273906",
     "status": "completed"
    },
    "tags": []
   },
   "outputs": [],
   "source": [
    "def calculate_rates(data, prefix):\n",
    "    data[prefix + '_age_16_to_24_neet_unemployed_rate_sa'] = data[prefix + '_age_16_to_24_neet_unemployed_sa'] / data[prefix + '_age_16_to_24_population'] * 100\n",
    "    data[prefix + '_age_16_to_24_neet_economically_inactive_rate_sa'] = data[prefix + '_age_16_to_24_neet_economically_inactive_sa'] / data[prefix + '_age_16_to_24_population'] * 100\n",
    "    return data\n",
    "  \n",
    "data = data.pipe(\n",
    "    calculate_rates, 'people'\n",
    ").pipe(\n",
    "    calculate_rates, 'men'\n",
    ").pipe(\n",
    "    calculate_rates, 'women'\n",
    ")\n"
   ]
  },
  {
   "cell_type": "code",
   "execution_count": 11,
   "id": "bcc5ae50",
   "metadata": {
    "execution": {
     "iopub.execute_input": "2024-05-22T06:37:43.289951Z",
     "iopub.status.busy": "2024-05-22T06:37:43.289574Z",
     "iopub.status.idle": "2024-05-22T06:37:43.296398Z",
     "shell.execute_reply": "2024-05-22T06:37:43.295787Z"
    },
    "papermill": {
     "duration": 0.011198,
     "end_time": "2024-05-22T06:37:43.297770",
     "exception": false,
     "start_time": "2024-05-22T06:37:43.286572",
     "status": "completed"
    },
    "tags": []
   },
   "outputs": [],
   "source": [
    "column_order = [\n",
    "  'people_age_16_to_24_neet_total_sa',\n",
    "  'people_age_16_to_24_neet_unemployed_sa',\n",
    "  'people_age_16_to_24_neet_economically_inactive_sa',\n",
    "  'people_age_16_to_24_population',\n",
    "  'people_age_16_to_24_neet_total_rate_sa',\n",
    "  'people_age_16_to_24_neet_unemployed_rate_sa',\n",
    "  'people_age_16_to_24_neet_economically_inactive_rate_sa',\n",
    "  'men_age_16_to_24_neet_total_sa',\n",
    "  'men_age_16_to_24_neet_unemployed_sa',\n",
    "  'men_age_16_to_24_neet_economically_inactive_sa',\n",
    "  'men_age_16_to_24_population',\n",
    "  'men_age_16_to_24_neet_total_rate_sa',\n",
    "  'men_age_16_to_24_neet_unemployed_rate_sa',\n",
    "  'men_age_16_to_24_neet_economically_inactive_rate_sa',\n",
    "  'women_age_16_to_24_neet_total_sa',\n",
    "  'women_age_16_to_24_neet_unemployed_sa',\n",
    "  'women_age_16_to_24_neet_economically_inactive_sa',\n",
    "  'women_age_16_to_24_population',\n",
    "  'women_age_16_to_24_neet_total_rate_sa',\n",
    "  'women_age_16_to_24_neet_unemployed_rate_sa',\n",
    "  'women_age_16_to_24_neet_economically_inactive_rate_sa'\n",
    "]\n",
    "\n",
    "data.loc[:, column_order].to_csv(NEET_16_24)"
   ]
  },
  {
   "cell_type": "code",
   "execution_count": 12,
   "id": "42e7289a",
   "metadata": {
    "execution": {
     "iopub.execute_input": "2024-05-22T06:37:43.303102Z",
     "iopub.status.busy": "2024-05-22T06:37:43.302756Z",
     "iopub.status.idle": "2024-05-22T06:37:43.314828Z",
     "shell.execute_reply": "2024-05-22T06:37:43.314286Z"
    },
    "papermill": {
     "duration": 0.016079,
     "end_time": "2024-05-22T06:37:43.316099",
     "exception": false,
     "start_time": "2024-05-22T06:37:43.300020",
     "status": "completed"
    },
    "tags": []
   },
   "outputs": [
    {
     "data": {
      "text/plain": [
       "id                     object\n",
       "last_update    datetime64[ns]\n",
       "next_update            object\n",
       "dtype: object"
      ]
     },
     "execution_count": 12,
     "metadata": {},
     "output_type": "execute_result"
    }
   ],
   "source": [
    "metadata = pd.read_csv(ALL_METADATA, parse_dates=['last_update', 'next_update'])\n",
    "metadata.set_index(\n",
    "    'id'\n",
    ").rename(\n",
    "    columns={\n",
    "        'last_update': 'published'\n",
    "    }\n",
    ").loc['NEET'].to_json(NEET_METADATA, date_format='iso')\n",
    "\n",
    "metadata.dtypes\n"
   ]
  },
  {
   "cell_type": "code",
   "execution_count": null,
   "id": "e98d831a",
   "metadata": {
    "papermill": {
     "duration": 0.002281,
     "end_time": "2024-05-22T06:37:43.320749",
     "exception": false,
     "start_time": "2024-05-22T06:37:43.318468",
     "status": "completed"
    },
    "tags": []
   },
   "outputs": [],
   "source": []
  },
  {
   "cell_type": "code",
   "execution_count": null,
   "id": "bf511103",
   "metadata": {
    "papermill": {
     "duration": 0.002215,
     "end_time": "2024-05-22T06:37:43.325206",
     "exception": false,
     "start_time": "2024-05-22T06:37:43.322991",
     "status": "completed"
    },
    "tags": []
   },
   "outputs": [],
   "source": []
  }
 ],
 "metadata": {
  "kernelspec": {
   "display_name": "yff-data-ansOWYcy",
   "language": "python",
   "name": "python3"
  },
  "language_info": {
   "codemirror_mode": {
    "name": "ipython",
    "version": 3
   },
   "file_extension": ".py",
   "mimetype": "text/x-python",
   "name": "python",
   "nbconvert_exporter": "python",
   "pygments_lexer": "ipython3",
   "version": "3.10.14"
  },
  "papermill": {
   "default_parameters": {},
   "duration": 1.84412,
   "end_time": "2024-05-22T06:37:43.544035",
   "environment_variables": {},
   "exception": null,
   "input_path": "transform.ipynb",
   "output_path": "../../working/output/neet-transform.ipynb",
   "parameters": {},
   "start_time": "2024-05-22T06:37:41.699915",
   "version": "2.5.0"
  }
 },
 "nbformat": 4,
 "nbformat_minor": 5
}