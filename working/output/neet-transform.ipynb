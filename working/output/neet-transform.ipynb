{
 "cells": [
  {
   "cell_type": "code",
   "execution_count": 1,
   "id": "afb7218c",
   "metadata": {
    "execution": {
     "iopub.execute_input": "2024-03-20T07:58:31.815382Z",
     "iopub.status.busy": "2024-03-20T07:58:31.815119Z",
     "iopub.status.idle": "2024-03-20T07:58:32.115585Z",
     "shell.execute_reply": "2024-03-20T07:58:32.115005Z"
    },
    "papermill": {
     "duration": 0.305893,
     "end_time": "2024-03-20T07:58:32.117273",
     "exception": false,
     "start_time": "2024-03-20T07:58:31.811380",
     "status": "completed"
    },
    "tags": []
   },
   "outputs": [],
   "source": [
    "import os\n",
    "import sys\n",
    "import pandas as pd\n",
    "\n",
    "LIB_DIR = '../../'\n",
    "if LIB_DIR not in sys.path:\n",
    "    sys.path.append(LIB_DIR)"
   ]
  },
  {
   "cell_type": "code",
   "execution_count": 2,
   "id": "7e9e1a83",
   "metadata": {
    "execution": {
     "iopub.execute_input": "2024-03-20T07:58:32.122824Z",
     "iopub.status.busy": "2024-03-20T07:58:32.122283Z",
     "iopub.status.idle": "2024-03-20T07:58:32.126473Z",
     "shell.execute_reply": "2024-03-20T07:58:32.125965Z"
    },
    "papermill": {
     "duration": 0.008116,
     "end_time": "2024-03-20T07:58:32.127701",
     "exception": false,
     "start_time": "2024-03-20T07:58:32.119585",
     "status": "completed"
    },
    "tags": []
   },
   "outputs": [],
   "source": [
    "from scripts.util.date import quarter_to_date"
   ]
  },
  {
   "cell_type": "code",
   "execution_count": 3,
   "id": "03c77af8",
   "metadata": {
    "execution": {
     "iopub.execute_input": "2024-03-20T07:58:32.132636Z",
     "iopub.status.busy": "2024-03-20T07:58:32.132246Z",
     "iopub.status.idle": "2024-03-20T07:58:32.135700Z",
     "shell.execute_reply": "2024-03-20T07:58:32.135097Z"
    },
    "papermill": {
     "duration": 0.007357,
     "end_time": "2024-03-20T07:58:32.136998",
     "exception": false,
     "start_time": "2024-03-20T07:58:32.129641",
     "status": "completed"
    },
    "tags": []
   },
   "outputs": [],
   "source": [
    "NEET_DATA = '../../working/upstream/neet.csv'\n",
    "ALL_METADATA = '../../working/upstream/metadata.csv'\n",
    "NEET_16_24 = '../../data/neet/neet.csv'\n",
    "NEET_METADATA = '../../data/neet/metadata.json'\n",
    "\n",
    "os.makedirs(os.path.dirname(NEET_16_24), exist_ok=True)"
   ]
  },
  {
   "cell_type": "code",
   "execution_count": 4,
   "id": "0a4d5449",
   "metadata": {
    "execution": {
     "iopub.execute_input": "2024-03-20T07:58:32.142126Z",
     "iopub.status.busy": "2024-03-20T07:58:32.141634Z",
     "iopub.status.idle": "2024-03-20T07:58:32.150077Z",
     "shell.execute_reply": "2024-03-20T07:58:32.149456Z"
    },
    "papermill": {
     "duration": 0.01253,
     "end_time": "2024-03-20T07:58:32.151474",
     "exception": false,
     "start_time": "2024-03-20T07:58:32.138944",
     "status": "completed"
    },
    "tags": []
   },
   "outputs": [],
   "source": [
    "data = pd.read_csv('../../working/upstream/neet.csv')"
   ]
  },
  {
   "cell_type": "code",
   "execution_count": 5,
   "id": "fb92e32a",
   "metadata": {
    "execution": {
     "iopub.execute_input": "2024-03-20T07:58:32.156406Z",
     "iopub.status.busy": "2024-03-20T07:58:32.156069Z",
     "iopub.status.idle": "2024-03-20T07:58:32.159271Z",
     "shell.execute_reply": "2024-03-20T07:58:32.158724Z"
    },
    "papermill": {
     "duration": 0.007085,
     "end_time": "2024-03-20T07:58:32.160589",
     "exception": false,
     "start_time": "2024-03-20T07:58:32.153504",
     "status": "completed"
    },
    "tags": []
   },
   "outputs": [],
   "source": [
    "variable_mapper = {\n",
    "    'Young people who were NEET_Total': 'age_16_to_24_neet_total_sa',\n",
    "    'Young people who were NEET_Unemployed': 'age_16_to_24_neet_unemployed_sa',\n",
    "    'Young people who were NEET_Economically inactive': 'age_16_to_24_neet_economically_inactive_sa',\n",
    "    'Total people in relevant population group': 'age_16_to_24_population',\n",
    "    'People who were NEET as a percentage of people in relevant population group': 'age_16_to_24_neet_total_rate_sa',\n",
    "}"
   ]
  },
  {
   "cell_type": "code",
   "execution_count": 6,
   "id": "0c7f94e6",
   "metadata": {
    "execution": {
     "iopub.execute_input": "2024-03-20T07:58:32.165880Z",
     "iopub.status.busy": "2024-03-20T07:58:32.165308Z",
     "iopub.status.idle": "2024-03-20T07:58:32.169589Z",
     "shell.execute_reply": "2024-03-20T07:58:32.168948Z"
    },
    "papermill": {
     "duration": 0.008283,
     "end_time": "2024-03-20T07:58:32.170884",
     "exception": false,
     "start_time": "2024-03-20T07:58:32.162601",
     "status": "completed"
    },
    "tags": []
   },
   "outputs": [],
   "source": [
    "data = data[data.age == 'Aged 16-24']"
   ]
  },
  {
   "cell_type": "code",
   "execution_count": 7,
   "id": "791bbe06",
   "metadata": {
    "execution": {
     "iopub.execute_input": "2024-03-20T07:58:32.175963Z",
     "iopub.status.busy": "2024-03-20T07:58:32.175612Z",
     "iopub.status.idle": "2024-03-20T07:58:32.180243Z",
     "shell.execute_reply": "2024-03-20T07:58:32.179612Z"
    },
    "papermill": {
     "duration": 0.008595,
     "end_time": "2024-03-20T07:58:32.181529",
     "exception": false,
     "start_time": "2024-03-20T07:58:32.172934",
     "status": "completed"
    },
    "tags": []
   },
   "outputs": [],
   "source": [
    "data = data.replace({\n",
    "  'measure': variable_mapper\n",
    "})"
   ]
  },
  {
   "cell_type": "code",
   "execution_count": 8,
   "id": "326def2c",
   "metadata": {
    "execution": {
     "iopub.execute_input": "2024-03-20T07:58:32.186785Z",
     "iopub.status.busy": "2024-03-20T07:58:32.186337Z",
     "iopub.status.idle": "2024-03-20T07:58:32.195629Z",
     "shell.execute_reply": "2024-03-20T07:58:32.195043Z"
    },
    "papermill": {
     "duration": 0.013364,
     "end_time": "2024-03-20T07:58:32.196951",
     "exception": false,
     "start_time": "2024-03-20T07:58:32.183587",
     "status": "completed"
    },
    "tags": []
   },
   "outputs": [],
   "source": [
    "data['quarter_start'] = pd.Index(data.date.pipe(quarter_to_date))\n",
    "data['variable'] = data.sheet.str.split(' - ').apply(lambda x: x[0]).str.lower() + '_' + data.measure"
   ]
  },
  {
   "cell_type": "code",
   "execution_count": 9,
   "id": "fd2cb77f",
   "metadata": {
    "execution": {
     "iopub.execute_input": "2024-03-20T07:58:32.202239Z",
     "iopub.status.busy": "2024-03-20T07:58:32.201882Z",
     "iopub.status.idle": "2024-03-20T07:58:32.210016Z",
     "shell.execute_reply": "2024-03-20T07:58:32.209493Z"
    },
    "papermill": {
     "duration": 0.012249,
     "end_time": "2024-03-20T07:58:32.211359",
     "exception": false,
     "start_time": "2024-03-20T07:58:32.199110",
     "status": "completed"
    },
    "tags": []
   },
   "outputs": [],
   "source": [
    "data = data.pivot_table(index='quarter_start', columns='variable', values='value')"
   ]
  },
  {
   "cell_type": "code",
   "execution_count": 10,
   "id": "896ac4db",
   "metadata": {
    "execution": {
     "iopub.execute_input": "2024-03-20T07:58:32.216713Z",
     "iopub.status.busy": "2024-03-20T07:58:32.216361Z",
     "iopub.status.idle": "2024-03-20T07:58:32.223067Z",
     "shell.execute_reply": "2024-03-20T07:58:32.222520Z"
    },
    "papermill": {
     "duration": 0.010787,
     "end_time": "2024-03-20T07:58:32.224337",
     "exception": false,
     "start_time": "2024-03-20T07:58:32.213550",
     "status": "completed"
    },
    "tags": []
   },
   "outputs": [],
   "source": [
    "def calculate_rates(data, prefix):\n",
    "    data[prefix + '_age_16_to_24_neet_unemployed_rate_sa'] = data[prefix + '_age_16_to_24_neet_unemployed_sa'] / data[prefix + '_age_16_to_24_population'] * 100\n",
    "    data[prefix + '_age_16_to_24_neet_economically_inactive_rate_sa'] = data[prefix + '_age_16_to_24_neet_economically_inactive_sa'] / data[prefix + '_age_16_to_24_population'] * 100\n",
    "    return data\n",
    "  \n",
    "data = data.pipe(\n",
    "    calculate_rates, 'people'\n",
    ").pipe(\n",
    "    calculate_rates, 'men'\n",
    ").pipe(\n",
    "    calculate_rates, 'women'\n",
    ")\n"
   ]
  },
  {
   "cell_type": "code",
   "execution_count": 11,
   "id": "a3ae1b32",
   "metadata": {
    "execution": {
     "iopub.execute_input": "2024-03-20T07:58:32.229962Z",
     "iopub.status.busy": "2024-03-20T07:58:32.229607Z",
     "iopub.status.idle": "2024-03-20T07:58:32.236728Z",
     "shell.execute_reply": "2024-03-20T07:58:32.236099Z"
    },
    "papermill": {
     "duration": 0.011534,
     "end_time": "2024-03-20T07:58:32.238137",
     "exception": false,
     "start_time": "2024-03-20T07:58:32.226603",
     "status": "completed"
    },
    "tags": []
   },
   "outputs": [],
   "source": [
    "column_order = [\n",
    "  'people_age_16_to_24_neet_total_sa',\n",
    "  'people_age_16_to_24_neet_unemployed_sa',\n",
    "  'people_age_16_to_24_neet_economically_inactive_sa',\n",
    "  'people_age_16_to_24_population',\n",
    "  'people_age_16_to_24_neet_total_rate_sa',\n",
    "  'people_age_16_to_24_neet_unemployed_rate_sa',\n",
    "  'people_age_16_to_24_neet_economically_inactive_rate_sa',\n",
    "  'men_age_16_to_24_neet_total_sa',\n",
    "  'men_age_16_to_24_neet_unemployed_sa',\n",
    "  'men_age_16_to_24_neet_economically_inactive_sa',\n",
    "  'men_age_16_to_24_population',\n",
    "  'men_age_16_to_24_neet_total_rate_sa',\n",
    "  'men_age_16_to_24_neet_unemployed_rate_sa',\n",
    "  'men_age_16_to_24_neet_economically_inactive_rate_sa',\n",
    "  'women_age_16_to_24_neet_total_sa',\n",
    "  'women_age_16_to_24_neet_unemployed_sa',\n",
    "  'women_age_16_to_24_neet_economically_inactive_sa',\n",
    "  'women_age_16_to_24_population',\n",
    "  'women_age_16_to_24_neet_total_rate_sa',\n",
    "  'women_age_16_to_24_neet_unemployed_rate_sa',\n",
    "  'women_age_16_to_24_neet_economically_inactive_rate_sa'\n",
    "]\n",
    "\n",
    "data.loc[:, column_order].to_csv(NEET_16_24)"
   ]
  },
  {
   "cell_type": "code",
   "execution_count": 12,
   "id": "7a3179b0",
   "metadata": {
    "execution": {
     "iopub.execute_input": "2024-03-20T07:58:32.243605Z",
     "iopub.status.busy": "2024-03-20T07:58:32.243144Z",
     "iopub.status.idle": "2024-03-20T07:58:32.255078Z",
     "shell.execute_reply": "2024-03-20T07:58:32.254463Z"
    },
    "papermill": {
     "duration": 0.016069,
     "end_time": "2024-03-20T07:58:32.256375",
     "exception": false,
     "start_time": "2024-03-20T07:58:32.240306",
     "status": "completed"
    },
    "tags": []
   },
   "outputs": [
    {
     "data": {
      "text/plain": [
       "id                     object\n",
       "last_update    datetime64[ns]\n",
       "next_update            object\n",
       "dtype: object"
      ]
     },
     "execution_count": 12,
     "metadata": {},
     "output_type": "execute_result"
    }
   ],
   "source": [
    "metadata = pd.read_csv(ALL_METADATA, parse_dates=['last_update', 'next_update'])\n",
    "metadata.set_index(\n",
    "    'id'\n",
    ").rename(\n",
    "    columns={\n",
    "        'last_update': 'published'\n",
    "    }\n",
    ").loc['NEET'].to_json(NEET_METADATA, date_format='iso')\n",
    "\n",
    "metadata.dtypes\n"
   ]
  },
  {
   "cell_type": "code",
   "execution_count": null,
   "id": "055cc48a",
   "metadata": {
    "papermill": {
     "duration": 0.002301,
     "end_time": "2024-03-20T07:58:32.261065",
     "exception": false,
     "start_time": "2024-03-20T07:58:32.258764",
     "status": "completed"
    },
    "tags": []
   },
   "outputs": [],
   "source": []
  },
  {
   "cell_type": "code",
   "execution_count": null,
   "id": "bd5a120e",
   "metadata": {
    "papermill": {
     "duration": 0.002255,
     "end_time": "2024-03-20T07:58:32.265638",
     "exception": false,
     "start_time": "2024-03-20T07:58:32.263383",
     "status": "completed"
    },
    "tags": []
   },
   "outputs": [],
   "source": []
  }
 ],
 "metadata": {
  "kernelspec": {
   "display_name": "yff-data-ansOWYcy",
   "language": "python",
   "name": "python3"
  },
  "language_info": {
   "codemirror_mode": {
    "name": "ipython",
    "version": 3
   },
   "file_extension": ".py",
   "mimetype": "text/x-python",
   "name": "python",
   "nbconvert_exporter": "python",
   "pygments_lexer": "ipython3",
   "version": "3.10.13"
  },
  "papermill": {
   "default_parameters": {},
   "duration": 1.848566,
   "end_time": "2024-03-20T07:58:32.483370",
   "environment_variables": {},
   "exception": null,
   "input_path": "transform.ipynb",
   "output_path": "../../working/output/neet-transform.ipynb",
   "parameters": {},
   "start_time": "2024-03-20T07:58:30.634804",
   "version": "2.5.0"
  }
 },
 "nbformat": 4,
 "nbformat_minor": 5
}