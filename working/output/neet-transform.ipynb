{
 "cells": [
  {
   "cell_type": "code",
   "execution_count": 1,
   "id": "5cab9005",
   "metadata": {
    "execution": {
     "iopub.execute_input": "2024-04-15T07:45:42.687977Z",
     "iopub.status.busy": "2024-04-15T07:45:42.687358Z",
     "iopub.status.idle": "2024-04-15T07:45:42.996878Z",
     "shell.execute_reply": "2024-04-15T07:45:42.996299Z"
    },
    "papermill": {
     "duration": 0.315667,
     "end_time": "2024-04-15T07:45:42.998431",
     "exception": false,
     "start_time": "2024-04-15T07:45:42.682764",
     "status": "completed"
    },
    "tags": []
   },
   "outputs": [],
   "source": [
    "import os\n",
    "import sys\n",
    "import pandas as pd\n",
    "\n",
    "LIB_DIR = '../../'\n",
    "if LIB_DIR not in sys.path:\n",
    "    sys.path.append(LIB_DIR)"
   ]
  },
  {
   "cell_type": "code",
   "execution_count": 2,
   "id": "10b43af5",
   "metadata": {
    "execution": {
     "iopub.execute_input": "2024-04-15T07:45:43.004103Z",
     "iopub.status.busy": "2024-04-15T07:45:43.003482Z",
     "iopub.status.idle": "2024-04-15T07:45:43.007857Z",
     "shell.execute_reply": "2024-04-15T07:45:43.007241Z"
    },
    "papermill": {
     "duration": 0.008448,
     "end_time": "2024-04-15T07:45:43.009180",
     "exception": false,
     "start_time": "2024-04-15T07:45:43.000732",
     "status": "completed"
    },
    "tags": []
   },
   "outputs": [],
   "source": [
    "from scripts.util.date import quarter_to_date"
   ]
  },
  {
   "cell_type": "code",
   "execution_count": 3,
   "id": "85312348",
   "metadata": {
    "execution": {
     "iopub.execute_input": "2024-04-15T07:45:43.016115Z",
     "iopub.status.busy": "2024-04-15T07:45:43.015620Z",
     "iopub.status.idle": "2024-04-15T07:45:43.019549Z",
     "shell.execute_reply": "2024-04-15T07:45:43.018813Z"
    },
    "papermill": {
     "duration": 0.009779,
     "end_time": "2024-04-15T07:45:43.020969",
     "exception": false,
     "start_time": "2024-04-15T07:45:43.011190",
     "status": "completed"
    },
    "tags": []
   },
   "outputs": [],
   "source": [
    "NEET_DATA = '../../working/upstream/neet.csv'\n",
    "ALL_METADATA = '../../working/upstream/metadata.csv'\n",
    "NEET_16_24 = '../../data/neet/neet.csv'\n",
    "NEET_METADATA = '../../data/neet/metadata.json'\n",
    "\n",
    "os.makedirs(os.path.dirname(NEET_16_24), exist_ok=True)"
   ]
  },
  {
   "cell_type": "code",
   "execution_count": 4,
   "id": "b9ffae1a",
   "metadata": {
    "execution": {
     "iopub.execute_input": "2024-04-15T07:45:43.027431Z",
     "iopub.status.busy": "2024-04-15T07:45:43.026999Z",
     "iopub.status.idle": "2024-04-15T07:45:43.039254Z",
     "shell.execute_reply": "2024-04-15T07:45:43.038593Z"
    },
    "papermill": {
     "duration": 0.0183,
     "end_time": "2024-04-15T07:45:43.041271",
     "exception": false,
     "start_time": "2024-04-15T07:45:43.022971",
     "status": "completed"
    },
    "tags": []
   },
   "outputs": [],
   "source": [
    "data = pd.read_csv('../../working/upstream/neet.csv')"
   ]
  },
  {
   "cell_type": "code",
   "execution_count": 5,
   "id": "ff5769a7",
   "metadata": {
    "execution": {
     "iopub.execute_input": "2024-04-15T07:45:43.047858Z",
     "iopub.status.busy": "2024-04-15T07:45:43.047462Z",
     "iopub.status.idle": "2024-04-15T07:45:43.050855Z",
     "shell.execute_reply": "2024-04-15T07:45:43.050306Z"
    },
    "papermill": {
     "duration": 0.008148,
     "end_time": "2024-04-15T07:45:43.052233",
     "exception": false,
     "start_time": "2024-04-15T07:45:43.044085",
     "status": "completed"
    },
    "tags": []
   },
   "outputs": [],
   "source": [
    "variable_mapper = {\n",
    "    'Young people who were NEET_Total': 'age_16_to_24_neet_total_sa',\n",
    "    'Young people who were NEET_Unemployed': 'age_16_to_24_neet_unemployed_sa',\n",
    "    'Young people who were NEET_Economically inactive': 'age_16_to_24_neet_economically_inactive_sa',\n",
    "    'Total people in relevant population group': 'age_16_to_24_population',\n",
    "    'People who were NEET as a percentage of people in relevant population group': 'age_16_to_24_neet_total_rate_sa',\n",
    "}"
   ]
  },
  {
   "cell_type": "code",
   "execution_count": 6,
   "id": "faf6394f",
   "metadata": {
    "execution": {
     "iopub.execute_input": "2024-04-15T07:45:43.057184Z",
     "iopub.status.busy": "2024-04-15T07:45:43.056881Z",
     "iopub.status.idle": "2024-04-15T07:45:43.060919Z",
     "shell.execute_reply": "2024-04-15T07:45:43.060410Z"
    },
    "papermill": {
     "duration": 0.007942,
     "end_time": "2024-04-15T07:45:43.062182",
     "exception": false,
     "start_time": "2024-04-15T07:45:43.054240",
     "status": "completed"
    },
    "tags": []
   },
   "outputs": [],
   "source": [
    "data = data[data.age == 'Aged 16-24']"
   ]
  },
  {
   "cell_type": "code",
   "execution_count": 7,
   "id": "c6c2bb2f",
   "metadata": {
    "execution": {
     "iopub.execute_input": "2024-04-15T07:45:43.067311Z",
     "iopub.status.busy": "2024-04-15T07:45:43.066885Z",
     "iopub.status.idle": "2024-04-15T07:45:43.071053Z",
     "shell.execute_reply": "2024-04-15T07:45:43.070472Z"
    },
    "papermill": {
     "duration": 0.008042,
     "end_time": "2024-04-15T07:45:43.072272",
     "exception": false,
     "start_time": "2024-04-15T07:45:43.064230",
     "status": "completed"
    },
    "tags": []
   },
   "outputs": [],
   "source": [
    "data = data.replace({\n",
    "  'measure': variable_mapper\n",
    "})"
   ]
  },
  {
   "cell_type": "code",
   "execution_count": 8,
   "id": "b5106a6d",
   "metadata": {
    "execution": {
     "iopub.execute_input": "2024-04-15T07:45:43.077330Z",
     "iopub.status.busy": "2024-04-15T07:45:43.076955Z",
     "iopub.status.idle": "2024-04-15T07:45:43.085871Z",
     "shell.execute_reply": "2024-04-15T07:45:43.085347Z"
    },
    "papermill": {
     "duration": 0.012935,
     "end_time": "2024-04-15T07:45:43.087225",
     "exception": false,
     "start_time": "2024-04-15T07:45:43.074290",
     "status": "completed"
    },
    "tags": []
   },
   "outputs": [],
   "source": [
    "data['quarter_start'] = pd.Index(data.date.pipe(quarter_to_date))\n",
    "data['variable'] = data.sheet.str.split(' - ').apply(lambda x: x[0]).str.lower() + '_' + data.measure"
   ]
  },
  {
   "cell_type": "code",
   "execution_count": 9,
   "id": "3f760234",
   "metadata": {
    "execution": {
     "iopub.execute_input": "2024-04-15T07:45:43.092474Z",
     "iopub.status.busy": "2024-04-15T07:45:43.092108Z",
     "iopub.status.idle": "2024-04-15T07:45:43.099761Z",
     "shell.execute_reply": "2024-04-15T07:45:43.099252Z"
    },
    "papermill": {
     "duration": 0.011721,
     "end_time": "2024-04-15T07:45:43.101090",
     "exception": false,
     "start_time": "2024-04-15T07:45:43.089369",
     "status": "completed"
    },
    "tags": []
   },
   "outputs": [],
   "source": [
    "data = data.pivot_table(index='quarter_start', columns='variable', values='value')"
   ]
  },
  {
   "cell_type": "code",
   "execution_count": 10,
   "id": "412c4e46",
   "metadata": {
    "execution": {
     "iopub.execute_input": "2024-04-15T07:45:43.106653Z",
     "iopub.status.busy": "2024-04-15T07:45:43.106264Z",
     "iopub.status.idle": "2024-04-15T07:45:43.112550Z",
     "shell.execute_reply": "2024-04-15T07:45:43.111991Z"
    },
    "papermill": {
     "duration": 0.010399,
     "end_time": "2024-04-15T07:45:43.113753",
     "exception": false,
     "start_time": "2024-04-15T07:45:43.103354",
     "status": "completed"
    },
    "tags": []
   },
   "outputs": [],
   "source": [
    "def calculate_rates(data, prefix):\n",
    "    data[prefix + '_age_16_to_24_neet_unemployed_rate_sa'] = data[prefix + '_age_16_to_24_neet_unemployed_sa'] / data[prefix + '_age_16_to_24_population'] * 100\n",
    "    data[prefix + '_age_16_to_24_neet_economically_inactive_rate_sa'] = data[prefix + '_age_16_to_24_neet_economically_inactive_sa'] / data[prefix + '_age_16_to_24_population'] * 100\n",
    "    return data\n",
    "  \n",
    "data = data.pipe(\n",
    "    calculate_rates, 'people'\n",
    ").pipe(\n",
    "    calculate_rates, 'men'\n",
    ").pipe(\n",
    "    calculate_rates, 'women'\n",
    ")\n"
   ]
  },
  {
   "cell_type": "code",
   "execution_count": 11,
   "id": "ef8b164e",
   "metadata": {
    "execution": {
     "iopub.execute_input": "2024-04-15T07:45:43.119176Z",
     "iopub.status.busy": "2024-04-15T07:45:43.118734Z",
     "iopub.status.idle": "2024-04-15T07:45:43.125418Z",
     "shell.execute_reply": "2024-04-15T07:45:43.124921Z"
    },
    "papermill": {
     "duration": 0.010751,
     "end_time": "2024-04-15T07:45:43.126668",
     "exception": false,
     "start_time": "2024-04-15T07:45:43.115917",
     "status": "completed"
    },
    "tags": []
   },
   "outputs": [],
   "source": [
    "column_order = [\n",
    "  'people_age_16_to_24_neet_total_sa',\n",
    "  'people_age_16_to_24_neet_unemployed_sa',\n",
    "  'people_age_16_to_24_neet_economically_inactive_sa',\n",
    "  'people_age_16_to_24_population',\n",
    "  'people_age_16_to_24_neet_total_rate_sa',\n",
    "  'people_age_16_to_24_neet_unemployed_rate_sa',\n",
    "  'people_age_16_to_24_neet_economically_inactive_rate_sa',\n",
    "  'men_age_16_to_24_neet_total_sa',\n",
    "  'men_age_16_to_24_neet_unemployed_sa',\n",
    "  'men_age_16_to_24_neet_economically_inactive_sa',\n",
    "  'men_age_16_to_24_population',\n",
    "  'men_age_16_to_24_neet_total_rate_sa',\n",
    "  'men_age_16_to_24_neet_unemployed_rate_sa',\n",
    "  'men_age_16_to_24_neet_economically_inactive_rate_sa',\n",
    "  'women_age_16_to_24_neet_total_sa',\n",
    "  'women_age_16_to_24_neet_unemployed_sa',\n",
    "  'women_age_16_to_24_neet_economically_inactive_sa',\n",
    "  'women_age_16_to_24_population',\n",
    "  'women_age_16_to_24_neet_total_rate_sa',\n",
    "  'women_age_16_to_24_neet_unemployed_rate_sa',\n",
    "  'women_age_16_to_24_neet_economically_inactive_rate_sa'\n",
    "]\n",
    "\n",
    "data.loc[:, column_order].to_csv(NEET_16_24)"
   ]
  },
  {
   "cell_type": "code",
   "execution_count": 12,
   "id": "94db384f",
   "metadata": {
    "execution": {
     "iopub.execute_input": "2024-04-15T07:45:43.132050Z",
     "iopub.status.busy": "2024-04-15T07:45:43.131634Z",
     "iopub.status.idle": "2024-04-15T07:45:43.143602Z",
     "shell.execute_reply": "2024-04-15T07:45:43.143008Z"
    },
    "papermill": {
     "duration": 0.016071,
     "end_time": "2024-04-15T07:45:43.144943",
     "exception": false,
     "start_time": "2024-04-15T07:45:43.128872",
     "status": "completed"
    },
    "tags": []
   },
   "outputs": [
    {
     "data": {
      "text/plain": [
       "id                     object\n",
       "last_update    datetime64[ns]\n",
       "next_update            object\n",
       "dtype: object"
      ]
     },
     "execution_count": 12,
     "metadata": {},
     "output_type": "execute_result"
    }
   ],
   "source": [
    "metadata = pd.read_csv(ALL_METADATA, parse_dates=['last_update', 'next_update'])\n",
    "metadata.set_index(\n",
    "    'id'\n",
    ").rename(\n",
    "    columns={\n",
    "        'last_update': 'published'\n",
    "    }\n",
    ").loc['NEET'].to_json(NEET_METADATA, date_format='iso')\n",
    "\n",
    "metadata.dtypes\n"
   ]
  },
  {
   "cell_type": "code",
   "execution_count": null,
   "id": "9899e786",
   "metadata": {
    "papermill": {
     "duration": 0.002264,
     "end_time": "2024-04-15T07:45:43.149618",
     "exception": false,
     "start_time": "2024-04-15T07:45:43.147354",
     "status": "completed"
    },
    "tags": []
   },
   "outputs": [],
   "source": []
  },
  {
   "cell_type": "code",
   "execution_count": null,
   "id": "4eb2a49d",
   "metadata": {
    "papermill": {
     "duration": 0.002202,
     "end_time": "2024-04-15T07:45:43.154115",
     "exception": false,
     "start_time": "2024-04-15T07:45:43.151913",
     "status": "completed"
    },
    "tags": []
   },
   "outputs": [],
   "source": []
  }
 ],
 "metadata": {
  "kernelspec": {
   "display_name": "yff-data-ansOWYcy",
   "language": "python",
   "name": "python3"
  },
  "language_info": {
   "codemirror_mode": {
    "name": "ipython",
    "version": 3
   },
   "file_extension": ".py",
   "mimetype": "text/x-python",
   "name": "python",
   "nbconvert_exporter": "python",
   "pygments_lexer": "ipython3",
   "version": "3.10.14"
  },
  "papermill": {
   "default_parameters": {},
   "duration": 1.855619,
   "end_time": "2024-04-15T07:45:43.372146",
   "environment_variables": {},
   "exception": null,
   "input_path": "transform.ipynb",
   "output_path": "../../working/output/neet-transform.ipynb",
   "parameters": {},
   "start_time": "2024-04-15T07:45:41.516527",
   "version": "2.5.0"
  }
 },
 "nbformat": 4,
 "nbformat_minor": 5
}