{
 "cells": [
  {
   "cell_type": "code",
   "execution_count": 1,
   "id": "fb77a210",
   "metadata": {
    "execution": {
     "iopub.execute_input": "2025-05-27T08:26:48.167079Z",
     "iopub.status.busy": "2025-05-27T08:26:48.166818Z",
     "iopub.status.idle": "2025-05-27T08:26:48.471052Z",
     "shell.execute_reply": "2025-05-27T08:26:48.470490Z"
    },
    "papermill": {
     "duration": 0.30938,
     "end_time": "2025-05-27T08:26:48.472726",
     "exception": false,
     "start_time": "2025-05-27T08:26:48.163346",
     "status": "completed"
    },
    "tags": []
   },
   "outputs": [],
   "source": [
    "import os\n",
    "import sys\n",
    "import pandas as pd\n",
    "\n",
    "LIB_DIR = '../../'\n",
    "if LIB_DIR not in sys.path:\n",
    "    sys.path.append(LIB_DIR)"
   ]
  },
  {
   "cell_type": "code",
   "execution_count": 2,
   "id": "0b191833",
   "metadata": {
    "execution": {
     "iopub.execute_input": "2025-05-27T08:26:48.479205Z",
     "iopub.status.busy": "2025-05-27T08:26:48.478619Z",
     "iopub.status.idle": "2025-05-27T08:26:48.483000Z",
     "shell.execute_reply": "2025-05-27T08:26:48.482369Z"
    },
    "papermill": {
     "duration": 0.009262,
     "end_time": "2025-05-27T08:26:48.484248",
     "exception": false,
     "start_time": "2025-05-27T08:26:48.474986",
     "status": "completed"
    },
    "tags": []
   },
   "outputs": [],
   "source": [
    "from scripts.util.date import quarter_to_date"
   ]
  },
  {
   "cell_type": "code",
   "execution_count": 3,
   "id": "1d71186f",
   "metadata": {
    "execution": {
     "iopub.execute_input": "2025-05-27T08:26:48.489356Z",
     "iopub.status.busy": "2025-05-27T08:26:48.488877Z",
     "iopub.status.idle": "2025-05-27T08:26:48.492368Z",
     "shell.execute_reply": "2025-05-27T08:26:48.491800Z"
    },
    "papermill": {
     "duration": 0.007582,
     "end_time": "2025-05-27T08:26:48.493711",
     "exception": false,
     "start_time": "2025-05-27T08:26:48.486129",
     "status": "completed"
    },
    "tags": []
   },
   "outputs": [],
   "source": [
    "NEET_DATA = '../../working/upstream/neet.csv'\n",
    "ALL_METADATA = '../../working/upstream/metadata.csv'\n",
    "NEET_16_24 = '../../data/neet/neet.csv'\n",
    "NEET_METADATA = '../../data/neet/metadata.json'\n",
    "\n",
    "os.makedirs(os.path.dirname(NEET_16_24), exist_ok=True)"
   ]
  },
  {
   "cell_type": "code",
   "execution_count": 4,
   "id": "25442e93",
   "metadata": {
    "execution": {
     "iopub.execute_input": "2025-05-27T08:26:48.498622Z",
     "iopub.status.busy": "2025-05-27T08:26:48.498248Z",
     "iopub.status.idle": "2025-05-27T08:26:48.506450Z",
     "shell.execute_reply": "2025-05-27T08:26:48.505826Z"
    },
    "papermill": {
     "duration": 0.012085,
     "end_time": "2025-05-27T08:26:48.507727",
     "exception": false,
     "start_time": "2025-05-27T08:26:48.495642",
     "status": "completed"
    },
    "tags": []
   },
   "outputs": [],
   "source": [
    "data = pd.read_csv('../../working/upstream/neet.csv')"
   ]
  },
  {
   "cell_type": "code",
   "execution_count": 5,
   "id": "6bee7789",
   "metadata": {
    "execution": {
     "iopub.execute_input": "2025-05-27T08:26:48.512754Z",
     "iopub.status.busy": "2025-05-27T08:26:48.512376Z",
     "iopub.status.idle": "2025-05-27T08:26:48.515493Z",
     "shell.execute_reply": "2025-05-27T08:26:48.514911Z"
    },
    "papermill": {
     "duration": 0.007041,
     "end_time": "2025-05-27T08:26:48.516746",
     "exception": false,
     "start_time": "2025-05-27T08:26:48.509705",
     "status": "completed"
    },
    "tags": []
   },
   "outputs": [],
   "source": [
    "variable_mapper = {\n",
    "    'Young people who were NEET_Total': 'age_16_to_24_neet_total_sa',\n",
    "    'Young people who were NEET_Unemployed': 'age_16_to_24_neet_unemployed_sa',\n",
    "    'Young people who were NEET_Economically inactive': 'age_16_to_24_neet_economically_inactive_sa',\n",
    "    'Total people in relevant population group': 'age_16_to_24_population',\n",
    "    'People who were NEET as a percentage of people in relevant population group': 'age_16_to_24_neet_total_rate_sa',\n",
    "}"
   ]
  },
  {
   "cell_type": "code",
   "execution_count": 6,
   "id": "66aca3ed",
   "metadata": {
    "execution": {
     "iopub.execute_input": "2025-05-27T08:26:48.521876Z",
     "iopub.status.busy": "2025-05-27T08:26:48.521511Z",
     "iopub.status.idle": "2025-05-27T08:26:48.525502Z",
     "shell.execute_reply": "2025-05-27T08:26:48.524954Z"
    },
    "papermill": {
     "duration": 0.008091,
     "end_time": "2025-05-27T08:26:48.526845",
     "exception": false,
     "start_time": "2025-05-27T08:26:48.518754",
     "status": "completed"
    },
    "tags": []
   },
   "outputs": [],
   "source": [
    "data = data[data.age == 'Aged 16-24']"
   ]
  },
  {
   "cell_type": "code",
   "execution_count": 7,
   "id": "e2e4ca88",
   "metadata": {
    "execution": {
     "iopub.execute_input": "2025-05-27T08:26:48.531929Z",
     "iopub.status.busy": "2025-05-27T08:26:48.531559Z",
     "iopub.status.idle": "2025-05-27T08:26:48.535707Z",
     "shell.execute_reply": "2025-05-27T08:26:48.535073Z"
    },
    "papermill": {
     "duration": 0.008166,
     "end_time": "2025-05-27T08:26:48.537011",
     "exception": false,
     "start_time": "2025-05-27T08:26:48.528845",
     "status": "completed"
    },
    "tags": []
   },
   "outputs": [],
   "source": [
    "data = data.replace({\n",
    "  'measure': variable_mapper\n",
    "})"
   ]
  },
  {
   "cell_type": "code",
   "execution_count": 8,
   "id": "4cd5155c",
   "metadata": {
    "execution": {
     "iopub.execute_input": "2025-05-27T08:26:48.541893Z",
     "iopub.status.busy": "2025-05-27T08:26:48.541703Z",
     "iopub.status.idle": "2025-05-27T08:26:48.550861Z",
     "shell.execute_reply": "2025-05-27T08:26:48.550302Z"
    },
    "papermill": {
     "duration": 0.013199,
     "end_time": "2025-05-27T08:26:48.552259",
     "exception": false,
     "start_time": "2025-05-27T08:26:48.539060",
     "status": "completed"
    },
    "tags": []
   },
   "outputs": [],
   "source": [
    "data['quarter_start'] = pd.Index(data.date.pipe(quarter_to_date))\n",
    "data['variable'] = data.sheet.str.split(' - ').apply(lambda x: x[0]).str.lower() + '_' + data.measure"
   ]
  },
  {
   "cell_type": "code",
   "execution_count": 9,
   "id": "26a70897",
   "metadata": {
    "execution": {
     "iopub.execute_input": "2025-05-27T08:26:48.557546Z",
     "iopub.status.busy": "2025-05-27T08:26:48.557296Z",
     "iopub.status.idle": "2025-05-27T08:26:48.566136Z",
     "shell.execute_reply": "2025-05-27T08:26:48.565637Z"
    },
    "papermill": {
     "duration": 0.012999,
     "end_time": "2025-05-27T08:26:48.567458",
     "exception": false,
     "start_time": "2025-05-27T08:26:48.554459",
     "status": "completed"
    },
    "tags": []
   },
   "outputs": [],
   "source": [
    "data = data.pivot_table(index='quarter_start', columns='variable', values='value')"
   ]
  },
  {
   "cell_type": "code",
   "execution_count": 10,
   "id": "eb1800e4",
   "metadata": {
    "execution": {
     "iopub.execute_input": "2025-05-27T08:26:48.572481Z",
     "iopub.status.busy": "2025-05-27T08:26:48.572286Z",
     "iopub.status.idle": "2025-05-27T08:26:48.579018Z",
     "shell.execute_reply": "2025-05-27T08:26:48.578486Z"
    },
    "papermill": {
     "duration": 0.01073,
     "end_time": "2025-05-27T08:26:48.580293",
     "exception": false,
     "start_time": "2025-05-27T08:26:48.569563",
     "status": "completed"
    },
    "tags": []
   },
   "outputs": [],
   "source": [
    "def calculate_rates(data, prefix):\n",
    "    data[prefix + '_age_16_to_24_neet_unemployed_rate_sa'] = data[prefix + '_age_16_to_24_neet_unemployed_sa'] / data[prefix + '_age_16_to_24_population'] * 100\n",
    "    data[prefix + '_age_16_to_24_neet_economically_inactive_rate_sa'] = data[prefix + '_age_16_to_24_neet_economically_inactive_sa'] / data[prefix + '_age_16_to_24_population'] * 100\n",
    "    return data\n",
    "  \n",
    "data = data.pipe(\n",
    "    calculate_rates, 'people'\n",
    ").pipe(\n",
    "    calculate_rates, 'men'\n",
    ").pipe(\n",
    "    calculate_rates, 'women'\n",
    ")\n"
   ]
  },
  {
   "cell_type": "code",
   "execution_count": 11,
   "id": "d16696b4",
   "metadata": {
    "execution": {
     "iopub.execute_input": "2025-05-27T08:26:48.585956Z",
     "iopub.status.busy": "2025-05-27T08:26:48.585536Z",
     "iopub.status.idle": "2025-05-27T08:26:48.592289Z",
     "shell.execute_reply": "2025-05-27T08:26:48.591758Z"
    },
    "papermill": {
     "duration": 0.011022,
     "end_time": "2025-05-27T08:26:48.593549",
     "exception": false,
     "start_time": "2025-05-27T08:26:48.582527",
     "status": "completed"
    },
    "tags": []
   },
   "outputs": [],
   "source": [
    "column_order = [\n",
    "  'people_age_16_to_24_neet_total_sa',\n",
    "  'people_age_16_to_24_neet_unemployed_sa',\n",
    "  'people_age_16_to_24_neet_economically_inactive_sa',\n",
    "  'people_age_16_to_24_population',\n",
    "  'people_age_16_to_24_neet_total_rate_sa',\n",
    "  'people_age_16_to_24_neet_unemployed_rate_sa',\n",
    "  'people_age_16_to_24_neet_economically_inactive_rate_sa',\n",
    "  'men_age_16_to_24_neet_total_sa',\n",
    "  'men_age_16_to_24_neet_unemployed_sa',\n",
    "  'men_age_16_to_24_neet_economically_inactive_sa',\n",
    "  'men_age_16_to_24_population',\n",
    "  'men_age_16_to_24_neet_total_rate_sa',\n",
    "  'men_age_16_to_24_neet_unemployed_rate_sa',\n",
    "  'men_age_16_to_24_neet_economically_inactive_rate_sa',\n",
    "  'women_age_16_to_24_neet_total_sa',\n",
    "  'women_age_16_to_24_neet_unemployed_sa',\n",
    "  'women_age_16_to_24_neet_economically_inactive_sa',\n",
    "  'women_age_16_to_24_population',\n",
    "  'women_age_16_to_24_neet_total_rate_sa',\n",
    "  'women_age_16_to_24_neet_unemployed_rate_sa',\n",
    "  'women_age_16_to_24_neet_economically_inactive_rate_sa'\n",
    "]\n",
    "\n",
    "data.loc[:, column_order].to_csv(NEET_16_24)"
   ]
  },
  {
   "cell_type": "code",
   "execution_count": 12,
   "id": "e0f0a677",
   "metadata": {
    "execution": {
     "iopub.execute_input": "2025-05-27T08:26:48.599035Z",
     "iopub.status.busy": "2025-05-27T08:26:48.598619Z",
     "iopub.status.idle": "2025-05-27T08:26:48.610413Z",
     "shell.execute_reply": "2025-05-27T08:26:48.609758Z"
    },
    "papermill": {
     "duration": 0.016002,
     "end_time": "2025-05-27T08:26:48.611703",
     "exception": false,
     "start_time": "2025-05-27T08:26:48.595701",
     "status": "completed"
    },
    "tags": []
   },
   "outputs": [
    {
     "data": {
      "text/plain": [
       "id                     object\n",
       "last_update    datetime64[ns]\n",
       "next_update            object\n",
       "dtype: object"
      ]
     },
     "execution_count": 12,
     "metadata": {},
     "output_type": "execute_result"
    }
   ],
   "source": [
    "metadata = pd.read_csv(ALL_METADATA, parse_dates=['last_update', 'next_update'])\n",
    "metadata.set_index(\n",
    "    'id'\n",
    ").rename(\n",
    "    columns={\n",
    "        'last_update': 'published'\n",
    "    }\n",
    ").loc['NEET'].to_json(NEET_METADATA, date_format='iso')\n",
    "\n",
    "metadata.dtypes\n"
   ]
  },
  {
   "cell_type": "code",
   "execution_count": null,
   "id": "ac969b6d",
   "metadata": {
    "papermill": {
     "duration": 0.002317,
     "end_time": "2025-05-27T08:26:48.616326",
     "exception": false,
     "start_time": "2025-05-27T08:26:48.614009",
     "status": "completed"
    },
    "tags": []
   },
   "outputs": [],
   "source": []
  },
  {
   "cell_type": "code",
   "execution_count": null,
   "id": "a988555f",
   "metadata": {
    "papermill": {
     "duration": 0.002193,
     "end_time": "2025-05-27T08:26:48.620788",
     "exception": false,
     "start_time": "2025-05-27T08:26:48.618595",
     "status": "completed"
    },
    "tags": []
   },
   "outputs": [],
   "source": []
  }
 ],
 "metadata": {
  "kernelspec": {
   "display_name": "yff-data-ansOWYcy",
   "language": "python",
   "name": "python3"
  },
  "language_info": {
   "codemirror_mode": {
    "name": "ipython",
    "version": 3
   },
   "file_extension": ".py",
   "mimetype": "text/x-python",
   "name": "python",
   "nbconvert_exporter": "python",
   "pygments_lexer": "ipython3",
   "version": "3.10.17"
  },
  "papermill": {
   "default_parameters": {},
   "duration": 2.16487,
   "end_time": "2025-05-27T08:26:48.838470",
   "environment_variables": {},
   "exception": null,
   "input_path": "transform.ipynb",
   "output_path": "../../working/output/neet-transform.ipynb",
   "parameters": {},
   "start_time": "2025-05-27T08:26:46.673600",
   "version": "2.5.0"
  }
 },
 "nbformat": 4,
 "nbformat_minor": 5
}