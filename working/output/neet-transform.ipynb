{
 "cells": [
  {
   "cell_type": "code",
   "execution_count": 1,
   "id": "1570d40a",
   "metadata": {
    "execution": {
     "iopub.execute_input": "2024-11-21T09:51:05.397181Z",
     "iopub.status.busy": "2024-11-21T09:51:05.396916Z",
     "iopub.status.idle": "2024-11-21T09:51:05.701433Z",
     "shell.execute_reply": "2024-11-21T09:51:05.700731Z"
    },
    "papermill": {
     "duration": 0.310663,
     "end_time": "2024-11-21T09:51:05.703138",
     "exception": false,
     "start_time": "2024-11-21T09:51:05.392475",
     "status": "completed"
    },
    "tags": []
   },
   "outputs": [],
   "source": [
    "import os\n",
    "import sys\n",
    "import pandas as pd\n",
    "\n",
    "LIB_DIR = '../../'\n",
    "if LIB_DIR not in sys.path:\n",
    "    sys.path.append(LIB_DIR)"
   ]
  },
  {
   "cell_type": "code",
   "execution_count": 2,
   "id": "f6d73952",
   "metadata": {
    "execution": {
     "iopub.execute_input": "2024-11-21T09:51:05.708587Z",
     "iopub.status.busy": "2024-11-21T09:51:05.708125Z",
     "iopub.status.idle": "2024-11-21T09:51:05.712652Z",
     "shell.execute_reply": "2024-11-21T09:51:05.712123Z"
    },
    "papermill": {
     "duration": 0.008502,
     "end_time": "2024-11-21T09:51:05.713907",
     "exception": false,
     "start_time": "2024-11-21T09:51:05.705405",
     "status": "completed"
    },
    "tags": []
   },
   "outputs": [],
   "source": [
    "from scripts.util.date import quarter_to_date"
   ]
  },
  {
   "cell_type": "code",
   "execution_count": 3,
   "id": "a10a2655",
   "metadata": {
    "execution": {
     "iopub.execute_input": "2024-11-21T09:51:05.718855Z",
     "iopub.status.busy": "2024-11-21T09:51:05.718490Z",
     "iopub.status.idle": "2024-11-21T09:51:05.721729Z",
     "shell.execute_reply": "2024-11-21T09:51:05.721165Z"
    },
    "papermill": {
     "duration": 0.007247,
     "end_time": "2024-11-21T09:51:05.723059",
     "exception": false,
     "start_time": "2024-11-21T09:51:05.715812",
     "status": "completed"
    },
    "tags": []
   },
   "outputs": [],
   "source": [
    "NEET_DATA = '../../working/upstream/neet.csv'\n",
    "ALL_METADATA = '../../working/upstream/metadata.csv'\n",
    "NEET_16_24 = '../../data/neet/neet.csv'\n",
    "NEET_METADATA = '../../data/neet/metadata.json'\n",
    "\n",
    "os.makedirs(os.path.dirname(NEET_16_24), exist_ok=True)"
   ]
  },
  {
   "cell_type": "code",
   "execution_count": 4,
   "id": "fda8914a",
   "metadata": {
    "execution": {
     "iopub.execute_input": "2024-11-21T09:51:05.727779Z",
     "iopub.status.busy": "2024-11-21T09:51:05.727432Z",
     "iopub.status.idle": "2024-11-21T09:51:05.735972Z",
     "shell.execute_reply": "2024-11-21T09:51:05.735438Z"
    },
    "papermill": {
     "duration": 0.012303,
     "end_time": "2024-11-21T09:51:05.737282",
     "exception": false,
     "start_time": "2024-11-21T09:51:05.724979",
     "status": "completed"
    },
    "tags": []
   },
   "outputs": [],
   "source": [
    "data = pd.read_csv('../../working/upstream/neet.csv')"
   ]
  },
  {
   "cell_type": "code",
   "execution_count": 5,
   "id": "4ea1e19e",
   "metadata": {
    "execution": {
     "iopub.execute_input": "2024-11-21T09:51:05.742359Z",
     "iopub.status.busy": "2024-11-21T09:51:05.741847Z",
     "iopub.status.idle": "2024-11-21T09:51:05.745203Z",
     "shell.execute_reply": "2024-11-21T09:51:05.744577Z"
    },
    "papermill": {
     "duration": 0.007327,
     "end_time": "2024-11-21T09:51:05.746541",
     "exception": false,
     "start_time": "2024-11-21T09:51:05.739214",
     "status": "completed"
    },
    "tags": []
   },
   "outputs": [],
   "source": [
    "variable_mapper = {\n",
    "    'Young people who were NEET_Total': 'age_16_to_24_neet_total_sa',\n",
    "    'Young people who were NEET_Unemployed': 'age_16_to_24_neet_unemployed_sa',\n",
    "    'Young people who were NEET_Economically inactive': 'age_16_to_24_neet_economically_inactive_sa',\n",
    "    'Total people in relevant population group': 'age_16_to_24_population',\n",
    "    'People who were NEET as a percentage of people in relevant population group': 'age_16_to_24_neet_total_rate_sa',\n",
    "}"
   ]
  },
  {
   "cell_type": "code",
   "execution_count": 6,
   "id": "00258e50",
   "metadata": {
    "execution": {
     "iopub.execute_input": "2024-11-21T09:51:05.751735Z",
     "iopub.status.busy": "2024-11-21T09:51:05.751220Z",
     "iopub.status.idle": "2024-11-21T09:51:05.755237Z",
     "shell.execute_reply": "2024-11-21T09:51:05.754731Z"
    },
    "papermill": {
     "duration": 0.008003,
     "end_time": "2024-11-21T09:51:05.756553",
     "exception": false,
     "start_time": "2024-11-21T09:51:05.748550",
     "status": "completed"
    },
    "tags": []
   },
   "outputs": [],
   "source": [
    "data = data[data.age == 'Aged 16-24']"
   ]
  },
  {
   "cell_type": "code",
   "execution_count": 7,
   "id": "16e4283b",
   "metadata": {
    "execution": {
     "iopub.execute_input": "2024-11-21T09:51:05.761402Z",
     "iopub.status.busy": "2024-11-21T09:51:05.761192Z",
     "iopub.status.idle": "2024-11-21T09:51:05.765634Z",
     "shell.execute_reply": "2024-11-21T09:51:05.765023Z"
    },
    "papermill": {
     "duration": 0.008426,
     "end_time": "2024-11-21T09:51:05.766949",
     "exception": false,
     "start_time": "2024-11-21T09:51:05.758523",
     "status": "completed"
    },
    "tags": []
   },
   "outputs": [],
   "source": [
    "data = data.replace({\n",
    "  'measure': variable_mapper\n",
    "})"
   ]
  },
  {
   "cell_type": "code",
   "execution_count": 8,
   "id": "3734a6ed",
   "metadata": {
    "execution": {
     "iopub.execute_input": "2024-11-21T09:51:05.771963Z",
     "iopub.status.busy": "2024-11-21T09:51:05.771605Z",
     "iopub.status.idle": "2024-11-21T09:51:05.781096Z",
     "shell.execute_reply": "2024-11-21T09:51:05.780537Z"
    },
    "papermill": {
     "duration": 0.013427,
     "end_time": "2024-11-21T09:51:05.782411",
     "exception": false,
     "start_time": "2024-11-21T09:51:05.768984",
     "status": "completed"
    },
    "tags": []
   },
   "outputs": [],
   "source": [
    "data['quarter_start'] = pd.Index(data.date.pipe(quarter_to_date))\n",
    "data['variable'] = data.sheet.str.split(' - ').apply(lambda x: x[0]).str.lower() + '_' + data.measure"
   ]
  },
  {
   "cell_type": "code",
   "execution_count": 9,
   "id": "04331d31",
   "metadata": {
    "execution": {
     "iopub.execute_input": "2024-11-21T09:51:05.787741Z",
     "iopub.status.busy": "2024-11-21T09:51:05.787254Z",
     "iopub.status.idle": "2024-11-21T09:51:05.795395Z",
     "shell.execute_reply": "2024-11-21T09:51:05.794854Z"
    },
    "papermill": {
     "duration": 0.012079,
     "end_time": "2024-11-21T09:51:05.796679",
     "exception": false,
     "start_time": "2024-11-21T09:51:05.784600",
     "status": "completed"
    },
    "tags": []
   },
   "outputs": [],
   "source": [
    "data = data.pivot_table(index='quarter_start', columns='variable', values='value')"
   ]
  },
  {
   "cell_type": "code",
   "execution_count": 10,
   "id": "80f24690",
   "metadata": {
    "execution": {
     "iopub.execute_input": "2024-11-21T09:51:05.801727Z",
     "iopub.status.busy": "2024-11-21T09:51:05.801366Z",
     "iopub.status.idle": "2024-11-21T09:51:05.807624Z",
     "shell.execute_reply": "2024-11-21T09:51:05.807059Z"
    },
    "papermill": {
     "duration": 0.010154,
     "end_time": "2024-11-21T09:51:05.808897",
     "exception": false,
     "start_time": "2024-11-21T09:51:05.798743",
     "status": "completed"
    },
    "tags": []
   },
   "outputs": [],
   "source": [
    "def calculate_rates(data, prefix):\n",
    "    data[prefix + '_age_16_to_24_neet_unemployed_rate_sa'] = data[prefix + '_age_16_to_24_neet_unemployed_sa'] / data[prefix + '_age_16_to_24_population'] * 100\n",
    "    data[prefix + '_age_16_to_24_neet_economically_inactive_rate_sa'] = data[prefix + '_age_16_to_24_neet_economically_inactive_sa'] / data[prefix + '_age_16_to_24_population'] * 100\n",
    "    return data\n",
    "  \n",
    "data = data.pipe(\n",
    "    calculate_rates, 'people'\n",
    ").pipe(\n",
    "    calculate_rates, 'men'\n",
    ").pipe(\n",
    "    calculate_rates, 'women'\n",
    ")\n"
   ]
  },
  {
   "cell_type": "code",
   "execution_count": 11,
   "id": "ebab21ec",
   "metadata": {
    "execution": {
     "iopub.execute_input": "2024-11-21T09:51:05.814529Z",
     "iopub.status.busy": "2024-11-21T09:51:05.813992Z",
     "iopub.status.idle": "2024-11-21T09:51:05.821088Z",
     "shell.execute_reply": "2024-11-21T09:51:05.820463Z"
    },
    "papermill": {
     "duration": 0.011514,
     "end_time": "2024-11-21T09:51:05.822648",
     "exception": false,
     "start_time": "2024-11-21T09:51:05.811134",
     "status": "completed"
    },
    "tags": []
   },
   "outputs": [],
   "source": [
    "column_order = [\n",
    "  'people_age_16_to_24_neet_total_sa',\n",
    "  'people_age_16_to_24_neet_unemployed_sa',\n",
    "  'people_age_16_to_24_neet_economically_inactive_sa',\n",
    "  'people_age_16_to_24_population',\n",
    "  'people_age_16_to_24_neet_total_rate_sa',\n",
    "  'people_age_16_to_24_neet_unemployed_rate_sa',\n",
    "  'people_age_16_to_24_neet_economically_inactive_rate_sa',\n",
    "  'men_age_16_to_24_neet_total_sa',\n",
    "  'men_age_16_to_24_neet_unemployed_sa',\n",
    "  'men_age_16_to_24_neet_economically_inactive_sa',\n",
    "  'men_age_16_to_24_population',\n",
    "  'men_age_16_to_24_neet_total_rate_sa',\n",
    "  'men_age_16_to_24_neet_unemployed_rate_sa',\n",
    "  'men_age_16_to_24_neet_economically_inactive_rate_sa',\n",
    "  'women_age_16_to_24_neet_total_sa',\n",
    "  'women_age_16_to_24_neet_unemployed_sa',\n",
    "  'women_age_16_to_24_neet_economically_inactive_sa',\n",
    "  'women_age_16_to_24_population',\n",
    "  'women_age_16_to_24_neet_total_rate_sa',\n",
    "  'women_age_16_to_24_neet_unemployed_rate_sa',\n",
    "  'women_age_16_to_24_neet_economically_inactive_rate_sa'\n",
    "]\n",
    "\n",
    "data.loc[:, column_order].to_csv(NEET_16_24)"
   ]
  },
  {
   "cell_type": "code",
   "execution_count": 12,
   "id": "247b5ada",
   "metadata": {
    "execution": {
     "iopub.execute_input": "2024-11-21T09:51:05.828166Z",
     "iopub.status.busy": "2024-11-21T09:51:05.827694Z",
     "iopub.status.idle": "2024-11-21T09:51:05.840006Z",
     "shell.execute_reply": "2024-11-21T09:51:05.839335Z"
    },
    "papermill": {
     "duration": 0.01645,
     "end_time": "2024-11-21T09:51:05.841312",
     "exception": false,
     "start_time": "2024-11-21T09:51:05.824862",
     "status": "completed"
    },
    "tags": []
   },
   "outputs": [
    {
     "data": {
      "text/plain": [
       "id                     object\n",
       "last_update    datetime64[ns]\n",
       "next_update            object\n",
       "dtype: object"
      ]
     },
     "execution_count": 12,
     "metadata": {},
     "output_type": "execute_result"
    }
   ],
   "source": [
    "metadata = pd.read_csv(ALL_METADATA, parse_dates=['last_update', 'next_update'])\n",
    "metadata.set_index(\n",
    "    'id'\n",
    ").rename(\n",
    "    columns={\n",
    "        'last_update': 'published'\n",
    "    }\n",
    ").loc['NEET'].to_json(NEET_METADATA, date_format='iso')\n",
    "\n",
    "metadata.dtypes\n"
   ]
  },
  {
   "cell_type": "code",
   "execution_count": null,
   "id": "53c806bd",
   "metadata": {
    "papermill": {
     "duration": 0.002284,
     "end_time": "2024-11-21T09:51:05.845995",
     "exception": false,
     "start_time": "2024-11-21T09:51:05.843711",
     "status": "completed"
    },
    "tags": []
   },
   "outputs": [],
   "source": []
  },
  {
   "cell_type": "code",
   "execution_count": null,
   "id": "f442666c",
   "metadata": {
    "papermill": {
     "duration": 0.002169,
     "end_time": "2024-11-21T09:51:05.850504",
     "exception": false,
     "start_time": "2024-11-21T09:51:05.848335",
     "status": "completed"
    },
    "tags": []
   },
   "outputs": [],
   "source": []
  }
 ],
 "metadata": {
  "kernelspec": {
   "display_name": "yff-data-ansOWYcy",
   "language": "python",
   "name": "python3"
  },
  "language_info": {
   "codemirror_mode": {
    "name": "ipython",
    "version": 3
   },
   "file_extension": ".py",
   "mimetype": "text/x-python",
   "name": "python",
   "nbconvert_exporter": "python",
   "pygments_lexer": "ipython3",
   "version": "3.10.15"
  },
  "papermill": {
   "default_parameters": {},
   "duration": 1.889911,
   "end_time": "2024-11-21T09:51:06.068467",
   "environment_variables": {},
   "exception": null,
   "input_path": "transform.ipynb",
   "output_path": "../../working/output/neet-transform.ipynb",
   "parameters": {},
   "start_time": "2024-11-21T09:51:04.178556",
   "version": "2.5.0"
  }
 },
 "nbformat": 4,
 "nbformat_minor": 5
}