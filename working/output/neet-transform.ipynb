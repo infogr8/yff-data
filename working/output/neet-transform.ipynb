{
 "cells": [
  {
   "cell_type": "code",
   "execution_count": 1,
   "id": "bc134612",
   "metadata": {
    "execution": {
     "iopub.execute_input": "2025-05-21T08:26:50.372690Z",
     "iopub.status.busy": "2025-05-21T08:26:50.372116Z",
     "iopub.status.idle": "2025-05-21T08:26:50.686022Z",
     "shell.execute_reply": "2025-05-21T08:26:50.685253Z"
    },
    "papermill": {
     "duration": 0.319442,
     "end_time": "2025-05-21T08:26:50.687800",
     "exception": false,
     "start_time": "2025-05-21T08:26:50.368358",
     "status": "completed"
    },
    "tags": []
   },
   "outputs": [],
   "source": [
    "import os\n",
    "import sys\n",
    "import pandas as pd\n",
    "\n",
    "LIB_DIR = '../../'\n",
    "if LIB_DIR not in sys.path:\n",
    "    sys.path.append(LIB_DIR)"
   ]
  },
  {
   "cell_type": "code",
   "execution_count": 2,
   "id": "409b2e4f",
   "metadata": {
    "execution": {
     "iopub.execute_input": "2025-05-21T08:26:50.693342Z",
     "iopub.status.busy": "2025-05-21T08:26:50.692869Z",
     "iopub.status.idle": "2025-05-21T08:26:50.697370Z",
     "shell.execute_reply": "2025-05-21T08:26:50.696728Z"
    },
    "papermill": {
     "duration": 0.008636,
     "end_time": "2025-05-21T08:26:50.698741",
     "exception": false,
     "start_time": "2025-05-21T08:26:50.690105",
     "status": "completed"
    },
    "tags": []
   },
   "outputs": [],
   "source": [
    "from scripts.util.date import quarter_to_date"
   ]
  },
  {
   "cell_type": "code",
   "execution_count": 3,
   "id": "25e287e4",
   "metadata": {
    "execution": {
     "iopub.execute_input": "2025-05-21T08:26:50.703857Z",
     "iopub.status.busy": "2025-05-21T08:26:50.703389Z",
     "iopub.status.idle": "2025-05-21T08:26:50.706885Z",
     "shell.execute_reply": "2025-05-21T08:26:50.706280Z"
    },
    "papermill": {
     "duration": 0.007583,
     "end_time": "2025-05-21T08:26:50.708245",
     "exception": false,
     "start_time": "2025-05-21T08:26:50.700662",
     "status": "completed"
    },
    "tags": []
   },
   "outputs": [],
   "source": [
    "NEET_DATA = '../../working/upstream/neet.csv'\n",
    "ALL_METADATA = '../../working/upstream/metadata.csv'\n",
    "NEET_16_24 = '../../data/neet/neet.csv'\n",
    "NEET_METADATA = '../../data/neet/metadata.json'\n",
    "\n",
    "os.makedirs(os.path.dirname(NEET_16_24), exist_ok=True)"
   ]
  },
  {
   "cell_type": "code",
   "execution_count": 4,
   "id": "fdba2541",
   "metadata": {
    "execution": {
     "iopub.execute_input": "2025-05-21T08:26:50.713189Z",
     "iopub.status.busy": "2025-05-21T08:26:50.712799Z",
     "iopub.status.idle": "2025-05-21T08:26:50.721007Z",
     "shell.execute_reply": "2025-05-21T08:26:50.720473Z"
    },
    "papermill": {
     "duration": 0.012158,
     "end_time": "2025-05-21T08:26:50.722352",
     "exception": false,
     "start_time": "2025-05-21T08:26:50.710194",
     "status": "completed"
    },
    "tags": []
   },
   "outputs": [],
   "source": [
    "data = pd.read_csv('../../working/upstream/neet.csv')"
   ]
  },
  {
   "cell_type": "code",
   "execution_count": 5,
   "id": "cacef6d9",
   "metadata": {
    "execution": {
     "iopub.execute_input": "2025-05-21T08:26:50.727414Z",
     "iopub.status.busy": "2025-05-21T08:26:50.727061Z",
     "iopub.status.idle": "2025-05-21T08:26:50.730354Z",
     "shell.execute_reply": "2025-05-21T08:26:50.729737Z"
    },
    "papermill": {
     "duration": 0.007327,
     "end_time": "2025-05-21T08:26:50.731704",
     "exception": false,
     "start_time": "2025-05-21T08:26:50.724377",
     "status": "completed"
    },
    "tags": []
   },
   "outputs": [],
   "source": [
    "variable_mapper = {\n",
    "    'Young people who were NEET_Total': 'age_16_to_24_neet_total_sa',\n",
    "    'Young people who were NEET_Unemployed': 'age_16_to_24_neet_unemployed_sa',\n",
    "    'Young people who were NEET_Economically inactive': 'age_16_to_24_neet_economically_inactive_sa',\n",
    "    'Total people in relevant population group': 'age_16_to_24_population',\n",
    "    'People who were NEET as a percentage of people in relevant population group': 'age_16_to_24_neet_total_rate_sa',\n",
    "}"
   ]
  },
  {
   "cell_type": "code",
   "execution_count": 6,
   "id": "6451fbad",
   "metadata": {
    "execution": {
     "iopub.execute_input": "2025-05-21T08:26:50.736879Z",
     "iopub.status.busy": "2025-05-21T08:26:50.736391Z",
     "iopub.status.idle": "2025-05-21T08:26:50.740604Z",
     "shell.execute_reply": "2025-05-21T08:26:50.740021Z"
    },
    "papermill": {
     "duration": 0.008175,
     "end_time": "2025-05-21T08:26:50.741904",
     "exception": false,
     "start_time": "2025-05-21T08:26:50.733729",
     "status": "completed"
    },
    "tags": []
   },
   "outputs": [],
   "source": [
    "data = data[data.age == 'Aged 16-24']"
   ]
  },
  {
   "cell_type": "code",
   "execution_count": 7,
   "id": "f9abe417",
   "metadata": {
    "execution": {
     "iopub.execute_input": "2025-05-21T08:26:50.747133Z",
     "iopub.status.busy": "2025-05-21T08:26:50.746672Z",
     "iopub.status.idle": "2025-05-21T08:26:50.751095Z",
     "shell.execute_reply": "2025-05-21T08:26:50.750444Z"
    },
    "papermill": {
     "duration": 0.008469,
     "end_time": "2025-05-21T08:26:50.752398",
     "exception": false,
     "start_time": "2025-05-21T08:26:50.743929",
     "status": "completed"
    },
    "tags": []
   },
   "outputs": [],
   "source": [
    "data = data.replace({\n",
    "  'measure': variable_mapper\n",
    "})"
   ]
  },
  {
   "cell_type": "code",
   "execution_count": 8,
   "id": "5e957689",
   "metadata": {
    "execution": {
     "iopub.execute_input": "2025-05-21T08:26:50.757342Z",
     "iopub.status.busy": "2025-05-21T08:26:50.757150Z",
     "iopub.status.idle": "2025-05-21T08:26:50.766985Z",
     "shell.execute_reply": "2025-05-21T08:26:50.766438Z"
    },
    "papermill": {
     "duration": 0.013782,
     "end_time": "2025-05-21T08:26:50.768292",
     "exception": false,
     "start_time": "2025-05-21T08:26:50.754510",
     "status": "completed"
    },
    "tags": []
   },
   "outputs": [],
   "source": [
    "data['quarter_start'] = pd.Index(data.date.pipe(quarter_to_date))\n",
    "data['variable'] = data.sheet.str.split(' - ').apply(lambda x: x[0]).str.lower() + '_' + data.measure"
   ]
  },
  {
   "cell_type": "code",
   "execution_count": 9,
   "id": "64804b4a",
   "metadata": {
    "execution": {
     "iopub.execute_input": "2025-05-21T08:26:50.773723Z",
     "iopub.status.busy": "2025-05-21T08:26:50.773246Z",
     "iopub.status.idle": "2025-05-21T08:26:50.781870Z",
     "shell.execute_reply": "2025-05-21T08:26:50.781322Z"
    },
    "papermill": {
     "duration": 0.012685,
     "end_time": "2025-05-21T08:26:50.783179",
     "exception": false,
     "start_time": "2025-05-21T08:26:50.770494",
     "status": "completed"
    },
    "tags": []
   },
   "outputs": [],
   "source": [
    "data = data.pivot_table(index='quarter_start', columns='variable', values='value')"
   ]
  },
  {
   "cell_type": "code",
   "execution_count": 10,
   "id": "9c2e80a7",
   "metadata": {
    "execution": {
     "iopub.execute_input": "2025-05-21T08:26:50.788258Z",
     "iopub.status.busy": "2025-05-21T08:26:50.788058Z",
     "iopub.status.idle": "2025-05-21T08:26:50.794931Z",
     "shell.execute_reply": "2025-05-21T08:26:50.794347Z"
    },
    "papermill": {
     "duration": 0.010936,
     "end_time": "2025-05-21T08:26:50.796257",
     "exception": false,
     "start_time": "2025-05-21T08:26:50.785321",
     "status": "completed"
    },
    "tags": []
   },
   "outputs": [],
   "source": [
    "def calculate_rates(data, prefix):\n",
    "    data[prefix + '_age_16_to_24_neet_unemployed_rate_sa'] = data[prefix + '_age_16_to_24_neet_unemployed_sa'] / data[prefix + '_age_16_to_24_population'] * 100\n",
    "    data[prefix + '_age_16_to_24_neet_economically_inactive_rate_sa'] = data[prefix + '_age_16_to_24_neet_economically_inactive_sa'] / data[prefix + '_age_16_to_24_population'] * 100\n",
    "    return data\n",
    "  \n",
    "data = data.pipe(\n",
    "    calculate_rates, 'people'\n",
    ").pipe(\n",
    "    calculate_rates, 'men'\n",
    ").pipe(\n",
    "    calculate_rates, 'women'\n",
    ")\n"
   ]
  },
  {
   "cell_type": "code",
   "execution_count": 11,
   "id": "90e58e1a",
   "metadata": {
    "execution": {
     "iopub.execute_input": "2025-05-21T08:26:50.802093Z",
     "iopub.status.busy": "2025-05-21T08:26:50.801580Z",
     "iopub.status.idle": "2025-05-21T08:26:50.808583Z",
     "shell.execute_reply": "2025-05-21T08:26:50.808055Z"
    },
    "papermill": {
     "duration": 0.011321,
     "end_time": "2025-05-21T08:26:50.809893",
     "exception": false,
     "start_time": "2025-05-21T08:26:50.798572",
     "status": "completed"
    },
    "tags": []
   },
   "outputs": [],
   "source": [
    "column_order = [\n",
    "  'people_age_16_to_24_neet_total_sa',\n",
    "  'people_age_16_to_24_neet_unemployed_sa',\n",
    "  'people_age_16_to_24_neet_economically_inactive_sa',\n",
    "  'people_age_16_to_24_population',\n",
    "  'people_age_16_to_24_neet_total_rate_sa',\n",
    "  'people_age_16_to_24_neet_unemployed_rate_sa',\n",
    "  'people_age_16_to_24_neet_economically_inactive_rate_sa',\n",
    "  'men_age_16_to_24_neet_total_sa',\n",
    "  'men_age_16_to_24_neet_unemployed_sa',\n",
    "  'men_age_16_to_24_neet_economically_inactive_sa',\n",
    "  'men_age_16_to_24_population',\n",
    "  'men_age_16_to_24_neet_total_rate_sa',\n",
    "  'men_age_16_to_24_neet_unemployed_rate_sa',\n",
    "  'men_age_16_to_24_neet_economically_inactive_rate_sa',\n",
    "  'women_age_16_to_24_neet_total_sa',\n",
    "  'women_age_16_to_24_neet_unemployed_sa',\n",
    "  'women_age_16_to_24_neet_economically_inactive_sa',\n",
    "  'women_age_16_to_24_population',\n",
    "  'women_age_16_to_24_neet_total_rate_sa',\n",
    "  'women_age_16_to_24_neet_unemployed_rate_sa',\n",
    "  'women_age_16_to_24_neet_economically_inactive_rate_sa'\n",
    "]\n",
    "\n",
    "data.loc[:, column_order].to_csv(NEET_16_24)"
   ]
  },
  {
   "cell_type": "code",
   "execution_count": 12,
   "id": "578bb4c9",
   "metadata": {
    "execution": {
     "iopub.execute_input": "2025-05-21T08:26:50.815347Z",
     "iopub.status.busy": "2025-05-21T08:26:50.814976Z",
     "iopub.status.idle": "2025-05-21T08:26:50.827228Z",
     "shell.execute_reply": "2025-05-21T08:26:50.826671Z"
    },
    "papermill": {
     "duration": 0.016453,
     "end_time": "2025-05-21T08:26:50.828539",
     "exception": false,
     "start_time": "2025-05-21T08:26:50.812086",
     "status": "completed"
    },
    "tags": []
   },
   "outputs": [
    {
     "data": {
      "text/plain": [
       "id                     object\n",
       "last_update    datetime64[ns]\n",
       "next_update            object\n",
       "dtype: object"
      ]
     },
     "execution_count": 12,
     "metadata": {},
     "output_type": "execute_result"
    }
   ],
   "source": [
    "metadata = pd.read_csv(ALL_METADATA, parse_dates=['last_update', 'next_update'])\n",
    "metadata.set_index(\n",
    "    'id'\n",
    ").rename(\n",
    "    columns={\n",
    "        'last_update': 'published'\n",
    "    }\n",
    ").loc['NEET'].to_json(NEET_METADATA, date_format='iso')\n",
    "\n",
    "metadata.dtypes\n"
   ]
  },
  {
   "cell_type": "code",
   "execution_count": null,
   "id": "1421725b",
   "metadata": {
    "papermill": {
     "duration": 0.002308,
     "end_time": "2025-05-21T08:26:50.833206",
     "exception": false,
     "start_time": "2025-05-21T08:26:50.830898",
     "status": "completed"
    },
    "tags": []
   },
   "outputs": [],
   "source": []
  },
  {
   "cell_type": "code",
   "execution_count": null,
   "id": "70b56fe1",
   "metadata": {
    "papermill": {
     "duration": 0.002201,
     "end_time": "2025-05-21T08:26:50.837682",
     "exception": false,
     "start_time": "2025-05-21T08:26:50.835481",
     "status": "completed"
    },
    "tags": []
   },
   "outputs": [],
   "source": []
  }
 ],
 "metadata": {
  "kernelspec": {
   "display_name": "yff-data-ansOWYcy",
   "language": "python",
   "name": "python3"
  },
  "language_info": {
   "codemirror_mode": {
    "name": "ipython",
    "version": 3
   },
   "file_extension": ".py",
   "mimetype": "text/x-python",
   "name": "python",
   "nbconvert_exporter": "python",
   "pygments_lexer": "ipython3",
   "version": "3.10.17"
  },
  "papermill": {
   "default_parameters": {},
   "duration": 2.128621,
   "end_time": "2025-05-21T08:26:51.056078",
   "environment_variables": {},
   "exception": null,
   "input_path": "transform.ipynb",
   "output_path": "../../working/output/neet-transform.ipynb",
   "parameters": {},
   "start_time": "2025-05-21T08:26:48.927457",
   "version": "2.5.0"
  }
 },
 "nbformat": 4,
 "nbformat_minor": 5
}