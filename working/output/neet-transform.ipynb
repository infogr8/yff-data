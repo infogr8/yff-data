{
 "cells": [
  {
   "cell_type": "code",
   "execution_count": 1,
   "id": "36bec684",
   "metadata": {
    "execution": {
     "iopub.execute_input": "2024-11-20T07:41:54.045213Z",
     "iopub.status.busy": "2024-11-20T07:41:54.044956Z",
     "iopub.status.idle": "2024-11-20T07:41:54.346153Z",
     "shell.execute_reply": "2024-11-20T07:41:54.345422Z"
    },
    "papermill": {
     "duration": 0.307397,
     "end_time": "2024-11-20T07:41:54.347968",
     "exception": false,
     "start_time": "2024-11-20T07:41:54.040571",
     "status": "completed"
    },
    "tags": []
   },
   "outputs": [],
   "source": [
    "import os\n",
    "import sys\n",
    "import pandas as pd\n",
    "\n",
    "LIB_DIR = '../../'\n",
    "if LIB_DIR not in sys.path:\n",
    "    sys.path.append(LIB_DIR)"
   ]
  },
  {
   "cell_type": "code",
   "execution_count": 2,
   "id": "7d7990d6",
   "metadata": {
    "execution": {
     "iopub.execute_input": "2024-11-20T07:41:54.353547Z",
     "iopub.status.busy": "2024-11-20T07:41:54.352894Z",
     "iopub.status.idle": "2024-11-20T07:41:54.357286Z",
     "shell.execute_reply": "2024-11-20T07:41:54.356652Z"
    },
    "papermill": {
     "duration": 0.008509,
     "end_time": "2024-11-20T07:41:54.358715",
     "exception": false,
     "start_time": "2024-11-20T07:41:54.350206",
     "status": "completed"
    },
    "tags": []
   },
   "outputs": [],
   "source": [
    "from scripts.util.date import quarter_to_date"
   ]
  },
  {
   "cell_type": "code",
   "execution_count": 3,
   "id": "d2622ae6",
   "metadata": {
    "execution": {
     "iopub.execute_input": "2024-11-20T07:41:54.363685Z",
     "iopub.status.busy": "2024-11-20T07:41:54.363262Z",
     "iopub.status.idle": "2024-11-20T07:41:54.366767Z",
     "shell.execute_reply": "2024-11-20T07:41:54.366226Z"
    },
    "papermill": {
     "duration": 0.007458,
     "end_time": "2024-11-20T07:41:54.368073",
     "exception": false,
     "start_time": "2024-11-20T07:41:54.360615",
     "status": "completed"
    },
    "tags": []
   },
   "outputs": [],
   "source": [
    "NEET_DATA = '../../working/upstream/neet.csv'\n",
    "ALL_METADATA = '../../working/upstream/metadata.csv'\n",
    "NEET_16_24 = '../../data/neet/neet.csv'\n",
    "NEET_METADATA = '../../data/neet/metadata.json'\n",
    "\n",
    "os.makedirs(os.path.dirname(NEET_16_24), exist_ok=True)"
   ]
  },
  {
   "cell_type": "code",
   "execution_count": 4,
   "id": "73feb29c",
   "metadata": {
    "execution": {
     "iopub.execute_input": "2024-11-20T07:41:54.372901Z",
     "iopub.status.busy": "2024-11-20T07:41:54.372536Z",
     "iopub.status.idle": "2024-11-20T07:41:54.381030Z",
     "shell.execute_reply": "2024-11-20T07:41:54.380359Z"
    },
    "papermill": {
     "duration": 0.012479,
     "end_time": "2024-11-20T07:41:54.382441",
     "exception": false,
     "start_time": "2024-11-20T07:41:54.369962",
     "status": "completed"
    },
    "tags": []
   },
   "outputs": [],
   "source": [
    "data = pd.read_csv('../../working/upstream/neet.csv')"
   ]
  },
  {
   "cell_type": "code",
   "execution_count": 5,
   "id": "ec43025d",
   "metadata": {
    "execution": {
     "iopub.execute_input": "2024-11-20T07:41:54.387376Z",
     "iopub.status.busy": "2024-11-20T07:41:54.386957Z",
     "iopub.status.idle": "2024-11-20T07:41:54.390282Z",
     "shell.execute_reply": "2024-11-20T07:41:54.389642Z"
    },
    "papermill": {
     "duration": 0.007181,
     "end_time": "2024-11-20T07:41:54.391588",
     "exception": false,
     "start_time": "2024-11-20T07:41:54.384407",
     "status": "completed"
    },
    "tags": []
   },
   "outputs": [],
   "source": [
    "variable_mapper = {\n",
    "    'Young people who were NEET_Total': 'age_16_to_24_neet_total_sa',\n",
    "    'Young people who were NEET_Unemployed': 'age_16_to_24_neet_unemployed_sa',\n",
    "    'Young people who were NEET_Economically inactive': 'age_16_to_24_neet_economically_inactive_sa',\n",
    "    'Total people in relevant population group': 'age_16_to_24_population',\n",
    "    'People who were NEET as a percentage of people in relevant population group': 'age_16_to_24_neet_total_rate_sa',\n",
    "}"
   ]
  },
  {
   "cell_type": "code",
   "execution_count": 6,
   "id": "0d442683",
   "metadata": {
    "execution": {
     "iopub.execute_input": "2024-11-20T07:41:54.396527Z",
     "iopub.status.busy": "2024-11-20T07:41:54.396176Z",
     "iopub.status.idle": "2024-11-20T07:41:54.400182Z",
     "shell.execute_reply": "2024-11-20T07:41:54.399631Z"
    },
    "papermill": {
     "duration": 0.007903,
     "end_time": "2024-11-20T07:41:54.401459",
     "exception": false,
     "start_time": "2024-11-20T07:41:54.393556",
     "status": "completed"
    },
    "tags": []
   },
   "outputs": [],
   "source": [
    "data = data[data.age == 'Aged 16-24']"
   ]
  },
  {
   "cell_type": "code",
   "execution_count": 7,
   "id": "ada1bac9",
   "metadata": {
    "execution": {
     "iopub.execute_input": "2024-11-20T07:41:54.406637Z",
     "iopub.status.busy": "2024-11-20T07:41:54.406103Z",
     "iopub.status.idle": "2024-11-20T07:41:54.410651Z",
     "shell.execute_reply": "2024-11-20T07:41:54.410124Z"
    },
    "papermill": {
     "duration": 0.008444,
     "end_time": "2024-11-20T07:41:54.411937",
     "exception": false,
     "start_time": "2024-11-20T07:41:54.403493",
     "status": "completed"
    },
    "tags": []
   },
   "outputs": [],
   "source": [
    "data = data.replace({\n",
    "  'measure': variable_mapper\n",
    "})"
   ]
  },
  {
   "cell_type": "code",
   "execution_count": 8,
   "id": "b52fb77c",
   "metadata": {
    "execution": {
     "iopub.execute_input": "2024-11-20T07:41:54.416918Z",
     "iopub.status.busy": "2024-11-20T07:41:54.416581Z",
     "iopub.status.idle": "2024-11-20T07:41:54.425747Z",
     "shell.execute_reply": "2024-11-20T07:41:54.425119Z"
    },
    "papermill": {
     "duration": 0.013126,
     "end_time": "2024-11-20T07:41:54.427092",
     "exception": false,
     "start_time": "2024-11-20T07:41:54.413966",
     "status": "completed"
    },
    "tags": []
   },
   "outputs": [],
   "source": [
    "data['quarter_start'] = pd.Index(data.date.pipe(quarter_to_date))\n",
    "data['variable'] = data.sheet.str.split(' - ').apply(lambda x: x[0]).str.lower() + '_' + data.measure"
   ]
  },
  {
   "cell_type": "code",
   "execution_count": 9,
   "id": "249ba95f",
   "metadata": {
    "execution": {
     "iopub.execute_input": "2024-11-20T07:41:54.432215Z",
     "iopub.status.busy": "2024-11-20T07:41:54.431843Z",
     "iopub.status.idle": "2024-11-20T07:41:54.439684Z",
     "shell.execute_reply": "2024-11-20T07:41:54.439111Z"
    },
    "papermill": {
     "duration": 0.011705,
     "end_time": "2024-11-20T07:41:54.440953",
     "exception": false,
     "start_time": "2024-11-20T07:41:54.429248",
     "status": "completed"
    },
    "tags": []
   },
   "outputs": [],
   "source": [
    "data = data.pivot_table(index='quarter_start', columns='variable', values='value')"
   ]
  },
  {
   "cell_type": "code",
   "execution_count": 10,
   "id": "4d86262f",
   "metadata": {
    "execution": {
     "iopub.execute_input": "2024-11-20T07:41:54.446354Z",
     "iopub.status.busy": "2024-11-20T07:41:54.445841Z",
     "iopub.status.idle": "2024-11-20T07:41:54.452482Z",
     "shell.execute_reply": "2024-11-20T07:41:54.451846Z"
    },
    "papermill": {
     "duration": 0.010822,
     "end_time": "2024-11-20T07:41:54.453865",
     "exception": false,
     "start_time": "2024-11-20T07:41:54.443043",
     "status": "completed"
    },
    "tags": []
   },
   "outputs": [],
   "source": [
    "def calculate_rates(data, prefix):\n",
    "    data[prefix + '_age_16_to_24_neet_unemployed_rate_sa'] = data[prefix + '_age_16_to_24_neet_unemployed_sa'] / data[prefix + '_age_16_to_24_population'] * 100\n",
    "    data[prefix + '_age_16_to_24_neet_economically_inactive_rate_sa'] = data[prefix + '_age_16_to_24_neet_economically_inactive_sa'] / data[prefix + '_age_16_to_24_population'] * 100\n",
    "    return data\n",
    "  \n",
    "data = data.pipe(\n",
    "    calculate_rates, 'people'\n",
    ").pipe(\n",
    "    calculate_rates, 'men'\n",
    ").pipe(\n",
    "    calculate_rates, 'women'\n",
    ")\n"
   ]
  },
  {
   "cell_type": "code",
   "execution_count": 11,
   "id": "be81dabc",
   "metadata": {
    "execution": {
     "iopub.execute_input": "2024-11-20T07:41:54.459443Z",
     "iopub.status.busy": "2024-11-20T07:41:54.458999Z",
     "iopub.status.idle": "2024-11-20T07:41:54.466101Z",
     "shell.execute_reply": "2024-11-20T07:41:54.465595Z"
    },
    "papermill": {
     "duration": 0.011328,
     "end_time": "2024-11-20T07:41:54.467469",
     "exception": false,
     "start_time": "2024-11-20T07:41:54.456141",
     "status": "completed"
    },
    "tags": []
   },
   "outputs": [],
   "source": [
    "column_order = [\n",
    "  'people_age_16_to_24_neet_total_sa',\n",
    "  'people_age_16_to_24_neet_unemployed_sa',\n",
    "  'people_age_16_to_24_neet_economically_inactive_sa',\n",
    "  'people_age_16_to_24_population',\n",
    "  'people_age_16_to_24_neet_total_rate_sa',\n",
    "  'people_age_16_to_24_neet_unemployed_rate_sa',\n",
    "  'people_age_16_to_24_neet_economically_inactive_rate_sa',\n",
    "  'men_age_16_to_24_neet_total_sa',\n",
    "  'men_age_16_to_24_neet_unemployed_sa',\n",
    "  'men_age_16_to_24_neet_economically_inactive_sa',\n",
    "  'men_age_16_to_24_population',\n",
    "  'men_age_16_to_24_neet_total_rate_sa',\n",
    "  'men_age_16_to_24_neet_unemployed_rate_sa',\n",
    "  'men_age_16_to_24_neet_economically_inactive_rate_sa',\n",
    "  'women_age_16_to_24_neet_total_sa',\n",
    "  'women_age_16_to_24_neet_unemployed_sa',\n",
    "  'women_age_16_to_24_neet_economically_inactive_sa',\n",
    "  'women_age_16_to_24_population',\n",
    "  'women_age_16_to_24_neet_total_rate_sa',\n",
    "  'women_age_16_to_24_neet_unemployed_rate_sa',\n",
    "  'women_age_16_to_24_neet_economically_inactive_rate_sa'\n",
    "]\n",
    "\n",
    "data.loc[:, column_order].to_csv(NEET_16_24)"
   ]
  },
  {
   "cell_type": "code",
   "execution_count": 12,
   "id": "7b2f8b78",
   "metadata": {
    "execution": {
     "iopub.execute_input": "2024-11-20T07:41:54.472783Z",
     "iopub.status.busy": "2024-11-20T07:41:54.472418Z",
     "iopub.status.idle": "2024-11-20T07:41:54.484039Z",
     "shell.execute_reply": "2024-11-20T07:41:54.483414Z"
    },
    "papermill": {
     "duration": 0.015767,
     "end_time": "2024-11-20T07:41:54.485348",
     "exception": false,
     "start_time": "2024-11-20T07:41:54.469581",
     "status": "completed"
    },
    "tags": []
   },
   "outputs": [
    {
     "data": {
      "text/plain": [
       "id                     object\n",
       "last_update    datetime64[ns]\n",
       "next_update            object\n",
       "dtype: object"
      ]
     },
     "execution_count": 12,
     "metadata": {},
     "output_type": "execute_result"
    }
   ],
   "source": [
    "metadata = pd.read_csv(ALL_METADATA, parse_dates=['last_update', 'next_update'])\n",
    "metadata.set_index(\n",
    "    'id'\n",
    ").rename(\n",
    "    columns={\n",
    "        'last_update': 'published'\n",
    "    }\n",
    ").loc['NEET'].to_json(NEET_METADATA, date_format='iso')\n",
    "\n",
    "metadata.dtypes\n"
   ]
  },
  {
   "cell_type": "code",
   "execution_count": null,
   "id": "43575840",
   "metadata": {
    "papermill": {
     "duration": 0.002225,
     "end_time": "2024-11-20T07:41:54.489919",
     "exception": false,
     "start_time": "2024-11-20T07:41:54.487694",
     "status": "completed"
    },
    "tags": []
   },
   "outputs": [],
   "source": []
  },
  {
   "cell_type": "code",
   "execution_count": null,
   "id": "fe9886d0",
   "metadata": {
    "papermill": {
     "duration": 0.00217,
     "end_time": "2024-11-20T07:41:54.494349",
     "exception": false,
     "start_time": "2024-11-20T07:41:54.492179",
     "status": "completed"
    },
    "tags": []
   },
   "outputs": [],
   "source": []
  }
 ],
 "metadata": {
  "kernelspec": {
   "display_name": "yff-data-ansOWYcy",
   "language": "python",
   "name": "python3"
  },
  "language_info": {
   "codemirror_mode": {
    "name": "ipython",
    "version": 3
   },
   "file_extension": ".py",
   "mimetype": "text/x-python",
   "name": "python",
   "nbconvert_exporter": "python",
   "pygments_lexer": "ipython3",
   "version": "3.10.15"
  },
  "papermill": {
   "default_parameters": {},
   "duration": 1.918573,
   "end_time": "2024-11-20T07:41:54.712302",
   "environment_variables": {},
   "exception": null,
   "input_path": "transform.ipynb",
   "output_path": "../../working/output/neet-transform.ipynb",
   "parameters": {},
   "start_time": "2024-11-20T07:41:52.793729",
   "version": "2.5.0"
  }
 },
 "nbformat": 4,
 "nbformat_minor": 5
}