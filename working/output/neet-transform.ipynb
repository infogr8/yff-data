{
 "cells": [
  {
   "cell_type": "code",
   "execution_count": 1,
   "id": "e1030fd1",
   "metadata": {
    "execution": {
     "iopub.execute_input": "2024-07-17T06:39:30.221400Z",
     "iopub.status.busy": "2024-07-17T06:39:30.221110Z",
     "iopub.status.idle": "2024-07-17T06:39:30.544242Z",
     "shell.execute_reply": "2024-07-17T06:39:30.543631Z"
    },
    "papermill": {
     "duration": 0.328371,
     "end_time": "2024-07-17T06:39:30.545827",
     "exception": false,
     "start_time": "2024-07-17T06:39:30.217456",
     "status": "completed"
    },
    "tags": []
   },
   "outputs": [],
   "source": [
    "import os\n",
    "import sys\n",
    "import pandas as pd\n",
    "\n",
    "LIB_DIR = '../../'\n",
    "if LIB_DIR not in sys.path:\n",
    "    sys.path.append(LIB_DIR)"
   ]
  },
  {
   "cell_type": "code",
   "execution_count": 2,
   "id": "a160d6b8",
   "metadata": {
    "execution": {
     "iopub.execute_input": "2024-07-17T06:39:30.551625Z",
     "iopub.status.busy": "2024-07-17T06:39:30.551167Z",
     "iopub.status.idle": "2024-07-17T06:39:30.555928Z",
     "shell.execute_reply": "2024-07-17T06:39:30.555284Z"
    },
    "papermill": {
     "duration": 0.009153,
     "end_time": "2024-07-17T06:39:30.557316",
     "exception": false,
     "start_time": "2024-07-17T06:39:30.548163",
     "status": "completed"
    },
    "tags": []
   },
   "outputs": [],
   "source": [
    "from scripts.util.date import quarter_to_date"
   ]
  },
  {
   "cell_type": "code",
   "execution_count": 3,
   "id": "8268fd9f",
   "metadata": {
    "execution": {
     "iopub.execute_input": "2024-07-17T06:39:30.562597Z",
     "iopub.status.busy": "2024-07-17T06:39:30.562205Z",
     "iopub.status.idle": "2024-07-17T06:39:30.566137Z",
     "shell.execute_reply": "2024-07-17T06:39:30.565433Z"
    },
    "papermill": {
     "duration": 0.008231,
     "end_time": "2024-07-17T06:39:30.567621",
     "exception": false,
     "start_time": "2024-07-17T06:39:30.559390",
     "status": "completed"
    },
    "tags": []
   },
   "outputs": [],
   "source": [
    "NEET_DATA = '../../working/upstream/neet.csv'\n",
    "ALL_METADATA = '../../working/upstream/metadata.csv'\n",
    "NEET_16_24 = '../../data/neet/neet.csv'\n",
    "NEET_METADATA = '../../data/neet/metadata.json'\n",
    "\n",
    "os.makedirs(os.path.dirname(NEET_16_24), exist_ok=True)"
   ]
  },
  {
   "cell_type": "code",
   "execution_count": 4,
   "id": "4cbaba04",
   "metadata": {
    "execution": {
     "iopub.execute_input": "2024-07-17T06:39:30.573005Z",
     "iopub.status.busy": "2024-07-17T06:39:30.572520Z",
     "iopub.status.idle": "2024-07-17T06:39:30.582030Z",
     "shell.execute_reply": "2024-07-17T06:39:30.581438Z"
    },
    "papermill": {
     "duration": 0.013989,
     "end_time": "2024-07-17T06:39:30.583647",
     "exception": false,
     "start_time": "2024-07-17T06:39:30.569658",
     "status": "completed"
    },
    "tags": []
   },
   "outputs": [],
   "source": [
    "data = pd.read_csv('../../working/upstream/neet.csv')"
   ]
  },
  {
   "cell_type": "code",
   "execution_count": 5,
   "id": "80b3267a",
   "metadata": {
    "execution": {
     "iopub.execute_input": "2024-07-17T06:39:30.589236Z",
     "iopub.status.busy": "2024-07-17T06:39:30.588711Z",
     "iopub.status.idle": "2024-07-17T06:39:30.592295Z",
     "shell.execute_reply": "2024-07-17T06:39:30.591582Z"
    },
    "papermill": {
     "duration": 0.007877,
     "end_time": "2024-07-17T06:39:30.593660",
     "exception": false,
     "start_time": "2024-07-17T06:39:30.585783",
     "status": "completed"
    },
    "tags": []
   },
   "outputs": [],
   "source": [
    "variable_mapper = {\n",
    "    'Young people who were NEET_Total': 'age_16_to_24_neet_total_sa',\n",
    "    'Young people who were NEET_Unemployed': 'age_16_to_24_neet_unemployed_sa',\n",
    "    'Young people who were NEET_Economically inactive': 'age_16_to_24_neet_economically_inactive_sa',\n",
    "    'Total people in relevant population group': 'age_16_to_24_population',\n",
    "    'People who were NEET as a percentage of people in relevant population group': 'age_16_to_24_neet_total_rate_sa',\n",
    "}"
   ]
  },
  {
   "cell_type": "code",
   "execution_count": 6,
   "id": "406a5f9f",
   "metadata": {
    "execution": {
     "iopub.execute_input": "2024-07-17T06:39:30.599316Z",
     "iopub.status.busy": "2024-07-17T06:39:30.598684Z",
     "iopub.status.idle": "2024-07-17T06:39:30.603467Z",
     "shell.execute_reply": "2024-07-17T06:39:30.602872Z"
    },
    "papermill": {
     "duration": 0.009078,
     "end_time": "2024-07-17T06:39:30.604845",
     "exception": false,
     "start_time": "2024-07-17T06:39:30.595767",
     "status": "completed"
    },
    "tags": []
   },
   "outputs": [],
   "source": [
    "data = data[data.age == 'Aged 16-24']"
   ]
  },
  {
   "cell_type": "code",
   "execution_count": 7,
   "id": "4e6937d7",
   "metadata": {
    "execution": {
     "iopub.execute_input": "2024-07-17T06:39:30.610199Z",
     "iopub.status.busy": "2024-07-17T06:39:30.609784Z",
     "iopub.status.idle": "2024-07-17T06:39:30.614325Z",
     "shell.execute_reply": "2024-07-17T06:39:30.613766Z"
    },
    "papermill": {
     "duration": 0.008624,
     "end_time": "2024-07-17T06:39:30.615664",
     "exception": false,
     "start_time": "2024-07-17T06:39:30.607040",
     "status": "completed"
    },
    "tags": []
   },
   "outputs": [],
   "source": [
    "data = data.replace({\n",
    "  'measure': variable_mapper\n",
    "})"
   ]
  },
  {
   "cell_type": "code",
   "execution_count": 8,
   "id": "b0a7f889",
   "metadata": {
    "execution": {
     "iopub.execute_input": "2024-07-17T06:39:30.621501Z",
     "iopub.status.busy": "2024-07-17T06:39:30.620991Z",
     "iopub.status.idle": "2024-07-17T06:39:30.631455Z",
     "shell.execute_reply": "2024-07-17T06:39:30.630659Z"
    },
    "papermill": {
     "duration": 0.014962,
     "end_time": "2024-07-17T06:39:30.632841",
     "exception": false,
     "start_time": "2024-07-17T06:39:30.617879",
     "status": "completed"
    },
    "tags": []
   },
   "outputs": [],
   "source": [
    "data['quarter_start'] = pd.Index(data.date.pipe(quarter_to_date))\n",
    "data['variable'] = data.sheet.str.split(' - ').apply(lambda x: x[0]).str.lower() + '_' + data.measure"
   ]
  },
  {
   "cell_type": "code",
   "execution_count": 9,
   "id": "234e8712",
   "metadata": {
    "execution": {
     "iopub.execute_input": "2024-07-17T06:39:30.639051Z",
     "iopub.status.busy": "2024-07-17T06:39:30.638371Z",
     "iopub.status.idle": "2024-07-17T06:39:30.647767Z",
     "shell.execute_reply": "2024-07-17T06:39:30.647022Z"
    },
    "papermill": {
     "duration": 0.014108,
     "end_time": "2024-07-17T06:39:30.649327",
     "exception": false,
     "start_time": "2024-07-17T06:39:30.635219",
     "status": "completed"
    },
    "tags": []
   },
   "outputs": [],
   "source": [
    "data = data.pivot_table(index='quarter_start', columns='variable', values='value')"
   ]
  },
  {
   "cell_type": "code",
   "execution_count": 10,
   "id": "4570a67c",
   "metadata": {
    "execution": {
     "iopub.execute_input": "2024-07-17T06:39:30.655680Z",
     "iopub.status.busy": "2024-07-17T06:39:30.655173Z",
     "iopub.status.idle": "2024-07-17T06:39:30.662320Z",
     "shell.execute_reply": "2024-07-17T06:39:30.661671Z"
    },
    "papermill": {
     "duration": 0.011796,
     "end_time": "2024-07-17T06:39:30.663780",
     "exception": false,
     "start_time": "2024-07-17T06:39:30.651984",
     "status": "completed"
    },
    "tags": []
   },
   "outputs": [],
   "source": [
    "def calculate_rates(data, prefix):\n",
    "    data[prefix + '_age_16_to_24_neet_unemployed_rate_sa'] = data[prefix + '_age_16_to_24_neet_unemployed_sa'] / data[prefix + '_age_16_to_24_population'] * 100\n",
    "    data[prefix + '_age_16_to_24_neet_economically_inactive_rate_sa'] = data[prefix + '_age_16_to_24_neet_economically_inactive_sa'] / data[prefix + '_age_16_to_24_population'] * 100\n",
    "    return data\n",
    "  \n",
    "data = data.pipe(\n",
    "    calculate_rates, 'people'\n",
    ").pipe(\n",
    "    calculate_rates, 'men'\n",
    ").pipe(\n",
    "    calculate_rates, 'women'\n",
    ")\n"
   ]
  },
  {
   "cell_type": "code",
   "execution_count": 11,
   "id": "32a0312e",
   "metadata": {
    "execution": {
     "iopub.execute_input": "2024-07-17T06:39:30.669541Z",
     "iopub.status.busy": "2024-07-17T06:39:30.669110Z",
     "iopub.status.idle": "2024-07-17T06:39:30.677182Z",
     "shell.execute_reply": "2024-07-17T06:39:30.676508Z"
    },
    "papermill": {
     "duration": 0.012697,
     "end_time": "2024-07-17T06:39:30.678762",
     "exception": false,
     "start_time": "2024-07-17T06:39:30.666065",
     "status": "completed"
    },
    "tags": []
   },
   "outputs": [],
   "source": [
    "column_order = [\n",
    "  'people_age_16_to_24_neet_total_sa',\n",
    "  'people_age_16_to_24_neet_unemployed_sa',\n",
    "  'people_age_16_to_24_neet_economically_inactive_sa',\n",
    "  'people_age_16_to_24_population',\n",
    "  'people_age_16_to_24_neet_total_rate_sa',\n",
    "  'people_age_16_to_24_neet_unemployed_rate_sa',\n",
    "  'people_age_16_to_24_neet_economically_inactive_rate_sa',\n",
    "  'men_age_16_to_24_neet_total_sa',\n",
    "  'men_age_16_to_24_neet_unemployed_sa',\n",
    "  'men_age_16_to_24_neet_economically_inactive_sa',\n",
    "  'men_age_16_to_24_population',\n",
    "  'men_age_16_to_24_neet_total_rate_sa',\n",
    "  'men_age_16_to_24_neet_unemployed_rate_sa',\n",
    "  'men_age_16_to_24_neet_economically_inactive_rate_sa',\n",
    "  'women_age_16_to_24_neet_total_sa',\n",
    "  'women_age_16_to_24_neet_unemployed_sa',\n",
    "  'women_age_16_to_24_neet_economically_inactive_sa',\n",
    "  'women_age_16_to_24_population',\n",
    "  'women_age_16_to_24_neet_total_rate_sa',\n",
    "  'women_age_16_to_24_neet_unemployed_rate_sa',\n",
    "  'women_age_16_to_24_neet_economically_inactive_rate_sa'\n",
    "]\n",
    "\n",
    "data.loc[:, column_order].to_csv(NEET_16_24)"
   ]
  },
  {
   "cell_type": "code",
   "execution_count": 12,
   "id": "783eb087",
   "metadata": {
    "execution": {
     "iopub.execute_input": "2024-07-17T06:39:30.684774Z",
     "iopub.status.busy": "2024-07-17T06:39:30.684305Z",
     "iopub.status.idle": "2024-07-17T06:39:30.698016Z",
     "shell.execute_reply": "2024-07-17T06:39:30.697326Z"
    },
    "papermill": {
     "duration": 0.018284,
     "end_time": "2024-07-17T06:39:30.699416",
     "exception": false,
     "start_time": "2024-07-17T06:39:30.681132",
     "status": "completed"
    },
    "tags": []
   },
   "outputs": [
    {
     "data": {
      "text/plain": [
       "id                     object\n",
       "last_update    datetime64[ns]\n",
       "next_update            object\n",
       "dtype: object"
      ]
     },
     "execution_count": 12,
     "metadata": {},
     "output_type": "execute_result"
    }
   ],
   "source": [
    "metadata = pd.read_csv(ALL_METADATA, parse_dates=['last_update', 'next_update'])\n",
    "metadata.set_index(\n",
    "    'id'\n",
    ").rename(\n",
    "    columns={\n",
    "        'last_update': 'published'\n",
    "    }\n",
    ").loc['NEET'].to_json(NEET_METADATA, date_format='iso')\n",
    "\n",
    "metadata.dtypes\n"
   ]
  },
  {
   "cell_type": "code",
   "execution_count": null,
   "id": "c1e23467",
   "metadata": {
    "papermill": {
     "duration": 0.002375,
     "end_time": "2024-07-17T06:39:30.704323",
     "exception": false,
     "start_time": "2024-07-17T06:39:30.701948",
     "status": "completed"
    },
    "tags": []
   },
   "outputs": [],
   "source": []
  },
  {
   "cell_type": "code",
   "execution_count": null,
   "id": "41e9dc55",
   "metadata": {
    "papermill": {
     "duration": 0.002251,
     "end_time": "2024-07-17T06:39:30.708828",
     "exception": false,
     "start_time": "2024-07-17T06:39:30.706577",
     "status": "completed"
    },
    "tags": []
   },
   "outputs": [],
   "source": []
  }
 ],
 "metadata": {
  "kernelspec": {
   "display_name": "yff-data-ansOWYcy",
   "language": "python",
   "name": "python3"
  },
  "language_info": {
   "codemirror_mode": {
    "name": "ipython",
    "version": 3
   },
   "file_extension": ".py",
   "mimetype": "text/x-python",
   "name": "python",
   "nbconvert_exporter": "python",
   "pygments_lexer": "ipython3",
   "version": "3.10.14"
  },
  "papermill": {
   "default_parameters": {},
   "duration": 1.90592,
   "end_time": "2024-07-17T06:39:30.928051",
   "environment_variables": {},
   "exception": null,
   "input_path": "transform.ipynb",
   "output_path": "../../working/output/neet-transform.ipynb",
   "parameters": {},
   "start_time": "2024-07-17T06:39:29.022131",
   "version": "2.5.0"
  }
 },
 "nbformat": 4,
 "nbformat_minor": 5
}