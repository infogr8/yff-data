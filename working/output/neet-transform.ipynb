{
 "cells": [
  {
   "cell_type": "code",
   "execution_count": 1,
   "id": "4802acdf",
   "metadata": {
    "execution": {
     "iopub.execute_input": "2024-09-18T06:47:24.964937Z",
     "iopub.status.busy": "2024-09-18T06:47:24.964659Z",
     "iopub.status.idle": "2024-09-18T06:47:25.308821Z",
     "shell.execute_reply": "2024-09-18T06:47:25.308055Z"
    },
    "papermill": {
     "duration": 0.349927,
     "end_time": "2024-09-18T06:47:25.310809",
     "exception": false,
     "start_time": "2024-09-18T06:47:24.960882",
     "status": "completed"
    },
    "tags": []
   },
   "outputs": [],
   "source": [
    "import os\n",
    "import sys\n",
    "import pandas as pd\n",
    "\n",
    "LIB_DIR = '../../'\n",
    "if LIB_DIR not in sys.path:\n",
    "    sys.path.append(LIB_DIR)"
   ]
  },
  {
   "cell_type": "code",
   "execution_count": 2,
   "id": "4c4bb3dc",
   "metadata": {
    "execution": {
     "iopub.execute_input": "2024-09-18T06:47:25.316632Z",
     "iopub.status.busy": "2024-09-18T06:47:25.316187Z",
     "iopub.status.idle": "2024-09-18T06:47:25.321058Z",
     "shell.execute_reply": "2024-09-18T06:47:25.320364Z"
    },
    "papermill": {
     "duration": 0.009458,
     "end_time": "2024-09-18T06:47:25.322582",
     "exception": false,
     "start_time": "2024-09-18T06:47:25.313124",
     "status": "completed"
    },
    "tags": []
   },
   "outputs": [],
   "source": [
    "from scripts.util.date import quarter_to_date"
   ]
  },
  {
   "cell_type": "code",
   "execution_count": 3,
   "id": "2e5d2622",
   "metadata": {
    "execution": {
     "iopub.execute_input": "2024-09-18T06:47:25.328275Z",
     "iopub.status.busy": "2024-09-18T06:47:25.327721Z",
     "iopub.status.idle": "2024-09-18T06:47:25.331675Z",
     "shell.execute_reply": "2024-09-18T06:47:25.331024Z"
    },
    "papermill": {
     "duration": 0.008348,
     "end_time": "2024-09-18T06:47:25.333036",
     "exception": false,
     "start_time": "2024-09-18T06:47:25.324688",
     "status": "completed"
    },
    "tags": []
   },
   "outputs": [],
   "source": [
    "NEET_DATA = '../../working/upstream/neet.csv'\n",
    "ALL_METADATA = '../../working/upstream/metadata.csv'\n",
    "NEET_16_24 = '../../data/neet/neet.csv'\n",
    "NEET_METADATA = '../../data/neet/metadata.json'\n",
    "\n",
    "os.makedirs(os.path.dirname(NEET_16_24), exist_ok=True)"
   ]
  },
  {
   "cell_type": "code",
   "execution_count": 4,
   "id": "5f01cccf",
   "metadata": {
    "execution": {
     "iopub.execute_input": "2024-09-18T06:47:25.338931Z",
     "iopub.status.busy": "2024-09-18T06:47:25.338369Z",
     "iopub.status.idle": "2024-09-18T06:47:25.348033Z",
     "shell.execute_reply": "2024-09-18T06:47:25.347266Z"
    },
    "papermill": {
     "duration": 0.014701,
     "end_time": "2024-09-18T06:47:25.349924",
     "exception": false,
     "start_time": "2024-09-18T06:47:25.335223",
     "status": "completed"
    },
    "tags": []
   },
   "outputs": [],
   "source": [
    "data = pd.read_csv('../../working/upstream/neet.csv')"
   ]
  },
  {
   "cell_type": "code",
   "execution_count": 5,
   "id": "4e8fb488",
   "metadata": {
    "execution": {
     "iopub.execute_input": "2024-09-18T06:47:25.355719Z",
     "iopub.status.busy": "2024-09-18T06:47:25.355352Z",
     "iopub.status.idle": "2024-09-18T06:47:25.359170Z",
     "shell.execute_reply": "2024-09-18T06:47:25.358485Z"
    },
    "papermill": {
     "duration": 0.008517,
     "end_time": "2024-09-18T06:47:25.360654",
     "exception": false,
     "start_time": "2024-09-18T06:47:25.352137",
     "status": "completed"
    },
    "tags": []
   },
   "outputs": [],
   "source": [
    "variable_mapper = {\n",
    "    'Young people who were NEET_Total': 'age_16_to_24_neet_total_sa',\n",
    "    'Young people who were NEET_Unemployed': 'age_16_to_24_neet_unemployed_sa',\n",
    "    'Young people who were NEET_Economically inactive': 'age_16_to_24_neet_economically_inactive_sa',\n",
    "    'Total people in relevant population group': 'age_16_to_24_population',\n",
    "    'People who were NEET as a percentage of people in relevant population group': 'age_16_to_24_neet_total_rate_sa',\n",
    "}"
   ]
  },
  {
   "cell_type": "code",
   "execution_count": 6,
   "id": "b926700f",
   "metadata": {
    "execution": {
     "iopub.execute_input": "2024-09-18T06:47:25.366961Z",
     "iopub.status.busy": "2024-09-18T06:47:25.366351Z",
     "iopub.status.idle": "2024-09-18T06:47:25.371244Z",
     "shell.execute_reply": "2024-09-18T06:47:25.370623Z"
    },
    "papermill": {
     "duration": 0.009666,
     "end_time": "2024-09-18T06:47:25.372655",
     "exception": false,
     "start_time": "2024-09-18T06:47:25.362989",
     "status": "completed"
    },
    "tags": []
   },
   "outputs": [],
   "source": [
    "data = data[data.age == 'Aged 16-24']"
   ]
  },
  {
   "cell_type": "code",
   "execution_count": 7,
   "id": "78f2f04d",
   "metadata": {
    "execution": {
     "iopub.execute_input": "2024-09-18T06:47:25.378968Z",
     "iopub.status.busy": "2024-09-18T06:47:25.378171Z",
     "iopub.status.idle": "2024-09-18T06:47:25.383063Z",
     "shell.execute_reply": "2024-09-18T06:47:25.382516Z"
    },
    "papermill": {
     "duration": 0.00956,
     "end_time": "2024-09-18T06:47:25.384471",
     "exception": false,
     "start_time": "2024-09-18T06:47:25.374911",
     "status": "completed"
    },
    "tags": []
   },
   "outputs": [],
   "source": [
    "data = data.replace({\n",
    "  'measure': variable_mapper\n",
    "})"
   ]
  },
  {
   "cell_type": "code",
   "execution_count": 8,
   "id": "86b70d76",
   "metadata": {
    "execution": {
     "iopub.execute_input": "2024-09-18T06:47:25.390152Z",
     "iopub.status.busy": "2024-09-18T06:47:25.389845Z",
     "iopub.status.idle": "2024-09-18T06:47:25.400431Z",
     "shell.execute_reply": "2024-09-18T06:47:25.399801Z"
    },
    "papermill": {
     "duration": 0.01514,
     "end_time": "2024-09-18T06:47:25.401884",
     "exception": false,
     "start_time": "2024-09-18T06:47:25.386744",
     "status": "completed"
    },
    "tags": []
   },
   "outputs": [],
   "source": [
    "data['quarter_start'] = pd.Index(data.date.pipe(quarter_to_date))\n",
    "data['variable'] = data.sheet.str.split(' - ').apply(lambda x: x[0]).str.lower() + '_' + data.measure"
   ]
  },
  {
   "cell_type": "code",
   "execution_count": 9,
   "id": "1f9cb47d",
   "metadata": {
    "execution": {
     "iopub.execute_input": "2024-09-18T06:47:25.407866Z",
     "iopub.status.busy": "2024-09-18T06:47:25.407343Z",
     "iopub.status.idle": "2024-09-18T06:47:25.416784Z",
     "shell.execute_reply": "2024-09-18T06:47:25.416166Z"
    },
    "papermill": {
     "duration": 0.014111,
     "end_time": "2024-09-18T06:47:25.418364",
     "exception": false,
     "start_time": "2024-09-18T06:47:25.404253",
     "status": "completed"
    },
    "tags": []
   },
   "outputs": [],
   "source": [
    "data = data.pivot_table(index='quarter_start', columns='variable', values='value')"
   ]
  },
  {
   "cell_type": "code",
   "execution_count": 10,
   "id": "5edd68a6",
   "metadata": {
    "execution": {
     "iopub.execute_input": "2024-09-18T06:47:25.424634Z",
     "iopub.status.busy": "2024-09-18T06:47:25.424178Z",
     "iopub.status.idle": "2024-09-18T06:47:25.431223Z",
     "shell.execute_reply": "2024-09-18T06:47:25.430518Z"
    },
    "papermill": {
     "duration": 0.011745,
     "end_time": "2024-09-18T06:47:25.432583",
     "exception": false,
     "start_time": "2024-09-18T06:47:25.420838",
     "status": "completed"
    },
    "tags": []
   },
   "outputs": [],
   "source": [
    "def calculate_rates(data, prefix):\n",
    "    data[prefix + '_age_16_to_24_neet_unemployed_rate_sa'] = data[prefix + '_age_16_to_24_neet_unemployed_sa'] / data[prefix + '_age_16_to_24_population'] * 100\n",
    "    data[prefix + '_age_16_to_24_neet_economically_inactive_rate_sa'] = data[prefix + '_age_16_to_24_neet_economically_inactive_sa'] / data[prefix + '_age_16_to_24_population'] * 100\n",
    "    return data\n",
    "  \n",
    "data = data.pipe(\n",
    "    calculate_rates, 'people'\n",
    ").pipe(\n",
    "    calculate_rates, 'men'\n",
    ").pipe(\n",
    "    calculate_rates, 'women'\n",
    ")\n"
   ]
  },
  {
   "cell_type": "code",
   "execution_count": 11,
   "id": "efa8a7f6",
   "metadata": {
    "execution": {
     "iopub.execute_input": "2024-09-18T06:47:25.438417Z",
     "iopub.status.busy": "2024-09-18T06:47:25.437961Z",
     "iopub.status.idle": "2024-09-18T06:47:25.445908Z",
     "shell.execute_reply": "2024-09-18T06:47:25.445318Z"
    },
    "papermill": {
     "duration": 0.012398,
     "end_time": "2024-09-18T06:47:25.447256",
     "exception": false,
     "start_time": "2024-09-18T06:47:25.434858",
     "status": "completed"
    },
    "tags": []
   },
   "outputs": [],
   "source": [
    "column_order = [\n",
    "  'people_age_16_to_24_neet_total_sa',\n",
    "  'people_age_16_to_24_neet_unemployed_sa',\n",
    "  'people_age_16_to_24_neet_economically_inactive_sa',\n",
    "  'people_age_16_to_24_population',\n",
    "  'people_age_16_to_24_neet_total_rate_sa',\n",
    "  'people_age_16_to_24_neet_unemployed_rate_sa',\n",
    "  'people_age_16_to_24_neet_economically_inactive_rate_sa',\n",
    "  'men_age_16_to_24_neet_total_sa',\n",
    "  'men_age_16_to_24_neet_unemployed_sa',\n",
    "  'men_age_16_to_24_neet_economically_inactive_sa',\n",
    "  'men_age_16_to_24_population',\n",
    "  'men_age_16_to_24_neet_total_rate_sa',\n",
    "  'men_age_16_to_24_neet_unemployed_rate_sa',\n",
    "  'men_age_16_to_24_neet_economically_inactive_rate_sa',\n",
    "  'women_age_16_to_24_neet_total_sa',\n",
    "  'women_age_16_to_24_neet_unemployed_sa',\n",
    "  'women_age_16_to_24_neet_economically_inactive_sa',\n",
    "  'women_age_16_to_24_population',\n",
    "  'women_age_16_to_24_neet_total_rate_sa',\n",
    "  'women_age_16_to_24_neet_unemployed_rate_sa',\n",
    "  'women_age_16_to_24_neet_economically_inactive_rate_sa'\n",
    "]\n",
    "\n",
    "data.loc[:, column_order].to_csv(NEET_16_24)"
   ]
  },
  {
   "cell_type": "code",
   "execution_count": 12,
   "id": "b6360a13",
   "metadata": {
    "execution": {
     "iopub.execute_input": "2024-09-18T06:47:25.452975Z",
     "iopub.status.busy": "2024-09-18T06:47:25.452516Z",
     "iopub.status.idle": "2024-09-18T06:47:25.465461Z",
     "shell.execute_reply": "2024-09-18T06:47:25.464795Z"
    },
    "papermill": {
     "duration": 0.017313,
     "end_time": "2024-09-18T06:47:25.466819",
     "exception": false,
     "start_time": "2024-09-18T06:47:25.449506",
     "status": "completed"
    },
    "tags": []
   },
   "outputs": [
    {
     "data": {
      "text/plain": [
       "id                     object\n",
       "last_update    datetime64[ns]\n",
       "next_update            object\n",
       "dtype: object"
      ]
     },
     "execution_count": 12,
     "metadata": {},
     "output_type": "execute_result"
    }
   ],
   "source": [
    "metadata = pd.read_csv(ALL_METADATA, parse_dates=['last_update', 'next_update'])\n",
    "metadata.set_index(\n",
    "    'id'\n",
    ").rename(\n",
    "    columns={\n",
    "        'last_update': 'published'\n",
    "    }\n",
    ").loc['NEET'].to_json(NEET_METADATA, date_format='iso')\n",
    "\n",
    "metadata.dtypes\n"
   ]
  },
  {
   "cell_type": "code",
   "execution_count": null,
   "id": "377324d1",
   "metadata": {
    "papermill": {
     "duration": 0.002418,
     "end_time": "2024-09-18T06:47:25.471767",
     "exception": false,
     "start_time": "2024-09-18T06:47:25.469349",
     "status": "completed"
    },
    "tags": []
   },
   "outputs": [],
   "source": []
  },
  {
   "cell_type": "code",
   "execution_count": null,
   "id": "f596907d",
   "metadata": {
    "papermill": {
     "duration": 0.002201,
     "end_time": "2024-09-18T06:47:25.476276",
     "exception": false,
     "start_time": "2024-09-18T06:47:25.474075",
     "status": "completed"
    },
    "tags": []
   },
   "outputs": [],
   "source": []
  }
 ],
 "metadata": {
  "kernelspec": {
   "display_name": "yff-data-ansOWYcy",
   "language": "python",
   "name": "python3"
  },
  "language_info": {
   "codemirror_mode": {
    "name": "ipython",
    "version": 3
   },
   "file_extension": ".py",
   "mimetype": "text/x-python",
   "name": "python",
   "nbconvert_exporter": "python",
   "pygments_lexer": "ipython3",
   "version": "3.10.14"
  },
  "papermill": {
   "default_parameters": {},
   "duration": 2.03495,
   "end_time": "2024-09-18T06:47:25.795944",
   "environment_variables": {},
   "exception": null,
   "input_path": "transform.ipynb",
   "output_path": "../../working/output/neet-transform.ipynb",
   "parameters": {},
   "start_time": "2024-09-18T06:47:23.760994",
   "version": "2.5.0"
  }
 },
 "nbformat": 4,
 "nbformat_minor": 5
}