{
 "cells": [
  {
   "cell_type": "code",
   "execution_count": 1,
   "id": "2bb4afa0",
   "metadata": {
    "execution": {
     "iopub.execute_input": "2024-08-13T06:44:27.844053Z",
     "iopub.status.busy": "2024-08-13T06:44:27.843865Z",
     "iopub.status.idle": "2024-08-13T06:44:28.141507Z",
     "shell.execute_reply": "2024-08-13T06:44:28.140937Z"
    },
    "papermill": {
     "duration": 0.301725,
     "end_time": "2024-08-13T06:44:28.143166",
     "exception": false,
     "start_time": "2024-08-13T06:44:27.841441",
     "status": "completed"
    },
    "tags": []
   },
   "outputs": [],
   "source": [
    "import pandas as pd"
   ]
  },
  {
   "cell_type": "markdown",
   "id": "1fc849e2",
   "metadata": {
    "papermill": {
     "duration": 0.001123,
     "end_time": "2024-08-13T06:44:28.145744",
     "exception": false,
     "start_time": "2024-08-13T06:44:28.144621",
     "status": "completed"
    },
    "tags": []
   },
   "source": [
    "Duplicating VACS02"
   ]
  },
  {
   "cell_type": "code",
   "execution_count": 2,
   "id": "7dda9770",
   "metadata": {
    "execution": {
     "iopub.execute_input": "2024-08-13T06:44:28.149224Z",
     "iopub.status.busy": "2024-08-13T06:44:28.148763Z",
     "iopub.status.idle": "2024-08-13T06:44:28.152637Z",
     "shell.execute_reply": "2024-08-13T06:44:28.151984Z"
    },
    "papermill": {
     "duration": 0.007057,
     "end_time": "2024-08-13T06:44:28.153931",
     "exception": false,
     "start_time": "2024-08-13T06:44:28.146874",
     "status": "completed"
    },
    "tags": []
   },
   "outputs": [],
   "source": [
    "levels = [\n",
    "    'AP2Y', 'JP9H', 'JP9I', 'JP9J', 'JP9K', 'JP9L', 'JP9M', 'JP9N', 'JP9O', 'JP9P', 'JP9Q', 'JP9R', 'JP9S', 'JP9T', 'JP9U', 'JP9V', 'JP9W', 'JP9X', 'JP9Y', 'JP9Z'\n",
    "]\n",
    "ratios = [\n",
    "    'AP2Z', 'JPA2', 'JPA3', 'JPA4', 'JPA5', 'JPA6', 'JPA7', 'JPA8', 'JPA9', 'JPB2', 'JPB3', 'JPB4', 'JPB5', 'JPB6', 'JPB7', 'JPB8', 'JPB9', 'JPC2', 'JPC3', 'JPC4'\n",
    "]"
   ]
  },
  {
   "cell_type": "code",
   "execution_count": 3,
   "id": "ae4a86e2",
   "metadata": {
    "execution": {
     "iopub.execute_input": "2024-08-13T06:44:28.157443Z",
     "iopub.status.busy": "2024-08-13T06:44:28.156983Z",
     "iopub.status.idle": "2024-08-13T06:44:28.219739Z",
     "shell.execute_reply": "2024-08-13T06:44:28.219160Z"
    },
    "papermill": {
     "duration": 0.066117,
     "end_time": "2024-08-13T06:44:28.221224",
     "exception": false,
     "start_time": "2024-08-13T06:44:28.155107",
     "status": "completed"
    },
    "tags": []
   },
   "outputs": [],
   "source": [
    "data = pd.read_csv('../../working/upstream/unem.csv')\n",
    "codes = pd.read_csv('../../working/upstream/unem-codes.csv', index_col=['CDID'], parse_dates=['Release Date', 'Next release'])\n",
    "data = data.loc[data.variable.isin(levels + ratios)]\n",
    "data = data.merge(codes, left_on='variable', right_index=True)"
   ]
  },
  {
   "cell_type": "code",
   "execution_count": 4,
   "id": "b7d7d462",
   "metadata": {
    "execution": {
     "iopub.execute_input": "2024-08-13T06:44:28.225901Z",
     "iopub.status.busy": "2024-08-13T06:44:28.225505Z",
     "iopub.status.idle": "2024-08-13T06:44:28.232540Z",
     "shell.execute_reply": "2024-08-13T06:44:28.232003Z"
    },
    "papermill": {
     "duration": 0.01132,
     "end_time": "2024-08-13T06:44:28.233867",
     "exception": false,
     "start_time": "2024-08-13T06:44:28.222547",
     "status": "completed"
    },
    "tags": []
   },
   "outputs": [],
   "source": [
    "vacancies_by_date = data.loc[\n",
    "    data.variable=='AP2Y',\n",
    "    ['variable', 'value', 'date', 'freq']\n",
    "].rename(\n",
    "    columns={'variable': 'code'}\n",
    ")\n",
    "\n",
    "vacancies_by_date.to_csv('../../data/vacancies/vacancies_by_date.csv', index=False)"
   ]
  },
  {
   "cell_type": "code",
   "execution_count": null,
   "id": "74c17be8",
   "metadata": {
    "papermill": {
     "duration": 0.001255,
     "end_time": "2024-08-13T06:44:28.236371",
     "exception": false,
     "start_time": "2024-08-13T06:44:28.235116",
     "status": "completed"
    },
    "tags": []
   },
   "outputs": [],
   "source": []
  }
 ],
 "metadata": {
  "kernelspec": {
   "display_name": "yff-data-ansOWYcy",
   "language": "python",
   "name": "python3"
  },
  "language_info": {
   "codemirror_mode": {
    "name": "ipython",
    "version": 3
   },
   "file_extension": ".py",
   "mimetype": "text/x-python",
   "name": "python",
   "nbconvert_exporter": "python",
   "pygments_lexer": "ipython3",
   "version": "3.10.14"
  },
  "papermill": {
   "default_parameters": {},
   "duration": 1.809263,
   "end_time": "2024-08-13T06:44:28.453115",
   "environment_variables": {},
   "exception": null,
   "input_path": "transform.ipynb",
   "output_path": "../../working/output/vacancies-transform.ipynb",
   "parameters": {},
   "start_time": "2024-08-13T06:44:26.643852",
   "version": "2.5.0"
  }
 },
 "nbformat": 4,
 "nbformat_minor": 5
}