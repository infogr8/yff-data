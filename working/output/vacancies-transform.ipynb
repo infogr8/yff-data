{
 "cells": [
  {
   "cell_type": "code",
   "execution_count": 1,
   "id": "7a41b1d8",
   "metadata": {
    "execution": {
     "iopub.execute_input": "2024-06-14T06:37:47.654265Z",
     "iopub.status.busy": "2024-06-14T06:37:47.654017Z",
     "iopub.status.idle": "2024-06-14T06:37:47.960965Z",
     "shell.execute_reply": "2024-06-14T06:37:47.960391Z"
    },
    "papermill": {
     "duration": 0.311269,
     "end_time": "2024-06-14T06:37:47.962599",
     "exception": false,
     "start_time": "2024-06-14T06:37:47.651330",
     "status": "completed"
    },
    "tags": []
   },
   "outputs": [],
   "source": [
    "import pandas as pd"
   ]
  },
  {
   "cell_type": "markdown",
   "id": "3ea2892e",
   "metadata": {
    "papermill": {
     "duration": 0.001118,
     "end_time": "2024-06-14T06:37:47.965102",
     "exception": false,
     "start_time": "2024-06-14T06:37:47.963984",
     "status": "completed"
    },
    "tags": []
   },
   "source": [
    "Duplicating VACS02"
   ]
  },
  {
   "cell_type": "code",
   "execution_count": 2,
   "id": "26107787",
   "metadata": {
    "execution": {
     "iopub.execute_input": "2024-06-14T06:37:47.968550Z",
     "iopub.status.busy": "2024-06-14T06:37:47.968085Z",
     "iopub.status.idle": "2024-06-14T06:37:47.971938Z",
     "shell.execute_reply": "2024-06-14T06:37:47.971381Z"
    },
    "papermill": {
     "duration": 0.006952,
     "end_time": "2024-06-14T06:37:47.973169",
     "exception": false,
     "start_time": "2024-06-14T06:37:47.966217",
     "status": "completed"
    },
    "tags": []
   },
   "outputs": [],
   "source": [
    "levels = [\n",
    "    'AP2Y', 'JP9H', 'JP9I', 'JP9J', 'JP9K', 'JP9L', 'JP9M', 'JP9N', 'JP9O', 'JP9P', 'JP9Q', 'JP9R', 'JP9S', 'JP9T', 'JP9U', 'JP9V', 'JP9W', 'JP9X', 'JP9Y', 'JP9Z'\n",
    "]\n",
    "ratios = [\n",
    "    'AP2Z', 'JPA2', 'JPA3', 'JPA4', 'JPA5', 'JPA6', 'JPA7', 'JPA8', 'JPA9', 'JPB2', 'JPB3', 'JPB4', 'JPB5', 'JPB6', 'JPB7', 'JPB8', 'JPB9', 'JPC2', 'JPC3', 'JPC4'\n",
    "]"
   ]
  },
  {
   "cell_type": "code",
   "execution_count": 3,
   "id": "45fcf866",
   "metadata": {
    "execution": {
     "iopub.execute_input": "2024-06-14T06:37:47.976526Z",
     "iopub.status.busy": "2024-06-14T06:37:47.976095Z",
     "iopub.status.idle": "2024-06-14T06:37:48.037488Z",
     "shell.execute_reply": "2024-06-14T06:37:48.036777Z"
    },
    "papermill": {
     "duration": 0.064792,
     "end_time": "2024-06-14T06:37:48.039118",
     "exception": false,
     "start_time": "2024-06-14T06:37:47.974326",
     "status": "completed"
    },
    "tags": []
   },
   "outputs": [],
   "source": [
    "data = pd.read_csv('../../working/upstream/unem.csv')\n",
    "codes = pd.read_csv('../../working/upstream/unem-codes.csv', index_col=['CDID'], parse_dates=['Release Date', 'Next release'])\n",
    "data = data.loc[data.variable.isin(levels + ratios)]\n",
    "data = data.merge(codes, left_on='variable', right_index=True)"
   ]
  },
  {
   "cell_type": "code",
   "execution_count": 4,
   "id": "cf91f4d6",
   "metadata": {
    "execution": {
     "iopub.execute_input": "2024-06-14T06:37:48.043743Z",
     "iopub.status.busy": "2024-06-14T06:37:48.043291Z",
     "iopub.status.idle": "2024-06-14T06:37:48.050347Z",
     "shell.execute_reply": "2024-06-14T06:37:48.049849Z"
    },
    "papermill": {
     "duration": 0.011117,
     "end_time": "2024-06-14T06:37:48.051601",
     "exception": false,
     "start_time": "2024-06-14T06:37:48.040484",
     "status": "completed"
    },
    "tags": []
   },
   "outputs": [],
   "source": [
    "vacancies_by_date = data.loc[\n",
    "    data.variable=='AP2Y',\n",
    "    ['variable', 'value', 'date', 'freq']\n",
    "].rename(\n",
    "    columns={'variable': 'code'}\n",
    ")\n",
    "\n",
    "vacancies_by_date.to_csv('../../data/vacancies/vacancies_by_date.csv', index=False)"
   ]
  },
  {
   "cell_type": "code",
   "execution_count": null,
   "id": "fe684087",
   "metadata": {
    "papermill": {
     "duration": 0.001195,
     "end_time": "2024-06-14T06:37:48.054082",
     "exception": false,
     "start_time": "2024-06-14T06:37:48.052887",
     "status": "completed"
    },
    "tags": []
   },
   "outputs": [],
   "source": []
  }
 ],
 "metadata": {
  "kernelspec": {
   "display_name": "yff-data-ansOWYcy",
   "language": "python",
   "name": "python3"
  },
  "language_info": {
   "codemirror_mode": {
    "name": "ipython",
    "version": 3
   },
   "file_extension": ".py",
   "mimetype": "text/x-python",
   "name": "python",
   "nbconvert_exporter": "python",
   "pygments_lexer": "ipython3",
   "version": "3.10.14"
  },
  "papermill": {
   "default_parameters": {},
   "duration": 1.978999,
   "end_time": "2024-06-14T06:37:48.270762",
   "environment_variables": {},
   "exception": null,
   "input_path": "transform.ipynb",
   "output_path": "../../working/output/vacancies-transform.ipynb",
   "parameters": {},
   "start_time": "2024-06-14T06:37:46.291763",
   "version": "2.5.0"
  }
 },
 "nbformat": 4,
 "nbformat_minor": 5
}