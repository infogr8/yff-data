{
 "cells": [
  {
   "cell_type": "code",
   "execution_count": 1,
   "id": "6cb196ad",
   "metadata": {
    "execution": {
     "iopub.execute_input": "2024-10-15T06:53:09.539229Z",
     "iopub.status.busy": "2024-10-15T06:53:09.538972Z",
     "iopub.status.idle": "2024-10-15T06:53:09.842245Z",
     "shell.execute_reply": "2024-10-15T06:53:09.841660Z"
    },
    "papermill": {
     "duration": 0.307679,
     "end_time": "2024-10-15T06:53:09.843898",
     "exception": false,
     "start_time": "2024-10-15T06:53:09.536219",
     "status": "completed"
    },
    "tags": []
   },
   "outputs": [],
   "source": [
    "import pandas as pd"
   ]
  },
  {
   "cell_type": "markdown",
   "id": "1fea6cdd",
   "metadata": {
    "papermill": {
     "duration": 0.001143,
     "end_time": "2024-10-15T06:53:09.846413",
     "exception": false,
     "start_time": "2024-10-15T06:53:09.845270",
     "status": "completed"
    },
    "tags": []
   },
   "source": [
    "Duplicating VACS02"
   ]
  },
  {
   "cell_type": "code",
   "execution_count": 2,
   "id": "8a16e903",
   "metadata": {
    "execution": {
     "iopub.execute_input": "2024-10-15T06:53:09.849696Z",
     "iopub.status.busy": "2024-10-15T06:53:09.849410Z",
     "iopub.status.idle": "2024-10-15T06:53:09.853553Z",
     "shell.execute_reply": "2024-10-15T06:53:09.852849Z"
    },
    "papermill": {
     "duration": 0.007336,
     "end_time": "2024-10-15T06:53:09.854892",
     "exception": false,
     "start_time": "2024-10-15T06:53:09.847556",
     "status": "completed"
    },
    "tags": []
   },
   "outputs": [],
   "source": [
    "levels = [\n",
    "    'AP2Y', 'JP9H', 'JP9I', 'JP9J', 'JP9K', 'JP9L', 'JP9M', 'JP9N', 'JP9O', 'JP9P', 'JP9Q', 'JP9R', 'JP9S', 'JP9T', 'JP9U', 'JP9V', 'JP9W', 'JP9X', 'JP9Y', 'JP9Z'\n",
    "]\n",
    "ratios = [\n",
    "    'AP2Z', 'JPA2', 'JPA3', 'JPA4', 'JPA5', 'JPA6', 'JPA7', 'JPA8', 'JPA9', 'JPB2', 'JPB3', 'JPB4', 'JPB5', 'JPB6', 'JPB7', 'JPB8', 'JPB9', 'JPC2', 'JPC3', 'JPC4'\n",
    "]"
   ]
  },
  {
   "cell_type": "code",
   "execution_count": 3,
   "id": "66d0ff53",
   "metadata": {
    "execution": {
     "iopub.execute_input": "2024-10-15T06:53:09.858362Z",
     "iopub.status.busy": "2024-10-15T06:53:09.857909Z",
     "iopub.status.idle": "2024-10-15T06:53:09.916769Z",
     "shell.execute_reply": "2024-10-15T06:53:09.916039Z"
    },
    "papermill": {
     "duration": 0.062376,
     "end_time": "2024-10-15T06:53:09.918461",
     "exception": false,
     "start_time": "2024-10-15T06:53:09.856085",
     "status": "completed"
    },
    "tags": []
   },
   "outputs": [],
   "source": [
    "data = pd.read_csv('../../working/upstream/unem.csv')\n",
    "codes = pd.read_csv('../../working/upstream/unem-codes.csv', index_col=['CDID'], parse_dates=['Release Date', 'Next release'])\n",
    "data = data.loc[data.variable.isin(levels + ratios)]\n",
    "data = data.merge(codes, left_on='variable', right_index=True)"
   ]
  },
  {
   "cell_type": "code",
   "execution_count": 4,
   "id": "94622297",
   "metadata": {
    "execution": {
     "iopub.execute_input": "2024-10-15T06:53:09.923380Z",
     "iopub.status.busy": "2024-10-15T06:53:09.922869Z",
     "iopub.status.idle": "2024-10-15T06:53:09.930344Z",
     "shell.execute_reply": "2024-10-15T06:53:09.929833Z"
    },
    "papermill": {
     "duration": 0.011831,
     "end_time": "2024-10-15T06:53:09.931736",
     "exception": false,
     "start_time": "2024-10-15T06:53:09.919905",
     "status": "completed"
    },
    "tags": []
   },
   "outputs": [],
   "source": [
    "vacancies_by_date = data.loc[\n",
    "    data.variable=='AP2Y',\n",
    "    ['variable', 'value', 'date', 'freq']\n",
    "].rename(\n",
    "    columns={'variable': 'code'}\n",
    ")\n",
    "\n",
    "vacancies_by_date.to_csv('../../data/vacancies/vacancies_by_date.csv', index=False)"
   ]
  },
  {
   "cell_type": "code",
   "execution_count": null,
   "id": "743534e6",
   "metadata": {
    "papermill": {
     "duration": 0.001232,
     "end_time": "2024-10-15T06:53:09.934276",
     "exception": false,
     "start_time": "2024-10-15T06:53:09.933044",
     "status": "completed"
    },
    "tags": []
   },
   "outputs": [],
   "source": []
  }
 ],
 "metadata": {
  "kernelspec": {
   "display_name": "yff-data-ansOWYcy",
   "language": "python",
   "name": "python3"
  },
  "language_info": {
   "codemirror_mode": {
    "name": "ipython",
    "version": 3
   },
   "file_extension": ".py",
   "mimetype": "text/x-python",
   "name": "python",
   "nbconvert_exporter": "python",
   "pygments_lexer": "ipython3",
   "version": "3.10.15"
  },
  "papermill": {
   "default_parameters": {},
   "duration": 1.785439,
   "end_time": "2024-10-15T06:53:10.152651",
   "environment_variables": {},
   "exception": null,
   "input_path": "transform.ipynb",
   "output_path": "../../working/output/vacancies-transform.ipynb",
   "parameters": {},
   "start_time": "2024-10-15T06:53:08.367212",
   "version": "2.5.0"
  }
 },
 "nbformat": 4,
 "nbformat_minor": 5
}