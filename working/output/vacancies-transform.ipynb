{
 "cells": [
  {
   "cell_type": "code",
   "execution_count": 1,
   "id": "3b421af1",
   "metadata": {
    "execution": {
     "iopub.execute_input": "2024-02-07T16:50:55.770926Z",
     "iopub.status.busy": "2024-02-07T16:50:55.770594Z",
     "iopub.status.idle": "2024-02-07T16:50:55.934624Z",
     "shell.execute_reply": "2024-02-07T16:50:55.934186Z"
    },
    "papermill": {
     "duration": 0.17035,
     "end_time": "2024-02-07T16:50:55.935687",
     "exception": false,
     "start_time": "2024-02-07T16:50:55.765337",
     "status": "completed"
    },
    "tags": []
   },
   "outputs": [],
   "source": [
    "import pandas as pd"
   ]
  },
  {
   "cell_type": "markdown",
   "id": "3c1488bc",
   "metadata": {
    "papermill": {
     "duration": 0.00069,
     "end_time": "2024-02-07T16:50:55.937209",
     "exception": false,
     "start_time": "2024-02-07T16:50:55.936519",
     "status": "completed"
    },
    "tags": []
   },
   "source": [
    "Duplicating VACS02"
   ]
  },
  {
   "cell_type": "code",
   "execution_count": 2,
   "id": "44edfb9b",
   "metadata": {
    "execution": {
     "iopub.execute_input": "2024-02-07T16:50:55.939191Z",
     "iopub.status.busy": "2024-02-07T16:50:55.939004Z",
     "iopub.status.idle": "2024-02-07T16:50:55.941372Z",
     "shell.execute_reply": "2024-02-07T16:50:55.941092Z"
    },
    "papermill": {
     "duration": 0.004345,
     "end_time": "2024-02-07T16:50:55.942194",
     "exception": false,
     "start_time": "2024-02-07T16:50:55.937849",
     "status": "completed"
    },
    "tags": []
   },
   "outputs": [],
   "source": [
    "levels = [\n",
    "    'AP2Y', 'JP9H', 'JP9I', 'JP9J', 'JP9K', 'JP9L', 'JP9M', 'JP9N', 'JP9O', 'JP9P', 'JP9Q', 'JP9R', 'JP9S', 'JP9T', 'JP9U', 'JP9V', 'JP9W', 'JP9X', 'JP9Y', 'JP9Z'\n",
    "]\n",
    "ratios = [\n",
    "    'AP2Z', 'JPA2', 'JPA3', 'JPA4', 'JPA5', 'JPA6', 'JPA7', 'JPA8', 'JPA9', 'JPB2', 'JPB3', 'JPB4', 'JPB5', 'JPB6', 'JPB7', 'JPB8', 'JPB9', 'JPC2', 'JPC3', 'JPC4'\n",
    "]"
   ]
  },
  {
   "cell_type": "code",
   "execution_count": 3,
   "id": "3a25e17d",
   "metadata": {
    "execution": {
     "iopub.execute_input": "2024-02-07T16:50:55.944168Z",
     "iopub.status.busy": "2024-02-07T16:50:55.944040Z",
     "iopub.status.idle": "2024-02-07T16:50:55.987298Z",
     "shell.execute_reply": "2024-02-07T16:50:55.986973Z"
    },
    "papermill": {
     "duration": 0.04515,
     "end_time": "2024-02-07T16:50:55.988029",
     "exception": false,
     "start_time": "2024-02-07T16:50:55.942879",
     "status": "completed"
    },
    "tags": []
   },
   "outputs": [
    {
     "name": "stderr",
     "output_type": "stream",
     "text": [
      "/tmp/ipykernel_309502/2101734166.py:2: UserWarning: Parsing dates in %d-%m-%Y format when dayfirst=False (the default) was specified. Pass `dayfirst=True` or specify a format to silence this warning.\n",
      "  codes = pd.read_csv('../../working/upstream/unem-codes.csv', index_col=['CDID'], parse_dates=['Release Date', 'Next release'])\n"
     ]
    }
   ],
   "source": [
    "data = pd.read_csv('../../working/upstream/unem.csv')\n",
    "codes = pd.read_csv('../../working/upstream/unem-codes.csv', index_col=['CDID'], parse_dates=['Release Date', 'Next release'])\n",
    "data = data.loc[data.variable.isin(levels + ratios)]\n",
    "data = data.merge(codes, left_on='variable', right_index=True)"
   ]
  },
  {
   "cell_type": "code",
   "execution_count": 4,
   "id": "d4fb991b",
   "metadata": {
    "execution": {
     "iopub.execute_input": "2024-02-07T16:50:55.990380Z",
     "iopub.status.busy": "2024-02-07T16:50:55.990217Z",
     "iopub.status.idle": "2024-02-07T16:50:55.994829Z",
     "shell.execute_reply": "2024-02-07T16:50:55.994510Z"
    },
    "papermill": {
     "duration": 0.006754,
     "end_time": "2024-02-07T16:50:55.995632",
     "exception": false,
     "start_time": "2024-02-07T16:50:55.988878",
     "status": "completed"
    },
    "tags": []
   },
   "outputs": [],
   "source": [
    "vacancies_by_date = data.loc[\n",
    "    data.variable=='AP2Y',\n",
    "    ['variable', 'value', 'date', 'freq']\n",
    "].rename(\n",
    "    columns={'variable': 'code'}\n",
    ")\n",
    "\n",
    "vacancies_by_date.to_csv('../../data/vacancies/vacancies_by_date.csv', index=False)"
   ]
  },
  {
   "cell_type": "code",
   "execution_count": null,
   "id": "2235730d",
   "metadata": {
    "papermill": {
     "duration": 0.000753,
     "end_time": "2024-02-07T16:50:55.997179",
     "exception": false,
     "start_time": "2024-02-07T16:50:55.996426",
     "status": "completed"
    },
    "tags": []
   },
   "outputs": [],
   "source": []
  }
 ],
 "metadata": {
  "kernelspec": {
   "display_name": "yff-data-ansOWYcy",
   "language": "python",
   "name": "python3"
  },
  "language_info": {
   "codemirror_mode": {
    "name": "ipython",
    "version": 3
   },
   "file_extension": ".py",
   "mimetype": "text/x-python",
   "name": "python",
   "nbconvert_exporter": "python",
   "pygments_lexer": "ipython3",
   "version": "3.10.12"
  },
  "papermill": {
   "default_parameters": {},
   "duration": 1.151406,
   "end_time": "2024-02-07T16:50:56.215232",
   "environment_variables": {},
   "exception": null,
   "input_path": "transform.ipynb",
   "output_path": "../../working/output/vacancies-transform.ipynb",
   "parameters": {},
   "start_time": "2024-02-07T16:50:55.063826",
   "version": "2.4.0"
  }
 },
 "nbformat": 4,
 "nbformat_minor": 5
}