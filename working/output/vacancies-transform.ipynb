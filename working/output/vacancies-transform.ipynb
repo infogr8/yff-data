{
 "cells": [
  {
   "cell_type": "code",
   "execution_count": 1,
   "id": "55f6db97",
   "metadata": {
    "execution": {
     "iopub.execute_input": "2025-04-15T08:26:25.702717Z",
     "iopub.status.busy": "2025-04-15T08:26:25.702052Z",
     "iopub.status.idle": "2025-04-15T08:26:26.054310Z",
     "shell.execute_reply": "2025-04-15T08:26:26.053597Z"
    },
    "papermill": {
     "duration": 0.357023,
     "end_time": "2025-04-15T08:26:26.056058",
     "exception": false,
     "start_time": "2025-04-15T08:26:25.699035",
     "status": "completed"
    },
    "tags": []
   },
   "outputs": [],
   "source": [
    "import pandas as pd"
   ]
  },
  {
   "cell_type": "markdown",
   "id": "45e8bbef",
   "metadata": {
    "papermill": {
     "duration": 0.001181,
     "end_time": "2025-04-15T08:26:26.058652",
     "exception": false,
     "start_time": "2025-04-15T08:26:26.057471",
     "status": "completed"
    },
    "tags": []
   },
   "source": [
    "Duplicating VACS02"
   ]
  },
  {
   "cell_type": "code",
   "execution_count": 2,
   "id": "8de49db7",
   "metadata": {
    "execution": {
     "iopub.execute_input": "2025-04-15T08:26:26.062534Z",
     "iopub.status.busy": "2025-04-15T08:26:26.061944Z",
     "iopub.status.idle": "2025-04-15T08:26:26.066139Z",
     "shell.execute_reply": "2025-04-15T08:26:26.065474Z"
    },
    "papermill": {
     "duration": 0.007786,
     "end_time": "2025-04-15T08:26:26.067574",
     "exception": false,
     "start_time": "2025-04-15T08:26:26.059788",
     "status": "completed"
    },
    "tags": []
   },
   "outputs": [],
   "source": [
    "levels = [\n",
    "    'AP2Y', 'JP9H', 'JP9I', 'JP9J', 'JP9K', 'JP9L', 'JP9M', 'JP9N', 'JP9O', 'JP9P', 'JP9Q', 'JP9R', 'JP9S', 'JP9T', 'JP9U', 'JP9V', 'JP9W', 'JP9X', 'JP9Y', 'JP9Z'\n",
    "]\n",
    "ratios = [\n",
    "    'AP2Z', 'JPA2', 'JPA3', 'JPA4', 'JPA5', 'JPA6', 'JPA7', 'JPA8', 'JPA9', 'JPB2', 'JPB3', 'JPB4', 'JPB5', 'JPB6', 'JPB7', 'JPB8', 'JPB9', 'JPC2', 'JPC3', 'JPC4'\n",
    "]"
   ]
  },
  {
   "cell_type": "code",
   "execution_count": 3,
   "id": "46cbea69",
   "metadata": {
    "execution": {
     "iopub.execute_input": "2025-04-15T08:26:26.071428Z",
     "iopub.status.busy": "2025-04-15T08:26:26.070988Z",
     "iopub.status.idle": "2025-04-15T08:26:26.132514Z",
     "shell.execute_reply": "2025-04-15T08:26:26.131901Z"
    },
    "papermill": {
     "duration": 0.065327,
     "end_time": "2025-04-15T08:26:26.134244",
     "exception": false,
     "start_time": "2025-04-15T08:26:26.068917",
     "status": "completed"
    },
    "tags": []
   },
   "outputs": [],
   "source": [
    "data = pd.read_csv('../../working/upstream/unem.csv')\n",
    "codes = pd.read_csv('../../working/upstream/unem-codes.csv', index_col=['CDID'], parse_dates=['Release Date', 'Next release'])\n",
    "data = data.loc[data.variable.isin(levels + ratios)]\n",
    "data = data.merge(codes, left_on='variable', right_index=True)"
   ]
  },
  {
   "cell_type": "code",
   "execution_count": 4,
   "id": "486bdaae",
   "metadata": {
    "execution": {
     "iopub.execute_input": "2025-04-15T08:26:26.138403Z",
     "iopub.status.busy": "2025-04-15T08:26:26.137931Z",
     "iopub.status.idle": "2025-04-15T08:26:26.145993Z",
     "shell.execute_reply": "2025-04-15T08:26:26.145470Z"
    },
    "papermill": {
     "duration": 0.011772,
     "end_time": "2025-04-15T08:26:26.147464",
     "exception": false,
     "start_time": "2025-04-15T08:26:26.135692",
     "status": "completed"
    },
    "tags": []
   },
   "outputs": [],
   "source": [
    "vacancies_by_date = data.loc[\n",
    "    data.variable=='AP2Y',\n",
    "    ['variable', 'value', 'date', 'freq']\n",
    "].rename(\n",
    "    columns={'variable': 'code'}\n",
    ")\n",
    "\n",
    "vacancies_by_date.to_csv('../../data/vacancies/vacancies_by_date.csv', index=False)"
   ]
  },
  {
   "cell_type": "code",
   "execution_count": null,
   "id": "14eecbf5",
   "metadata": {
    "papermill": {
     "duration": 0.001186,
     "end_time": "2025-04-15T08:26:26.149977",
     "exception": false,
     "start_time": "2025-04-15T08:26:26.148791",
     "status": "completed"
    },
    "tags": []
   },
   "outputs": [],
   "source": []
  }
 ],
 "metadata": {
  "kernelspec": {
   "display_name": "yff-data-ansOWYcy",
   "language": "python",
   "name": "python3"
  },
  "language_info": {
   "codemirror_mode": {
    "name": "ipython",
    "version": 3
   },
   "file_extension": ".py",
   "mimetype": "text/x-python",
   "name": "python",
   "nbconvert_exporter": "python",
   "pygments_lexer": "ipython3",
   "version": "3.10.16"
  },
  "papermill": {
   "default_parameters": {},
   "duration": 2.199226,
   "end_time": "2025-04-15T08:26:26.367410",
   "environment_variables": {},
   "exception": null,
   "input_path": "transform.ipynb",
   "output_path": "../../working/output/vacancies-transform.ipynb",
   "parameters": {},
   "start_time": "2025-04-15T08:26:24.168184",
   "version": "2.5.0"
  }
 },
 "nbformat": 4,
 "nbformat_minor": 5
}