{
 "cells": [
  {
   "cell_type": "code",
   "execution_count": 1,
   "id": "a7b05ae4",
   "metadata": {
    "execution": {
     "iopub.execute_input": "2024-05-14T06:37:46.624989Z",
     "iopub.status.busy": "2024-05-14T06:37:46.624406Z",
     "iopub.status.idle": "2024-05-14T06:37:46.942984Z",
     "shell.execute_reply": "2024-05-14T06:37:46.942426Z"
    },
    "papermill": {
     "duration": 0.323024,
     "end_time": "2024-05-14T06:37:46.944682",
     "exception": false,
     "start_time": "2024-05-14T06:37:46.621658",
     "status": "completed"
    },
    "tags": []
   },
   "outputs": [],
   "source": [
    "import pandas as pd"
   ]
  },
  {
   "cell_type": "markdown",
   "id": "c93b9dc4",
   "metadata": {
    "papermill": {
     "duration": 0.001159,
     "end_time": "2024-05-14T06:37:46.947213",
     "exception": false,
     "start_time": "2024-05-14T06:37:46.946054",
     "status": "completed"
    },
    "tags": []
   },
   "source": [
    "Duplicating VACS02"
   ]
  },
  {
   "cell_type": "code",
   "execution_count": 2,
   "id": "faddce6c",
   "metadata": {
    "execution": {
     "iopub.execute_input": "2024-05-14T06:37:46.950758Z",
     "iopub.status.busy": "2024-05-14T06:37:46.950243Z",
     "iopub.status.idle": "2024-05-14T06:37:46.954224Z",
     "shell.execute_reply": "2024-05-14T06:37:46.953574Z"
    },
    "papermill": {
     "duration": 0.007065,
     "end_time": "2024-05-14T06:37:46.955447",
     "exception": false,
     "start_time": "2024-05-14T06:37:46.948382",
     "status": "completed"
    },
    "tags": []
   },
   "outputs": [],
   "source": [
    "levels = [\n",
    "    'AP2Y', 'JP9H', 'JP9I', 'JP9J', 'JP9K', 'JP9L', 'JP9M', 'JP9N', 'JP9O', 'JP9P', 'JP9Q', 'JP9R', 'JP9S', 'JP9T', 'JP9U', 'JP9V', 'JP9W', 'JP9X', 'JP9Y', 'JP9Z'\n",
    "]\n",
    "ratios = [\n",
    "    'AP2Z', 'JPA2', 'JPA3', 'JPA4', 'JPA5', 'JPA6', 'JPA7', 'JPA8', 'JPA9', 'JPB2', 'JPB3', 'JPB4', 'JPB5', 'JPB6', 'JPB7', 'JPB8', 'JPB9', 'JPC2', 'JPC3', 'JPC4'\n",
    "]"
   ]
  },
  {
   "cell_type": "code",
   "execution_count": 3,
   "id": "9a9d42e6",
   "metadata": {
    "execution": {
     "iopub.execute_input": "2024-05-14T06:37:46.958688Z",
     "iopub.status.busy": "2024-05-14T06:37:46.958351Z",
     "iopub.status.idle": "2024-05-14T06:37:47.020314Z",
     "shell.execute_reply": "2024-05-14T06:37:47.019644Z"
    },
    "papermill": {
     "duration": 0.065412,
     "end_time": "2024-05-14T06:37:47.022051",
     "exception": false,
     "start_time": "2024-05-14T06:37:46.956639",
     "status": "completed"
    },
    "tags": []
   },
   "outputs": [],
   "source": [
    "data = pd.read_csv('../../working/upstream/unem.csv')\n",
    "codes = pd.read_csv('../../working/upstream/unem-codes.csv', index_col=['CDID'], parse_dates=['Release Date', 'Next release'])\n",
    "data = data.loc[data.variable.isin(levels + ratios)]\n",
    "data = data.merge(codes, left_on='variable', right_index=True)"
   ]
  },
  {
   "cell_type": "code",
   "execution_count": 4,
   "id": "2612eca6",
   "metadata": {
    "execution": {
     "iopub.execute_input": "2024-05-14T06:37:47.026682Z",
     "iopub.status.busy": "2024-05-14T06:37:47.026212Z",
     "iopub.status.idle": "2024-05-14T06:37:47.033291Z",
     "shell.execute_reply": "2024-05-14T06:37:47.032689Z"
    },
    "papermill": {
     "duration": 0.011296,
     "end_time": "2024-05-14T06:37:47.034685",
     "exception": false,
     "start_time": "2024-05-14T06:37:47.023389",
     "status": "completed"
    },
    "tags": []
   },
   "outputs": [],
   "source": [
    "vacancies_by_date = data.loc[\n",
    "    data.variable=='AP2Y',\n",
    "    ['variable', 'value', 'date', 'freq']\n",
    "].rename(\n",
    "    columns={'variable': 'code'}\n",
    ")\n",
    "\n",
    "vacancies_by_date.to_csv('../../data/vacancies/vacancies_by_date.csv', index=False)"
   ]
  },
  {
   "cell_type": "code",
   "execution_count": null,
   "id": "1d3975ee",
   "metadata": {
    "papermill": {
     "duration": 0.001215,
     "end_time": "2024-05-14T06:37:47.037123",
     "exception": false,
     "start_time": "2024-05-14T06:37:47.035908",
     "status": "completed"
    },
    "tags": []
   },
   "outputs": [],
   "source": []
  }
 ],
 "metadata": {
  "kernelspec": {
   "display_name": "yff-data-ansOWYcy",
   "language": "python",
   "name": "python3"
  },
  "language_info": {
   "codemirror_mode": {
    "name": "ipython",
    "version": 3
   },
   "file_extension": ".py",
   "mimetype": "text/x-python",
   "name": "python",
   "nbconvert_exporter": "python",
   "pygments_lexer": "ipython3",
   "version": "3.10.14"
  },
  "papermill": {
   "default_parameters": {},
   "duration": 2.583676,
   "end_time": "2024-05-14T06:37:47.253495",
   "environment_variables": {},
   "exception": null,
   "input_path": "transform.ipynb",
   "output_path": "../../working/output/vacancies-transform.ipynb",
   "parameters": {},
   "start_time": "2024-05-14T06:37:44.669819",
   "version": "2.5.0"
  }
 },
 "nbformat": 4,
 "nbformat_minor": 5
}