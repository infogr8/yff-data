{
 "cells": [
  {
   "cell_type": "code",
   "execution_count": 1,
   "id": "ddaa11c8",
   "metadata": {
    "execution": {
     "iopub.execute_input": "2024-01-16T07:26:08.141398Z",
     "iopub.status.busy": "2024-01-16T07:26:08.141206Z",
     "iopub.status.idle": "2024-01-16T07:26:08.378363Z",
     "shell.execute_reply": "2024-01-16T07:26:08.377809Z"
    },
    "papermill": {
     "duration": 0.241197,
     "end_time": "2024-01-16T07:26:08.380049",
     "exception": false,
     "start_time": "2024-01-16T07:26:08.138852",
     "status": "completed"
    },
    "tags": []
   },
   "outputs": [],
   "source": [
    "import pandas as pd"
   ]
  },
  {
   "cell_type": "markdown",
   "id": "914dd0ae",
   "metadata": {
    "papermill": {
     "duration": 0.001142,
     "end_time": "2024-01-16T07:26:08.382570",
     "exception": false,
     "start_time": "2024-01-16T07:26:08.381428",
     "status": "completed"
    },
    "tags": []
   },
   "source": [
    "Duplicating VACS02"
   ]
  },
  {
   "cell_type": "code",
   "execution_count": 2,
   "id": "ccea3819",
   "metadata": {
    "execution": {
     "iopub.execute_input": "2024-01-16T07:26:08.385994Z",
     "iopub.status.busy": "2024-01-16T07:26:08.385545Z",
     "iopub.status.idle": "2024-01-16T07:26:08.389327Z",
     "shell.execute_reply": "2024-01-16T07:26:08.388740Z"
    },
    "papermill": {
     "duration": 0.006921,
     "end_time": "2024-01-16T07:26:08.390606",
     "exception": false,
     "start_time": "2024-01-16T07:26:08.383685",
     "status": "completed"
    },
    "tags": []
   },
   "outputs": [],
   "source": [
    "levels = [\n",
    "    'AP2Y', 'JP9H', 'JP9I', 'JP9J', 'JP9K', 'JP9L', 'JP9M', 'JP9N', 'JP9O', 'JP9P', 'JP9Q', 'JP9R', 'JP9S', 'JP9T', 'JP9U', 'JP9V', 'JP9W', 'JP9X', 'JP9Y', 'JP9Z'\n",
    "]\n",
    "ratios = [\n",
    "    'AP2Z', 'JPA2', 'JPA3', 'JPA4', 'JPA5', 'JPA6', 'JPA7', 'JPA8', 'JPA9', 'JPB2', 'JPB3', 'JPB4', 'JPB5', 'JPB6', 'JPB7', 'JPB8', 'JPB9', 'JPC2', 'JPC3', 'JPC4'\n",
    "]"
   ]
  },
  {
   "cell_type": "code",
   "execution_count": 3,
   "id": "624f15d4",
   "metadata": {
    "execution": {
     "iopub.execute_input": "2024-01-16T07:26:08.393911Z",
     "iopub.status.busy": "2024-01-16T07:26:08.393578Z",
     "iopub.status.idle": "2024-01-16T07:26:08.459442Z",
     "shell.execute_reply": "2024-01-16T07:26:08.458792Z"
    },
    "papermill": {
     "duration": 0.069077,
     "end_time": "2024-01-16T07:26:08.460867",
     "exception": false,
     "start_time": "2024-01-16T07:26:08.391790",
     "status": "completed"
    },
    "tags": []
   },
   "outputs": [
    {
     "name": "stderr",
     "output_type": "stream",
     "text": [
      "/tmp/ipykernel_1883/2101734166.py:2: UserWarning: Parsing dates in %d-%m-%Y format when dayfirst=False (the default) was specified. Pass `dayfirst=True` or specify a format to silence this warning.\n",
      "  codes = pd.read_csv('../../working/upstream/unem-codes.csv', index_col=['CDID'], parse_dates=['Release Date', 'Next release'])\n"
     ]
    }
   ],
   "source": [
    "data = pd.read_csv('../../working/upstream/unem.csv')\n",
    "codes = pd.read_csv('../../working/upstream/unem-codes.csv', index_col=['CDID'], parse_dates=['Release Date', 'Next release'])\n",
    "data = data.loc[data.variable.isin(levels + ratios)]\n",
    "data = data.merge(codes, left_on='variable', right_index=True)"
   ]
  },
  {
   "cell_type": "code",
   "execution_count": 4,
   "id": "e682a8a0",
   "metadata": {
    "execution": {
     "iopub.execute_input": "2024-01-16T07:26:08.464458Z",
     "iopub.status.busy": "2024-01-16T07:26:08.464086Z",
     "iopub.status.idle": "2024-01-16T07:26:08.470870Z",
     "shell.execute_reply": "2024-01-16T07:26:08.470259Z"
    },
    "papermill": {
     "duration": 0.010119,
     "end_time": "2024-01-16T07:26:08.472326",
     "exception": false,
     "start_time": "2024-01-16T07:26:08.462207",
     "status": "completed"
    },
    "tags": []
   },
   "outputs": [],
   "source": [
    "vacancies_by_date = data.loc[\n",
    "    data.variable=='AP2Y',\n",
    "    ['variable', 'value', 'date', 'freq']\n",
    "].rename(\n",
    "    columns={'variable': 'code'}\n",
    ")\n",
    "\n",
    "vacancies_by_date.to_csv('../../data/vacancies/vacancies_by_date.csv', index=False)"
   ]
  },
  {
   "cell_type": "code",
   "execution_count": null,
   "id": "1c89cd37",
   "metadata": {
    "papermill": {
     "duration": 0.001214,
     "end_time": "2024-01-16T07:26:08.474828",
     "exception": false,
     "start_time": "2024-01-16T07:26:08.473614",
     "status": "completed"
    },
    "tags": []
   },
   "outputs": [],
   "source": []
  }
 ],
 "metadata": {
  "kernelspec": {
   "display_name": "yff-data-ansOWYcy",
   "language": "python",
   "name": "python3"
  },
  "language_info": {
   "codemirror_mode": {
    "name": "ipython",
    "version": 3
   },
   "file_extension": ".py",
   "mimetype": "text/x-python",
   "name": "python",
   "nbconvert_exporter": "python",
   "pygments_lexer": "ipython3",
   "version": "3.10.13"
  },
  "papermill": {
   "default_parameters": {},
   "duration": 1.9735,
   "end_time": "2024-01-16T07:26:08.692456",
   "environment_variables": {},
   "exception": null,
   "input_path": "transform.ipynb",
   "output_path": "../../working/output/vacancies-transform.ipynb",
   "parameters": {},
   "start_time": "2024-01-16T07:26:06.718956",
   "version": "2.4.0"
  }
 },
 "nbformat": 4,
 "nbformat_minor": 5
}