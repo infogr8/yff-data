{
 "cells": [
  {
   "cell_type": "code",
   "execution_count": 1,
   "id": "4ab3785b",
   "metadata": {
    "execution": {
     "iopub.execute_input": "2024-02-07T16:57:22.219265Z",
     "iopub.status.busy": "2024-02-07T16:57:22.218545Z",
     "iopub.status.idle": "2024-02-07T16:57:22.425785Z",
     "shell.execute_reply": "2024-02-07T16:57:22.425345Z"
    },
    "papermill": {
     "duration": 0.213519,
     "end_time": "2024-02-07T16:57:22.426861",
     "exception": false,
     "start_time": "2024-02-07T16:57:22.213342",
     "status": "completed"
    },
    "tags": []
   },
   "outputs": [],
   "source": [
    "import pandas as pd"
   ]
  },
  {
   "cell_type": "markdown",
   "id": "79df30c6",
   "metadata": {
    "papermill": {
     "duration": 0.000727,
     "end_time": "2024-02-07T16:57:22.428480",
     "exception": false,
     "start_time": "2024-02-07T16:57:22.427753",
     "status": "completed"
    },
    "tags": []
   },
   "source": [
    "Duplicating VACS02"
   ]
  },
  {
   "cell_type": "code",
   "execution_count": 2,
   "id": "eaf2a8d7",
   "metadata": {
    "execution": {
     "iopub.execute_input": "2024-02-07T16:57:22.430534Z",
     "iopub.status.busy": "2024-02-07T16:57:22.430298Z",
     "iopub.status.idle": "2024-02-07T16:57:22.432717Z",
     "shell.execute_reply": "2024-02-07T16:57:22.432406Z"
    },
    "papermill": {
     "duration": 0.00437,
     "end_time": "2024-02-07T16:57:22.433498",
     "exception": false,
     "start_time": "2024-02-07T16:57:22.429128",
     "status": "completed"
    },
    "tags": []
   },
   "outputs": [],
   "source": [
    "levels = [\n",
    "    'AP2Y', 'JP9H', 'JP9I', 'JP9J', 'JP9K', 'JP9L', 'JP9M', 'JP9N', 'JP9O', 'JP9P', 'JP9Q', 'JP9R', 'JP9S', 'JP9T', 'JP9U', 'JP9V', 'JP9W', 'JP9X', 'JP9Y', 'JP9Z'\n",
    "]\n",
    "ratios = [\n",
    "    'AP2Z', 'JPA2', 'JPA3', 'JPA4', 'JPA5', 'JPA6', 'JPA7', 'JPA8', 'JPA9', 'JPB2', 'JPB3', 'JPB4', 'JPB5', 'JPB6', 'JPB7', 'JPB8', 'JPB9', 'JPC2', 'JPC3', 'JPC4'\n",
    "]"
   ]
  },
  {
   "cell_type": "code",
   "execution_count": 3,
   "id": "962ece1a",
   "metadata": {
    "execution": {
     "iopub.execute_input": "2024-02-07T16:57:22.435739Z",
     "iopub.status.busy": "2024-02-07T16:57:22.435558Z",
     "iopub.status.idle": "2024-02-07T16:57:22.479679Z",
     "shell.execute_reply": "2024-02-07T16:57:22.479367Z"
    },
    "papermill": {
     "duration": 0.046181,
     "end_time": "2024-02-07T16:57:22.480458",
     "exception": false,
     "start_time": "2024-02-07T16:57:22.434277",
     "status": "completed"
    },
    "tags": []
   },
   "outputs": [
    {
     "name": "stderr",
     "output_type": "stream",
     "text": [
      "/tmp/ipykernel_311749/2101734166.py:2: UserWarning: Parsing dates in %d-%m-%Y format when dayfirst=False (the default) was specified. Pass `dayfirst=True` or specify a format to silence this warning.\n",
      "  codes = pd.read_csv('../../working/upstream/unem-codes.csv', index_col=['CDID'], parse_dates=['Release Date', 'Next release'])\n"
     ]
    }
   ],
   "source": [
    "data = pd.read_csv('../../working/upstream/unem.csv')\n",
    "codes = pd.read_csv('../../working/upstream/unem-codes.csv', index_col=['CDID'], parse_dates=['Release Date', 'Next release'])\n",
    "data = data.loc[data.variable.isin(levels + ratios)]\n",
    "data = data.merge(codes, left_on='variable', right_index=True)"
   ]
  },
  {
   "cell_type": "code",
   "execution_count": 4,
   "id": "6e1c59fa",
   "metadata": {
    "execution": {
     "iopub.execute_input": "2024-02-07T16:57:22.482663Z",
     "iopub.status.busy": "2024-02-07T16:57:22.482512Z",
     "iopub.status.idle": "2024-02-07T16:57:22.487182Z",
     "shell.execute_reply": "2024-02-07T16:57:22.486862Z"
    },
    "papermill": {
     "duration": 0.006605,
     "end_time": "2024-02-07T16:57:22.487924",
     "exception": false,
     "start_time": "2024-02-07T16:57:22.481319",
     "status": "completed"
    },
    "tags": []
   },
   "outputs": [],
   "source": [
    "vacancies_by_date = data.loc[\n",
    "    data.variable=='AP2Y',\n",
    "    ['variable', 'value', 'date', 'freq']\n",
    "].rename(\n",
    "    columns={'variable': 'code'}\n",
    ")\n",
    "\n",
    "vacancies_by_date.to_csv('../../data/vacancies/vacancies_by_date.csv', index=False)"
   ]
  },
  {
   "cell_type": "code",
   "execution_count": null,
   "id": "6220a55b",
   "metadata": {
    "papermill": {
     "duration": 0.000765,
     "end_time": "2024-02-07T16:57:22.489481",
     "exception": false,
     "start_time": "2024-02-07T16:57:22.488716",
     "status": "completed"
    },
    "tags": []
   },
   "outputs": [],
   "source": []
  }
 ],
 "metadata": {
  "kernelspec": {
   "display_name": "yff-data-ansOWYcy",
   "language": "python",
   "name": "python3"
  },
  "language_info": {
   "codemirror_mode": {
    "name": "ipython",
    "version": 3
   },
   "file_extension": ".py",
   "mimetype": "text/x-python",
   "name": "python",
   "nbconvert_exporter": "python",
   "pygments_lexer": "ipython3",
   "version": "3.10.12"
  },
  "papermill": {
   "default_parameters": {},
   "duration": 1.194552,
   "end_time": "2024-02-07T16:57:22.706889",
   "environment_variables": {},
   "exception": null,
   "input_path": "transform.ipynb",
   "output_path": "../../working/output/vacancies-transform.ipynb",
   "parameters": {},
   "start_time": "2024-02-07T16:57:21.512337",
   "version": "2.4.0"
  }
 },
 "nbformat": 4,
 "nbformat_minor": 5
}