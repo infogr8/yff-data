{
 "cells": [
  {
   "cell_type": "code",
   "execution_count": 1,
   "id": "f92c08d8",
   "metadata": {
    "execution": {
     "iopub.execute_input": "2024-02-13T07:26:21.349788Z",
     "iopub.status.busy": "2024-02-13T07:26:21.349491Z",
     "iopub.status.idle": "2024-02-13T07:26:21.606823Z",
     "shell.execute_reply": "2024-02-13T07:26:21.606004Z"
    },
    "papermill": {
     "duration": 0.26196,
     "end_time": "2024-02-13T07:26:21.608600",
     "exception": false,
     "start_time": "2024-02-13T07:26:21.346640",
     "status": "completed"
    },
    "tags": []
   },
   "outputs": [],
   "source": [
    "import pandas as pd"
   ]
  },
  {
   "cell_type": "markdown",
   "id": "5802742f",
   "metadata": {
    "papermill": {
     "duration": 0.001136,
     "end_time": "2024-02-13T07:26:21.611114",
     "exception": false,
     "start_time": "2024-02-13T07:26:21.609978",
     "status": "completed"
    },
    "tags": []
   },
   "source": [
    "Duplicating VACS02"
   ]
  },
  {
   "cell_type": "code",
   "execution_count": 2,
   "id": "ce002e78",
   "metadata": {
    "execution": {
     "iopub.execute_input": "2024-02-13T07:26:21.614756Z",
     "iopub.status.busy": "2024-02-13T07:26:21.614165Z",
     "iopub.status.idle": "2024-02-13T07:26:21.618160Z",
     "shell.execute_reply": "2024-02-13T07:26:21.617561Z"
    },
    "papermill": {
     "duration": 0.007205,
     "end_time": "2024-02-13T07:26:21.619426",
     "exception": false,
     "start_time": "2024-02-13T07:26:21.612221",
     "status": "completed"
    },
    "tags": []
   },
   "outputs": [],
   "source": [
    "levels = [\n",
    "    'AP2Y', 'JP9H', 'JP9I', 'JP9J', 'JP9K', 'JP9L', 'JP9M', 'JP9N', 'JP9O', 'JP9P', 'JP9Q', 'JP9R', 'JP9S', 'JP9T', 'JP9U', 'JP9V', 'JP9W', 'JP9X', 'JP9Y', 'JP9Z'\n",
    "]\n",
    "ratios = [\n",
    "    'AP2Z', 'JPA2', 'JPA3', 'JPA4', 'JPA5', 'JPA6', 'JPA7', 'JPA8', 'JPA9', 'JPB2', 'JPB3', 'JPB4', 'JPB5', 'JPB6', 'JPB7', 'JPB8', 'JPB9', 'JPC2', 'JPC3', 'JPC4'\n",
    "]"
   ]
  },
  {
   "cell_type": "code",
   "execution_count": 3,
   "id": "3697fc7b",
   "metadata": {
    "execution": {
     "iopub.execute_input": "2024-02-13T07:26:21.623276Z",
     "iopub.status.busy": "2024-02-13T07:26:21.622637Z",
     "iopub.status.idle": "2024-02-13T07:26:21.692973Z",
     "shell.execute_reply": "2024-02-13T07:26:21.692310Z"
    },
    "papermill": {
     "duration": 0.073889,
     "end_time": "2024-02-13T07:26:21.694620",
     "exception": false,
     "start_time": "2024-02-13T07:26:21.620731",
     "status": "completed"
    },
    "tags": []
   },
   "outputs": [
    {
     "name": "stderr",
     "output_type": "stream",
     "text": [
      "/tmp/ipykernel_1827/2101734166.py:2: UserWarning: Parsing dates in %d-%m-%Y format when dayfirst=False (the default) was specified. Pass `dayfirst=True` or specify a format to silence this warning.\n",
      "  codes = pd.read_csv('../../working/upstream/unem-codes.csv', index_col=['CDID'], parse_dates=['Release Date', 'Next release'])\n"
     ]
    }
   ],
   "source": [
    "data = pd.read_csv('../../working/upstream/unem.csv')\n",
    "codes = pd.read_csv('../../working/upstream/unem-codes.csv', index_col=['CDID'], parse_dates=['Release Date', 'Next release'])\n",
    "data = data.loc[data.variable.isin(levels + ratios)]\n",
    "data = data.merge(codes, left_on='variable', right_index=True)"
   ]
  },
  {
   "cell_type": "code",
   "execution_count": 4,
   "id": "5288a872",
   "metadata": {
    "execution": {
     "iopub.execute_input": "2024-02-13T07:26:21.698719Z",
     "iopub.status.busy": "2024-02-13T07:26:21.698228Z",
     "iopub.status.idle": "2024-02-13T07:26:21.705987Z",
     "shell.execute_reply": "2024-02-13T07:26:21.705434Z"
    },
    "papermill": {
     "duration": 0.011231,
     "end_time": "2024-02-13T07:26:21.707323",
     "exception": false,
     "start_time": "2024-02-13T07:26:21.696092",
     "status": "completed"
    },
    "tags": []
   },
   "outputs": [],
   "source": [
    "vacancies_by_date = data.loc[\n",
    "    data.variable=='AP2Y',\n",
    "    ['variable', 'value', 'date', 'freq']\n",
    "].rename(\n",
    "    columns={'variable': 'code'}\n",
    ")\n",
    "\n",
    "vacancies_by_date.to_csv('../../data/vacancies/vacancies_by_date.csv', index=False)"
   ]
  },
  {
   "cell_type": "code",
   "execution_count": null,
   "id": "fad1fd5c",
   "metadata": {
    "papermill": {
     "duration": 0.001277,
     "end_time": "2024-02-13T07:26:21.710023",
     "exception": false,
     "start_time": "2024-02-13T07:26:21.708746",
     "status": "completed"
    },
    "tags": []
   },
   "outputs": [],
   "source": []
  }
 ],
 "metadata": {
  "kernelspec": {
   "display_name": "yff-data-ansOWYcy",
   "language": "python",
   "name": "python3"
  },
  "language_info": {
   "codemirror_mode": {
    "name": "ipython",
    "version": 3
   },
   "file_extension": ".py",
   "mimetype": "text/x-python",
   "name": "python",
   "nbconvert_exporter": "python",
   "pygments_lexer": "ipython3",
   "version": "3.10.13"
  },
  "papermill": {
   "default_parameters": {},
   "duration": 1.848534,
   "end_time": "2024-02-13T07:26:21.927443",
   "environment_variables": {},
   "exception": null,
   "input_path": "transform.ipynb",
   "output_path": "../../working/output/vacancies-transform.ipynb",
   "parameters": {},
   "start_time": "2024-02-13T07:26:20.078909",
   "version": "2.4.0"
  }
 },
 "nbformat": 4,
 "nbformat_minor": 5
}