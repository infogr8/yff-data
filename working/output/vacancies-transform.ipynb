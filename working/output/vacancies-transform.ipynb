{
 "cells": [
  {
   "cell_type": "code",
   "execution_count": 1,
   "id": "568ab4ef",
   "metadata": {
    "execution": {
     "iopub.execute_input": "2024-06-11T09:22:39.956557Z",
     "iopub.status.busy": "2024-06-11T09:22:39.956315Z",
     "iopub.status.idle": "2024-06-11T09:22:40.250750Z",
     "shell.execute_reply": "2024-06-11T09:22:40.250172Z"
    },
    "papermill": {
     "duration": 0.298635,
     "end_time": "2024-06-11T09:22:40.252476",
     "exception": false,
     "start_time": "2024-06-11T09:22:39.953841",
     "status": "completed"
    },
    "tags": []
   },
   "outputs": [],
   "source": [
    "import pandas as pd"
   ]
  },
  {
   "cell_type": "markdown",
   "id": "ccaf57d9",
   "metadata": {
    "papermill": {
     "duration": 0.001127,
     "end_time": "2024-06-11T09:22:40.255017",
     "exception": false,
     "start_time": "2024-06-11T09:22:40.253890",
     "status": "completed"
    },
    "tags": []
   },
   "source": [
    "Duplicating VACS02"
   ]
  },
  {
   "cell_type": "code",
   "execution_count": 2,
   "id": "fe3964c4",
   "metadata": {
    "execution": {
     "iopub.execute_input": "2024-06-11T09:22:40.258533Z",
     "iopub.status.busy": "2024-06-11T09:22:40.258008Z",
     "iopub.status.idle": "2024-06-11T09:22:40.261953Z",
     "shell.execute_reply": "2024-06-11T09:22:40.261312Z"
    },
    "papermill": {
     "duration": 0.007088,
     "end_time": "2024-06-11T09:22:40.263235",
     "exception": false,
     "start_time": "2024-06-11T09:22:40.256147",
     "status": "completed"
    },
    "tags": []
   },
   "outputs": [],
   "source": [
    "levels = [\n",
    "    'AP2Y', 'JP9H', 'JP9I', 'JP9J', 'JP9K', 'JP9L', 'JP9M', 'JP9N', 'JP9O', 'JP9P', 'JP9Q', 'JP9R', 'JP9S', 'JP9T', 'JP9U', 'JP9V', 'JP9W', 'JP9X', 'JP9Y', 'JP9Z'\n",
    "]\n",
    "ratios = [\n",
    "    'AP2Z', 'JPA2', 'JPA3', 'JPA4', 'JPA5', 'JPA6', 'JPA7', 'JPA8', 'JPA9', 'JPB2', 'JPB3', 'JPB4', 'JPB5', 'JPB6', 'JPB7', 'JPB8', 'JPB9', 'JPC2', 'JPC3', 'JPC4'\n",
    "]"
   ]
  },
  {
   "cell_type": "code",
   "execution_count": 3,
   "id": "fd39a2ba",
   "metadata": {
    "execution": {
     "iopub.execute_input": "2024-06-11T09:22:40.266532Z",
     "iopub.status.busy": "2024-06-11T09:22:40.266183Z",
     "iopub.status.idle": "2024-06-11T09:22:40.327419Z",
     "shell.execute_reply": "2024-06-11T09:22:40.326732Z"
    },
    "papermill": {
     "duration": 0.064675,
     "end_time": "2024-06-11T09:22:40.329081",
     "exception": false,
     "start_time": "2024-06-11T09:22:40.264406",
     "status": "completed"
    },
    "tags": []
   },
   "outputs": [],
   "source": [
    "data = pd.read_csv('../../working/upstream/unem.csv')\n",
    "codes = pd.read_csv('../../working/upstream/unem-codes.csv', index_col=['CDID'], parse_dates=['Release Date', 'Next release'])\n",
    "data = data.loc[data.variable.isin(levels + ratios)]\n",
    "data = data.merge(codes, left_on='variable', right_index=True)"
   ]
  },
  {
   "cell_type": "code",
   "execution_count": 4,
   "id": "4b214173",
   "metadata": {
    "execution": {
     "iopub.execute_input": "2024-06-11T09:22:40.333835Z",
     "iopub.status.busy": "2024-06-11T09:22:40.333270Z",
     "iopub.status.idle": "2024-06-11T09:22:40.340515Z",
     "shell.execute_reply": "2024-06-11T09:22:40.339876Z"
    },
    "papermill": {
     "duration": 0.011593,
     "end_time": "2024-06-11T09:22:40.341989",
     "exception": false,
     "start_time": "2024-06-11T09:22:40.330396",
     "status": "completed"
    },
    "tags": []
   },
   "outputs": [],
   "source": [
    "vacancies_by_date = data.loc[\n",
    "    data.variable=='AP2Y',\n",
    "    ['variable', 'value', 'date', 'freq']\n",
    "].rename(\n",
    "    columns={'variable': 'code'}\n",
    ")\n",
    "\n",
    "vacancies_by_date.to_csv('../../data/vacancies/vacancies_by_date.csv', index=False)"
   ]
  },
  {
   "cell_type": "code",
   "execution_count": null,
   "id": "fa03921b",
   "metadata": {
    "papermill": {
     "duration": 0.001167,
     "end_time": "2024-06-11T09:22:40.344355",
     "exception": false,
     "start_time": "2024-06-11T09:22:40.343188",
     "status": "completed"
    },
    "tags": []
   },
   "outputs": [],
   "source": []
  }
 ],
 "metadata": {
  "kernelspec": {
   "display_name": "yff-data-ansOWYcy",
   "language": "python",
   "name": "python3"
  },
  "language_info": {
   "codemirror_mode": {
    "name": "ipython",
    "version": 3
   },
   "file_extension": ".py",
   "mimetype": "text/x-python",
   "name": "python",
   "nbconvert_exporter": "python",
   "pygments_lexer": "ipython3",
   "version": "3.10.14"
  },
  "papermill": {
   "default_parameters": {},
   "duration": 1.787143,
   "end_time": "2024-06-11T09:22:40.561612",
   "environment_variables": {},
   "exception": null,
   "input_path": "transform.ipynb",
   "output_path": "../../working/output/vacancies-transform.ipynb",
   "parameters": {},
   "start_time": "2024-06-11T09:22:38.774469",
   "version": "2.5.0"
  }
 },
 "nbformat": 4,
 "nbformat_minor": 5
}