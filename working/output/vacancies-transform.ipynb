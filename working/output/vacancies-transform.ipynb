{
 "cells": [
  {
   "cell_type": "code",
   "execution_count": 1,
   "id": "5e0ecd45",
   "metadata": {
    "execution": {
     "iopub.execute_input": "2024-04-15T07:45:39.817608Z",
     "iopub.status.busy": "2024-04-15T07:45:39.817223Z",
     "iopub.status.idle": "2024-04-15T07:45:40.114548Z",
     "shell.execute_reply": "2024-04-15T07:45:40.113852Z"
    },
    "papermill": {
     "duration": 0.301573,
     "end_time": "2024-04-15T07:45:40.116379",
     "exception": false,
     "start_time": "2024-04-15T07:45:39.814806",
     "status": "completed"
    },
    "tags": []
   },
   "outputs": [],
   "source": [
    "import pandas as pd"
   ]
  },
  {
   "cell_type": "markdown",
   "id": "fa6eb871",
   "metadata": {
    "papermill": {
     "duration": 0.001088,
     "end_time": "2024-04-15T07:45:40.118846",
     "exception": false,
     "start_time": "2024-04-15T07:45:40.117758",
     "status": "completed"
    },
    "tags": []
   },
   "source": [
    "Duplicating VACS02"
   ]
  },
  {
   "cell_type": "code",
   "execution_count": 2,
   "id": "056fdd74",
   "metadata": {
    "execution": {
     "iopub.execute_input": "2024-04-15T07:45:40.122318Z",
     "iopub.status.busy": "2024-04-15T07:45:40.121852Z",
     "iopub.status.idle": "2024-04-15T07:45:40.125751Z",
     "shell.execute_reply": "2024-04-15T07:45:40.125215Z"
    },
    "papermill": {
     "duration": 0.007089,
     "end_time": "2024-04-15T07:45:40.127070",
     "exception": false,
     "start_time": "2024-04-15T07:45:40.119981",
     "status": "completed"
    },
    "tags": []
   },
   "outputs": [],
   "source": [
    "levels = [\n",
    "    'AP2Y', 'JP9H', 'JP9I', 'JP9J', 'JP9K', 'JP9L', 'JP9M', 'JP9N', 'JP9O', 'JP9P', 'JP9Q', 'JP9R', 'JP9S', 'JP9T', 'JP9U', 'JP9V', 'JP9W', 'JP9X', 'JP9Y', 'JP9Z'\n",
    "]\n",
    "ratios = [\n",
    "    'AP2Z', 'JPA2', 'JPA3', 'JPA4', 'JPA5', 'JPA6', 'JPA7', 'JPA8', 'JPA9', 'JPB2', 'JPB3', 'JPB4', 'JPB5', 'JPB6', 'JPB7', 'JPB8', 'JPB9', 'JPC2', 'JPC3', 'JPC4'\n",
    "]"
   ]
  },
  {
   "cell_type": "code",
   "execution_count": 3,
   "id": "952ef406",
   "metadata": {
    "execution": {
     "iopub.execute_input": "2024-04-15T07:45:40.130183Z",
     "iopub.status.busy": "2024-04-15T07:45:40.129988Z",
     "iopub.status.idle": "2024-04-15T07:45:40.190003Z",
     "shell.execute_reply": "2024-04-15T07:45:40.189449Z"
    },
    "papermill": {
     "duration": 0.063326,
     "end_time": "2024-04-15T07:45:40.191565",
     "exception": false,
     "start_time": "2024-04-15T07:45:40.128239",
     "status": "completed"
    },
    "tags": []
   },
   "outputs": [],
   "source": [
    "data = pd.read_csv('../../working/upstream/unem.csv')\n",
    "codes = pd.read_csv('../../working/upstream/unem-codes.csv', index_col=['CDID'], parse_dates=['Release Date', 'Next release'])\n",
    "data = data.loc[data.variable.isin(levels + ratios)]\n",
    "data = data.merge(codes, left_on='variable', right_index=True)"
   ]
  },
  {
   "cell_type": "code",
   "execution_count": 4,
   "id": "dabc363e",
   "metadata": {
    "execution": {
     "iopub.execute_input": "2024-04-15T07:45:40.196356Z",
     "iopub.status.busy": "2024-04-15T07:45:40.195818Z",
     "iopub.status.idle": "2024-04-15T07:45:40.203002Z",
     "shell.execute_reply": "2024-04-15T07:45:40.202443Z"
    },
    "papermill": {
     "duration": 0.011376,
     "end_time": "2024-04-15T07:45:40.204290",
     "exception": false,
     "start_time": "2024-04-15T07:45:40.192914",
     "status": "completed"
    },
    "tags": []
   },
   "outputs": [],
   "source": [
    "vacancies_by_date = data.loc[\n",
    "    data.variable=='AP2Y',\n",
    "    ['variable', 'value', 'date', 'freq']\n",
    "].rename(\n",
    "    columns={'variable': 'code'}\n",
    ")\n",
    "\n",
    "vacancies_by_date.to_csv('../../data/vacancies/vacancies_by_date.csv', index=False)"
   ]
  },
  {
   "cell_type": "code",
   "execution_count": null,
   "id": "3c8040a6",
   "metadata": {
    "papermill": {
     "duration": 0.001179,
     "end_time": "2024-04-15T07:45:40.206678",
     "exception": false,
     "start_time": "2024-04-15T07:45:40.205499",
     "status": "completed"
    },
    "tags": []
   },
   "outputs": [],
   "source": []
  }
 ],
 "metadata": {
  "kernelspec": {
   "display_name": "yff-data-ansOWYcy",
   "language": "python",
   "name": "python3"
  },
  "language_info": {
   "codemirror_mode": {
    "name": "ipython",
    "version": 3
   },
   "file_extension": ".py",
   "mimetype": "text/x-python",
   "name": "python",
   "nbconvert_exporter": "python",
   "pygments_lexer": "ipython3",
   "version": "3.10.14"
  },
  "papermill": {
   "default_parameters": {},
   "duration": 1.774658,
   "end_time": "2024-04-15T07:45:40.423693",
   "environment_variables": {},
   "exception": null,
   "input_path": "transform.ipynb",
   "output_path": "../../working/output/vacancies-transform.ipynb",
   "parameters": {},
   "start_time": "2024-04-15T07:45:38.649035",
   "version": "2.5.0"
  }
 },
 "nbformat": 4,
 "nbformat_minor": 5
}