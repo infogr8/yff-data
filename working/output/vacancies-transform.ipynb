{
 "cells": [
  {
   "cell_type": "code",
   "execution_count": 1,
   "id": "8a6f5191",
   "metadata": {
    "execution": {
     "iopub.execute_input": "2025-03-20T08:26:12.751888Z",
     "iopub.status.busy": "2025-03-20T08:26:12.751515Z",
     "iopub.status.idle": "2025-03-20T08:26:13.094244Z",
     "shell.execute_reply": "2025-03-20T08:26:13.093577Z"
    },
    "papermill": {
     "duration": 0.348439,
     "end_time": "2025-03-20T08:26:13.096172",
     "exception": false,
     "start_time": "2025-03-20T08:26:12.747733",
     "status": "completed"
    },
    "tags": []
   },
   "outputs": [],
   "source": [
    "import pandas as pd"
   ]
  },
  {
   "cell_type": "markdown",
   "id": "04817ffb",
   "metadata": {
    "papermill": {
     "duration": 0.001132,
     "end_time": "2025-03-20T08:26:13.098812",
     "exception": false,
     "start_time": "2025-03-20T08:26:13.097680",
     "status": "completed"
    },
    "tags": []
   },
   "source": [
    "Duplicating VACS02"
   ]
  },
  {
   "cell_type": "code",
   "execution_count": 2,
   "id": "7c249d60",
   "metadata": {
    "execution": {
     "iopub.execute_input": "2025-03-20T08:26:13.102624Z",
     "iopub.status.busy": "2025-03-20T08:26:13.101928Z",
     "iopub.status.idle": "2025-03-20T08:26:13.106327Z",
     "shell.execute_reply": "2025-03-20T08:26:13.105685Z"
    },
    "papermill": {
     "duration": 0.00782,
     "end_time": "2025-03-20T08:26:13.107750",
     "exception": false,
     "start_time": "2025-03-20T08:26:13.099930",
     "status": "completed"
    },
    "tags": []
   },
   "outputs": [],
   "source": [
    "levels = [\n",
    "    'AP2Y', 'JP9H', 'JP9I', 'JP9J', 'JP9K', 'JP9L', 'JP9M', 'JP9N', 'JP9O', 'JP9P', 'JP9Q', 'JP9R', 'JP9S', 'JP9T', 'JP9U', 'JP9V', 'JP9W', 'JP9X', 'JP9Y', 'JP9Z'\n",
    "]\n",
    "ratios = [\n",
    "    'AP2Z', 'JPA2', 'JPA3', 'JPA4', 'JPA5', 'JPA6', 'JPA7', 'JPA8', 'JPA9', 'JPB2', 'JPB3', 'JPB4', 'JPB5', 'JPB6', 'JPB7', 'JPB8', 'JPB9', 'JPC2', 'JPC3', 'JPC4'\n",
    "]"
   ]
  },
  {
   "cell_type": "code",
   "execution_count": 3,
   "id": "5ae640a9",
   "metadata": {
    "execution": {
     "iopub.execute_input": "2025-03-20T08:26:13.111255Z",
     "iopub.status.busy": "2025-03-20T08:26:13.110805Z",
     "iopub.status.idle": "2025-03-20T08:26:13.176596Z",
     "shell.execute_reply": "2025-03-20T08:26:13.175828Z"
    },
    "papermill": {
     "duration": 0.069625,
     "end_time": "2025-03-20T08:26:13.178572",
     "exception": false,
     "start_time": "2025-03-20T08:26:13.108947",
     "status": "completed"
    },
    "tags": []
   },
   "outputs": [],
   "source": [
    "data = pd.read_csv('../../working/upstream/unem.csv')\n",
    "codes = pd.read_csv('../../working/upstream/unem-codes.csv', index_col=['CDID'], parse_dates=['Release Date', 'Next release'])\n",
    "data = data.loc[data.variable.isin(levels + ratios)]\n",
    "data = data.merge(codes, left_on='variable', right_index=True)"
   ]
  },
  {
   "cell_type": "code",
   "execution_count": 4,
   "id": "6aff296b",
   "metadata": {
    "execution": {
     "iopub.execute_input": "2025-03-20T08:26:13.182847Z",
     "iopub.status.busy": "2025-03-20T08:26:13.182336Z",
     "iopub.status.idle": "2025-03-20T08:26:13.192073Z",
     "shell.execute_reply": "2025-03-20T08:26:13.191486Z"
    },
    "papermill": {
     "duration": 0.013575,
     "end_time": "2025-03-20T08:26:13.193596",
     "exception": false,
     "start_time": "2025-03-20T08:26:13.180021",
     "status": "completed"
    },
    "tags": []
   },
   "outputs": [],
   "source": [
    "vacancies_by_date = data.loc[\n",
    "    data.variable=='AP2Y',\n",
    "    ['variable', 'value', 'date', 'freq']\n",
    "].rename(\n",
    "    columns={'variable': 'code'}\n",
    ")\n",
    "\n",
    "vacancies_by_date.to_csv('../../data/vacancies/vacancies_by_date.csv', index=False)"
   ]
  },
  {
   "cell_type": "code",
   "execution_count": null,
   "id": "467535af",
   "metadata": {
    "papermill": {
     "duration": 0.001324,
     "end_time": "2025-03-20T08:26:13.196478",
     "exception": false,
     "start_time": "2025-03-20T08:26:13.195154",
     "status": "completed"
    },
    "tags": []
   },
   "outputs": [],
   "source": []
  }
 ],
 "metadata": {
  "kernelspec": {
   "display_name": "yff-data-ansOWYcy",
   "language": "python",
   "name": "python3"
  },
  "language_info": {
   "codemirror_mode": {
    "name": "ipython",
    "version": 3
   },
   "file_extension": ".py",
   "mimetype": "text/x-python",
   "name": "python",
   "nbconvert_exporter": "python",
   "pygments_lexer": "ipython3",
   "version": "3.10.16"
  },
  "papermill": {
   "default_parameters": {},
   "duration": 2.527495,
   "end_time": "2025-03-20T08:26:13.616424",
   "environment_variables": {},
   "exception": null,
   "input_path": "transform.ipynb",
   "output_path": "../../working/output/vacancies-transform.ipynb",
   "parameters": {},
   "start_time": "2025-03-20T08:26:11.088929",
   "version": "2.5.0"
  }
 },
 "nbformat": 4,
 "nbformat_minor": 5
}