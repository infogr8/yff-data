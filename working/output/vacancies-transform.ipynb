{
 "cells": [
  {
   "cell_type": "code",
   "execution_count": 1,
   "id": "fdb7a92b",
   "metadata": {
    "execution": {
     "iopub.execute_input": "2025-05-13T08:26:29.822231Z",
     "iopub.status.busy": "2025-05-13T08:26:29.821871Z",
     "iopub.status.idle": "2025-05-13T08:26:30.124254Z",
     "shell.execute_reply": "2025-05-13T08:26:30.123647Z"
    },
    "papermill": {
     "duration": 0.307036,
     "end_time": "2025-05-13T08:26:30.125911",
     "exception": false,
     "start_time": "2025-05-13T08:26:29.818875",
     "status": "completed"
    },
    "tags": []
   },
   "outputs": [],
   "source": [
    "import pandas as pd"
   ]
  },
  {
   "cell_type": "markdown",
   "id": "e507a574",
   "metadata": {
    "papermill": {
     "duration": 0.001151,
     "end_time": "2025-05-13T08:26:30.128474",
     "exception": false,
     "start_time": "2025-05-13T08:26:30.127323",
     "status": "completed"
    },
    "tags": []
   },
   "source": [
    "Duplicating VACS02"
   ]
  },
  {
   "cell_type": "code",
   "execution_count": 2,
   "id": "0c5cfca3",
   "metadata": {
    "execution": {
     "iopub.execute_input": "2025-05-13T08:26:30.131911Z",
     "iopub.status.busy": "2025-05-13T08:26:30.131592Z",
     "iopub.status.idle": "2025-05-13T08:26:30.135580Z",
     "shell.execute_reply": "2025-05-13T08:26:30.135017Z"
    },
    "papermill": {
     "duration": 0.007224,
     "end_time": "2025-05-13T08:26:30.136831",
     "exception": false,
     "start_time": "2025-05-13T08:26:30.129607",
     "status": "completed"
    },
    "tags": []
   },
   "outputs": [],
   "source": [
    "levels = [\n",
    "    'AP2Y', 'JP9H', 'JP9I', 'JP9J', 'JP9K', 'JP9L', 'JP9M', 'JP9N', 'JP9O', 'JP9P', 'JP9Q', 'JP9R', 'JP9S', 'JP9T', 'JP9U', 'JP9V', 'JP9W', 'JP9X', 'JP9Y', 'JP9Z'\n",
    "]\n",
    "ratios = [\n",
    "    'AP2Z', 'JPA2', 'JPA3', 'JPA4', 'JPA5', 'JPA6', 'JPA7', 'JPA8', 'JPA9', 'JPB2', 'JPB3', 'JPB4', 'JPB5', 'JPB6', 'JPB7', 'JPB8', 'JPB9', 'JPC2', 'JPC3', 'JPC4'\n",
    "]"
   ]
  },
  {
   "cell_type": "code",
   "execution_count": 3,
   "id": "cd9ead92",
   "metadata": {
    "execution": {
     "iopub.execute_input": "2025-05-13T08:26:30.140276Z",
     "iopub.status.busy": "2025-05-13T08:26:30.140005Z",
     "iopub.status.idle": "2025-05-13T08:26:30.200715Z",
     "shell.execute_reply": "2025-05-13T08:26:30.200136Z"
    },
    "papermill": {
     "duration": 0.064265,
     "end_time": "2025-05-13T08:26:30.202354",
     "exception": false,
     "start_time": "2025-05-13T08:26:30.138089",
     "status": "completed"
    },
    "tags": []
   },
   "outputs": [],
   "source": [
    "data = pd.read_csv('../../working/upstream/unem.csv')\n",
    "codes = pd.read_csv('../../working/upstream/unem-codes.csv', index_col=['CDID'], parse_dates=['Release Date', 'Next release'])\n",
    "data = data.loc[data.variable.isin(levels + ratios)]\n",
    "data = data.merge(codes, left_on='variable', right_index=True)"
   ]
  },
  {
   "cell_type": "code",
   "execution_count": 4,
   "id": "4b9d9f38",
   "metadata": {
    "execution": {
     "iopub.execute_input": "2025-05-13T08:26:30.206159Z",
     "iopub.status.busy": "2025-05-13T08:26:30.205763Z",
     "iopub.status.idle": "2025-05-13T08:26:30.213041Z",
     "shell.execute_reply": "2025-05-13T08:26:30.212544Z"
    },
    "papermill": {
     "duration": 0.010655,
     "end_time": "2025-05-13T08:26:30.214373",
     "exception": false,
     "start_time": "2025-05-13T08:26:30.203718",
     "status": "completed"
    },
    "tags": []
   },
   "outputs": [],
   "source": [
    "vacancies_by_date = data.loc[\n",
    "    data.variable=='AP2Y',\n",
    "    ['variable', 'value', 'date', 'freq']\n",
    "].rename(\n",
    "    columns={'variable': 'code'}\n",
    ")\n",
    "\n",
    "vacancies_by_date.to_csv('../../data/vacancies/vacancies_by_date.csv', index=False)"
   ]
  },
  {
   "cell_type": "code",
   "execution_count": null,
   "id": "00e2625a",
   "metadata": {
    "papermill": {
     "duration": 0.001148,
     "end_time": "2025-05-13T08:26:30.216758",
     "exception": false,
     "start_time": "2025-05-13T08:26:30.215610",
     "status": "completed"
    },
    "tags": []
   },
   "outputs": [],
   "source": []
  }
 ],
 "metadata": {
  "kernelspec": {
   "display_name": "yff-data-ansOWYcy",
   "language": "python",
   "name": "python3"
  },
  "language_info": {
   "codemirror_mode": {
    "name": "ipython",
    "version": 3
   },
   "file_extension": ".py",
   "mimetype": "text/x-python",
   "name": "python",
   "nbconvert_exporter": "python",
   "pygments_lexer": "ipython3",
   "version": "3.10.17"
  },
  "papermill": {
   "default_parameters": {},
   "duration": 2.781913,
   "end_time": "2025-05-13T08:26:30.433670",
   "environment_variables": {},
   "exception": null,
   "input_path": "transform.ipynb",
   "output_path": "../../working/output/vacancies-transform.ipynb",
   "parameters": {},
   "start_time": "2025-05-13T08:26:27.651757",
   "version": "2.5.0"
  }
 },
 "nbformat": 4,
 "nbformat_minor": 5
}