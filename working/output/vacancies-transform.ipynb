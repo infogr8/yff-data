{
 "cells": [
  {
   "cell_type": "code",
   "execution_count": 1,
   "id": "2d211ce7",
   "metadata": {
    "execution": {
     "iopub.execute_input": "2023-11-17T09:53:30.954532Z",
     "iopub.status.busy": "2023-11-17T09:53:30.954301Z",
     "iopub.status.idle": "2023-11-17T09:53:31.121868Z",
     "shell.execute_reply": "2023-11-17T09:53:31.121438Z"
    },
    "papermill": {
     "duration": 0.174001,
     "end_time": "2023-11-17T09:53:31.122976",
     "exception": false,
     "start_time": "2023-11-17T09:53:30.948975",
     "status": "completed"
    },
    "tags": []
   },
   "outputs": [],
   "source": [
    "import pandas as pd"
   ]
  },
  {
   "cell_type": "markdown",
   "id": "7502a807",
   "metadata": {
    "papermill": {
     "duration": 0.000687,
     "end_time": "2023-11-17T09:53:31.124490",
     "exception": false,
     "start_time": "2023-11-17T09:53:31.123803",
     "status": "completed"
    },
    "tags": []
   },
   "source": [
    "Duplicating VACS02"
   ]
  },
  {
   "cell_type": "code",
   "execution_count": 2,
   "id": "c2c800b2",
   "metadata": {
    "execution": {
     "iopub.execute_input": "2023-11-17T09:53:31.126386Z",
     "iopub.status.busy": "2023-11-17T09:53:31.126202Z",
     "iopub.status.idle": "2023-11-17T09:53:31.128769Z",
     "shell.execute_reply": "2023-11-17T09:53:31.128443Z"
    },
    "papermill": {
     "duration": 0.004346,
     "end_time": "2023-11-17T09:53:31.129473",
     "exception": false,
     "start_time": "2023-11-17T09:53:31.125127",
     "status": "completed"
    },
    "tags": []
   },
   "outputs": [],
   "source": [
    "levels = [\n",
    "    'AP2Y', 'JP9H', 'JP9I', 'JP9J', 'JP9K', 'JP9L', 'JP9M', 'JP9N', 'JP9O', 'JP9P', 'JP9Q', 'JP9R', 'JP9S', 'JP9T', 'JP9U', 'JP9V', 'JP9W', 'JP9X', 'JP9Y', 'JP9Z'\n",
    "]\n",
    "ratios = [\n",
    "    'AP2Z', 'JPA2', 'JPA3', 'JPA4', 'JPA5', 'JPA6', 'JPA7', 'JPA8', 'JPA9', 'JPB2', 'JPB3', 'JPB4', 'JPB5', 'JPB6', 'JPB7', 'JPB8', 'JPB9', 'JPC2', 'JPC3', 'JPC4'\n",
    "]"
   ]
  },
  {
   "cell_type": "code",
   "execution_count": 3,
   "id": "306017df",
   "metadata": {
    "execution": {
     "iopub.execute_input": "2023-11-17T09:53:31.131466Z",
     "iopub.status.busy": "2023-11-17T09:53:31.131208Z",
     "iopub.status.idle": "2023-11-17T09:53:31.175320Z",
     "shell.execute_reply": "2023-11-17T09:53:31.174872Z"
    },
    "papermill": {
     "duration": 0.04608,
     "end_time": "2023-11-17T09:53:31.176247",
     "exception": false,
     "start_time": "2023-11-17T09:53:31.130167",
     "status": "completed"
    },
    "tags": []
   },
   "outputs": [],
   "source": [
    "data = pd.read_csv('../../working/upstream/unem.csv')\n",
    "codes = pd.read_csv('../../working/upstream/unem-codes.csv', index_col=['CDID'], parse_dates=['Release Date', 'Next release'])\n",
    "data = data.loc[data.variable.isin(levels + ratios)]\n",
    "data = data.merge(codes, left_on='variable', right_index=True)"
   ]
  },
  {
   "cell_type": "code",
   "execution_count": 4,
   "id": "ee863d3b",
   "metadata": {
    "execution": {
     "iopub.execute_input": "2023-11-17T09:53:31.178427Z",
     "iopub.status.busy": "2023-11-17T09:53:31.178273Z",
     "iopub.status.idle": "2023-11-17T09:53:31.183168Z",
     "shell.execute_reply": "2023-11-17T09:53:31.182861Z"
    },
    "papermill": {
     "duration": 0.006845,
     "end_time": "2023-11-17T09:53:31.183924",
     "exception": false,
     "start_time": "2023-11-17T09:53:31.177079",
     "status": "completed"
    },
    "tags": []
   },
   "outputs": [],
   "source": [
    "vacancies_by_date = data.loc[\n",
    "    data.variable=='AP2Y',\n",
    "    ['variable', 'value', 'date', 'freq']\n",
    "].rename(\n",
    "    columns={'variable': 'code'}\n",
    ")\n",
    "\n",
    "vacancies_by_date.to_csv('../../data/vacancies/vacancies_by_date.csv', index=False)"
   ]
  },
  {
   "cell_type": "code",
   "execution_count": null,
   "id": "b14e29b4",
   "metadata": {
    "papermill": {
     "duration": 0.000692,
     "end_time": "2023-11-17T09:53:31.185359",
     "exception": false,
     "start_time": "2023-11-17T09:53:31.184667",
     "status": "completed"
    },
    "tags": []
   },
   "outputs": [],
   "source": []
  }
 ],
 "metadata": {
  "kernelspec": {
   "display_name": "yff-data-ansOWYcy",
   "language": "python",
   "name": "python3"
  },
  "language_info": {
   "codemirror_mode": {
    "name": "ipython",
    "version": 3
   },
   "file_extension": ".py",
   "mimetype": "text/x-python",
   "name": "python",
   "nbconvert_exporter": "python",
   "pygments_lexer": "ipython3",
   "version": "3.10.12"
  },
  "papermill": {
   "default_parameters": {},
   "duration": 1.155304,
   "end_time": "2023-11-17T09:53:31.402307",
   "environment_variables": {},
   "exception": null,
   "input_path": "transform.ipynb",
   "output_path": "../../working/output/vacancies-transform.ipynb",
   "parameters": {},
   "start_time": "2023-11-17T09:53:30.247003",
   "version": "2.4.0"
  }
 },
 "nbformat": 4,
 "nbformat_minor": 5
}