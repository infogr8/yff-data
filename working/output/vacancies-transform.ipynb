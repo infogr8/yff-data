{
 "cells": [
  {
   "cell_type": "code",
   "execution_count": 1,
   "id": "d02c174a",
   "metadata": {
    "execution": {
     "iopub.execute_input": "2025-08-12T08:26:55.007377Z",
     "iopub.status.busy": "2025-08-12T08:26:55.006715Z",
     "iopub.status.idle": "2025-08-12T08:26:55.310613Z",
     "shell.execute_reply": "2025-08-12T08:26:55.309932Z"
    },
    "papermill": {
     "duration": 0.308163,
     "end_time": "2025-08-12T08:26:55.312326",
     "exception": false,
     "start_time": "2025-08-12T08:26:55.004163",
     "status": "completed"
    },
    "tags": []
   },
   "outputs": [],
   "source": [
    "import pandas as pd"
   ]
  },
  {
   "cell_type": "markdown",
   "id": "42981888",
   "metadata": {
    "papermill": {
     "duration": 0.001201,
     "end_time": "2025-08-12T08:26:55.314912",
     "exception": false,
     "start_time": "2025-08-12T08:26:55.313711",
     "status": "completed"
    },
    "tags": []
   },
   "source": [
    "Duplicating VACS02"
   ]
  },
  {
   "cell_type": "code",
   "execution_count": 2,
   "id": "7a20bc49",
   "metadata": {
    "execution": {
     "iopub.execute_input": "2025-08-12T08:26:55.318456Z",
     "iopub.status.busy": "2025-08-12T08:26:55.317897Z",
     "iopub.status.idle": "2025-08-12T08:26:55.321686Z",
     "shell.execute_reply": "2025-08-12T08:26:55.321056Z"
    },
    "papermill": {
     "duration": 0.007038,
     "end_time": "2025-08-12T08:26:55.323057",
     "exception": false,
     "start_time": "2025-08-12T08:26:55.316019",
     "status": "completed"
    },
    "tags": []
   },
   "outputs": [],
   "source": [
    "levels = [\n",
    "    'AP2Y', 'JP9H', 'JP9I', 'JP9J', 'JP9K', 'JP9L', 'JP9M', 'JP9N', 'JP9O', 'JP9P', 'JP9Q', 'JP9R', 'JP9S', 'JP9T', 'JP9U', 'JP9V', 'JP9W', 'JP9X', 'JP9Y', 'JP9Z'\n",
    "]\n",
    "ratios = [\n",
    "    'AP2Z', 'JPA2', 'JPA3', 'JPA4', 'JPA5', 'JPA6', 'JPA7', 'JPA8', 'JPA9', 'JPB2', 'JPB3', 'JPB4', 'JPB5', 'JPB6', 'JPB7', 'JPB8', 'JPB9', 'JPC2', 'JPC3', 'JPC4'\n",
    "]"
   ]
  },
  {
   "cell_type": "code",
   "execution_count": 3,
   "id": "c11c5976",
   "metadata": {
    "execution": {
     "iopub.execute_input": "2025-08-12T08:26:55.326374Z",
     "iopub.status.busy": "2025-08-12T08:26:55.326013Z",
     "iopub.status.idle": "2025-08-12T08:26:55.388354Z",
     "shell.execute_reply": "2025-08-12T08:26:55.387631Z"
    },
    "papermill": {
     "duration": 0.065817,
     "end_time": "2025-08-12T08:26:55.390030",
     "exception": false,
     "start_time": "2025-08-12T08:26:55.324213",
     "status": "completed"
    },
    "tags": []
   },
   "outputs": [],
   "source": [
    "data = pd.read_csv('../../working/upstream/unem.csv')\n",
    "codes = pd.read_csv('../../working/upstream/unem-codes.csv', index_col=['CDID'], parse_dates=['Release Date', 'Next release'])\n",
    "data = data.loc[data.variable.isin(levels + ratios)]\n",
    "data = data.merge(codes, left_on='variable', right_index=True)"
   ]
  },
  {
   "cell_type": "code",
   "execution_count": 4,
   "id": "1be9cc4b",
   "metadata": {
    "execution": {
     "iopub.execute_input": "2025-08-12T08:26:55.393780Z",
     "iopub.status.busy": "2025-08-12T08:26:55.393374Z",
     "iopub.status.idle": "2025-08-12T08:26:55.400289Z",
     "shell.execute_reply": "2025-08-12T08:26:55.399757Z"
    },
    "papermill": {
     "duration": 0.010264,
     "end_time": "2025-08-12T08:26:55.401636",
     "exception": false,
     "start_time": "2025-08-12T08:26:55.391372",
     "status": "completed"
    },
    "tags": []
   },
   "outputs": [],
   "source": [
    "vacancies_by_date = data.loc[\n",
    "    data.variable=='AP2Y',\n",
    "    ['variable', 'value', 'date', 'freq']\n",
    "].rename(\n",
    "    columns={'variable': 'code'}\n",
    ")\n",
    "\n",
    "vacancies_by_date.to_csv('../../data/vacancies/vacancies_by_date.csv', index=False)"
   ]
  },
  {
   "cell_type": "code",
   "execution_count": null,
   "id": "28199370",
   "metadata": {
    "papermill": {
     "duration": 0.001173,
     "end_time": "2025-08-12T08:26:55.404065",
     "exception": false,
     "start_time": "2025-08-12T08:26:55.402892",
     "status": "completed"
    },
    "tags": []
   },
   "outputs": [],
   "source": []
  }
 ],
 "metadata": {
  "kernelspec": {
   "display_name": "yff-data-ansOWYcy",
   "language": "python",
   "name": "python3"
  },
  "language_info": {
   "codemirror_mode": {
    "name": "ipython",
    "version": 3
   },
   "file_extension": ".py",
   "mimetype": "text/x-python",
   "name": "python",
   "nbconvert_exporter": "python",
   "pygments_lexer": "ipython3",
   "version": "3.10.18"
  },
  "papermill": {
   "default_parameters": {},
   "duration": 1.786761,
   "end_time": "2025-08-12T08:26:55.621069",
   "environment_variables": {},
   "exception": null,
   "input_path": "transform.ipynb",
   "output_path": "../../working/output/vacancies-transform.ipynb",
   "parameters": {},
   "start_time": "2025-08-12T08:26:53.834308",
   "version": "2.5.0"
  }
 },
 "nbformat": 4,
 "nbformat_minor": 5
}