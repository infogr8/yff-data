{
 "cells": [
  {
   "cell_type": "code",
   "execution_count": 1,
   "id": "94c3477a",
   "metadata": {
    "execution": {
     "iopub.execute_input": "2024-09-10T06:49:05.856937Z",
     "iopub.status.busy": "2024-09-10T06:49:05.856690Z",
     "iopub.status.idle": "2024-09-10T06:49:06.167623Z",
     "shell.execute_reply": "2024-09-10T06:49:06.167051Z"
    },
    "papermill": {
     "duration": 0.315259,
     "end_time": "2024-09-10T06:49:06.169276",
     "exception": false,
     "start_time": "2024-09-10T06:49:05.854017",
     "status": "completed"
    },
    "tags": []
   },
   "outputs": [],
   "source": [
    "import pandas as pd"
   ]
  },
  {
   "cell_type": "markdown",
   "id": "db712e5a",
   "metadata": {
    "papermill": {
     "duration": 0.001138,
     "end_time": "2024-09-10T06:49:06.171785",
     "exception": false,
     "start_time": "2024-09-10T06:49:06.170647",
     "status": "completed"
    },
    "tags": []
   },
   "source": [
    "Duplicating VACS02"
   ]
  },
  {
   "cell_type": "code",
   "execution_count": 2,
   "id": "b45c4db8",
   "metadata": {
    "execution": {
     "iopub.execute_input": "2024-09-10T06:49:06.175343Z",
     "iopub.status.busy": "2024-09-10T06:49:06.174876Z",
     "iopub.status.idle": "2024-09-10T06:49:06.178760Z",
     "shell.execute_reply": "2024-09-10T06:49:06.178242Z"
    },
    "papermill": {
     "duration": 0.007049,
     "end_time": "2024-09-10T06:49:06.180008",
     "exception": false,
     "start_time": "2024-09-10T06:49:06.172959",
     "status": "completed"
    },
    "tags": []
   },
   "outputs": [],
   "source": [
    "levels = [\n",
    "    'AP2Y', 'JP9H', 'JP9I', 'JP9J', 'JP9K', 'JP9L', 'JP9M', 'JP9N', 'JP9O', 'JP9P', 'JP9Q', 'JP9R', 'JP9S', 'JP9T', 'JP9U', 'JP9V', 'JP9W', 'JP9X', 'JP9Y', 'JP9Z'\n",
    "]\n",
    "ratios = [\n",
    "    'AP2Z', 'JPA2', 'JPA3', 'JPA4', 'JPA5', 'JPA6', 'JPA7', 'JPA8', 'JPA9', 'JPB2', 'JPB3', 'JPB4', 'JPB5', 'JPB6', 'JPB7', 'JPB8', 'JPB9', 'JPC2', 'JPC3', 'JPC4'\n",
    "]"
   ]
  },
  {
   "cell_type": "code",
   "execution_count": 3,
   "id": "5c89d47b",
   "metadata": {
    "execution": {
     "iopub.execute_input": "2024-09-10T06:49:06.183405Z",
     "iopub.status.busy": "2024-09-10T06:49:06.182975Z",
     "iopub.status.idle": "2024-09-10T06:49:06.245452Z",
     "shell.execute_reply": "2024-09-10T06:49:06.244859Z"
    },
    "papermill": {
     "duration": 0.065908,
     "end_time": "2024-09-10T06:49:06.247091",
     "exception": false,
     "start_time": "2024-09-10T06:49:06.181183",
     "status": "completed"
    },
    "tags": []
   },
   "outputs": [],
   "source": [
    "data = pd.read_csv('../../working/upstream/unem.csv')\n",
    "codes = pd.read_csv('../../working/upstream/unem-codes.csv', index_col=['CDID'], parse_dates=['Release Date', 'Next release'])\n",
    "data = data.loc[data.variable.isin(levels + ratios)]\n",
    "data = data.merge(codes, left_on='variable', right_index=True)"
   ]
  },
  {
   "cell_type": "code",
   "execution_count": 4,
   "id": "aaed767c",
   "metadata": {
    "execution": {
     "iopub.execute_input": "2024-09-10T06:49:06.252036Z",
     "iopub.status.busy": "2024-09-10T06:49:06.251598Z",
     "iopub.status.idle": "2024-09-10T06:49:06.258696Z",
     "shell.execute_reply": "2024-09-10T06:49:06.258197Z"
    },
    "papermill": {
     "duration": 0.011584,
     "end_time": "2024-09-10T06:49:06.260065",
     "exception": false,
     "start_time": "2024-09-10T06:49:06.248481",
     "status": "completed"
    },
    "tags": []
   },
   "outputs": [],
   "source": [
    "vacancies_by_date = data.loc[\n",
    "    data.variable=='AP2Y',\n",
    "    ['variable', 'value', 'date', 'freq']\n",
    "].rename(\n",
    "    columns={'variable': 'code'}\n",
    ")\n",
    "\n",
    "vacancies_by_date.to_csv('../../data/vacancies/vacancies_by_date.csv', index=False)"
   ]
  },
  {
   "cell_type": "code",
   "execution_count": null,
   "id": "4e7490f1",
   "metadata": {
    "papermill": {
     "duration": 0.001192,
     "end_time": "2024-09-10T06:49:06.262529",
     "exception": false,
     "start_time": "2024-09-10T06:49:06.261337",
     "status": "completed"
    },
    "tags": []
   },
   "outputs": [],
   "source": []
  }
 ],
 "metadata": {
  "kernelspec": {
   "display_name": "yff-data-ansOWYcy",
   "language": "python",
   "name": "python3"
  },
  "language_info": {
   "codemirror_mode": {
    "name": "ipython",
    "version": 3
   },
   "file_extension": ".py",
   "mimetype": "text/x-python",
   "name": "python",
   "nbconvert_exporter": "python",
   "pygments_lexer": "ipython3",
   "version": "3.10.14"
  },
  "papermill": {
   "default_parameters": {},
   "duration": 1.824566,
   "end_time": "2024-09-10T06:49:06.479215",
   "environment_variables": {},
   "exception": null,
   "input_path": "transform.ipynb",
   "output_path": "../../working/output/vacancies-transform.ipynb",
   "parameters": {},
   "start_time": "2024-09-10T06:49:04.654649",
   "version": "2.5.0"
  }
 },
 "nbformat": 4,
 "nbformat_minor": 5
}