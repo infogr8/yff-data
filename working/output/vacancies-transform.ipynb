{
 "cells": [
  {
   "cell_type": "code",
   "execution_count": 1,
   "id": "d13bb47c",
   "metadata": {
    "execution": {
     "iopub.execute_input": "2023-11-17T13:10:38.705414Z",
     "iopub.status.busy": "2023-11-17T13:10:38.705252Z",
     "iopub.status.idle": "2023-11-17T13:10:38.875736Z",
     "shell.execute_reply": "2023-11-17T13:10:38.875362Z"
    },
    "papermill": {
     "duration": 0.176683,
     "end_time": "2023-11-17T13:10:38.876829",
     "exception": false,
     "start_time": "2023-11-17T13:10:38.700146",
     "status": "completed"
    },
    "tags": []
   },
   "outputs": [],
   "source": [
    "import pandas as pd"
   ]
  },
  {
   "cell_type": "markdown",
   "id": "f42e43ea",
   "metadata": {
    "papermill": {
     "duration": 0.000715,
     "end_time": "2023-11-17T13:10:38.878377",
     "exception": false,
     "start_time": "2023-11-17T13:10:38.877662",
     "status": "completed"
    },
    "tags": []
   },
   "source": [
    "Duplicating VACS02"
   ]
  },
  {
   "cell_type": "code",
   "execution_count": 2,
   "id": "07ae7088",
   "metadata": {
    "execution": {
     "iopub.execute_input": "2023-11-17T13:10:38.880303Z",
     "iopub.status.busy": "2023-11-17T13:10:38.880119Z",
     "iopub.status.idle": "2023-11-17T13:10:38.882377Z",
     "shell.execute_reply": "2023-11-17T13:10:38.882096Z"
    },
    "papermill": {
     "duration": 0.003957,
     "end_time": "2023-11-17T13:10:38.883005",
     "exception": false,
     "start_time": "2023-11-17T13:10:38.879048",
     "status": "completed"
    },
    "tags": []
   },
   "outputs": [],
   "source": [
    "levels = [\n",
    "    'AP2Y', 'JP9H', 'JP9I', 'JP9J', 'JP9K', 'JP9L', 'JP9M', 'JP9N', 'JP9O', 'JP9P', 'JP9Q', 'JP9R', 'JP9S', 'JP9T', 'JP9U', 'JP9V', 'JP9W', 'JP9X', 'JP9Y', 'JP9Z'\n",
    "]\n",
    "ratios = [\n",
    "    'AP2Z', 'JPA2', 'JPA3', 'JPA4', 'JPA5', 'JPA6', 'JPA7', 'JPA8', 'JPA9', 'JPB2', 'JPB3', 'JPB4', 'JPB5', 'JPB6', 'JPB7', 'JPB8', 'JPB9', 'JPC2', 'JPC3', 'JPC4'\n",
    "]"
   ]
  },
  {
   "cell_type": "code",
   "execution_count": 3,
   "id": "51587ebf",
   "metadata": {
    "execution": {
     "iopub.execute_input": "2023-11-17T13:10:38.884930Z",
     "iopub.status.busy": "2023-11-17T13:10:38.884726Z",
     "iopub.status.idle": "2023-11-17T13:10:38.928648Z",
     "shell.execute_reply": "2023-11-17T13:10:38.928357Z"
    },
    "papermill": {
     "duration": 0.045808,
     "end_time": "2023-11-17T13:10:38.929512",
     "exception": false,
     "start_time": "2023-11-17T13:10:38.883704",
     "status": "completed"
    },
    "tags": []
   },
   "outputs": [
    {
     "name": "stderr",
     "output_type": "stream",
     "text": [
      "/tmp/ipykernel_2097015/2101734166.py:2: UserWarning: Parsing dates in %d-%m-%Y format when dayfirst=False (the default) was specified. Pass `dayfirst=True` or specify a format to silence this warning.\n",
      "  codes = pd.read_csv('../../working/upstream/unem-codes.csv', index_col=['CDID'], parse_dates=['Release Date', 'Next release'])\n"
     ]
    }
   ],
   "source": [
    "data = pd.read_csv('../../working/upstream/unem.csv')\n",
    "codes = pd.read_csv('../../working/upstream/unem-codes.csv', index_col=['CDID'], parse_dates=['Release Date', 'Next release'])\n",
    "data = data.loc[data.variable.isin(levels + ratios)]\n",
    "data = data.merge(codes, left_on='variable', right_index=True)"
   ]
  },
  {
   "cell_type": "code",
   "execution_count": 4,
   "id": "31e4e2b6",
   "metadata": {
    "execution": {
     "iopub.execute_input": "2023-11-17T13:10:38.931794Z",
     "iopub.status.busy": "2023-11-17T13:10:38.931657Z",
     "iopub.status.idle": "2023-11-17T13:10:38.936282Z",
     "shell.execute_reply": "2023-11-17T13:10:38.935973Z"
    },
    "papermill": {
     "duration": 0.006687,
     "end_time": "2023-11-17T13:10:38.937065",
     "exception": false,
     "start_time": "2023-11-17T13:10:38.930378",
     "status": "completed"
    },
    "tags": []
   },
   "outputs": [],
   "source": [
    "vacancies_by_date = data.loc[\n",
    "    data.variable=='AP2Y',\n",
    "    ['variable', 'value', 'date', 'freq']\n",
    "].rename(\n",
    "    columns={'variable': 'code'}\n",
    ")\n",
    "\n",
    "vacancies_by_date.to_csv('../../data/vacancies/vacancies_by_date.csv', index=False)"
   ]
  },
  {
   "cell_type": "code",
   "execution_count": null,
   "id": "8ef70eb3",
   "metadata": {
    "papermill": {
     "duration": 0.000771,
     "end_time": "2023-11-17T13:10:38.938642",
     "exception": false,
     "start_time": "2023-11-17T13:10:38.937871",
     "status": "completed"
    },
    "tags": []
   },
   "outputs": [],
   "source": []
  }
 ],
 "metadata": {
  "kernelspec": {
   "display_name": "yff-data-ansOWYcy",
   "language": "python",
   "name": "python3"
  },
  "language_info": {
   "codemirror_mode": {
    "name": "ipython",
    "version": 3
   },
   "file_extension": ".py",
   "mimetype": "text/x-python",
   "name": "python",
   "nbconvert_exporter": "python",
   "pygments_lexer": "ipython3",
   "version": "3.10.12"
  },
  "papermill": {
   "default_parameters": {},
   "duration": 1.296214,
   "end_time": "2023-11-17T13:10:39.155984",
   "environment_variables": {},
   "exception": null,
   "input_path": "transform.ipynb",
   "output_path": "../../working/output/vacancies-transform.ipynb",
   "parameters": {},
   "start_time": "2023-11-17T13:10:37.859770",
   "version": "2.4.0"
  }
 },
 "nbformat": 4,
 "nbformat_minor": 5
}