{
 "cells": [
  {
   "cell_type": "code",
   "execution_count": 1,
   "id": "8d1942db",
   "metadata": {
    "execution": {
     "iopub.execute_input": "2024-03-12T07:26:21.227661Z",
     "iopub.status.busy": "2024-03-12T07:26:21.227462Z",
     "iopub.status.idle": "2024-03-12T07:26:21.528916Z",
     "shell.execute_reply": "2024-03-12T07:26:21.528329Z"
    },
    "papermill": {
     "duration": 0.305685,
     "end_time": "2024-03-12T07:26:21.530551",
     "exception": false,
     "start_time": "2024-03-12T07:26:21.224866",
     "status": "completed"
    },
    "tags": []
   },
   "outputs": [],
   "source": [
    "import pandas as pd"
   ]
  },
  {
   "cell_type": "markdown",
   "id": "fb6660d5",
   "metadata": {
    "papermill": {
     "duration": 0.001113,
     "end_time": "2024-03-12T07:26:21.533042",
     "exception": false,
     "start_time": "2024-03-12T07:26:21.531929",
     "status": "completed"
    },
    "tags": []
   },
   "source": [
    "Duplicating VACS02"
   ]
  },
  {
   "cell_type": "code",
   "execution_count": 2,
   "id": "fd49cdb2",
   "metadata": {
    "execution": {
     "iopub.execute_input": "2024-03-12T07:26:21.536485Z",
     "iopub.status.busy": "2024-03-12T07:26:21.536023Z",
     "iopub.status.idle": "2024-03-12T07:26:21.539777Z",
     "shell.execute_reply": "2024-03-12T07:26:21.539211Z"
    },
    "papermill": {
     "duration": 0.006848,
     "end_time": "2024-03-12T07:26:21.541027",
     "exception": false,
     "start_time": "2024-03-12T07:26:21.534179",
     "status": "completed"
    },
    "tags": []
   },
   "outputs": [],
   "source": [
    "levels = [\n",
    "    'AP2Y', 'JP9H', 'JP9I', 'JP9J', 'JP9K', 'JP9L', 'JP9M', 'JP9N', 'JP9O', 'JP9P', 'JP9Q', 'JP9R', 'JP9S', 'JP9T', 'JP9U', 'JP9V', 'JP9W', 'JP9X', 'JP9Y', 'JP9Z'\n",
    "]\n",
    "ratios = [\n",
    "    'AP2Z', 'JPA2', 'JPA3', 'JPA4', 'JPA5', 'JPA6', 'JPA7', 'JPA8', 'JPA9', 'JPB2', 'JPB3', 'JPB4', 'JPB5', 'JPB6', 'JPB7', 'JPB8', 'JPB9', 'JPC2', 'JPC3', 'JPC4'\n",
    "]"
   ]
  },
  {
   "cell_type": "code",
   "execution_count": 3,
   "id": "630a4b76",
   "metadata": {
    "execution": {
     "iopub.execute_input": "2024-03-12T07:26:21.544355Z",
     "iopub.status.busy": "2024-03-12T07:26:21.543975Z",
     "iopub.status.idle": "2024-03-12T07:26:21.604740Z",
     "shell.execute_reply": "2024-03-12T07:26:21.604179Z"
    },
    "papermill": {
     "duration": 0.063979,
     "end_time": "2024-03-12T07:26:21.606197",
     "exception": false,
     "start_time": "2024-03-12T07:26:21.542218",
     "status": "completed"
    },
    "tags": []
   },
   "outputs": [],
   "source": [
    "data = pd.read_csv('../../working/upstream/unem.csv')\n",
    "codes = pd.read_csv('../../working/upstream/unem-codes.csv', index_col=['CDID'], parse_dates=['Release Date', 'Next release'])\n",
    "data = data.loc[data.variable.isin(levels + ratios)]\n",
    "data = data.merge(codes, left_on='variable', right_index=True)"
   ]
  },
  {
   "cell_type": "code",
   "execution_count": 4,
   "id": "1c4071f1",
   "metadata": {
    "execution": {
     "iopub.execute_input": "2024-03-12T07:26:21.610852Z",
     "iopub.status.busy": "2024-03-12T07:26:21.610370Z",
     "iopub.status.idle": "2024-03-12T07:26:21.617306Z",
     "shell.execute_reply": "2024-03-12T07:26:21.616690Z"
    },
    "papermill": {
     "duration": 0.011226,
     "end_time": "2024-03-12T07:26:21.618719",
     "exception": false,
     "start_time": "2024-03-12T07:26:21.607493",
     "status": "completed"
    },
    "tags": []
   },
   "outputs": [],
   "source": [
    "vacancies_by_date = data.loc[\n",
    "    data.variable=='AP2Y',\n",
    "    ['variable', 'value', 'date', 'freq']\n",
    "].rename(\n",
    "    columns={'variable': 'code'}\n",
    ")\n",
    "\n",
    "vacancies_by_date.to_csv('../../data/vacancies/vacancies_by_date.csv', index=False)"
   ]
  },
  {
   "cell_type": "code",
   "execution_count": null,
   "id": "6f8add0e",
   "metadata": {
    "papermill": {
     "duration": 0.001187,
     "end_time": "2024-03-12T07:26:21.621128",
     "exception": false,
     "start_time": "2024-03-12T07:26:21.619941",
     "status": "completed"
    },
    "tags": []
   },
   "outputs": [],
   "source": []
  }
 ],
 "metadata": {
  "kernelspec": {
   "display_name": "yff-data-ansOWYcy",
   "language": "python",
   "name": "python3"
  },
  "language_info": {
   "codemirror_mode": {
    "name": "ipython",
    "version": 3
   },
   "file_extension": ".py",
   "mimetype": "text/x-python",
   "name": "python",
   "nbconvert_exporter": "python",
   "pygments_lexer": "ipython3",
   "version": "3.10.13"
  },
  "papermill": {
   "default_parameters": {},
   "duration": 2.100532,
   "end_time": "2024-03-12T07:26:21.839147",
   "environment_variables": {},
   "exception": null,
   "input_path": "transform.ipynb",
   "output_path": "../../working/output/vacancies-transform.ipynb",
   "parameters": {},
   "start_time": "2024-03-12T07:26:19.738615",
   "version": "2.5.0"
  }
 },
 "nbformat": 4,
 "nbformat_minor": 5
}