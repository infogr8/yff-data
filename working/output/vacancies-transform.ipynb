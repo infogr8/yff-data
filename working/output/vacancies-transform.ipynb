{
 "cells": [
  {
   "cell_type": "code",
   "execution_count": 1,
   "id": "70950f6f",
   "metadata": {
    "execution": {
     "iopub.execute_input": "2023-10-17T10:17:39.238020Z",
     "iopub.status.busy": "2023-10-17T10:17:39.237717Z",
     "iopub.status.idle": "2023-10-17T10:17:39.425000Z",
     "shell.execute_reply": "2023-10-17T10:17:39.424523Z"
    },
    "papermill": {
     "duration": 0.193144,
     "end_time": "2023-10-17T10:17:39.426068",
     "exception": false,
     "start_time": "2023-10-17T10:17:39.232924",
     "status": "completed"
    },
    "tags": []
   },
   "outputs": [],
   "source": [
    "import pandas as pd"
   ]
  },
  {
   "cell_type": "markdown",
   "id": "c706ad02",
   "metadata": {
    "papermill": {
     "duration": 0.000731,
     "end_time": "2023-10-17T10:17:39.427606",
     "exception": false,
     "start_time": "2023-10-17T10:17:39.426875",
     "status": "completed"
    },
    "tags": []
   },
   "source": [
    "Duplicating VACS02"
   ]
  },
  {
   "cell_type": "code",
   "execution_count": 2,
   "id": "aecda18d",
   "metadata": {
    "execution": {
     "iopub.execute_input": "2023-10-17T10:17:39.467948Z",
     "iopub.status.busy": "2023-10-17T10:17:39.467286Z",
     "iopub.status.idle": "2023-10-17T10:17:39.475049Z",
     "shell.execute_reply": "2023-10-17T10:17:39.473810Z"
    },
    "papermill": {
     "duration": 0.031014,
     "end_time": "2023-10-17T10:17:39.477922",
     "exception": false,
     "start_time": "2023-10-17T10:17:39.446908",
     "status": "completed"
    },
    "tags": []
   },
   "outputs": [],
   "source": [
    "levels = [\n",
    "    'AP2Y', 'JP9H', 'JP9I', 'JP9J', 'JP9K', 'JP9L', 'JP9M', 'JP9N', 'JP9O', 'JP9P', 'JP9Q', 'JP9R', 'JP9S', 'JP9T', 'JP9U', 'JP9V', 'JP9W', 'JP9X', 'JP9Y', 'JP9Z'\n",
    "]\n",
    "ratios = [\n",
    "    'AP2Z', 'JPA2', 'JPA3', 'JPA4', 'JPA5', 'JPA6', 'JPA7', 'JPA8', 'JPA9', 'JPB2', 'JPB3', 'JPB4', 'JPB5', 'JPB6', 'JPB7', 'JPB8', 'JPB9', 'JPC2', 'JPC3', 'JPC4'\n",
    "]"
   ]
  },
  {
   "cell_type": "code",
   "execution_count": 3,
   "id": "99716b72",
   "metadata": {
    "execution": {
     "iopub.execute_input": "2023-10-17T10:17:39.486281Z",
     "iopub.status.busy": "2023-10-17T10:17:39.485828Z",
     "iopub.status.idle": "2023-10-17T10:17:39.538101Z",
     "shell.execute_reply": "2023-10-17T10:17:39.537654Z"
    },
    "papermill": {
     "duration": 0.058102,
     "end_time": "2023-10-17T10:17:39.539132",
     "exception": false,
     "start_time": "2023-10-17T10:17:39.481030",
     "status": "completed"
    },
    "tags": []
   },
   "outputs": [],
   "source": [
    "data = pd.read_csv('../../working/upstream/unem.csv')\n",
    "codes = pd.read_csv('../../working/upstream/unem-codes.csv', index_col=['CDID'], parse_dates=['Release Date', 'Next release'])\n",
    "data = data.loc[data.variable.isin(levels + ratios)]\n",
    "data = data.merge(codes, left_on='variable', right_index=True)"
   ]
  },
  {
   "cell_type": "code",
   "execution_count": 4,
   "id": "abadcc13",
   "metadata": {
    "execution": {
     "iopub.execute_input": "2023-10-17T10:17:39.541310Z",
     "iopub.status.busy": "2023-10-17T10:17:39.541186Z",
     "iopub.status.idle": "2023-10-17T10:17:39.545746Z",
     "shell.execute_reply": "2023-10-17T10:17:39.545426Z"
    },
    "papermill": {
     "duration": 0.006612,
     "end_time": "2023-10-17T10:17:39.546573",
     "exception": false,
     "start_time": "2023-10-17T10:17:39.539961",
     "status": "completed"
    },
    "tags": []
   },
   "outputs": [],
   "source": [
    "vacancies_by_date = data.loc[\n",
    "    data.variable=='AP2Y',\n",
    "    ['variable', 'value', 'date', 'freq']\n",
    "].rename(\n",
    "    columns={'variable': 'code'}\n",
    ")\n",
    "\n",
    "vacancies_by_date.to_csv('../../data/vacancies/vacancies_by_date.csv', index=False)"
   ]
  },
  {
   "cell_type": "code",
   "execution_count": null,
   "id": "b011152d",
   "metadata": {
    "papermill": {
     "duration": 0.000703,
     "end_time": "2023-10-17T10:17:39.548002",
     "exception": false,
     "start_time": "2023-10-17T10:17:39.547299",
     "status": "completed"
    },
    "tags": []
   },
   "outputs": [],
   "source": []
  }
 ],
 "metadata": {
  "kernelspec": {
   "display_name": "yff-data-ansOWYcy",
   "language": "python",
   "name": "python3"
  },
  "language_info": {
   "codemirror_mode": {
    "name": "ipython",
    "version": 3
   },
   "file_extension": ".py",
   "mimetype": "text/x-python",
   "name": "python",
   "nbconvert_exporter": "python",
   "pygments_lexer": "ipython3",
   "version": "3.10.12"
  },
  "papermill": {
   "default_parameters": {},
   "duration": 1.229482,
   "end_time": "2023-10-17T10:17:39.764586",
   "environment_variables": {},
   "exception": null,
   "input_path": "transform.ipynb",
   "output_path": "../../working/output/vacancies-transform.ipynb",
   "parameters": {},
   "start_time": "2023-10-17T10:17:38.535104",
   "version": "2.4.0"
  }
 },
 "nbformat": 4,
 "nbformat_minor": 5
}