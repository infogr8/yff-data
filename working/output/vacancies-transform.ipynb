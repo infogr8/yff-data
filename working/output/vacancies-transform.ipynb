{
 "cells": [
  {
   "cell_type": "code",
   "execution_count": 1,
   "id": "d0b53b00",
   "metadata": {
    "execution": {
     "iopub.execute_input": "2025-01-22T14:33:45.752706Z",
     "iopub.status.busy": "2025-01-22T14:33:45.752448Z",
     "iopub.status.idle": "2025-01-22T14:33:46.055160Z",
     "shell.execute_reply": "2025-01-22T14:33:46.054564Z"
    },
    "papermill": {
     "duration": 0.307012,
     "end_time": "2025-01-22T14:33:46.056834",
     "exception": false,
     "start_time": "2025-01-22T14:33:45.749822",
     "status": "completed"
    },
    "tags": []
   },
   "outputs": [],
   "source": [
    "import pandas as pd"
   ]
  },
  {
   "cell_type": "markdown",
   "id": "78609d82",
   "metadata": {
    "papermill": {
     "duration": 0.001225,
     "end_time": "2025-01-22T14:33:46.059447",
     "exception": false,
     "start_time": "2025-01-22T14:33:46.058222",
     "status": "completed"
    },
    "tags": []
   },
   "source": [
    "Duplicating VACS02"
   ]
  },
  {
   "cell_type": "code",
   "execution_count": 2,
   "id": "b20f952c",
   "metadata": {
    "execution": {
     "iopub.execute_input": "2025-01-22T14:33:46.062791Z",
     "iopub.status.busy": "2025-01-22T14:33:46.062490Z",
     "iopub.status.idle": "2025-01-22T14:33:46.066287Z",
     "shell.execute_reply": "2025-01-22T14:33:46.065679Z"
    },
    "papermill": {
     "duration": 0.007012,
     "end_time": "2025-01-22T14:33:46.067581",
     "exception": false,
     "start_time": "2025-01-22T14:33:46.060569",
     "status": "completed"
    },
    "tags": []
   },
   "outputs": [],
   "source": [
    "levels = [\n",
    "    'AP2Y', 'JP9H', 'JP9I', 'JP9J', 'JP9K', 'JP9L', 'JP9M', 'JP9N', 'JP9O', 'JP9P', 'JP9Q', 'JP9R', 'JP9S', 'JP9T', 'JP9U', 'JP9V', 'JP9W', 'JP9X', 'JP9Y', 'JP9Z'\n",
    "]\n",
    "ratios = [\n",
    "    'AP2Z', 'JPA2', 'JPA3', 'JPA4', 'JPA5', 'JPA6', 'JPA7', 'JPA8', 'JPA9', 'JPB2', 'JPB3', 'JPB4', 'JPB5', 'JPB6', 'JPB7', 'JPB8', 'JPB9', 'JPC2', 'JPC3', 'JPC4'\n",
    "]"
   ]
  },
  {
   "cell_type": "code",
   "execution_count": 3,
   "id": "18a82c06",
   "metadata": {
    "execution": {
     "iopub.execute_input": "2025-01-22T14:33:46.071164Z",
     "iopub.status.busy": "2025-01-22T14:33:46.070581Z",
     "iopub.status.idle": "2025-01-22T14:33:46.130684Z",
     "shell.execute_reply": "2025-01-22T14:33:46.130097Z"
    },
    "papermill": {
     "duration": 0.063574,
     "end_time": "2025-01-22T14:33:46.132320",
     "exception": false,
     "start_time": "2025-01-22T14:33:46.068746",
     "status": "completed"
    },
    "tags": []
   },
   "outputs": [],
   "source": [
    "data = pd.read_csv('../../working/upstream/unem.csv')\n",
    "codes = pd.read_csv('../../working/upstream/unem-codes.csv', index_col=['CDID'], parse_dates=['Release Date', 'Next release'])\n",
    "data = data.loc[data.variable.isin(levels + ratios)]\n",
    "data = data.merge(codes, left_on='variable', right_index=True)"
   ]
  },
  {
   "cell_type": "code",
   "execution_count": 4,
   "id": "2702e487",
   "metadata": {
    "execution": {
     "iopub.execute_input": "2025-01-22T14:33:46.136161Z",
     "iopub.status.busy": "2025-01-22T14:33:46.135728Z",
     "iopub.status.idle": "2025-01-22T14:33:46.142791Z",
     "shell.execute_reply": "2025-01-22T14:33:46.142145Z"
    },
    "papermill": {
     "duration": 0.010435,
     "end_time": "2025-01-22T14:33:46.144120",
     "exception": false,
     "start_time": "2025-01-22T14:33:46.133685",
     "status": "completed"
    },
    "tags": []
   },
   "outputs": [],
   "source": [
    "vacancies_by_date = data.loc[\n",
    "    data.variable=='AP2Y',\n",
    "    ['variable', 'value', 'date', 'freq']\n",
    "].rename(\n",
    "    columns={'variable': 'code'}\n",
    ")\n",
    "\n",
    "vacancies_by_date.to_csv('../../data/vacancies/vacancies_by_date.csv', index=False)"
   ]
  },
  {
   "cell_type": "code",
   "execution_count": null,
   "id": "70186197",
   "metadata": {
    "papermill": {
     "duration": 0.001222,
     "end_time": "2025-01-22T14:33:46.146576",
     "exception": false,
     "start_time": "2025-01-22T14:33:46.145354",
     "status": "completed"
    },
    "tags": []
   },
   "outputs": [],
   "source": []
  }
 ],
 "metadata": {
  "kernelspec": {
   "display_name": "yff-data-ansOWYcy",
   "language": "python",
   "name": "python3"
  },
  "language_info": {
   "codemirror_mode": {
    "name": "ipython",
    "version": 3
   },
   "file_extension": ".py",
   "mimetype": "text/x-python",
   "name": "python",
   "nbconvert_exporter": "python",
   "pygments_lexer": "ipython3",
   "version": "3.10.16"
  },
  "papermill": {
   "default_parameters": {},
   "duration": 1.778849,
   "end_time": "2025-01-22T14:33:46.364128",
   "environment_variables": {},
   "exception": null,
   "input_path": "transform.ipynb",
   "output_path": "../../working/output/vacancies-transform.ipynb",
   "parameters": {},
   "start_time": "2025-01-22T14:33:44.585279",
   "version": "2.5.0"
  }
 },
 "nbformat": 4,
 "nbformat_minor": 5
}