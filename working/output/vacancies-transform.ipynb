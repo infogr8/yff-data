{
 "cells": [
  {
   "cell_type": "code",
   "execution_count": 1,
   "id": "4472bd4f",
   "metadata": {
    "execution": {
     "iopub.execute_input": "2025-04-24T08:26:22.153325Z",
     "iopub.status.busy": "2025-04-24T08:26:22.152987Z",
     "iopub.status.idle": "2025-04-24T08:26:22.470333Z",
     "shell.execute_reply": "2025-04-24T08:26:22.469622Z"
    },
    "papermill": {
     "duration": 0.322107,
     "end_time": "2025-04-24T08:26:22.472171",
     "exception": false,
     "start_time": "2025-04-24T08:26:22.150064",
     "status": "completed"
    },
    "tags": []
   },
   "outputs": [],
   "source": [
    "import pandas as pd"
   ]
  },
  {
   "cell_type": "markdown",
   "id": "e7e8c395",
   "metadata": {
    "papermill": {
     "duration": 0.001164,
     "end_time": "2025-04-24T08:26:22.474758",
     "exception": false,
     "start_time": "2025-04-24T08:26:22.473594",
     "status": "completed"
    },
    "tags": []
   },
   "source": [
    "Duplicating VACS02"
   ]
  },
  {
   "cell_type": "code",
   "execution_count": 2,
   "id": "0a9b9fc3",
   "metadata": {
    "execution": {
     "iopub.execute_input": "2025-04-24T08:26:22.478254Z",
     "iopub.status.busy": "2025-04-24T08:26:22.477806Z",
     "iopub.status.idle": "2025-04-24T08:26:22.481727Z",
     "shell.execute_reply": "2025-04-24T08:26:22.481095Z"
    },
    "papermill": {
     "duration": 0.00718,
     "end_time": "2025-04-24T08:26:22.483090",
     "exception": false,
     "start_time": "2025-04-24T08:26:22.475910",
     "status": "completed"
    },
    "tags": []
   },
   "outputs": [],
   "source": [
    "levels = [\n",
    "    'AP2Y', 'JP9H', 'JP9I', 'JP9J', 'JP9K', 'JP9L', 'JP9M', 'JP9N', 'JP9O', 'JP9P', 'JP9Q', 'JP9R', 'JP9S', 'JP9T', 'JP9U', 'JP9V', 'JP9W', 'JP9X', 'JP9Y', 'JP9Z'\n",
    "]\n",
    "ratios = [\n",
    "    'AP2Z', 'JPA2', 'JPA3', 'JPA4', 'JPA5', 'JPA6', 'JPA7', 'JPA8', 'JPA9', 'JPB2', 'JPB3', 'JPB4', 'JPB5', 'JPB6', 'JPB7', 'JPB8', 'JPB9', 'JPC2', 'JPC3', 'JPC4'\n",
    "]"
   ]
  },
  {
   "cell_type": "code",
   "execution_count": 3,
   "id": "16479908",
   "metadata": {
    "execution": {
     "iopub.execute_input": "2025-04-24T08:26:22.486432Z",
     "iopub.status.busy": "2025-04-24T08:26:22.486047Z",
     "iopub.status.idle": "2025-04-24T08:26:22.547508Z",
     "shell.execute_reply": "2025-04-24T08:26:22.546895Z"
    },
    "papermill": {
     "duration": 0.064953,
     "end_time": "2025-04-24T08:26:22.549205",
     "exception": false,
     "start_time": "2025-04-24T08:26:22.484252",
     "status": "completed"
    },
    "tags": []
   },
   "outputs": [],
   "source": [
    "data = pd.read_csv('../../working/upstream/unem.csv')\n",
    "codes = pd.read_csv('../../working/upstream/unem-codes.csv', index_col=['CDID'], parse_dates=['Release Date', 'Next release'])\n",
    "data = data.loc[data.variable.isin(levels + ratios)]\n",
    "data = data.merge(codes, left_on='variable', right_index=True)"
   ]
  },
  {
   "cell_type": "code",
   "execution_count": 4,
   "id": "da69fa99",
   "metadata": {
    "execution": {
     "iopub.execute_input": "2025-04-24T08:26:22.553333Z",
     "iopub.status.busy": "2025-04-24T08:26:22.552858Z",
     "iopub.status.idle": "2025-04-24T08:26:22.560582Z",
     "shell.execute_reply": "2025-04-24T08:26:22.559915Z"
    },
    "papermill": {
     "duration": 0.011294,
     "end_time": "2025-04-24T08:26:22.561964",
     "exception": false,
     "start_time": "2025-04-24T08:26:22.550670",
     "status": "completed"
    },
    "tags": []
   },
   "outputs": [],
   "source": [
    "vacancies_by_date = data.loc[\n",
    "    data.variable=='AP2Y',\n",
    "    ['variable', 'value', 'date', 'freq']\n",
    "].rename(\n",
    "    columns={'variable': 'code'}\n",
    ")\n",
    "\n",
    "vacancies_by_date.to_csv('../../data/vacancies/vacancies_by_date.csv', index=False)"
   ]
  },
  {
   "cell_type": "code",
   "execution_count": null,
   "id": "c5c2861f",
   "metadata": {
    "papermill": {
     "duration": 0.001226,
     "end_time": "2025-04-24T08:26:22.564448",
     "exception": false,
     "start_time": "2025-04-24T08:26:22.563222",
     "status": "completed"
    },
    "tags": []
   },
   "outputs": [],
   "source": []
  }
 ],
 "metadata": {
  "kernelspec": {
   "display_name": "yff-data-ansOWYcy",
   "language": "python",
   "name": "python3"
  },
  "language_info": {
   "codemirror_mode": {
    "name": "ipython",
    "version": 3
   },
   "file_extension": ".py",
   "mimetype": "text/x-python",
   "name": "python",
   "nbconvert_exporter": "python",
   "pygments_lexer": "ipython3",
   "version": "3.10.17"
  },
  "papermill": {
   "default_parameters": {},
   "duration": 1.8558,
   "end_time": "2025-04-24T08:26:22.781489",
   "environment_variables": {},
   "exception": null,
   "input_path": "transform.ipynb",
   "output_path": "../../working/output/vacancies-transform.ipynb",
   "parameters": {},
   "start_time": "2025-04-24T08:26:20.925689",
   "version": "2.5.0"
  }
 },
 "nbformat": 4,
 "nbformat_minor": 5
}