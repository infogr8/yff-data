{
 "cells": [
  {
   "cell_type": "code",
   "execution_count": 1,
   "id": "6c676d7a",
   "metadata": {
    "execution": {
     "iopub.execute_input": "2024-07-18T06:39:37.251656Z",
     "iopub.status.busy": "2024-07-18T06:39:37.251155Z",
     "iopub.status.idle": "2024-07-18T06:39:37.566105Z",
     "shell.execute_reply": "2024-07-18T06:39:37.565466Z"
    },
    "papermill": {
     "duration": 0.319407,
     "end_time": "2024-07-18T06:39:37.567830",
     "exception": false,
     "start_time": "2024-07-18T06:39:37.248423",
     "status": "completed"
    },
    "tags": []
   },
   "outputs": [],
   "source": [
    "import pandas as pd"
   ]
  },
  {
   "cell_type": "markdown",
   "id": "761dd576",
   "metadata": {
    "papermill": {
     "duration": 0.00112,
     "end_time": "2024-07-18T06:39:37.570350",
     "exception": false,
     "start_time": "2024-07-18T06:39:37.569230",
     "status": "completed"
    },
    "tags": []
   },
   "source": [
    "Duplicating VACS02"
   ]
  },
  {
   "cell_type": "code",
   "execution_count": 2,
   "id": "e5c30b01",
   "metadata": {
    "execution": {
     "iopub.execute_input": "2024-07-18T06:39:37.573939Z",
     "iopub.status.busy": "2024-07-18T06:39:37.573396Z",
     "iopub.status.idle": "2024-07-18T06:39:37.577518Z",
     "shell.execute_reply": "2024-07-18T06:39:37.576858Z"
    },
    "papermill": {
     "duration": 0.007323,
     "end_time": "2024-07-18T06:39:37.578817",
     "exception": false,
     "start_time": "2024-07-18T06:39:37.571494",
     "status": "completed"
    },
    "tags": []
   },
   "outputs": [],
   "source": [
    "levels = [\n",
    "    'AP2Y', 'JP9H', 'JP9I', 'JP9J', 'JP9K', 'JP9L', 'JP9M', 'JP9N', 'JP9O', 'JP9P', 'JP9Q', 'JP9R', 'JP9S', 'JP9T', 'JP9U', 'JP9V', 'JP9W', 'JP9X', 'JP9Y', 'JP9Z'\n",
    "]\n",
    "ratios = [\n",
    "    'AP2Z', 'JPA2', 'JPA3', 'JPA4', 'JPA5', 'JPA6', 'JPA7', 'JPA8', 'JPA9', 'JPB2', 'JPB3', 'JPB4', 'JPB5', 'JPB6', 'JPB7', 'JPB8', 'JPB9', 'JPC2', 'JPC3', 'JPC4'\n",
    "]"
   ]
  },
  {
   "cell_type": "code",
   "execution_count": 3,
   "id": "bdf11fe3",
   "metadata": {
    "execution": {
     "iopub.execute_input": "2024-07-18T06:39:37.582234Z",
     "iopub.status.busy": "2024-07-18T06:39:37.581878Z",
     "iopub.status.idle": "2024-07-18T06:39:37.647243Z",
     "shell.execute_reply": "2024-07-18T06:39:37.646523Z"
    },
    "papermill": {
     "duration": 0.068985,
     "end_time": "2024-07-18T06:39:37.649048",
     "exception": false,
     "start_time": "2024-07-18T06:39:37.580063",
     "status": "completed"
    },
    "tags": []
   },
   "outputs": [],
   "source": [
    "data = pd.read_csv('../../working/upstream/unem.csv')\n",
    "codes = pd.read_csv('../../working/upstream/unem-codes.csv', index_col=['CDID'], parse_dates=['Release Date', 'Next release'])\n",
    "data = data.loc[data.variable.isin(levels + ratios)]\n",
    "data = data.merge(codes, left_on='variable', right_index=True)"
   ]
  },
  {
   "cell_type": "code",
   "execution_count": 4,
   "id": "69f5707b",
   "metadata": {
    "execution": {
     "iopub.execute_input": "2024-07-18T06:39:37.653778Z",
     "iopub.status.busy": "2024-07-18T06:39:37.653396Z",
     "iopub.status.idle": "2024-07-18T06:39:37.660716Z",
     "shell.execute_reply": "2024-07-18T06:39:37.660167Z"
    },
    "papermill": {
     "duration": 0.011634,
     "end_time": "2024-07-18T06:39:37.662055",
     "exception": false,
     "start_time": "2024-07-18T06:39:37.650421",
     "status": "completed"
    },
    "tags": []
   },
   "outputs": [],
   "source": [
    "vacancies_by_date = data.loc[\n",
    "    data.variable=='AP2Y',\n",
    "    ['variable', 'value', 'date', 'freq']\n",
    "].rename(\n",
    "    columns={'variable': 'code'}\n",
    ")\n",
    "\n",
    "vacancies_by_date.to_csv('../../data/vacancies/vacancies_by_date.csv', index=False)"
   ]
  },
  {
   "cell_type": "code",
   "execution_count": null,
   "id": "1daa1cf9",
   "metadata": {
    "papermill": {
     "duration": 0.001187,
     "end_time": "2024-07-18T06:39:37.664607",
     "exception": false,
     "start_time": "2024-07-18T06:39:37.663420",
     "status": "completed"
    },
    "tags": []
   },
   "outputs": [],
   "source": []
  }
 ],
 "metadata": {
  "kernelspec": {
   "display_name": "yff-data-ansOWYcy",
   "language": "python",
   "name": "python3"
  },
  "language_info": {
   "codemirror_mode": {
    "name": "ipython",
    "version": 3
   },
   "file_extension": ".py",
   "mimetype": "text/x-python",
   "name": "python",
   "nbconvert_exporter": "python",
   "pygments_lexer": "ipython3",
   "version": "3.10.14"
  },
  "papermill": {
   "default_parameters": {},
   "duration": 1.808003,
   "end_time": "2024-07-18T06:39:37.881067",
   "environment_variables": {},
   "exception": null,
   "input_path": "transform.ipynb",
   "output_path": "../../working/output/vacancies-transform.ipynb",
   "parameters": {},
   "start_time": "2024-07-18T06:39:36.073064",
   "version": "2.5.0"
  }
 },
 "nbformat": 4,
 "nbformat_minor": 5
}