{
 "cells": [
  {
   "cell_type": "code",
   "execution_count": 1,
   "id": "4363033a",
   "metadata": {
    "execution": {
     "iopub.execute_input": "2025-07-30T08:27:13.217755Z",
     "iopub.status.busy": "2025-07-30T08:27:13.217500Z",
     "iopub.status.idle": "2025-07-30T08:27:13.521418Z",
     "shell.execute_reply": "2025-07-30T08:27:13.520806Z"
    },
    "papermill": {
     "duration": 0.308486,
     "end_time": "2025-07-30T08:27:13.523161",
     "exception": false,
     "start_time": "2025-07-30T08:27:13.214675",
     "status": "completed"
    },
    "tags": []
   },
   "outputs": [],
   "source": [
    "import pandas as pd"
   ]
  },
  {
   "cell_type": "markdown",
   "id": "700fe46c",
   "metadata": {
    "papermill": {
     "duration": 0.001155,
     "end_time": "2025-07-30T08:27:13.525727",
     "exception": false,
     "start_time": "2025-07-30T08:27:13.524572",
     "status": "completed"
    },
    "tags": []
   },
   "source": [
    "Duplicating VACS02"
   ]
  },
  {
   "cell_type": "code",
   "execution_count": 2,
   "id": "a051cf30",
   "metadata": {
    "execution": {
     "iopub.execute_input": "2025-07-30T08:27:13.529321Z",
     "iopub.status.busy": "2025-07-30T08:27:13.528759Z",
     "iopub.status.idle": "2025-07-30T08:27:13.532783Z",
     "shell.execute_reply": "2025-07-30T08:27:13.532169Z"
    },
    "papermill": {
     "duration": 0.007294,
     "end_time": "2025-07-30T08:27:13.534156",
     "exception": false,
     "start_time": "2025-07-30T08:27:13.526862",
     "status": "completed"
    },
    "tags": []
   },
   "outputs": [],
   "source": [
    "levels = [\n",
    "    'AP2Y', 'JP9H', 'JP9I', 'JP9J', 'JP9K', 'JP9L', 'JP9M', 'JP9N', 'JP9O', 'JP9P', 'JP9Q', 'JP9R', 'JP9S', 'JP9T', 'JP9U', 'JP9V', 'JP9W', 'JP9X', 'JP9Y', 'JP9Z'\n",
    "]\n",
    "ratios = [\n",
    "    'AP2Z', 'JPA2', 'JPA3', 'JPA4', 'JPA5', 'JPA6', 'JPA7', 'JPA8', 'JPA9', 'JPB2', 'JPB3', 'JPB4', 'JPB5', 'JPB6', 'JPB7', 'JPB8', 'JPB9', 'JPC2', 'JPC3', 'JPC4'\n",
    "]"
   ]
  },
  {
   "cell_type": "code",
   "execution_count": 3,
   "id": "f73aac9c",
   "metadata": {
    "execution": {
     "iopub.execute_input": "2025-07-30T08:27:13.537656Z",
     "iopub.status.busy": "2025-07-30T08:27:13.537293Z",
     "iopub.status.idle": "2025-07-30T08:27:13.599974Z",
     "shell.execute_reply": "2025-07-30T08:27:13.599279Z"
    },
    "papermill": {
     "duration": 0.06634,
     "end_time": "2025-07-30T08:27:13.601781",
     "exception": false,
     "start_time": "2025-07-30T08:27:13.535441",
     "status": "completed"
    },
    "tags": []
   },
   "outputs": [],
   "source": [
    "data = pd.read_csv('../../working/upstream/unem.csv')\n",
    "codes = pd.read_csv('../../working/upstream/unem-codes.csv', index_col=['CDID'], parse_dates=['Release Date', 'Next release'])\n",
    "data = data.loc[data.variable.isin(levels + ratios)]\n",
    "data = data.merge(codes, left_on='variable', right_index=True)"
   ]
  },
  {
   "cell_type": "code",
   "execution_count": 4,
   "id": "bedf5b42",
   "metadata": {
    "execution": {
     "iopub.execute_input": "2025-07-30T08:27:13.605480Z",
     "iopub.status.busy": "2025-07-30T08:27:13.605274Z",
     "iopub.status.idle": "2025-07-30T08:27:13.612745Z",
     "shell.execute_reply": "2025-07-30T08:27:13.612068Z"
    },
    "papermill": {
     "duration": 0.010946,
     "end_time": "2025-07-30T08:27:13.614131",
     "exception": false,
     "start_time": "2025-07-30T08:27:13.603185",
     "status": "completed"
    },
    "tags": []
   },
   "outputs": [],
   "source": [
    "vacancies_by_date = data.loc[\n",
    "    data.variable=='AP2Y',\n",
    "    ['variable', 'value', 'date', 'freq']\n",
    "].rename(\n",
    "    columns={'variable': 'code'}\n",
    ")\n",
    "\n",
    "vacancies_by_date.to_csv('../../data/vacancies/vacancies_by_date.csv', index=False)"
   ]
  },
  {
   "cell_type": "code",
   "execution_count": null,
   "id": "7ac5077c",
   "metadata": {
    "papermill": {
     "duration": 0.001196,
     "end_time": "2025-07-30T08:27:13.616593",
     "exception": false,
     "start_time": "2025-07-30T08:27:13.615397",
     "status": "completed"
    },
    "tags": []
   },
   "outputs": [],
   "source": []
  }
 ],
 "metadata": {
  "kernelspec": {
   "display_name": "yff-data-ansOWYcy",
   "language": "python",
   "name": "python3"
  },
  "language_info": {
   "codemirror_mode": {
    "name": "ipython",
    "version": 3
   },
   "file_extension": ".py",
   "mimetype": "text/x-python",
   "name": "python",
   "nbconvert_exporter": "python",
   "pygments_lexer": "ipython3",
   "version": "3.10.18"
  },
  "papermill": {
   "default_parameters": {},
   "duration": 2.140206,
   "end_time": "2025-07-30T08:27:13.834986",
   "environment_variables": {},
   "exception": null,
   "input_path": "transform.ipynb",
   "output_path": "../../working/output/vacancies-transform.ipynb",
   "parameters": {},
   "start_time": "2025-07-30T08:27:11.694780",
   "version": "2.5.0"
  }
 },
 "nbformat": 4,
 "nbformat_minor": 5
}