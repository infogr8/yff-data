{
 "cells": [
  {
   "cell_type": "code",
   "execution_count": 1,
   "id": "8af90e78",
   "metadata": {
    "execution": {
     "iopub.execute_input": "2024-03-20T07:58:34.370852Z",
     "iopub.status.busy": "2024-03-20T07:58:34.370590Z",
     "iopub.status.idle": "2024-03-20T07:58:34.668664Z",
     "shell.execute_reply": "2024-03-20T07:58:34.668079Z"
    },
    "papermill": {
     "duration": 0.302519,
     "end_time": "2024-03-20T07:58:34.670325",
     "exception": false,
     "start_time": "2024-03-20T07:58:34.367806",
     "status": "completed"
    },
    "tags": []
   },
   "outputs": [],
   "source": [
    "import pandas as pd"
   ]
  },
  {
   "cell_type": "markdown",
   "id": "93dee79b",
   "metadata": {
    "papermill": {
     "duration": 0.001086,
     "end_time": "2024-03-20T07:58:34.672759",
     "exception": false,
     "start_time": "2024-03-20T07:58:34.671673",
     "status": "completed"
    },
    "tags": []
   },
   "source": [
    "Duplicating VACS02"
   ]
  },
  {
   "cell_type": "code",
   "execution_count": 2,
   "id": "ff203f7d",
   "metadata": {
    "execution": {
     "iopub.execute_input": "2024-03-20T07:58:34.678143Z",
     "iopub.status.busy": "2024-03-20T07:58:34.677676Z",
     "iopub.status.idle": "2024-03-20T07:58:34.681673Z",
     "shell.execute_reply": "2024-03-20T07:58:34.681091Z"
    },
    "papermill": {
     "duration": 0.00733,
     "end_time": "2024-03-20T07:58:34.682998",
     "exception": false,
     "start_time": "2024-03-20T07:58:34.675668",
     "status": "completed"
    },
    "tags": []
   },
   "outputs": [],
   "source": [
    "levels = [\n",
    "    'AP2Y', 'JP9H', 'JP9I', 'JP9J', 'JP9K', 'JP9L', 'JP9M', 'JP9N', 'JP9O', 'JP9P', 'JP9Q', 'JP9R', 'JP9S', 'JP9T', 'JP9U', 'JP9V', 'JP9W', 'JP9X', 'JP9Y', 'JP9Z'\n",
    "]\n",
    "ratios = [\n",
    "    'AP2Z', 'JPA2', 'JPA3', 'JPA4', 'JPA5', 'JPA6', 'JPA7', 'JPA8', 'JPA9', 'JPB2', 'JPB3', 'JPB4', 'JPB5', 'JPB6', 'JPB7', 'JPB8', 'JPB9', 'JPC2', 'JPC3', 'JPC4'\n",
    "]"
   ]
  },
  {
   "cell_type": "code",
   "execution_count": 3,
   "id": "84f0b0e1",
   "metadata": {
    "execution": {
     "iopub.execute_input": "2024-03-20T07:58:34.686415Z",
     "iopub.status.busy": "2024-03-20T07:58:34.685964Z",
     "iopub.status.idle": "2024-03-20T07:58:34.747057Z",
     "shell.execute_reply": "2024-03-20T07:58:34.746370Z"
    },
    "papermill": {
     "duration": 0.064589,
     "end_time": "2024-03-20T07:58:34.748745",
     "exception": false,
     "start_time": "2024-03-20T07:58:34.684156",
     "status": "completed"
    },
    "tags": []
   },
   "outputs": [],
   "source": [
    "data = pd.read_csv('../../working/upstream/unem.csv')\n",
    "codes = pd.read_csv('../../working/upstream/unem-codes.csv', index_col=['CDID'], parse_dates=['Release Date', 'Next release'])\n",
    "data = data.loc[data.variable.isin(levels + ratios)]\n",
    "data = data.merge(codes, left_on='variable', right_index=True)"
   ]
  },
  {
   "cell_type": "code",
   "execution_count": 4,
   "id": "f6b74784",
   "metadata": {
    "execution": {
     "iopub.execute_input": "2024-03-20T07:58:34.753381Z",
     "iopub.status.busy": "2024-03-20T07:58:34.752895Z",
     "iopub.status.idle": "2024-03-20T07:58:34.759912Z",
     "shell.execute_reply": "2024-03-20T07:58:34.759412Z"
    },
    "papermill": {
     "duration": 0.011165,
     "end_time": "2024-03-20T07:58:34.761251",
     "exception": false,
     "start_time": "2024-03-20T07:58:34.750086",
     "status": "completed"
    },
    "tags": []
   },
   "outputs": [],
   "source": [
    "vacancies_by_date = data.loc[\n",
    "    data.variable=='AP2Y',\n",
    "    ['variable', 'value', 'date', 'freq']\n",
    "].rename(\n",
    "    columns={'variable': 'code'}\n",
    ")\n",
    "\n",
    "vacancies_by_date.to_csv('../../data/vacancies/vacancies_by_date.csv', index=False)"
   ]
  },
  {
   "cell_type": "code",
   "execution_count": null,
   "id": "8e08ac44",
   "metadata": {
    "papermill": {
     "duration": 0.001158,
     "end_time": "2024-03-20T07:58:34.763626",
     "exception": false,
     "start_time": "2024-03-20T07:58:34.762468",
     "status": "completed"
    },
    "tags": []
   },
   "outputs": [],
   "source": []
  }
 ],
 "metadata": {
  "kernelspec": {
   "display_name": "yff-data-ansOWYcy",
   "language": "python",
   "name": "python3"
  },
  "language_info": {
   "codemirror_mode": {
    "name": "ipython",
    "version": 3
   },
   "file_extension": ".py",
   "mimetype": "text/x-python",
   "name": "python",
   "nbconvert_exporter": "python",
   "pygments_lexer": "ipython3",
   "version": "3.10.13"
  },
  "papermill": {
   "default_parameters": {},
   "duration": 1.786299,
   "end_time": "2024-03-20T07:58:34.980193",
   "environment_variables": {},
   "exception": null,
   "input_path": "transform.ipynb",
   "output_path": "../../working/output/vacancies-transform.ipynb",
   "parameters": {},
   "start_time": "2024-03-20T07:58:33.193894",
   "version": "2.5.0"
  }
 },
 "nbformat": 4,
 "nbformat_minor": 5
}