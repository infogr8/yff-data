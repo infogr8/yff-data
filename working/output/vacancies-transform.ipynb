{
 "cells": [
  {
   "cell_type": "code",
   "execution_count": 1,
   "id": "749aa39b",
   "metadata": {
    "execution": {
     "iopub.execute_input": "2023-11-15T07:45:31.945940Z",
     "iopub.status.busy": "2023-11-15T07:45:31.945678Z",
     "iopub.status.idle": "2023-11-15T07:45:32.196290Z",
     "shell.execute_reply": "2023-11-15T07:45:32.195714Z"
    },
    "papermill": {
     "duration": 0.255054,
     "end_time": "2023-11-15T07:45:32.197925",
     "exception": false,
     "start_time": "2023-11-15T07:45:31.942871",
     "status": "completed"
    },
    "tags": []
   },
   "outputs": [],
   "source": [
    "import pandas as pd"
   ]
  },
  {
   "cell_type": "markdown",
   "id": "80dd7140",
   "metadata": {
    "papermill": {
     "duration": 0.001093,
     "end_time": "2023-11-15T07:45:32.200366",
     "exception": false,
     "start_time": "2023-11-15T07:45:32.199273",
     "status": "completed"
    },
    "tags": []
   },
   "source": [
    "Duplicating VACS02"
   ]
  },
  {
   "cell_type": "code",
   "execution_count": 2,
   "id": "16d0b948",
   "metadata": {
    "execution": {
     "iopub.execute_input": "2023-11-15T07:45:32.203727Z",
     "iopub.status.busy": "2023-11-15T07:45:32.203303Z",
     "iopub.status.idle": "2023-11-15T07:45:32.207356Z",
     "shell.execute_reply": "2023-11-15T07:45:32.206737Z"
    },
    "papermill": {
     "duration": 0.007194,
     "end_time": "2023-11-15T07:45:32.208693",
     "exception": false,
     "start_time": "2023-11-15T07:45:32.201499",
     "status": "completed"
    },
    "tags": []
   },
   "outputs": [],
   "source": [
    "levels = [\n",
    "    'AP2Y', 'JP9H', 'JP9I', 'JP9J', 'JP9K', 'JP9L', 'JP9M', 'JP9N', 'JP9O', 'JP9P', 'JP9Q', 'JP9R', 'JP9S', 'JP9T', 'JP9U', 'JP9V', 'JP9W', 'JP9X', 'JP9Y', 'JP9Z'\n",
    "]\n",
    "ratios = [\n",
    "    'AP2Z', 'JPA2', 'JPA3', 'JPA4', 'JPA5', 'JPA6', 'JPA7', 'JPA8', 'JPA9', 'JPB2', 'JPB3', 'JPB4', 'JPB5', 'JPB6', 'JPB7', 'JPB8', 'JPB9', 'JPC2', 'JPC3', 'JPC4'\n",
    "]"
   ]
  },
  {
   "cell_type": "code",
   "execution_count": 3,
   "id": "7eeb1def",
   "metadata": {
    "execution": {
     "iopub.execute_input": "2023-11-15T07:45:32.212111Z",
     "iopub.status.busy": "2023-11-15T07:45:32.211667Z",
     "iopub.status.idle": "2023-11-15T07:45:32.279734Z",
     "shell.execute_reply": "2023-11-15T07:45:32.279119Z"
    },
    "papermill": {
     "duration": 0.07124,
     "end_time": "2023-11-15T07:45:32.281106",
     "exception": false,
     "start_time": "2023-11-15T07:45:32.209866",
     "status": "completed"
    },
    "tags": []
   },
   "outputs": [
    {
     "name": "stderr",
     "output_type": "stream",
     "text": [
      "/tmp/ipykernel_1927/2101734166.py:2: UserWarning: Parsing dates in %d-%m-%Y format when dayfirst=False (the default) was specified. Pass `dayfirst=True` or specify a format to silence this warning.\n",
      "  codes = pd.read_csv('../../working/upstream/unem-codes.csv', index_col=['CDID'], parse_dates=['Release Date', 'Next release'])\n"
     ]
    }
   ],
   "source": [
    "data = pd.read_csv('../../working/upstream/unem.csv')\n",
    "codes = pd.read_csv('../../working/upstream/unem-codes.csv', index_col=['CDID'], parse_dates=['Release Date', 'Next release'])\n",
    "data = data.loc[data.variable.isin(levels + ratios)]\n",
    "data = data.merge(codes, left_on='variable', right_index=True)"
   ]
  },
  {
   "cell_type": "code",
   "execution_count": 4,
   "id": "cd3fb9fa",
   "metadata": {
    "execution": {
     "iopub.execute_input": "2023-11-15T07:45:32.284949Z",
     "iopub.status.busy": "2023-11-15T07:45:32.284538Z",
     "iopub.status.idle": "2023-11-15T07:45:32.292188Z",
     "shell.execute_reply": "2023-11-15T07:45:32.291643Z"
    },
    "papermill": {
     "duration": 0.011006,
     "end_time": "2023-11-15T07:45:32.293539",
     "exception": false,
     "start_time": "2023-11-15T07:45:32.282533",
     "status": "completed"
    },
    "tags": []
   },
   "outputs": [],
   "source": [
    "vacancies_by_date = data.loc[\n",
    "    data.variable=='AP2Y',\n",
    "    ['variable', 'value', 'date', 'freq']\n",
    "].rename(\n",
    "    columns={'variable': 'code'}\n",
    ")\n",
    "\n",
    "vacancies_by_date.to_csv('../../data/vacancies/vacancies_by_date.csv', index=False)"
   ]
  },
  {
   "cell_type": "code",
   "execution_count": null,
   "id": "4565296d",
   "metadata": {
    "papermill": {
     "duration": 0.001134,
     "end_time": "2023-11-15T07:45:32.296022",
     "exception": false,
     "start_time": "2023-11-15T07:45:32.294888",
     "status": "completed"
    },
    "tags": []
   },
   "outputs": [],
   "source": []
  }
 ],
 "metadata": {
  "kernelspec": {
   "display_name": "yff-data-ansOWYcy",
   "language": "python",
   "name": "python3"
  },
  "language_info": {
   "codemirror_mode": {
    "name": "ipython",
    "version": 3
   },
   "file_extension": ".py",
   "mimetype": "text/x-python",
   "name": "python",
   "nbconvert_exporter": "python",
   "pygments_lexer": "ipython3",
   "version": "3.10.13"
  },
  "papermill": {
   "default_parameters": {},
   "duration": 1.96674,
   "end_time": "2023-11-15T07:45:32.513475",
   "environment_variables": {},
   "exception": null,
   "input_path": "transform.ipynb",
   "output_path": "../../working/output/vacancies-transform.ipynb",
   "parameters": {},
   "start_time": "2023-11-15T07:45:30.546735",
   "version": "2.4.0"
  }
 },
 "nbformat": 4,
 "nbformat_minor": 5
}