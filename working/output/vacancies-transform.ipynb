{
 "cells": [
  {
   "cell_type": "code",
   "execution_count": 1,
   "id": "4324ac01",
   "metadata": {
    "execution": {
     "iopub.execute_input": "2024-04-16T06:34:37.411933Z",
     "iopub.status.busy": "2024-04-16T06:34:37.411638Z",
     "iopub.status.idle": "2024-04-16T06:34:37.727889Z",
     "shell.execute_reply": "2024-04-16T06:34:37.727161Z"
    },
    "papermill": {
     "duration": 0.320889,
     "end_time": "2024-04-16T06:34:37.729796",
     "exception": false,
     "start_time": "2024-04-16T06:34:37.408907",
     "status": "completed"
    },
    "tags": []
   },
   "outputs": [],
   "source": [
    "import pandas as pd"
   ]
  },
  {
   "cell_type": "markdown",
   "id": "8b019ea6",
   "metadata": {
    "papermill": {
     "duration": 0.001132,
     "end_time": "2024-04-16T06:34:37.732293",
     "exception": false,
     "start_time": "2024-04-16T06:34:37.731161",
     "status": "completed"
    },
    "tags": []
   },
   "source": [
    "Duplicating VACS02"
   ]
  },
  {
   "cell_type": "code",
   "execution_count": 2,
   "id": "8b1f6e3d",
   "metadata": {
    "execution": {
     "iopub.execute_input": "2024-04-16T06:34:37.735991Z",
     "iopub.status.busy": "2024-04-16T06:34:37.735419Z",
     "iopub.status.idle": "2024-04-16T06:34:37.739323Z",
     "shell.execute_reply": "2024-04-16T06:34:37.738754Z"
    },
    "papermill": {
     "duration": 0.007241,
     "end_time": "2024-04-16T06:34:37.740698",
     "exception": false,
     "start_time": "2024-04-16T06:34:37.733457",
     "status": "completed"
    },
    "tags": []
   },
   "outputs": [],
   "source": [
    "levels = [\n",
    "    'AP2Y', 'JP9H', 'JP9I', 'JP9J', 'JP9K', 'JP9L', 'JP9M', 'JP9N', 'JP9O', 'JP9P', 'JP9Q', 'JP9R', 'JP9S', 'JP9T', 'JP9U', 'JP9V', 'JP9W', 'JP9X', 'JP9Y', 'JP9Z'\n",
    "]\n",
    "ratios = [\n",
    "    'AP2Z', 'JPA2', 'JPA3', 'JPA4', 'JPA5', 'JPA6', 'JPA7', 'JPA8', 'JPA9', 'JPB2', 'JPB3', 'JPB4', 'JPB5', 'JPB6', 'JPB7', 'JPB8', 'JPB9', 'JPC2', 'JPC3', 'JPC4'\n",
    "]"
   ]
  },
  {
   "cell_type": "code",
   "execution_count": 3,
   "id": "f2040b83",
   "metadata": {
    "execution": {
     "iopub.execute_input": "2024-04-16T06:34:37.743850Z",
     "iopub.status.busy": "2024-04-16T06:34:37.743656Z",
     "iopub.status.idle": "2024-04-16T06:34:37.804771Z",
     "shell.execute_reply": "2024-04-16T06:34:37.804164Z"
    },
    "papermill": {
     "duration": 0.064483,
     "end_time": "2024-04-16T06:34:37.806369",
     "exception": false,
     "start_time": "2024-04-16T06:34:37.741886",
     "status": "completed"
    },
    "tags": []
   },
   "outputs": [],
   "source": [
    "data = pd.read_csv('../../working/upstream/unem.csv')\n",
    "codes = pd.read_csv('../../working/upstream/unem-codes.csv', index_col=['CDID'], parse_dates=['Release Date', 'Next release'])\n",
    "data = data.loc[data.variable.isin(levels + ratios)]\n",
    "data = data.merge(codes, left_on='variable', right_index=True)"
   ]
  },
  {
   "cell_type": "code",
   "execution_count": 4,
   "id": "02bb15d4",
   "metadata": {
    "execution": {
     "iopub.execute_input": "2024-04-16T06:34:37.811056Z",
     "iopub.status.busy": "2024-04-16T06:34:37.810842Z",
     "iopub.status.idle": "2024-04-16T06:34:37.817851Z",
     "shell.execute_reply": "2024-04-16T06:34:37.817329Z"
    },
    "papermill": {
     "duration": 0.011439,
     "end_time": "2024-04-16T06:34:37.819173",
     "exception": false,
     "start_time": "2024-04-16T06:34:37.807734",
     "status": "completed"
    },
    "tags": []
   },
   "outputs": [],
   "source": [
    "vacancies_by_date = data.loc[\n",
    "    data.variable=='AP2Y',\n",
    "    ['variable', 'value', 'date', 'freq']\n",
    "].rename(\n",
    "    columns={'variable': 'code'}\n",
    ")\n",
    "\n",
    "vacancies_by_date.to_csv('../../data/vacancies/vacancies_by_date.csv', index=False)"
   ]
  },
  {
   "cell_type": "code",
   "execution_count": null,
   "id": "cc8691db",
   "metadata": {
    "papermill": {
     "duration": 0.001237,
     "end_time": "2024-04-16T06:34:37.821698",
     "exception": false,
     "start_time": "2024-04-16T06:34:37.820461",
     "status": "completed"
    },
    "tags": []
   },
   "outputs": [],
   "source": []
  }
 ],
 "metadata": {
  "kernelspec": {
   "display_name": "yff-data-ansOWYcy",
   "language": "python",
   "name": "python3"
  },
  "language_info": {
   "codemirror_mode": {
    "name": "ipython",
    "version": 3
   },
   "file_extension": ".py",
   "mimetype": "text/x-python",
   "name": "python",
   "nbconvert_exporter": "python",
   "pygments_lexer": "ipython3",
   "version": "3.10.14"
  },
  "papermill": {
   "default_parameters": {},
   "duration": 1.828986,
   "end_time": "2024-04-16T06:34:38.038586",
   "environment_variables": {},
   "exception": null,
   "input_path": "transform.ipynb",
   "output_path": "../../working/output/vacancies-transform.ipynb",
   "parameters": {},
   "start_time": "2024-04-16T06:34:36.209600",
   "version": "2.5.0"
  }
 },
 "nbformat": 4,
 "nbformat_minor": 5
}