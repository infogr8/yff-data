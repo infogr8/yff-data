{
 "cells": [
  {
   "cell_type": "code",
   "execution_count": 1,
   "id": "93ab45ea",
   "metadata": {
    "execution": {
     "iopub.execute_input": "2025-06-11T08:26:32.926611Z",
     "iopub.status.busy": "2025-06-11T08:26:32.926315Z",
     "iopub.status.idle": "2025-06-11T08:26:33.230716Z",
     "shell.execute_reply": "2025-06-11T08:26:33.230136Z"
    },
    "papermill": {
     "duration": 0.309019,
     "end_time": "2025-06-11T08:26:33.232474",
     "exception": false,
     "start_time": "2025-06-11T08:26:32.923455",
     "status": "completed"
    },
    "tags": []
   },
   "outputs": [],
   "source": [
    "import pandas as pd"
   ]
  },
  {
   "cell_type": "markdown",
   "id": "e329eb73",
   "metadata": {
    "papermill": {
     "duration": 0.001153,
     "end_time": "2025-06-11T08:26:33.235041",
     "exception": false,
     "start_time": "2025-06-11T08:26:33.233888",
     "status": "completed"
    },
    "tags": []
   },
   "source": [
    "Duplicating VACS02"
   ]
  },
  {
   "cell_type": "code",
   "execution_count": 2,
   "id": "e856c26e",
   "metadata": {
    "execution": {
     "iopub.execute_input": "2025-06-11T08:26:33.238531Z",
     "iopub.status.busy": "2025-06-11T08:26:33.238046Z",
     "iopub.status.idle": "2025-06-11T08:26:33.241808Z",
     "shell.execute_reply": "2025-06-11T08:26:33.241198Z"
    },
    "papermill": {
     "duration": 0.006937,
     "end_time": "2025-06-11T08:26:33.243110",
     "exception": false,
     "start_time": "2025-06-11T08:26:33.236173",
     "status": "completed"
    },
    "tags": []
   },
   "outputs": [],
   "source": [
    "levels = [\n",
    "    'AP2Y', 'JP9H', 'JP9I', 'JP9J', 'JP9K', 'JP9L', 'JP9M', 'JP9N', 'JP9O', 'JP9P', 'JP9Q', 'JP9R', 'JP9S', 'JP9T', 'JP9U', 'JP9V', 'JP9W', 'JP9X', 'JP9Y', 'JP9Z'\n",
    "]\n",
    "ratios = [\n",
    "    'AP2Z', 'JPA2', 'JPA3', 'JPA4', 'JPA5', 'JPA6', 'JPA7', 'JPA8', 'JPA9', 'JPB2', 'JPB3', 'JPB4', 'JPB5', 'JPB6', 'JPB7', 'JPB8', 'JPB9', 'JPC2', 'JPC3', 'JPC4'\n",
    "]"
   ]
  },
  {
   "cell_type": "code",
   "execution_count": 3,
   "id": "b78d0708",
   "metadata": {
    "execution": {
     "iopub.execute_input": "2025-06-11T08:26:33.246495Z",
     "iopub.status.busy": "2025-06-11T08:26:33.246128Z",
     "iopub.status.idle": "2025-06-11T08:26:33.310145Z",
     "shell.execute_reply": "2025-06-11T08:26:33.309550Z"
    },
    "papermill": {
     "duration": 0.067443,
     "end_time": "2025-06-11T08:26:33.311725",
     "exception": false,
     "start_time": "2025-06-11T08:26:33.244282",
     "status": "completed"
    },
    "tags": []
   },
   "outputs": [],
   "source": [
    "data = pd.read_csv('../../working/upstream/unem.csv')\n",
    "codes = pd.read_csv('../../working/upstream/unem-codes.csv', index_col=['CDID'], parse_dates=['Release Date', 'Next release'])\n",
    "data = data.loc[data.variable.isin(levels + ratios)]\n",
    "data = data.merge(codes, left_on='variable', right_index=True)"
   ]
  },
  {
   "cell_type": "code",
   "execution_count": 4,
   "id": "6b58be67",
   "metadata": {
    "execution": {
     "iopub.execute_input": "2025-06-11T08:26:33.315569Z",
     "iopub.status.busy": "2025-06-11T08:26:33.315158Z",
     "iopub.status.idle": "2025-06-11T08:26:33.321916Z",
     "shell.execute_reply": "2025-06-11T08:26:33.321410Z"
    },
    "papermill": {
     "duration": 0.010131,
     "end_time": "2025-06-11T08:26:33.323287",
     "exception": false,
     "start_time": "2025-06-11T08:26:33.313156",
     "status": "completed"
    },
    "tags": []
   },
   "outputs": [],
   "source": [
    "vacancies_by_date = data.loc[\n",
    "    data.variable=='AP2Y',\n",
    "    ['variable', 'value', 'date', 'freq']\n",
    "].rename(\n",
    "    columns={'variable': 'code'}\n",
    ")\n",
    "\n",
    "vacancies_by_date.to_csv('../../data/vacancies/vacancies_by_date.csv', index=False)"
   ]
  },
  {
   "cell_type": "code",
   "execution_count": null,
   "id": "9af2c644",
   "metadata": {
    "papermill": {
     "duration": 0.001229,
     "end_time": "2025-06-11T08:26:33.325732",
     "exception": false,
     "start_time": "2025-06-11T08:26:33.324503",
     "status": "completed"
    },
    "tags": []
   },
   "outputs": [],
   "source": []
  }
 ],
 "metadata": {
  "kernelspec": {
   "display_name": "yff-data-ansOWYcy",
   "language": "python",
   "name": "python3"
  },
  "language_info": {
   "codemirror_mode": {
    "name": "ipython",
    "version": 3
   },
   "file_extension": ".py",
   "mimetype": "text/x-python",
   "name": "python",
   "nbconvert_exporter": "python",
   "pygments_lexer": "ipython3",
   "version": "3.10.17"
  },
  "papermill": {
   "default_parameters": {},
   "duration": 1.992398,
   "end_time": "2025-06-11T08:26:33.542250",
   "environment_variables": {},
   "exception": null,
   "input_path": "transform.ipynb",
   "output_path": "../../working/output/vacancies-transform.ipynb",
   "parameters": {},
   "start_time": "2025-06-11T08:26:31.549852",
   "version": "2.5.0"
  }
 },
 "nbformat": 4,
 "nbformat_minor": 5
}