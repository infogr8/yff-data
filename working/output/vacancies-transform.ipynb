{
 "cells": [
  {
   "cell_type": "code",
   "execution_count": 1,
   "id": "07d9f2c5",
   "metadata": {
    "execution": {
     "iopub.execute_input": "2023-12-12T07:25:27.621429Z",
     "iopub.status.busy": "2023-12-12T07:25:27.621156Z",
     "iopub.status.idle": "2023-12-12T07:25:27.884095Z",
     "shell.execute_reply": "2023-12-12T07:25:27.883482Z"
    },
    "papermill": {
     "duration": 0.267414,
     "end_time": "2023-12-12T07:25:27.885706",
     "exception": false,
     "start_time": "2023-12-12T07:25:27.618292",
     "status": "completed"
    },
    "tags": []
   },
   "outputs": [],
   "source": [
    "import pandas as pd"
   ]
  },
  {
   "cell_type": "markdown",
   "id": "b144cf7c",
   "metadata": {
    "papermill": {
     "duration": 0.001092,
     "end_time": "2023-12-12T07:25:27.888212",
     "exception": false,
     "start_time": "2023-12-12T07:25:27.887120",
     "status": "completed"
    },
    "tags": []
   },
   "source": [
    "Duplicating VACS02"
   ]
  },
  {
   "cell_type": "code",
   "execution_count": 2,
   "id": "50611886",
   "metadata": {
    "execution": {
     "iopub.execute_input": "2023-12-12T07:25:27.891486Z",
     "iopub.status.busy": "2023-12-12T07:25:27.891213Z",
     "iopub.status.idle": "2023-12-12T07:25:27.895248Z",
     "shell.execute_reply": "2023-12-12T07:25:27.894697Z"
    },
    "papermill": {
     "duration": 0.007214,
     "end_time": "2023-12-12T07:25:27.896529",
     "exception": false,
     "start_time": "2023-12-12T07:25:27.889315",
     "status": "completed"
    },
    "tags": []
   },
   "outputs": [],
   "source": [
    "levels = [\n",
    "    'AP2Y', 'JP9H', 'JP9I', 'JP9J', 'JP9K', 'JP9L', 'JP9M', 'JP9N', 'JP9O', 'JP9P', 'JP9Q', 'JP9R', 'JP9S', 'JP9T', 'JP9U', 'JP9V', 'JP9W', 'JP9X', 'JP9Y', 'JP9Z'\n",
    "]\n",
    "ratios = [\n",
    "    'AP2Z', 'JPA2', 'JPA3', 'JPA4', 'JPA5', 'JPA6', 'JPA7', 'JPA8', 'JPA9', 'JPB2', 'JPB3', 'JPB4', 'JPB5', 'JPB6', 'JPB7', 'JPB8', 'JPB9', 'JPC2', 'JPC3', 'JPC4'\n",
    "]"
   ]
  },
  {
   "cell_type": "code",
   "execution_count": 3,
   "id": "96ec27b5",
   "metadata": {
    "execution": {
     "iopub.execute_input": "2023-12-12T07:25:27.899851Z",
     "iopub.status.busy": "2023-12-12T07:25:27.899488Z",
     "iopub.status.idle": "2023-12-12T07:25:27.967883Z",
     "shell.execute_reply": "2023-12-12T07:25:27.967170Z"
    },
    "papermill": {
     "duration": 0.071979,
     "end_time": "2023-12-12T07:25:27.969685",
     "exception": false,
     "start_time": "2023-12-12T07:25:27.897706",
     "status": "completed"
    },
    "tags": []
   },
   "outputs": [],
   "source": [
    "data = pd.read_csv('../../working/upstream/unem.csv')\n",
    "codes = pd.read_csv('../../working/upstream/unem-codes.csv', index_col=['CDID'], parse_dates=['Release Date', 'Next release'])\n",
    "data = data.loc[data.variable.isin(levels + ratios)]\n",
    "data = data.merge(codes, left_on='variable', right_index=True)"
   ]
  },
  {
   "cell_type": "code",
   "execution_count": 4,
   "id": "fc7d77b5",
   "metadata": {
    "execution": {
     "iopub.execute_input": "2023-12-12T07:25:27.973821Z",
     "iopub.status.busy": "2023-12-12T07:25:27.973365Z",
     "iopub.status.idle": "2023-12-12T07:25:27.980902Z",
     "shell.execute_reply": "2023-12-12T07:25:27.980223Z"
    },
    "papermill": {
     "duration": 0.011229,
     "end_time": "2023-12-12T07:25:27.982418",
     "exception": false,
     "start_time": "2023-12-12T07:25:27.971189",
     "status": "completed"
    },
    "tags": []
   },
   "outputs": [],
   "source": [
    "vacancies_by_date = data.loc[\n",
    "    data.variable=='AP2Y',\n",
    "    ['variable', 'value', 'date', 'freq']\n",
    "].rename(\n",
    "    columns={'variable': 'code'}\n",
    ")\n",
    "\n",
    "vacancies_by_date.to_csv('../../data/vacancies/vacancies_by_date.csv', index=False)"
   ]
  },
  {
   "cell_type": "code",
   "execution_count": null,
   "id": "af856ee6",
   "metadata": {
    "papermill": {
     "duration": 0.001164,
     "end_time": "2023-12-12T07:25:27.984918",
     "exception": false,
     "start_time": "2023-12-12T07:25:27.983754",
     "status": "completed"
    },
    "tags": []
   },
   "outputs": [],
   "source": []
  }
 ],
 "metadata": {
  "kernelspec": {
   "display_name": "yff-data-ansOWYcy",
   "language": "python",
   "name": "python3"
  },
  "language_info": {
   "codemirror_mode": {
    "name": "ipython",
    "version": 3
   },
   "file_extension": ".py",
   "mimetype": "text/x-python",
   "name": "python",
   "nbconvert_exporter": "python",
   "pygments_lexer": "ipython3",
   "version": "3.10.13"
  },
  "papermill": {
   "default_parameters": {},
   "duration": 2.026863,
   "end_time": "2023-12-12T07:25:28.201790",
   "environment_variables": {},
   "exception": null,
   "input_path": "transform.ipynb",
   "output_path": "../../working/output/vacancies-transform.ipynb",
   "parameters": {},
   "start_time": "2023-12-12T07:25:26.174927",
   "version": "2.4.0"
  }
 },
 "nbformat": 4,
 "nbformat_minor": 5
}