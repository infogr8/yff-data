{
 "cells": [
  {
   "cell_type": "code",
   "execution_count": 1,
   "id": "c44f04aa",
   "metadata": {
    "execution": {
     "iopub.execute_input": "2024-11-12T09:02:01.456985Z",
     "iopub.status.busy": "2024-11-12T09:02:01.456790Z",
     "iopub.status.idle": "2024-11-12T09:02:01.756256Z",
     "shell.execute_reply": "2024-11-12T09:02:01.755694Z"
    },
    "papermill": {
     "duration": 0.303426,
     "end_time": "2024-11-12T09:02:01.757869",
     "exception": false,
     "start_time": "2024-11-12T09:02:01.454443",
     "status": "completed"
    },
    "tags": []
   },
   "outputs": [],
   "source": [
    "import pandas as pd"
   ]
  },
  {
   "cell_type": "markdown",
   "id": "b35755f5",
   "metadata": {
    "papermill": {
     "duration": 0.001083,
     "end_time": "2024-11-12T09:02:01.760337",
     "exception": false,
     "start_time": "2024-11-12T09:02:01.759254",
     "status": "completed"
    },
    "tags": []
   },
   "source": [
    "Duplicating VACS02"
   ]
  },
  {
   "cell_type": "code",
   "execution_count": 2,
   "id": "8253139f",
   "metadata": {
    "execution": {
     "iopub.execute_input": "2024-11-12T09:02:01.763681Z",
     "iopub.status.busy": "2024-11-12T09:02:01.763223Z",
     "iopub.status.idle": "2024-11-12T09:02:01.767162Z",
     "shell.execute_reply": "2024-11-12T09:02:01.766630Z"
    },
    "papermill": {
     "duration": 0.006998,
     "end_time": "2024-11-12T09:02:01.768415",
     "exception": false,
     "start_time": "2024-11-12T09:02:01.761417",
     "status": "completed"
    },
    "tags": []
   },
   "outputs": [],
   "source": [
    "levels = [\n",
    "    'AP2Y', 'JP9H', 'JP9I', 'JP9J', 'JP9K', 'JP9L', 'JP9M', 'JP9N', 'JP9O', 'JP9P', 'JP9Q', 'JP9R', 'JP9S', 'JP9T', 'JP9U', 'JP9V', 'JP9W', 'JP9X', 'JP9Y', 'JP9Z'\n",
    "]\n",
    "ratios = [\n",
    "    'AP2Z', 'JPA2', 'JPA3', 'JPA4', 'JPA5', 'JPA6', 'JPA7', 'JPA8', 'JPA9', 'JPB2', 'JPB3', 'JPB4', 'JPB5', 'JPB6', 'JPB7', 'JPB8', 'JPB9', 'JPC2', 'JPC3', 'JPC4'\n",
    "]"
   ]
  },
  {
   "cell_type": "code",
   "execution_count": 3,
   "id": "cc850af5",
   "metadata": {
    "execution": {
     "iopub.execute_input": "2024-11-12T09:02:01.771785Z",
     "iopub.status.busy": "2024-11-12T09:02:01.771447Z",
     "iopub.status.idle": "2024-11-12T09:02:01.833417Z",
     "shell.execute_reply": "2024-11-12T09:02:01.832853Z"
    },
    "papermill": {
     "duration": 0.065425,
     "end_time": "2024-11-12T09:02:01.834991",
     "exception": false,
     "start_time": "2024-11-12T09:02:01.769566",
     "status": "completed"
    },
    "tags": []
   },
   "outputs": [],
   "source": [
    "data = pd.read_csv('../../working/upstream/unem.csv')\n",
    "codes = pd.read_csv('../../working/upstream/unem-codes.csv', index_col=['CDID'], parse_dates=['Release Date', 'Next release'])\n",
    "data = data.loc[data.variable.isin(levels + ratios)]\n",
    "data = data.merge(codes, left_on='variable', right_index=True)"
   ]
  },
  {
   "cell_type": "code",
   "execution_count": 4,
   "id": "cf0580c4",
   "metadata": {
    "execution": {
     "iopub.execute_input": "2024-11-12T09:02:01.839665Z",
     "iopub.status.busy": "2024-11-12T09:02:01.839117Z",
     "iopub.status.idle": "2024-11-12T09:02:01.846206Z",
     "shell.execute_reply": "2024-11-12T09:02:01.845559Z"
    },
    "papermill": {
     "duration": 0.011335,
     "end_time": "2024-11-12T09:02:01.847627",
     "exception": false,
     "start_time": "2024-11-12T09:02:01.836292",
     "status": "completed"
    },
    "tags": []
   },
   "outputs": [],
   "source": [
    "vacancies_by_date = data.loc[\n",
    "    data.variable=='AP2Y',\n",
    "    ['variable', 'value', 'date', 'freq']\n",
    "].rename(\n",
    "    columns={'variable': 'code'}\n",
    ")\n",
    "\n",
    "vacancies_by_date.to_csv('../../data/vacancies/vacancies_by_date.csv', index=False)"
   ]
  },
  {
   "cell_type": "code",
   "execution_count": null,
   "id": "844fe42c",
   "metadata": {
    "papermill": {
     "duration": 0.001129,
     "end_time": "2024-11-12T09:02:01.849938",
     "exception": false,
     "start_time": "2024-11-12T09:02:01.848809",
     "status": "completed"
    },
    "tags": []
   },
   "outputs": [],
   "source": []
  }
 ],
 "metadata": {
  "kernelspec": {
   "display_name": "yff-data-ansOWYcy",
   "language": "python",
   "name": "python3"
  },
  "language_info": {
   "codemirror_mode": {
    "name": "ipython",
    "version": 3
   },
   "file_extension": ".py",
   "mimetype": "text/x-python",
   "name": "python",
   "nbconvert_exporter": "python",
   "pygments_lexer": "ipython3",
   "version": "3.10.15"
  },
  "papermill": {
   "default_parameters": {},
   "duration": 1.991902,
   "end_time": "2024-11-12T09:02:02.068166",
   "environment_variables": {},
   "exception": null,
   "input_path": "transform.ipynb",
   "output_path": "../../working/output/vacancies-transform.ipynb",
   "parameters": {},
   "start_time": "2024-11-12T09:02:00.076264",
   "version": "2.5.0"
  }
 },
 "nbformat": 4,
 "nbformat_minor": 5
}