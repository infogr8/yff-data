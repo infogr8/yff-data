{
 "cells": [
  {
   "cell_type": "code",
   "execution_count": 1,
   "id": "c9f1db6f",
   "metadata": {
    "execution": {
     "iopub.execute_input": "2023-10-17T09:20:31.788414Z",
     "iopub.status.busy": "2023-10-17T09:20:31.788274Z",
     "iopub.status.idle": "2023-10-17T09:20:31.940655Z",
     "shell.execute_reply": "2023-10-17T09:20:31.940210Z"
    },
    "papermill": {
     "duration": 0.158451,
     "end_time": "2023-10-17T09:20:31.941702",
     "exception": false,
     "start_time": "2023-10-17T09:20:31.783251",
     "status": "completed"
    },
    "tags": []
   },
   "outputs": [],
   "source": [
    "import pandas as pd"
   ]
  },
  {
   "cell_type": "markdown",
   "id": "6b06dcde",
   "metadata": {
    "papermill": {
     "duration": 0.00069,
     "end_time": "2023-10-17T09:20:31.943202",
     "exception": false,
     "start_time": "2023-10-17T09:20:31.942512",
     "status": "completed"
    },
    "tags": []
   },
   "source": [
    "Duplicating VACS02"
   ]
  },
  {
   "cell_type": "code",
   "execution_count": 2,
   "id": "5c4a9eb4",
   "metadata": {
    "execution": {
     "iopub.execute_input": "2023-10-17T09:20:31.945038Z",
     "iopub.status.busy": "2023-10-17T09:20:31.944870Z",
     "iopub.status.idle": "2023-10-17T09:20:31.947423Z",
     "shell.execute_reply": "2023-10-17T09:20:31.947113Z"
    },
    "papermill": {
     "duration": 0.004314,
     "end_time": "2023-10-17T09:20:31.948148",
     "exception": false,
     "start_time": "2023-10-17T09:20:31.943834",
     "status": "completed"
    },
    "tags": []
   },
   "outputs": [],
   "source": [
    "levels = [\n",
    "    'AP2Y', 'JP9H', 'JP9I', 'JP9J', 'JP9K', 'JP9L', 'JP9M', 'JP9N', 'JP9O', 'JP9P', 'JP9Q', 'JP9R', 'JP9S', 'JP9T', 'JP9U', 'JP9V', 'JP9W', 'JP9X', 'JP9Y', 'JP9Z'\n",
    "]\n",
    "ratios = [\n",
    "    'AP2Z', 'JPA2', 'JPA3', 'JPA4', 'JPA5', 'JPA6', 'JPA7', 'JPA8', 'JPA9', 'JPB2', 'JPB3', 'JPB4', 'JPB5', 'JPB6', 'JPB7', 'JPB8', 'JPB9', 'JPC2', 'JPC3', 'JPC4'\n",
    "]"
   ]
  },
  {
   "cell_type": "code",
   "execution_count": 3,
   "id": "38d25e06",
   "metadata": {
    "execution": {
     "iopub.execute_input": "2023-10-17T09:20:31.950093Z",
     "iopub.status.busy": "2023-10-17T09:20:31.949887Z",
     "iopub.status.idle": "2023-10-17T09:20:31.993065Z",
     "shell.execute_reply": "2023-10-17T09:20:31.992626Z"
    },
    "papermill": {
     "duration": 0.045258,
     "end_time": "2023-10-17T09:20:31.994100",
     "exception": false,
     "start_time": "2023-10-17T09:20:31.948842",
     "status": "completed"
    },
    "tags": []
   },
   "outputs": [],
   "source": [
    "data = pd.read_csv('../../working/upstream/unem.csv')\n",
    "codes = pd.read_csv('../../working/upstream/unem-codes.csv', index_col=['CDID'], parse_dates=['Release Date', 'Next release'])\n",
    "data = data.loc[data.variable.isin(levels + ratios)]\n",
    "data = data.merge(codes, left_on='variable', right_index=True)"
   ]
  },
  {
   "cell_type": "code",
   "execution_count": 4,
   "id": "da89ce07",
   "metadata": {
    "execution": {
     "iopub.execute_input": "2023-10-17T09:20:31.996318Z",
     "iopub.status.busy": "2023-10-17T09:20:31.996161Z",
     "iopub.status.idle": "2023-10-17T09:20:32.000918Z",
     "shell.execute_reply": "2023-10-17T09:20:32.000588Z"
    },
    "papermill": {
     "duration": 0.006686,
     "end_time": "2023-10-17T09:20:32.001650",
     "exception": false,
     "start_time": "2023-10-17T09:20:31.994964",
     "status": "completed"
    },
    "tags": []
   },
   "outputs": [],
   "source": [
    "vacancies_by_date = data.loc[\n",
    "    data.variable=='AP2Y',\n",
    "    ['variable', 'value', 'date', 'freq']\n",
    "].rename(\n",
    "    columns={'variable': 'code'}\n",
    ")\n",
    "\n",
    "vacancies_by_date.to_csv('../../data/vacancies/vacancies_by_date.csv', index=False)"
   ]
  },
  {
   "cell_type": "code",
   "execution_count": null,
   "id": "e8f116d1",
   "metadata": {
    "papermill": {
     "duration": 0.000687,
     "end_time": "2023-10-17T09:20:32.003096",
     "exception": false,
     "start_time": "2023-10-17T09:20:32.002409",
     "status": "completed"
    },
    "tags": []
   },
   "outputs": [],
   "source": []
  }
 ],
 "metadata": {
  "kernelspec": {
   "display_name": "yff-data-ansOWYcy",
   "language": "python",
   "name": "python3"
  },
  "language_info": {
   "codemirror_mode": {
    "name": "ipython",
    "version": 3
   },
   "file_extension": ".py",
   "mimetype": "text/x-python",
   "name": "python",
   "nbconvert_exporter": "python",
   "pygments_lexer": "ipython3",
   "version": "3.10.12"
  },
  "papermill": {
   "default_parameters": {},
   "duration": 1.283656,
   "end_time": "2023-10-17T09:20:32.220121",
   "environment_variables": {},
   "exception": null,
   "input_path": "transform.ipynb",
   "output_path": "../../working/output/vacancies-transform.ipynb",
   "parameters": {},
   "start_time": "2023-10-17T09:20:30.936465",
   "version": "2.4.0"
  }
 },
 "nbformat": 4,
 "nbformat_minor": 5
}