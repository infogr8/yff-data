{
 "cells": [
  {
   "cell_type": "code",
   "execution_count": 1,
   "id": "27dbf441",
   "metadata": {
    "execution": {
     "iopub.execute_input": "2024-08-02T12:12:28.003193Z",
     "iopub.status.busy": "2024-08-02T12:12:28.003011Z",
     "iopub.status.idle": "2024-08-02T12:12:28.228277Z",
     "shell.execute_reply": "2024-08-02T12:12:28.227879Z"
    },
    "papermill": {
     "duration": 0.228099,
     "end_time": "2024-08-02T12:12:28.229516",
     "exception": false,
     "start_time": "2024-08-02T12:12:28.001417",
     "status": "completed"
    },
    "tags": []
   },
   "outputs": [],
   "source": [
    "import pandas as pd"
   ]
  },
  {
   "cell_type": "markdown",
   "id": "23b7e1ef",
   "metadata": {
    "papermill": {
     "duration": 0.001533,
     "end_time": "2024-08-02T12:12:28.232373",
     "exception": false,
     "start_time": "2024-08-02T12:12:28.230840",
     "status": "completed"
    },
    "tags": []
   },
   "source": [
    "Duplicating VACS02"
   ]
  },
  {
   "cell_type": "code",
   "execution_count": 2,
   "id": "088b6ce7",
   "metadata": {
    "execution": {
     "iopub.execute_input": "2024-08-02T12:12:28.235191Z",
     "iopub.status.busy": "2024-08-02T12:12:28.234978Z",
     "iopub.status.idle": "2024-08-02T12:12:28.237350Z",
     "shell.execute_reply": "2024-08-02T12:12:28.237067Z"
    },
    "papermill": {
     "duration": 0.004738,
     "end_time": "2024-08-02T12:12:28.238189",
     "exception": false,
     "start_time": "2024-08-02T12:12:28.233451",
     "status": "completed"
    },
    "tags": []
   },
   "outputs": [],
   "source": [
    "levels = [\n",
    "    'AP2Y', 'JP9H', 'JP9I', 'JP9J', 'JP9K', 'JP9L', 'JP9M', 'JP9N', 'JP9O', 'JP9P', 'JP9Q', 'JP9R', 'JP9S', 'JP9T', 'JP9U', 'JP9V', 'JP9W', 'JP9X', 'JP9Y', 'JP9Z'\n",
    "]\n",
    "ratios = [\n",
    "    'AP2Z', 'JPA2', 'JPA3', 'JPA4', 'JPA5', 'JPA6', 'JPA7', 'JPA8', 'JPA9', 'JPB2', 'JPB3', 'JPB4', 'JPB5', 'JPB6', 'JPB7', 'JPB8', 'JPB9', 'JPC2', 'JPC3', 'JPC4'\n",
    "]"
   ]
  },
  {
   "cell_type": "code",
   "execution_count": 3,
   "id": "6563b843",
   "metadata": {
    "execution": {
     "iopub.execute_input": "2024-08-02T12:12:28.241032Z",
     "iopub.status.busy": "2024-08-02T12:12:28.240800Z",
     "iopub.status.idle": "2024-08-02T12:12:28.284510Z",
     "shell.execute_reply": "2024-08-02T12:12:28.284074Z"
    },
    "papermill": {
     "duration": 0.046232,
     "end_time": "2024-08-02T12:12:28.285551",
     "exception": false,
     "start_time": "2024-08-02T12:12:28.239319",
     "status": "completed"
    },
    "tags": []
   },
   "outputs": [],
   "source": [
    "data = pd.read_csv('../../working/upstream/unem.csv')\n",
    "codes = pd.read_csv('../../working/upstream/unem-codes.csv', index_col=['CDID'], parse_dates=['Release Date', 'Next release'])\n",
    "data = data.loc[data.variable.isin(levels + ratios)]\n",
    "data = data.merge(codes, left_on='variable', right_index=True)"
   ]
  },
  {
   "cell_type": "code",
   "execution_count": 4,
   "id": "0bd9f8c5",
   "metadata": {
    "execution": {
     "iopub.execute_input": "2024-08-02T12:12:28.289047Z",
     "iopub.status.busy": "2024-08-02T12:12:28.288868Z",
     "iopub.status.idle": "2024-08-02T12:12:28.293492Z",
     "shell.execute_reply": "2024-08-02T12:12:28.293189Z"
    },
    "papermill": {
     "duration": 0.007503,
     "end_time": "2024-08-02T12:12:28.294357",
     "exception": false,
     "start_time": "2024-08-02T12:12:28.286854",
     "status": "completed"
    },
    "tags": []
   },
   "outputs": [],
   "source": [
    "vacancies_by_date = data.loc[\n",
    "    data.variable=='AP2Y',\n",
    "    ['variable', 'value', 'date', 'freq']\n",
    "].rename(\n",
    "    columns={'variable': 'code'}\n",
    ")\n",
    "\n",
    "vacancies_by_date.to_csv('../../data/vacancies/vacancies_by_date.csv', index=False)"
   ]
  },
  {
   "cell_type": "code",
   "execution_count": null,
   "id": "f75b7678",
   "metadata": {
    "papermill": {
     "duration": 0.00146,
     "end_time": "2024-08-02T12:12:28.297037",
     "exception": false,
     "start_time": "2024-08-02T12:12:28.295577",
     "status": "completed"
    },
    "tags": []
   },
   "outputs": [],
   "source": []
  }
 ],
 "metadata": {
  "kernelspec": {
   "display_name": "yff-data-ansOWYcy",
   "language": "python",
   "name": "python3"
  },
  "language_info": {
   "codemirror_mode": {
    "name": "ipython",
    "version": 3
   },
   "file_extension": ".py",
   "mimetype": "text/x-python",
   "name": "python",
   "nbconvert_exporter": "python",
   "pygments_lexer": "ipython3",
   "version": "3.10.12"
  },
  "papermill": {
   "default_parameters": {},
   "duration": 1.191172,
   "end_time": "2024-08-02T12:12:28.512211",
   "environment_variables": {},
   "exception": null,
   "input_path": "transform.ipynb",
   "output_path": "../../working/output/vacancies-transform.ipynb",
   "parameters": {},
   "start_time": "2024-08-02T12:12:27.321039",
   "version": "2.5.0"
  }
 },
 "nbformat": 4,
 "nbformat_minor": 5
}