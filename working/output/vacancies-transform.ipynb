{
 "cells": [
  {
   "cell_type": "code",
   "execution_count": 1,
   "id": "3e472660",
   "metadata": {
    "execution": {
     "iopub.execute_input": "2025-02-18T08:25:59.752028Z",
     "iopub.status.busy": "2025-02-18T08:25:59.751763Z",
     "iopub.status.idle": "2025-02-18T08:26:00.054290Z",
     "shell.execute_reply": "2025-02-18T08:26:00.053724Z"
    },
    "papermill": {
     "duration": 0.306825,
     "end_time": "2025-02-18T08:26:00.055935",
     "exception": false,
     "start_time": "2025-02-18T08:25:59.749110",
     "status": "completed"
    },
    "tags": []
   },
   "outputs": [],
   "source": [
    "import pandas as pd"
   ]
  },
  {
   "cell_type": "markdown",
   "id": "ec9adab3",
   "metadata": {
    "papermill": {
     "duration": 0.001109,
     "end_time": "2025-02-18T08:26:00.058426",
     "exception": false,
     "start_time": "2025-02-18T08:26:00.057317",
     "status": "completed"
    },
    "tags": []
   },
   "source": [
    "Duplicating VACS02"
   ]
  },
  {
   "cell_type": "code",
   "execution_count": 2,
   "id": "ac76c1fa",
   "metadata": {
    "execution": {
     "iopub.execute_input": "2025-02-18T08:26:00.061682Z",
     "iopub.status.busy": "2025-02-18T08:26:00.061390Z",
     "iopub.status.idle": "2025-02-18T08:26:00.065436Z",
     "shell.execute_reply": "2025-02-18T08:26:00.064779Z"
    },
    "papermill": {
     "duration": 0.007294,
     "end_time": "2025-02-18T08:26:00.066844",
     "exception": false,
     "start_time": "2025-02-18T08:26:00.059550",
     "status": "completed"
    },
    "tags": []
   },
   "outputs": [],
   "source": [
    "levels = [\n",
    "    'AP2Y', 'JP9H', 'JP9I', 'JP9J', 'JP9K', 'JP9L', 'JP9M', 'JP9N', 'JP9O', 'JP9P', 'JP9Q', 'JP9R', 'JP9S', 'JP9T', 'JP9U', 'JP9V', 'JP9W', 'JP9X', 'JP9Y', 'JP9Z'\n",
    "]\n",
    "ratios = [\n",
    "    'AP2Z', 'JPA2', 'JPA3', 'JPA4', 'JPA5', 'JPA6', 'JPA7', 'JPA8', 'JPA9', 'JPB2', 'JPB3', 'JPB4', 'JPB5', 'JPB6', 'JPB7', 'JPB8', 'JPB9', 'JPC2', 'JPC3', 'JPC4'\n",
    "]"
   ]
  },
  {
   "cell_type": "code",
   "execution_count": 3,
   "id": "45901d27",
   "metadata": {
    "execution": {
     "iopub.execute_input": "2025-02-18T08:26:00.070378Z",
     "iopub.status.busy": "2025-02-18T08:26:00.069866Z",
     "iopub.status.idle": "2025-02-18T08:26:00.130001Z",
     "shell.execute_reply": "2025-02-18T08:26:00.129297Z"
    },
    "papermill": {
     "duration": 0.06368,
     "end_time": "2025-02-18T08:26:00.131707",
     "exception": false,
     "start_time": "2025-02-18T08:26:00.068027",
     "status": "completed"
    },
    "tags": []
   },
   "outputs": [],
   "source": [
    "data = pd.read_csv('../../working/upstream/unem.csv')\n",
    "codes = pd.read_csv('../../working/upstream/unem-codes.csv', index_col=['CDID'], parse_dates=['Release Date', 'Next release'])\n",
    "data = data.loc[data.variable.isin(levels + ratios)]\n",
    "data = data.merge(codes, left_on='variable', right_index=True)"
   ]
  },
  {
   "cell_type": "code",
   "execution_count": 4,
   "id": "10d80280",
   "metadata": {
    "execution": {
     "iopub.execute_input": "2025-02-18T08:26:00.135422Z",
     "iopub.status.busy": "2025-02-18T08:26:00.135045Z",
     "iopub.status.idle": "2025-02-18T08:26:00.142179Z",
     "shell.execute_reply": "2025-02-18T08:26:00.141567Z"
    },
    "papermill": {
     "duration": 0.010355,
     "end_time": "2025-02-18T08:26:00.143435",
     "exception": false,
     "start_time": "2025-02-18T08:26:00.133080",
     "status": "completed"
    },
    "tags": []
   },
   "outputs": [],
   "source": [
    "vacancies_by_date = data.loc[\n",
    "    data.variable=='AP2Y',\n",
    "    ['variable', 'value', 'date', 'freq']\n",
    "].rename(\n",
    "    columns={'variable': 'code'}\n",
    ")\n",
    "\n",
    "vacancies_by_date.to_csv('../../data/vacancies/vacancies_by_date.csv', index=False)"
   ]
  },
  {
   "cell_type": "code",
   "execution_count": null,
   "id": "bc88e01c",
   "metadata": {
    "papermill": {
     "duration": 0.001163,
     "end_time": "2025-02-18T08:26:00.145832",
     "exception": false,
     "start_time": "2025-02-18T08:26:00.144669",
     "status": "completed"
    },
    "tags": []
   },
   "outputs": [],
   "source": []
  }
 ],
 "metadata": {
  "kernelspec": {
   "display_name": "yff-data-ansOWYcy",
   "language": "python",
   "name": "python3"
  },
  "language_info": {
   "codemirror_mode": {
    "name": "ipython",
    "version": 3
   },
   "file_extension": ".py",
   "mimetype": "text/x-python",
   "name": "python",
   "nbconvert_exporter": "python",
   "pygments_lexer": "ipython3",
   "version": "3.10.16"
  },
  "papermill": {
   "default_parameters": {},
   "duration": 1.80888,
   "end_time": "2025-02-18T08:26:00.362079",
   "environment_variables": {},
   "exception": null,
   "input_path": "transform.ipynb",
   "output_path": "../../working/output/vacancies-transform.ipynb",
   "parameters": {},
   "start_time": "2025-02-18T08:25:58.553199",
   "version": "2.5.0"
  }
 },
 "nbformat": 4,
 "nbformat_minor": 5
}